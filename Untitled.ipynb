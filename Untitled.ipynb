{
 "cells": [
  {
   "cell_type": "code",
   "execution_count": 1,
   "id": "aa1b7d34-f3f2-4db7-8757-47fb9e990dac",
   "metadata": {},
   "outputs": [],
   "source": [
    "import flow"
   ]
  },
  {
   "cell_type": "code",
   "execution_count": 2,
   "id": "024f3380-fe85-4f0f-8264-e0e2c840de51",
   "metadata": {},
   "outputs": [
    {
     "data": {
      "text/plain": [
       "5"
      ]
     },
     "execution_count": 2,
     "metadata": {},
     "output_type": "execute_result"
    }
   ],
   "source": [
    "flow.add(2,3)"
   ]
  },
  {
   "cell_type": "code",
   "execution_count": 3,
   "id": "9ace18aa-0c7e-48ad-b250-8392bad315ed",
   "metadata": {},
   "outputs": [
    {
     "name": "stdout",
     "output_type": "stream",
     "text": [
      "Help on function add in module flow.sample:\n",
      "\n",
      "add(x: float, y: float) -> float\n",
      "    Return the sum of x and y.\n",
      "    \n",
      "    :param x:                       float value\n",
      "    :type x:                        float value\n",
      "    \n",
      "    :param y:                       float value\n",
      "    :type y:                        float value\n",
      "    \n",
      "    :return:                        sum of x and y as a float\n",
      "\n"
     ]
    }
   ],
   "source": [
    "help(flow.add)"
   ]
  }
 ],
 "metadata": {
  "kernelspec": {
   "display_name": "py3.9.4_flow",
   "language": "python",
   "name": "py3.9.4_flow"
  },
  "language_info": {
   "codemirror_mode": {
    "name": "ipython",
    "version": 3
   },
   "file_extension": ".py",
   "mimetype": "text/x-python",
   "name": "python",
   "nbconvert_exporter": "python",
   "pygments_lexer": "ipython3",
   "version": "3.9.4"
  }
 },
 "nbformat": 4,
 "nbformat_minor": 5
}

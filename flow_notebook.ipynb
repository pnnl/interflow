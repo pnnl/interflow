{
 "cells": [
  {
   "cell_type": "markdown",
   "id": "2a14df23-b5b2-4b15-afbf-a1a0c7a29552",
   "metadata": {},
   "source": [
    "# Welcome to Flow!"
   ]
  },
  {
   "cell_type": "code",
   "execution_count": 18,
   "id": "69cc54be-6a46-4bd2-8e67-65573815a90f",
   "metadata": {
    "tags": []
   },
   "outputs": [
    {
     "data": {
      "text/plain": [
       "['miningtotal', 'residentialtotal', 'commercialtotal', 'industrialtotal']"
      ]
     },
     "execution_count": 18,
     "metadata": {},
     "output_type": "execute_result"
    }
   ],
   "source": [
    "import pandas as pd\n",
    "import numpy as np\n",
    "import matplotlib as plt\n",
    "import flow\n",
    "#pd.set_option('display.max_rows', None)\n",
    "\n",
    "x = flow.get_sectoral_water_discharge_parameters()\n",
    "y = flow.get_sectoral_water_consumption_parameters()\n",
    "#x = flow.construct_nested_dictionary(df)\n",
    "#d = flow.configure_data()\n",
    "#df = flow.calc_electricity_energy_discharge(data=d)\n",
    "#df\n",
    "\n",
    "#df = flow.calc_sectoral_use_energy_discharge(data=flow.configure_data(), parameters = flow.get_sectoral_efficiency_parameters(), total=True)\n",
    "#for col in df.columns:\n",
    "#    print(col)\n",
    "(x[x.columns[0]] + x[x.columns[1]]).drop_duplicates().to_list()"
   ]
  },
  {
   "cell_type": "code",
   "execution_count": null,
   "id": "4ea7fd6d-236c-40d6-b934-8c53e1cb5a7a",
   "metadata": {},
   "outputs": [],
   "source": []
  },
  {
   "cell_type": "code",
   "execution_count": 2,
   "id": "8841ce4e-669b-4674-80b7-ffe68ff672bb",
   "metadata": {},
   "outputs": [
    {
     "data": {
      "text/plain": [
       "FIPS                                    0100101003010050100701009010110101301015010170...\n",
       "State                                   ALALALALALALALALALALALALALALALALALALALALALALAL...\n",
       "County                                  Autauga CountyBaldwin CountyBarbour CountyBibb...\n",
       "ec_consumption_to_eg_generation_bbtu                                          1776580.364\n",
       "eg_generation_to_re_bbtu                                                   1126114.391136\n",
       "eg_generation_to_es_bbtu                                                    650465.972864\n",
       "dtype: object"
      ]
     },
     "execution_count": 2,
     "metadata": {},
     "output_type": "execute_result"
    }
   ],
   "source": [
    "df.sum()"
   ]
  },
  {
   "cell_type": "code",
   "execution_count": 4,
   "id": "1d8062b1-8aaf-46c3-83ae-ea0f689041f5",
   "metadata": {},
   "outputs": [
    {
     "data": {
      "text/html": [
       "<div>\n",
       "<style scoped>\n",
       "    .dataframe tbody tr th:only-of-type {\n",
       "        vertical-align: middle;\n",
       "    }\n",
       "\n",
       "    .dataframe tbody tr th {\n",
       "        vertical-align: top;\n",
       "    }\n",
       "\n",
       "    .dataframe thead th {\n",
       "        text-align: right;\n",
       "    }\n",
       "</style>\n",
       "<table border=\"1\" class=\"dataframe\">\n",
       "  <thead>\n",
       "    <tr style=\"text-align: right;\">\n",
       "      <th></th>\n",
       "      <th>fuel_type</th>\n",
       "      <th>sub-fuel</th>\n",
       "      <th>value</th>\n",
       "    </tr>\n",
       "  </thead>\n",
       "  <tbody>\n",
       "    <tr>\n",
       "      <th>0</th>\n",
       "      <td>biomass</td>\n",
       "      <td>total</td>\n",
       "      <td>0.3</td>\n",
       "    </tr>\n",
       "    <tr>\n",
       "      <th>1</th>\n",
       "      <td>coal</td>\n",
       "      <td>total</td>\n",
       "      <td>0.3</td>\n",
       "    </tr>\n",
       "    <tr>\n",
       "      <th>2</th>\n",
       "      <td>geothermal</td>\n",
       "      <td>total</td>\n",
       "      <td>0.3</td>\n",
       "    </tr>\n",
       "    <tr>\n",
       "      <th>3</th>\n",
       "      <td>hydro</td>\n",
       "      <td>total</td>\n",
       "      <td>0.3</td>\n",
       "    </tr>\n",
       "    <tr>\n",
       "      <th>4</th>\n",
       "      <td>natgas</td>\n",
       "      <td>total</td>\n",
       "      <td>0.3</td>\n",
       "    </tr>\n",
       "    <tr>\n",
       "      <th>5</th>\n",
       "      <td>nuclear</td>\n",
       "      <td>total</td>\n",
       "      <td>0.3</td>\n",
       "    </tr>\n",
       "    <tr>\n",
       "      <th>6</th>\n",
       "      <td>oil</td>\n",
       "      <td>total</td>\n",
       "      <td>0.3</td>\n",
       "    </tr>\n",
       "    <tr>\n",
       "      <th>7</th>\n",
       "      <td>other</td>\n",
       "      <td>total</td>\n",
       "      <td>0.3</td>\n",
       "    </tr>\n",
       "    <tr>\n",
       "      <th>8</th>\n",
       "      <td>solar</td>\n",
       "      <td>total</td>\n",
       "      <td>0.3</td>\n",
       "    </tr>\n",
       "    <tr>\n",
       "      <th>9</th>\n",
       "      <td>wind</td>\n",
       "      <td>total</td>\n",
       "      <td>0.3</td>\n",
       "    </tr>\n",
       "  </tbody>\n",
       "</table>\n",
       "</div>"
      ],
      "text/plain": [
       "    fuel_type sub-fuel  value\n",
       "0     biomass    total    0.3\n",
       "1        coal    total    0.3\n",
       "2  geothermal    total    0.3\n",
       "3       hydro    total    0.3\n",
       "4      natgas    total    0.3\n",
       "5     nuclear    total    0.3\n",
       "6         oil    total    0.3\n",
       "7       other    total    0.3\n",
       "8       solar    total    0.3\n",
       "9        wind    total    0.3"
      ]
     },
     "execution_count": 4,
     "metadata": {},
     "output_type": "execute_result"
    }
   ],
   "source": [
    "fail_parameter_data = flow.get_electricity_generation_efficiency_parameters()\n",
    "fail_parameter_data = fail_parameter_data.drop(fail_parameter_data.columns[2], axis=1)\n",
    "fail_parameter_data"
   ]
  },
  {
   "cell_type": "code",
   "execution_count": null,
   "id": "d2172fd4-3821-4e1a-8b0c-543f2d81b16f",
   "metadata": {},
   "outputs": [],
   "source": [
    "parameters = flow.get_electricity_generation_efficiency_parameters()\n",
    "test_dict = flow.construct_nested_dictionary(parameters)\n",
    "test_fuel_type = list(test_dict.keys())[0]\n",
    "test_sub_fuel_type = list(test_dict[test_fuel_type].keys())[0]\n",
    "\n",
    "test_sub_fuel_type"
   ]
  },
  {
   "cell_type": "code",
   "execution_count": null,
   "id": "a7f1acb5-2809-473e-a7a7-26f4aa76c489",
   "metadata": {},
   "outputs": [],
   "source": [
    "#df = flow.calc_electricity_energy_discharge(data=d, total=True)\n",
    "df['eg_generation_biomass_to_es_bbtu'][4]"
   ]
  },
  {
   "cell_type": "code",
   "execution_count": null,
   "id": "b9f479ff-493c-44f5-9ac7-f2727103a49d",
   "metadata": {},
   "outputs": [],
   "source": [
    "df.sum()"
   ]
  },
  {
   "cell_type": "code",
   "execution_count": null,
   "id": "8d3ba043-8ad3-4207-8448-93ce9869b21d",
   "metadata": {},
   "outputs": [],
   "source": [
    "df = flow.get_electricity_generation_efficiency_parameters()\n",
    "x = flow.construct_nested_dictionary(df)\n",
    "\n",
    "x['biomass']['total']['efficiency']"
   ]
  },
  {
   "cell_type": "code",
   "execution_count": null,
   "id": "59ab63f6-f156-467e-baa3-437fa0966409",
   "metadata": {},
   "outputs": [],
   "source": [
    "efficiency_dict = {'biomass':{'total'}, 'coal':{'total'}, 'geothermal':{'total'}, 'hydro':{'total'}, 'natgas':{'total'}, 'nuclear':{'total'},\n",
    "                       'oil':{'total'}, 'other':{'total'}, 'solar':{'total'}, 'wind':{'total'}}\n",
    "efficiency_dict"
   ]
  },
  {
   "cell_type": "code",
   "execution_count": null,
   "id": "17f6396a-399e-490a-bf5c-ac2bb8f67850",
   "metadata": {},
   "outputs": [],
   "source": [
    "d = df.groupby(group1).apply(lambda x: dict(zip(x[parameter])))"
   ]
  },
  {
   "cell_type": "code",
   "execution_count": null,
   "id": "4336064c-06d4-42ec-97a2-bce14a3f36a6",
   "metadata": {},
   "outputs": [],
   "source": [
    "group1 = df.columns[0]\n",
    "group2 = df.columns[1]\n",
    "group3 = df.columns[2]\n",
    "group4 = df.columns[3]\n",
    "parameter = df.columns[-2]\n",
    "value = df.columns[-1]\n",
    "\n",
    "\n",
    "d = df.groupby(group1).apply(lambda x: dict(zip(x[parameter], x[value])))\n",
    "d = d.to_dict()\n",
    "d\n"
   ]
  },
  {
   "cell_type": "code",
   "execution_count": null,
   "id": "2832fec1-f381-47a9-9cd7-35af38958799",
   "metadata": {},
   "outputs": [],
   "source": [
    "d = df.groupby(group1).apply(lambda a: dict(a.groupby(group2).apply(lambda b: dict(b.groupby(group3).apply(\n",
    "            lambda b: dict(b.groupby(group4).apply(lambda x: dict(zip(x[parameter], x[value])))))))))"
   ]
  },
  {
   "cell_type": "code",
   "execution_count": null,
   "id": "fb0432fc-7921-4adc-a3df-d3e992adf5ef",
   "metadata": {},
   "outputs": [],
   "source": [
    "main_grouper = df.columns[0]\n",
    "nest_list = df.columns[1:].to_list()\n",
    "second_list =  df.columns[2:]\n",
    "sub_nest_grouper = nest_list[0]"
   ]
  },
  {
   "cell_type": "code",
   "execution_count": null,
   "id": "efa91fc4-f962-40bd-b816-7742e2f0d641",
   "metadata": {},
   "outputs": [],
   "source": [
    "fuel_dict = df.groupby(main_grouper)[nest_list].apply(lambda x: x.set_index([nest_list]).to_dict(orient='index')).to_dict()\n",
    "fuel_dict"
   ]
  },
  {
   "cell_type": "code",
   "execution_count": null,
   "id": "60109bc8-2ca7-4208-a5ff-4fe1fe68a591",
   "metadata": {},
   "outputs": [],
   "source": [
    "for item in res:\n",
    "    print(res['biomass'])\n",
    "    "
   ]
  },
  {
   "cell_type": "code",
   "execution_count": null,
   "id": "4677d33e-ba49-440f-8903-b84368552e8a",
   "metadata": {},
   "outputs": [],
   "source": [
    "numerics = ['int16', 'int32', 'int64', 'float16', 'float32', 'float64']\n",
    "numeric_list = data.select_dtypes(include=numerics).columns.tolist()\n",
    "record_list = []\n",
    "for column in numeric_list:\n",
    "    x = data.columns.get_loc(column)\n",
    "    record_list.append(x)\n",
    "length = min(record_list)\n",
    "\n",
    "\n",
    "main_grouper = data.columns[0]\n",
    "nest_list = data.columns[1:].to_list()\n",
    "sub_nest_grouper = nest_list[0]\n",
    "fuel_dict = data.groupby(main_grouper)[nest_list].apply(lambda x: x.set_index(sub_nest_grouper).to_dict(orient='index')).to_dict()\n",
    "fuel_dict"
   ]
  },
  {
   "cell_type": "code",
   "execution_count": null,
   "id": "a0c1165f-af68-4033-91c9-ab82fccdbda8",
   "metadata": {},
   "outputs": [],
   "source": [
    "main_grouper = data.columns[1]\n",
    "nest_list = data.columns[1:].to_list()\n",
    "sub_nest_grouper = nest_list[0]\n",
    "\n",
    "    # no sub-fuel types\n",
    "main_type_unique = data[main_grouper].is_unique\n",
    "sub_type_unique = data[sub_nest_grouper].is_unique\n",
    "\n",
    "if main_type_unique and sub_type_unique:\n",
    "    fuel_dict = data.set_index(main_grouper).to_dict(orient='index')\n",
    "elif not main_type_unique and not sub_type_unique:\n",
    "\n",
    "    fuel_dict = data.groupby(main_grouper)[nest_list].apply(lambda x: x.set_index(sub_nest_grouper).to_dict(orient='index')).to_dict()\n",
    "else:\n",
    "    pass\n",
    "\n",
    "fuel_dict"
   ]
  },
  {
   "cell_type": "code",
   "execution_count": null,
   "id": "c583dc07-dc26-4a7a-9517-c142ef251c8c",
   "metadata": {},
   "outputs": [],
   "source": [
    "#data.apply(lambda x: x.set_index('fuel_types').to_dict(orient='index'))\n",
    "nest_list = data.columns[2:].to_list()\n",
    "fuel_dict = data.groupby('fuel_type')#[nest_list].apply(lambda x: x.set_index('fuel_type').to_dict(orient='index')).to_dict()\n",
    "fuel_dict = data.set_index('fuel_type').to_dict(orient='index')\n",
    "fuel_dict"
   ]
  },
  {
   "cell_type": "code",
   "execution_count": null,
   "id": "8ee6d0fc-2896-4a7f-a1b2-f91450f9082a",
   "metadata": {},
   "outputs": [],
   "source": [
    "data.head()\n",
    "d = flow.construct_dictionary(data)\n",
    "d"
   ]
  },
  {
   "cell_type": "code",
   "execution_count": null,
   "id": "34e4431e-085c-41c8-b4e2-0ccc668b256c",
   "metadata": {},
   "outputs": [],
   "source": [
    "df.columns[1]\n",
    "nest_list = df.columns[2:].to_list()\n",
    "nest_list[0]"
   ]
  },
  {
   "cell_type": "code",
   "execution_count": null,
   "id": "9f7264c4-b0a6-449b-b0fe-88ab481981b6",
   "metadata": {},
   "outputs": [],
   "source": [
    "my_dict = {1:{'name':'x', 'age':24}, 2:{'name':'y', 'age':21}, 3:{'name':'z', 'age':25}}\n",
    "\n",
    "#my_dict\n",
    "#def count(d):\n",
    "#    return max(count(v) if isinstance(v,dict) else 0 for v in d.values()) + 1\n",
    "\n",
    "#print(count(my_dict))"
   ]
  },
  {
   "cell_type": "code",
   "execution_count": null,
   "id": "0d9c7e14-fe49-4d2e-9da6-1c1194d69f1f",
   "metadata": {},
   "outputs": [],
   "source": [
    "    nested_dict = df.groupby(main_grouper)[nest_list].apply(lambda x: x.set_index(sub_nest_grouper).to_dict(orient='index')).to_dict()\n"
   ]
  },
  {
   "cell_type": "code",
   "execution_count": null,
   "id": "a9ba4c80-9f14-4ae0-ad54-27062868798d",
   "metadata": {},
   "outputs": [],
   "source": [
    "import flow"
   ]
  },
  {
   "cell_type": "code",
   "execution_count": null,
   "id": "9889b2ea-cad5-456e-ad14-7bff4bedeeb6",
   "metadata": {},
   "outputs": [],
   "source": [
    "x = fresh_groundwater_coal_generation_mgd + fresh_surfacewater_coal_generation_mgd + fresh_wastewater_coal_generation_mgd + saline_groundwater_coal_generation_mgd + saline_surfacewater_coal_generation_mgd\n",
    "x\n",
    "z = coal_generation_surface_discharge_mgd + coal_generation_ocean_discharge_mgd\n",
    "x - coal_generation_consumption_mgd "
   ]
  },
  {
   "cell_type": "code",
   "execution_count": null,
   "id": "5196ac0a-6d13-43fe-8368-d5ca603e2694",
   "metadata": {},
   "outputs": [],
   "source": [
    "z"
   ]
  },
  {
   "cell_type": "code",
   "execution_count": null,
   "id": "84bf2c08-5096-46c7-9509-c68d336e0b8a",
   "metadata": {},
   "outputs": [],
   "source": [
    "df = df.groupby('fuel_type')[['sub_fuel','fuel_efficiency','parameter2']].apply(lambda x: x.set_index('sub_fuel').to_dict(orient='index')).to_dict()\n",
    "df"
   ]
  },
  {
   "cell_type": "code",
   "execution_count": null,
   "id": "feeaa715-f555-4071-8d3f-b8792fec5ae6",
   "metadata": {},
   "outputs": [],
   "source": [
    "round(df).sum()"
   ]
  },
  {
   "cell_type": "code",
   "execution_count": null,
   "id": "e99f297a-5597-42e8-af6e-51bf5fa4c4ef",
   "metadata": {},
   "outputs": [],
   "source": [
    "54+45"
   ]
  },
  {
   "cell_type": "code",
   "execution_count": null,
   "id": "34cb526e-9c1b-4689-8b7c-6e4614801cc9",
   "metadata": {},
   "outputs": [],
   "source": [
    "for col in df.columns:\n",
    "    print(col)"
   ]
  },
  {
   "cell_type": "code",
   "execution_count": null,
   "id": "7e804214-e138-4ea2-8e0e-f187050885d9",
   "metadata": {},
   "outputs": [],
   "source": []
  },
  {
   "cell_type": "code",
   "execution_count": null,
   "id": "b11082b6-6e1a-4608-a6a5-4833f050f692",
   "metadata": {},
   "outputs": [],
   "source": [
    "for col in df.columns:\n",
    "    print(col)"
   ]
  },
  {
   "cell_type": "code",
   "execution_count": null,
   "id": "169e6c89-c828-4f9a-b330-3c3b39c94075",
   "metadata": {},
   "outputs": [],
   "source": [
    "48384*0.00016149393844372542"
   ]
  },
  {
   "cell_type": "code",
   "execution_count": null,
   "id": "868b7027-5b25-44f6-9c8c-51b1ac5daf6b",
   "metadata": {},
   "outputs": [],
   "source": [
    "df.sum()"
   ]
  },
  {
   "cell_type": "code",
   "execution_count": null,
   "id": "b171e1f8-afe4-4ac9-af9a-6de7010f255d",
   "metadata": {},
   "outputs": [],
   "source": [
    "\n",
    "df['total_water'] = df['fresh_surfacewater_natgas_unconventional_mgd'] + df['fresh_groundwater_natgas_unconventional_mgd']\n",
    "df['intensity'] = np.where(df['natgas_unconventional_production_bbtu']>0, df['total_water']/(df['natgas_unconventional_production_bbtu']/365), 0)\n",
    "df['sw_pct'] = np.where( df['total_water']>0, df['fresh_surfacewater_natgas_unconventional_mgd']/df['total_water'], 0)\n",
    "df['gw_pct'] = np.where( df['total_water']>0, df['fresh_groundwater_natgas_unconventional_mgd']/df['total_water'], 0)\n",
    "\n",
    "df.groupby(\"State\", as_index=False).sum()\n",
    "x = df['intensity'].mean()\n",
    "x"
   ]
  },
  {
   "cell_type": "code",
   "execution_count": null,
   "id": "d65284d3-fcb5-4873-9176-981dc59a1809",
   "metadata": {},
   "outputs": [],
   "source": [
    "\n",
    "# initialize data of lists.\n",
    "d_list = {'Name':['Tom', 'Tom','nick', 'krish', 'jack'],\n",
    "        'Age':[20, 22, 21, 19, 18],\n",
    "         'height':[20,21, 21, 19, 18]}\n",
    " \n",
    "# Create DataFrame\n",
    "d_list = pd.DataFrame(d_list)\n",
    "d_list.head()\n",
    "\n",
    "d_list = d_list.groupby('Name').apply(lambda x: x.set_index('Age').to_dict(orient='index')).to_dict()\n",
    "d_list"
   ]
  },
  {
   "cell_type": "code",
   "execution_count": null,
   "id": "6cfce2e4-4bed-440c-a786-d9899d2a86a9",
   "metadata": {},
   "outputs": [],
   "source": [
    "df3 = pd.DataFrame([\n",
    "           ['A', 123, 1], \n",
    "           ['B', 345, 5], \n",
    "           ['C', 712, 4],\n",
    "           ['B', 768, 2], \n",
    "           ['B', 768, 3], \n",
    "           ['A', 123, 9], \n",
    "           ['C', 178, 6], \n",
    "           ['C', 178, 5],  \n",
    "           ['A', 321, 3]])\n",
    "\n",
    "d = {k: f.groupby('subgroup')['selectedCol'].apply(list).to_dict()\n",
    "     for k, f in df.groupby('maingroup')}\n",
    "d"
   ]
  },
  {
   "cell_type": "code",
   "execution_count": null,
   "id": "d65cf390-29dc-4b44-a2d3-eae50744a898",
   "metadata": {},
   "outputs": [],
   "source": [
    "for col in df.columns:\n",
    "    print(col)"
   ]
  },
  {
   "cell_type": "code",
   "execution_count": null,
   "id": "4dc21b79-92d5-4ade-961c-28fc6bb823ce",
   "metadata": {},
   "outputs": [],
   "source": [
    "df = data.copy()"
   ]
  },
  {
   "cell_type": "code",
   "execution_count": null,
   "id": "cea9d682-82e0-48db-b892-2bb2742967b3",
   "metadata": {},
   "outputs": [],
   "source": [
    "# def calc_coal_production_water_use(data: pd.DataFrame, mine_types = None, water_types=None, discharge_types = None,\n",
    "#                                   regions=3, total=False):\n",
    "#    \"\"\"calculates total water use in hydroelectric generation by region.\n",
    "#\n",
    "#        Water use is determined by applying hydropower water intensity rates (mg/bbtu) to daily hydropower generation\n",
    "#        (bbtu) to get mgd in each region. Water use can be interpreted as the amount of water that passes through\n",
    "#        the hydropower facility on a daily basis, based on average power generation per day. If region-level hydropower\n",
    "#        water intensity rates are not available, an intensity assumption is applied to all hydropower generation.\n",
    "#        Surface discharge from hydropower is also calculated. This is assumed to be equal to water use in hydropower.\n",
    "#        No water is assumed to be consumed or evaporated given that the water included in this calculation only\n",
    "#        includes water that instantaneously passes through the hydropower facility and is immediately discharged back\n",
    "#        to the surface water source.\n",
    "#\n",
    "#        :param data:                        DataFrame of input data\n",
    "#        :type data:                         DataFrame\n",
    "#\n",
    "#        :param hydro_water_intensity:       The assumed million gallons required to get a billion btu from hydropower\n",
    "#        :type hydro_water_intensity:        flt\n",
    "#\n",
    "#        :param regions:                     gives the number of columns in the dataset that should be treated as region\n",
    "#                                            identifiers (e.g. \"Country\", \"State\"). Reads from the first column in the\n",
    "#                                            dataframe onwards.\n",
    "#        :type regions:                      int\n",
    "#\n",
    "#        :return:                            DataFrame of total water use by hydropower generation (mgd) and hydropower\n",
    "#                                            discharge to surface waters (mgd) by region.\n",
    "#\n",
    "#        \"\"\"\n",
    "#\n",
    "#    if mine_types is None:\n",
    "#        mine_type_dict = {'surface': 0.000007, 'ground': 0.000029}\n",
    "#    else:\n",
    "#        mine_type_dict = mine_types\n",
    "#\n",
    "#    if water_types is None:\n",
    "#        water_type_dict = {'fresh': {'surfacewater': {'flow_fraction': .5, 'consumption_fraction': .5},\n",
    "#                                    'groundwater': {'flow_fraction': .5, 'consumption_fraction': .5}},\n",
    "#                           'saline': {'surfacewater': {'flow_fraction': .5, 'consumption_fraction': .5},\n",
    "#                                    'groundwater': {'flow_fraction': .5, 'consumption_fraction': .5}}}\n",
    "#    else:\n",
    "#        water_type_dict = water_types\n",
    "#\n",
    "#    if discharge_types is None:\n",
    "#        discharge_type_dict = {'surface': 1}\n",
    "#    else:\n",
    "#        discharge_type_dict = discharge_types\n",
    "#\n",
    "#    # load data\n",
    "#    df = data\n",
    "#\n",
    "#    region_list = df.columns[:regions].tolist()\n",
    "#    output_df = df[region_list].copy()\n",
    "#    total_df = df[region_list].copy()\n",
    "#\n",
    "#    for water_type in water_type_dict:\n",
    "#        for water_source in water_type_dict[water_type]:\n",
    "#            coal_water_total_name = f'{water_type}_{water_source}_coal_mgd'\n",
    "#            output_df[coal_water_total_name] = 0\n",
    "#            total_df[coal_water_total_name] = 0\n",
    "#\n",
    "#    # calculate total water to all mining (inclusive of coal)\n",
    "#    df['total_water_mining_mgd'] = 0\n",
    "#    for water_type in water_type_dict:\n",
    "#        for water_source in water_type_dict[water_type]:\n",
    "#            mining_water_flow_name = f'{water_type}_{water_source}_mining_mgd'\n",
    "#            if mining_water_flow_name in df.columns:\n",
    "#                df['total_water_mining_mgd'] = df['total_water_mining_mgd'] + df[mining_water_flow_name]\n",
    "#            else:\n",
    "#                pass\n",
    "#\n",
    "#    # calculate percent of total mining flows by water type and water source\n",
    "#    for water_type in water_type_dict:\n",
    "#        for water_source in water_type_dict[water_type]:\n",
    "#\n",
    "#            mining_water_flow_pct_name = f'{water_type}_{water_source}_mining_pct'\n",
    "#\n",
    "#            if mining_water_flow_pct_name in df.columns: #if the percent of water flows to coal mining in data\n",
    "#                pass\n",
    "#\n",
    "#            else:  # if only water flows to all mining in data\n",
    "#                mining_water_flow_name = f'{water_type}_{water_source}_mining_mgd'\n",
    "#                if mining_water_flow_name in df.columns:  # if water type and water source to all mining in data\n",
    "#                    df[mining_water_flow_pct_name] = np.where(df['total_water_mining_mgd'] > 0,\n",
    "#                                                          (df[mining_water_flow_name] / df['total_water_mining_mgd']),\n",
    "#                                                          0)\n",
    "#                else:  # if no breakdown of water source and water type to all mining in data\n",
    "#                    df[mining_water_flow_pct_name] = water_type_dict[water_type][water_source]['flow_fraction']\n",
    "#\n",
    "#            # calculate water in coal mining for each mine type by water type and water source\n",
    "#            for mine_type in mine_type_dict:\n",
    "#                coal_shortton_name = f'{mine_type}_coal_shortton'\n",
    "#                if coal_shortton_name in df.columns:\n",
    "#                    coal_water_intensity_name = f'{mine_type}_coal_water_intensity_mg_per_shortton'\n",
    "#                    coal_water_total_name = f'{water_type}_{water_source}_coal_mgd'\n",
    "#                    if coal_water_intensity_name in df.columns:  # if regional water intensity values available\n",
    "#                        coal_water_mgd_name = f\"{water_type}_{water_source}_{mine_type}_coal_mgd\"\n",
    "#                        output_df[coal_water_mgd_name] = df[coal_water_intensity_name] \\\n",
    "#                                                         * (df[coal_shortton_name]/365) \\\n",
    "#                                                         * df[mining_water_flow_pct_name]\n",
    "#                        output_df[coal_water_total_name] = output_df[coal_water_total_name] \\\n",
    "#                                                           + output_df[coal_water_mgd_name]\n",
    "#                        total_df[coal_water_total_name] = total_df[coal_water_total_name] \\\n",
    "#                                                          + output_df[coal_water_mgd_name]\n",
    "#\n",
    "#                    else:  # if no regional water intensity available, use assumption\n",
    "#                        coal_water_mgd_name = f\"{water_type}_{water_source}_{mine_type}_coal_mgd\"\n",
    "#                        output_df[coal_water_mgd_name] = mine_type_dict[mine_type] \\\n",
    "#                                                         * (df[coal_shortton_name]/365) \\\n",
    "#                                                         * df[mining_water_flow_pct_name]\n",
    "#                        output_df[coal_water_total_name] = output_df[coal_water_total_name] \\\n",
    "#                                                           + output_df[coal_water_mgd_name]\n",
    "#                        total_df[coal_water_total_name] = total_df[coal_water_total_name] \\\n",
    "#                                                          + output_df[coal_water_mgd_name]\n",
    "#                else:  # if no coal mining available\n",
    "#                    pass\n",
    "#\n",
    "## TODO pick things up here\n",
    "#\n",
    "#            # calculate consumption of water in coal mining by water type and water source\n",
    "#\n",
    "#            # look for region- mining consumption fraction, apply it\n",
    "#\n",
    "#            # otherwise use dictionary values water_type_dict[water_type][water_source]['consumption_fraction']\n",
    "#\n",
    "#            ## look for region- mining discharge fraction, apply it\n",
    "#            # for discharge_type in discharge_type dictionary:\n",
    "#                #discharge_type_name = f'{water_type}_{water_source}_{mine_type}_{discharge_type}_discharge_mgd\n",
    "#                #discharge_pct_name = f'{water_type}_{water_source}_{mine_type}_{discharge_type}_discharge_pct\n",
    "#\n",
    "#                # if discharge_pct_name in df.columns:\n",
    "#                    # apply pct to total discharge\n",
    "#                # else:\n",
    "#                    # apply pct from dictionary\n",
    "#            #\n",
    "#\n",
    "#    # TODO add in consumption and surface discharge\n",
    "\n",
    "\n",
    "#    if total:\n",
    "#        df = total_df\n",
    "#    else:\n",
    "#        df = output_df\n",
    "#\n",
    "#    return df"
   ]
  },
  {
   "cell_type": "code",
   "execution_count": null,
   "id": "1da1bbc1-0b77-4691-870f-9d47c228f62e",
   "metadata": {},
   "outputs": [],
   "source": [
    "for mine_type in fuel_water_type_dict['coal']:\n",
    "    for water_type in fuel_water_type_dict['coal'][mine_type]:\n",
    "        print(water_type)"
   ]
  },
  {
   "cell_type": "code",
   "execution_count": null,
   "id": "3e6f0926-37e2-48a1-9b81-0af09e046919",
   "metadata": {},
   "outputs": [],
   "source": [
    "df.sum()"
   ]
  },
  {
   "cell_type": "code",
   "execution_count": null,
   "id": "0428d16d-2051-4f3c-8a90-35a577ee65b7",
   "metadata": {},
   "outputs": [],
   "source": [
    "df = flow.prep_electricity_generation()\n",
    "df"
   ]
  },
  {
   "cell_type": "code",
   "execution_count": null,
   "id": "d4222e28-9f3c-4681-8e73-cb153a6fc3f2",
   "metadata": {},
   "outputs": [],
   "source": [
    "data = flow.configure_data()\n",
    "sector_types = {'crop_irrigation': .15, 'golf_irrigation': .10}\n",
    "\n",
    "\n",
    "df=flow.calc_water_conveyance_losses(data=data, sector_types=sector_types, total=True)\n",
    "for col in df.columns:\n",
    "    print(col)"
   ]
  },
  {
   "cell_type": "code",
   "execution_count": null,
   "id": "1975c33e-494a-4e04-83fe-8cd153fcedce",
   "metadata": {},
   "outputs": [],
   "source": [
    "df = df.groupby('State', as_index=False).sum()\n",
    "df"
   ]
  },
  {
   "cell_type": "code",
   "execution_count": null,
   "id": "ed34f7ba-a1d6-40cb-bc36-b9ef5c53be0b",
   "metadata": {},
   "outputs": [],
   "source": []
  },
  {
   "cell_type": "code",
   "execution_count": null,
   "id": "9924388f-ee15-472f-8619-469e9ef75441",
   "metadata": {},
   "outputs": [],
   "source": []
  },
  {
   "cell_type": "code",
   "execution_count": null,
   "id": "c3101ab1-7cd6-4198-942f-104fcab8df48",
   "metadata": {},
   "outputs": [],
   "source": []
  },
  {
   "cell_type": "code",
   "execution_count": null,
   "id": "2a532479-d9fc-42a9-b51d-1b894352650c",
   "metadata": {},
   "outputs": [],
   "source": []
  },
  {
   "cell_type": "code",
   "execution_count": null,
   "id": "aa5b8443-1aaf-4e9a-a294-c8810d6a9004",
   "metadata": {},
   "outputs": [],
   "source": [
    "data = flow.configure_data()\n",
    "df = flow.calc_energy_agriculture(data=data, total=True)\n",
    "for col in df.columns:\n",
    "    print(col)"
   ]
  },
  {
   "cell_type": "code",
   "execution_count": null,
   "id": "fa7d37dc-fc77-49ae-a6c6-5517b007f0b4",
   "metadata": {},
   "outputs": [],
   "source": [
    "df = flow.calc_wastewater_exports(data=data)\n",
    "for col in df.columns:\n",
    "    print(col)"
   ]
  },
  {
   "cell_type": "code",
   "execution_count": null,
   "id": "d39330e9-c079-4dde-b7ea-7a540d68dbc1",
   "metadata": {},
   "outputs": [],
   "source": [
    "df.to_csv(r'C:\\Users\\mong275\\Local Files\\Sankey_Notebook_Development\\SankeyFiles\\water_hydro.csv')"
   ]
  },
  {
   "cell_type": "code",
   "execution_count": null,
   "id": "7ce0a8c6-6ea8-44a6-9863-b21ebfda9880",
   "metadata": {},
   "outputs": [],
   "source": [
    "name_list = ['electricity to rejected energy', 'energy discharge from sectoral use', 'energy in wastewater',\n",
    "                      'energy in agriculture', 'energy in public water supply', 'energy production exports',\n",
    "                     'water discharge from sectoral use']\n",
    "name_list.index('electricity to rejected energy')"
   ]
  },
  {
   "cell_type": "code",
   "execution_count": null,
   "id": "14b0acfd-7f0d-4426-be26-ff2ecfb09539",
   "metadata": {},
   "outputs": [],
   "source": [
    "water_discharge_dict = {'surfacewater': {'fresh': {'wastewater': 0, 'ocean': 0, 'surface': 1},\n",
    "                                        'saline': {'wastewater': 0, 'ocean': 1, 'surface': 0}},\n",
    "                        'groundwater': {'fresh': {'wastewater': 0, 'ocean': 0, 'surface': 1},\n",
    "                                        'saline': {'wastewater': 0, 'ocean': 1, 'surface': 0}},\n",
    "                                'pws': {'fresh': {'wastewater': 1, 'ocean': 0, 'surface': 0}}\n",
    "                             }"
   ]
  },
  {
   "cell_type": "code",
   "execution_count": null,
   "id": "b74a4c93-a511-40a3-b018-58cfcf88db8e",
   "metadata": {},
   "outputs": [],
   "source": [
    "sector_consumption_dict = {'residential': {'groundwater': {'saline': 0, 'fresh': .3},\n",
    "                                                   'surfacewater': {'saline': 0, 'fresh': .3},\n",
    "                                                   'pws': {'fresh': .3}},\n",
    "                            'commercial': {'groundwater': {'saline': 0, 'fresh': .15},\n",
    "                                           'surfacewater': {'saline': 0, 'fresh': .15},\n",
    "                                           'pws': {'fresh': .15}},\n",
    "                            'industrial':{'groundwater': {'saline': .003, 'fresh': .15},\n",
    "                                          'surfacewater': {'saline': .003, 'fresh': .15},\n",
    "                                          'pws': {'fresh': .15}},\n",
    "                            'mining': {'groundwater': {'saline': .03, 'fresh': .15},\n",
    "                                       'surfacewater': {'saline': .03, 'fresh': .15}},\n",
    "                            'crop_irrigation': {'groundwater': {'saline': 0, 'fresh': .3},\n",
    "                                                'surfacewater': {'saline': 0, 'fresh': .3}},\n",
    "                            'livestock':  {'groundwater': {'saline': 0, 'fresh': .87},\n",
    "                                           'surfacewater': {'saline': 0, 'fresh': .87}},\n",
    "                            'aquaculture': {'groundwater': {'saline': 0, 'fresh': .5},\n",
    "                                            'surfacewater': {'saline': 0, 'fresh': .5}}}"
   ]
  },
  {
   "cell_type": "code",
   "execution_count": null,
   "id": "4dfcc665-51c5-4046-91de-27ed64f8eb09",
   "metadata": {},
   "outputs": [],
   "source": [
    "df = data.copy()"
   ]
  },
  {
   "cell_type": "code",
   "execution_count": null,
   "id": "64d32f9e-90d6-41fe-b7b8-e1e9f94e61b5",
   "metadata": {},
   "outputs": [],
   "source": [
    "saline_groundwater_industrial_mgd                                                                   42.9\n",
    "saline_surfacewater_industrial_mgd                                                                742.92"
   ]
  },
  {
   "cell_type": "code",
   "execution_count": null,
   "id": "26ea605e-0e04-405f-8a54-e952d48b3919",
   "metadata": {},
   "outputs": [],
   "source": [
    "df = flow.calc_sectoral_use_water_discharge(data=data, total=True)"
   ]
  },
  {
   "cell_type": "code",
   "execution_count": null,
   "id": "8345b177-5e44-4ea9-9441-46d172680a3c",
   "metadata": {},
   "outputs": [],
   "source": [
    "x=16987.779934 +  6225.87913 + 4263.081345\n",
    "x"
   ]
  },
  {
   "cell_type": "code",
   "execution_count": null,
   "id": "b033a0ce-4937-4183-b87e-c1b4dcc0e61c",
   "metadata": {},
   "outputs": [],
   "source": [
    "df1=flow.calc_sectoral_use_water_discharge(data=data, total=True)\n",
    "df1 = df1[['FIPS', 'residential_wastewater_discharge_mgd', 'commercial_wastewater_discharge_mgd', 'industrial_wastewater_discharge_mgd']]"
   ]
  },
  {
   "cell_type": "code",
   "execution_count": null,
   "id": "164a8884-a2f8-40f2-b46b-c60901c332b0",
   "metadata": {},
   "outputs": [],
   "source": [
    "df2 = flow.prep_wastewater_data()\n",
    "df2 = df2[['FIPS', 'State', 'County', 'municipal_wastewater_mgd', 'infiltration_wastewater_mgd']]"
   ]
  },
  {
   "cell_type": "code",
   "execution_count": null,
   "id": "9685c9bb-02dc-4a46-8f20-89072d4434a1",
   "metadata": {},
   "outputs": [],
   "source": [
    "df3 = pd.merge(df2, df1, how='left')\n",
    "df3['sector_total'] = (df3['residential_wastewater_discharge_mgd'] \n",
    "                                                 + df3['commercial_wastewater_discharge_mgd'] \n",
    "                                                 + df3['industrial_wastewater_discharge_mgd'])\n",
    "df3['diff'] = df3['municipal_wastewater_mgd'] - df3['sector_total']\n",
    "df3.sum()"
   ]
  },
  {
   "cell_type": "code",
   "execution_count": null,
   "id": "335c2db6-d650-41aa-b8d2-f65c4134e2b2",
   "metadata": {},
   "outputs": [],
   "source": [
    "df = pd.DataFrame()\n",
    "df_sector_discharge = flow.calc_sectoral_use_water_discharge(data=data, total=True)\n",
    "df_sector_discharge = df_sector_discharge[['FIPS', 'State', 'County',\n",
    "                                              'residential_wastewater_discharge_mgd',\n",
    "                                              'commercial_wastewater_discharge_mgd',\n",
    "                                              'industrial_wastewater_discharge_mgd']]\n",
    "\n",
    "\n",
    "\n",
    "df['total_wastewater_discharge'] = df_sector_discharge[['residential_wastewater_discharge_mgd',\n",
    "                                              'commercial_wastewater_discharge_mgd',\n",
    "                                              'industrial_wastewater_discharge_mgd']].sum(axis=1)\n",
    "\n",
    "df['wastewater_exports_mgd'] = data['municipal_wastewater_mgd'] - df['total_wastewater_discharge']\n",
    "df"
   ]
  },
  {
   "cell_type": "code",
   "execution_count": null,
   "id": "2d47c52a-7580-4cd7-af84-c1e8efc27966",
   "metadata": {},
   "outputs": [],
   "source": [
    "df1 = flow.calc_electricity_rejected_energy(data=data)\n",
    "df2 = flow.calc_sectoral_use_energy_discharge(data=data)\n",
    "df3 = flow.calc_energy_wastewater(data=data)\n",
    "df4 = flow.calc_energy_agriculture(data=data)\n",
    "df5 = flow.calc_energy_pws(data=data)\n",
    "df6 = flow.calc_energy_production_exports(data=data)\n",
    "df7 = flow.calc_sectoral_use_water_discharge(data=data)\n",
    "df_list = [df1, df2, df3, df4, df5, df6, df7]\n",
    "df_list"
   ]
  },
  {
   "cell_type": "code",
   "execution_count": null,
   "id": "9488a9da-be01-4a2e-9b67-959b48bd7b23",
   "metadata": {},
   "outputs": [],
   "source": [
    "df = flow.calc_sectoral_use_water_discharge(data=data)\n",
    "for col in df.columns:\n",
    "    print(col)"
   ]
  },
  {
   "cell_type": "code",
   "execution_count": null,
   "id": "a8bc7f26-cf67-4f79-ae4c-3316246fab6a",
   "metadata": {},
   "outputs": [],
   "source": [
    "df2 = df[['residential_saline_groundwater_consumption_mgd',\n",
    "'residential_fresh_groundwater_consumption_mgd',\n",
    "'residential_saline_surfacewater_consumption_mgd',\n",
    "'residential_fresh_surfacewater_consumption_mgd',\n",
    "'residential_fresh_pws_consumption_mgd',]].sum()\n",
    "#df[['residential_fresh_pws_consumption_mgd']].sum()\n",
    "df2"
   ]
  },
  {
   "cell_type": "code",
   "execution_count": null,
   "id": "0dafd7d9-271f-476f-8537-121cff742b96",
   "metadata": {},
   "outputs": [],
   "source": [
    "x = 733+17+6309\n",
    "x"
   ]
  },
  {
   "cell_type": "code",
   "execution_count": null,
   "id": "d96276fa-a4ba-46bd-a4d4-b2a6850c947c",
   "metadata": {},
   "outputs": [],
   "source": [
    "df = flow.calc_sectoral_use_water_discharge(data=data, total=True)\n",
    "df.sum()"
   ]
  },
  {
   "cell_type": "code",
   "execution_count": null,
   "id": "8c54d191-2492-430d-9aba-c3dcd1ca212a",
   "metadata": {},
   "outputs": [],
   "source": [
    "df = flow.prep_consumption_fraction()\n",
    "df.sum()"
   ]
  },
  {
   "cell_type": "code",
   "execution_count": null,
   "id": "778b99b4-2048-4dfb-b52d-eb8d0f8d65b9",
   "metadata": {},
   "outputs": [],
   "source": [
    "df = flow.prep_water_use_2015(variables=['County','fresh_surfacewater_residential_mgd', \n",
    "                                         'fresh_groundwater_residential_mgd', 'fresh_pws_residential_mgd']).sum(axis=0)\n",
    "df"
   ]
  },
  {
   "cell_type": "code",
   "execution_count": null,
   "id": "a9b572b5-b02d-447d-8e0b-2a665017d402",
   "metadata": {},
   "outputs": [],
   "source": [
    "df = flow.calc_energy_wastewater(data=data, total=True)\n",
    "#df = df[df.State == \"TX\"]\n",
    "for col in df.columns:\n",
    "    print(col)"
   ]
  },
  {
   "cell_type": "code",
   "execution_count": null,
   "id": "4297512f-a7e6-4504-a7eb-11e353e785b8",
   "metadata": {},
   "outputs": [],
   "source": [
    "total_df"
   ]
  },
  {
   "cell_type": "code",
   "execution_count": null,
   "id": "50f66888-6e05-4a57-a0fd-1866836baa09",
   "metadata": {},
   "outputs": [],
   "source": [
    "#test_dict.update({'test_zero':x})\n",
    "test_dict\n",
    "rejected_energy_total = pd.DataFrame.from_dict(test_dict, orient='index').transpose().sum(axis=1)\n",
    "rejected_energy_total\n",
    "\n"
   ]
  },
  {
   "cell_type": "code",
   "execution_count": null,
   "id": "46e307f2-af9e-4b7f-920a-fbe45fddd9b2",
   "metadata": {},
   "outputs": [],
   "source": [
    "x = np.zeros((len(df), 1))\n",
    "test_dict.update({'test_zero': x})\n",
    "test_dict['test_zero']"
   ]
  },
  {
   "cell_type": "code",
   "execution_count": null,
   "id": "244c9f33-8a2e-46a6-a3bb-420c820ae54a",
   "metadata": {},
   "outputs": [],
   "source": [
    "# Move this to top\n",
    "\n",
    "    # calculate rejected energy and energy services for each fuel, agriculture, water, and pumping type\n",
    "    for water_type in water_types_list:\n",
    "        for pumping_type in pumping_type_dict:\n",
    "            for agriculture_type in agriculture_type_list:\n",
    "                for fuel_type in fuel_type_dict:\n",
    "                    fuel_type_efficiency = 'agriculture_' + fuel_type + \"_efficiency_pct\"\n",
    "                    if f'{fuel_type}_{agriculture_type}_{water_type}_{pumping_type}_bbtu' in energy_value_dict:\n",
    "                        rejected_energy_name = f'{agriculture_type}_{water_type}_{pumping_type}_{fuel_type}_rejected_energy_bbtu'\n",
    "                        energy_services_name = f'{agriculture_type}_{water_type}_{pumping_type}_{fuel_type}_energy_services_bbtu'\n",
    "                        if fuel_type_efficiency in df.columns:\n",
    "                            #df[f'{agriculture_type}_{water_type}_{pumping_type}_{fuel_type}_rejected_energy_bbtu'] = (1 - df[fuel_type_efficiency]) \\\n",
    "                            #                                                                                         * df[f'{fuel_type}_{agriculture_type}_{water_type}_{pumping_type}_bbtu']\n",
    "                            #df[f'{agriculture_type}_{water_type}_{pumping_type}_{fuel_type}_energy_services_bbtu'] = (df[fuel_type_efficiency]) \\\n",
    "                            #                                                                                         * df[f'{fuel_type}_{agriculture_type}_{water_type}_{pumping_type}_bbtu']\n",
    "\n",
    "                            rejected_energy_value = (1 - df[fuel_type_efficiency]) * df[f'{fuel_type}_{agriculture_type}_{water_type}_{pumping_type}_bbtu']\n",
    "                            energy_services_value = (df[fuel_type_efficiency]) * df[f'{fuel_type}_{agriculture_type}_{water_type}_{pumping_type}_bbtu']\n",
    "\n",
    "                            rejected_energy_dict.update({rejected_energy_name: rejected_energy_value})\n",
    "                            energy_services_dict.update({energy_services_name: energy_services_value})\n",
    "\n",
    "                        # if there's no fuel efficiency column, use defaults\n",
    "                        else:\n",
    "                            #df[f'{agriculture_type}_{water_type}_{pumping_type}_{fuel_type}_rejected_energy_bbtu'] = (1 -fuel_type_dict[fuel_type]) \\\n",
    "                            #                                                                             * df[f'{fuel_type}_{agriculture_type}_{water_type}_{pumping_type}_bbtu']\n",
    "                            #df[f'{agriculture_type}_{water_type}_{pumping_type}_{fuel_type}_energy_services_bbtu'] = (fuel_type_dict[fuel_type]) \\\n",
    "                            #                                                                             * df[f'{fuel_type}_{agriculture_type}_{water_type}_{pumping_type}_bbtu']\n",
    "\n",
    "                            rejected_energy_value = (1 -fuel_type_dict[fuel_type]) * df[f'{fuel_type}_{agriculture_type}_{water_type}_{pumping_type}_bbtu']\n",
    "                            energy_services_value = (fuel_type_dict[fuel_type]) * df[f'{fuel_type}_{agriculture_type}_{water_type}_{pumping_type}_bbtu']\n",
    "\n",
    "                            rejected_energy_dict.update({rejected_energy_name: rejected_energy_value})\n",
    "                            energy_services_dict.update({energy_services_name: energy_services_value})\n",
    "\n",
    "                        #df[f'{agriculture_type}_total_rejected_energy_bbtu'] = df[f'{agriculture_type}_total_rejected_energy_bbtu'] + df[f'{agriculture_type}_{water_type}_{pumping_type}_{fuel_type}_rejected_energy_bbtu']\n",
    "                        #df[f'{agriculture_type}_total_energy_services_bbtu'] = df[f'{agriculture_type}_total_energy_services_bbtu'] + df[ f'{agriculture_type}_{water_type}_{pumping_type}_{fuel_type}_energy_services_bbtu']\n",
    "                    else:\n",
    "                        pass"
   ]
  },
  {
   "cell_type": "code",
   "execution_count": null,
   "id": "8dfe4d01-d88e-46ab-8d14-445ea4ca2f74",
   "metadata": {},
   "outputs": [],
   "source": [
    "df= df[df.State == \"CA\"]\n",
    "df = df['electricity_irrigation_ibt_rejected_energy_bbtu']\n",
    "df.sum()"
   ]
  },
  {
   "cell_type": "code",
   "execution_count": null,
   "id": "6affa528-8fbc-4b4a-803a-d6645e391048",
   "metadata": {},
   "outputs": [],
   "source": [
    "df = flow.calc_energy_agriculture(data=data, total=True)\n",
    "df"
   ]
  },
  {
   "cell_type": "code",
   "execution_count": null,
   "id": "f961d7bf-ac09-47fe-a82a-963cfe754492",
   "metadata": {},
   "outputs": [],
   "source": [
    "test_dict = {\"Gfg\" : [4, 7, 5]}\n",
    "  \n",
    "# printing original dictionary\n",
    "print(\"The original dictionary is : \" + str(test_dict))\n",
    "  \n",
    "# initializing K \n",
    "K = 1\n",
    "  \n",
    "# one liner, values() getting all value according to keys\n",
    "res = [sub[K] for sub in test_dict.values()]\n",
    "res"
   ]
  },
  {
   "cell_type": "code",
   "execution_count": null,
   "id": "0357f1aa-b581-434a-ba7a-5dcf3bcbd191",
   "metadata": {},
   "outputs": [],
   "source": [
    "df = flow.calc_energy_agriculture(data=data, total=True)\n",
    "df\n",
    "#df.groupby(\"State\", as_index=False).sum()"
   ]
  },
  {
   "cell_type": "code",
   "execution_count": null,
   "id": "58aca853-7514-4dfe-ad8d-e2c85e4131ee",
   "metadata": {},
   "outputs": [],
   "source": [
    "df = flow.prep_pumping_intensity_data()\n",
    "df"
   ]
  },
  {
   "cell_type": "code",
   "execution_count": null,
   "id": "ba8d2645-282d-43ee-b96f-d84d92c03ae0",
   "metadata": {},
   "outputs": [],
   "source": [
    "df = flow.prep_irrigation_fuel_data()\n",
    "df"
   ]
  },
  {
   "cell_type": "code",
   "execution_count": null,
   "id": "d3c210f3-0063-471e-a5e5-33ae92838dfb",
   "metadata": {},
   "outputs": [],
   "source": [
    "df = flow.calc_electricity_wastewater(data=data)\n",
    "df"
   ]
  },
  {
   "cell_type": "code",
   "execution_count": null,
   "id": "6f08549b-390c-49a5-9a0e-978d27b77785",
   "metadata": {},
   "outputs": [],
   "source": [
    "df = flow.calc_sectoral_use_energy_discharge(data=data, total=True)\n",
    "df"
   ]
  },
  {
   "cell_type": "code",
   "execution_count": null,
   "id": "0359af20-ef86-40dd-abf4-ecbdbf3ff2de",
   "metadata": {},
   "outputs": [],
   "source": []
  },
  {
   "cell_type": "code",
   "execution_count": null,
   "id": "03bd84e9-8d1f-48bf-8095-5bd82ad4eb0e",
   "metadata": {},
   "outputs": [],
   "source": [
    "data.to_csv(r'C:\\Users\\mong275\\Local Files\\Sankey_Notebook_Development\\SankeyFiles\\run4.csv')"
   ]
  },
  {
   "cell_type": "markdown",
   "id": "d51a9843-c524-42d0-a340-a3c256375ef4",
   "metadata": {},
   "source": [
    "To override the data inputs, flow.configure_data() can be run.\n",
    "If run with no arguments provided, this function aggregates all baseline data to calculate flow values for the united states in 2015. Parameters are set, however, such that this function can be used to swap out datafiles. \n",
    "\n",
    "For example, if alternative US county level data was available for interbasin transfer electricity use, that could be used instead of the default data."
   ]
  },
  {
   "cell_type": "code",
   "execution_count": null,
   "id": "333c4d92-c8d9-466d-b63c-29707728b717",
   "metadata": {},
   "outputs": [],
   "source": [
    "df = flow.configure_data()\n",
    "df"
   ]
  },
  {
   "cell_type": "code",
   "execution_count": null,
   "id": "d64abba6-fac3-40c0-9fb7-c6fdcc63b0b8",
   "metadata": {},
   "outputs": [],
   "source": [
    "is_NaN = data.isnull()\n",
    "row_has_NaN = is_NaN.any(axis=1)\n",
    "rows_with_NaN = data[row_has_NaN]\n",
    "rows_with_NaN"
   ]
  },
  {
   "cell_type": "code",
   "execution_count": null,
   "id": "3a9b833c-825b-435f-b2a3-014188b70440",
   "metadata": {},
   "outputs": [],
   "source": []
  },
  {
   "cell_type": "code",
   "execution_count": null,
   "id": "7a7d66f3-42c7-48cc-9e15-c2465aaba0db",
   "metadata": {},
   "outputs": [],
   "source": []
  },
  {
   "cell_type": "code",
   "execution_count": null,
   "id": "aff4de41-5d2a-4690-887f-94b2f78a9734",
   "metadata": {},
   "outputs": [],
   "source": [
    "df2.to_csv(r'C:\\Users\\mong275\\Local Files\\Sankey_Notebook_Development\\SankeyFiles\\run2.csv')"
   ]
  },
  {
   "cell_type": "markdown",
   "id": "aec10fed-bb63-424d-ad3e-9c8b264730da",
   "metadata": {},
   "source": [
    "<h1> Public Water Supply </h1>"
   ]
  },
  {
   "cell_type": "markdown",
   "id": "172c6b7e-078b-464f-a5f1-036549096658",
   "metadata": {},
   "source": [
    "## Water in Public Water Supply"
   ]
  },
  {
   "cell_type": "markdown",
   "id": "6b445803-fdd9-47b1-b804-d4a2302c8bee",
   "metadata": {},
   "source": [
    "### Public Water Supply Withdrawals\n",
    "\n",
    "The USGS 2015 dataset provides public water supply withdrawals directly under data codes 'PS-WGWFr', 'PS-WSWFr','PS-WGWSa', 'PS-WSWSa' for each county."
   ]
  },
  {
   "cell_type": "code",
   "execution_count": null,
   "id": "cb2a4933-645a-4eee-9fed-1061fa1983b7",
   "metadata": {},
   "outputs": [],
   "source": [
    "df = flow.prep_water_use_2015(variables=['State','County','PS-WGWFr', 'PS-WSWFr','PS-WGWSa', 'PS-WSWSa'])\n",
    "df.head()               "
   ]
  },
  {
   "cell_type": "markdown",
   "id": "b0d4fe24-cd10-48f3-bcd9-e1bfbdc56d4b",
   "metadata": {},
   "source": [
    "### Public Water Supply Deliveries to Sectors, Exports, and Imports\n",
    "\n",
    "The USGS 2015 dataset provide public water supply data in three categories: (1) total public water supply withdrawals, (2) public water supply deliveries to domestic end users, and (3) public water supply deliveries to thermoelectric cooling.\n",
    "\n",
    "The 1995 USGS dataset provides public water supply deliveries to domestic, industrial, commercial, thermoelectric cooling, and losses/exports separately. To estimate the deliveries to commercial and industrial customers in 2015, the ratio of each to the sum of deliveries to residential and thermoelectric cooling is calculated from the 1995 data. These ratios are applied to the 2015 residential and thermoelectric cooling public water supply delivery values. \n",
    "\n",
    "Additionally, public water suppy exports and imports are calculated. When the sum of water deliveries is greater than the water withdrawn for public water supply, the difference is considered to be imported. When water withdrawn is greater, excess water after deliveries is considered to be exported.\n",
    "\n",
    "Caveats and assumptions:\n",
    "* This methodology assumes that if no public water supply was delivered to residential or thermoelectric cooling in 1995, then deliveries to industrial and commercial sectors would likewise be zero."
   ]
  },
  {
   "cell_type": "markdown",
   "id": "7114162c-ec51-4cdd-a1d8-edfefa993c57",
   "metadata": {},
   "source": [
    "Potential mods\n",
    " for import pws counties, take 15% of withdrawals and imports as losses and add it on to the top of imports\n",
    " for export pws counties, take 15% of withdrawals as losses, take it out of exports, any remaining put as imports"
   ]
  },
  {
   "cell_type": "code",
   "execution_count": null,
   "id": "9fddacb3-69a0-4baf-9bda-19e9c214e949",
   "metadata": {},
   "outputs": [],
   "source": [
    "df = flow.calc_pws_discharge()\n",
    "df.head()"
   ]
  },
  {
   "cell_type": "markdown",
   "id": "8bceb769-cd65-4b51-bbc9-cac988d2b99e",
   "metadata": {},
   "source": [
    "## Energy in Public Water Supply"
   ]
  },
  {
   "cell_type": "markdown",
   "id": "e72dcf73-1aee-4abf-bb58-f50261f80978",
   "metadata": {},
   "source": [
    "Energy in public water supply includes\n",
    "groundwater pumping, surface water pumping, desalination (when applicable), surface water treatment, groundwater treatment, distribution, and interbasin transfers (when appropriate).\n",
    "\n",
    "An assumption is made that water that goes through desalination additionally requires surface water or groundwater treatment\n",
    "\n",
    "The same groundwater and surface water pumping intensities are used from agriculture sector.\n",
    "\n",
    "Note that interbasin transfer data that is provided to this function is already in bbtu, not in water flows. \n",
    "For non-ibt data, the option is provided for the user to use region-level energy intensity values (as in groundwater and surface water pumping). When values are not available, assumptions for each in kWh/MG are set as default values that can be overriden.\n",
    "\n",
    "intensity values are used from tidwell and LLNL"
   ]
  },
  {
   "cell_type": "code",
   "execution_count": null,
   "id": "83af7fdf-bce2-47fd-ad0d-27c9dbc1095b",
   "metadata": {},
   "outputs": [],
   "source": [
    "df = flow.calc_electricity_public_water_supply(total=True)\n",
    "df.head()"
   ]
  },
  {
   "cell_type": "markdown",
   "id": "0c74b0e6-e705-4fc3-9fb5-bea65083abe7",
   "metadata": {
    "tags": []
   },
   "source": [
    "# Wastewater Treatment\n",
    "Wastewater treatment facility data is provided by EPA for the year 2012. These values are assumed for 2015. Values are provided on a treatment plant level with data on the following variables: \n",
    "Flow:\n",
    "    * Total water flows (MGD) treated by the facility\n",
    "    * Total infiltration flows treated by the facility (leaks into pipes and conduits)\n",
    "Treatment:\n",
    "    * Treatment type of each treatment plant (primary, secondary, advanced)\n",
    "Discharge:\n",
    "    * discharge location of each plant, broken down by percent of flow to each discharge location (e.g., ocean discharge, suface discharge, irrigation reuse)\n",
    "Location:\n",
    "    * county information is included for each power plant\n",
    "    \n",
    "This data allows us to determine total water flows processed and discharged by wastewater facilities at a county level by treatment type. The treatment type allows us to calculate the electricity use by county for wastewater treatment,"
   ]
  },
  {
   "cell_type": "markdown",
   "id": "8cba44f3-f3e3-494f-ae27-1d9054b7bbe0",
   "metadata": {},
   "source": [
    "## Water in Wastewater Treatment"
   ]
  },
  {
   "cell_type": "markdown",
   "id": "5926230b-d7ee-4afe-83fe-b8c6711fc07f",
   "metadata": {},
   "source": [
    "### Water Inflows to Wastewater Treatment Facilities\n",
    "Total flows processed by wastewater treatment facilities are provided in the EPA dataset directly. However, this data will have discrepencies from the water data delivered to various sectors. To estimate water flows from residential, commercial, and industrial sectors to wastewater treatment facilities, an assumption is made that all water delivered from public water supply to these sectors is sent to wastewater treatment facilities. This assumption is also used to fill wastewater treatment flow values for regions that are unavailable in the EPA dataset. For example, south carolina does not have wastewater treatment facility values in the EPA dataset. It is assumed, therefore, that total wastewater treatment flows in south carolina and equal to the total public water supply flows for each county and is attributed to municipal discharge rather than infiltration. It is assumed that 80% of treatment flows are advanced treatment and 20% are secondary treatment. It is also assumed that all discharge is sent to surface. This follows average values for the state of North Carolina which were used as a proxy in this instance."
   ]
  },
  {
   "cell_type": "markdown",
   "id": "7598d9da-f8fd-4b96-8d52-42a88bcb4480",
   "metadata": {},
   "source": [
    "### Quantity of Wastewater Processed by Treatment Type\n",
    "Wastewater treatment plant treatment type is provided in the EPA data directly. These values are binned for simplification into no treatment, primary, secondary, and advanced treatment. When no treatment type was provided for a facility, it was assumed that they were secondary treatment facilities.\n",
    "\n",
    "To see the amount of water (MGD) processed within each county by treatment type, run the cell below."
   ]
  },
  {
   "cell_type": "code",
   "execution_count": null,
   "id": "1216fa88-6561-42a7-a8ce-80034ba58003",
   "metadata": {},
   "outputs": [],
   "source": [
    "df = flow.prep_wastewater_data()\n",
    "df.head()"
   ]
  },
  {
   "cell_type": "markdown",
   "id": "fefe0edf-638f-413c-914a-c28f695a61b9",
   "metadata": {},
   "source": [
    "### Wastewater Treatment Facility Discharge\n",
    "\n",
    "Wastewater treatment plant discharge location is provided in the EPA data directly. These values are binned for simplification into the following categories:\n",
    "\n",
    "* 'outfall to surface waters': 'ww_sd',\n",
    "* 'ocean discharge': 'ww_od',\n",
    "* 'deep well': 'ww_gd',\n",
    "* \"reuse: industrial\": 'ww_in',\n",
    "* 'evaporation': 'ww_evap',\n",
    "* 'spray irrigation': 'ww_ir',\n",
    "* 'overland flow no discharge': 'ww_ww',\n",
    "* 'overland flow with discharge': 'ww_sd',\n",
    "* 'discharge to another facility': 'ww_ww',\n",
    "* 'combined sewer overflow (cso) discharge': 'ww_sd',\n",
    "* 'other': 'ww_sd',\n",
    "* 'discharge to groundwater': 'ww_gd',\n",
    "* 'no discharge, unknown': 'ww_ww',\n",
    "* 'reuse: irrigation': 'ww_ir',\n",
    "* 'reuse: other non-potable': 'ww_sd',\n",
    "* 'reuse: indirect potable': 'ww_sd',\n",
    "* 'reuse: potable': 'ww_ps',\n",
    "* 'reuse: groundwater recharge': 'ww_gd'"
   ]
  },
  {
   "cell_type": "code",
   "execution_count": null,
   "id": "ca28495d-ee3e-444d-87a8-822dd2b96b59",
   "metadata": {},
   "outputs": [],
   "source": [
    "df = flow.prep_wastewater_data()\n",
    "df = df[['FIPS','ww_evap','ww_gd','ww_in','ww_ir','ww_od','ww_ps','ww_sd','ww_ww']]\n",
    "df.head()"
   ]
  },
  {
   "cell_type": "markdown",
   "id": "83f8d020-82bc-413f-9809-6b99f7d03b6d",
   "metadata": {},
   "source": [
    "## Energy in Wastewater Treatment\n",
    "\n",
    "Wastewater treatment facilities have various levels of treatment from primary to advanced. Each treatment level has an increasing level of energy intensity to process the water. Intensity value estimates for wastwater treatment were used from Pabi et al. [17]."
   ]
  },
  {
   "cell_type": "markdown",
   "id": "3e3a89c7-b15a-4ee9-9dae-650f88f8edf9",
   "metadata": {},
   "source": [
    "# Agriculture"
   ]
  },
  {
   "cell_type": "markdown",
   "id": "525afe82-e4d0-4696-be09-341e39b7daf5",
   "metadata": {},
   "source": [
    "## Water in Agriculture"
   ]
  },
  {
   "cell_type": "code",
   "execution_count": null,
   "id": "460054af-419c-4a7f-bb08-987e96dc111a",
   "metadata": {},
   "outputs": [],
   "source": []
  },
  {
   "cell_type": "markdown",
   "id": "f0222bec-066e-47c8-a200-8b3344116ee6",
   "metadata": {},
   "source": [
    "## Energy in Agriculture"
   ]
  },
  {
   "cell_type": "markdown",
   "id": "812009ea-53fa-4ae2-ab09-a1a4311b9855",
   "metadata": {},
   "source": [
    "Energy use in agriculture consists of groundwater pumping, surface water pumping, and interbasin transers. USDA's Farm and Ranch Irrigation Survey (FRIS) provides state-by-state data on irrigation groundwater depth and average irrigation pressurization levels for irrigation within a state, enabling the calculation of pump electricity consumption for both groundwater and surface water pumping [13]. The 2013 survey is the closest year available to 2015 values. It is assumed that values do not vary significantly between the two years.\n",
    "\n",
    "The methodology for calculating groundwater and surface water pumping energy is described in Tidwell et al [14]. However, where that publication uses well depth to water to calculate total differential height, the total well depth is used here as a way to offset some of the losses due to friction that would occur in the piping, as described in Lawrence Berkeley National Laboratory (LBNL) Home Energy Saver & Score: Engineering Documentation [15].\n",
    "\n",
    "Pump efficiency is assumed to be the average (46.5%) of the range (34-59%) listed in [14]. State-level intensity rates are calculated here and applied to the county level water in agriculture values. The general methodology implemented here to determine total energy in agriculture is adapted from [5], not including the additions previously mentioned."
   ]
  },
  {
   "cell_type": "markdown",
   "id": "7a294da4-41ae-4c96-83e2-b15142c0150a",
   "metadata": {},
   "source": [
    "### Groundwater & Surface Water Pumping"
   ]
  },
  {
   "cell_type": "code",
   "execution_count": null,
   "id": "b512c890-a13c-45b8-a715-c80e1ccb470a",
   "metadata": {},
   "outputs": [],
   "source": []
  },
  {
   "cell_type": "markdown",
   "id": "11bc4701-2dee-45ae-aa05-d25917208ae3",
   "metadata": {},
   "source": [
    "### Interbasin Transfers"
   ]
  },
  {
   "cell_type": "code",
   "execution_count": null,
   "id": "0c920586-466a-4ce4-9ba3-b062088056ff",
   "metadata": {},
   "outputs": [],
   "source": []
  },
  {
   "cell_type": "markdown",
   "id": "5e45f8aa-c7ca-46df-9a08-bde1c5508b77",
   "metadata": {},
   "source": [
    "# Electricity Generation"
   ]
  },
  {
   "cell_type": "markdown",
   "id": "6d831d03-40f3-4ad7-ba6b-b0985dd7916d",
   "metadata": {},
   "source": [
    "## Energy in Electricity Generation"
   ]
  },
  {
   "cell_type": "markdown",
   "id": "77c3cb84-67d9-42de-a902-2e9511bad47b",
   "metadata": {},
   "source": [
    "US Energy Information Administration (EIA) 923 data for 2015 is used to determine electricity generation by generator type within each interconnect [12]. The datafile contains information on generation at the plant-level. EIA additionally provides data on which North American Electric Reliability Corporation (NERC) balancing region each plant belongs to. By mapping each NERC region to its associated interconnect, generation within each interconnect can be determined directly.\n",
    "\n",
    "From EIA, the AER Fuel Type Code is used to determine generator type. EIA provides generator type information at a high level of detail. For this reason different generator types are grouped for simplicity using a generator key (GenType923Key.xlsx). For example, different types of natural gas generators are all grouped into \"Natural Gas\" as a type.\n",
    "\n",
    "Energy production is provided as \"Net Generation (Megawatthours)\" in the EIA dataset, \"Total Fuel Consumption (MMBTU)\" is the MMBTU equivalent of fuel going to each plant for electricity generation. The difference between these two values indicates the amount of energy generation that does not go to energy losses."
   ]
  },
  {
   "cell_type": "markdown",
   "id": "fa27311d-24ea-409e-b9cd-0655674b07e9",
   "metadata": {},
   "source": [
    "## will be filled in with calculate function"
   ]
  },
  {
   "cell_type": "code",
   "execution_count": null,
   "id": "b8de3a2e-ae73-41ba-9d7f-4ae4724a17b8",
   "metadata": {},
   "outputs": [],
   "source": []
  },
  {
   "cell_type": "markdown",
   "id": "4443c5c2-b504-42c8-ac3f-0b1087b4be19",
   "metadata": {},
   "source": [
    "## Water in Electricity Generation"
   ]
  },
  {
   "cell_type": "code",
   "execution_count": null,
   "id": "1e028afe-61e5-48d1-8390-99cde95e0b7a",
   "metadata": {},
   "outputs": [],
   "source": []
  },
  {
   "cell_type": "markdown",
   "id": "a8a1580a-826d-4b9d-afcb-5cb956f7aa69",
   "metadata": {},
   "source": [
    "# End Use Sectors"
   ]
  },
  {
   "cell_type": "markdown",
   "id": "d48d9dcc-2879-429b-bdeb-42904f646bbb",
   "metadata": {},
   "source": [
    "## Residential Sector"
   ]
  },
  {
   "cell_type": "markdown",
   "id": "4f740672-5ffc-473c-868c-064701384e1b",
   "metadata": {},
   "source": [
    "### Water in Residential Sector"
   ]
  },
  {
   "cell_type": "code",
   "execution_count": null,
   "id": "325c0a80-139b-467a-9550-663555582a8d",
   "metadata": {},
   "outputs": [],
   "source": []
  },
  {
   "cell_type": "markdown",
   "id": "50a71b4a-c4f3-4a1d-b6c7-a3ae7780aabf",
   "metadata": {},
   "source": [
    "### Energy in Residential Sector"
   ]
  },
  {
   "cell_type": "markdown",
   "id": "e6adff18-e8eb-4339-98af-682aa9b240a9",
   "metadata": {},
   "source": [
    "#### Energy (electricity) Demand in Residential Sector"
   ]
  },
  {
   "cell_type": "markdown",
   "id": "d65dd52b-d06e-4b57-9b11-087f415d0e14",
   "metadata": {},
   "source": [
    "##### weighted by population. <b> consider splitting out by usage if data is available"
   ]
  },
  {
   "cell_type": "code",
   "execution_count": null,
   "id": "61212a75-f22a-4bf6-85bb-f072eb3fad30",
   "metadata": {},
   "outputs": [],
   "source": [
    "df = flow.prep_electricity_demand_data()\n",
    "df"
   ]
  },
  {
   "cell_type": "markdown",
   "id": "bd9e8d0c-0152-4e00-bd6a-a9a3c9bb6482",
   "metadata": {},
   "source": [
    "#### Energy (fuel) Demand in Residential Sector"
   ]
  },
  {
   "cell_type": "markdown",
   "id": "230fbd0f-240a-401c-9d6e-740470bb44b7",
   "metadata": {},
   "source": [
    "## Commercial Sector"
   ]
  },
  {
   "cell_type": "markdown",
   "id": "59f26e7a-dfba-40cd-a3be-c3c8120ccb20",
   "metadata": {},
   "source": [
    "### Water in Commercial Sector"
   ]
  },
  {
   "cell_type": "markdown",
   "id": "33ff8e98-0372-4ebb-87cf-cef498e959c8",
   "metadata": {},
   "source": [
    "### Energy in Commercial Sector"
   ]
  },
  {
   "cell_type": "markdown",
   "id": "a08bb590-6c51-443f-9977-5873de7d7bde",
   "metadata": {},
   "source": [
    "## Industrial Sector"
   ]
  },
  {
   "cell_type": "markdown",
   "id": "659e7492-18d9-4eaa-b276-6164c642cccc",
   "metadata": {},
   "source": [
    "### Water in Industrial Sector"
   ]
  },
  {
   "cell_type": "markdown",
   "id": "19adc037-9619-49d3-bc13-31eb153a03ad",
   "metadata": {},
   "source": [
    "### Energy in Industrial Sector"
   ]
  },
  {
   "cell_type": "markdown",
   "id": "ecc5ca9e-76c1-41c1-b877-647c8c68742f",
   "metadata": {},
   "source": [
    "## Transportation Sector"
   ]
  },
  {
   "cell_type": "markdown",
   "id": "3ab4b15a-4655-4613-83ab-737dc153f776",
   "metadata": {},
   "source": [
    "### Energy in Energy Sector"
   ]
  },
  {
   "cell_type": "code",
   "execution_count": null,
   "id": "079c97fa-27fa-498f-b6a8-fb7dcffd8964",
   "metadata": {},
   "outputs": [],
   "source": []
  },
  {
   "cell_type": "markdown",
   "id": "4b44cc0d-27e1-4167-8aac-90b8f215b378",
   "metadata": {},
   "source": [
    "# Energy Production"
   ]
  },
  {
   "cell_type": "markdown",
   "id": "58b16ff1-f15f-44b0-8adf-4f8012ac9f33",
   "metadata": {},
   "source": [
    "## Biomass"
   ]
  },
  {
   "cell_type": "markdown",
   "id": "6490d936-cb22-4933-b697-76899f4ba876",
   "metadata": {},
   "source": [
    "### Energy in Biomass Production (Ethanol)\n",
    "\n",
    "To find the ethanol production per county, this calculation takes 2015 eia data on ethanol plant capacity which has added locational data by each plant and combines with state level biomass (ethanol) production from prep_state_fuel_production_data() to split out state total by county. Returns a dataframe of ethanol production (bbtu) by county FIPS for each county in the US for 2015.\n",
    "\n",
    "ethanol plant production filler for wyoming (in state total but not location data) ,Torrington, WY100%, https://neo.ne.gov/programs/stats/122/2015/122_201512.htm"
   ]
  },
  {
   "cell_type": "markdown",
   "id": "9f98eecc-1f77-42f4-8fda-1bbf9d6bc1bf",
   "metadata": {},
   "source": [
    "#### <b> <ul> <font color='red'> Consider looking for estimates for electricity use in biomass production to split out from industrial"
   ]
  },
  {
   "cell_type": "markdown",
   "id": "ca9ac8cb-d671-49d2-bec7-605583ace9f4",
   "metadata": {},
   "source": [
    "### Water in Biomass Production (Ethanol)"
   ]
  },
  {
   "cell_type": "markdown",
   "id": "8b68f3d0-a1f6-4d2c-9120-e6fd3e186d7c",
   "metadata": {},
   "source": [
    "#### Water used in irrigation of corn used for ethanol"
   ]
  },
  {
   "cell_type": "markdown",
   "id": "5999934b-a191-478b-a073-955bee3d348b",
   "metadata": {},
   "source": [
    "Data on water used in the irrigation of corn ultimately used for ethanol production does not exist explicitly at any level of granularity and must be calculated out from larger state-level corn growth irrigation intensity estimates.\n",
    "\n",
    "The percent of corn grown for ethanol in the US was used from US DOE Alternative Fuels Data Center [21]. Total corn production for ethanol (5.22 billion bushels) was divided by total corn producton (13.6 billion bushels) for 2015 and calculated to be 38.406%. Data on a state or county-level does not exist, therefore, this percentage is applied to all states with corn production. A state-level fraction of corn used for ethanol production could be calculated from the amount of ethanol produced in a state and applying an assumption of corn required per unit of ethanol, however, not all corn used in ethanol is produced in the state that uses it which lead to states such as CA with an ethanol fraction of corn growth of nearly 900% of their total corn production. Given that we are unable to determine which states the imported corn for ethanol would be coming from, the decision was made to apply the US total fraction to all states.\n",
    "\n",
    "Total water used in the production of corn for ethanol is therefore the assumed 38.406% multiplied by the product of the total amount of irrigated acres of corn (AC_Irr_Corn) and the calculated irrigation intensity for that state (total acres applied to all crops / total acres irrigated, all crops) provided from USDA Census of Agriculture Irrigation and Water Management Survey [22], Table 35 and Table 4, respectively. The irrigation intensity for corn is calculated from the average irrigation intensity for the state.\n",
    "\n",
    "To split the total MGY applied between fresh surface and groundwater, USDA FRIS Census of Agriculture data on the fraction of surface water (surface water + off farm water) from total water supply (including groundwater) in corn production is used from Table 37 of [22]. Off-farm sources are assumed to be surface water.\n",
    "\n",
    "Some states that grow corn do not provide data on the water source breakdown (surface vs. ground) for their irrigation. The surface to groundwater ratio for all irrigation in a state is substituted for these states. These values are calculated from the USGS 2015 water dataset."
   ]
  },
  {
   "cell_type": "code",
   "execution_count": null,
   "id": "2a1407da-7213-4f97-8488-3be10a396513",
   "metadata": {},
   "outputs": [],
   "source": [
    "df = flow.prep_county_water_corn_biomass_data()"
   ]
  },
  {
   "cell_type": "markdown",
   "id": "588a4233-3774-4ade-b348-a4ff44416ac8",
   "metadata": {},
   "source": [
    "#### Water used in the production of ethanol (fermentation)"
   ]
  },
  {
   "cell_type": "markdown",
   "id": "a779da6b-abb6-4348-8287-528a54c22474",
   "metadata": {},
   "source": [
    "#### <b> <ul> <font color='red'> Consider looking for estimates for water used in the fermentation process of ethanol production, not just corn growth."
   ]
  },
  {
   "cell_type": "markdown",
   "id": "cf5d56f8-5bc4-471a-b203-36183f4a1b89",
   "metadata": {},
   "source": [
    "## Petroleum"
   ]
  },
  {
   "cell_type": "markdown",
   "id": "290231c8-e904-412c-83bd-4562d10d1212",
   "metadata": {},
   "source": [
    "### Energy in Petroleum Production (Conventional and Unconventional Oil Drilling)"
   ]
  },
  {
   "cell_type": "markdown",
   "id": "f1dcd09b-4751-4067-90c8-41a6796cec46",
   "metadata": {},
   "source": [
    " crude oil production by county fillers\n",
    "Idaho: https://ogcc.idaho.gov/wp-content/uploads/sites/3/2017/06/2016-10-6-state-of-idaho-releases-oil-gas-production-data.pdf\n",
    "100% of Idaho petroleum and natural gas is from Payette County\n",
    "\n",
    "Alaska,\n",
    "https://www.commerce.alaska.gov/web/aogcc/Data.aspx\n",
    "almost all oil is produced along the north slope. Calculated from oil production download. The rest is on the kenai peninsula (cook inlet basin)\n",
    "\n",
    "Maryland\n",
    "https://www.eia.gov/state/analysis.php?sid=MD#34\n",
    "assumed 50/50 split between Garret and Allegany Counties\n",
    "\n",
    "Nevada\n",
    "https://gisweb.unr.edu/OilGas/\n",
    "Assumed to be in nye county with producing oil wells (only 4 btu)\n",
    "\n",
    "Oregon\n",
    "https://www.oregongeology.org/mlrr/oilgas-report.htm\n",
    "Only one county (columbia county)"
   ]
  },
  {
   "cell_type": "markdown",
   "id": "61206ecf-cfac-465d-8396-64eb8c7cf4a5",
   "metadata": {},
   "source": [
    "### Water in Petroleum Production (Conventional and Unconventional Oil Drilling)"
   ]
  },
  {
   "cell_type": "markdown",
   "id": "aabccc27-383e-4532-ad3d-b0fdd6f34b45",
   "metadata": {},
   "source": [
    "## Natural Gas"
   ]
  },
  {
   "cell_type": "markdown",
   "id": "cc3d88a8-2668-401e-bbe9-4574273136d5",
   "metadata": {},
   "source": [
    "### Energy in Natural Gas Production (Unconventional Drilling)"
   ]
  },
  {
   "cell_type": "markdown",
   "id": "39d740be-7ce4-422e-8087-a410a20306ff",
   "metadata": {},
   "source": [
    "### Water in Natural Gas Production (Unconventional Drilling)"
   ]
  },
  {
   "cell_type": "markdown",
   "id": "547622b2-a8ea-4deb-8579-ff7202cfa921",
   "metadata": {},
   "source": [
    "## Coal"
   ]
  },
  {
   "cell_type": "markdown",
   "id": "98f14885-561d-4f48-a630-ac52b4f91023",
   "metadata": {},
   "source": [
    "### Energy in Coal Production (Coal Mining)"
   ]
  },
  {
   "cell_type": "markdown",
   "id": "82728a63-8d67-4d7a-b8be-da2566f118ee",
   "metadata": {},
   "source": [
    "### Water in Coal Production (Coal Mining)"
   ]
  },
  {
   "cell_type": "code",
   "execution_count": null,
   "id": "7cdf3331-e82e-485e-baab-ef696af225f3",
   "metadata": {},
   "outputs": [],
   "source": []
  },
  {
   "cell_type": "code",
   "execution_count": null,
   "id": "f3f634f1-67dd-4922-8625-ec8fcb184969",
   "metadata": {},
   "outputs": [],
   "source": []
  },
  {
   "cell_type": "code",
   "execution_count": null,
   "id": "cb2e49b0-5309-430c-a507-1fa835c6d505",
   "metadata": {},
   "outputs": [],
   "source": []
  },
  {
   "cell_type": "markdown",
   "id": "6083ab3c-2888-45ac-8584-0d44fb1a4878",
   "metadata": {
    "tags": []
   },
   "source": [
    "# Intensities & Percentages"
   ]
  },
  {
   "cell_type": "markdown",
   "id": "a0d12353-4606-4f7f-84f0-da10416dd08e",
   "metadata": {},
   "source": [
    "#### Conveyance Losses as a Percent of Water Withdrawn for Irrigation\n",
    "Conveyance loss fraction for irrigation is calculated from the USGS 1995 water use dataset. It is calculated as the total conveyance losses (MGD) divided by the total water withdrawn (MGD) for irrigation. Looking at the fractions at the county level shows that a small subset of counties have unreliable values where conveyance losses are far greater than the amount withdrawn for irrigation. As a result, the ability to cap the loss fraction at a specified amount it provided and replace it with the average of the specified region. The default loss cap fraction is .90."
   ]
  },
  {
   "cell_type": "code",
   "execution_count": null,
   "id": "e1e70eb3-2586-4c96-9542-dc397efede04",
   "metadata": {},
   "outputs": [],
   "source": [
    "df = flow.prep_water_use_1995()\n",
    "df = flow.calc_conveyance_loss_frac(df)\n",
    "df.head()"
   ]
  },
  {
   "cell_type": "markdown",
   "id": "e6bad304-bbd2-4c42-b1ab-c2e8228469c9",
   "metadata": {},
   "source": [
    "##### Change in loss cap"
   ]
  },
  {
   "cell_type": "code",
   "execution_count": null,
   "id": "321b6479-d093-4059-80e6-629a34605b80",
   "metadata": {},
   "outputs": [],
   "source": [
    "df = flow.prep_water_use_1995()\n",
    "df = flow.calc_conveyance_loss_frac(df, loss_cap_amt=.20)\n",
    "df.head()"
   ]
  },
  {
   "cell_type": "code",
   "execution_count": null,
   "id": "26a3da74-77fe-4db6-a3df-897dcaa39d38",
   "metadata": {},
   "outputs": [],
   "source": [
    "help(flow.plot_bar)"
   ]
  },
  {
   "cell_type": "code",
   "execution_count": null,
   "id": "c771f8ba-02d8-4daf-9390-9fcac3e826d3",
   "metadata": {},
   "outputs": [],
   "source": [
    "flow.plot_bar(df, \"State\",\"IR_CLoss_Frac\", \"State\", y_axis_title = \"Irrigation Conveyance Loss Fraction\", x_axis_title=\"State\")"
   ]
  },
  {
   "cell_type": "markdown",
   "id": "18ddc662-ba7b-4e29-8e6c-dc423a529fcd",
   "metadata": {},
   "source": [
    "#### Water Use Intensity for Hydroelectric Generation"
   ]
  },
  {
   "cell_type": "code",
   "execution_count": null,
   "id": "9551b6a2-0897-47c3-90d3-51adce0ef8ea",
   "metadata": {},
   "outputs": [],
   "source": [
    "df = flow.calc_hydroelectric_water_intensity(intensity_cap=True, intensity_cap_amt=165, region_avg=False)\n",
    "\n",
    "df.head()"
   ]
  },
  {
   "cell_type": "code",
   "execution_count": null,
   "id": "f18b2c41-1e1b-4182-b6ec-0af07fca062e",
   "metadata": {},
   "outputs": [],
   "source": [
    "flow.plot_bar(df, \"State\",\"HY_IF\", \"State\")"
   ]
  },
  {
   "cell_type": "code",
   "execution_count": null,
   "id": "2567ceec-abeb-43a7-a36a-c3b28379bbc6",
   "metadata": {},
   "outputs": [],
   "source": []
  }
 ],
 "metadata": {
  "kernelspec": {
   "display_name": "flow",
   "language": "python",
   "name": "flow"
  },
  "language_info": {
   "codemirror_mode": {
    "name": "ipython",
    "version": 3
   },
   "file_extension": ".py",
   "mimetype": "text/x-python",
   "name": "python",
   "nbconvert_exporter": "python",
   "pygments_lexer": "ipython3",
   "version": "3.9.4"
  }
 },
 "nbformat": 4,
 "nbformat_minor": 5
}

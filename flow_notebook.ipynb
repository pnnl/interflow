{
 "cells": [
  {
   "cell_type": "markdown",
   "id": "49094e2e",
   "metadata": {},
   "source": [
    "### Imports"
   ]
  },
  {
   "cell_type": "code",
   "execution_count": 1,
   "id": "ccde3330",
   "metadata": {
    "scrolled": false
   },
   "outputs": [],
   "source": [
    "import interflow"
   ]
  },
  {
   "cell_type": "code",
   "execution_count": 4,
   "id": "7a304fd9",
   "metadata": {},
   "outputs": [],
   "source": [
    "import pandas as pd"
   ]
  },
  {
   "cell_type": "code",
   "execution_count": 48,
   "id": "a186801e",
   "metadata": {},
   "outputs": [
    {
     "data": {
      "application/vnd.plotly.v1+json": {
       "config": {
        "plotlyServerURL": "https://plot.ly"
       },
       "data": [
        {
         "link": {
          "color": "rgba(102, 195, 216, 0.7)",
          "source": [
           0,
           1,
           2,
           2,
           3,
           4,
           5,
           2,
           3,
           5,
           3,
           4,
           0,
           2
          ],
          "target": [
           3,
           3,
           3,
           6,
           6,
           6,
           6,
           4,
           4,
           4,
           7,
           7,
           5,
           5
          ],
          "value": [
           10,
           9,
           10,
           5,
           9,
           10,
           12,
           15,
           2,
           5,
           18,
           15,
           10,
           7
          ]
         },
         "node": {
          "color": "rgba(63, 125, 152, 1)",
          "label": [
           "Sector 1",
           "Sector 2",
           "Sector 3",
           "Sector 4",
           "Sector 6",
           "Sector 8",
           "Sector 5",
           "Sector 7"
          ],
          "line": {
           "color": "black",
           "width": 1
          },
          "pad": 40,
          "thickness": 10
         },
         "type": "sankey",
         "valuesuffix": "mgd"
        }
       ],
       "layout": {
        "font": {
         "size": 12
        },
        "template": {
         "data": {
          "bar": [
           {
            "error_x": {
             "color": "#2a3f5f"
            },
            "error_y": {
             "color": "#2a3f5f"
            },
            "marker": {
             "line": {
              "color": "#E5ECF6",
              "width": 0.5
             },
             "pattern": {
              "fillmode": "overlay",
              "size": 10,
              "solidity": 0.2
             }
            },
            "type": "bar"
           }
          ],
          "barpolar": [
           {
            "marker": {
             "line": {
              "color": "#E5ECF6",
              "width": 0.5
             },
             "pattern": {
              "fillmode": "overlay",
              "size": 10,
              "solidity": 0.2
             }
            },
            "type": "barpolar"
           }
          ],
          "carpet": [
           {
            "aaxis": {
             "endlinecolor": "#2a3f5f",
             "gridcolor": "white",
             "linecolor": "white",
             "minorgridcolor": "white",
             "startlinecolor": "#2a3f5f"
            },
            "baxis": {
             "endlinecolor": "#2a3f5f",
             "gridcolor": "white",
             "linecolor": "white",
             "minorgridcolor": "white",
             "startlinecolor": "#2a3f5f"
            },
            "type": "carpet"
           }
          ],
          "choropleth": [
           {
            "colorbar": {
             "outlinewidth": 0,
             "ticks": ""
            },
            "type": "choropleth"
           }
          ],
          "contour": [
           {
            "colorbar": {
             "outlinewidth": 0,
             "ticks": ""
            },
            "colorscale": [
             [
              0,
              "#0d0887"
             ],
             [
              0.1111111111111111,
              "#46039f"
             ],
             [
              0.2222222222222222,
              "#7201a8"
             ],
             [
              0.3333333333333333,
              "#9c179e"
             ],
             [
              0.4444444444444444,
              "#bd3786"
             ],
             [
              0.5555555555555556,
              "#d8576b"
             ],
             [
              0.6666666666666666,
              "#ed7953"
             ],
             [
              0.7777777777777778,
              "#fb9f3a"
             ],
             [
              0.8888888888888888,
              "#fdca26"
             ],
             [
              1,
              "#f0f921"
             ]
            ],
            "type": "contour"
           }
          ],
          "contourcarpet": [
           {
            "colorbar": {
             "outlinewidth": 0,
             "ticks": ""
            },
            "type": "contourcarpet"
           }
          ],
          "heatmap": [
           {
            "colorbar": {
             "outlinewidth": 0,
             "ticks": ""
            },
            "colorscale": [
             [
              0,
              "#0d0887"
             ],
             [
              0.1111111111111111,
              "#46039f"
             ],
             [
              0.2222222222222222,
              "#7201a8"
             ],
             [
              0.3333333333333333,
              "#9c179e"
             ],
             [
              0.4444444444444444,
              "#bd3786"
             ],
             [
              0.5555555555555556,
              "#d8576b"
             ],
             [
              0.6666666666666666,
              "#ed7953"
             ],
             [
              0.7777777777777778,
              "#fb9f3a"
             ],
             [
              0.8888888888888888,
              "#fdca26"
             ],
             [
              1,
              "#f0f921"
             ]
            ],
            "type": "heatmap"
           }
          ],
          "heatmapgl": [
           {
            "colorbar": {
             "outlinewidth": 0,
             "ticks": ""
            },
            "colorscale": [
             [
              0,
              "#0d0887"
             ],
             [
              0.1111111111111111,
              "#46039f"
             ],
             [
              0.2222222222222222,
              "#7201a8"
             ],
             [
              0.3333333333333333,
              "#9c179e"
             ],
             [
              0.4444444444444444,
              "#bd3786"
             ],
             [
              0.5555555555555556,
              "#d8576b"
             ],
             [
              0.6666666666666666,
              "#ed7953"
             ],
             [
              0.7777777777777778,
              "#fb9f3a"
             ],
             [
              0.8888888888888888,
              "#fdca26"
             ],
             [
              1,
              "#f0f921"
             ]
            ],
            "type": "heatmapgl"
           }
          ],
          "histogram": [
           {
            "marker": {
             "pattern": {
              "fillmode": "overlay",
              "size": 10,
              "solidity": 0.2
             }
            },
            "type": "histogram"
           }
          ],
          "histogram2d": [
           {
            "colorbar": {
             "outlinewidth": 0,
             "ticks": ""
            },
            "colorscale": [
             [
              0,
              "#0d0887"
             ],
             [
              0.1111111111111111,
              "#46039f"
             ],
             [
              0.2222222222222222,
              "#7201a8"
             ],
             [
              0.3333333333333333,
              "#9c179e"
             ],
             [
              0.4444444444444444,
              "#bd3786"
             ],
             [
              0.5555555555555556,
              "#d8576b"
             ],
             [
              0.6666666666666666,
              "#ed7953"
             ],
             [
              0.7777777777777778,
              "#fb9f3a"
             ],
             [
              0.8888888888888888,
              "#fdca26"
             ],
             [
              1,
              "#f0f921"
             ]
            ],
            "type": "histogram2d"
           }
          ],
          "histogram2dcontour": [
           {
            "colorbar": {
             "outlinewidth": 0,
             "ticks": ""
            },
            "colorscale": [
             [
              0,
              "#0d0887"
             ],
             [
              0.1111111111111111,
              "#46039f"
             ],
             [
              0.2222222222222222,
              "#7201a8"
             ],
             [
              0.3333333333333333,
              "#9c179e"
             ],
             [
              0.4444444444444444,
              "#bd3786"
             ],
             [
              0.5555555555555556,
              "#d8576b"
             ],
             [
              0.6666666666666666,
              "#ed7953"
             ],
             [
              0.7777777777777778,
              "#fb9f3a"
             ],
             [
              0.8888888888888888,
              "#fdca26"
             ],
             [
              1,
              "#f0f921"
             ]
            ],
            "type": "histogram2dcontour"
           }
          ],
          "mesh3d": [
           {
            "colorbar": {
             "outlinewidth": 0,
             "ticks": ""
            },
            "type": "mesh3d"
           }
          ],
          "parcoords": [
           {
            "line": {
             "colorbar": {
              "outlinewidth": 0,
              "ticks": ""
             }
            },
            "type": "parcoords"
           }
          ],
          "pie": [
           {
            "automargin": true,
            "type": "pie"
           }
          ],
          "scatter": [
           {
            "marker": {
             "colorbar": {
              "outlinewidth": 0,
              "ticks": ""
             }
            },
            "type": "scatter"
           }
          ],
          "scatter3d": [
           {
            "line": {
             "colorbar": {
              "outlinewidth": 0,
              "ticks": ""
             }
            },
            "marker": {
             "colorbar": {
              "outlinewidth": 0,
              "ticks": ""
             }
            },
            "type": "scatter3d"
           }
          ],
          "scattercarpet": [
           {
            "marker": {
             "colorbar": {
              "outlinewidth": 0,
              "ticks": ""
             }
            },
            "type": "scattercarpet"
           }
          ],
          "scattergeo": [
           {
            "marker": {
             "colorbar": {
              "outlinewidth": 0,
              "ticks": ""
             }
            },
            "type": "scattergeo"
           }
          ],
          "scattergl": [
           {
            "marker": {
             "colorbar": {
              "outlinewidth": 0,
              "ticks": ""
             }
            },
            "type": "scattergl"
           }
          ],
          "scattermapbox": [
           {
            "marker": {
             "colorbar": {
              "outlinewidth": 0,
              "ticks": ""
             }
            },
            "type": "scattermapbox"
           }
          ],
          "scatterpolar": [
           {
            "marker": {
             "colorbar": {
              "outlinewidth": 0,
              "ticks": ""
             }
            },
            "type": "scatterpolar"
           }
          ],
          "scatterpolargl": [
           {
            "marker": {
             "colorbar": {
              "outlinewidth": 0,
              "ticks": ""
             }
            },
            "type": "scatterpolargl"
           }
          ],
          "scatterternary": [
           {
            "marker": {
             "colorbar": {
              "outlinewidth": 0,
              "ticks": ""
             }
            },
            "type": "scatterternary"
           }
          ],
          "surface": [
           {
            "colorbar": {
             "outlinewidth": 0,
             "ticks": ""
            },
            "colorscale": [
             [
              0,
              "#0d0887"
             ],
             [
              0.1111111111111111,
              "#46039f"
             ],
             [
              0.2222222222222222,
              "#7201a8"
             ],
             [
              0.3333333333333333,
              "#9c179e"
             ],
             [
              0.4444444444444444,
              "#bd3786"
             ],
             [
              0.5555555555555556,
              "#d8576b"
             ],
             [
              0.6666666666666666,
              "#ed7953"
             ],
             [
              0.7777777777777778,
              "#fb9f3a"
             ],
             [
              0.8888888888888888,
              "#fdca26"
             ],
             [
              1,
              "#f0f921"
             ]
            ],
            "type": "surface"
           }
          ],
          "table": [
           {
            "cells": {
             "fill": {
              "color": "#EBF0F8"
             },
             "line": {
              "color": "white"
             }
            },
            "header": {
             "fill": {
              "color": "#C8D4E3"
             },
             "line": {
              "color": "white"
             }
            },
            "type": "table"
           }
          ]
         },
         "layout": {
          "annotationdefaults": {
           "arrowcolor": "#2a3f5f",
           "arrowhead": 0,
           "arrowwidth": 1
          },
          "autotypenumbers": "strict",
          "coloraxis": {
           "colorbar": {
            "outlinewidth": 0,
            "ticks": ""
           }
          },
          "colorscale": {
           "diverging": [
            [
             0,
             "#8e0152"
            ],
            [
             0.1,
             "#c51b7d"
            ],
            [
             0.2,
             "#de77ae"
            ],
            [
             0.3,
             "#f1b6da"
            ],
            [
             0.4,
             "#fde0ef"
            ],
            [
             0.5,
             "#f7f7f7"
            ],
            [
             0.6,
             "#e6f5d0"
            ],
            [
             0.7,
             "#b8e186"
            ],
            [
             0.8,
             "#7fbc41"
            ],
            [
             0.9,
             "#4d9221"
            ],
            [
             1,
             "#276419"
            ]
           ],
           "sequential": [
            [
             0,
             "#0d0887"
            ],
            [
             0.1111111111111111,
             "#46039f"
            ],
            [
             0.2222222222222222,
             "#7201a8"
            ],
            [
             0.3333333333333333,
             "#9c179e"
            ],
            [
             0.4444444444444444,
             "#bd3786"
            ],
            [
             0.5555555555555556,
             "#d8576b"
            ],
            [
             0.6666666666666666,
             "#ed7953"
            ],
            [
             0.7777777777777778,
             "#fb9f3a"
            ],
            [
             0.8888888888888888,
             "#fdca26"
            ],
            [
             1,
             "#f0f921"
            ]
           ],
           "sequentialminus": [
            [
             0,
             "#0d0887"
            ],
            [
             0.1111111111111111,
             "#46039f"
            ],
            [
             0.2222222222222222,
             "#7201a8"
            ],
            [
             0.3333333333333333,
             "#9c179e"
            ],
            [
             0.4444444444444444,
             "#bd3786"
            ],
            [
             0.5555555555555556,
             "#d8576b"
            ],
            [
             0.6666666666666666,
             "#ed7953"
            ],
            [
             0.7777777777777778,
             "#fb9f3a"
            ],
            [
             0.8888888888888888,
             "#fdca26"
            ],
            [
             1,
             "#f0f921"
            ]
           ]
          },
          "colorway": [
           "#636efa",
           "#EF553B",
           "#00cc96",
           "#ab63fa",
           "#FFA15A",
           "#19d3f3",
           "#FF6692",
           "#B6E880",
           "#FF97FF",
           "#FECB52"
          ],
          "font": {
           "color": "#2a3f5f"
          },
          "geo": {
           "bgcolor": "white",
           "lakecolor": "white",
           "landcolor": "#E5ECF6",
           "showlakes": true,
           "showland": true,
           "subunitcolor": "white"
          },
          "hoverlabel": {
           "align": "left"
          },
          "hovermode": "closest",
          "mapbox": {
           "style": "light"
          },
          "paper_bgcolor": "white",
          "plot_bgcolor": "#E5ECF6",
          "polar": {
           "angularaxis": {
            "gridcolor": "white",
            "linecolor": "white",
            "ticks": ""
           },
           "bgcolor": "#E5ECF6",
           "radialaxis": {
            "gridcolor": "white",
            "linecolor": "white",
            "ticks": ""
           }
          },
          "scene": {
           "xaxis": {
            "backgroundcolor": "#E5ECF6",
            "gridcolor": "white",
            "gridwidth": 2,
            "linecolor": "white",
            "showbackground": true,
            "ticks": "",
            "zerolinecolor": "white"
           },
           "yaxis": {
            "backgroundcolor": "#E5ECF6",
            "gridcolor": "white",
            "gridwidth": 2,
            "linecolor": "white",
            "showbackground": true,
            "ticks": "",
            "zerolinecolor": "white"
           },
           "zaxis": {
            "backgroundcolor": "#E5ECF6",
            "gridcolor": "white",
            "gridwidth": 2,
            "linecolor": "white",
            "showbackground": true,
            "ticks": "",
            "zerolinecolor": "white"
           }
          },
          "shapedefaults": {
           "line": {
            "color": "#2a3f5f"
           }
          },
          "ternary": {
           "aaxis": {
            "gridcolor": "white",
            "linecolor": "white",
            "ticks": ""
           },
           "baxis": {
            "gridcolor": "white",
            "linecolor": "white",
            "ticks": ""
           },
           "bgcolor": "#E5ECF6",
           "caxis": {
            "gridcolor": "white",
            "linecolor": "white",
            "ticks": ""
           }
          },
          "title": {
           "x": 0.05
          },
          "xaxis": {
           "automargin": true,
           "gridcolor": "white",
           "linecolor": "white",
           "ticks": "",
           "title": {
            "standoff": 15
           },
           "zerolinecolor": "white",
           "zerolinewidth": 2
          },
          "yaxis": {
           "automargin": true,
           "gridcolor": "white",
           "linecolor": "white",
           "ticks": "",
           "title": {
            "standoff": 15
           },
           "zerolinecolor": "white",
           "zerolinewidth": 2
          }
         }
        },
        "title": {
         "text": "mgd flows for 01"
        }
       }
      },
      "text/html": [
       "<div>                            <div id=\"5dd751c2-2510-4b4a-b5d6-655f691c8158\" class=\"plotly-graph-div\" style=\"height:525px; width:100%;\"></div>            <script type=\"text/javascript\">                require([\"plotly\"], function(Plotly) {                    window.PLOTLYENV=window.PLOTLYENV || {};                                    if (document.getElementById(\"5dd751c2-2510-4b4a-b5d6-655f691c8158\")) {                    Plotly.newPlot(                        \"5dd751c2-2510-4b4a-b5d6-655f691c8158\",                        [{\"link\":{\"color\":\"rgba(102, 195, 216, 0.7)\",\"source\":[0,1,2,2,3,4,5,2,3,5,3,4,0,2],\"target\":[3,3,3,6,6,6,6,4,4,4,7,7,5,5],\"value\":[10,9,10,5,9,10,12,15,2,5,18,15,10,7]},\"node\":{\"color\":\"rgba(63, 125, 152, 1)\",\"label\":[\"Sector 1\",\"Sector 2\",\"Sector 3\",\"Sector 4\",\"Sector 6\",\"Sector 8\",\"Sector 5\",\"Sector 7\"],\"line\":{\"color\":\"black\",\"width\":1},\"pad\":40,\"thickness\":10},\"type\":\"sankey\",\"valuesuffix\":\"mgd\"}],                        {\"template\":{\"data\":{\"bar\":[{\"error_x\":{\"color\":\"#2a3f5f\"},\"error_y\":{\"color\":\"#2a3f5f\"},\"marker\":{\"line\":{\"color\":\"#E5ECF6\",\"width\":0.5},\"pattern\":{\"fillmode\":\"overlay\",\"size\":10,\"solidity\":0.2}},\"type\":\"bar\"}],\"barpolar\":[{\"marker\":{\"line\":{\"color\":\"#E5ECF6\",\"width\":0.5},\"pattern\":{\"fillmode\":\"overlay\",\"size\":10,\"solidity\":0.2}},\"type\":\"barpolar\"}],\"carpet\":[{\"aaxis\":{\"endlinecolor\":\"#2a3f5f\",\"gridcolor\":\"white\",\"linecolor\":\"white\",\"minorgridcolor\":\"white\",\"startlinecolor\":\"#2a3f5f\"},\"baxis\":{\"endlinecolor\":\"#2a3f5f\",\"gridcolor\":\"white\",\"linecolor\":\"white\",\"minorgridcolor\":\"white\",\"startlinecolor\":\"#2a3f5f\"},\"type\":\"carpet\"}],\"choropleth\":[{\"colorbar\":{\"outlinewidth\":0,\"ticks\":\"\"},\"type\":\"choropleth\"}],\"contour\":[{\"colorbar\":{\"outlinewidth\":0,\"ticks\":\"\"},\"colorscale\":[[0.0,\"#0d0887\"],[0.1111111111111111,\"#46039f\"],[0.2222222222222222,\"#7201a8\"],[0.3333333333333333,\"#9c179e\"],[0.4444444444444444,\"#bd3786\"],[0.5555555555555556,\"#d8576b\"],[0.6666666666666666,\"#ed7953\"],[0.7777777777777778,\"#fb9f3a\"],[0.8888888888888888,\"#fdca26\"],[1.0,\"#f0f921\"]],\"type\":\"contour\"}],\"contourcarpet\":[{\"colorbar\":{\"outlinewidth\":0,\"ticks\":\"\"},\"type\":\"contourcarpet\"}],\"heatmap\":[{\"colorbar\":{\"outlinewidth\":0,\"ticks\":\"\"},\"colorscale\":[[0.0,\"#0d0887\"],[0.1111111111111111,\"#46039f\"],[0.2222222222222222,\"#7201a8\"],[0.3333333333333333,\"#9c179e\"],[0.4444444444444444,\"#bd3786\"],[0.5555555555555556,\"#d8576b\"],[0.6666666666666666,\"#ed7953\"],[0.7777777777777778,\"#fb9f3a\"],[0.8888888888888888,\"#fdca26\"],[1.0,\"#f0f921\"]],\"type\":\"heatmap\"}],\"heatmapgl\":[{\"colorbar\":{\"outlinewidth\":0,\"ticks\":\"\"},\"colorscale\":[[0.0,\"#0d0887\"],[0.1111111111111111,\"#46039f\"],[0.2222222222222222,\"#7201a8\"],[0.3333333333333333,\"#9c179e\"],[0.4444444444444444,\"#bd3786\"],[0.5555555555555556,\"#d8576b\"],[0.6666666666666666,\"#ed7953\"],[0.7777777777777778,\"#fb9f3a\"],[0.8888888888888888,\"#fdca26\"],[1.0,\"#f0f921\"]],\"type\":\"heatmapgl\"}],\"histogram\":[{\"marker\":{\"pattern\":{\"fillmode\":\"overlay\",\"size\":10,\"solidity\":0.2}},\"type\":\"histogram\"}],\"histogram2d\":[{\"colorbar\":{\"outlinewidth\":0,\"ticks\":\"\"},\"colorscale\":[[0.0,\"#0d0887\"],[0.1111111111111111,\"#46039f\"],[0.2222222222222222,\"#7201a8\"],[0.3333333333333333,\"#9c179e\"],[0.4444444444444444,\"#bd3786\"],[0.5555555555555556,\"#d8576b\"],[0.6666666666666666,\"#ed7953\"],[0.7777777777777778,\"#fb9f3a\"],[0.8888888888888888,\"#fdca26\"],[1.0,\"#f0f921\"]],\"type\":\"histogram2d\"}],\"histogram2dcontour\":[{\"colorbar\":{\"outlinewidth\":0,\"ticks\":\"\"},\"colorscale\":[[0.0,\"#0d0887\"],[0.1111111111111111,\"#46039f\"],[0.2222222222222222,\"#7201a8\"],[0.3333333333333333,\"#9c179e\"],[0.4444444444444444,\"#bd3786\"],[0.5555555555555556,\"#d8576b\"],[0.6666666666666666,\"#ed7953\"],[0.7777777777777778,\"#fb9f3a\"],[0.8888888888888888,\"#fdca26\"],[1.0,\"#f0f921\"]],\"type\":\"histogram2dcontour\"}],\"mesh3d\":[{\"colorbar\":{\"outlinewidth\":0,\"ticks\":\"\"},\"type\":\"mesh3d\"}],\"parcoords\":[{\"line\":{\"colorbar\":{\"outlinewidth\":0,\"ticks\":\"\"}},\"type\":\"parcoords\"}],\"pie\":[{\"automargin\":true,\"type\":\"pie\"}],\"scatter\":[{\"marker\":{\"colorbar\":{\"outlinewidth\":0,\"ticks\":\"\"}},\"type\":\"scatter\"}],\"scatter3d\":[{\"line\":{\"colorbar\":{\"outlinewidth\":0,\"ticks\":\"\"}},\"marker\":{\"colorbar\":{\"outlinewidth\":0,\"ticks\":\"\"}},\"type\":\"scatter3d\"}],\"scattercarpet\":[{\"marker\":{\"colorbar\":{\"outlinewidth\":0,\"ticks\":\"\"}},\"type\":\"scattercarpet\"}],\"scattergeo\":[{\"marker\":{\"colorbar\":{\"outlinewidth\":0,\"ticks\":\"\"}},\"type\":\"scattergeo\"}],\"scattergl\":[{\"marker\":{\"colorbar\":{\"outlinewidth\":0,\"ticks\":\"\"}},\"type\":\"scattergl\"}],\"scattermapbox\":[{\"marker\":{\"colorbar\":{\"outlinewidth\":0,\"ticks\":\"\"}},\"type\":\"scattermapbox\"}],\"scatterpolar\":[{\"marker\":{\"colorbar\":{\"outlinewidth\":0,\"ticks\":\"\"}},\"type\":\"scatterpolar\"}],\"scatterpolargl\":[{\"marker\":{\"colorbar\":{\"outlinewidth\":0,\"ticks\":\"\"}},\"type\":\"scatterpolargl\"}],\"scatterternary\":[{\"marker\":{\"colorbar\":{\"outlinewidth\":0,\"ticks\":\"\"}},\"type\":\"scatterternary\"}],\"surface\":[{\"colorbar\":{\"outlinewidth\":0,\"ticks\":\"\"},\"colorscale\":[[0.0,\"#0d0887\"],[0.1111111111111111,\"#46039f\"],[0.2222222222222222,\"#7201a8\"],[0.3333333333333333,\"#9c179e\"],[0.4444444444444444,\"#bd3786\"],[0.5555555555555556,\"#d8576b\"],[0.6666666666666666,\"#ed7953\"],[0.7777777777777778,\"#fb9f3a\"],[0.8888888888888888,\"#fdca26\"],[1.0,\"#f0f921\"]],\"type\":\"surface\"}],\"table\":[{\"cells\":{\"fill\":{\"color\":\"#EBF0F8\"},\"line\":{\"color\":\"white\"}},\"header\":{\"fill\":{\"color\":\"#C8D4E3\"},\"line\":{\"color\":\"white\"}},\"type\":\"table\"}]},\"layout\":{\"annotationdefaults\":{\"arrowcolor\":\"#2a3f5f\",\"arrowhead\":0,\"arrowwidth\":1},\"autotypenumbers\":\"strict\",\"coloraxis\":{\"colorbar\":{\"outlinewidth\":0,\"ticks\":\"\"}},\"colorscale\":{\"diverging\":[[0,\"#8e0152\"],[0.1,\"#c51b7d\"],[0.2,\"#de77ae\"],[0.3,\"#f1b6da\"],[0.4,\"#fde0ef\"],[0.5,\"#f7f7f7\"],[0.6,\"#e6f5d0\"],[0.7,\"#b8e186\"],[0.8,\"#7fbc41\"],[0.9,\"#4d9221\"],[1,\"#276419\"]],\"sequential\":[[0.0,\"#0d0887\"],[0.1111111111111111,\"#46039f\"],[0.2222222222222222,\"#7201a8\"],[0.3333333333333333,\"#9c179e\"],[0.4444444444444444,\"#bd3786\"],[0.5555555555555556,\"#d8576b\"],[0.6666666666666666,\"#ed7953\"],[0.7777777777777778,\"#fb9f3a\"],[0.8888888888888888,\"#fdca26\"],[1.0,\"#f0f921\"]],\"sequentialminus\":[[0.0,\"#0d0887\"],[0.1111111111111111,\"#46039f\"],[0.2222222222222222,\"#7201a8\"],[0.3333333333333333,\"#9c179e\"],[0.4444444444444444,\"#bd3786\"],[0.5555555555555556,\"#d8576b\"],[0.6666666666666666,\"#ed7953\"],[0.7777777777777778,\"#fb9f3a\"],[0.8888888888888888,\"#fdca26\"],[1.0,\"#f0f921\"]]},\"colorway\":[\"#636efa\",\"#EF553B\",\"#00cc96\",\"#ab63fa\",\"#FFA15A\",\"#19d3f3\",\"#FF6692\",\"#B6E880\",\"#FF97FF\",\"#FECB52\"],\"font\":{\"color\":\"#2a3f5f\"},\"geo\":{\"bgcolor\":\"white\",\"lakecolor\":\"white\",\"landcolor\":\"#E5ECF6\",\"showlakes\":true,\"showland\":true,\"subunitcolor\":\"white\"},\"hoverlabel\":{\"align\":\"left\"},\"hovermode\":\"closest\",\"mapbox\":{\"style\":\"light\"},\"paper_bgcolor\":\"white\",\"plot_bgcolor\":\"#E5ECF6\",\"polar\":{\"angularaxis\":{\"gridcolor\":\"white\",\"linecolor\":\"white\",\"ticks\":\"\"},\"bgcolor\":\"#E5ECF6\",\"radialaxis\":{\"gridcolor\":\"white\",\"linecolor\":\"white\",\"ticks\":\"\"}},\"scene\":{\"xaxis\":{\"backgroundcolor\":\"#E5ECF6\",\"gridcolor\":\"white\",\"gridwidth\":2,\"linecolor\":\"white\",\"showbackground\":true,\"ticks\":\"\",\"zerolinecolor\":\"white\"},\"yaxis\":{\"backgroundcolor\":\"#E5ECF6\",\"gridcolor\":\"white\",\"gridwidth\":2,\"linecolor\":\"white\",\"showbackground\":true,\"ticks\":\"\",\"zerolinecolor\":\"white\"},\"zaxis\":{\"backgroundcolor\":\"#E5ECF6\",\"gridcolor\":\"white\",\"gridwidth\":2,\"linecolor\":\"white\",\"showbackground\":true,\"ticks\":\"\",\"zerolinecolor\":\"white\"}},\"shapedefaults\":{\"line\":{\"color\":\"#2a3f5f\"}},\"ternary\":{\"aaxis\":{\"gridcolor\":\"white\",\"linecolor\":\"white\",\"ticks\":\"\"},\"baxis\":{\"gridcolor\":\"white\",\"linecolor\":\"white\",\"ticks\":\"\"},\"bgcolor\":\"#E5ECF6\",\"caxis\":{\"gridcolor\":\"white\",\"linecolor\":\"white\",\"ticks\":\"\"}},\"title\":{\"x\":0.05},\"xaxis\":{\"automargin\":true,\"gridcolor\":\"white\",\"linecolor\":\"white\",\"ticks\":\"\",\"title\":{\"standoff\":15},\"zerolinecolor\":\"white\",\"zerolinewidth\":2},\"yaxis\":{\"automargin\":true,\"gridcolor\":\"white\",\"linecolor\":\"white\",\"ticks\":\"\",\"title\":{\"standoff\":15},\"zerolinecolor\":\"white\",\"zerolinewidth\":2}}},\"title\":{\"text\":\"mgd flows for 01\"},\"font\":{\"size\":12}},                        {\"responsive\": true}                    ).then(function(){\n",
       "                            \n",
       "var gd = document.getElementById('5dd751c2-2510-4b4a-b5d6-655f691c8158');\n",
       "var x = new MutationObserver(function (mutations, observer) {{\n",
       "        var display = window.getComputedStyle(gd).display;\n",
       "        if (!display || display === 'none') {{\n",
       "            console.log([gd, 'removed!']);\n",
       "            Plotly.purge(gd);\n",
       "            observer.disconnect();\n",
       "        }}\n",
       "}});\n",
       "\n",
       "// Listen for the removal of the full notebook cells\n",
       "var notebookContainer = gd.closest('#notebook-container');\n",
       "if (notebookContainer) {{\n",
       "    x.observe(notebookContainer, {childList: true});\n",
       "}}\n",
       "\n",
       "// Listen for the clearing of the current output cell\n",
       "var outputEl = gd.closest('.output');\n",
       "if (outputEl) {{\n",
       "    x.observe(outputEl, {childList: true});\n",
       "}}\n",
       "\n",
       "                        })                };                });            </script>        </div>"
      ]
     },
     "metadata": {},
     "output_type": "display_data"
    }
   ],
   "source": [
    "inputs = [['01', 'A_collect', 'Sector 4', '2', '3', '4', '5', 'mgd', 'Sector 1', '2', '3', '4', '5', 'mgd', 'flow_value', 10],\n",
    "['01', 'A_collect', 'Sector 4', '2', '3', '4', '5', 'mgd', 'Sector 2', '2', '3', '4', '5', 'mgd', 'flow_value', 2],\n",
    "['01', 'A_collect', 'Sector 4', '2', '3', '4', '5', 'mgd', 'Sector 3', '2', '3', '4', '5', 'mgd', 'flow_value', 10],\n",
    "['01', 'A_collect', 'Sector 5', '2', '3', '4', '5', 'mgd', 'Sector 4', '2', '3', '4', '5', 'mgd', 'flow_value', 15],\n",
    "['01', 'A_collect', 'Sector 6', '2', '3', '4', '5', 'mgd', 'Sector 4', '2', '3', '4', '5', 'mgd', 'flow_value', 2],\n",
    "['01', 'A_collect', 'Sector 6', '2', '3', '4', '5', 'mgd', 'Sector 3', '2', '3', '4', '5', 'mgd', 'flow_value', 15],\n",
    "['01', 'A_collect', 'Sector 7', '2', '3', '4', '5', 'mgd', 'Sector 4', '2', '3', '4', '5', 'mgd', 'flow_value', 18],\n",
    "['01', 'A_collect', 'Sector 8', '2', '3', '4', '5', 'mgd', 'Sector 1', '2', '3', '4', '5', 'mgd', 'flow_value', 10],\n",
    "['01', 'A_collect', 'Sector 8', '2', '3', '4', '5', 'mgd', 'Sector 3', '2', '3', '4', '5', 'mgd', 'flow_value', 7],\n",
    "['01', 'A_collect', 'Sector 4', '2', '3', '4', '5', 'mgd', 'Sector 2', '2', '3', '4', '5', 'mgd', 'flow_value', 9],\n",
    "['01', 'A_collect', 'Sector 4', '2', '3', '4', '5', 'mgd', 'Sector 2', '2', '3', '4', '5', 'mgd', 'flow_value', 9],\n",
    "['01', 'A_collect', 'Sector 5', '2', '3', '4', '5', 'mgd', 'Sector 3', '2', '3', '4', '5', 'mgd', 'flow_value', 5],\n",
    "['01', 'A_collect', 'Sector 5', '2', '3', '4', '5', 'mgd', 'Sector 4', '2', '3', '4', '5', 'mgd', 'flow_value', 9],\n",
    "['01', 'A_collect', 'Sector 6', '2', '3', '4', '5', 'mgd', 'Sector 8', '2', '3', '4', '5', 'mgd', 'flow_value', 5],\n",
    "['01', 'A_collect', 'Sector 5', '2', '3', '4', '5', 'mgd', 'Sector 6', '2', '3', '4', '5', 'mgd', 'flow_value', 10],\n",
    "['01', 'A_collect', 'Sector 5', '2', '3', '4', '5', 'mgd', 'Sector 8', '2', '3', '4', '5', 'mgd', 'flow_value', 12],\n",
    "          \n",
    "\n",
    "['01', 'A_collect', 'Sector 7', '2', '3', '4', '5', 'mgd', 'Sector 6', '2', '3', '4', '5', 'mgd', 'flow_value', 15]]\n",
    "\n",
    "data = pd.DataFrame(inputs, columns=['region', 'type', 't1', 't2', 't3', 't4', 't5', 'T_unit',\n",
    "                                             's1', 's2', 's3', 's4', 's5', 'S_unit', 'parameter', 'value'])\n",
    "df = interflow.calculate(data=data, level=5)\n",
    "\n",
    "interflow.plot_sankey(data=df, region_name='01', output_level=1, unit_type1='mgd')"
   ]
  },
  {
   "cell_type": "code",
   "execution_count": 7,
   "id": "8b4fd979",
   "metadata": {},
   "outputs": [],
   "source": []
  },
  {
   "cell_type": "code",
   "execution_count": 16,
   "id": "d1ffbf3b",
   "metadata": {},
   "outputs": [
    {
     "data": {
      "application/vnd.plotly.v1+json": {
       "config": {
        "plotlyServerURL": "https://plot.ly"
       },
       "data": [
        {
         "link": {
          "color": "rgba(102, 195, 216, 0.7)",
          "source": [
           0,
           1
          ],
          "target": [
           2,
           3
          ],
          "value": [
           10,
           10
          ]
         },
         "node": {
          "color": "rgba(63, 125, 152, 1)",
          "label": [
           "Sector 1",
           "Sector 2",
           "Sector 3",
           "Sector 4"
          ],
          "line": {
           "color": "black",
           "width": 1
          },
          "pad": 40,
          "thickness": 10
         },
         "type": "sankey",
         "valuesuffix": "mgd"
        }
       ],
       "layout": {
        "font": {
         "size": 12
        },
        "template": {
         "data": {
          "bar": [
           {
            "error_x": {
             "color": "#2a3f5f"
            },
            "error_y": {
             "color": "#2a3f5f"
            },
            "marker": {
             "line": {
              "color": "#E5ECF6",
              "width": 0.5
             },
             "pattern": {
              "fillmode": "overlay",
              "size": 10,
              "solidity": 0.2
             }
            },
            "type": "bar"
           }
          ],
          "barpolar": [
           {
            "marker": {
             "line": {
              "color": "#E5ECF6",
              "width": 0.5
             },
             "pattern": {
              "fillmode": "overlay",
              "size": 10,
              "solidity": 0.2
             }
            },
            "type": "barpolar"
           }
          ],
          "carpet": [
           {
            "aaxis": {
             "endlinecolor": "#2a3f5f",
             "gridcolor": "white",
             "linecolor": "white",
             "minorgridcolor": "white",
             "startlinecolor": "#2a3f5f"
            },
            "baxis": {
             "endlinecolor": "#2a3f5f",
             "gridcolor": "white",
             "linecolor": "white",
             "minorgridcolor": "white",
             "startlinecolor": "#2a3f5f"
            },
            "type": "carpet"
           }
          ],
          "choropleth": [
           {
            "colorbar": {
             "outlinewidth": 0,
             "ticks": ""
            },
            "type": "choropleth"
           }
          ],
          "contour": [
           {
            "colorbar": {
             "outlinewidth": 0,
             "ticks": ""
            },
            "colorscale": [
             [
              0,
              "#0d0887"
             ],
             [
              0.1111111111111111,
              "#46039f"
             ],
             [
              0.2222222222222222,
              "#7201a8"
             ],
             [
              0.3333333333333333,
              "#9c179e"
             ],
             [
              0.4444444444444444,
              "#bd3786"
             ],
             [
              0.5555555555555556,
              "#d8576b"
             ],
             [
              0.6666666666666666,
              "#ed7953"
             ],
             [
              0.7777777777777778,
              "#fb9f3a"
             ],
             [
              0.8888888888888888,
              "#fdca26"
             ],
             [
              1,
              "#f0f921"
             ]
            ],
            "type": "contour"
           }
          ],
          "contourcarpet": [
           {
            "colorbar": {
             "outlinewidth": 0,
             "ticks": ""
            },
            "type": "contourcarpet"
           }
          ],
          "heatmap": [
           {
            "colorbar": {
             "outlinewidth": 0,
             "ticks": ""
            },
            "colorscale": [
             [
              0,
              "#0d0887"
             ],
             [
              0.1111111111111111,
              "#46039f"
             ],
             [
              0.2222222222222222,
              "#7201a8"
             ],
             [
              0.3333333333333333,
              "#9c179e"
             ],
             [
              0.4444444444444444,
              "#bd3786"
             ],
             [
              0.5555555555555556,
              "#d8576b"
             ],
             [
              0.6666666666666666,
              "#ed7953"
             ],
             [
              0.7777777777777778,
              "#fb9f3a"
             ],
             [
              0.8888888888888888,
              "#fdca26"
             ],
             [
              1,
              "#f0f921"
             ]
            ],
            "type": "heatmap"
           }
          ],
          "heatmapgl": [
           {
            "colorbar": {
             "outlinewidth": 0,
             "ticks": ""
            },
            "colorscale": [
             [
              0,
              "#0d0887"
             ],
             [
              0.1111111111111111,
              "#46039f"
             ],
             [
              0.2222222222222222,
              "#7201a8"
             ],
             [
              0.3333333333333333,
              "#9c179e"
             ],
             [
              0.4444444444444444,
              "#bd3786"
             ],
             [
              0.5555555555555556,
              "#d8576b"
             ],
             [
              0.6666666666666666,
              "#ed7953"
             ],
             [
              0.7777777777777778,
              "#fb9f3a"
             ],
             [
              0.8888888888888888,
              "#fdca26"
             ],
             [
              1,
              "#f0f921"
             ]
            ],
            "type": "heatmapgl"
           }
          ],
          "histogram": [
           {
            "marker": {
             "pattern": {
              "fillmode": "overlay",
              "size": 10,
              "solidity": 0.2
             }
            },
            "type": "histogram"
           }
          ],
          "histogram2d": [
           {
            "colorbar": {
             "outlinewidth": 0,
             "ticks": ""
            },
            "colorscale": [
             [
              0,
              "#0d0887"
             ],
             [
              0.1111111111111111,
              "#46039f"
             ],
             [
              0.2222222222222222,
              "#7201a8"
             ],
             [
              0.3333333333333333,
              "#9c179e"
             ],
             [
              0.4444444444444444,
              "#bd3786"
             ],
             [
              0.5555555555555556,
              "#d8576b"
             ],
             [
              0.6666666666666666,
              "#ed7953"
             ],
             [
              0.7777777777777778,
              "#fb9f3a"
             ],
             [
              0.8888888888888888,
              "#fdca26"
             ],
             [
              1,
              "#f0f921"
             ]
            ],
            "type": "histogram2d"
           }
          ],
          "histogram2dcontour": [
           {
            "colorbar": {
             "outlinewidth": 0,
             "ticks": ""
            },
            "colorscale": [
             [
              0,
              "#0d0887"
             ],
             [
              0.1111111111111111,
              "#46039f"
             ],
             [
              0.2222222222222222,
              "#7201a8"
             ],
             [
              0.3333333333333333,
              "#9c179e"
             ],
             [
              0.4444444444444444,
              "#bd3786"
             ],
             [
              0.5555555555555556,
              "#d8576b"
             ],
             [
              0.6666666666666666,
              "#ed7953"
             ],
             [
              0.7777777777777778,
              "#fb9f3a"
             ],
             [
              0.8888888888888888,
              "#fdca26"
             ],
             [
              1,
              "#f0f921"
             ]
            ],
            "type": "histogram2dcontour"
           }
          ],
          "mesh3d": [
           {
            "colorbar": {
             "outlinewidth": 0,
             "ticks": ""
            },
            "type": "mesh3d"
           }
          ],
          "parcoords": [
           {
            "line": {
             "colorbar": {
              "outlinewidth": 0,
              "ticks": ""
             }
            },
            "type": "parcoords"
           }
          ],
          "pie": [
           {
            "automargin": true,
            "type": "pie"
           }
          ],
          "scatter": [
           {
            "marker": {
             "colorbar": {
              "outlinewidth": 0,
              "ticks": ""
             }
            },
            "type": "scatter"
           }
          ],
          "scatter3d": [
           {
            "line": {
             "colorbar": {
              "outlinewidth": 0,
              "ticks": ""
             }
            },
            "marker": {
             "colorbar": {
              "outlinewidth": 0,
              "ticks": ""
             }
            },
            "type": "scatter3d"
           }
          ],
          "scattercarpet": [
           {
            "marker": {
             "colorbar": {
              "outlinewidth": 0,
              "ticks": ""
             }
            },
            "type": "scattercarpet"
           }
          ],
          "scattergeo": [
           {
            "marker": {
             "colorbar": {
              "outlinewidth": 0,
              "ticks": ""
             }
            },
            "type": "scattergeo"
           }
          ],
          "scattergl": [
           {
            "marker": {
             "colorbar": {
              "outlinewidth": 0,
              "ticks": ""
             }
            },
            "type": "scattergl"
           }
          ],
          "scattermapbox": [
           {
            "marker": {
             "colorbar": {
              "outlinewidth": 0,
              "ticks": ""
             }
            },
            "type": "scattermapbox"
           }
          ],
          "scatterpolar": [
           {
            "marker": {
             "colorbar": {
              "outlinewidth": 0,
              "ticks": ""
             }
            },
            "type": "scatterpolar"
           }
          ],
          "scatterpolargl": [
           {
            "marker": {
             "colorbar": {
              "outlinewidth": 0,
              "ticks": ""
             }
            },
            "type": "scatterpolargl"
           }
          ],
          "scatterternary": [
           {
            "marker": {
             "colorbar": {
              "outlinewidth": 0,
              "ticks": ""
             }
            },
            "type": "scatterternary"
           }
          ],
          "surface": [
           {
            "colorbar": {
             "outlinewidth": 0,
             "ticks": ""
            },
            "colorscale": [
             [
              0,
              "#0d0887"
             ],
             [
              0.1111111111111111,
              "#46039f"
             ],
             [
              0.2222222222222222,
              "#7201a8"
             ],
             [
              0.3333333333333333,
              "#9c179e"
             ],
             [
              0.4444444444444444,
              "#bd3786"
             ],
             [
              0.5555555555555556,
              "#d8576b"
             ],
             [
              0.6666666666666666,
              "#ed7953"
             ],
             [
              0.7777777777777778,
              "#fb9f3a"
             ],
             [
              0.8888888888888888,
              "#fdca26"
             ],
             [
              1,
              "#f0f921"
             ]
            ],
            "type": "surface"
           }
          ],
          "table": [
           {
            "cells": {
             "fill": {
              "color": "#EBF0F8"
             },
             "line": {
              "color": "white"
             }
            },
            "header": {
             "fill": {
              "color": "#C8D4E3"
             },
             "line": {
              "color": "white"
             }
            },
            "type": "table"
           }
          ]
         },
         "layout": {
          "annotationdefaults": {
           "arrowcolor": "#2a3f5f",
           "arrowhead": 0,
           "arrowwidth": 1
          },
          "autotypenumbers": "strict",
          "coloraxis": {
           "colorbar": {
            "outlinewidth": 0,
            "ticks": ""
           }
          },
          "colorscale": {
           "diverging": [
            [
             0,
             "#8e0152"
            ],
            [
             0.1,
             "#c51b7d"
            ],
            [
             0.2,
             "#de77ae"
            ],
            [
             0.3,
             "#f1b6da"
            ],
            [
             0.4,
             "#fde0ef"
            ],
            [
             0.5,
             "#f7f7f7"
            ],
            [
             0.6,
             "#e6f5d0"
            ],
            [
             0.7,
             "#b8e186"
            ],
            [
             0.8,
             "#7fbc41"
            ],
            [
             0.9,
             "#4d9221"
            ],
            [
             1,
             "#276419"
            ]
           ],
           "sequential": [
            [
             0,
             "#0d0887"
            ],
            [
             0.1111111111111111,
             "#46039f"
            ],
            [
             0.2222222222222222,
             "#7201a8"
            ],
            [
             0.3333333333333333,
             "#9c179e"
            ],
            [
             0.4444444444444444,
             "#bd3786"
            ],
            [
             0.5555555555555556,
             "#d8576b"
            ],
            [
             0.6666666666666666,
             "#ed7953"
            ],
            [
             0.7777777777777778,
             "#fb9f3a"
            ],
            [
             0.8888888888888888,
             "#fdca26"
            ],
            [
             1,
             "#f0f921"
            ]
           ],
           "sequentialminus": [
            [
             0,
             "#0d0887"
            ],
            [
             0.1111111111111111,
             "#46039f"
            ],
            [
             0.2222222222222222,
             "#7201a8"
            ],
            [
             0.3333333333333333,
             "#9c179e"
            ],
            [
             0.4444444444444444,
             "#bd3786"
            ],
            [
             0.5555555555555556,
             "#d8576b"
            ],
            [
             0.6666666666666666,
             "#ed7953"
            ],
            [
             0.7777777777777778,
             "#fb9f3a"
            ],
            [
             0.8888888888888888,
             "#fdca26"
            ],
            [
             1,
             "#f0f921"
            ]
           ]
          },
          "colorway": [
           "#636efa",
           "#EF553B",
           "#00cc96",
           "#ab63fa",
           "#FFA15A",
           "#19d3f3",
           "#FF6692",
           "#B6E880",
           "#FF97FF",
           "#FECB52"
          ],
          "font": {
           "color": "#2a3f5f"
          },
          "geo": {
           "bgcolor": "white",
           "lakecolor": "white",
           "landcolor": "#E5ECF6",
           "showlakes": true,
           "showland": true,
           "subunitcolor": "white"
          },
          "hoverlabel": {
           "align": "left"
          },
          "hovermode": "closest",
          "mapbox": {
           "style": "light"
          },
          "paper_bgcolor": "white",
          "plot_bgcolor": "#E5ECF6",
          "polar": {
           "angularaxis": {
            "gridcolor": "white",
            "linecolor": "white",
            "ticks": ""
           },
           "bgcolor": "#E5ECF6",
           "radialaxis": {
            "gridcolor": "white",
            "linecolor": "white",
            "ticks": ""
           }
          },
          "scene": {
           "xaxis": {
            "backgroundcolor": "#E5ECF6",
            "gridcolor": "white",
            "gridwidth": 2,
            "linecolor": "white",
            "showbackground": true,
            "ticks": "",
            "zerolinecolor": "white"
           },
           "yaxis": {
            "backgroundcolor": "#E5ECF6",
            "gridcolor": "white",
            "gridwidth": 2,
            "linecolor": "white",
            "showbackground": true,
            "ticks": "",
            "zerolinecolor": "white"
           },
           "zaxis": {
            "backgroundcolor": "#E5ECF6",
            "gridcolor": "white",
            "gridwidth": 2,
            "linecolor": "white",
            "showbackground": true,
            "ticks": "",
            "zerolinecolor": "white"
           }
          },
          "shapedefaults": {
           "line": {
            "color": "#2a3f5f"
           }
          },
          "ternary": {
           "aaxis": {
            "gridcolor": "white",
            "linecolor": "white",
            "ticks": ""
           },
           "baxis": {
            "gridcolor": "white",
            "linecolor": "white",
            "ticks": ""
           },
           "bgcolor": "#E5ECF6",
           "caxis": {
            "gridcolor": "white",
            "linecolor": "white",
            "ticks": ""
           }
          },
          "title": {
           "x": 0.05
          },
          "xaxis": {
           "automargin": true,
           "gridcolor": "white",
           "linecolor": "white",
           "ticks": "",
           "title": {
            "standoff": 15
           },
           "zerolinecolor": "white",
           "zerolinewidth": 2
          },
          "yaxis": {
           "automargin": true,
           "gridcolor": "white",
           "linecolor": "white",
           "ticks": "",
           "title": {
            "standoff": 15
           },
           "zerolinecolor": "white",
           "zerolinewidth": 2
          }
         }
        },
        "title": {
         "text": "mgd flows for 01"
        }
       }
      },
      "text/html": [
       "<div>                            <div id=\"8fe68a44-2cfc-45b7-97c2-3598519dbc1e\" class=\"plotly-graph-div\" style=\"height:525px; width:100%;\"></div>            <script type=\"text/javascript\">                require([\"plotly\"], function(Plotly) {                    window.PLOTLYENV=window.PLOTLYENV || {};                                    if (document.getElementById(\"8fe68a44-2cfc-45b7-97c2-3598519dbc1e\")) {                    Plotly.newPlot(                        \"8fe68a44-2cfc-45b7-97c2-3598519dbc1e\",                        [{\"link\":{\"color\":\"rgba(102, 195, 216, 0.7)\",\"source\":[0,1],\"target\":[2,3],\"value\":[10,10]},\"node\":{\"color\":\"rgba(63, 125, 152, 1)\",\"label\":[\"Sector 1\",\"Sector 2\",\"Sector 3\",\"Sector 4\"],\"line\":{\"color\":\"black\",\"width\":1},\"pad\":40,\"thickness\":10},\"type\":\"sankey\",\"valuesuffix\":\"mgd\"}],                        {\"template\":{\"data\":{\"bar\":[{\"error_x\":{\"color\":\"#2a3f5f\"},\"error_y\":{\"color\":\"#2a3f5f\"},\"marker\":{\"line\":{\"color\":\"#E5ECF6\",\"width\":0.5},\"pattern\":{\"fillmode\":\"overlay\",\"size\":10,\"solidity\":0.2}},\"type\":\"bar\"}],\"barpolar\":[{\"marker\":{\"line\":{\"color\":\"#E5ECF6\",\"width\":0.5},\"pattern\":{\"fillmode\":\"overlay\",\"size\":10,\"solidity\":0.2}},\"type\":\"barpolar\"}],\"carpet\":[{\"aaxis\":{\"endlinecolor\":\"#2a3f5f\",\"gridcolor\":\"white\",\"linecolor\":\"white\",\"minorgridcolor\":\"white\",\"startlinecolor\":\"#2a3f5f\"},\"baxis\":{\"endlinecolor\":\"#2a3f5f\",\"gridcolor\":\"white\",\"linecolor\":\"white\",\"minorgridcolor\":\"white\",\"startlinecolor\":\"#2a3f5f\"},\"type\":\"carpet\"}],\"choropleth\":[{\"colorbar\":{\"outlinewidth\":0,\"ticks\":\"\"},\"type\":\"choropleth\"}],\"contour\":[{\"colorbar\":{\"outlinewidth\":0,\"ticks\":\"\"},\"colorscale\":[[0.0,\"#0d0887\"],[0.1111111111111111,\"#46039f\"],[0.2222222222222222,\"#7201a8\"],[0.3333333333333333,\"#9c179e\"],[0.4444444444444444,\"#bd3786\"],[0.5555555555555556,\"#d8576b\"],[0.6666666666666666,\"#ed7953\"],[0.7777777777777778,\"#fb9f3a\"],[0.8888888888888888,\"#fdca26\"],[1.0,\"#f0f921\"]],\"type\":\"contour\"}],\"contourcarpet\":[{\"colorbar\":{\"outlinewidth\":0,\"ticks\":\"\"},\"type\":\"contourcarpet\"}],\"heatmap\":[{\"colorbar\":{\"outlinewidth\":0,\"ticks\":\"\"},\"colorscale\":[[0.0,\"#0d0887\"],[0.1111111111111111,\"#46039f\"],[0.2222222222222222,\"#7201a8\"],[0.3333333333333333,\"#9c179e\"],[0.4444444444444444,\"#bd3786\"],[0.5555555555555556,\"#d8576b\"],[0.6666666666666666,\"#ed7953\"],[0.7777777777777778,\"#fb9f3a\"],[0.8888888888888888,\"#fdca26\"],[1.0,\"#f0f921\"]],\"type\":\"heatmap\"}],\"heatmapgl\":[{\"colorbar\":{\"outlinewidth\":0,\"ticks\":\"\"},\"colorscale\":[[0.0,\"#0d0887\"],[0.1111111111111111,\"#46039f\"],[0.2222222222222222,\"#7201a8\"],[0.3333333333333333,\"#9c179e\"],[0.4444444444444444,\"#bd3786\"],[0.5555555555555556,\"#d8576b\"],[0.6666666666666666,\"#ed7953\"],[0.7777777777777778,\"#fb9f3a\"],[0.8888888888888888,\"#fdca26\"],[1.0,\"#f0f921\"]],\"type\":\"heatmapgl\"}],\"histogram\":[{\"marker\":{\"pattern\":{\"fillmode\":\"overlay\",\"size\":10,\"solidity\":0.2}},\"type\":\"histogram\"}],\"histogram2d\":[{\"colorbar\":{\"outlinewidth\":0,\"ticks\":\"\"},\"colorscale\":[[0.0,\"#0d0887\"],[0.1111111111111111,\"#46039f\"],[0.2222222222222222,\"#7201a8\"],[0.3333333333333333,\"#9c179e\"],[0.4444444444444444,\"#bd3786\"],[0.5555555555555556,\"#d8576b\"],[0.6666666666666666,\"#ed7953\"],[0.7777777777777778,\"#fb9f3a\"],[0.8888888888888888,\"#fdca26\"],[1.0,\"#f0f921\"]],\"type\":\"histogram2d\"}],\"histogram2dcontour\":[{\"colorbar\":{\"outlinewidth\":0,\"ticks\":\"\"},\"colorscale\":[[0.0,\"#0d0887\"],[0.1111111111111111,\"#46039f\"],[0.2222222222222222,\"#7201a8\"],[0.3333333333333333,\"#9c179e\"],[0.4444444444444444,\"#bd3786\"],[0.5555555555555556,\"#d8576b\"],[0.6666666666666666,\"#ed7953\"],[0.7777777777777778,\"#fb9f3a\"],[0.8888888888888888,\"#fdca26\"],[1.0,\"#f0f921\"]],\"type\":\"histogram2dcontour\"}],\"mesh3d\":[{\"colorbar\":{\"outlinewidth\":0,\"ticks\":\"\"},\"type\":\"mesh3d\"}],\"parcoords\":[{\"line\":{\"colorbar\":{\"outlinewidth\":0,\"ticks\":\"\"}},\"type\":\"parcoords\"}],\"pie\":[{\"automargin\":true,\"type\":\"pie\"}],\"scatter\":[{\"marker\":{\"colorbar\":{\"outlinewidth\":0,\"ticks\":\"\"}},\"type\":\"scatter\"}],\"scatter3d\":[{\"line\":{\"colorbar\":{\"outlinewidth\":0,\"ticks\":\"\"}},\"marker\":{\"colorbar\":{\"outlinewidth\":0,\"ticks\":\"\"}},\"type\":\"scatter3d\"}],\"scattercarpet\":[{\"marker\":{\"colorbar\":{\"outlinewidth\":0,\"ticks\":\"\"}},\"type\":\"scattercarpet\"}],\"scattergeo\":[{\"marker\":{\"colorbar\":{\"outlinewidth\":0,\"ticks\":\"\"}},\"type\":\"scattergeo\"}],\"scattergl\":[{\"marker\":{\"colorbar\":{\"outlinewidth\":0,\"ticks\":\"\"}},\"type\":\"scattergl\"}],\"scattermapbox\":[{\"marker\":{\"colorbar\":{\"outlinewidth\":0,\"ticks\":\"\"}},\"type\":\"scattermapbox\"}],\"scatterpolar\":[{\"marker\":{\"colorbar\":{\"outlinewidth\":0,\"ticks\":\"\"}},\"type\":\"scatterpolar\"}],\"scatterpolargl\":[{\"marker\":{\"colorbar\":{\"outlinewidth\":0,\"ticks\":\"\"}},\"type\":\"scatterpolargl\"}],\"scatterternary\":[{\"marker\":{\"colorbar\":{\"outlinewidth\":0,\"ticks\":\"\"}},\"type\":\"scatterternary\"}],\"surface\":[{\"colorbar\":{\"outlinewidth\":0,\"ticks\":\"\"},\"colorscale\":[[0.0,\"#0d0887\"],[0.1111111111111111,\"#46039f\"],[0.2222222222222222,\"#7201a8\"],[0.3333333333333333,\"#9c179e\"],[0.4444444444444444,\"#bd3786\"],[0.5555555555555556,\"#d8576b\"],[0.6666666666666666,\"#ed7953\"],[0.7777777777777778,\"#fb9f3a\"],[0.8888888888888888,\"#fdca26\"],[1.0,\"#f0f921\"]],\"type\":\"surface\"}],\"table\":[{\"cells\":{\"fill\":{\"color\":\"#EBF0F8\"},\"line\":{\"color\":\"white\"}},\"header\":{\"fill\":{\"color\":\"#C8D4E3\"},\"line\":{\"color\":\"white\"}},\"type\":\"table\"}]},\"layout\":{\"annotationdefaults\":{\"arrowcolor\":\"#2a3f5f\",\"arrowhead\":0,\"arrowwidth\":1},\"autotypenumbers\":\"strict\",\"coloraxis\":{\"colorbar\":{\"outlinewidth\":0,\"ticks\":\"\"}},\"colorscale\":{\"diverging\":[[0,\"#8e0152\"],[0.1,\"#c51b7d\"],[0.2,\"#de77ae\"],[0.3,\"#f1b6da\"],[0.4,\"#fde0ef\"],[0.5,\"#f7f7f7\"],[0.6,\"#e6f5d0\"],[0.7,\"#b8e186\"],[0.8,\"#7fbc41\"],[0.9,\"#4d9221\"],[1,\"#276419\"]],\"sequential\":[[0.0,\"#0d0887\"],[0.1111111111111111,\"#46039f\"],[0.2222222222222222,\"#7201a8\"],[0.3333333333333333,\"#9c179e\"],[0.4444444444444444,\"#bd3786\"],[0.5555555555555556,\"#d8576b\"],[0.6666666666666666,\"#ed7953\"],[0.7777777777777778,\"#fb9f3a\"],[0.8888888888888888,\"#fdca26\"],[1.0,\"#f0f921\"]],\"sequentialminus\":[[0.0,\"#0d0887\"],[0.1111111111111111,\"#46039f\"],[0.2222222222222222,\"#7201a8\"],[0.3333333333333333,\"#9c179e\"],[0.4444444444444444,\"#bd3786\"],[0.5555555555555556,\"#d8576b\"],[0.6666666666666666,\"#ed7953\"],[0.7777777777777778,\"#fb9f3a\"],[0.8888888888888888,\"#fdca26\"],[1.0,\"#f0f921\"]]},\"colorway\":[\"#636efa\",\"#EF553B\",\"#00cc96\",\"#ab63fa\",\"#FFA15A\",\"#19d3f3\",\"#FF6692\",\"#B6E880\",\"#FF97FF\",\"#FECB52\"],\"font\":{\"color\":\"#2a3f5f\"},\"geo\":{\"bgcolor\":\"white\",\"lakecolor\":\"white\",\"landcolor\":\"#E5ECF6\",\"showlakes\":true,\"showland\":true,\"subunitcolor\":\"white\"},\"hoverlabel\":{\"align\":\"left\"},\"hovermode\":\"closest\",\"mapbox\":{\"style\":\"light\"},\"paper_bgcolor\":\"white\",\"plot_bgcolor\":\"#E5ECF6\",\"polar\":{\"angularaxis\":{\"gridcolor\":\"white\",\"linecolor\":\"white\",\"ticks\":\"\"},\"bgcolor\":\"#E5ECF6\",\"radialaxis\":{\"gridcolor\":\"white\",\"linecolor\":\"white\",\"ticks\":\"\"}},\"scene\":{\"xaxis\":{\"backgroundcolor\":\"#E5ECF6\",\"gridcolor\":\"white\",\"gridwidth\":2,\"linecolor\":\"white\",\"showbackground\":true,\"ticks\":\"\",\"zerolinecolor\":\"white\"},\"yaxis\":{\"backgroundcolor\":\"#E5ECF6\",\"gridcolor\":\"white\",\"gridwidth\":2,\"linecolor\":\"white\",\"showbackground\":true,\"ticks\":\"\",\"zerolinecolor\":\"white\"},\"zaxis\":{\"backgroundcolor\":\"#E5ECF6\",\"gridcolor\":\"white\",\"gridwidth\":2,\"linecolor\":\"white\",\"showbackground\":true,\"ticks\":\"\",\"zerolinecolor\":\"white\"}},\"shapedefaults\":{\"line\":{\"color\":\"#2a3f5f\"}},\"ternary\":{\"aaxis\":{\"gridcolor\":\"white\",\"linecolor\":\"white\",\"ticks\":\"\"},\"baxis\":{\"gridcolor\":\"white\",\"linecolor\":\"white\",\"ticks\":\"\"},\"bgcolor\":\"#E5ECF6\",\"caxis\":{\"gridcolor\":\"white\",\"linecolor\":\"white\",\"ticks\":\"\"}},\"title\":{\"x\":0.05},\"xaxis\":{\"automargin\":true,\"gridcolor\":\"white\",\"linecolor\":\"white\",\"ticks\":\"\",\"title\":{\"standoff\":15},\"zerolinecolor\":\"white\",\"zerolinewidth\":2},\"yaxis\":{\"automargin\":true,\"gridcolor\":\"white\",\"linecolor\":\"white\",\"ticks\":\"\",\"title\":{\"standoff\":15},\"zerolinecolor\":\"white\",\"zerolinewidth\":2}}},\"title\":{\"text\":\"mgd flows for 01\"},\"font\":{\"size\":12}},                        {\"responsive\": true}                    ).then(function(){\n",
       "                            \n",
       "var gd = document.getElementById('8fe68a44-2cfc-45b7-97c2-3598519dbc1e');\n",
       "var x = new MutationObserver(function (mutations, observer) {{\n",
       "        var display = window.getComputedStyle(gd).display;\n",
       "        if (!display || display === 'none') {{\n",
       "            console.log([gd, 'removed!']);\n",
       "            Plotly.purge(gd);\n",
       "            observer.disconnect();\n",
       "        }}\n",
       "}});\n",
       "\n",
       "// Listen for the removal of the full notebook cells\n",
       "var notebookContainer = gd.closest('#notebook-container');\n",
       "if (notebookContainer) {{\n",
       "    x.observe(notebookContainer, {childList: true});\n",
       "}}\n",
       "\n",
       "// Listen for the clearing of the current output cell\n",
       "var outputEl = gd.closest('.output');\n",
       "if (outputEl) {{\n",
       "    x.observe(outputEl, {childList: true});\n",
       "}}\n",
       "\n",
       "                        })                };                });            </script>        </div>"
      ]
     },
     "metadata": {},
     "output_type": "display_data"
    }
   ],
   "source": []
  },
  {
   "cell_type": "code",
   "execution_count": null,
   "id": "64aab1bc",
   "metadata": {},
   "outputs": [],
   "source": []
  },
  {
   "cell_type": "code",
   "execution_count": null,
   "id": "a750479b",
   "metadata": {},
   "outputs": [],
   "source": []
  },
  {
   "cell_type": "code",
   "execution_count": 44,
   "id": "86f591ea",
   "metadata": {},
   "outputs": [
    {
     "data": {
      "text/plain": [
       "False"
      ]
     },
     "execution_count": 44,
     "metadata": {},
     "output_type": "execute_result"
    }
   ],
   "source": [
    "output = interflow.calc_irrigation_consumption()\n",
    "#data['FIPS'].nunique()\n",
    "\n",
    "col_list = data.columns[3:].to_list()\n",
    "\n",
    "output['AGR_crop_fresh_surfacewater_withdrawal_mgd_to_CMP_total_total_total_total_mgd_fraction'].max() > 1\n"
   ]
  },
  {
   "cell_type": "code",
   "execution_count": 35,
   "id": "b286eed0",
   "metadata": {},
   "outputs": [
    {
     "data": {
      "text/plain": [
       "False"
      ]
     },
     "execution_count": 35,
     "metadata": {},
     "output_type": "execute_result"
    }
   ],
   "source": [
    "\"PR\" in data['State']"
   ]
  },
  {
   "cell_type": "code",
   "execution_count": null,
   "id": "4efddb35",
   "metadata": {},
   "outputs": [],
   "source": [
    "data = flow.read_sample_data()\n",
    "region = '01001'\n",
    "df_in = flow.calculate(data=data, region_name=region, level=5)\n",
    "df"
   ]
  },
  {
   "cell_type": "code",
   "execution_count": null,
   "id": "1409fc63",
   "metadata": {},
   "outputs": [],
   "source": [
    "df = flow.group_results(df=df_in, output_level=1)\n",
    "output_level1 = flow.group_results(df=df_in, output_level=1)\n",
    "output_level1 = output_level1[output_level1.T1 == 'CMP']\n",
    "output_level1 = output_level1[output_level1.S1 == 'AGR']\n",
    "x_1 = output_level1['value'].sum()\n",
    "x_1"
   ]
  },
  {
   "cell_type": "code",
   "execution_count": null,
   "id": "200e595e",
   "metadata": {},
   "outputs": [],
   "source": [
    "df = flow.prep_electricity_fuel()\n",
    "df = df[df.FIPS == '36061']\n",
    "df"
   ]
  },
  {
   "cell_type": "code",
   "execution_count": null,
   "id": "0db08fbe",
   "metadata": {},
   "outputs": [],
   "source": [
    "df = flow.prep_electricity_cooling()\n",
    "df = df[df.plant_code == 2493]\n",
    "#df = df['EGS_natgas_combustionturbine_oncethrough_total_mgd_from_WSW_saline_surfacewater_total_total_mgd']\n",
    "df"
   ]
  },
  {
   "cell_type": "code",
   "execution_count": null,
   "id": "4d7c1938",
   "metadata": {},
   "outputs": [],
   "source": []
  },
  {
   "cell_type": "markdown",
   "id": "39362508",
   "metadata": {},
   "source": [
    "## Load Input Data"
   ]
  },
  {
   "cell_type": "code",
   "execution_count": null,
   "id": "c9ce654f",
   "metadata": {},
   "outputs": [],
   "source": [
    "%%time\n",
    "#input_data = r\"C:\\Users\\mong275\\Local Files\\Repos\\flow\\sample_data\\test_output.csv\"\n",
    "data = interflow.read_sample_data()\n",
    "data"
   ]
  },
  {
   "cell_type": "markdown",
   "id": "22b4a9b4",
   "metadata": {},
   "source": [
    "## Run the calculations for a single US county or all counties"
   ]
  },
  {
   "cell_type": "code",
   "execution_count": 52,
   "id": "ccf267ad",
   "metadata": {},
   "outputs": [
    {
     "name": "stdout",
     "output_type": "stream",
     "text": [
      "Wall time: 1.3 s\n"
     ]
    },
    {
     "data": {
      "text/html": [
       "<div>\n",
       "<style scoped>\n",
       "    .dataframe tbody tr th:only-of-type {\n",
       "        vertical-align: middle;\n",
       "    }\n",
       "\n",
       "    .dataframe tbody tr th {\n",
       "        vertical-align: top;\n",
       "    }\n",
       "\n",
       "    .dataframe thead th {\n",
       "        text-align: right;\n",
       "    }\n",
       "</style>\n",
       "<table border=\"1\" class=\"dataframe\">\n",
       "  <thead>\n",
       "    <tr style=\"text-align: right;\">\n",
       "      <th></th>\n",
       "      <th>region</th>\n",
       "      <th>S1</th>\n",
       "      <th>S2</th>\n",
       "      <th>S3</th>\n",
       "      <th>S4</th>\n",
       "      <th>S5</th>\n",
       "      <th>T1</th>\n",
       "      <th>T2</th>\n",
       "      <th>T3</th>\n",
       "      <th>T4</th>\n",
       "      <th>T5</th>\n",
       "      <th>units</th>\n",
       "      <th>value</th>\n",
       "    </tr>\n",
       "  </thead>\n",
       "  <tbody>\n",
       "    <tr>\n",
       "      <th>0</th>\n",
       "      <td>01003</td>\n",
       "      <td>WSW</td>\n",
       "      <td>fresh</td>\n",
       "      <td>groundwater</td>\n",
       "      <td>total</td>\n",
       "      <td>total</td>\n",
       "      <td>AGR</td>\n",
       "      <td>aquaculture</td>\n",
       "      <td>fresh</td>\n",
       "      <td>groundwater</td>\n",
       "      <td>withdrawal</td>\n",
       "      <td>mgd</td>\n",
       "      <td>0.050000</td>\n",
       "    </tr>\n",
       "    <tr>\n",
       "      <th>1</th>\n",
       "      <td>01003</td>\n",
       "      <td>WSW</td>\n",
       "      <td>fresh</td>\n",
       "      <td>surfacewater</td>\n",
       "      <td>total</td>\n",
       "      <td>total</td>\n",
       "      <td>AGR</td>\n",
       "      <td>aquaculture</td>\n",
       "      <td>fresh</td>\n",
       "      <td>surfacewater</td>\n",
       "      <td>withdrawal</td>\n",
       "      <td>mgd</td>\n",
       "      <td>0.050000</td>\n",
       "    </tr>\n",
       "    <tr>\n",
       "      <th>2</th>\n",
       "      <td>01003</td>\n",
       "      <td>WSW</td>\n",
       "      <td>fresh</td>\n",
       "      <td>groundwater</td>\n",
       "      <td>total</td>\n",
       "      <td>total</td>\n",
       "      <td>AGR</td>\n",
       "      <td>crop</td>\n",
       "      <td>fresh</td>\n",
       "      <td>groundwater</td>\n",
       "      <td>withdrawal</td>\n",
       "      <td>mgd</td>\n",
       "      <td>47.113532</td>\n",
       "    </tr>\n",
       "    <tr>\n",
       "      <th>3</th>\n",
       "      <td>01003</td>\n",
       "      <td>WSW</td>\n",
       "      <td>fresh</td>\n",
       "      <td>surfacewater</td>\n",
       "      <td>total</td>\n",
       "      <td>total</td>\n",
       "      <td>AGR</td>\n",
       "      <td>crop</td>\n",
       "      <td>fresh</td>\n",
       "      <td>surfacewater</td>\n",
       "      <td>withdrawal</td>\n",
       "      <td>mgd</td>\n",
       "      <td>6.652714</td>\n",
       "    </tr>\n",
       "    <tr>\n",
       "      <th>4</th>\n",
       "      <td>01003</td>\n",
       "      <td>WSW</td>\n",
       "      <td>fresh</td>\n",
       "      <td>groundwater</td>\n",
       "      <td>total</td>\n",
       "      <td>total</td>\n",
       "      <td>AGR</td>\n",
       "      <td>ethanol</td>\n",
       "      <td>fresh</td>\n",
       "      <td>groundwater</td>\n",
       "      <td>withdrawal</td>\n",
       "      <td>mgd</td>\n",
       "      <td>0.056468</td>\n",
       "    </tr>\n",
       "    <tr>\n",
       "      <th>...</th>\n",
       "      <td>...</td>\n",
       "      <td>...</td>\n",
       "      <td>...</td>\n",
       "      <td>...</td>\n",
       "      <td>...</td>\n",
       "      <td>...</td>\n",
       "      <td>...</td>\n",
       "      <td>...</td>\n",
       "      <td>...</td>\n",
       "      <td>...</td>\n",
       "      <td>...</td>\n",
       "      <td>...</td>\n",
       "      <td>...</td>\n",
       "    </tr>\n",
       "    <tr>\n",
       "      <th>172</th>\n",
       "      <td>01003</td>\n",
       "      <td>WWD</td>\n",
       "      <td>secondary</td>\n",
       "      <td>municipal</td>\n",
       "      <td>total</td>\n",
       "      <td>total</td>\n",
       "      <td>SRD</td>\n",
       "      <td>total</td>\n",
       "      <td>total</td>\n",
       "      <td>total</td>\n",
       "      <td>total</td>\n",
       "      <td>mgd</td>\n",
       "      <td>0.764113</td>\n",
       "    </tr>\n",
       "    <tr>\n",
       "      <th>173</th>\n",
       "      <td>01003</td>\n",
       "      <td>WWD</td>\n",
       "      <td>treatment</td>\n",
       "      <td>advanced</td>\n",
       "      <td>total</td>\n",
       "      <td>total</td>\n",
       "      <td>ESV</td>\n",
       "      <td>total</td>\n",
       "      <td>total</td>\n",
       "      <td>total</td>\n",
       "      <td>total</td>\n",
       "      <td>bbtu</td>\n",
       "      <td>0.003390</td>\n",
       "    </tr>\n",
       "    <tr>\n",
       "      <th>174</th>\n",
       "      <td>01003</td>\n",
       "      <td>WWD</td>\n",
       "      <td>treatment</td>\n",
       "      <td>advanced</td>\n",
       "      <td>total</td>\n",
       "      <td>total</td>\n",
       "      <td>REJ</td>\n",
       "      <td>total</td>\n",
       "      <td>total</td>\n",
       "      <td>total</td>\n",
       "      <td>total</td>\n",
       "      <td>bbtu</td>\n",
       "      <td>0.001825</td>\n",
       "    </tr>\n",
       "    <tr>\n",
       "      <th>175</th>\n",
       "      <td>01003</td>\n",
       "      <td>WWD</td>\n",
       "      <td>treatment</td>\n",
       "      <td>secondary</td>\n",
       "      <td>total</td>\n",
       "      <td>total</td>\n",
       "      <td>ESV</td>\n",
       "      <td>total</td>\n",
       "      <td>total</td>\n",
       "      <td>total</td>\n",
       "      <td>total</td>\n",
       "      <td>bbtu</td>\n",
       "      <td>0.004808</td>\n",
       "    </tr>\n",
       "    <tr>\n",
       "      <th>176</th>\n",
       "      <td>01003</td>\n",
       "      <td>WWD</td>\n",
       "      <td>treatment</td>\n",
       "      <td>secondary</td>\n",
       "      <td>total</td>\n",
       "      <td>total</td>\n",
       "      <td>REJ</td>\n",
       "      <td>total</td>\n",
       "      <td>total</td>\n",
       "      <td>total</td>\n",
       "      <td>total</td>\n",
       "      <td>bbtu</td>\n",
       "      <td>0.002589</td>\n",
       "    </tr>\n",
       "  </tbody>\n",
       "</table>\n",
       "<p>177 rows × 13 columns</p>\n",
       "</div>"
      ],
      "text/plain": [
       "    region   S1         S2            S3     S4     S5   T1           T2  \\\n",
       "0    01003  WSW      fresh   groundwater  total  total  AGR  aquaculture   \n",
       "1    01003  WSW      fresh  surfacewater  total  total  AGR  aquaculture   \n",
       "2    01003  WSW      fresh   groundwater  total  total  AGR         crop   \n",
       "3    01003  WSW      fresh  surfacewater  total  total  AGR         crop   \n",
       "4    01003  WSW      fresh   groundwater  total  total  AGR      ethanol   \n",
       "..     ...  ...        ...           ...    ...    ...  ...          ...   \n",
       "172  01003  WWD  secondary     municipal  total  total  SRD        total   \n",
       "173  01003  WWD  treatment      advanced  total  total  ESV        total   \n",
       "174  01003  WWD  treatment      advanced  total  total  REJ        total   \n",
       "175  01003  WWD  treatment     secondary  total  total  ESV        total   \n",
       "176  01003  WWD  treatment     secondary  total  total  REJ        total   \n",
       "\n",
       "        T3            T4          T5 units      value  \n",
       "0    fresh   groundwater  withdrawal   mgd   0.050000  \n",
       "1    fresh  surfacewater  withdrawal   mgd   0.050000  \n",
       "2    fresh   groundwater  withdrawal   mgd  47.113532  \n",
       "3    fresh  surfacewater  withdrawal   mgd   6.652714  \n",
       "4    fresh   groundwater  withdrawal   mgd   0.056468  \n",
       "..     ...           ...         ...   ...        ...  \n",
       "172  total         total       total   mgd   0.764113  \n",
       "173  total         total       total  bbtu   0.003390  \n",
       "174  total         total       total  bbtu   0.001825  \n",
       "175  total         total       total  bbtu   0.004808  \n",
       "176  total         total       total  bbtu   0.002589  \n",
       "\n",
       "[177 rows x 13 columns]"
      ]
     },
     "execution_count": 52,
     "metadata": {},
     "output_type": "execute_result"
    }
   ],
   "source": []
  },
  {
   "cell_type": "code",
   "execution_count": 27,
   "id": "be973de9",
   "metadata": {},
   "outputs": [],
   "source": [
    "region = '45067'\n",
    "df = interflow.calculate(data = data, region_name=region)#, output_file_path=r\"C:\\Users\\mong275\\Downloads\\output.csv\")"
   ]
  },
  {
   "cell_type": "code",
   "execution_count": 28,
   "id": "94b36039",
   "metadata": {},
   "outputs": [],
   "source": [
    "df.replace(\"WSW\", \"Water Supply\", inplace=True)\n",
    "df.replace(\"AGR\", \"Agriculture\", inplace=True)\n",
    "df.replace(\"RES\", \"Residential\", inplace=True)\n",
    "df.replace(\"IND\", \"Industrial\", inplace=True)\n",
    "df.replace(\"PWD\", \"Public Water Demand\", inplace=True)\n",
    "df.replace(\"PWI\", \"Public Water Imports\", inplace=True)\n",
    "df.replace(\"COM\", \"Commercial\", inplace=True)\n",
    "df.replace(\"WWS\", \"Wastewater Supply\", inplace=True)\n",
    "df.replace(\"WWD\", \"Wastewater Treatment\", inplace=True)\n",
    "df.replace(\"CMP\", \"Consumption/Evaporation\", inplace=True)\n",
    "df.replace(\"GWD\", \"Ground Discharge\", inplace=True)\n",
    "df.replace(\"SRD\", \"Surface Discharge\", inplace=True)\n",
    "df.replace(\"IRX\", \"Discharge to Irrigation\", inplace=True)\n",
    "df.replace(\"INX\", \"Discharge to Industrial\", inplace=True)\n",
    "df.replace(\"OCD\", \"Discharge to Ocean\", inplace=True)\n",
    "df.replace(\"PWS\", \"Public Water Supply\", inplace=True)\n",
    "df.replace(\"EPD\", \"Energy Demand\", inplace=True)\n",
    "df.replace(\"EGD\", \"Electricity Demand\", inplace=True)\n",
    "\n",
    "df.replace(\"TRA\", \"Transportation\", inplace=True)\n",
    "df.replace(\"ESV\", \"Energy Services\", inplace=True)\n",
    "df.replace(\"REJ\", \"Rejected Energy\", inplace=True)"
   ]
  },
  {
   "cell_type": "markdown",
   "id": "4be9d09e",
   "metadata": {},
   "source": [
    "## Produce Water & Energy Sankey Diagrams for a County"
   ]
  },
  {
   "cell_type": "code",
   "execution_count": 29,
   "id": "4656a425",
   "metadata": {},
   "outputs": [
    {
     "data": {
      "application/vnd.plotly.v1+json": {
       "config": {
        "plotlyServerURL": "https://plot.ly"
       },
       "data": [
        {
         "link": {
          "color": "rgba(102, 195, 216, 0.7)",
          "source": [
           0,
           0,
           0,
           0,
           1,
           1,
           2,
           3,
           0,
           0,
           1,
           4,
           4,
           5,
           5,
           6,
           7,
           7,
           8,
           8,
           9,
           9,
           10,
           10,
           11,
           11,
           12,
           12,
           12,
           12,
           12,
           12,
           13,
           13,
           13,
           13,
           13,
           13
          ],
          "target": [
           5,
           5,
           6,
           7,
           8,
           9,
           1,
           1,
           3,
           10,
           11,
           12,
           13,
           14,
           14,
           14,
           14,
           15,
           14,
           4,
           14,
           4,
           14,
           15,
           14,
           4,
           14,
           16,
           17,
           18,
           19,
           15,
           14,
           16,
           17,
           18,
           19,
           15
          ],
          "value": [
           0.731493102284691,
           0.0804613591545911,
           0.04,
           0.1,
           0.3078947368421053,
           2.0368421052631582,
           1.634736842105264,
           3.41,
           3.41,
           0.47,
           2.7,
           2.407613211915419,
           1.743444050007717,
           0.731493102284691,
           0.0804613591545911,
           0.04,
           0.00109890109890109,
           0.09890109890109891,
           0.04736842105263157,
           0.2605263157894737,
           0.3078947368421053,
           1.7289473684210528,
           0.09372434017595309,
           0.37627565982404687,
           0.5384164222873901,
           2.16158357771261,
           0.12592050285265252,
           0.3975806245038187,
           0.0002158072897976409,
           0.19341384047382668,
           0.0022082773995549276,
           1.688274159395768,
           0.09118381241054148,
           0.28790321084759285,
           0.00015627424433622272,
           0.14005829827415034,
           0.001599097427263913,
           1.222543356803832
          ]
         },
         "node": {
          "color": "rgba(63, 125, 152, 1)",
          "label": [
           "Water Supply-fresh",
           "Public Water Demand",
           "Public Water Imports",
           "Public Water Supply-fresh",
           "Wastewater Supply",
           "Agriculture-ethanol",
           "Agriculture-golf",
           "Agriculture-livestock",
           "Commercial-public",
           "Industrial-public",
           "Residential-fresh",
           "Residential-public",
           "Wastewater Treatment-advanced",
           "Wastewater Treatment-secondary",
           "Consumption/Evaporation",
           "Surface Discharge",
           "Ground Discharge",
           "Discharge to Industrial",
           "Discharge to Irrigation",
           "Discharge to Ocean"
          ],
          "line": {
           "color": "black",
           "width": 1
          },
          "pad": 40,
          "thickness": 10
         },
         "type": "sankey",
         "valuesuffix": "mgd"
        }
       ],
       "layout": {
        "font": {
         "size": 12
        },
        "template": {
         "data": {
          "bar": [
           {
            "error_x": {
             "color": "#2a3f5f"
            },
            "error_y": {
             "color": "#2a3f5f"
            },
            "marker": {
             "line": {
              "color": "#E5ECF6",
              "width": 0.5
             },
             "pattern": {
              "fillmode": "overlay",
              "size": 10,
              "solidity": 0.2
             }
            },
            "type": "bar"
           }
          ],
          "barpolar": [
           {
            "marker": {
             "line": {
              "color": "#E5ECF6",
              "width": 0.5
             },
             "pattern": {
              "fillmode": "overlay",
              "size": 10,
              "solidity": 0.2
             }
            },
            "type": "barpolar"
           }
          ],
          "carpet": [
           {
            "aaxis": {
             "endlinecolor": "#2a3f5f",
             "gridcolor": "white",
             "linecolor": "white",
             "minorgridcolor": "white",
             "startlinecolor": "#2a3f5f"
            },
            "baxis": {
             "endlinecolor": "#2a3f5f",
             "gridcolor": "white",
             "linecolor": "white",
             "minorgridcolor": "white",
             "startlinecolor": "#2a3f5f"
            },
            "type": "carpet"
           }
          ],
          "choropleth": [
           {
            "colorbar": {
             "outlinewidth": 0,
             "ticks": ""
            },
            "type": "choropleth"
           }
          ],
          "contour": [
           {
            "colorbar": {
             "outlinewidth": 0,
             "ticks": ""
            },
            "colorscale": [
             [
              0,
              "#0d0887"
             ],
             [
              0.1111111111111111,
              "#46039f"
             ],
             [
              0.2222222222222222,
              "#7201a8"
             ],
             [
              0.3333333333333333,
              "#9c179e"
             ],
             [
              0.4444444444444444,
              "#bd3786"
             ],
             [
              0.5555555555555556,
              "#d8576b"
             ],
             [
              0.6666666666666666,
              "#ed7953"
             ],
             [
              0.7777777777777778,
              "#fb9f3a"
             ],
             [
              0.8888888888888888,
              "#fdca26"
             ],
             [
              1,
              "#f0f921"
             ]
            ],
            "type": "contour"
           }
          ],
          "contourcarpet": [
           {
            "colorbar": {
             "outlinewidth": 0,
             "ticks": ""
            },
            "type": "contourcarpet"
           }
          ],
          "heatmap": [
           {
            "colorbar": {
             "outlinewidth": 0,
             "ticks": ""
            },
            "colorscale": [
             [
              0,
              "#0d0887"
             ],
             [
              0.1111111111111111,
              "#46039f"
             ],
             [
              0.2222222222222222,
              "#7201a8"
             ],
             [
              0.3333333333333333,
              "#9c179e"
             ],
             [
              0.4444444444444444,
              "#bd3786"
             ],
             [
              0.5555555555555556,
              "#d8576b"
             ],
             [
              0.6666666666666666,
              "#ed7953"
             ],
             [
              0.7777777777777778,
              "#fb9f3a"
             ],
             [
              0.8888888888888888,
              "#fdca26"
             ],
             [
              1,
              "#f0f921"
             ]
            ],
            "type": "heatmap"
           }
          ],
          "heatmapgl": [
           {
            "colorbar": {
             "outlinewidth": 0,
             "ticks": ""
            },
            "colorscale": [
             [
              0,
              "#0d0887"
             ],
             [
              0.1111111111111111,
              "#46039f"
             ],
             [
              0.2222222222222222,
              "#7201a8"
             ],
             [
              0.3333333333333333,
              "#9c179e"
             ],
             [
              0.4444444444444444,
              "#bd3786"
             ],
             [
              0.5555555555555556,
              "#d8576b"
             ],
             [
              0.6666666666666666,
              "#ed7953"
             ],
             [
              0.7777777777777778,
              "#fb9f3a"
             ],
             [
              0.8888888888888888,
              "#fdca26"
             ],
             [
              1,
              "#f0f921"
             ]
            ],
            "type": "heatmapgl"
           }
          ],
          "histogram": [
           {
            "marker": {
             "pattern": {
              "fillmode": "overlay",
              "size": 10,
              "solidity": 0.2
             }
            },
            "type": "histogram"
           }
          ],
          "histogram2d": [
           {
            "colorbar": {
             "outlinewidth": 0,
             "ticks": ""
            },
            "colorscale": [
             [
              0,
              "#0d0887"
             ],
             [
              0.1111111111111111,
              "#46039f"
             ],
             [
              0.2222222222222222,
              "#7201a8"
             ],
             [
              0.3333333333333333,
              "#9c179e"
             ],
             [
              0.4444444444444444,
              "#bd3786"
             ],
             [
              0.5555555555555556,
              "#d8576b"
             ],
             [
              0.6666666666666666,
              "#ed7953"
             ],
             [
              0.7777777777777778,
              "#fb9f3a"
             ],
             [
              0.8888888888888888,
              "#fdca26"
             ],
             [
              1,
              "#f0f921"
             ]
            ],
            "type": "histogram2d"
           }
          ],
          "histogram2dcontour": [
           {
            "colorbar": {
             "outlinewidth": 0,
             "ticks": ""
            },
            "colorscale": [
             [
              0,
              "#0d0887"
             ],
             [
              0.1111111111111111,
              "#46039f"
             ],
             [
              0.2222222222222222,
              "#7201a8"
             ],
             [
              0.3333333333333333,
              "#9c179e"
             ],
             [
              0.4444444444444444,
              "#bd3786"
             ],
             [
              0.5555555555555556,
              "#d8576b"
             ],
             [
              0.6666666666666666,
              "#ed7953"
             ],
             [
              0.7777777777777778,
              "#fb9f3a"
             ],
             [
              0.8888888888888888,
              "#fdca26"
             ],
             [
              1,
              "#f0f921"
             ]
            ],
            "type": "histogram2dcontour"
           }
          ],
          "mesh3d": [
           {
            "colorbar": {
             "outlinewidth": 0,
             "ticks": ""
            },
            "type": "mesh3d"
           }
          ],
          "parcoords": [
           {
            "line": {
             "colorbar": {
              "outlinewidth": 0,
              "ticks": ""
             }
            },
            "type": "parcoords"
           }
          ],
          "pie": [
           {
            "automargin": true,
            "type": "pie"
           }
          ],
          "scatter": [
           {
            "marker": {
             "colorbar": {
              "outlinewidth": 0,
              "ticks": ""
             }
            },
            "type": "scatter"
           }
          ],
          "scatter3d": [
           {
            "line": {
             "colorbar": {
              "outlinewidth": 0,
              "ticks": ""
             }
            },
            "marker": {
             "colorbar": {
              "outlinewidth": 0,
              "ticks": ""
             }
            },
            "type": "scatter3d"
           }
          ],
          "scattercarpet": [
           {
            "marker": {
             "colorbar": {
              "outlinewidth": 0,
              "ticks": ""
             }
            },
            "type": "scattercarpet"
           }
          ],
          "scattergeo": [
           {
            "marker": {
             "colorbar": {
              "outlinewidth": 0,
              "ticks": ""
             }
            },
            "type": "scattergeo"
           }
          ],
          "scattergl": [
           {
            "marker": {
             "colorbar": {
              "outlinewidth": 0,
              "ticks": ""
             }
            },
            "type": "scattergl"
           }
          ],
          "scattermapbox": [
           {
            "marker": {
             "colorbar": {
              "outlinewidth": 0,
              "ticks": ""
             }
            },
            "type": "scattermapbox"
           }
          ],
          "scatterpolar": [
           {
            "marker": {
             "colorbar": {
              "outlinewidth": 0,
              "ticks": ""
             }
            },
            "type": "scatterpolar"
           }
          ],
          "scatterpolargl": [
           {
            "marker": {
             "colorbar": {
              "outlinewidth": 0,
              "ticks": ""
             }
            },
            "type": "scatterpolargl"
           }
          ],
          "scatterternary": [
           {
            "marker": {
             "colorbar": {
              "outlinewidth": 0,
              "ticks": ""
             }
            },
            "type": "scatterternary"
           }
          ],
          "surface": [
           {
            "colorbar": {
             "outlinewidth": 0,
             "ticks": ""
            },
            "colorscale": [
             [
              0,
              "#0d0887"
             ],
             [
              0.1111111111111111,
              "#46039f"
             ],
             [
              0.2222222222222222,
              "#7201a8"
             ],
             [
              0.3333333333333333,
              "#9c179e"
             ],
             [
              0.4444444444444444,
              "#bd3786"
             ],
             [
              0.5555555555555556,
              "#d8576b"
             ],
             [
              0.6666666666666666,
              "#ed7953"
             ],
             [
              0.7777777777777778,
              "#fb9f3a"
             ],
             [
              0.8888888888888888,
              "#fdca26"
             ],
             [
              1,
              "#f0f921"
             ]
            ],
            "type": "surface"
           }
          ],
          "table": [
           {
            "cells": {
             "fill": {
              "color": "#EBF0F8"
             },
             "line": {
              "color": "white"
             }
            },
            "header": {
             "fill": {
              "color": "#C8D4E3"
             },
             "line": {
              "color": "white"
             }
            },
            "type": "table"
           }
          ]
         },
         "layout": {
          "annotationdefaults": {
           "arrowcolor": "#2a3f5f",
           "arrowhead": 0,
           "arrowwidth": 1
          },
          "autotypenumbers": "strict",
          "coloraxis": {
           "colorbar": {
            "outlinewidth": 0,
            "ticks": ""
           }
          },
          "colorscale": {
           "diverging": [
            [
             0,
             "#8e0152"
            ],
            [
             0.1,
             "#c51b7d"
            ],
            [
             0.2,
             "#de77ae"
            ],
            [
             0.3,
             "#f1b6da"
            ],
            [
             0.4,
             "#fde0ef"
            ],
            [
             0.5,
             "#f7f7f7"
            ],
            [
             0.6,
             "#e6f5d0"
            ],
            [
             0.7,
             "#b8e186"
            ],
            [
             0.8,
             "#7fbc41"
            ],
            [
             0.9,
             "#4d9221"
            ],
            [
             1,
             "#276419"
            ]
           ],
           "sequential": [
            [
             0,
             "#0d0887"
            ],
            [
             0.1111111111111111,
             "#46039f"
            ],
            [
             0.2222222222222222,
             "#7201a8"
            ],
            [
             0.3333333333333333,
             "#9c179e"
            ],
            [
             0.4444444444444444,
             "#bd3786"
            ],
            [
             0.5555555555555556,
             "#d8576b"
            ],
            [
             0.6666666666666666,
             "#ed7953"
            ],
            [
             0.7777777777777778,
             "#fb9f3a"
            ],
            [
             0.8888888888888888,
             "#fdca26"
            ],
            [
             1,
             "#f0f921"
            ]
           ],
           "sequentialminus": [
            [
             0,
             "#0d0887"
            ],
            [
             0.1111111111111111,
             "#46039f"
            ],
            [
             0.2222222222222222,
             "#7201a8"
            ],
            [
             0.3333333333333333,
             "#9c179e"
            ],
            [
             0.4444444444444444,
             "#bd3786"
            ],
            [
             0.5555555555555556,
             "#d8576b"
            ],
            [
             0.6666666666666666,
             "#ed7953"
            ],
            [
             0.7777777777777778,
             "#fb9f3a"
            ],
            [
             0.8888888888888888,
             "#fdca26"
            ],
            [
             1,
             "#f0f921"
            ]
           ]
          },
          "colorway": [
           "#636efa",
           "#EF553B",
           "#00cc96",
           "#ab63fa",
           "#FFA15A",
           "#19d3f3",
           "#FF6692",
           "#B6E880",
           "#FF97FF",
           "#FECB52"
          ],
          "font": {
           "color": "#2a3f5f"
          },
          "geo": {
           "bgcolor": "white",
           "lakecolor": "white",
           "landcolor": "#E5ECF6",
           "showlakes": true,
           "showland": true,
           "subunitcolor": "white"
          },
          "hoverlabel": {
           "align": "left"
          },
          "hovermode": "closest",
          "mapbox": {
           "style": "light"
          },
          "paper_bgcolor": "white",
          "plot_bgcolor": "#E5ECF6",
          "polar": {
           "angularaxis": {
            "gridcolor": "white",
            "linecolor": "white",
            "ticks": ""
           },
           "bgcolor": "#E5ECF6",
           "radialaxis": {
            "gridcolor": "white",
            "linecolor": "white",
            "ticks": ""
           }
          },
          "scene": {
           "xaxis": {
            "backgroundcolor": "#E5ECF6",
            "gridcolor": "white",
            "gridwidth": 2,
            "linecolor": "white",
            "showbackground": true,
            "ticks": "",
            "zerolinecolor": "white"
           },
           "yaxis": {
            "backgroundcolor": "#E5ECF6",
            "gridcolor": "white",
            "gridwidth": 2,
            "linecolor": "white",
            "showbackground": true,
            "ticks": "",
            "zerolinecolor": "white"
           },
           "zaxis": {
            "backgroundcolor": "#E5ECF6",
            "gridcolor": "white",
            "gridwidth": 2,
            "linecolor": "white",
            "showbackground": true,
            "ticks": "",
            "zerolinecolor": "white"
           }
          },
          "shapedefaults": {
           "line": {
            "color": "#2a3f5f"
           }
          },
          "ternary": {
           "aaxis": {
            "gridcolor": "white",
            "linecolor": "white",
            "ticks": ""
           },
           "baxis": {
            "gridcolor": "white",
            "linecolor": "white",
            "ticks": ""
           },
           "bgcolor": "#E5ECF6",
           "caxis": {
            "gridcolor": "white",
            "linecolor": "white",
            "ticks": ""
           }
          },
          "title": {
           "x": 0.05
          },
          "xaxis": {
           "automargin": true,
           "gridcolor": "white",
           "linecolor": "white",
           "ticks": "",
           "title": {
            "standoff": 15
           },
           "zerolinecolor": "white",
           "zerolinewidth": 2
          },
          "yaxis": {
           "automargin": true,
           "gridcolor": "white",
           "linecolor": "white",
           "ticks": "",
           "title": {
            "standoff": 15
           },
           "zerolinecolor": "white",
           "zerolinewidth": 2
          }
         }
        },
        "title": {
         "text": "mgd flows for 45067"
        }
       }
      },
      "text/html": [
       "<div>                            <div id=\"3d0c0c38-ef78-4e3f-baf2-788081576f8a\" class=\"plotly-graph-div\" style=\"height:525px; width:100%;\"></div>            <script type=\"text/javascript\">                require([\"plotly\"], function(Plotly) {                    window.PLOTLYENV=window.PLOTLYENV || {};                                    if (document.getElementById(\"3d0c0c38-ef78-4e3f-baf2-788081576f8a\")) {                    Plotly.newPlot(                        \"3d0c0c38-ef78-4e3f-baf2-788081576f8a\",                        [{\"link\":{\"color\":\"rgba(102, 195, 216, 0.7)\",\"source\":[0,0,0,0,1,1,2,3,0,0,1,4,4,5,5,6,7,7,8,8,9,9,10,10,11,11,12,12,12,12,12,12,13,13,13,13,13,13],\"target\":[5,5,6,7,8,9,1,1,3,10,11,12,13,14,14,14,14,15,14,4,14,4,14,15,14,4,14,16,17,18,19,15,14,16,17,18,19,15],\"value\":[0.731493102284691,0.0804613591545911,0.04,0.1,0.3078947368421053,2.0368421052631582,1.634736842105264,3.41,3.41,0.47,2.7,2.407613211915419,1.743444050007717,0.731493102284691,0.0804613591545911,0.04,0.00109890109890109,0.09890109890109891,0.04736842105263157,0.2605263157894737,0.3078947368421053,1.7289473684210528,0.09372434017595309,0.37627565982404687,0.5384164222873901,2.16158357771261,0.12592050285265252,0.3975806245038187,0.0002158072897976409,0.19341384047382668,0.0022082773995549276,1.688274159395768,0.09118381241054148,0.28790321084759285,0.00015627424433622272,0.14005829827415034,0.001599097427263913,1.222543356803832]},\"node\":{\"color\":\"rgba(63, 125, 152, 1)\",\"label\":[\"Water Supply-fresh\",\"Public Water Demand\",\"Public Water Imports\",\"Public Water Supply-fresh\",\"Wastewater Supply\",\"Agriculture-ethanol\",\"Agriculture-golf\",\"Agriculture-livestock\",\"Commercial-public\",\"Industrial-public\",\"Residential-fresh\",\"Residential-public\",\"Wastewater Treatment-advanced\",\"Wastewater Treatment-secondary\",\"Consumption/Evaporation\",\"Surface Discharge\",\"Ground Discharge\",\"Discharge to Industrial\",\"Discharge to Irrigation\",\"Discharge to Ocean\"],\"line\":{\"color\":\"black\",\"width\":1},\"pad\":40,\"thickness\":10},\"type\":\"sankey\",\"valuesuffix\":\"mgd\"}],                        {\"template\":{\"data\":{\"bar\":[{\"error_x\":{\"color\":\"#2a3f5f\"},\"error_y\":{\"color\":\"#2a3f5f\"},\"marker\":{\"line\":{\"color\":\"#E5ECF6\",\"width\":0.5},\"pattern\":{\"fillmode\":\"overlay\",\"size\":10,\"solidity\":0.2}},\"type\":\"bar\"}],\"barpolar\":[{\"marker\":{\"line\":{\"color\":\"#E5ECF6\",\"width\":0.5},\"pattern\":{\"fillmode\":\"overlay\",\"size\":10,\"solidity\":0.2}},\"type\":\"barpolar\"}],\"carpet\":[{\"aaxis\":{\"endlinecolor\":\"#2a3f5f\",\"gridcolor\":\"white\",\"linecolor\":\"white\",\"minorgridcolor\":\"white\",\"startlinecolor\":\"#2a3f5f\"},\"baxis\":{\"endlinecolor\":\"#2a3f5f\",\"gridcolor\":\"white\",\"linecolor\":\"white\",\"minorgridcolor\":\"white\",\"startlinecolor\":\"#2a3f5f\"},\"type\":\"carpet\"}],\"choropleth\":[{\"colorbar\":{\"outlinewidth\":0,\"ticks\":\"\"},\"type\":\"choropleth\"}],\"contour\":[{\"colorbar\":{\"outlinewidth\":0,\"ticks\":\"\"},\"colorscale\":[[0.0,\"#0d0887\"],[0.1111111111111111,\"#46039f\"],[0.2222222222222222,\"#7201a8\"],[0.3333333333333333,\"#9c179e\"],[0.4444444444444444,\"#bd3786\"],[0.5555555555555556,\"#d8576b\"],[0.6666666666666666,\"#ed7953\"],[0.7777777777777778,\"#fb9f3a\"],[0.8888888888888888,\"#fdca26\"],[1.0,\"#f0f921\"]],\"type\":\"contour\"}],\"contourcarpet\":[{\"colorbar\":{\"outlinewidth\":0,\"ticks\":\"\"},\"type\":\"contourcarpet\"}],\"heatmap\":[{\"colorbar\":{\"outlinewidth\":0,\"ticks\":\"\"},\"colorscale\":[[0.0,\"#0d0887\"],[0.1111111111111111,\"#46039f\"],[0.2222222222222222,\"#7201a8\"],[0.3333333333333333,\"#9c179e\"],[0.4444444444444444,\"#bd3786\"],[0.5555555555555556,\"#d8576b\"],[0.6666666666666666,\"#ed7953\"],[0.7777777777777778,\"#fb9f3a\"],[0.8888888888888888,\"#fdca26\"],[1.0,\"#f0f921\"]],\"type\":\"heatmap\"}],\"heatmapgl\":[{\"colorbar\":{\"outlinewidth\":0,\"ticks\":\"\"},\"colorscale\":[[0.0,\"#0d0887\"],[0.1111111111111111,\"#46039f\"],[0.2222222222222222,\"#7201a8\"],[0.3333333333333333,\"#9c179e\"],[0.4444444444444444,\"#bd3786\"],[0.5555555555555556,\"#d8576b\"],[0.6666666666666666,\"#ed7953\"],[0.7777777777777778,\"#fb9f3a\"],[0.8888888888888888,\"#fdca26\"],[1.0,\"#f0f921\"]],\"type\":\"heatmapgl\"}],\"histogram\":[{\"marker\":{\"pattern\":{\"fillmode\":\"overlay\",\"size\":10,\"solidity\":0.2}},\"type\":\"histogram\"}],\"histogram2d\":[{\"colorbar\":{\"outlinewidth\":0,\"ticks\":\"\"},\"colorscale\":[[0.0,\"#0d0887\"],[0.1111111111111111,\"#46039f\"],[0.2222222222222222,\"#7201a8\"],[0.3333333333333333,\"#9c179e\"],[0.4444444444444444,\"#bd3786\"],[0.5555555555555556,\"#d8576b\"],[0.6666666666666666,\"#ed7953\"],[0.7777777777777778,\"#fb9f3a\"],[0.8888888888888888,\"#fdca26\"],[1.0,\"#f0f921\"]],\"type\":\"histogram2d\"}],\"histogram2dcontour\":[{\"colorbar\":{\"outlinewidth\":0,\"ticks\":\"\"},\"colorscale\":[[0.0,\"#0d0887\"],[0.1111111111111111,\"#46039f\"],[0.2222222222222222,\"#7201a8\"],[0.3333333333333333,\"#9c179e\"],[0.4444444444444444,\"#bd3786\"],[0.5555555555555556,\"#d8576b\"],[0.6666666666666666,\"#ed7953\"],[0.7777777777777778,\"#fb9f3a\"],[0.8888888888888888,\"#fdca26\"],[1.0,\"#f0f921\"]],\"type\":\"histogram2dcontour\"}],\"mesh3d\":[{\"colorbar\":{\"outlinewidth\":0,\"ticks\":\"\"},\"type\":\"mesh3d\"}],\"parcoords\":[{\"line\":{\"colorbar\":{\"outlinewidth\":0,\"ticks\":\"\"}},\"type\":\"parcoords\"}],\"pie\":[{\"automargin\":true,\"type\":\"pie\"}],\"scatter\":[{\"marker\":{\"colorbar\":{\"outlinewidth\":0,\"ticks\":\"\"}},\"type\":\"scatter\"}],\"scatter3d\":[{\"line\":{\"colorbar\":{\"outlinewidth\":0,\"ticks\":\"\"}},\"marker\":{\"colorbar\":{\"outlinewidth\":0,\"ticks\":\"\"}},\"type\":\"scatter3d\"}],\"scattercarpet\":[{\"marker\":{\"colorbar\":{\"outlinewidth\":0,\"ticks\":\"\"}},\"type\":\"scattercarpet\"}],\"scattergeo\":[{\"marker\":{\"colorbar\":{\"outlinewidth\":0,\"ticks\":\"\"}},\"type\":\"scattergeo\"}],\"scattergl\":[{\"marker\":{\"colorbar\":{\"outlinewidth\":0,\"ticks\":\"\"}},\"type\":\"scattergl\"}],\"scattermapbox\":[{\"marker\":{\"colorbar\":{\"outlinewidth\":0,\"ticks\":\"\"}},\"type\":\"scattermapbox\"}],\"scatterpolar\":[{\"marker\":{\"colorbar\":{\"outlinewidth\":0,\"ticks\":\"\"}},\"type\":\"scatterpolar\"}],\"scatterpolargl\":[{\"marker\":{\"colorbar\":{\"outlinewidth\":0,\"ticks\":\"\"}},\"type\":\"scatterpolargl\"}],\"scatterternary\":[{\"marker\":{\"colorbar\":{\"outlinewidth\":0,\"ticks\":\"\"}},\"type\":\"scatterternary\"}],\"surface\":[{\"colorbar\":{\"outlinewidth\":0,\"ticks\":\"\"},\"colorscale\":[[0.0,\"#0d0887\"],[0.1111111111111111,\"#46039f\"],[0.2222222222222222,\"#7201a8\"],[0.3333333333333333,\"#9c179e\"],[0.4444444444444444,\"#bd3786\"],[0.5555555555555556,\"#d8576b\"],[0.6666666666666666,\"#ed7953\"],[0.7777777777777778,\"#fb9f3a\"],[0.8888888888888888,\"#fdca26\"],[1.0,\"#f0f921\"]],\"type\":\"surface\"}],\"table\":[{\"cells\":{\"fill\":{\"color\":\"#EBF0F8\"},\"line\":{\"color\":\"white\"}},\"header\":{\"fill\":{\"color\":\"#C8D4E3\"},\"line\":{\"color\":\"white\"}},\"type\":\"table\"}]},\"layout\":{\"annotationdefaults\":{\"arrowcolor\":\"#2a3f5f\",\"arrowhead\":0,\"arrowwidth\":1},\"autotypenumbers\":\"strict\",\"coloraxis\":{\"colorbar\":{\"outlinewidth\":0,\"ticks\":\"\"}},\"colorscale\":{\"diverging\":[[0,\"#8e0152\"],[0.1,\"#c51b7d\"],[0.2,\"#de77ae\"],[0.3,\"#f1b6da\"],[0.4,\"#fde0ef\"],[0.5,\"#f7f7f7\"],[0.6,\"#e6f5d0\"],[0.7,\"#b8e186\"],[0.8,\"#7fbc41\"],[0.9,\"#4d9221\"],[1,\"#276419\"]],\"sequential\":[[0.0,\"#0d0887\"],[0.1111111111111111,\"#46039f\"],[0.2222222222222222,\"#7201a8\"],[0.3333333333333333,\"#9c179e\"],[0.4444444444444444,\"#bd3786\"],[0.5555555555555556,\"#d8576b\"],[0.6666666666666666,\"#ed7953\"],[0.7777777777777778,\"#fb9f3a\"],[0.8888888888888888,\"#fdca26\"],[1.0,\"#f0f921\"]],\"sequentialminus\":[[0.0,\"#0d0887\"],[0.1111111111111111,\"#46039f\"],[0.2222222222222222,\"#7201a8\"],[0.3333333333333333,\"#9c179e\"],[0.4444444444444444,\"#bd3786\"],[0.5555555555555556,\"#d8576b\"],[0.6666666666666666,\"#ed7953\"],[0.7777777777777778,\"#fb9f3a\"],[0.8888888888888888,\"#fdca26\"],[1.0,\"#f0f921\"]]},\"colorway\":[\"#636efa\",\"#EF553B\",\"#00cc96\",\"#ab63fa\",\"#FFA15A\",\"#19d3f3\",\"#FF6692\",\"#B6E880\",\"#FF97FF\",\"#FECB52\"],\"font\":{\"color\":\"#2a3f5f\"},\"geo\":{\"bgcolor\":\"white\",\"lakecolor\":\"white\",\"landcolor\":\"#E5ECF6\",\"showlakes\":true,\"showland\":true,\"subunitcolor\":\"white\"},\"hoverlabel\":{\"align\":\"left\"},\"hovermode\":\"closest\",\"mapbox\":{\"style\":\"light\"},\"paper_bgcolor\":\"white\",\"plot_bgcolor\":\"#E5ECF6\",\"polar\":{\"angularaxis\":{\"gridcolor\":\"white\",\"linecolor\":\"white\",\"ticks\":\"\"},\"bgcolor\":\"#E5ECF6\",\"radialaxis\":{\"gridcolor\":\"white\",\"linecolor\":\"white\",\"ticks\":\"\"}},\"scene\":{\"xaxis\":{\"backgroundcolor\":\"#E5ECF6\",\"gridcolor\":\"white\",\"gridwidth\":2,\"linecolor\":\"white\",\"showbackground\":true,\"ticks\":\"\",\"zerolinecolor\":\"white\"},\"yaxis\":{\"backgroundcolor\":\"#E5ECF6\",\"gridcolor\":\"white\",\"gridwidth\":2,\"linecolor\":\"white\",\"showbackground\":true,\"ticks\":\"\",\"zerolinecolor\":\"white\"},\"zaxis\":{\"backgroundcolor\":\"#E5ECF6\",\"gridcolor\":\"white\",\"gridwidth\":2,\"linecolor\":\"white\",\"showbackground\":true,\"ticks\":\"\",\"zerolinecolor\":\"white\"}},\"shapedefaults\":{\"line\":{\"color\":\"#2a3f5f\"}},\"ternary\":{\"aaxis\":{\"gridcolor\":\"white\",\"linecolor\":\"white\",\"ticks\":\"\"},\"baxis\":{\"gridcolor\":\"white\",\"linecolor\":\"white\",\"ticks\":\"\"},\"bgcolor\":\"#E5ECF6\",\"caxis\":{\"gridcolor\":\"white\",\"linecolor\":\"white\",\"ticks\":\"\"}},\"title\":{\"x\":0.05},\"xaxis\":{\"automargin\":true,\"gridcolor\":\"white\",\"linecolor\":\"white\",\"ticks\":\"\",\"title\":{\"standoff\":15},\"zerolinecolor\":\"white\",\"zerolinewidth\":2},\"yaxis\":{\"automargin\":true,\"gridcolor\":\"white\",\"linecolor\":\"white\",\"ticks\":\"\",\"title\":{\"standoff\":15},\"zerolinecolor\":\"white\",\"zerolinewidth\":2}}},\"title\":{\"text\":\"mgd flows for 45067\"},\"font\":{\"size\":12}},                        {\"responsive\": true}                    ).then(function(){\n",
       "                            \n",
       "var gd = document.getElementById('3d0c0c38-ef78-4e3f-baf2-788081576f8a');\n",
       "var x = new MutationObserver(function (mutations, observer) {{\n",
       "        var display = window.getComputedStyle(gd).display;\n",
       "        if (!display || display === 'none') {{\n",
       "            console.log([gd, 'removed!']);\n",
       "            Plotly.purge(gd);\n",
       "            observer.disconnect();\n",
       "        }}\n",
       "}});\n",
       "\n",
       "// Listen for the removal of the full notebook cells\n",
       "var notebookContainer = gd.closest('#notebook-container');\n",
       "if (notebookContainer) {{\n",
       "    x.observe(notebookContainer, {childList: true});\n",
       "}}\n",
       "\n",
       "// Listen for the clearing of the current output cell\n",
       "var outputEl = gd.closest('.output');\n",
       "if (outputEl) {{\n",
       "    x.observe(outputEl, {childList: true});\n",
       "}}\n",
       "\n",
       "                        })                };                });            </script>        </div>"
      ]
     },
     "metadata": {},
     "output_type": "display_data"
    },
    {
     "data": {
      "application/vnd.plotly.v1+json": {
       "config": {
        "plotlyServerURL": "https://plot.ly"
       },
       "data": [
        {
         "link": {
          "color": "rgba(252, 230, 112, 1)",
          "source": [
           0,
           1,
           2,
           3,
           4,
           5,
           6,
           1,
           2,
           3,
           0,
           1,
           7,
           2,
           3,
           4,
           0,
           2,
           3,
           1,
           2,
           3,
           1,
           1,
           1,
           1,
           1,
           1,
           8,
           8,
           9,
           9,
           10,
           10,
           11,
           11,
           12,
           12,
           13,
           13,
           14,
           14,
           15,
           15,
           16,
           16,
           17,
           17,
           18,
           18,
           19,
           19,
           20,
           20,
           21,
           21,
           22,
           22,
           23,
           23,
           24,
           24,
           25,
           25,
           26,
           26,
           27,
           27,
           28,
           28,
           29,
           29,
           30,
           30,
           31,
           31,
           32,
           32,
           32,
           32
          ],
          "target": [
           10,
           11,
           12,
           13,
           14,
           15,
           16,
           17,
           18,
           19,
           23,
           24,
           25,
           26,
           27,
           28,
           29,
           30,
           31,
           8,
           8,
           8,
           9,
           20,
           21,
           22,
           32,
           32,
           33,
           34,
           33,
           34,
           33,
           34,
           33,
           34,
           33,
           34,
           33,
           34,
           33,
           34,
           33,
           34,
           33,
           34,
           33,
           34,
           33,
           34,
           33,
           34,
           33,
           34,
           33,
           34,
           33,
           34,
           33,
           34,
           33,
           34,
           33,
           34,
           33,
           34,
           33,
           34,
           33,
           34,
           33,
           34,
           33,
           34,
           33,
           34,
           33,
           34,
           33,
           34
          ],
          "value": [
           0.0048142069852436,
           1.329057729534281,
           0.4347530905899154,
           0.2101374702156707,
           0.0002664690213234,
           1.4983553069017457,
           0.2011130526935166,
           1.7785044571718829,
           1.5539762739526597,
           0.9428029266452004,
           0.0328645126298918,
           1.821972153104348,
           0.0115114617211729,
           0.520094235819105,
           0.0825343382045824,
           0.0015099911208328,
           0.3693438281557198,
           0.047129487571407,
           8.206375391292529,
           0.000248139489458591,
           7.468216337039483e-08,
           0.0001150345365715345,
           0.0012713704786772358,
           0.012100813296,
           0.043067765669495536,
           0.04545302213649553,
           0.022098654897794657,
           0.026560311283389655,
           0.0002361116603257724,
           0.00012713704786772358,
           0.0008263908111402033,
           0.0004449796675370325,
           0.00312923454040834,
           0.0016849724448352598,
           0.8638875241972827,
           0.46517020533699827,
           0.28258950888344503,
           0.15216358170647037,
           0.13658935564018596,
           0.07354811457548474,
           0.00017320486386021,
           9.326415746319e-05,
           0.9739309494861347,
           0.524424357415611,
           0.09854539581982313,
           0.10256765687369346,
           0.8714671840142226,
           0.9070372731576603,
           0.7614483742368032,
           0.7925278997158565,
           0.46197343405614816,
           0.4808294925890522,
           0.007865528642400001,
           0.0042352846536,
           0.0279940476851721,
           0.015073717984323437,
           0.029544464388722096,
           0.015908557747773437,
           0.021361933209429668,
           0.011502579420462128,
           1.1842818995178261,
           0.6376902535865218,
           0.007482450118762385,
           0.004029011602410515,
           0.33806125328241826,
           0.18203298253668673,
           0.05364731983297857,
           0.02888701837160384,
           0.00098149422854132,
           0.0005284968922914799,
           0.07756220391270116,
           0.2917816242430187,
           0.00989719238999547,
           0.03723229518141154,
           1.723338832171431,
           6.483036559121098,
           0.014364125683566528,
           0.0077345292142281296,
           0.017264202334203275,
           0.009296108949186378
          ]
         },
         "node": {
          "color": "rgba(209, 155, 30, 1)",
          "label": [
           "Energy Demand-biomass",
           "Electricity Demand",
           "Energy Demand-natgas",
           "Energy Demand-petroleum",
           "Energy Demand-solar",
           "Energy Demand-wind",
           "Energy Demand-coal",
           "Energy Demand-geothermal",
           "Agriculture-crop",
           "Agriculture-livestock",
           "Commercial-biomass",
           "Commercial-electricity",
           "Commercial-natgas",
           "Commercial-petroleum",
           "Commercial-solar",
           "Commercial-wind",
           "Industrial-coal",
           "Industrial-electricity",
           "Industrial-natgas",
           "Industrial-petroleum",
           "Public Water Supply-distribution",
           "Public Water Supply-pumping",
           "Public Water Supply-treatment",
           "Residential-biomass",
           "Residential-electricity",
           "Residential-geothermal",
           "Residential-natgas",
           "Residential-petroleum",
           "Residential-solar",
           "Transportation-biomass",
           "Transportation-natgas",
           "Transportation-petroleum",
           "Wastewater Treatment-treatment",
           "Energy Services",
           "Rejected Energy"
          ],
          "line": {
           "color": "black",
           "width": 1
          },
          "pad": 20,
          "thickness": 10
         },
         "type": "sankey",
         "valuesuffix": "bbtu"
        }
       ],
       "layout": {
        "font": {
         "size": 12
        },
        "template": {
         "data": {
          "bar": [
           {
            "error_x": {
             "color": "#2a3f5f"
            },
            "error_y": {
             "color": "#2a3f5f"
            },
            "marker": {
             "line": {
              "color": "#E5ECF6",
              "width": 0.5
             },
             "pattern": {
              "fillmode": "overlay",
              "size": 10,
              "solidity": 0.2
             }
            },
            "type": "bar"
           }
          ],
          "barpolar": [
           {
            "marker": {
             "line": {
              "color": "#E5ECF6",
              "width": 0.5
             },
             "pattern": {
              "fillmode": "overlay",
              "size": 10,
              "solidity": 0.2
             }
            },
            "type": "barpolar"
           }
          ],
          "carpet": [
           {
            "aaxis": {
             "endlinecolor": "#2a3f5f",
             "gridcolor": "white",
             "linecolor": "white",
             "minorgridcolor": "white",
             "startlinecolor": "#2a3f5f"
            },
            "baxis": {
             "endlinecolor": "#2a3f5f",
             "gridcolor": "white",
             "linecolor": "white",
             "minorgridcolor": "white",
             "startlinecolor": "#2a3f5f"
            },
            "type": "carpet"
           }
          ],
          "choropleth": [
           {
            "colorbar": {
             "outlinewidth": 0,
             "ticks": ""
            },
            "type": "choropleth"
           }
          ],
          "contour": [
           {
            "colorbar": {
             "outlinewidth": 0,
             "ticks": ""
            },
            "colorscale": [
             [
              0,
              "#0d0887"
             ],
             [
              0.1111111111111111,
              "#46039f"
             ],
             [
              0.2222222222222222,
              "#7201a8"
             ],
             [
              0.3333333333333333,
              "#9c179e"
             ],
             [
              0.4444444444444444,
              "#bd3786"
             ],
             [
              0.5555555555555556,
              "#d8576b"
             ],
             [
              0.6666666666666666,
              "#ed7953"
             ],
             [
              0.7777777777777778,
              "#fb9f3a"
             ],
             [
              0.8888888888888888,
              "#fdca26"
             ],
             [
              1,
              "#f0f921"
             ]
            ],
            "type": "contour"
           }
          ],
          "contourcarpet": [
           {
            "colorbar": {
             "outlinewidth": 0,
             "ticks": ""
            },
            "type": "contourcarpet"
           }
          ],
          "heatmap": [
           {
            "colorbar": {
             "outlinewidth": 0,
             "ticks": ""
            },
            "colorscale": [
             [
              0,
              "#0d0887"
             ],
             [
              0.1111111111111111,
              "#46039f"
             ],
             [
              0.2222222222222222,
              "#7201a8"
             ],
             [
              0.3333333333333333,
              "#9c179e"
             ],
             [
              0.4444444444444444,
              "#bd3786"
             ],
             [
              0.5555555555555556,
              "#d8576b"
             ],
             [
              0.6666666666666666,
              "#ed7953"
             ],
             [
              0.7777777777777778,
              "#fb9f3a"
             ],
             [
              0.8888888888888888,
              "#fdca26"
             ],
             [
              1,
              "#f0f921"
             ]
            ],
            "type": "heatmap"
           }
          ],
          "heatmapgl": [
           {
            "colorbar": {
             "outlinewidth": 0,
             "ticks": ""
            },
            "colorscale": [
             [
              0,
              "#0d0887"
             ],
             [
              0.1111111111111111,
              "#46039f"
             ],
             [
              0.2222222222222222,
              "#7201a8"
             ],
             [
              0.3333333333333333,
              "#9c179e"
             ],
             [
              0.4444444444444444,
              "#bd3786"
             ],
             [
              0.5555555555555556,
              "#d8576b"
             ],
             [
              0.6666666666666666,
              "#ed7953"
             ],
             [
              0.7777777777777778,
              "#fb9f3a"
             ],
             [
              0.8888888888888888,
              "#fdca26"
             ],
             [
              1,
              "#f0f921"
             ]
            ],
            "type": "heatmapgl"
           }
          ],
          "histogram": [
           {
            "marker": {
             "pattern": {
              "fillmode": "overlay",
              "size": 10,
              "solidity": 0.2
             }
            },
            "type": "histogram"
           }
          ],
          "histogram2d": [
           {
            "colorbar": {
             "outlinewidth": 0,
             "ticks": ""
            },
            "colorscale": [
             [
              0,
              "#0d0887"
             ],
             [
              0.1111111111111111,
              "#46039f"
             ],
             [
              0.2222222222222222,
              "#7201a8"
             ],
             [
              0.3333333333333333,
              "#9c179e"
             ],
             [
              0.4444444444444444,
              "#bd3786"
             ],
             [
              0.5555555555555556,
              "#d8576b"
             ],
             [
              0.6666666666666666,
              "#ed7953"
             ],
             [
              0.7777777777777778,
              "#fb9f3a"
             ],
             [
              0.8888888888888888,
              "#fdca26"
             ],
             [
              1,
              "#f0f921"
             ]
            ],
            "type": "histogram2d"
           }
          ],
          "histogram2dcontour": [
           {
            "colorbar": {
             "outlinewidth": 0,
             "ticks": ""
            },
            "colorscale": [
             [
              0,
              "#0d0887"
             ],
             [
              0.1111111111111111,
              "#46039f"
             ],
             [
              0.2222222222222222,
              "#7201a8"
             ],
             [
              0.3333333333333333,
              "#9c179e"
             ],
             [
              0.4444444444444444,
              "#bd3786"
             ],
             [
              0.5555555555555556,
              "#d8576b"
             ],
             [
              0.6666666666666666,
              "#ed7953"
             ],
             [
              0.7777777777777778,
              "#fb9f3a"
             ],
             [
              0.8888888888888888,
              "#fdca26"
             ],
             [
              1,
              "#f0f921"
             ]
            ],
            "type": "histogram2dcontour"
           }
          ],
          "mesh3d": [
           {
            "colorbar": {
             "outlinewidth": 0,
             "ticks": ""
            },
            "type": "mesh3d"
           }
          ],
          "parcoords": [
           {
            "line": {
             "colorbar": {
              "outlinewidth": 0,
              "ticks": ""
             }
            },
            "type": "parcoords"
           }
          ],
          "pie": [
           {
            "automargin": true,
            "type": "pie"
           }
          ],
          "scatter": [
           {
            "marker": {
             "colorbar": {
              "outlinewidth": 0,
              "ticks": ""
             }
            },
            "type": "scatter"
           }
          ],
          "scatter3d": [
           {
            "line": {
             "colorbar": {
              "outlinewidth": 0,
              "ticks": ""
             }
            },
            "marker": {
             "colorbar": {
              "outlinewidth": 0,
              "ticks": ""
             }
            },
            "type": "scatter3d"
           }
          ],
          "scattercarpet": [
           {
            "marker": {
             "colorbar": {
              "outlinewidth": 0,
              "ticks": ""
             }
            },
            "type": "scattercarpet"
           }
          ],
          "scattergeo": [
           {
            "marker": {
             "colorbar": {
              "outlinewidth": 0,
              "ticks": ""
             }
            },
            "type": "scattergeo"
           }
          ],
          "scattergl": [
           {
            "marker": {
             "colorbar": {
              "outlinewidth": 0,
              "ticks": ""
             }
            },
            "type": "scattergl"
           }
          ],
          "scattermapbox": [
           {
            "marker": {
             "colorbar": {
              "outlinewidth": 0,
              "ticks": ""
             }
            },
            "type": "scattermapbox"
           }
          ],
          "scatterpolar": [
           {
            "marker": {
             "colorbar": {
              "outlinewidth": 0,
              "ticks": ""
             }
            },
            "type": "scatterpolar"
           }
          ],
          "scatterpolargl": [
           {
            "marker": {
             "colorbar": {
              "outlinewidth": 0,
              "ticks": ""
             }
            },
            "type": "scatterpolargl"
           }
          ],
          "scatterternary": [
           {
            "marker": {
             "colorbar": {
              "outlinewidth": 0,
              "ticks": ""
             }
            },
            "type": "scatterternary"
           }
          ],
          "surface": [
           {
            "colorbar": {
             "outlinewidth": 0,
             "ticks": ""
            },
            "colorscale": [
             [
              0,
              "#0d0887"
             ],
             [
              0.1111111111111111,
              "#46039f"
             ],
             [
              0.2222222222222222,
              "#7201a8"
             ],
             [
              0.3333333333333333,
              "#9c179e"
             ],
             [
              0.4444444444444444,
              "#bd3786"
             ],
             [
              0.5555555555555556,
              "#d8576b"
             ],
             [
              0.6666666666666666,
              "#ed7953"
             ],
             [
              0.7777777777777778,
              "#fb9f3a"
             ],
             [
              0.8888888888888888,
              "#fdca26"
             ],
             [
              1,
              "#f0f921"
             ]
            ],
            "type": "surface"
           }
          ],
          "table": [
           {
            "cells": {
             "fill": {
              "color": "#EBF0F8"
             },
             "line": {
              "color": "white"
             }
            },
            "header": {
             "fill": {
              "color": "#C8D4E3"
             },
             "line": {
              "color": "white"
             }
            },
            "type": "table"
           }
          ]
         },
         "layout": {
          "annotationdefaults": {
           "arrowcolor": "#2a3f5f",
           "arrowhead": 0,
           "arrowwidth": 1
          },
          "autotypenumbers": "strict",
          "coloraxis": {
           "colorbar": {
            "outlinewidth": 0,
            "ticks": ""
           }
          },
          "colorscale": {
           "diverging": [
            [
             0,
             "#8e0152"
            ],
            [
             0.1,
             "#c51b7d"
            ],
            [
             0.2,
             "#de77ae"
            ],
            [
             0.3,
             "#f1b6da"
            ],
            [
             0.4,
             "#fde0ef"
            ],
            [
             0.5,
             "#f7f7f7"
            ],
            [
             0.6,
             "#e6f5d0"
            ],
            [
             0.7,
             "#b8e186"
            ],
            [
             0.8,
             "#7fbc41"
            ],
            [
             0.9,
             "#4d9221"
            ],
            [
             1,
             "#276419"
            ]
           ],
           "sequential": [
            [
             0,
             "#0d0887"
            ],
            [
             0.1111111111111111,
             "#46039f"
            ],
            [
             0.2222222222222222,
             "#7201a8"
            ],
            [
             0.3333333333333333,
             "#9c179e"
            ],
            [
             0.4444444444444444,
             "#bd3786"
            ],
            [
             0.5555555555555556,
             "#d8576b"
            ],
            [
             0.6666666666666666,
             "#ed7953"
            ],
            [
             0.7777777777777778,
             "#fb9f3a"
            ],
            [
             0.8888888888888888,
             "#fdca26"
            ],
            [
             1,
             "#f0f921"
            ]
           ],
           "sequentialminus": [
            [
             0,
             "#0d0887"
            ],
            [
             0.1111111111111111,
             "#46039f"
            ],
            [
             0.2222222222222222,
             "#7201a8"
            ],
            [
             0.3333333333333333,
             "#9c179e"
            ],
            [
             0.4444444444444444,
             "#bd3786"
            ],
            [
             0.5555555555555556,
             "#d8576b"
            ],
            [
             0.6666666666666666,
             "#ed7953"
            ],
            [
             0.7777777777777778,
             "#fb9f3a"
            ],
            [
             0.8888888888888888,
             "#fdca26"
            ],
            [
             1,
             "#f0f921"
            ]
           ]
          },
          "colorway": [
           "#636efa",
           "#EF553B",
           "#00cc96",
           "#ab63fa",
           "#FFA15A",
           "#19d3f3",
           "#FF6692",
           "#B6E880",
           "#FF97FF",
           "#FECB52"
          ],
          "font": {
           "color": "#2a3f5f"
          },
          "geo": {
           "bgcolor": "white",
           "lakecolor": "white",
           "landcolor": "#E5ECF6",
           "showlakes": true,
           "showland": true,
           "subunitcolor": "white"
          },
          "hoverlabel": {
           "align": "left"
          },
          "hovermode": "closest",
          "mapbox": {
           "style": "light"
          },
          "paper_bgcolor": "white",
          "plot_bgcolor": "#E5ECF6",
          "polar": {
           "angularaxis": {
            "gridcolor": "white",
            "linecolor": "white",
            "ticks": ""
           },
           "bgcolor": "#E5ECF6",
           "radialaxis": {
            "gridcolor": "white",
            "linecolor": "white",
            "ticks": ""
           }
          },
          "scene": {
           "xaxis": {
            "backgroundcolor": "#E5ECF6",
            "gridcolor": "white",
            "gridwidth": 2,
            "linecolor": "white",
            "showbackground": true,
            "ticks": "",
            "zerolinecolor": "white"
           },
           "yaxis": {
            "backgroundcolor": "#E5ECF6",
            "gridcolor": "white",
            "gridwidth": 2,
            "linecolor": "white",
            "showbackground": true,
            "ticks": "",
            "zerolinecolor": "white"
           },
           "zaxis": {
            "backgroundcolor": "#E5ECF6",
            "gridcolor": "white",
            "gridwidth": 2,
            "linecolor": "white",
            "showbackground": true,
            "ticks": "",
            "zerolinecolor": "white"
           }
          },
          "shapedefaults": {
           "line": {
            "color": "#2a3f5f"
           }
          },
          "ternary": {
           "aaxis": {
            "gridcolor": "white",
            "linecolor": "white",
            "ticks": ""
           },
           "baxis": {
            "gridcolor": "white",
            "linecolor": "white",
            "ticks": ""
           },
           "bgcolor": "#E5ECF6",
           "caxis": {
            "gridcolor": "white",
            "linecolor": "white",
            "ticks": ""
           }
          },
          "title": {
           "x": 0.05
          },
          "xaxis": {
           "automargin": true,
           "gridcolor": "white",
           "linecolor": "white",
           "ticks": "",
           "title": {
            "standoff": 15
           },
           "zerolinecolor": "white",
           "zerolinewidth": 2
          },
          "yaxis": {
           "automargin": true,
           "gridcolor": "white",
           "linecolor": "white",
           "ticks": "",
           "title": {
            "standoff": 15
           },
           "zerolinecolor": "white",
           "zerolinewidth": 2
          }
         }
        },
        "title": {
         "text": "bbtu flows for 45067"
        }
       }
      },
      "text/html": [
       "<div>                            <div id=\"95c2b58e-3939-475a-9e1d-96deb5f2a946\" class=\"plotly-graph-div\" style=\"height:525px; width:100%;\"></div>            <script type=\"text/javascript\">                require([\"plotly\"], function(Plotly) {                    window.PLOTLYENV=window.PLOTLYENV || {};                                    if (document.getElementById(\"95c2b58e-3939-475a-9e1d-96deb5f2a946\")) {                    Plotly.newPlot(                        \"95c2b58e-3939-475a-9e1d-96deb5f2a946\",                        [{\"link\":{\"color\":\"rgba(252, 230, 112, 1)\",\"source\":[0,1,2,3,4,5,6,1,2,3,0,1,7,2,3,4,0,2,3,1,2,3,1,1,1,1,1,1,8,8,9,9,10,10,11,11,12,12,13,13,14,14,15,15,16,16,17,17,18,18,19,19,20,20,21,21,22,22,23,23,24,24,25,25,26,26,27,27,28,28,29,29,30,30,31,31,32,32,32,32],\"target\":[10,11,12,13,14,15,16,17,18,19,23,24,25,26,27,28,29,30,31,8,8,8,9,20,21,22,32,32,33,34,33,34,33,34,33,34,33,34,33,34,33,34,33,34,33,34,33,34,33,34,33,34,33,34,33,34,33,34,33,34,33,34,33,34,33,34,33,34,33,34,33,34,33,34,33,34,33,34,33,34],\"value\":[0.0048142069852436,1.329057729534281,0.4347530905899154,0.2101374702156707,0.0002664690213234,1.4983553069017457,0.2011130526935166,1.7785044571718829,1.5539762739526597,0.9428029266452004,0.0328645126298918,1.821972153104348,0.0115114617211729,0.520094235819105,0.0825343382045824,0.0015099911208328,0.3693438281557198,0.047129487571407,8.206375391292529,0.000248139489458591,7.468216337039483e-08,0.0001150345365715345,0.0012713704786772358,0.012100813296,0.043067765669495536,0.04545302213649553,0.022098654897794657,0.026560311283389655,0.0002361116603257724,0.00012713704786772358,0.0008263908111402033,0.0004449796675370325,0.00312923454040834,0.0016849724448352598,0.8638875241972827,0.46517020533699827,0.28258950888344503,0.15216358170647037,0.13658935564018596,0.07354811457548474,0.00017320486386021,9.326415746319e-05,0.9739309494861347,0.524424357415611,0.09854539581982313,0.10256765687369346,0.8714671840142226,0.9070372731576603,0.7614483742368032,0.7925278997158565,0.46197343405614816,0.4808294925890522,0.007865528642400001,0.0042352846536,0.0279940476851721,0.015073717984323437,0.029544464388722096,0.015908557747773437,0.021361933209429668,0.011502579420462128,1.1842818995178261,0.6376902535865218,0.007482450118762385,0.004029011602410515,0.33806125328241826,0.18203298253668673,0.05364731983297857,0.02888701837160384,0.00098149422854132,0.0005284968922914799,0.07756220391270116,0.2917816242430187,0.00989719238999547,0.03723229518141154,1.723338832171431,6.483036559121098,0.014364125683566528,0.0077345292142281296,0.017264202334203275,0.009296108949186378]},\"node\":{\"color\":\"rgba(209, 155, 30, 1)\",\"label\":[\"Energy Demand-biomass\",\"Electricity Demand\",\"Energy Demand-natgas\",\"Energy Demand-petroleum\",\"Energy Demand-solar\",\"Energy Demand-wind\",\"Energy Demand-coal\",\"Energy Demand-geothermal\",\"Agriculture-crop\",\"Agriculture-livestock\",\"Commercial-biomass\",\"Commercial-electricity\",\"Commercial-natgas\",\"Commercial-petroleum\",\"Commercial-solar\",\"Commercial-wind\",\"Industrial-coal\",\"Industrial-electricity\",\"Industrial-natgas\",\"Industrial-petroleum\",\"Public Water Supply-distribution\",\"Public Water Supply-pumping\",\"Public Water Supply-treatment\",\"Residential-biomass\",\"Residential-electricity\",\"Residential-geothermal\",\"Residential-natgas\",\"Residential-petroleum\",\"Residential-solar\",\"Transportation-biomass\",\"Transportation-natgas\",\"Transportation-petroleum\",\"Wastewater Treatment-treatment\",\"Energy Services\",\"Rejected Energy\"],\"line\":{\"color\":\"black\",\"width\":1},\"pad\":20,\"thickness\":10},\"type\":\"sankey\",\"valuesuffix\":\"bbtu\"}],                        {\"template\":{\"data\":{\"bar\":[{\"error_x\":{\"color\":\"#2a3f5f\"},\"error_y\":{\"color\":\"#2a3f5f\"},\"marker\":{\"line\":{\"color\":\"#E5ECF6\",\"width\":0.5},\"pattern\":{\"fillmode\":\"overlay\",\"size\":10,\"solidity\":0.2}},\"type\":\"bar\"}],\"barpolar\":[{\"marker\":{\"line\":{\"color\":\"#E5ECF6\",\"width\":0.5},\"pattern\":{\"fillmode\":\"overlay\",\"size\":10,\"solidity\":0.2}},\"type\":\"barpolar\"}],\"carpet\":[{\"aaxis\":{\"endlinecolor\":\"#2a3f5f\",\"gridcolor\":\"white\",\"linecolor\":\"white\",\"minorgridcolor\":\"white\",\"startlinecolor\":\"#2a3f5f\"},\"baxis\":{\"endlinecolor\":\"#2a3f5f\",\"gridcolor\":\"white\",\"linecolor\":\"white\",\"minorgridcolor\":\"white\",\"startlinecolor\":\"#2a3f5f\"},\"type\":\"carpet\"}],\"choropleth\":[{\"colorbar\":{\"outlinewidth\":0,\"ticks\":\"\"},\"type\":\"choropleth\"}],\"contour\":[{\"colorbar\":{\"outlinewidth\":0,\"ticks\":\"\"},\"colorscale\":[[0.0,\"#0d0887\"],[0.1111111111111111,\"#46039f\"],[0.2222222222222222,\"#7201a8\"],[0.3333333333333333,\"#9c179e\"],[0.4444444444444444,\"#bd3786\"],[0.5555555555555556,\"#d8576b\"],[0.6666666666666666,\"#ed7953\"],[0.7777777777777778,\"#fb9f3a\"],[0.8888888888888888,\"#fdca26\"],[1.0,\"#f0f921\"]],\"type\":\"contour\"}],\"contourcarpet\":[{\"colorbar\":{\"outlinewidth\":0,\"ticks\":\"\"},\"type\":\"contourcarpet\"}],\"heatmap\":[{\"colorbar\":{\"outlinewidth\":0,\"ticks\":\"\"},\"colorscale\":[[0.0,\"#0d0887\"],[0.1111111111111111,\"#46039f\"],[0.2222222222222222,\"#7201a8\"],[0.3333333333333333,\"#9c179e\"],[0.4444444444444444,\"#bd3786\"],[0.5555555555555556,\"#d8576b\"],[0.6666666666666666,\"#ed7953\"],[0.7777777777777778,\"#fb9f3a\"],[0.8888888888888888,\"#fdca26\"],[1.0,\"#f0f921\"]],\"type\":\"heatmap\"}],\"heatmapgl\":[{\"colorbar\":{\"outlinewidth\":0,\"ticks\":\"\"},\"colorscale\":[[0.0,\"#0d0887\"],[0.1111111111111111,\"#46039f\"],[0.2222222222222222,\"#7201a8\"],[0.3333333333333333,\"#9c179e\"],[0.4444444444444444,\"#bd3786\"],[0.5555555555555556,\"#d8576b\"],[0.6666666666666666,\"#ed7953\"],[0.7777777777777778,\"#fb9f3a\"],[0.8888888888888888,\"#fdca26\"],[1.0,\"#f0f921\"]],\"type\":\"heatmapgl\"}],\"histogram\":[{\"marker\":{\"pattern\":{\"fillmode\":\"overlay\",\"size\":10,\"solidity\":0.2}},\"type\":\"histogram\"}],\"histogram2d\":[{\"colorbar\":{\"outlinewidth\":0,\"ticks\":\"\"},\"colorscale\":[[0.0,\"#0d0887\"],[0.1111111111111111,\"#46039f\"],[0.2222222222222222,\"#7201a8\"],[0.3333333333333333,\"#9c179e\"],[0.4444444444444444,\"#bd3786\"],[0.5555555555555556,\"#d8576b\"],[0.6666666666666666,\"#ed7953\"],[0.7777777777777778,\"#fb9f3a\"],[0.8888888888888888,\"#fdca26\"],[1.0,\"#f0f921\"]],\"type\":\"histogram2d\"}],\"histogram2dcontour\":[{\"colorbar\":{\"outlinewidth\":0,\"ticks\":\"\"},\"colorscale\":[[0.0,\"#0d0887\"],[0.1111111111111111,\"#46039f\"],[0.2222222222222222,\"#7201a8\"],[0.3333333333333333,\"#9c179e\"],[0.4444444444444444,\"#bd3786\"],[0.5555555555555556,\"#d8576b\"],[0.6666666666666666,\"#ed7953\"],[0.7777777777777778,\"#fb9f3a\"],[0.8888888888888888,\"#fdca26\"],[1.0,\"#f0f921\"]],\"type\":\"histogram2dcontour\"}],\"mesh3d\":[{\"colorbar\":{\"outlinewidth\":0,\"ticks\":\"\"},\"type\":\"mesh3d\"}],\"parcoords\":[{\"line\":{\"colorbar\":{\"outlinewidth\":0,\"ticks\":\"\"}},\"type\":\"parcoords\"}],\"pie\":[{\"automargin\":true,\"type\":\"pie\"}],\"scatter\":[{\"marker\":{\"colorbar\":{\"outlinewidth\":0,\"ticks\":\"\"}},\"type\":\"scatter\"}],\"scatter3d\":[{\"line\":{\"colorbar\":{\"outlinewidth\":0,\"ticks\":\"\"}},\"marker\":{\"colorbar\":{\"outlinewidth\":0,\"ticks\":\"\"}},\"type\":\"scatter3d\"}],\"scattercarpet\":[{\"marker\":{\"colorbar\":{\"outlinewidth\":0,\"ticks\":\"\"}},\"type\":\"scattercarpet\"}],\"scattergeo\":[{\"marker\":{\"colorbar\":{\"outlinewidth\":0,\"ticks\":\"\"}},\"type\":\"scattergeo\"}],\"scattergl\":[{\"marker\":{\"colorbar\":{\"outlinewidth\":0,\"ticks\":\"\"}},\"type\":\"scattergl\"}],\"scattermapbox\":[{\"marker\":{\"colorbar\":{\"outlinewidth\":0,\"ticks\":\"\"}},\"type\":\"scattermapbox\"}],\"scatterpolar\":[{\"marker\":{\"colorbar\":{\"outlinewidth\":0,\"ticks\":\"\"}},\"type\":\"scatterpolar\"}],\"scatterpolargl\":[{\"marker\":{\"colorbar\":{\"outlinewidth\":0,\"ticks\":\"\"}},\"type\":\"scatterpolargl\"}],\"scatterternary\":[{\"marker\":{\"colorbar\":{\"outlinewidth\":0,\"ticks\":\"\"}},\"type\":\"scatterternary\"}],\"surface\":[{\"colorbar\":{\"outlinewidth\":0,\"ticks\":\"\"},\"colorscale\":[[0.0,\"#0d0887\"],[0.1111111111111111,\"#46039f\"],[0.2222222222222222,\"#7201a8\"],[0.3333333333333333,\"#9c179e\"],[0.4444444444444444,\"#bd3786\"],[0.5555555555555556,\"#d8576b\"],[0.6666666666666666,\"#ed7953\"],[0.7777777777777778,\"#fb9f3a\"],[0.8888888888888888,\"#fdca26\"],[1.0,\"#f0f921\"]],\"type\":\"surface\"}],\"table\":[{\"cells\":{\"fill\":{\"color\":\"#EBF0F8\"},\"line\":{\"color\":\"white\"}},\"header\":{\"fill\":{\"color\":\"#C8D4E3\"},\"line\":{\"color\":\"white\"}},\"type\":\"table\"}]},\"layout\":{\"annotationdefaults\":{\"arrowcolor\":\"#2a3f5f\",\"arrowhead\":0,\"arrowwidth\":1},\"autotypenumbers\":\"strict\",\"coloraxis\":{\"colorbar\":{\"outlinewidth\":0,\"ticks\":\"\"}},\"colorscale\":{\"diverging\":[[0,\"#8e0152\"],[0.1,\"#c51b7d\"],[0.2,\"#de77ae\"],[0.3,\"#f1b6da\"],[0.4,\"#fde0ef\"],[0.5,\"#f7f7f7\"],[0.6,\"#e6f5d0\"],[0.7,\"#b8e186\"],[0.8,\"#7fbc41\"],[0.9,\"#4d9221\"],[1,\"#276419\"]],\"sequential\":[[0.0,\"#0d0887\"],[0.1111111111111111,\"#46039f\"],[0.2222222222222222,\"#7201a8\"],[0.3333333333333333,\"#9c179e\"],[0.4444444444444444,\"#bd3786\"],[0.5555555555555556,\"#d8576b\"],[0.6666666666666666,\"#ed7953\"],[0.7777777777777778,\"#fb9f3a\"],[0.8888888888888888,\"#fdca26\"],[1.0,\"#f0f921\"]],\"sequentialminus\":[[0.0,\"#0d0887\"],[0.1111111111111111,\"#46039f\"],[0.2222222222222222,\"#7201a8\"],[0.3333333333333333,\"#9c179e\"],[0.4444444444444444,\"#bd3786\"],[0.5555555555555556,\"#d8576b\"],[0.6666666666666666,\"#ed7953\"],[0.7777777777777778,\"#fb9f3a\"],[0.8888888888888888,\"#fdca26\"],[1.0,\"#f0f921\"]]},\"colorway\":[\"#636efa\",\"#EF553B\",\"#00cc96\",\"#ab63fa\",\"#FFA15A\",\"#19d3f3\",\"#FF6692\",\"#B6E880\",\"#FF97FF\",\"#FECB52\"],\"font\":{\"color\":\"#2a3f5f\"},\"geo\":{\"bgcolor\":\"white\",\"lakecolor\":\"white\",\"landcolor\":\"#E5ECF6\",\"showlakes\":true,\"showland\":true,\"subunitcolor\":\"white\"},\"hoverlabel\":{\"align\":\"left\"},\"hovermode\":\"closest\",\"mapbox\":{\"style\":\"light\"},\"paper_bgcolor\":\"white\",\"plot_bgcolor\":\"#E5ECF6\",\"polar\":{\"angularaxis\":{\"gridcolor\":\"white\",\"linecolor\":\"white\",\"ticks\":\"\"},\"bgcolor\":\"#E5ECF6\",\"radialaxis\":{\"gridcolor\":\"white\",\"linecolor\":\"white\",\"ticks\":\"\"}},\"scene\":{\"xaxis\":{\"backgroundcolor\":\"#E5ECF6\",\"gridcolor\":\"white\",\"gridwidth\":2,\"linecolor\":\"white\",\"showbackground\":true,\"ticks\":\"\",\"zerolinecolor\":\"white\"},\"yaxis\":{\"backgroundcolor\":\"#E5ECF6\",\"gridcolor\":\"white\",\"gridwidth\":2,\"linecolor\":\"white\",\"showbackground\":true,\"ticks\":\"\",\"zerolinecolor\":\"white\"},\"zaxis\":{\"backgroundcolor\":\"#E5ECF6\",\"gridcolor\":\"white\",\"gridwidth\":2,\"linecolor\":\"white\",\"showbackground\":true,\"ticks\":\"\",\"zerolinecolor\":\"white\"}},\"shapedefaults\":{\"line\":{\"color\":\"#2a3f5f\"}},\"ternary\":{\"aaxis\":{\"gridcolor\":\"white\",\"linecolor\":\"white\",\"ticks\":\"\"},\"baxis\":{\"gridcolor\":\"white\",\"linecolor\":\"white\",\"ticks\":\"\"},\"bgcolor\":\"#E5ECF6\",\"caxis\":{\"gridcolor\":\"white\",\"linecolor\":\"white\",\"ticks\":\"\"}},\"title\":{\"x\":0.05},\"xaxis\":{\"automargin\":true,\"gridcolor\":\"white\",\"linecolor\":\"white\",\"ticks\":\"\",\"title\":{\"standoff\":15},\"zerolinecolor\":\"white\",\"zerolinewidth\":2},\"yaxis\":{\"automargin\":true,\"gridcolor\":\"white\",\"linecolor\":\"white\",\"ticks\":\"\",\"title\":{\"standoff\":15},\"zerolinecolor\":\"white\",\"zerolinewidth\":2}}},\"title\":{\"text\":\"bbtu flows for 45067\"},\"font\":{\"size\":12}},                        {\"responsive\": true}                    ).then(function(){\n",
       "                            \n",
       "var gd = document.getElementById('95c2b58e-3939-475a-9e1d-96deb5f2a946');\n",
       "var x = new MutationObserver(function (mutations, observer) {{\n",
       "        var display = window.getComputedStyle(gd).display;\n",
       "        if (!display || display === 'none') {{\n",
       "            console.log([gd, 'removed!']);\n",
       "            Plotly.purge(gd);\n",
       "            observer.disconnect();\n",
       "        }}\n",
       "}});\n",
       "\n",
       "// Listen for the removal of the full notebook cells\n",
       "var notebookContainer = gd.closest('#notebook-container');\n",
       "if (notebookContainer) {{\n",
       "    x.observe(notebookContainer, {childList: true});\n",
       "}}\n",
       "\n",
       "// Listen for the clearing of the current output cell\n",
       "var outputEl = gd.closest('.output');\n",
       "if (outputEl) {{\n",
       "    x.observe(outputEl, {childList: true});\n",
       "}}\n",
       "\n",
       "                        })                };                });            </script>        </div>"
      ]
     },
     "metadata": {},
     "output_type": "display_data"
    },
    {
     "name": "stdout",
     "output_type": "stream",
     "text": [
      "Wall time: 33.9 ms\n"
     ]
    }
   ],
   "source": [
    "%%time\n",
    "\n",
    "\n",
    "viz = interflow.plot_sankey(data=df, region_name= region,\n",
    "                       unit_type1 = 'mgd', unit_type2='bbtu', output_level=2, strip='total')"
   ]
  },
  {
   "cell_type": "markdown",
   "id": "289df17b",
   "metadata": {},
   "source": [
    "## Produce Sector Barcharts for a County"
   ]
  },
  {
   "cell_type": "code",
   "execution_count": null,
   "id": "2a9b30d2",
   "metadata": {},
   "outputs": [],
   "source": [
    "sectors = ['PWS', 'AGR']\n",
    "flow.plot_sector_bar(data=df, unit_type='bbtu', region_name =region, sector_list=sectors, inflow=True, strip='total')"
   ]
  },
  {
   "cell_type": "markdown",
   "id": "3f84604b",
   "metadata": {},
   "source": [
    "## County Map Visualization for all Values\n",
    "Note that this diagram requires the full run output (all counties) if you want to see a map of all counties. Otherwise it will just display the county it has data for."
   ]
  },
  {
   "cell_type": "code",
   "execution_count": null,
   "id": "d5d823e6",
   "metadata": {},
   "outputs": [],
   "source": [
    "import pandas as pd\n",
    "import flow  \n",
    "\n",
    "# read in full output dataset\n",
    "df = pd.read_csv(r\"C:\\Users\\mong275\\Local Files\\Repos\\full_run_02-25.csv\", dtype={'region':str})\n",
    "# add state and county columns\n",
    "#df['countyname'] = 'countyname'\n",
    "\n",
    "# rearrange column order\n",
    "#col_list = df.columns[1:-1].to_list()\n",
    "#df = df[['region', 'countyname'] + col_list]\n",
    "\n",
    "flow.plot_map(data=df, \n",
    "         #region_col=1,\n",
    "         jsonfile = geo,\n",
    "             level=2)"
   ]
  },
  {
   "cell_type": "code",
   "execution_count": null,
   "id": "a74b1103",
   "metadata": {},
   "outputs": [],
   "source": []
  },
  {
   "cell_type": "code",
   "execution_count": null,
   "id": "7739cf33",
   "metadata": {},
   "outputs": [],
   "source": []
  },
  {
   "cell_type": "code",
   "execution_count": null,
   "id": "68f8b22d",
   "metadata": {},
   "outputs": [],
   "source": []
  },
  {
   "cell_type": "code",
   "execution_count": null,
   "id": "6a1029cd",
   "metadata": {},
   "outputs": [],
   "source": []
  },
  {
   "cell_type": "code",
   "execution_count": null,
   "id": "69ed7f65",
   "metadata": {},
   "outputs": [],
   "source": []
  },
  {
   "cell_type": "code",
   "execution_count": null,
   "id": "f75c04e9",
   "metadata": {},
   "outputs": [],
   "source": []
  },
  {
   "cell_type": "code",
   "execution_count": null,
   "id": "01fc1211",
   "metadata": {},
   "outputs": [],
   "source": []
  },
  {
   "cell_type": "code",
   "execution_count": null,
   "id": "d5d0e5e6",
   "metadata": {},
   "outputs": [],
   "source": [
    "maps = pd.read_csv(r\"C:\\Users\\mong275\\Local Files\\Repos\\flow\\sample_data\\input_data\\county_interconnect_list.csv\", dtype={'FIPS':str})\n",
    "maps['FIPS'] = maps['FIPS'].apply(lambda x: '{0:0>5}'.format(x))\n",
    "maps = maps.rename(columns = {'FIPS':'region'})\n",
    "full = pd.merge(df, maps, how='left', on='region')\n",
    "full.reset_index()\n",
    "full = full.rename_axis(None, axis=1)                           #drop index name\n",
    "full.index.is_unique\n",
    "full"
   ]
  },
  {
   "cell_type": "code",
   "execution_count": null,
   "id": "fc633ae5",
   "metadata": {},
   "outputs": [],
   "source": [
    "group_list = ['STATE','S1','S2','S3','S4','S5','T1','T2','T3','T4','T5','units']\n",
    "state = full.drop(['region'], axis=1)\n",
    "state = state.groupby(group_list, as_index=False).sum()\n",
    "state = state.rename(columns={'STATE':'region'})\n",
    "#state.reset_index()\n",
    "#state.index.is_unique\n",
    "state"
   ]
  },
  {
   "cell_type": "code",
   "execution_count": null,
   "id": "144844da",
   "metadata": {},
   "outputs": [],
   "source": [
    "viz = flow.plot_sankey(data=state, region_name=\"NJ\", \n",
    "                       unit_type1 = 'mgd', unit_type2='bbtu', output_level=1, strip='total', remove_sectors=['EGS'])"
   ]
  },
  {
   "cell_type": "code",
   "execution_count": null,
   "id": "e272e5f1",
   "metadata": {},
   "outputs": [],
   "source": []
  },
  {
   "cell_type": "code",
   "execution_count": null,
   "id": "1e08cc2a",
   "metadata": {},
   "outputs": [],
   "source": []
  },
  {
   "cell_type": "code",
   "execution_count": null,
   "id": "20e5137a",
   "metadata": {},
   "outputs": [],
   "source": []
  },
  {
   "cell_type": "code",
   "execution_count": null,
   "id": "59b2bfd0",
   "metadata": {},
   "outputs": [],
   "source": [
    "full = pd.read_csv(r\"C:\\Users\\mong275\\Local Files\\Repos\\full_run_output.csv\", dtype={'region':str})\n",
    "maps = pd.read_csv(r'C:\\Users\\mong275\\Local Files\\Repos\\flow\\flow\\data\\county_interconnect_list.csv', dtype={'FIPS':str})\n",
    "maps['FIPS'] = maps['FIPS'].apply(lambda x: '{0:0>5}'.format(x))\n",
    "maps = maps.rename(columns = {'FIPS':'region'})\n",
    "full = pd.merge(full, maps, how='left', on='region')\n",
    "full.reset_index()\n",
    "full = full.rename_axis(None, axis=1)                           #drop index name\n",
    "full.index.is_unique\n",
    "full"
   ]
  },
  {
   "cell_type": "code",
   "execution_count": null,
   "id": "2a4883cc",
   "metadata": {},
   "outputs": [],
   "source": [
    "group_list = ['Interconnect','S1','S2','S3','S4','S5','T1','T2','T3','T4','T5','units']\n",
    "interconnect = full.drop(['region'], axis=1)\n",
    "interconnect = interconnect.groupby(group_list, as_index=False).sum()\n",
    "interconnect = interconnect.rename(columns={'Interconnect':'region'})\n",
    "#state.reset_index()\n",
    "#state.index.is_unique\n",
    "interconnect"
   ]
  },
  {
   "cell_type": "code",
   "execution_count": null,
   "id": "58832063",
   "metadata": {},
   "outputs": [],
   "source": [
    "viz = flow.plot_sankey(data=interconnect, region_name=\"West\", \n",
    "                       unit_type1 = 'mgd', unit_type2='bbtu', output_level=2, strip='total')"
   ]
  },
  {
   "cell_type": "code",
   "execution_count": null,
   "id": "6c9916b5",
   "metadata": {},
   "outputs": [],
   "source": [
    "df.to_csv(r\"C:\\Users\\mong275\\Local Files\\Repos\\full_run_02-25.csv\", index=False)"
   ]
  },
  {
   "cell_type": "code",
   "execution_count": null,
   "id": "1bba6064",
   "metadata": {},
   "outputs": [],
   "source": [
    "#state = state[state.value < state.value.quantile(.99)]\n",
    "subset = ['EGS']\n",
    "state = state[~state['S1'].isin(subset)]\n",
    "state = state[~state['T1'].isin(subset)]\n",
    "\n",
    "state"
   ]
  },
  {
   "cell_type": "code",
   "execution_count": null,
   "id": "a32bd1a8",
   "metadata": {},
   "outputs": [],
   "source": [
    "interconnect"
   ]
  },
  {
   "cell_type": "code",
   "execution_count": null,
   "id": "84799f26-242d-457a-9825-2f153b6383d0",
   "metadata": {},
   "outputs": [],
   "source": [
    "viz = flow.plot_sankey(data=df, region_name=region, \n",
    "                       unit_type1 = 'mgd', unit_type2='bbtu', output_level=3, strip='total')"
   ]
  },
  {
   "cell_type": "code",
   "execution_count": null,
   "id": "4b0ecf05",
   "metadata": {},
   "outputs": [],
   "source": []
  },
  {
   "cell_type": "code",
   "execution_count": null,
   "id": "75ab6314",
   "metadata": {},
   "outputs": [],
   "source": []
  },
  {
   "cell_type": "code",
   "execution_count": null,
   "id": "debe6e62",
   "metadata": {},
   "outputs": [],
   "source": []
  },
  {
   "cell_type": "code",
   "execution_count": null,
   "id": "aa53a3e3",
   "metadata": {},
   "outputs": [],
   "source": []
  },
  {
   "cell_type": "code",
   "execution_count": null,
   "id": "4449eda8",
   "metadata": {},
   "outputs": [],
   "source": []
  },
  {
   "cell_type": "code",
   "execution_count": null,
   "id": "58434583",
   "metadata": {},
   "outputs": [],
   "source": []
  },
  {
   "cell_type": "code",
   "execution_count": null,
   "id": "3948db64",
   "metadata": {},
   "outputs": [],
   "source": []
  },
  {
   "cell_type": "code",
   "execution_count": null,
   "id": "dc623fad",
   "metadata": {},
   "outputs": [],
   "source": []
  },
  {
   "cell_type": "code",
   "execution_count": null,
   "id": "75cc169c",
   "metadata": {},
   "outputs": [],
   "source": [
    "full = pd.read_csv(r\"C:\\Users\\mong275\\Local Files\\Repos\\full_run_output.csv\")\n",
    "full['region'] = full['region'].apply(lambda x: '{0:0>5}'.format(x))  # add leading zero to FIPS code\n"
   ]
  },
  {
   "cell_type": "code",
   "execution_count": null,
   "id": "a0f67015",
   "metadata": {},
   "outputs": [],
   "source": [
    "from urllib.request import urlopen\n",
    "import json\n",
    "json_file = r\"C:\\Users\\mong275\\Local Files\\Repos\\flow\\flow\\data\\geojson-counties-fips.json\"\n",
    "f = open(json_file)\n",
    "counties = json.load(f)\n",
    "import plotly.express as px\n",
    "\n",
    "\n",
    "fig = px.choropleth_mapbox(full, geojson=counties, locations='region', color='value',\n",
    "                           color_continuous_scale=\"Viridis\",\n",
    "                           #range_color=(0, 12),\n",
    "                           mapbox_style=\"carto-positron\",\n",
    "                           zoom=3, center = {\"lat\": 37.0902, \"lon\": -95.7129},\n",
    "                           opacity=0.5,\n",
    "                          )\n",
    "fig.update_layout(margin={\"r\":0,\"t\":0,\"l\":0,\"b\":0})\n",
    "fig.show()"
   ]
  },
  {
   "cell_type": "code",
   "execution_count": null,
   "id": "9c44da20",
   "metadata": {},
   "outputs": [],
   "source": [
    "full_copy['one'] = 1"
   ]
  },
  {
   "cell_type": "code",
   "execution_count": null,
   "id": "adeaf246",
   "metadata": {},
   "outputs": [],
   "source": [
    "import json\n",
    "import numpy as np\n",
    "import pandas as pd\n",
    "import plotly.graph_objects as go\n",
    "import urllib.request\n",
    "\n",
    "jdata = counties\n",
    "\n",
    "mycustomdata = full_copy\n",
    "\n",
    "title = 'Update method called for a  choroplethmapbox chart'\n",
    "\n",
    "fig = go.Figure(go.Choroplethmapbox(geojson=jdata, \n",
    "                                    locations=full_copy['region'], \n",
    "                                    z=full_copy['one'],\n",
    "                                    featureidkey='properties.id',\n",
    "                                    coloraxis=\"coloraxis\",\n",
    "                                    customdata=mycustomdata,\n",
    "                                    marker_opacity=0.75, marker_line_width=0.5))\n",
    "fig.update_layout(coloraxis_colorscale='Viridis',\n",
    "                  mapbox=dict(style='carto-positron',\n",
    "                              zoom=2, \n",
    "                              center = {\"lat\": 37.0902, \"lon\": -95.7129},\n",
    "                              )) \n",
    "fig.update_layout(title_text=title,\n",
    "                  title_x=0.5,\n",
    "                  margin={\"r\":10,\"t\":60,\"l\":0,\"b\":0});\n",
    "\n",
    "fig.show()"
   ]
  },
  {
   "cell_type": "code",
   "execution_count": null,
   "id": "a36e0768",
   "metadata": {},
   "outputs": [],
   "source": [
    "matter_r= [[0.0, '#2f0f3d'], #cmocean colorscale \n",
    "           [0.1, '#4f1552'],\n",
    "           [0.2, '#72195f'],\n",
    "           [0.3, '#931f63'],\n",
    "           [0.4, '#b32e5e'],\n",
    "           [0.5, '#cf4456'],\n",
    "           [0.6, '#e26152'],\n",
    "           [0.7, '#ee845d'],\n",
    "           [0.8, '#f5a672'],\n",
    "           [0.9, '#faca8f'],\n",
    "           [1.0, '#fdedb0']]\n",
    "\n",
    "\n",
    "\n",
    "button1 = dict(method= 'update',\n",
    "               label='2018',\n",
    "               args=[\n",
    "                    {\"z\": [df['2018']],\n",
    "                     \"hovertemplate\": \"Canton: %{customdata[0]}<br>\"+\\\n",
    "                                      \"2018: %{customdata[1]}%<extra></extra>\"\n",
    "                    }, #dict for fig.data[0] updates\n",
    "                    {\"coloraxis.colorscale\":\"Viridis\" } #dict for  layout attribute update \n",
    "                 ])\n",
    "\n",
    "button2 = dict(method= 'update',\n",
    "               label='2019',\n",
    "               args=[\n",
    "                   {\"z\": [df['2019']],\n",
    "                    \"hovertemplate\": \"Canton: %{customdata[0]}<br>\"+\\\n",
    "                                     \"2019: %{customdata[2]}%<extra></extra>\"\n",
    "                   },\n",
    "                   {\"coloraxis.colorscale\": matter_r} #update layout attribute    \n",
    "           ])\n",
    "\n",
    "fig.update_layout(updatemenus=[dict(active=0,\n",
    "                                    buttons= [button1, button2])]\n",
    "                                     );\n",
    "\n",
    "fig.show()"
   ]
  },
  {
   "cell_type": "code",
   "execution_count": null,
   "id": "76c2cc32",
   "metadata": {},
   "outputs": [],
   "source": [
    "full_copy = pd.pivot_table(full, values='value', index=['region'],\n",
    "                               columns=['S1'],\n",
    "                               aggfunc=np.sum)  # pivot to get discharge types as columns\n",
    "full_copy = full_copy.reset_index()  # reset index to remove multi-index from pivot table\n",
    "full_copy = full_copy.rename_axis(None, axis=1)  # drop index name\n",
    "full_copy.fillna(0, inplace=True)\n",
    "full_copy"
   ]
  },
  {
   "cell_type": "code",
   "execution_count": null,
   "id": "f7d55996",
   "metadata": {},
   "outputs": [],
   "source": [
    "import json\n",
    "json_file = r\"C:\\Users\\mong275\\Local Files\\Repos\\flow\\flow\\data\\geojson-counties-fips.json\"\n",
    "f = open(json_file)\n",
    "counties = json.load(f)\n",
    "import plotly.express as px\n",
    "\n",
    "df = pd.read_csv(r\"C:\\Users\\mong275\\Local Files\\Repos\\full_run_output.csv\", dtype={'region':str})\n",
    "df['SOURCE'] = df['S1']+'-'+ df['S2']+'-'+ df['S3']+'-'+ df['S4']+'-'+ df['S5']\n",
    "df['TARGET'] = df['T1']+'-'+ df['T2']+'-'+ df['T3']+'-'+ df['T4']+'-'+ df['T5']\n",
    "\n",
    "remove = '-total'\n",
    "df['SOURCE'] = df['SOURCE'].str.replace(remove, \"\")\n",
    "df['TARGET'] = df['TARGET'].str.replace(remove, \"\")\n",
    "df['Link'] = df['SOURCE'] +  ' to ' + df['TARGET']+ ', ' +df['units']\n",
    "df"
   ]
  },
  {
   "cell_type": "code",
   "execution_count": null,
   "id": "c1ba13cb",
   "metadata": {},
   "outputs": [],
   "source": [
    "df = pd.pivot_table(df, values='value', index=['region'],\n",
    "                    columns=['Link'], aggfunc=np.sum)\n",
    "\n",
    "df = df.reset_index()                                       #reset index to remove multi-index from pivot table\n",
    "df = df.rename_axis(None, axis=1)                           #drop index name\n",
    "\n",
    "df.fillna(0,inplace=True)"
   ]
  },
  {
   "cell_type": "markdown",
   "id": "8d4506cd",
   "metadata": {},
   "source": [
    "## Code below works"
   ]
  },
  {
   "cell_type": "code",
   "execution_count": null,
   "id": "c3c75d10",
   "metadata": {},
   "outputs": [],
   "source": [
    "fig = go.Figure(go.Choroplethmapbox(geojson=counties, \n",
    "                                    locations=df['region'], \n",
    "                                    z=df['AAQ-fresh-surfacewater-withdrawal to SRD, mgd'],\n",
    "                                    #featureidkey='properties.id',\n",
    "                                    coloraxis=\"coloraxis\",\n",
    "                                    #customdata=mycustomdata,\n",
    "                                    #hovertemplate= 'Canton: %{customdata[0]}'+\\\n",
    "                                    #               '<br>2018: %{customdata[1]}%<extra></extra>',\n",
    "                                    marker_opacity=0.75, \n",
    "                                    marker_line_width=0.5))\n",
    "fig.update_layout(coloraxis_colorscale='Viridis',\n",
    "                  mapbox=dict(style='carto-positron',\n",
    "                              zoom=3, \n",
    "                              center = {\"lat\": 37.0902, \"lon\": -95.7129},\n",
    "                              )) \n",
    "fig.update_layout(title_text=\"\",\n",
    "                  title_x=0.5,\n",
    "                  margin={\"r\":10,\"t\":60,\"l\":0,\"b\":0})\n",
    "\n",
    "button1 = dict(method= 'update',\n",
    "               label='AAQ-fresh-surfacewater-withdrawal to SRD, mgd',\n",
    "               args=[{\"z\": [df['AAQ-fresh-surfacewater-withdrawal to SRD, mgd']]}])\n",
    "\n",
    "button2 = dict(method= 'update',\n",
    "               label='EGD to ACI-pumping-fresh-surfacewater, bbtu',\n",
    "               args=[{\"z\": [df['EGD to ACI-pumping-fresh-surfacewater, bbtu']]}])\n",
    "\n",
    "fig.update_layout(updatemenus=[dict(active=0,\n",
    "                                    buttons= [button1, button2],\n",
    "                                   x=0,\n",
    "                                    xanchor=\"left\",\n",
    "                                y=1.12,\n",
    "                                yanchor=\"top\")]\n",
    "                                     )\n",
    "\n",
    "\n",
    "fig.show()"
   ]
  },
  {
   "cell_type": "markdown",
   "id": "c4e9cb3f",
   "metadata": {},
   "source": [
    "## Code below is attempt to put all columns as buttons"
   ]
  },
  {
   "cell_type": "code",
   "execution_count": null,
   "id": "fd63e8de",
   "metadata": {
    "scrolled": false
   },
   "outputs": [],
   "source": [
    "#hovertemplate = 'County: %{customdata[1]}'+'<br>State: %{customdata[2]}'+'<br>Value: %{z}<extra></extra>'\n",
    "\n",
    "fig = go.Figure(go.Choroplethmapbox(geojson=counties, \n",
    "                                    locations=df['region'], \n",
    "                                    z=df['AAQ to SRD, mgd'],\n",
    "                                    #featureidkey='properties.id',\n",
    "                                    coloraxis=\"coloraxis\",\n",
    "                                    customdata=df,\n",
    "                                    #hovertemplate= hovertemplate,\n",
    "                                    marker_opacity=0.75, \n",
    "                                    marker_line_width=0.5))\n",
    "fig.update_layout(coloraxis_colorscale='Viridis',\n",
    "                  mapbox=dict(style='carto-positron',\n",
    "                              zoom=3, \n",
    "                              center = {\"lat\": 37.0902, \"lon\": -95.7129},\n",
    "                              )) \n",
    "fig.update_layout(title_text=\"Map of Select Flow Value\",\n",
    "                  title_x=0.5,\n",
    "                  margin={\"r\":10,\"t\":60,\"l\":0,\"b\":0})\n",
    "\n",
    "fig.update_layout(updatemenus=[dict(active=0,\n",
    "                                    buttons= my_buttons,\n",
    "                                   x=0.1,\n",
    "                                    xanchor=\"left\",\n",
    "                                y=1.12,\n",
    "                                yanchor=\"top\")]\n",
    "                                     )\n",
    "\n",
    "\n",
    "fig.show()"
   ]
  },
  {
   "cell_type": "code",
   "execution_count": null,
   "id": "3039c568",
   "metadata": {},
   "outputs": [],
   "source": [
    "custom_data = df.copy()\n",
    "custom_data"
   ]
  },
  {
   "cell_type": "code",
   "execution_count": null,
   "id": "9440e5eb",
   "metadata": {},
   "outputs": [],
   "source": [
    "# read in dataset\n",
    "df = pd.read_csv(r\"C:\\Users\\mong275\\Local Files\\Repos\\full_run_output.csv\", dtype={'region':str})\n",
    "# add state and county columns\n",
    "df['countyname'] = 'countyname'\n",
    "\n",
    "# rearrange column order\n",
    "col_list = df.columns[1:-1].to_list()\n",
    "df = df[['region', 'countyname'] + col_list]\n",
    "\n",
    "import json\n",
    "json_file = r\"C:\\Users\\mong275\\Local Files\\Repos\\flow\\flow\\data\\geojson-counties-fips.json\"\n",
    "f = open(json_file)\n",
    "counties = json.load(f)\n",
    "\n",
    "\n",
    "def plot_map(jsonfile:str, data=df, region_col=None, strip=\"total\", center ={\"lat\": 37.0902, \"lon\": -95.7129}, ):\n",
    "\n",
    "    # collect data\n",
    "    df = data\n",
    "    \n",
    "    # collect geojson file\n",
    "    f = open(jsonfile)\n",
    "    geo_id = json.load(f)\n",
    "    \n",
    "    # create a flow name\n",
    "    df['SOURCE'] = df['S1']\n",
    "    df['TARGET'] = df['T1']\n",
    "\n",
    "    # remove total from name\n",
    "    remove = \"-\" + strip\n",
    "    df['SOURCE'] = df['SOURCE'].str.replace(remove, \"\")\n",
    "    df['TARGET'] = df['TARGET'].str.replace(remove, \"\")\n",
    "    df['Link'] = df['SOURCE'] +  ' to ' + df['TARGET']+ ', ' +df['units']\n",
    "\n",
    "    # pivot values\n",
    "    df = pd.pivot_table(df, values='value', index=['region', 'countyname'],\n",
    "                    columns=['Link'], aggfunc=np.sum)\n",
    "\n",
    "    df = df.reset_index()                                       #reset index to remove multi-index from pivot table\n",
    "    df = df.rename_axis(None, axis=1)                           #drop index name\n",
    "    df.fillna(0,inplace=True)\n",
    "\n",
    "    button_columns = region_col + 1\n",
    "    # creates a button for each column with a value\n",
    "    cols = df.columns[button_columns:].to_list()\n",
    "\n",
    "    my_buttons = [dict(method= 'update',\n",
    "        label=c,\n",
    "        args=[{\n",
    "        \"z\": [df[c]],\n",
    "           \"hovertemplate\": \"Region: %{customdata}\"+\\\n",
    "           '<br>Value: %{z}<extra></extra>', # %<extra></extra> gets rid of trace box on right\n",
    "        }]) for c in cols]\n",
    "    \n",
    "    starting_column = region_col + 1\n",
    "    \n",
    "    #stack region names\n",
    "    mycustomdata = df['countyname'].to_list()\n",
    "    \n",
    "    # create figure\n",
    "    fig = go.Figure(go.Choroplethmapbox(\n",
    "                                    geojson = geo_id, \n",
    "                                    locations = df['region'], \n",
    "                                    z = df[df.columns[starting_column]],\n",
    "                                    customdata = mycustomdata,\n",
    "                                    hovertemplate = \"Region: %{customdata}\"+\\\n",
    "                                                    '<br>Value: %{z}<extra></extra>',\n",
    "                                    coloraxis = \"coloraxis\",\n",
    "                                    marker_opacity=0.75, \n",
    "                                    marker_line_width=0.1))\n",
    "    \n",
    "    #update map layout\n",
    "    fig.update_layout(coloraxis_colorscale='viridis', \n",
    "                      mapbox=dict(style='carto-positron',\n",
    "                                  zoom = 3, \n",
    "                                  center = center,\n",
    "                              )) \n",
    "    # update title\n",
    "    fig.update_layout(title_text=\"Map of Selected Flow Value in Each Region\", title_x=0.5, margin={\"r\":10,\"t\":60,\"l\":0,\"b\":0})\n",
    "\n",
    "    # update dropdown list\n",
    "    fig.update_layout(updatemenus=[dict(active=0,\n",
    "                                    buttons= my_buttons,\n",
    "                                   x=0.1,\n",
    "                                    xanchor=\"left\",\n",
    "                                y=1.12,\n",
    "                                yanchor=\"top\")]\n",
    "                                     )\n",
    "\n",
    "\n",
    "    fig.show()\n",
    "\n",
    "\n"
   ]
  },
  {
   "cell_type": "code",
   "execution_count": null,
   "id": "441e5fc8",
   "metadata": {},
   "outputs": [],
   "source": [
    "df.columns[1:]"
   ]
  },
  {
   "cell_type": "code",
   "execution_count": null,
   "id": "b5d46093",
   "metadata": {},
   "outputs": [],
   "source": [
    "data_url = \"https://raw.githubusercontent.com/empet/Datasets/master/Swiss-synthetic-data.csv\"\n",
    "\n",
    "df = pd.read_csv(data_url)\n",
    "df.head()\n",
    "\n",
    "mycustomdata = np.stack((df['canton-name'], df['2018'], df['2019']), axis=-1)\n",
    "f = mycustomdata[0]\n",
    "f"
   ]
  },
  {
   "cell_type": "code",
   "execution_count": null,
   "id": "5523d640",
   "metadata": {},
   "outputs": [],
   "source": [
    "mycustomdata = np.stack((df['region'], df[df.columns[region_col]]), axis=0)\n",
    "mycustomdata[1][1]"
   ]
  },
  {
   "cell_type": "code",
   "execution_count": null,
   "id": "63a1e749",
   "metadata": {},
   "outputs": [],
   "source": []
  },
  {
   "cell_type": "code",
   "execution_count": null,
   "id": "ca5b079b",
   "metadata": {},
   "outputs": [],
   "source": []
  },
  {
   "cell_type": "code",
   "execution_count": null,
   "id": "5bfa7837",
   "metadata": {},
   "outputs": [],
   "source": []
  },
  {
   "cell_type": "code",
   "execution_count": null,
   "id": "b1091226",
   "metadata": {},
   "outputs": [],
   "source": [
    "# TODO function below can be deleted\n",
    "def prep_electricity_generation() -> pd.DataFrame:\n",
    "    \"\"\" Provides a dataframe of electricity generation (MWh) and fuel use (BBTU) per year by generating technology type\n",
    "    and by FIPS code. Can be used to estimate fuel use for electricity generation by type for each county\n",
    "    and total electricity generation by county.\n",
    "\n",
    "    :return:                DataFrame of fuel use in electricity generation and total generation by generation type\n",
    "                            within each FIPS code\n",
    "    \"\"\"\n",
    "\n",
    "    # read in electricity generation data by power plant id\n",
    "    data = 'input_data\\EIA923_Schedules_2_3_4_5_M_12_2015_Final_Revision.csv'\n",
    "    df = pd.read_csv(data, skiprows=5)\n",
    "\n",
    "    # read in power plant location data by power plant id\n",
    "    df_gen_loc = prep_power_plant_location()\n",
    "    df_loc = prep_water_use_2015()\n",
    "\n",
    "    # read in power plant cooling type data\n",
    "    cooling_data = r'input_data\\2015_TE_Model_Estimates_USGS.csv'\n",
    "    df_cooling = pd.read_csv(cooling_data,\n",
    "                             usecols=['EIA_PLANT_ID', \"COUNTY\", 'STATE', 'NAME_OF_WATER_SOURCE', 'GENERATION_TYPE',\n",
    "                                      'COOLING_TYPE', 'WATER_SOURCE_CODE', 'WATER_TYPE_CODE', 'WITHDRAWAL',\n",
    "                                      'CONSUMPTION'])\n",
    "\n",
    "    # remove unnecessary variables\n",
    "    df_gen_loc = df_gen_loc[['FIPS', 'plant_code']]\n",
    "    df = df[['Plant Id', \"AER\\nFuel Type Code\", \"Reported\\nPrime Mover\", \"Total Fuel Consumption\\nMMBtu\",\n",
    "             \"Net Generation\\n(Megawatthours)\"]]\n",
    "\n",
    "    # create a dictionary to bin power plant fuel types\n",
    "    fuel_consumption_dict = {'SUN': 'solar',  # solar\n",
    "                             'COL': 'coal',  # coal\n",
    "                             'DFO': 'petroleum',  # distillate petroleum\n",
    "                             \"GEO\": 'geothermal',  # geothermal\n",
    "                             'HPS': 'hydro',  # hydro pumped storage\n",
    "                             'HYC': 'hydro',  # hydro conventional\n",
    "                             'MLG': 'biomass',  # biogenic municipal solid waste and landfill gas\n",
    "                             'NG': 'natgas',  # natural gas\n",
    "                             'NUC': 'nuclear',  # nuclear\n",
    "                             'OOG': 'other',  # other gases\n",
    "                             'ORW': 'other',  # other renewables\n",
    "                             'OTH': 'other',  # other\n",
    "                             'PC': 'petroleum',  # petroleum coke\n",
    "                             'RFO': 'petroleum',  # residual petroleum\n",
    "                             'WND': 'wind',  # wind\n",
    "                             'WOC': 'coal',  # waste coal\n",
    "                             'WOO': 'petroleum',  # waste oil\n",
    "                             'WWW': 'biomass'}  # wood and wood waste\n",
    "\n",
    "    prime_mover_dict = {'HY': 'instream',\n",
    "                        'CA': 'combinedcycle',\n",
    "                        'CT': 'combinedcycle',\n",
    "                        'ST': 'steam',\n",
    "                        'GT': 'combustionturbine',\n",
    "                        'IC': 'internalcombustion',\n",
    "                        'WT': 'onshore',\n",
    "                        'PS': 'pumpedstorage',\n",
    "                        'PV': 'photovoltaic',\n",
    "                        'CS': 'combinedcycle',\n",
    "                        'CE': 'compressedair',\n",
    "                        'BT': 'binarycycle',\n",
    "                        'OT': 'other',\n",
    "                        'FC': 'fuelcell',\n",
    "                        'CP': 'csp',\n",
    "                        'BA': 'battery',\n",
    "                        'FW': 'flywheel'\n",
    "                        }\n",
    "\n",
    "    water_source_dict = {'SW': 'surfacewater',  # river, canal, bay\n",
    "                         'GW': 'groundwater',  # well, aquifer\n",
    "                         'PD': 'wastewater',  # PD = plant discharge\n",
    "                         \"-nr-\": \"surfacewater\",  # all blanks assumed to be surface water\n",
    "                         \"GW & PD\": \"groundwater\",  # all GW+PD are assumed to be groundwater only\n",
    "                         \"GW & SW\": 'surfacewater',  # all GW+SW combinations are assumed to be SW\n",
    "                         \"OT\": \"surfacewater\"\n",
    "                         }\n",
    "\n",
    "    water_type_dict = {'FR': 'fresh',\n",
    "                       'SA': 'saline',\n",
    "                       'OT': 'fresh',  # all other source is assumed to be fresh water\n",
    "                       \"FR & BE\": 'fresh',  # all combinations with fresh and BE are assumed to be fresh\n",
    "                       \"BE\": \"fresh\",  # reclaimed wastewater\n",
    "                       \"BR\": \"saline\",  # all brackish should be changed to saline\n",
    "                       \"\": \"fresh\"}  # fill blanks with fresh water\n",
    "\n",
    "    cooling_dict = {'COMPLEX': 'complex',\n",
    "                    'ONCE-THROUGH FRESH': 'oncethrough',\n",
    "                    'RECIRCULATING TOWER': 'tower',\n",
    "                    'RECIRCULATING POND': 'pond',\n",
    "                    'ONCE-THROUGH SALINE': 'oncethrough'}\n",
    "\n",
    "    # rename columns in power plant generation data file\n",
    "    df = df.rename(columns={\"Plant Id\": \"plant_code\"})\n",
    "    df = df.rename(columns={\"AER\\nFuel Type Code\": \"fuel_type\"})\n",
    "    df = df.rename(columns={\"Reported\\nPrime Mover\": \"prime_mover\"})\n",
    "    df = df.rename(columns={\"Total Fuel Consumption\\nMMBtu\": \"fuel_amt\"})\n",
    "    df = df.rename(columns={\"Net Generation\\n(Megawatthours)\": \"generation_mwh\"})\n",
    "\n",
    "    # changing string columns to numeric\n",
    "    string_col = df.columns[3:]  # create list of string columns\n",
    "    for col in string_col:\n",
    "        df[col] = df[col].str.replace(r\"[^\\w ]\", '', regex=True)  # replace any non alphanumeric values\n",
    "        df[col] = df[col].astype(float)  # convert to float\n",
    "\n",
    "    # removing power plant generation rows that should not be included\n",
    "    df = df[df.plant_code != 99999]  # removing state level estimated differences rows\n",
    "\n",
    "    # changing from annual values to daily\n",
    "    df['fuel_amt'] = df['fuel_amt'] / 365\n",
    "    df['generation_mwh'] = df['generation_mwh'] / 365\n",
    "\n",
    "    # dropping power plants with zero fuel use and zero output\n",
    "    index_list = df[(df['fuel_amt'] <= 0) & (df['generation_mwh'] <= 0)].index  # list of indices with both zero values\n",
    "    df.drop(index_list, inplace=True)  # dropping rows with zero fuel and zero generation amount\n",
    "\n",
    "    # using fuel type dictionary to bin fuel types\n",
    "    df['fuel_type'] = df['fuel_type'].map(fuel_consumption_dict)  # bin fuel types\n",
    "\n",
    "    # using prime_mover_dict to bin prime mover types\n",
    "    df['prime_mover'] = df['prime_mover'].map(prime_mover_dict)  # bin fuel types\n",
    "\n",
    "    # converting units to billion btu from million btu\n",
    "    df[\"fuel_amt\"] = df[\"fuel_amt\"] / 1000\n",
    "\n",
    "    # grouping rows by both plant code and fuel type\n",
    "    df = df.groupby(['plant_code', 'fuel_type', 'prime_mover'], as_index=False).sum()\n",
    "\n",
    "    # merging power plant location data with power plant generation data\n",
    "    df = pd.merge(df, df_gen_loc, how='left', on='plant_code')\n",
    "    df_test_gen = df.copy()\n",
    "\n",
    "    # ABOVE creates a dataframe of bbtu fuel and mwh generation by day by FIPS\n",
    "\n",
    "    # COOLING WATER DATA\n",
    "\n",
    "    # estimate discharge location from source information\n",
    "    df_cooling['OCEAN_DISCHARGE_MGD'] = np.where(df_cooling['NAME_OF_WATER_SOURCE'].str.contains('Ocean', regex=False),\n",
    "                                                 df_cooling['WITHDRAWAL'] - df_cooling['CONSUMPTION'],\n",
    "                                                 0)\n",
    "    # gulf of mexico\n",
    "    df_cooling['OCEAN_DISCHARGE_MGD'] = np.where(df_cooling['NAME_OF_WATER_SOURCE'].str.contains('Gulf', regex=False),\n",
    "                                                 df_cooling['WITHDRAWAL'] - df_cooling['CONSUMPTION'],\n",
    "                                                 df_cooling['OCEAN_DISCHARGE_MGD'])\n",
    "\n",
    "    # only bays with saline water are ocean discharge (some bays are on lakes (e.g. Green Bay))\n",
    "    df_cooling['OCEAN_DISCHARGE_MGD'] = np.where(df_cooling['NAME_OF_WATER_SOURCE'].str.contains('Gulf', regex=False) &\n",
    "                                                 df_cooling['WATER_TYPE_CODE'] == \"SA\",\n",
    "                                                 df_cooling['WITHDRAWAL'] - df_cooling['CONSUMPTION'],\n",
    "                                                 df_cooling['OCEAN_DISCHARGE_MGD'])\n",
    "    # harbors\n",
    "    df_cooling['OCEAN_DISCHARGE_MGD'] = np.where(\n",
    "        df_cooling['NAME_OF_WATER_SOURCE'].str.contains('Harbor', regex=False) &\n",
    "        df_cooling['WATER_TYPE_CODE'] == \"SA\",\n",
    "        df_cooling['WITHDRAWAL'] - df_cooling['CONSUMPTION'],\n",
    "        df_cooling['OCEAN_DISCHARGE_MGD'])\n",
    "    # channels\n",
    "    df_cooling['OCEAN_DISCHARGE_MGD'] = np.where(\n",
    "        df_cooling['NAME_OF_WATER_SOURCE'].str.contains('Channel', regex=False) &\n",
    "        df_cooling['WATER_TYPE_CODE'] == \"SA\",\n",
    "        df_cooling['WITHDRAWAL'] - df_cooling['CONSUMPTION'],\n",
    "        df_cooling['OCEAN_DISCHARGE_MGD'])\n",
    "    # sounds\n",
    "    df_cooling['OCEAN_DISCHARGE_MGD'] = np.where(df_cooling['NAME_OF_WATER_SOURCE'].str.contains('Sound', regex=False) &\n",
    "                                                 df_cooling['WATER_TYPE_CODE'] == \"SA\",\n",
    "                                                 df_cooling['WITHDRAWAL'] - df_cooling['CONSUMPTION'],\n",
    "                                                 df_cooling['OCEAN_DISCHARGE_MGD'])\n",
    "\n",
    "    # all remaining discharge is to surface water\n",
    "    df_cooling['SURFACE_DISCHARGE_MGD'] = np.where(df_cooling['OCEAN_DISCHARGE_MGD'] == 0,\n",
    "                                                   df_cooling['WITHDRAWAL'] - df_cooling['CONSUMPTION'],\n",
    "                                                   0)\n",
    "    # Fix water source and type data\n",
    "    # all surface water without a type is assumed to be fresh\n",
    "    df_cooling['WATER_TYPE_CODE'] = np.where((df_cooling[\"WATER_SOURCE_CODE\"] == \"SW\")\n",
    "                                             & (df_cooling[\"WATER_TYPE_CODE\"] == \"-nr-\"),\n",
    "                                             \"FR\", df_cooling['WATER_TYPE_CODE'])\n",
    "\n",
    "    # all groundwater without a type is assumed to be fresh\n",
    "    df_cooling['WATER_TYPE_CODE'] = np.where((df_cooling[\"WATER_SOURCE_CODE\"] == \"GW\")\n",
    "                                             & (df_cooling[\"WATER_TYPE_CODE\"] == \"-nr-\"),\n",
    "                                             \"FR\", df_cooling['WATER_TYPE_CODE'])\n",
    "\n",
    "    # apply dictionaries\n",
    "    df_cooling['COOLING_TYPE'] = df_cooling['COOLING_TYPE'].map(cooling_dict)  # rename cooling types\n",
    "    df_cooling['WATER_SOURCE_CODE'] = df_cooling['WATER_SOURCE_CODE'].map(water_source_dict)  # rename water sources\n",
    "    df_cooling['WATER_TYPE_CODE'] = df_cooling['WATER_TYPE_CODE'].map(water_type_dict)  # rename water types\n",
    "    df_cooling['WATER_TYPE_CODE'].fillna('fresh', inplace=True)\n",
    "    df_cooling['WATER_SOURCE_CODE'].fillna('surfacewater', inplace=True)\n",
    "\n",
    "    df_cooling = df_cooling[['EIA_PLANT_ID', 'COOLING_TYPE', 'WATER_SOURCE_CODE', 'WATER_TYPE_CODE', 'WITHDRAWAL',\n",
    "                             'CONSUMPTION', 'SURFACE_DISCHARGE_MGD', 'OCEAN_DISCHARGE_MGD']]\n",
    "    df_cooling = df_cooling.rename(columns={'EIA_PLANT_ID': 'plant_code'})\n",
    "    #\n",
    "\n",
    "    df = pd.merge(df, df_cooling, how='left', on='plant_code')\n",
    "\n",
    "    no_cool_list = ['hydro', 'wind', 'solar']\n",
    "\n",
    "    for item in no_cool_list:\n",
    "        df[\"COOLING_TYPE\"] = np.where(df['fuel_type'] == item, np.nan, df[\"COOLING_TYPE\"])\n",
    "    #\n",
    "    ## splitting out fuel data into a separate dataframe and pivoting to get fuel (bbtu) as columns by type\n",
    "    df_fuel = df[\n",
    "        [\"FIPS\", \"fuel_amt\", \"fuel_type\", 'prime_mover', \"COOLING_TYPE\"]].copy()  # create a copy of fuel type data\n",
    "    df_fuel['COOLING_TYPE'].fillna('nocooling', inplace=True)\n",
    "\n",
    "    df_fuel[\"fuel_name\"] = 'EGS_' + df_fuel[\"fuel_type\"] + '_' + df_fuel[\"prime_mover\"] + '_' \\\n",
    "                           + df_fuel['COOLING_TYPE'] + '_total_bbtu_from_EPD_' + df_fuel[\"fuel_type\"] \\\n",
    "                           + '_total_total_total_bbtu'\n",
    "\n",
    "    # create a copy of the fuel dataframe to get direct supply from direct demand\n",
    "    df_supply = df_fuel.copy()\n",
    "    df_supply = df_supply[df_supply.fuel_type != 'coal']\n",
    "    df_supply = df_supply[df_supply.fuel_type != 'petroleum']\n",
    "    df_supply = df_supply[df_supply.fuel_type != 'biomass']\n",
    "    df_supply = df_supply[df_supply.fuel_type != 'natgas']\n",
    "\n",
    "    df_supply[\"supply_name\"] = 'EPD_' + df_supply[\"fuel_type\"] + '_total_total_total_bbtu_from_EPS_' + df_supply[\n",
    "        \"fuel_type\"] + '_total_total_total_bbtu'\n",
    "    df_supply = pd.pivot_table(df_supply, values='fuel_amt', index=['FIPS'], columns=['supply_name'],\n",
    "                               aggfunc=np.sum)  # pivot\n",
    "    df_supply = df_supply.reset_index()  # reset index to remove multi-index from pivot table\n",
    "    df_supply = df_supply.rename_axis(None, axis=1)  # drop index name\n",
    "    df_supply.fillna(0, inplace=True)  # fill nan with zero\n",
    "\n",
    "    # example: EGS_coal_stream_oncethrough_total_bbtu_from_EPD_coal_total_total_total_bbtu\n",
    "\n",
    "    df_fuel = pd.pivot_table(df_fuel, values='fuel_amt', index=['FIPS'], columns=['fuel_name'], aggfunc=np.sum)  # pivot\n",
    "    df_fuel = df_fuel.reset_index()  # reset index to remove multi-index from pivot table\n",
    "    df_fuel = df_fuel.rename_axis(None, axis=1)  # drop index name\n",
    "    df_fuel.fillna(0, inplace=True)  # fill nan with zero\n",
    "    #\n",
    "    ## splitting out generation data into a separate dataframe and pivoting to get generation (mwh) as columns by type\n",
    "    df_gen = df[[\"FIPS\", \"generation_mwh\", 'fuel_amt', 'prime_mover', \"fuel_type\",\n",
    "                 'COOLING_TYPE']].copy()  # create a copy of generation data\n",
    "    df_gen['COOLING_TYPE'].fillna('nocooling', inplace=True)\n",
    "    df_gen['generation_mwh'] = df_gen['generation_mwh'].apply(convert_mwh_bbtu)  # convert to bbtu from mwh\n",
    "\n",
    "    # calculate rejected energy fractions\n",
    "    df_gen['rej_fraction'] = np.where(df_gen['fuel_amt'] > 0, df_gen['generation_mwh'] / df_gen['fuel_amt'], 0)\n",
    "\n",
    "    df_demand = df_gen.copy()\n",
    "    df_demand['demand_fraction'] = 1 - df_demand['rej_fraction']\n",
    "\n",
    "    df_gen[\"fuel_type_name\"] = 'EGS_' + df_gen[\"fuel_type\"] + '_' + df_gen[\"prime_mover\"] + '_' \\\n",
    "                               + df_gen[\n",
    "                                   'COOLING_TYPE'] + \"_total_bbtu_to_REJ_total_total_total_total_bbtu_fraction\"  # add naming\n",
    "    #\n",
    "    df_gen = pd.pivot_table(df_gen, values='rej_fraction', index=['FIPS'], columns=['fuel_type_name'], aggfunc=np.sum)\n",
    "    df_gen = df_gen.reset_index()  # reset index to remove multi-index from pivot table\n",
    "    df_gen = df_gen.rename_axis(None, axis=1)  # drop index name\n",
    "    df_gen.fillna(0, inplace=True)  # fill nan with zero\n",
    "\n",
    "    # create electricity demand discharge fraction\n",
    "    df_demand[\"fuel_type_name\"] = 'EGS_' + df_demand[\"fuel_type\"] + '_' + df_demand[\"prime_mover\"] + '_' \\\n",
    "                                  + df_demand[\n",
    "                                      'COOLING_TYPE'] + \"_total_bbtu_to_EGD_total_total_total_total_bbtu_fraction\"  # add naming\n",
    "    df_demand = pd.pivot_table(df_demand, values='demand_fraction', index=['FIPS'], columns=['fuel_type_name'],\n",
    "                               aggfunc=np.sum)\n",
    "    df_demand = df_demand.reset_index()  # reset index to remove multi-index from pivot table\n",
    "    df_demand = df_demand.rename_axis(None, axis=1)  # drop index name\n",
    "    df_demand.fillna(0, inplace=True)  # fill nan with zero\n",
    "\n",
    "    # create water intensity values\n",
    "\n",
    "    # create water withdrawal source fractions\n",
    "    df_cooling_int = df[[\"FIPS\", 'plant_code', 'prime_mover', \"generation_mwh\", \"fuel_type\", 'COOLING_TYPE',\n",
    "                         'WATER_TYPE_CODE', 'WATER_SOURCE_CODE', 'WITHDRAWAL']].copy()\n",
    "\n",
    "    df_cooling_int[\"water_intensity_name\"] = 'EGS_' + df['fuel_type'] + '_' + df['prime_mover'] + '_' \\\n",
    "                                             + df['COOLING_TYPE'] + '_total_mgd_from_EGS_' \\\n",
    "                                             + df['fuel_type'] + '_' + df['prime_mover'] + '_' \\\n",
    "                                             + df['COOLING_TYPE'] + '_total_bbtu_intensity'\n",
    "\n",
    "    cooling_only = df_cooling_int[df_cooling_int.COOLING_TYPE != 'nocooling'].groupby('plant_code',\n",
    "                                                                                      as_index=False).count()\n",
    "    cooling_only = cooling_only.rename(columns={'FIPS': 'count'})\n",
    "    cooling_only = cooling_only[['plant_code', 'count']]\n",
    "    df_cooling_int = pd.merge(df_cooling_int, cooling_only, how='left', on='plant_code')\n",
    "    df_cooling_int['count'].fillna(1, inplace=True)\n",
    "    df_cooling_int = df_cooling_int.dropna(subset=[\"WITHDRAWAL\"])\n",
    "    df_cooling_int['WITHDRAWAL'] = df_cooling_int['WITHDRAWAL'] / df_cooling_int['count']\n",
    "\n",
    "    df_cooling_int['generation_mwh'] = df_cooling_int['generation_mwh'].apply(\n",
    "        convert_mwh_bbtu)  # convert to bbtu from mwh\n",
    "    df_cooling_int['intensity'] = np.where(df_cooling_int['generation_mwh'] > 0,\n",
    "                                           df_cooling_int['WITHDRAWAL'] / df_cooling_int['generation_mwh'],\n",
    "                                           0)\n",
    "\n",
    "    df_cooling_int = pd.pivot_table(df_cooling_int, values='intensity', index=['FIPS'],\n",
    "                                    columns=['water_intensity_name'], aggfunc=np.mean)\n",
    "    df_cooling_int = df_cooling_int.reset_index()  # reset index to remove multi-index from pivot table\n",
    "    df_cooling_int = df_cooling_int.rename_axis(None, axis=1)  # drop index name\n",
    "    df_cooling_int.fillna(0, inplace=True)  # fill nan with zero\n",
    "\n",
    "    # create water withdrawal source fractions\n",
    "    df_cooling_w = df[[\"FIPS\", 'plant_code', 'prime_mover', \"fuel_type\", 'COOLING_TYPE',\n",
    "                       'WATER_TYPE_CODE', 'WATER_SOURCE_CODE', 'WITHDRAWAL']].copy()\n",
    "\n",
    "    df_cooling_w[\"water_withdrawal_name\"] = 'EGS_' + df['fuel_type'] + '_' + df['prime_mover'] + '_' \\\n",
    "                                            + df['COOLING_TYPE'] + '_total_mgd_from_WSW_' \\\n",
    "                                            + df_cooling_w[\"WATER_TYPE_CODE\"] + '_' + df_cooling_w[\"WATER_SOURCE_CODE\"] \\\n",
    "                                            + '_total_total_mgd_fraction'\n",
    "\n",
    "    cooling_only = df_cooling_w[df_cooling_w.COOLING_TYPE != 'nocooling'].groupby('plant_code', as_index=False).count()\n",
    "    cooling_only = cooling_only.rename(columns={'FIPS': 'count'})\n",
    "    cooling_only = cooling_only[['plant_code', 'count']]\n",
    "    df_cooling_w = pd.merge(df_cooling_w, cooling_only, how='left', on='plant_code')\n",
    "    df_cooling_w['count'].fillna(1, inplace=True)\n",
    "    df_cooling_w = df_cooling_w.dropna(subset=[\"WITHDRAWAL\"])\n",
    "    df_cooling_w['WITHDRAWAL'] = df_cooling_w['WITHDRAWAL'] / df_cooling_w['count']\n",
    "\n",
    "    # convert withdrawal to value of 1 to be 100% fraction of source\n",
    "    df_cooling_w['WITHDRAWAL'] = np.where(df_cooling_w['WITHDRAWAL'] > 0, 1, 0)\n",
    "\n",
    "    df_cooling_w = pd.pivot_table(df_cooling_w, values='WITHDRAWAL', index=['FIPS'],\n",
    "                                  columns=['water_withdrawal_name'], aggfunc=np.mean)\n",
    "    df_cooling_w = df_cooling_w.reset_index()  # reset index to remove multi-index from pivot table\n",
    "    df_cooling_w = df_cooling_w.rename_axis(None, axis=1)  # drop index name\n",
    "    df_cooling_w.fillna(0, inplace=True)  # fill nan with zero\n",
    "\n",
    "    # create consumption fractions\n",
    "    df_cooling_c = df[\n",
    "        [\"FIPS\", 'plant_code', 'prime_mover', \"fuel_type\", 'COOLING_TYPE', 'WATER_TYPE_CODE', 'WATER_SOURCE_CODE',\n",
    "         'CONSUMPTION', 'WITHDRAWAL']].copy()\n",
    "    df_cooling_c[\"water_consumption_name\"] = 'EGS_' + df['fuel_type'] + '_' + df['prime_mover'] + '_' \\\n",
    "                                             + df[\n",
    "                                                 'COOLING_TYPE'] + '_total_mgd_to_CMP_total_total_total_total_mgd_fraction'\n",
    "\n",
    "    df_cooling_c = pd.merge(df_cooling_c, cooling_only, how='left', on='plant_code')\n",
    "    df_cooling_c['count'].fillna(1, inplace=True)\n",
    "    df_cooling_c = df_cooling_c.dropna(subset=[\"CONSUMPTION\"])\n",
    "    df_cooling_c['CONSUMPTION'] = df_cooling_c['CONSUMPTION'] / df_cooling_c['count']\n",
    "\n",
    "    df_cooling_c['cons_fraction'] = df_cooling_c['CONSUMPTION'] / df_cooling_c['WITHDRAWAL']\n",
    "\n",
    "    df_cooling_c = pd.pivot_table(df_cooling_c, values='cons_fraction', index=['FIPS'],\n",
    "                                  columns=['water_consumption_name'],\n",
    "                                  aggfunc=np.mean)\n",
    "    df_cooling_c = df_cooling_c.reset_index()  # reset index to remove multi-index from pivot table\n",
    "    df_cooling_c = df_cooling_c.rename_axis(None, axis=1)  # drop index name\n",
    "    df_cooling_c.fillna(0, inplace=True)  # fill nan with zero\n",
    "\n",
    "    # surface discharge fraction\n",
    "    df_cooling_sd = df[\n",
    "        [\"FIPS\", 'plant_code', 'prime_mover', \"fuel_type\", 'COOLING_TYPE', 'WATER_TYPE_CODE', 'WATER_SOURCE_CODE',\n",
    "         'SURFACE_DISCHARGE_MGD', 'WITHDRAWAL']].copy()\n",
    "    df_cooling_sd[\"sd_name\"] = 'EGS_' + df['fuel_type'] + '_' + df['prime_mover'] + '_' \\\n",
    "                               + df['COOLING_TYPE'] + '_total_mgd_to_SRD_total_total_total_total_mgd_fraction'\n",
    "\n",
    "    df_cooling_sd = pd.merge(df_cooling_sd, cooling_only, how='left', on='plant_code')\n",
    "    df_cooling_sd['count'].fillna(1, inplace=True)\n",
    "    df_cooling_sd = df_cooling_sd.dropna(subset=[\"SURFACE_DISCHARGE_MGD\"])\n",
    "    df_cooling_sd['SURFACE_DISCHARGE_MGD'] = df_cooling_sd['SURFACE_DISCHARGE_MGD'] / df_cooling_sd['count']\n",
    "\n",
    "    df_cooling_sd['sd_fraction'] = df_cooling_sd['SURFACE_DISCHARGE_MGD'] / df_cooling_sd['WITHDRAWAL']\n",
    "\n",
    "    df_cooling_sd = pd.pivot_table(df_cooling_sd, values='sd_fraction', index=['FIPS'], columns=['sd_name'],\n",
    "                                   aggfunc=np.sum)\n",
    "    df_cooling_sd = df_cooling_sd.reset_index()  # reset index to remove multi-index from pivot table\n",
    "    df_cooling_sd = df_cooling_sd.rename_axis(None, axis=1)  # drop index name\n",
    "    df_cooling_sd.fillna(0, inplace=True)  # fill nan with zero\n",
    "\n",
    "    # ocean discharge fractions\n",
    "    df_cooling_od = df[\n",
    "        [\"FIPS\", 'plant_code', 'prime_mover', \"fuel_type\", 'COOLING_TYPE', 'WATER_TYPE_CODE', 'WATER_SOURCE_CODE',\n",
    "         'OCEAN_DISCHARGE_MGD', 'WITHDRAWAL']].copy()\n",
    "    df_cooling_od[\"od_name\"] = 'EGS_' + df['fuel_type'] + '_' + df['prime_mover'] + '_' \\\n",
    "                               + df['COOLING_TYPE'] + '_total_mgd_to_OCD_total_total_total_total_mgd_fraction'\n",
    "\n",
    "    df_cooling_od = pd.merge(df_cooling_od, cooling_only, how='left', on='plant_code')\n",
    "    df_cooling_od['count'].fillna(1, inplace=True)\n",
    "    df_cooling_od = df_cooling_od.dropna(subset=[\"OCEAN_DISCHARGE_MGD\"])\n",
    "    df_cooling_od['OCEAN_DISCHARGE_MGD'] = df_cooling_od['OCEAN_DISCHARGE_MGD'] / df_cooling_od['count']\n",
    "\n",
    "    df_cooling_od['od_fraction'] = df_cooling_od['OCEAN_DISCHARGE_MGD'] / df_cooling_od['WITHDRAWAL']\n",
    "\n",
    "    df_cooling_od = pd.pivot_table(df_cooling_od, values='OCEAN_DISCHARGE_MGD', index=['FIPS'], columns=['od_name'],\n",
    "                                   aggfunc=np.sum)\n",
    "    df_cooling_od = df_cooling_od.reset_index()  # reset index to remove multi-index from pivot table\n",
    "    df_cooling_od = df_cooling_od.rename_axis(None, axis=1)  # drop index name\n",
    "    df_cooling_od.fillna(0, inplace=True)  # fill nan with zero\n",
    "\n",
    "    # merge dataframes\n",
    "    df_fuel = pd.merge(df_loc, df_fuel, how='left', on='FIPS').fillna(0)\n",
    "    # df_supply = pd.merge(df_loc, df_supply, how='left', on='FIPS').fillna(0)\n",
    "    df_gen = pd.merge(df_loc, df_gen, how='left', on='FIPS').fillna(0)\n",
    "    df_demand = pd.merge(df_loc, df_demand, how='left', on='FIPS').fillna(0)\n",
    "    df_cooling_int = pd.merge(df_loc, df_cooling_int, how='left', on='FIPS').fillna(0)\n",
    "    df_cooling_w = pd.merge(df_loc, df_cooling_w, how='left', on='FIPS').fillna(0)\n",
    "    df_cooling_c = pd.merge(df_loc, df_cooling_c, how='left', on='FIPS').fillna(0)\n",
    "    df_cooling_sd = pd.merge(df_loc, df_cooling_sd, how='left', on='FIPS').fillna(0)\n",
    "    df_cooling_od = pd.merge(df_loc, df_cooling_od, how='left', on='FIPS').fillna(0)\n",
    "\n",
    "    # rem_list = [df_cooling_w, df_cooling_c, df_cooling_sd, df_cooling_od]\n",
    "    out_df = pd.merge(df_fuel, df_gen, how='left', on=['FIPS', 'State', 'County'])\n",
    "    out_df = pd.merge(out_df, df_demand, how='left', on=['FIPS', 'State', 'County'])\n",
    "    # out_df = pd.merge(out_df, df_supply, how='left', on=['FIPS', 'State', 'County'])\n",
    "    out_df = pd.merge(out_df, df_cooling_int, how='left', on=['FIPS', 'State', 'County'])\n",
    "    out_df = pd.merge(out_df, df_cooling_w, how='left', on=['FIPS', 'State', 'County'])\n",
    "    out_df = pd.merge(out_df, df_cooling_c, how='left', on=['FIPS', 'State', 'County'])\n",
    "    out_df = pd.merge(out_df, df_cooling_sd, how='left', on=['FIPS', 'State', 'County'])\n",
    "    out_df = pd.merge(out_df, df_cooling_od, how='left', on=['FIPS', 'State', 'County'])\n",
    "\n",
    "    return df_test_gen"
   ]
  },
  {
   "cell_type": "code",
   "execution_count": null,
   "id": "ffef60e7",
   "metadata": {},
   "outputs": [],
   "source": []
  },
  {
   "cell_type": "code",
   "execution_count": null,
   "id": "963bdd27",
   "metadata": {},
   "outputs": [],
   "source": []
  },
  {
   "cell_type": "code",
   "execution_count": null,
   "id": "409f1f9f",
   "metadata": {},
   "outputs": [],
   "source": []
  },
  {
   "cell_type": "code",
   "execution_count": null,
   "id": "2aa6bf37",
   "metadata": {},
   "outputs": [],
   "source": []
  },
  {
   "cell_type": "code",
   "execution_count": null,
   "id": "a7a4f953",
   "metadata": {},
   "outputs": [],
   "source": []
  },
  {
   "cell_type": "code",
   "execution_count": null,
   "id": "9db2dfbf",
   "metadata": {},
   "outputs": [],
   "source": []
  },
  {
   "cell_type": "code",
   "execution_count": null,
   "id": "fa4c7842",
   "metadata": {},
   "outputs": [],
   "source": [
    "\n",
    "\n"
   ]
  },
  {
   "cell_type": "code",
   "execution_count": null,
   "id": "29996408-edb9-47dd-8a09-5860e94c7160",
   "metadata": {},
   "outputs": [],
   "source": [
    "df2 = df.groupby(['S1','t1','units'], as_index=False).sum()\n",
    "df2"
   ]
  },
  {
   "cell_type": "code",
   "execution_count": null,
   "id": "f9990ee6-fce3-4c99-a592-470c028ee4f4",
   "metadata": {},
   "outputs": [],
   "source": [
    "df = flow.prep_water_use_2015()\n",
    "df"
   ]
  },
  {
   "cell_type": "code",
   "execution_count": null,
   "id": "60ff21a6-9cb5-4590-87bf-cd7131fbeaa5",
   "metadata": {},
   "outputs": [],
   "source": []
  },
  {
   "cell_type": "code",
   "execution_count": null,
   "id": "2125c393-a48f-4c5f-a5bf-a2ee4919e8a4",
   "metadata": {},
   "outputs": [],
   "source": []
  },
  {
   "cell_type": "code",
   "execution_count": null,
   "id": "be18127c-5ffc-42de-8959-5b1a03c40c0a",
   "metadata": {},
   "outputs": [],
   "source": [
    "df.to_csv(r\"C:\\Users\\mong275\\Local Files\\Repos\\full_run_output.csv\", index=False)"
   ]
  },
  {
   "cell_type": "code",
   "execution_count": null,
   "id": "abf1a541-6797-4375-aa8b-2ca7e1eafe44",
   "metadata": {},
   "outputs": [],
   "source": [
    "df.to_csv(r\"C:\\Users\\mong275\\Local Files\\Repos\\flow\\sample_data\\full_output.csv\")"
   ]
  },
  {
   "cell_type": "code",
   "execution_count": null,
   "id": "9d56ff8e-363e-4768-be96-786c43136fee",
   "metadata": {},
   "outputs": [],
   "source": [
    "df2 = df.copy()\n",
    "df2 = df2[df.region == '41071']\n",
    "df2 = df2[df2.t1 == 'WWD']\n",
    "df2 = df2[df2.units == 'bbtu']\n",
    "df2.sort_values(by=['value'], inplace=True, ascending=False)\n",
    "\n",
    "df2.replace('total', \"\", inplace=True)\n",
    "df2['source_name'] = df2['S1'] +\" \" + df2['S2'] +\" \" + df2['S3'] +\" \" +df2['S4'] +\" \" +df2['S5']\n",
    "df2['source_name'] = df2['source_name'].str.strip()\n",
    "df2['target_name'] = df2['t1'] +\" \" + df2['t2'] +\" \" + df2['t3'] +\" \" +df2['t4'] +\" \" +df2['t5']\n",
    "df2['target_name'] = df2['target_name'].str.strip()\n",
    "df2['flow_name'] = df2['source_name'] + ' to ' + df2['target_name']\n",
    "df2['flow_name'] = df2['flow_name'].str.strip()\n",
    "\n",
    "flow_list = df2['flow_name'].head().to_list()\n",
    "value_list = df2['value'].round(4).head().to_list()\n",
    "\n",
    "dictionary = dict(zip(flow_list, value_list))\n",
    "\n",
    "\n",
    "#print(f'The top flows to {sector_name} in {unit_type} in {region_name} are: ')\n",
    "print(f'The top bbtu flows to WWD in 41071 are: ')\n",
    "for name in dictionary:\n",
    "    print(f'{name}        {dictionary[name]}  bbtu')\n",
    "        "
   ]
  },
  {
   "cell_type": "code",
   "execution_count": null,
   "id": "e2b7675b-0d1d-48bc-9bae-b9eeb1c232b8",
   "metadata": {},
   "outputs": [],
   "source": []
  },
  {
   "cell_type": "code",
   "execution_count": null,
   "id": "6c8b7401-fcd5-4483-bd17-cdebf7c9bd1b",
   "metadata": {},
   "outputs": [],
   "source": [
    "d = flow.calculate()\n",
    "d"
   ]
  },
  {
   "cell_type": "code",
   "execution_count": null,
   "id": "03856543-cce9-493b-9dda-5ea8ec33f15e",
   "metadata": {},
   "outputs": [],
   "source": [
    "d['1_PWS_fresh_surfacewater_total_total_mgd']"
   ]
  },
  {
   "cell_type": "code",
   "execution_count": null,
   "id": "96213a8c-4062-4ef3-9e49-1ef948e1008c",
   "metadata": {},
   "outputs": [],
   "source": [
    "d = pd.read_csv(r\"C:\\Users\\mong275\\Local Files\\Repos\\flow\\flow\\data\\configuration_data\\test_data_01-28.csv\")\n",
    "d\n",
    "n = flow.construct_nested_dictionary(d)\n",
    "n"
   ]
  },
  {
   "cell_type": "code",
   "execution_count": null,
   "id": "bdb2c0c7-c1c1-451b-944b-18c5704d0901",
   "metadata": {},
   "outputs": [],
   "source": [
    "d = flow.read_config('baseline', 'file1')\n",
    "d"
   ]
  },
  {
   "cell_type": "code",
   "execution_count": null,
   "id": "e75be887-857b-4631-b4b8-d52f7a7b54f4",
   "metadata": {},
   "outputs": [],
   "source": [
    "with open(r'C:\\Users\\mong275\\Local Files\\Repos\\flow\\flow\\data\\configuration_data\\config.yml') as file:\n",
    "    dict_name = yaml.safe_load(file)\n",
    "dict_name['collect_water']['file2']['path']"
   ]
  },
  {
   "cell_type": "code",
   "execution_count": null,
   "id": "520cca29-9e85-4203-a4c3-e626fc460db9",
   "metadata": {},
   "outputs": [],
   "source": [
    "with open('flow/configuration.yml', 'r') as file:\n",
    "    prime_service = yaml.safe_load(file)\n",
    "prime_service['rest']['url']"
   ]
  },
  {
   "cell_type": "code",
   "execution_count": null,
   "id": "1e74fcbb-392c-4e0b-a55b-0d7dd76a952b",
   "metadata": {},
   "outputs": [],
   "source": [
    "b = flow.calc_energy_direct_demand_water_use()\n",
    "b\n",
    "for columns in b.columns:\n",
    "    print (columns)\n",
    "b"
   ]
  },
  {
   "cell_type": "code",
   "execution_count": null,
   "id": "5070e3d1-abf1-44d8-a17b-2eba89737f08",
   "metadata": {},
   "outputs": [],
   "source": [
    "split_types = flow.test_EP_flows()\n",
    "split_types"
   ]
  },
  {
   "cell_type": "code",
   "execution_count": null,
   "id": "bfac5df4-6479-441b-bf83-b752a1784ef4",
   "metadata": {},
   "outputs": [],
   "source": [
    "target_types = flow.test_water_sector_energy_discharge()\n",
    "split_dict = flow.construct_nested_dictionary(target_types)\n",
    "\n",
    "for x1 in split_dict:\n",
    "    l1_energy_name = f'{x1}_bbtu'\n",
    "    for x2 in split_dict[x1]:\n",
    "        l2_energy_name = f'{x1}_{x2}_bbtu'\n",
    "        for x3 in split_dict[x1][x2]:\n",
    "            l3_energy_name = f'{x1}_{x2}_{x3}_bbtu'\n",
    "            for x4 in split_dict[x1][x2][x3]:\n",
    "                l4_energy_name = f'{x1}_{x2}_{x3}_{x4}_bbtu'\n",
    "                for x5 in split_dict[x1][x2][x3][x4]:\n",
    "                    l5_energy_name = f'{x1}_{x2}_{x3}_{x4}_{x5}_mgd'\n",
    "                    if l5_energy_name in l5_dict:\n",
    "                        for m_type in split_dict[x1][x2][x3][x4][x5]:\n",
    "                            print(split_dict[x1][x2][x3][x4][x5][m_type])"
   ]
  },
  {
   "cell_type": "code",
   "execution_count": null,
   "id": "47ce08bd-79f0-4d3e-8382-32909426adf4",
   "metadata": {},
   "outputs": [],
   "source": [
    "\n",
    "p = flow.test_ww_param()\n",
    "#f = flow.test_EP_flows()\n",
    "\n",
    "d = flow.calc_collect_water_use()\n",
    "for col in d.columns:\n",
    "    print(col)"
   ]
  },
  {
   "cell_type": "code",
   "execution_count": null,
   "id": "48a09b64-9caf-4bcc-85a7-d2d7ff62fe76",
   "metadata": {},
   "outputs": [],
   "source": [
    "b = flow.test_water_sector_param()\n",
    "d = flow.construct_nested_dictionary(b)\n",
    "\n",
    "\n",
    "for x1 in d:\n",
    "    l1_demand_name = f'{x1}_mgd'\n",
    "    l1_demand_value = 0\n",
    "    for x2 in d[x1]:\n",
    "        l2_demand_name = f'{x1}_{x2}_mgd'\n",
    "        l2_demand_value = 0\n",
    "        for x3 in d[x1][x2]:\n",
    "            l3_demand_name = f'{x1}_{x2}_{x3}_mgd'\n",
    "            l3_demand_value = 0\n",
    "            for x4 in d[x1][x2][x3]:\n",
    "                l4_demand_name = f'{x1}_{x2}_{x3}_{x4}_mgd'\n",
    "                l4_demand_value = 0\n",
    "                for x5 in d[x1][x2][x3][x4]:\n",
    "                    l5_demand_name = f'{x1}_{x2}_{x3}_{x4}_{x5}_mgd'\n",
    "                    l5_demand_value = 0\n",
    "                    for s1 in d[x1][x2][x3][x4][x5]:\n",
    "                        for s2 in d[x1][x2][x3][x4][x5][s1]:\n",
    "                            l1_supply_name = f'{s1}_to_{x1}_mgd'\n",
    "\n",
    "                            for s3 in d[x1][x2][x3][x4][x5][s1][s2]:\n",
    "                                l2_supply_name = f'{s1}_{s2}_to_{x1}_{x2}_mgd'\n",
    "                                for s4 in d[x1][x2][x3][x4][x5][s1][s2][s3]:\n",
    "                                    l3_supply_name = f'{s1}_{s2}_{s3}_to_{x1}_{x2}_{x3}_mgd'\n",
    "                                    l5_demand_value = 0\n",
    "                                    for s5 in d[x1][x2][x3][x4][x5][s1][s2][s3][s4]:\n",
    "                                        l4_supply_name = f'{s1}_{s2}_{s3}_{s4}_to_{x1}_{x2}_{x3}_{x4}_mgd'\n",
    "                                        l5_supply_name = f'{s1}_{s2}_{s3}_{s4}_{s5}_to_{x1}_{x2}_{x3}_{x4}_{x5}_mgd'\n",
    "                                        print(l5_supply_name)"
   ]
  },
  {
   "cell_type": "code",
   "execution_count": null,
   "id": "69cc54be-6a46-4bd2-8e67-65573815a90f",
   "metadata": {
    "tags": []
   },
   "outputs": [],
   "source": [
    "\n",
    "#pd.set_option('display.max_rows', None)\n",
    "data = flow.configure_data()\n",
    "source_parameters = flow.get_water_demand_source_parameters()\n",
    "target_parameters = flow.get_water_demand_target_parameters()\n",
    "x = flow.calc_water_to_nonwater_sectors(data=data, source_parameters=source_parameters, target_parameters=target_parameters, output='l5')\n",
    "x.sum()"
   ]
  },
  {
   "cell_type": "code",
   "execution_count": null,
   "id": "88c5c834-f534-4dc9-9e14-23b3f9da99aa",
   "metadata": {},
   "outputs": [],
   "source": [
    "d = flow.calc_pws_discharge()\n",
    "d.sum()"
   ]
  },
  {
   "cell_type": "code",
   "execution_count": null,
   "id": "5bfa0d16-e21d-4324-a970-492d31b35448",
   "metadata": {},
   "outputs": [],
   "source": [
    "d = flow.get_water_use_2015()\n",
    "d['PS-WSWSa'].sum()"
   ]
  },
  {
   "cell_type": "code",
   "execution_count": null,
   "id": "6ec5b8c3-f18c-4cd8-8495-77e47558bb48",
   "metadata": {},
   "outputs": [],
   "source": []
  },
  {
   "cell_type": "code",
   "execution_count": null,
   "id": "f8fb8a71-702f-4af2-ab45-14a02a5ac3e0",
   "metadata": {},
   "outputs": [],
   "source": [
    "df = flow.prep_electricity_demand_data()\n",
    "demand_columns = df.columns[1:5].to_list()\n",
    "demand_columns\n",
    "for d in demand_columns:\n",
    "    df[d] = df[d] * df['pop_weight']\n",
    "    df[d] = df[d].round(4)\n",
    "df.sum()"
   ]
  },
  {
   "cell_type": "code",
   "execution_count": null,
   "id": "c333e000-a7ef-412a-a386-9dc23e9a5152",
   "metadata": {},
   "outputs": [],
   "source": [
    "d = flow.prep_electricity_demand_data()\n",
    "d.dtypes"
   ]
  },
  {
   "cell_type": "code",
   "execution_count": null,
   "id": "e41d97e0-a594-4f1f-a526-04708ee1b25b",
   "metadata": {},
   "outputs": [],
   "source": [
    "df = flow.get_state_electricity_demand_data()\n",
    "\n",
    "    # build renaming dictionary\n",
    "rename_dict = {\"RESIDENTIAL\": \"EG_total_total_total_total_to_RES_total_total_total_total_bbtu\",\n",
    "                   \"COMMERCIAL\": \"EG_total_total_total_total_to_CO_total_total_total_total_bbtu\",\n",
    "                   \"INDUSTRIAL\": \"EG_total_total_total_total_to_IN_total_total_total_total_bbtu\",\n",
    "                   \"TRANSPORTATION\": \"EG_total_total_total_total_to_TR_total_total_total_total_bbtu\"}\n",
    "\n",
    "    # prep dataframe\n",
    "df = df.dropna(subset=[\"Month\"])  # drop rows where month is blank\n",
    "df = df.dropna(subset=[\"Ownership\"])  # Drop state totals and state adjustments\n",
    "df = df[df.Ownership != \"Behind the Meter\"]  # removing behind the meter generation\n",
    "df = df.groupby(\"State\", as_index=False).sum()  # get total by state\n",
    "df = df[[\"State\", \"RESIDENTIAL\", \"COMMERCIAL\", \"INDUSTRIAL\", \"TRANSPORTATION\"]]\n",
    "\n",
    "    # convert electricity demand values from mwh to bbtu\n",
    "column_list = df.columns[1:]\n",
    "for col in column_list:\n",
    "    df[col] = df[col].apply(flow.convert_mwh_bbtu)\n",
    "\n",
    "    # rename columns to add descriptive language\n",
    "df.rename(columns=rename_dict, inplace=True)\n",
    "    \n",
    "\n",
    "    # split out into county values based on percent of state population\n",
    "df = flow.calc_population_county_weight(df)\n",
    "demand_columns = df.columns[1:5].to_list()\n",
    "for d in demand_columns:\n",
    "    df[d] = df[d] * df['pop_weight']\n",
    "    df[d] = df[d].round(4)\n",
    "df"
   ]
  },
  {
   "cell_type": "code",
   "execution_count": null,
   "id": "87ad7cd2-0f6f-4fa6-84ce-a1166654ddf3",
   "metadata": {},
   "outputs": [],
   "source": [
    "y = flow.construct_nested_dictionary(flow.get_fuel_demand_target_parameters())\n",
    "#len(flow.get_fuel_demand_source_parameters())\n",
    "#x = flow.get_fuel_demand_source_parameters()\n",
    "y"
   ]
  },
  {
   "cell_type": "code",
   "execution_count": null,
   "id": "0f26c85e-9014-48ea-8c9d-9ab3e2045b59",
   "metadata": {},
   "outputs": [],
   "source": [
    "x = flow.prep_fuel_demand_data()\n",
    "x"
   ]
  },
  {
   "cell_type": "code",
   "execution_count": null,
   "id": "b284f876-240b-4e07-8d80-e68fe2d704c4",
   "metadata": {},
   "outputs": [],
   "source": [
    "l1_df = pd.DataFrame.from_dict(x, orient='index').transpose()\n"
   ]
  },
  {
   "cell_type": "code",
   "execution_count": null,
   "id": "e258c375-b9d6-4e40-8aee-d046fcb979cd",
   "metadata": {},
   "outputs": [],
   "source": [
    "\n",
    "df = pd.DataFrame()\n",
    "for i in range(len(data)):\n",
    "    df = df.append({'A': 0}, ignore_index=True)\n",
    "df"
   ]
  },
  {
   "cell_type": "code",
   "execution_count": null,
   "id": "4ea7fd6d-236c-40d6-b934-8c53e1cb5a7a",
   "metadata": {},
   "outputs": [],
   "source": [
    "for col in x.columns:\n",
    "    print(col)"
   ]
  },
  {
   "cell_type": "code",
   "execution_count": null,
   "id": "8841ce4e-669b-4674-80b7-ffe68ff672bb",
   "metadata": {},
   "outputs": [],
   "source": [
    "df.sum()"
   ]
  },
  {
   "cell_type": "code",
   "execution_count": null,
   "id": "1d8062b1-8aaf-46c3-83ae-ea0f689041f5",
   "metadata": {},
   "outputs": [],
   "source": [
    "fail_parameter_data = flow.get_electricity_generation_efficiency_parameters()\n",
    "fail_parameter_data = fail_parameter_data.drop(fail_parameter_data.columns[2], axis=1)\n",
    "fail_parameter_data"
   ]
  },
  {
   "cell_type": "code",
   "execution_count": null,
   "id": "d2172fd4-3821-4e1a-8b0c-543f2d81b16f",
   "metadata": {},
   "outputs": [],
   "source": [
    "parameters = flow.get_electricity_generation_efficiency_parameters()\n",
    "test_dict = flow.construct_nested_dictionary(parameters)\n",
    "test_fuel_type = list(test_dict.keys())[0]\n",
    "test_sub_fuel_type = list(test_dict[test_fuel_type].keys())[0]\n",
    "\n",
    "test_sub_fuel_type"
   ]
  },
  {
   "cell_type": "code",
   "execution_count": null,
   "id": "a7f1acb5-2809-473e-a7a7-26f4aa76c489",
   "metadata": {},
   "outputs": [],
   "source": [
    "#df = flow.calc_electricity_energy_discharge(data=d, total=True)\n",
    "df['eg_generation_biomass_to_es_bbtu'][4]"
   ]
  },
  {
   "cell_type": "code",
   "execution_count": null,
   "id": "b9f479ff-493c-44f5-9ac7-f2727103a49d",
   "metadata": {},
   "outputs": [],
   "source": [
    "df.sum()"
   ]
  },
  {
   "cell_type": "code",
   "execution_count": null,
   "id": "8d3ba043-8ad3-4207-8448-93ce9869b21d",
   "metadata": {},
   "outputs": [],
   "source": [
    "df = flow.get_electricity_generation_efficiency_parameters()\n",
    "x = flow.construct_nested_dictionary(df)\n",
    "\n",
    "x['biomass']['total']['efficiency']"
   ]
  },
  {
   "cell_type": "code",
   "execution_count": null,
   "id": "59ab63f6-f156-467e-baa3-437fa0966409",
   "metadata": {},
   "outputs": [],
   "source": [
    "efficiency_dict = {'biomass':{'total'}, 'coal':{'total'}, 'geothermal':{'total'}, 'hydro':{'total'}, 'natgas':{'total'}, 'nuclear':{'total'},\n",
    "                       'oil':{'total'}, 'other':{'total'}, 'solar':{'total'}, 'wind':{'total'}}\n",
    "efficiency_dict"
   ]
  },
  {
   "cell_type": "code",
   "execution_count": null,
   "id": "17f6396a-399e-490a-bf5c-ac2bb8f67850",
   "metadata": {},
   "outputs": [],
   "source": [
    "d = df.groupby(group1).apply(lambda x: dict(zip(x[parameter])))"
   ]
  },
  {
   "cell_type": "code",
   "execution_count": null,
   "id": "4336064c-06d4-42ec-97a2-bce14a3f36a6",
   "metadata": {},
   "outputs": [],
   "source": [
    "group1 = df.columns[0]\n",
    "group2 = df.columns[1]\n",
    "group3 = df.columns[2]\n",
    "group4 = df.columns[3]\n",
    "parameter = df.columns[-2]\n",
    "value = df.columns[-1]\n",
    "\n",
    "\n",
    "d = df.groupby(group1).apply(lambda x: dict(zip(x[parameter], x[value])))\n",
    "d = d.to_dict()\n",
    "d\n"
   ]
  },
  {
   "cell_type": "code",
   "execution_count": null,
   "id": "2832fec1-f381-47a9-9cd7-35af38958799",
   "metadata": {},
   "outputs": [],
   "source": [
    "d = df.groupby(group1).apply(lambda a: dict(a.groupby(group2).apply(lambda b: dict(b.groupby(group3).apply(\n",
    "            lambda b: dict(b.groupby(group4).apply(lambda x: dict(zip(x[parameter], x[value])))))))))"
   ]
  },
  {
   "cell_type": "code",
   "execution_count": null,
   "id": "fb0432fc-7921-4adc-a3df-d3e992adf5ef",
   "metadata": {},
   "outputs": [],
   "source": [
    "main_grouper = df.columns[0]\n",
    "nest_list = df.columns[1:].to_list()\n",
    "second_list =  df.columns[2:]\n",
    "sub_nest_grouper = nest_list[0]"
   ]
  },
  {
   "cell_type": "code",
   "execution_count": null,
   "id": "efa91fc4-f962-40bd-b816-7742e2f0d641",
   "metadata": {},
   "outputs": [],
   "source": [
    "fuel_dict = df.groupby(main_grouper)[nest_list].apply(lambda x: x.set_index([nest_list]).to_dict(orient='index')).to_dict()\n",
    "fuel_dict"
   ]
  },
  {
   "cell_type": "code",
   "execution_count": null,
   "id": "60109bc8-2ca7-4208-a5ff-4fe1fe68a591",
   "metadata": {},
   "outputs": [],
   "source": [
    "for item in res:\n",
    "    print(res['biomass'])\n",
    "    "
   ]
  },
  {
   "cell_type": "code",
   "execution_count": null,
   "id": "4677d33e-ba49-440f-8903-b84368552e8a",
   "metadata": {},
   "outputs": [],
   "source": [
    "numerics = ['int16', 'int32', 'int64', 'float16', 'float32', 'float64']\n",
    "numeric_list = data.select_dtypes(include=numerics).columns.tolist()\n",
    "record_list = []\n",
    "for column in numeric_list:\n",
    "    x = data.columns.get_loc(column)\n",
    "    record_list.append(x)\n",
    "length = min(record_list)\n",
    "\n",
    "\n",
    "main_grouper = data.columns[0]\n",
    "nest_list = data.columns[1:].to_list()\n",
    "sub_nest_grouper = nest_list[0]\n",
    "fuel_dict = data.groupby(main_grouper)[nest_list].apply(lambda x: x.set_index(sub_nest_grouper).to_dict(orient='index')).to_dict()\n",
    "fuel_dict"
   ]
  },
  {
   "cell_type": "code",
   "execution_count": null,
   "id": "a0c1165f-af68-4033-91c9-ab82fccdbda8",
   "metadata": {},
   "outputs": [],
   "source": [
    "main_grouper = data.columns[1]\n",
    "nest_list = data.columns[1:].to_list()\n",
    "sub_nest_grouper = nest_list[0]\n",
    "\n",
    "    # no sub-fuel types\n",
    "main_type_unique = data[main_grouper].is_unique\n",
    "sub_type_unique = data[sub_nest_grouper].is_unique\n",
    "\n",
    "if main_type_unique and sub_type_unique:\n",
    "    fuel_dict = data.set_index(main_grouper).to_dict(orient='index')\n",
    "elif not main_type_unique and not sub_type_unique:\n",
    "\n",
    "    fuel_dict = data.groupby(main_grouper)[nest_list].apply(lambda x: x.set_index(sub_nest_grouper).to_dict(orient='index')).to_dict()\n",
    "else:\n",
    "    pass\n",
    "\n",
    "fuel_dict"
   ]
  },
  {
   "cell_type": "code",
   "execution_count": null,
   "id": "c583dc07-dc26-4a7a-9517-c142ef251c8c",
   "metadata": {},
   "outputs": [],
   "source": [
    "#data.apply(lambda x: x.set_index('fuel_types').to_dict(orient='index'))\n",
    "nest_list = data.columns[2:].to_list()\n",
    "fuel_dict = data.groupby('fuel_type')#[nest_list].apply(lambda x: x.set_index('fuel_type').to_dict(orient='index')).to_dict()\n",
    "fuel_dict = data.set_index('fuel_type').to_dict(orient='index')\n",
    "fuel_dict"
   ]
  },
  {
   "cell_type": "code",
   "execution_count": null,
   "id": "8ee6d0fc-2896-4a7f-a1b2-f91450f9082a",
   "metadata": {},
   "outputs": [],
   "source": [
    "data.head()\n",
    "d = flow.construct_dictionary(data)\n",
    "d"
   ]
  },
  {
   "cell_type": "code",
   "execution_count": null,
   "id": "34e4431e-085c-41c8-b4e2-0ccc668b256c",
   "metadata": {},
   "outputs": [],
   "source": [
    "df.columns[1]\n",
    "nest_list = df.columns[2:].to_list()\n",
    "nest_list[0]"
   ]
  },
  {
   "cell_type": "code",
   "execution_count": null,
   "id": "9f7264c4-b0a6-449b-b0fe-88ab481981b6",
   "metadata": {},
   "outputs": [],
   "source": [
    "my_dict = {1:{'name':'x', 'age':24}, 2:{'name':'y', 'age':21}, 3:{'name':'z', 'age':25}}\n",
    "\n",
    "#my_dict\n",
    "#def count(d):\n",
    "#    return max(count(v) if isinstance(v,dict) else 0 for v in d.values()) + 1\n",
    "\n",
    "#print(count(my_dict))"
   ]
  },
  {
   "cell_type": "code",
   "execution_count": null,
   "id": "0d9c7e14-fe49-4d2e-9da6-1c1194d69f1f",
   "metadata": {},
   "outputs": [],
   "source": [
    "    nested_dict = df.groupby(main_grouper)[nest_list].apply(lambda x: x.set_index(sub_nest_grouper).to_dict(orient='index')).to_dict()\n"
   ]
  },
  {
   "cell_type": "code",
   "execution_count": null,
   "id": "a9ba4c80-9f14-4ae0-ad54-27062868798d",
   "metadata": {},
   "outputs": [],
   "source": [
    "import flow"
   ]
  },
  {
   "cell_type": "code",
   "execution_count": null,
   "id": "9889b2ea-cad5-456e-ad14-7bff4bedeeb6",
   "metadata": {},
   "outputs": [],
   "source": [
    "x = fresh_groundwater_coal_generation_mgd + fresh_surfacewater_coal_generation_mgd + fresh_wastewater_coal_generation_mgd + saline_groundwater_coal_generation_mgd + saline_surfacewater_coal_generation_mgd\n",
    "x\n",
    "z = coal_generation_surface_discharge_mgd + coal_generation_ocean_discharge_mgd\n",
    "x - coal_generation_consumption_mgd "
   ]
  },
  {
   "cell_type": "code",
   "execution_count": null,
   "id": "5196ac0a-6d13-43fe-8368-d5ca603e2694",
   "metadata": {},
   "outputs": [],
   "source": [
    "z"
   ]
  },
  {
   "cell_type": "code",
   "execution_count": null,
   "id": "84bf2c08-5096-46c7-9509-c68d336e0b8a",
   "metadata": {},
   "outputs": [],
   "source": [
    "df = df.groupby('fuel_type')[['sub_fuel','fuel_efficiency','parameter2']].apply(lambda x: x.set_index('sub_fuel').to_dict(orient='index')).to_dict()\n",
    "df"
   ]
  },
  {
   "cell_type": "code",
   "execution_count": null,
   "id": "feeaa715-f555-4071-8d3f-b8792fec5ae6",
   "metadata": {},
   "outputs": [],
   "source": [
    "round(df).sum()"
   ]
  },
  {
   "cell_type": "code",
   "execution_count": null,
   "id": "e99f297a-5597-42e8-af6e-51bf5fa4c4ef",
   "metadata": {},
   "outputs": [],
   "source": [
    "54+45"
   ]
  },
  {
   "cell_type": "code",
   "execution_count": null,
   "id": "34cb526e-9c1b-4689-8b7c-6e4614801cc9",
   "metadata": {},
   "outputs": [],
   "source": [
    "for col in df.columns:\n",
    "    print(col)"
   ]
  },
  {
   "cell_type": "code",
   "execution_count": null,
   "id": "7e804214-e138-4ea2-8e0e-f187050885d9",
   "metadata": {},
   "outputs": [],
   "source": []
  },
  {
   "cell_type": "code",
   "execution_count": null,
   "id": "b11082b6-6e1a-4608-a6a5-4833f050f692",
   "metadata": {},
   "outputs": [],
   "source": [
    "for col in df.columns:\n",
    "    print(col)"
   ]
  },
  {
   "cell_type": "code",
   "execution_count": null,
   "id": "169e6c89-c828-4f9a-b330-3c3b39c94075",
   "metadata": {},
   "outputs": [],
   "source": [
    "48384*0.00016149393844372542"
   ]
  },
  {
   "cell_type": "code",
   "execution_count": null,
   "id": "868b7027-5b25-44f6-9c8c-51b1ac5daf6b",
   "metadata": {},
   "outputs": [],
   "source": [
    "df.sum()"
   ]
  },
  {
   "cell_type": "code",
   "execution_count": null,
   "id": "b171e1f8-afe4-4ac9-af9a-6de7010f255d",
   "metadata": {},
   "outputs": [],
   "source": [
    "\n",
    "df['total_water'] = df['fresh_surfacewater_natgas_unconventional_mgd'] + df['fresh_groundwater_natgas_unconventional_mgd']\n",
    "df['intensity'] = np.where(df['natgas_unconventional_production_bbtu']>0, df['total_water']/(df['natgas_unconventional_production_bbtu']/365), 0)\n",
    "df['sw_pct'] = np.where( df['total_water']>0, df['fresh_surfacewater_natgas_unconventional_mgd']/df['total_water'], 0)\n",
    "df['gw_pct'] = np.where( df['total_water']>0, df['fresh_groundwater_natgas_unconventional_mgd']/df['total_water'], 0)\n",
    "\n",
    "df.groupby(\"State\", as_index=False).sum()\n",
    "x = df['intensity'].mean()\n",
    "x"
   ]
  },
  {
   "cell_type": "code",
   "execution_count": null,
   "id": "d65284d3-fcb5-4873-9176-981dc59a1809",
   "metadata": {},
   "outputs": [],
   "source": [
    "\n",
    "# initialize data of lists.\n",
    "d_list = {'Name':['Tom', 'Tom','nick', 'krish', 'jack'],\n",
    "        'Age':[20, 22, 21, 19, 18],\n",
    "         'height':[20,21, 21, 19, 18]}\n",
    " \n",
    "# Create DataFrame\n",
    "d_list = pd.DataFrame(d_list)\n",
    "d_list.head()\n",
    "\n",
    "d_list = d_list.groupby('Name').apply(lambda x: x.set_index('Age').to_dict(orient='index')).to_dict()\n",
    "d_list"
   ]
  },
  {
   "cell_type": "code",
   "execution_count": null,
   "id": "6cfce2e4-4bed-440c-a786-d9899d2a86a9",
   "metadata": {},
   "outputs": [],
   "source": [
    "df3 = pd.DataFrame([\n",
    "           ['A', 123, 1], \n",
    "           ['B', 345, 5], \n",
    "           ['C', 712, 4],\n",
    "           ['B', 768, 2], \n",
    "           ['B', 768, 3], \n",
    "           ['A', 123, 9], \n",
    "           ['C', 178, 6], \n",
    "           ['C', 178, 5],  \n",
    "           ['A', 321, 3]])\n",
    "\n",
    "d = {k: f.groupby('subgroup')['selectedCol'].apply(list).to_dict()\n",
    "     for k, f in df.groupby('maingroup')}\n",
    "d"
   ]
  },
  {
   "cell_type": "code",
   "execution_count": null,
   "id": "d65cf390-29dc-4b44-a2d3-eae50744a898",
   "metadata": {},
   "outputs": [],
   "source": [
    "for col in df.columns:\n",
    "    print(col)"
   ]
  },
  {
   "cell_type": "code",
   "execution_count": null,
   "id": "4dc21b79-92d5-4ade-961c-28fc6bb823ce",
   "metadata": {},
   "outputs": [],
   "source": [
    "df = data.copy()"
   ]
  },
  {
   "cell_type": "code",
   "execution_count": null,
   "id": "cea9d682-82e0-48db-b892-2bb2742967b3",
   "metadata": {},
   "outputs": [],
   "source": [
    "# def calc_coal_production_water_use(data: pd.DataFrame, mine_types = None, water_types=None, discharge_types = None,\n",
    "#                                   regions=3, total=False):\n",
    "#    \"\"\"calculates total water use in hydroelectric generation by region.\n",
    "#\n",
    "#        Water use is determined by applying hydropower water intensity rates (mg/bbtu) to daily hydropower generation\n",
    "#        (bbtu) to get mgd in each region. Water use can be interpreted as the amount of water that passes through\n",
    "#        the hydropower facility on a daily basis, based on average power generation per day. If region-level hydropower\n",
    "#        water intensity rates are not available, an intensity assumption is applied to all hydropower generation.\n",
    "#        Surface discharge from hydropower is also calculated. This is assumed to be equal to water use in hydropower.\n",
    "#        No water is assumed to be consumed or evaporated given that the water included in this calculation only\n",
    "#        includes water that instantaneously passes through the hydropower facility and is immediately discharged back\n",
    "#        to the surface water source.\n",
    "#\n",
    "#        :param data:                        DataFrame of input data\n",
    "#        :type data:                         DataFrame\n",
    "#\n",
    "#        :param hydro_water_intensity:       The assumed million gallons required to get a billion btu from hydropower\n",
    "#        :type hydro_water_intensity:        flt\n",
    "#\n",
    "#        :param regions:                     gives the number of columns in the dataset that should be treated as region\n",
    "#                                            identifiers (e.g. \"Country\", \"State\"). Reads from the first column in the\n",
    "#                                            dataframe onwards.\n",
    "#        :type regions:                      int\n",
    "#\n",
    "#        :return:                            DataFrame of total water use by hydropower generation (mgd) and hydropower\n",
    "#                                            discharge to surface waters (mgd) by region.\n",
    "#\n",
    "#        \"\"\"\n",
    "#\n",
    "#    if mine_types is None:\n",
    "#        mine_type_dict = {'surface': 0.000007, 'ground': 0.000029}\n",
    "#    else:\n",
    "#        mine_type_dict = mine_types\n",
    "#\n",
    "#    if water_types is None:\n",
    "#        water_type_dict = {'fresh': {'surfacewater': {'flow_fraction': .5, 'consumption_fraction': .5},\n",
    "#                                    'groundwater': {'flow_fraction': .5, 'consumption_fraction': .5}},\n",
    "#                           'saline': {'surfacewater': {'flow_fraction': .5, 'consumption_fraction': .5},\n",
    "#                                    'groundwater': {'flow_fraction': .5, 'consumption_fraction': .5}}}\n",
    "#    else:\n",
    "#        water_type_dict = water_types\n",
    "#\n",
    "#    if discharge_types is None:\n",
    "#        discharge_type_dict = {'surface': 1}\n",
    "#    else:\n",
    "#        discharge_type_dict = discharge_types\n",
    "#\n",
    "#    # load data\n",
    "#    df = data\n",
    "#\n",
    "#    region_list = df.columns[:regions].tolist()\n",
    "#    output_df = df[region_list].copy()\n",
    "#    total_df = df[region_list].copy()\n",
    "#\n",
    "#    for water_type in water_type_dict:\n",
    "#        for water_source in water_type_dict[water_type]:\n",
    "#            coal_water_total_name = f'{water_type}_{water_source}_coal_mgd'\n",
    "#            output_df[coal_water_total_name] = 0\n",
    "#            total_df[coal_water_total_name] = 0\n",
    "#\n",
    "#    # calculate total water to all mining (inclusive of coal)\n",
    "#    df['total_water_mining_mgd'] = 0\n",
    "#    for water_type in water_type_dict:\n",
    "#        for water_source in water_type_dict[water_type]:\n",
    "#            mining_water_flow_name = f'{water_type}_{water_source}_mining_mgd'\n",
    "#            if mining_water_flow_name in df.columns:\n",
    "#                df['total_water_mining_mgd'] = df['total_water_mining_mgd'] + df[mining_water_flow_name]\n",
    "#            else:\n",
    "#                pass\n",
    "#\n",
    "#    # calculate percent of total mining flows by water type and water source\n",
    "#    for water_type in water_type_dict:\n",
    "#        for water_source in water_type_dict[water_type]:\n",
    "#\n",
    "#            mining_water_flow_pct_name = f'{water_type}_{water_source}_mining_pct'\n",
    "#\n",
    "#            if mining_water_flow_pct_name in df.columns: #if the percent of water flows to coal mining in data\n",
    "#                pass\n",
    "#\n",
    "#            else:  # if only water flows to all mining in data\n",
    "#                mining_water_flow_name = f'{water_type}_{water_source}_mining_mgd'\n",
    "#                if mining_water_flow_name in df.columns:  # if water type and water source to all mining in data\n",
    "#                    df[mining_water_flow_pct_name] = np.where(df['total_water_mining_mgd'] > 0,\n",
    "#                                                          (df[mining_water_flow_name] / df['total_water_mining_mgd']),\n",
    "#                                                          0)\n",
    "#                else:  # if no breakdown of water source and water type to all mining in data\n",
    "#                    df[mining_water_flow_pct_name] = water_type_dict[water_type][water_source]['flow_fraction']\n",
    "#\n",
    "#            # calculate water in coal mining for each mine type by water type and water source\n",
    "#            for mine_type in mine_type_dict:\n",
    "#                coal_shortton_name = f'{mine_type}_coal_shortton'\n",
    "#                if coal_shortton_name in df.columns:\n",
    "#                    coal_water_intensity_name = f'{mine_type}_coal_water_intensity_mg_per_shortton'\n",
    "#                    coal_water_total_name = f'{water_type}_{water_source}_coal_mgd'\n",
    "#                    if coal_water_intensity_name in df.columns:  # if regional water intensity values available\n",
    "#                        coal_water_mgd_name = f\"{water_type}_{water_source}_{mine_type}_coal_mgd\"\n",
    "#                        output_df[coal_water_mgd_name] = df[coal_water_intensity_name] \\\n",
    "#                                                         * (df[coal_shortton_name]/365) \\\n",
    "#                                                         * df[mining_water_flow_pct_name]\n",
    "#                        output_df[coal_water_total_name] = output_df[coal_water_total_name] \\\n",
    "#                                                           + output_df[coal_water_mgd_name]\n",
    "#                        total_df[coal_water_total_name] = total_df[coal_water_total_name] \\\n",
    "#                                                          + output_df[coal_water_mgd_name]\n",
    "#\n",
    "#                    else:  # if no regional water intensity available, use assumption\n",
    "#                        coal_water_mgd_name = f\"{water_type}_{water_source}_{mine_type}_coal_mgd\"\n",
    "#                        output_df[coal_water_mgd_name] = mine_type_dict[mine_type] \\\n",
    "#                                                         * (df[coal_shortton_name]/365) \\\n",
    "#                                                         * df[mining_water_flow_pct_name]\n",
    "#                        output_df[coal_water_total_name] = output_df[coal_water_total_name] \\\n",
    "#                                                           + output_df[coal_water_mgd_name]\n",
    "#                        total_df[coal_water_total_name] = total_df[coal_water_total_name] \\\n",
    "#                                                          + output_df[coal_water_mgd_name]\n",
    "#                else:  # if no coal mining available\n",
    "#                    pass\n",
    "#\n",
    "## TODO pick things up here\n",
    "#\n",
    "#            # calculate consumption of water in coal mining by water type and water source\n",
    "#\n",
    "#            # look for region- mining consumption fraction, apply it\n",
    "#\n",
    "#            # otherwise use dictionary values water_type_dict[water_type][water_source]['consumption_fraction']\n",
    "#\n",
    "#            ## look for region- mining discharge fraction, apply it\n",
    "#            # for discharge_type in discharge_type dictionary:\n",
    "#                #discharge_type_name = f'{water_type}_{water_source}_{mine_type}_{discharge_type}_discharge_mgd\n",
    "#                #discharge_pct_name = f'{water_type}_{water_source}_{mine_type}_{discharge_type}_discharge_pct\n",
    "#\n",
    "#                # if discharge_pct_name in df.columns:\n",
    "#                    # apply pct to total discharge\n",
    "#                # else:\n",
    "#                    # apply pct from dictionary\n",
    "#            #\n",
    "#\n",
    "#    # TODO add in consumption and surface discharge\n",
    "\n",
    "\n",
    "#    if total:\n",
    "#        df = total_df\n",
    "#    else:\n",
    "#        df = output_df\n",
    "#\n",
    "#    return df"
   ]
  },
  {
   "cell_type": "code",
   "execution_count": null,
   "id": "1da1bbc1-0b77-4691-870f-9d47c228f62e",
   "metadata": {},
   "outputs": [],
   "source": [
    "for mine_type in fuel_water_type_dict['coal']:\n",
    "    for water_type in fuel_water_type_dict['coal'][mine_type]:\n",
    "        print(water_type)"
   ]
  },
  {
   "cell_type": "code",
   "execution_count": null,
   "id": "3e6f0926-37e2-48a1-9b81-0af09e046919",
   "metadata": {},
   "outputs": [],
   "source": [
    "df.sum()"
   ]
  },
  {
   "cell_type": "code",
   "execution_count": null,
   "id": "0428d16d-2051-4f3c-8a90-35a577ee65b7",
   "metadata": {},
   "outputs": [],
   "source": [
    "df = flow.prep_electricity_generation()\n",
    "df"
   ]
  },
  {
   "cell_type": "code",
   "execution_count": null,
   "id": "d4222e28-9f3c-4681-8e73-cb153a6fc3f2",
   "metadata": {},
   "outputs": [],
   "source": [
    "data = flow.configure_data()\n",
    "sector_types = {'crop_irrigation': .15, 'golf_irrigation': .10}\n",
    "\n",
    "\n",
    "df=flow.calc_water_conveyance_losses(data=data, sector_types=sector_types, total=True)\n",
    "for col in df.columns:\n",
    "    print(col)"
   ]
  },
  {
   "cell_type": "code",
   "execution_count": null,
   "id": "1975c33e-494a-4e04-83fe-8cd153fcedce",
   "metadata": {},
   "outputs": [],
   "source": [
    "df = df.groupby('State', as_index=False).sum()\n",
    "df"
   ]
  },
  {
   "cell_type": "code",
   "execution_count": null,
   "id": "ed34f7ba-a1d6-40cb-bc36-b9ef5c53be0b",
   "metadata": {},
   "outputs": [],
   "source": []
  },
  {
   "cell_type": "code",
   "execution_count": null,
   "id": "9924388f-ee15-472f-8619-469e9ef75441",
   "metadata": {},
   "outputs": [],
   "source": []
  },
  {
   "cell_type": "code",
   "execution_count": null,
   "id": "c3101ab1-7cd6-4198-942f-104fcab8df48",
   "metadata": {},
   "outputs": [],
   "source": []
  },
  {
   "cell_type": "code",
   "execution_count": null,
   "id": "2a532479-d9fc-42a9-b51d-1b894352650c",
   "metadata": {},
   "outputs": [],
   "source": []
  },
  {
   "cell_type": "code",
   "execution_count": null,
   "id": "aa5b8443-1aaf-4e9a-a294-c8810d6a9004",
   "metadata": {},
   "outputs": [],
   "source": [
    "data = flow.configure_data()\n",
    "df = flow.calc_energy_agriculture(data=data, total=True)\n",
    "for col in df.columns:\n",
    "    print(col)"
   ]
  },
  {
   "cell_type": "code",
   "execution_count": null,
   "id": "fa7d37dc-fc77-49ae-a6c6-5517b007f0b4",
   "metadata": {},
   "outputs": [],
   "source": [
    "df = flow.calc_wastewater_exports(data=data)\n",
    "for col in df.columns:\n",
    "    print(col)"
   ]
  },
  {
   "cell_type": "code",
   "execution_count": null,
   "id": "d39330e9-c079-4dde-b7ea-7a540d68dbc1",
   "metadata": {},
   "outputs": [],
   "source": [
    "x.to_csv(r'C:\\Users\\mong275\\Local Files\\Sankey_Notebook_Development\\SankeyFiles\\fuel_types.csv')"
   ]
  },
  {
   "cell_type": "code",
   "execution_count": null,
   "id": "7ce0a8c6-6ea8-44a6-9863-b21ebfda9880",
   "metadata": {},
   "outputs": [],
   "source": [
    "name_list = ['electricity to rejected energy', 'energy discharge from sectoral use', 'energy in wastewater',\n",
    "                      'energy in agriculture', 'energy in public water supply', 'energy production exports',\n",
    "                     'water discharge from sectoral use']\n",
    "name_list.index('electricity to rejected energy')"
   ]
  },
  {
   "cell_type": "code",
   "execution_count": null,
   "id": "14b0acfd-7f0d-4426-be26-ff2ecfb09539",
   "metadata": {},
   "outputs": [],
   "source": [
    "water_discharge_dict = {'surfacewater': {'fresh': {'wastewater': 0, 'ocean': 0, 'surface': 1},\n",
    "                                        'saline': {'wastewater': 0, 'ocean': 1, 'surface': 0}},\n",
    "                        'groundwater': {'fresh': {'wastewater': 0, 'ocean': 0, 'surface': 1},\n",
    "                                        'saline': {'wastewater': 0, 'ocean': 1, 'surface': 0}},\n",
    "                                'pws': {'fresh': {'wastewater': 1, 'ocean': 0, 'surface': 0}}\n",
    "                             }"
   ]
  },
  {
   "cell_type": "code",
   "execution_count": null,
   "id": "b74a4c93-a511-40a3-b018-58cfcf88db8e",
   "metadata": {},
   "outputs": [],
   "source": [
    "sector_consumption_dict = {'residential': {'groundwater': {'saline': 0, 'fresh': .3},\n",
    "                                                   'surfacewater': {'saline': 0, 'fresh': .3},\n",
    "                                                   'pws': {'fresh': .3}},\n",
    "                            'commercial': {'groundwater': {'saline': 0, 'fresh': .15},\n",
    "                                           'surfacewater': {'saline': 0, 'fresh': .15},\n",
    "                                           'pws': {'fresh': .15}},\n",
    "                            'industrial':{'groundwater': {'saline': .003, 'fresh': .15},\n",
    "                                          'surfacewater': {'saline': .003, 'fresh': .15},\n",
    "                                          'pws': {'fresh': .15}},\n",
    "                            'mining': {'groundwater': {'saline': .03, 'fresh': .15},\n",
    "                                       'surfacewater': {'saline': .03, 'fresh': .15}},\n",
    "                            'crop_irrigation': {'groundwater': {'saline': 0, 'fresh': .3},\n",
    "                                                'surfacewater': {'saline': 0, 'fresh': .3}},\n",
    "                            'livestock':  {'groundwater': {'saline': 0, 'fresh': .87},\n",
    "                                           'surfacewater': {'saline': 0, 'fresh': .87}},\n",
    "                            'aquaculture': {'groundwater': {'saline': 0, 'fresh': .5},\n",
    "                                            'surfacewater': {'saline': 0, 'fresh': .5}}}"
   ]
  },
  {
   "cell_type": "code",
   "execution_count": null,
   "id": "4dfcc665-51c5-4046-91de-27ed64f8eb09",
   "metadata": {},
   "outputs": [],
   "source": [
    "df = data.copy()"
   ]
  },
  {
   "cell_type": "code",
   "execution_count": null,
   "id": "64d32f9e-90d6-41fe-b7b8-e1e9f94e61b5",
   "metadata": {},
   "outputs": [],
   "source": [
    "saline_groundwater_industrial_mgd                                                                   42.9\n",
    "saline_surfacewater_industrial_mgd                                                                742.92"
   ]
  },
  {
   "cell_type": "code",
   "execution_count": null,
   "id": "26ea605e-0e04-405f-8a54-e952d48b3919",
   "metadata": {},
   "outputs": [],
   "source": [
    "df = flow.calc_sectoral_use_water_discharge(data=data, total=True)"
   ]
  },
  {
   "cell_type": "code",
   "execution_count": null,
   "id": "8345b177-5e44-4ea9-9441-46d172680a3c",
   "metadata": {},
   "outputs": [],
   "source": [
    "x=16987.779934 +  6225.87913 + 4263.081345\n",
    "x"
   ]
  },
  {
   "cell_type": "code",
   "execution_count": null,
   "id": "b033a0ce-4937-4183-b87e-c1b4dcc0e61c",
   "metadata": {},
   "outputs": [],
   "source": [
    "df1=flow.calc_sectoral_use_water_discharge(data=data, total=True)\n",
    "df1 = df1[['FIPS', 'residential_wastewater_discharge_mgd', 'commercial_wastewater_discharge_mgd', 'industrial_wastewater_discharge_mgd']]"
   ]
  },
  {
   "cell_type": "code",
   "execution_count": null,
   "id": "164a8884-a2f8-40f2-b46b-c60901c332b0",
   "metadata": {},
   "outputs": [],
   "source": [
    "df2 = flow.prep_wastewater_data()\n",
    "df2 = df2[['FIPS', 'State', 'County', 'municipal_wastewater_mgd', 'infiltration_wastewater_mgd']]"
   ]
  },
  {
   "cell_type": "code",
   "execution_count": null,
   "id": "9685c9bb-02dc-4a46-8f20-89072d4434a1",
   "metadata": {},
   "outputs": [],
   "source": [
    "df3 = pd.merge(df2, df1, how='left')\n",
    "df3['sector_total'] = (df3['residential_wastewater_discharge_mgd'] \n",
    "                                                 + df3['commercial_wastewater_discharge_mgd'] \n",
    "                                                 + df3['industrial_wastewater_discharge_mgd'])\n",
    "df3['diff'] = df3['municipal_wastewater_mgd'] - df3['sector_total']\n",
    "df3.sum()"
   ]
  },
  {
   "cell_type": "code",
   "execution_count": null,
   "id": "335c2db6-d650-41aa-b8d2-f65c4134e2b2",
   "metadata": {},
   "outputs": [],
   "source": [
    "df = pd.DataFrame()\n",
    "df_sector_discharge = flow.calc_sectoral_use_water_discharge(data=data, total=True)\n",
    "df_sector_discharge = df_sector_discharge[['FIPS', 'State', 'County',\n",
    "                                              'residential_wastewater_discharge_mgd',\n",
    "                                              'commercial_wastewater_discharge_mgd',\n",
    "                                              'industrial_wastewater_discharge_mgd']]\n",
    "\n",
    "\n",
    "\n",
    "df['total_wastewater_discharge'] = df_sector_discharge[['residential_wastewater_discharge_mgd',\n",
    "                                              'commercial_wastewater_discharge_mgd',\n",
    "                                              'industrial_wastewater_discharge_mgd']].sum(axis=1)\n",
    "\n",
    "df['wastewater_exports_mgd'] = data['municipal_wastewater_mgd'] - df['total_wastewater_discharge']\n",
    "df"
   ]
  },
  {
   "cell_type": "code",
   "execution_count": null,
   "id": "2d47c52a-7580-4cd7-af84-c1e8efc27966",
   "metadata": {},
   "outputs": [],
   "source": [
    "df1 = flow.calc_electricity_rejected_energy(data=data)\n",
    "df2 = flow.calc_sectoral_use_energy_discharge(data=data)\n",
    "df3 = flow.calc_energy_wastewater(data=data)\n",
    "df4 = flow.calc_energy_agriculture(data=data)\n",
    "df5 = flow.calc_energy_pws(data=data)\n",
    "df6 = flow.calc_energy_production_exports(data=data)\n",
    "df7 = flow.calc_sectoral_use_water_discharge(data=data)\n",
    "df_list = [df1, df2, df3, df4, df5, df6, df7]\n",
    "df_list"
   ]
  },
  {
   "cell_type": "code",
   "execution_count": null,
   "id": "9488a9da-be01-4a2e-9b67-959b48bd7b23",
   "metadata": {},
   "outputs": [],
   "source": [
    "df = flow.calc_sectoral_use_water_discharge(data=data)\n",
    "for col in df.columns:\n",
    "    print(col)"
   ]
  },
  {
   "cell_type": "code",
   "execution_count": null,
   "id": "a8bc7f26-cf67-4f79-ae4c-3316246fab6a",
   "metadata": {},
   "outputs": [],
   "source": [
    "df2 = df[['residential_saline_groundwater_consumption_mgd',\n",
    "'residential_fresh_groundwater_consumption_mgd',\n",
    "'residential_saline_surfacewater_consumption_mgd',\n",
    "'residential_fresh_surfacewater_consumption_mgd',\n",
    "'residential_fresh_pws_consumption_mgd',]].sum()\n",
    "#df[['residential_fresh_pws_consumption_mgd']].sum()\n",
    "df2"
   ]
  },
  {
   "cell_type": "code",
   "execution_count": null,
   "id": "0dafd7d9-271f-476f-8537-121cff742b96",
   "metadata": {},
   "outputs": [],
   "source": [
    "x = 733+17+6309\n",
    "x"
   ]
  },
  {
   "cell_type": "code",
   "execution_count": null,
   "id": "d96276fa-a4ba-46bd-a4d4-b2a6850c947c",
   "metadata": {},
   "outputs": [],
   "source": [
    "df = flow.calc_sectoral_use_water_discharge(data=data, total=True)\n",
    "df.sum()"
   ]
  },
  {
   "cell_type": "code",
   "execution_count": null,
   "id": "8c54d191-2492-430d-9aba-c3dcd1ca212a",
   "metadata": {},
   "outputs": [],
   "source": [
    "df = flow.prep_consumption_fraction()\n",
    "df.sum()"
   ]
  },
  {
   "cell_type": "code",
   "execution_count": null,
   "id": "778b99b4-2048-4dfb-b52d-eb8d0f8d65b9",
   "metadata": {},
   "outputs": [],
   "source": [
    "df = flow.prep_water_use_2015(variables=['County','fresh_surfacewater_residential_mgd', \n",
    "                                         'fresh_groundwater_residential_mgd', 'fresh_pws_residential_mgd']).sum(axis=0)\n",
    "df"
   ]
  },
  {
   "cell_type": "code",
   "execution_count": null,
   "id": "a9b572b5-b02d-447d-8e0b-2a665017d402",
   "metadata": {},
   "outputs": [],
   "source": [
    "df = flow.calc_energy_wastewater(data=data, total=True)\n",
    "#df = df[df.State == \"TX\"]\n",
    "for col in df.columns:\n",
    "    print(col)"
   ]
  },
  {
   "cell_type": "code",
   "execution_count": null,
   "id": "4297512f-a7e6-4504-a7eb-11e353e785b8",
   "metadata": {},
   "outputs": [],
   "source": [
    "total_df"
   ]
  },
  {
   "cell_type": "code",
   "execution_count": null,
   "id": "50f66888-6e05-4a57-a0fd-1866836baa09",
   "metadata": {},
   "outputs": [],
   "source": [
    "#test_dict.update({'test_zero':x})\n",
    "test_dict\n",
    "rejected_energy_total = pd.DataFrame.from_dict(test_dict, orient='index').transpose().sum(axis=1)\n",
    "rejected_energy_total\n",
    "\n"
   ]
  },
  {
   "cell_type": "code",
   "execution_count": null,
   "id": "46e307f2-af9e-4b7f-920a-fbe45fddd9b2",
   "metadata": {},
   "outputs": [],
   "source": [
    "x = np.zeros((len(df), 1))\n",
    "test_dict.update({'test_zero': x})\n",
    "test_dict['test_zero']"
   ]
  },
  {
   "cell_type": "code",
   "execution_count": null,
   "id": "244c9f33-8a2e-46a6-a3bb-420c820ae54a",
   "metadata": {},
   "outputs": [],
   "source": [
    "# Move this to top\n",
    "\n",
    "    # calculate rejected energy and energy services for each fuel, agriculture, water, and pumping type\n",
    "    for water_type in water_types_list:\n",
    "        for pumping_type in pumping_type_dict:\n",
    "            for agriculture_type in agriculture_type_list:\n",
    "                for fuel_type in fuel_type_dict:\n",
    "                    fuel_type_efficiency = 'agriculture_' + fuel_type + \"_efficiency_pct\"\n",
    "                    if f'{fuel_type}_{agriculture_type}_{water_type}_{pumping_type}_bbtu' in energy_value_dict:\n",
    "                        rejected_energy_name = f'{agriculture_type}_{water_type}_{pumping_type}_{fuel_type}_rejected_energy_bbtu'\n",
    "                        energy_services_name = f'{agriculture_type}_{water_type}_{pumping_type}_{fuel_type}_energy_services_bbtu'\n",
    "                        if fuel_type_efficiency in df.columns:\n",
    "                            #df[f'{agriculture_type}_{water_type}_{pumping_type}_{fuel_type}_rejected_energy_bbtu'] = (1 - df[fuel_type_efficiency]) \\\n",
    "                            #                                                                                         * df[f'{fuel_type}_{agriculture_type}_{water_type}_{pumping_type}_bbtu']\n",
    "                            #df[f'{agriculture_type}_{water_type}_{pumping_type}_{fuel_type}_energy_services_bbtu'] = (df[fuel_type_efficiency]) \\\n",
    "                            #                                                                                         * df[f'{fuel_type}_{agriculture_type}_{water_type}_{pumping_type}_bbtu']\n",
    "\n",
    "                            rejected_energy_value = (1 - df[fuel_type_efficiency]) * df[f'{fuel_type}_{agriculture_type}_{water_type}_{pumping_type}_bbtu']\n",
    "                            energy_services_value = (df[fuel_type_efficiency]) * df[f'{fuel_type}_{agriculture_type}_{water_type}_{pumping_type}_bbtu']\n",
    "\n",
    "                            rejected_energy_dict.update({rejected_energy_name: rejected_energy_value})\n",
    "                            energy_services_dict.update({energy_services_name: energy_services_value})\n",
    "\n",
    "                        # if there's no fuel efficiency column, use defaults\n",
    "                        else:\n",
    "                            #df[f'{agriculture_type}_{water_type}_{pumping_type}_{fuel_type}_rejected_energy_bbtu'] = (1 -fuel_type_dict[fuel_type]) \\\n",
    "                            #                                                                             * df[f'{fuel_type}_{agriculture_type}_{water_type}_{pumping_type}_bbtu']\n",
    "                            #df[f'{agriculture_type}_{water_type}_{pumping_type}_{fuel_type}_energy_services_bbtu'] = (fuel_type_dict[fuel_type]) \\\n",
    "                            #                                                                             * df[f'{fuel_type}_{agriculture_type}_{water_type}_{pumping_type}_bbtu']\n",
    "\n",
    "                            rejected_energy_value = (1 -fuel_type_dict[fuel_type]) * df[f'{fuel_type}_{agriculture_type}_{water_type}_{pumping_type}_bbtu']\n",
    "                            energy_services_value = (fuel_type_dict[fuel_type]) * df[f'{fuel_type}_{agriculture_type}_{water_type}_{pumping_type}_bbtu']\n",
    "\n",
    "                            rejected_energy_dict.update({rejected_energy_name: rejected_energy_value})\n",
    "                            energy_services_dict.update({energy_services_name: energy_services_value})\n",
    "\n",
    "                        #df[f'{agriculture_type}_total_rejected_energy_bbtu'] = df[f'{agriculture_type}_total_rejected_energy_bbtu'] + df[f'{agriculture_type}_{water_type}_{pumping_type}_{fuel_type}_rejected_energy_bbtu']\n",
    "                        #df[f'{agriculture_type}_total_energy_services_bbtu'] = df[f'{agriculture_type}_total_energy_services_bbtu'] + df[ f'{agriculture_type}_{water_type}_{pumping_type}_{fuel_type}_energy_services_bbtu']\n",
    "                    else:\n",
    "                        pass"
   ]
  },
  {
   "cell_type": "code",
   "execution_count": null,
   "id": "8dfe4d01-d88e-46ab-8d14-445ea4ca2f74",
   "metadata": {},
   "outputs": [],
   "source": [
    "df= df[df.State == \"CA\"]\n",
    "df = df['electricity_irrigation_ibt_rejected_energy_bbtu']\n",
    "df.sum()"
   ]
  },
  {
   "cell_type": "code",
   "execution_count": null,
   "id": "6affa528-8fbc-4b4a-803a-d6645e391048",
   "metadata": {},
   "outputs": [],
   "source": [
    "df = flow.calc_energy_agriculture(data=data, total=True)\n",
    "df"
   ]
  },
  {
   "cell_type": "code",
   "execution_count": null,
   "id": "f961d7bf-ac09-47fe-a82a-963cfe754492",
   "metadata": {},
   "outputs": [],
   "source": [
    "test_dict = {\"Gfg\" : [4, 7, 5]}\n",
    "  \n",
    "# printing original dictionary\n",
    "print(\"The original dictionary is : \" + str(test_dict))\n",
    "  \n",
    "# initializing K \n",
    "K = 1\n",
    "  \n",
    "# one liner, values() getting all value according to keys\n",
    "res = [sub[K] for sub in test_dict.values()]\n",
    "res"
   ]
  },
  {
   "cell_type": "code",
   "execution_count": null,
   "id": "0357f1aa-b581-434a-ba7a-5dcf3bcbd191",
   "metadata": {},
   "outputs": [],
   "source": [
    "df = flow.calc_energy_agriculture(data=data, total=True)\n",
    "df\n",
    "#df.groupby(\"State\", as_index=False).sum()"
   ]
  },
  {
   "cell_type": "code",
   "execution_count": null,
   "id": "58aca853-7514-4dfe-ad8d-e2c85e4131ee",
   "metadata": {},
   "outputs": [],
   "source": [
    "df = flow.prep_pumping_intensity_data()\n",
    "df"
   ]
  },
  {
   "cell_type": "code",
   "execution_count": null,
   "id": "ba8d2645-282d-43ee-b96f-d84d92c03ae0",
   "metadata": {},
   "outputs": [],
   "source": [
    "df = flow.prep_irrigation_fuel_data()\n",
    "df"
   ]
  },
  {
   "cell_type": "code",
   "execution_count": null,
   "id": "d3c210f3-0063-471e-a5e5-33ae92838dfb",
   "metadata": {},
   "outputs": [],
   "source": [
    "df = flow.calc_electricity_wastewater(data=data)\n",
    "df"
   ]
  },
  {
   "cell_type": "code",
   "execution_count": null,
   "id": "6f08549b-390c-49a5-9a0e-978d27b77785",
   "metadata": {},
   "outputs": [],
   "source": [
    "df = flow.calc_sectoral_use_energy_discharge(data=data, total=True)\n",
    "df"
   ]
  },
  {
   "cell_type": "code",
   "execution_count": null,
   "id": "0359af20-ef86-40dd-abf4-ecbdbf3ff2de",
   "metadata": {},
   "outputs": [],
   "source": []
  },
  {
   "cell_type": "code",
   "execution_count": null,
   "id": "03bd84e9-8d1f-48bf-8095-5bd82ad4eb0e",
   "metadata": {},
   "outputs": [],
   "source": [
    "data.to_csv(r'C:\\Users\\mong275\\Local Files\\Sankey_Notebook_Development\\SankeyFiles\\run4.csv')"
   ]
  },
  {
   "cell_type": "markdown",
   "id": "d51a9843-c524-42d0-a340-a3c256375ef4",
   "metadata": {},
   "source": [
    "To override the data inputs, flow.configure_data() can be run.\n",
    "If run with no arguments provided, this function aggregates all baseline data to calculate flow values for the united states in 2015. Parameters are set, however, such that this function can be used to swap out datafiles. \n",
    "\n",
    "For example, if alternative US county level data was available for interbasin transfer electricity use, that could be used instead of the default data."
   ]
  },
  {
   "cell_type": "code",
   "execution_count": null,
   "id": "333c4d92-c8d9-466d-b63c-29707728b717",
   "metadata": {},
   "outputs": [],
   "source": [
    "df = flow.configure_data()\n",
    "df"
   ]
  },
  {
   "cell_type": "code",
   "execution_count": null,
   "id": "d64abba6-fac3-40c0-9fb7-c6fdcc63b0b8",
   "metadata": {},
   "outputs": [],
   "source": [
    "is_NaN = data.isnull()\n",
    "row_has_NaN = is_NaN.any(axis=1)\n",
    "rows_with_NaN = data[row_has_NaN]\n",
    "rows_with_NaN"
   ]
  },
  {
   "cell_type": "code",
   "execution_count": null,
   "id": "3a9b833c-825b-435f-b2a3-014188b70440",
   "metadata": {},
   "outputs": [],
   "source": []
  },
  {
   "cell_type": "code",
   "execution_count": null,
   "id": "7a7d66f3-42c7-48cc-9e15-c2465aaba0db",
   "metadata": {},
   "outputs": [],
   "source": []
  },
  {
   "cell_type": "code",
   "execution_count": null,
   "id": "aff4de41-5d2a-4690-887f-94b2f78a9734",
   "metadata": {},
   "outputs": [],
   "source": [
    "df2.to_csv(r'C:\\Users\\mong275\\Local Files\\Sankey_Notebook_Development\\SankeyFiles\\run2.csv')"
   ]
  },
  {
   "cell_type": "markdown",
   "id": "aec10fed-bb63-424d-ad3e-9c8b264730da",
   "metadata": {},
   "source": [
    "<h1> Public Water Supply </h1>"
   ]
  },
  {
   "cell_type": "markdown",
   "id": "172c6b7e-078b-464f-a5f1-036549096658",
   "metadata": {},
   "source": [
    "## Water in Public Water Supply"
   ]
  },
  {
   "cell_type": "markdown",
   "id": "6b445803-fdd9-47b1-b804-d4a2302c8bee",
   "metadata": {},
   "source": [
    "### Public Water Supply Withdrawals\n",
    "\n",
    "The USGS 2015 dataset provides public water supply withdrawals directly under data codes 'PS-WGWFr', 'PS-WSWFr','PS-WGWSa', 'PS-WSWSa' for each county."
   ]
  },
  {
   "cell_type": "code",
   "execution_count": null,
   "id": "cb2a4933-645a-4eee-9fed-1061fa1983b7",
   "metadata": {},
   "outputs": [],
   "source": [
    "df = flow.prep_water_use_2015(variables=['State','County','PS-WGWFr', 'PS-WSWFr','PS-WGWSa', 'PS-WSWSa'])\n",
    "df.head()               "
   ]
  },
  {
   "cell_type": "markdown",
   "id": "b0d4fe24-cd10-48f3-bcd9-e1bfbdc56d4b",
   "metadata": {},
   "source": [
    "### Public Water Supply Deliveries to Sectors, Exports, and Imports\n",
    "\n",
    "The USGS 2015 dataset provide public water supply data in three categories: (1) total public water supply withdrawals, (2) public water supply deliveries to domestic end users, and (3) public water supply deliveries to thermoelectric cooling.\n",
    "\n",
    "The 1995 USGS dataset provides public water supply deliveries to domestic, industrial, commercial, thermoelectric cooling, and losses/exports separately. To estimate the deliveries to commercial and industrial customers in 2015, the ratio of each to the sum of deliveries to residential and thermoelectric cooling is calculated from the 1995 data. These ratios are applied to the 2015 residential and thermoelectric cooling public water supply delivery values. \n",
    "\n",
    "Additionally, public water suppy exports and imports are calculated. When the sum of water deliveries is greater than the water withdrawn for public water supply, the difference is considered to be imported. When water withdrawn is greater, excess water after deliveries is considered to be exported.\n",
    "\n",
    "Caveats and assumptions:\n",
    "* This methodology assumes that if no public water supply was delivered to residential or thermoelectric cooling in 1995, then deliveries to industrial and commercial sectors would likewise be zero."
   ]
  },
  {
   "cell_type": "markdown",
   "id": "7114162c-ec51-4cdd-a1d8-edfefa993c57",
   "metadata": {},
   "source": [
    "Potential mods\n",
    " for import pws counties, take 15% of withdrawals and imports as losses and add it on to the top of imports\n",
    " for export pws counties, take 15% of withdrawals as losses, take it out of exports, any remaining put as imports"
   ]
  },
  {
   "cell_type": "code",
   "execution_count": null,
   "id": "9fddacb3-69a0-4baf-9bda-19e9c214e949",
   "metadata": {},
   "outputs": [],
   "source": [
    "df = flow.calc_pws_discharge()\n",
    "df.head()"
   ]
  },
  {
   "cell_type": "markdown",
   "id": "8bceb769-cd65-4b51-bbc9-cac988d2b99e",
   "metadata": {},
   "source": [
    "## Energy in Public Water Supply"
   ]
  },
  {
   "cell_type": "markdown",
   "id": "e72dcf73-1aee-4abf-bb58-f50261f80978",
   "metadata": {},
   "source": [
    "Energy in public water supply includes\n",
    "groundwater pumping, surface water pumping, desalination (when applicable), surface water treatment, groundwater treatment, distribution, and interbasin transfers (when appropriate).\n",
    "\n",
    "An assumption is made that water that goes through desalination additionally requires surface water or groundwater treatment\n",
    "\n",
    "The same groundwater and surface water pumping intensities are used from agriculture sector.\n",
    "\n",
    "Note that interbasin transfer data that is provided to this function is already in bbtu, not in water flows. \n",
    "For non-ibt data, the option is provided for the user to use region-level energy intensity values (as in groundwater and surface water pumping). When values are not available, assumptions for each in kWh/MG are set as default values that can be overriden.\n",
    "\n",
    "intensity values are used from tidwell and LLNL"
   ]
  },
  {
   "cell_type": "code",
   "execution_count": null,
   "id": "83af7fdf-bce2-47fd-ad0d-27c9dbc1095b",
   "metadata": {},
   "outputs": [],
   "source": [
    "df = flow.calc_electricity_public_water_supply(total=True)\n",
    "df.head()"
   ]
  },
  {
   "cell_type": "markdown",
   "id": "0c74b0e6-e705-4fc3-9fb5-bea65083abe7",
   "metadata": {
    "tags": []
   },
   "source": [
    "# Wastewater Treatment\n",
    "Wastewater treatment facility data is provided by EPA for the year 2012. These values are assumed for 2015. Values are provided on a treatment plant level with data on the following variables: \n",
    "Flow:\n",
    "    * Total water flows (MGD) treated by the facility\n",
    "    * Total infiltration flows treated by the facility (leaks into pipes and conduits)\n",
    "Treatment:\n",
    "    * Treatment type of each treatment plant (primary, secondary, advanced)\n",
    "Discharge:\n",
    "    * discharge location of each plant, broken down by percent of flow to each discharge location (e.g., ocean discharge, suface discharge, irrigation reuse)\n",
    "Location:\n",
    "    * county information is included for each power plant\n",
    "    \n",
    "This data allows us to determine total water flows processed and discharged by wastewater facilities at a county level by treatment type. The treatment type allows us to calculate the electricity use by county for wastewater treatment,"
   ]
  },
  {
   "cell_type": "markdown",
   "id": "8cba44f3-f3e3-494f-ae27-1d9054b7bbe0",
   "metadata": {},
   "source": [
    "## Water in Wastewater Treatment"
   ]
  },
  {
   "cell_type": "markdown",
   "id": "5926230b-d7ee-4afe-83fe-b8c6711fc07f",
   "metadata": {},
   "source": [
    "### Water Inflows to Wastewater Treatment Facilities\n",
    "Total flows processed by wastewater treatment facilities are provided in the EPA dataset directly. However, this data will have discrepencies from the water data delivered to various sectors. To estimate water flows from residential, commercial, and industrial sectors to wastewater treatment facilities, an assumption is made that all water delivered from public water supply to these sectors is sent to wastewater treatment facilities. This assumption is also used to fill wastewater treatment flow values for regions that are unavailable in the EPA dataset. For example, south carolina does not have wastewater treatment facility values in the EPA dataset. It is assumed, therefore, that total wastewater treatment flows in south carolina and equal to the total public water supply flows for each county and is attributed to municipal discharge rather than infiltration. It is assumed that 80% of treatment flows are advanced treatment and 20% are secondary treatment. It is also assumed that all discharge is sent to surface. This follows average values for the state of North Carolina which were used as a proxy in this instance."
   ]
  },
  {
   "cell_type": "markdown",
   "id": "7598d9da-f8fd-4b96-8d52-42a88bcb4480",
   "metadata": {},
   "source": [
    "### Quantity of Wastewater Processed by Treatment Type\n",
    "Wastewater treatment plant treatment type is provided in the EPA data directly. These values are binned for simplification into no treatment, primary, secondary, and advanced treatment. When no treatment type was provided for a facility, it was assumed that they were secondary treatment facilities.\n",
    "\n",
    "To see the amount of water (MGD) processed within each county by treatment type, run the cell below."
   ]
  },
  {
   "cell_type": "code",
   "execution_count": null,
   "id": "1216fa88-6561-42a7-a8ce-80034ba58003",
   "metadata": {},
   "outputs": [],
   "source": [
    "df = flow.prep_wastewater_data()\n",
    "df.head()"
   ]
  },
  {
   "cell_type": "markdown",
   "id": "fefe0edf-638f-413c-914a-c28f695a61b9",
   "metadata": {},
   "source": [
    "### Wastewater Treatment Facility Discharge\n",
    "\n",
    "Wastewater treatment plant discharge location is provided in the EPA data directly. These values are binned for simplification into the following categories:\n",
    "\n",
    "* 'outfall to surface waters': 'ww_sd',\n",
    "* 'ocean discharge': 'ww_od',\n",
    "* 'deep well': 'ww_gd',\n",
    "* \"reuse: industrial\": 'ww_in',\n",
    "* 'evaporation': 'ww_evap',\n",
    "* 'spray irrigation': 'ww_ir',\n",
    "* 'overland flow no discharge': 'ww_ww',\n",
    "* 'overland flow with discharge': 'ww_sd',\n",
    "* 'discharge to another facility': 'ww_ww',\n",
    "* 'combined sewer overflow (cso) discharge': 'ww_sd',\n",
    "* 'other': 'ww_sd',\n",
    "* 'discharge to groundwater': 'ww_gd',\n",
    "* 'no discharge, unknown': 'ww_ww',\n",
    "* 'reuse: irrigation': 'ww_ir',\n",
    "* 'reuse: other non-potable': 'ww_sd',\n",
    "* 'reuse: indirect potable': 'ww_sd',\n",
    "* 'reuse: potable': 'ww_ps',\n",
    "* 'reuse: groundwater recharge': 'ww_gd'"
   ]
  },
  {
   "cell_type": "code",
   "execution_count": null,
   "id": "ca28495d-ee3e-444d-87a8-822dd2b96b59",
   "metadata": {},
   "outputs": [],
   "source": [
    "df = flow.prep_wastewater_data()\n",
    "df = df[['FIPS','ww_evap','ww_gd','ww_in','ww_ir','ww_od','ww_ps','ww_sd','ww_ww']]\n",
    "df.head()"
   ]
  },
  {
   "cell_type": "markdown",
   "id": "83f8d020-82bc-413f-9809-6b99f7d03b6d",
   "metadata": {},
   "source": [
    "## Energy in Wastewater Treatment\n",
    "\n",
    "Wastewater treatment facilities have various levels of treatment from primary to advanced. Each treatment level has an increasing level of energy intensity to process the water. Intensity value estimates for wastwater treatment were used from Pabi et al. [17]."
   ]
  },
  {
   "cell_type": "markdown",
   "id": "3e3a89c7-b15a-4ee9-9dae-650f88f8edf9",
   "metadata": {},
   "source": [
    "# Agriculture"
   ]
  },
  {
   "cell_type": "markdown",
   "id": "525afe82-e4d0-4696-be09-341e39b7daf5",
   "metadata": {},
   "source": [
    "## Water in Agriculture"
   ]
  },
  {
   "cell_type": "code",
   "execution_count": null,
   "id": "460054af-419c-4a7f-bb08-987e96dc111a",
   "metadata": {},
   "outputs": [],
   "source": []
  },
  {
   "cell_type": "markdown",
   "id": "f0222bec-066e-47c8-a200-8b3344116ee6",
   "metadata": {},
   "source": [
    "## Energy in Agriculture"
   ]
  },
  {
   "cell_type": "markdown",
   "id": "812009ea-53fa-4ae2-ab09-a1a4311b9855",
   "metadata": {},
   "source": [
    "Energy use in agriculture consists of groundwater pumping, surface water pumping, and interbasin transers. USDA's Farm and Ranch Irrigation Survey (FRIS) provides state-by-state data on irrigation groundwater depth and average irrigation pressurization levels for irrigation within a state, enabling the calculation of pump electricity consumption for both groundwater and surface water pumping [13]. The 2013 survey is the closest year available to 2015 values. It is assumed that values do not vary significantly between the two years.\n",
    "\n",
    "The methodology for calculating groundwater and surface water pumping energy is described in Tidwell et al [14]. However, where that publication uses well depth to water to calculate total differential height, the total well depth is used here as a way to offset some of the losses due to friction that would occur in the piping, as described in Lawrence Berkeley National Laboratory (LBNL) Home Energy Saver & Score: Engineering Documentation [15].\n",
    "\n",
    "Pump efficiency is assumed to be the average (46.5%) of the range (34-59%) listed in [14]. State-level intensity rates are calculated here and applied to the county level water in agriculture values. The general methodology implemented here to determine total energy in agriculture is adapted from [5], not including the additions previously mentioned."
   ]
  },
  {
   "cell_type": "markdown",
   "id": "7a294da4-41ae-4c96-83e2-b15142c0150a",
   "metadata": {},
   "source": [
    "### Groundwater & Surface Water Pumping"
   ]
  },
  {
   "cell_type": "code",
   "execution_count": null,
   "id": "b512c890-a13c-45b8-a715-c80e1ccb470a",
   "metadata": {},
   "outputs": [],
   "source": []
  },
  {
   "cell_type": "markdown",
   "id": "11bc4701-2dee-45ae-aa05-d25917208ae3",
   "metadata": {},
   "source": [
    "### Interbasin Transfers"
   ]
  },
  {
   "cell_type": "code",
   "execution_count": null,
   "id": "0c920586-466a-4ce4-9ba3-b062088056ff",
   "metadata": {},
   "outputs": [],
   "source": []
  },
  {
   "cell_type": "markdown",
   "id": "5e45f8aa-c7ca-46df-9a08-bde1c5508b77",
   "metadata": {},
   "source": [
    "# Electricity Generation"
   ]
  },
  {
   "cell_type": "markdown",
   "id": "6d831d03-40f3-4ad7-ba6b-b0985dd7916d",
   "metadata": {},
   "source": [
    "## Energy in Electricity Generation"
   ]
  },
  {
   "cell_type": "markdown",
   "id": "77c3cb84-67d9-42de-a902-2e9511bad47b",
   "metadata": {},
   "source": [
    "US Energy Information Administration (EIA) 923 data for 2015 is used to determine electricity generation by generator type within each interconnect [12]. The datafile contains information on generation at the plant-level. EIA additionally provides data on which North American Electric Reliability Corporation (NERC) balancing region each plant belongs to. By mapping each NERC region to its associated interconnect, generation within each interconnect can be determined directly.\n",
    "\n",
    "From EIA, the AER Fuel Type Code is used to determine generator type. EIA provides generator type information at a high level of detail. For this reason different generator types are grouped for simplicity using a generator key (GenType923Key.xlsx). For example, different types of natural gas generators are all grouped into \"Natural Gas\" as a type.\n",
    "\n",
    "Energy production is provided as \"Net Generation (Megawatthours)\" in the EIA dataset, \"Total Fuel Consumption (MMBTU)\" is the MMBTU equivalent of fuel going to each plant for electricity generation. The difference between these two values indicates the amount of energy generation that does not go to energy losses."
   ]
  },
  {
   "cell_type": "markdown",
   "id": "fa27311d-24ea-409e-b9cd-0655674b07e9",
   "metadata": {},
   "source": [
    "## will be filled in with calculate function"
   ]
  },
  {
   "cell_type": "code",
   "execution_count": null,
   "id": "b8de3a2e-ae73-41ba-9d7f-4ae4724a17b8",
   "metadata": {},
   "outputs": [],
   "source": []
  },
  {
   "cell_type": "markdown",
   "id": "4443c5c2-b504-42c8-ac3f-0b1087b4be19",
   "metadata": {},
   "source": [
    "## Water in Electricity Generation"
   ]
  },
  {
   "cell_type": "code",
   "execution_count": null,
   "id": "1e028afe-61e5-48d1-8390-99cde95e0b7a",
   "metadata": {},
   "outputs": [],
   "source": []
  },
  {
   "cell_type": "markdown",
   "id": "a8a1580a-826d-4b9d-afcb-5cb956f7aa69",
   "metadata": {},
   "source": [
    "# End Use Sectors"
   ]
  },
  {
   "cell_type": "markdown",
   "id": "d48d9dcc-2879-429b-bdeb-42904f646bbb",
   "metadata": {},
   "source": [
    "## Residential Sector"
   ]
  },
  {
   "cell_type": "markdown",
   "id": "4f740672-5ffc-473c-868c-064701384e1b",
   "metadata": {},
   "source": [
    "### Water in Residential Sector"
   ]
  },
  {
   "cell_type": "code",
   "execution_count": null,
   "id": "325c0a80-139b-467a-9550-663555582a8d",
   "metadata": {},
   "outputs": [],
   "source": []
  },
  {
   "cell_type": "markdown",
   "id": "50a71b4a-c4f3-4a1d-b6c7-a3ae7780aabf",
   "metadata": {},
   "source": [
    "### Energy in Residential Sector"
   ]
  },
  {
   "cell_type": "markdown",
   "id": "e6adff18-e8eb-4339-98af-682aa9b240a9",
   "metadata": {},
   "source": [
    "#### Energy (electricity) Demand in Residential Sector"
   ]
  },
  {
   "cell_type": "markdown",
   "id": "d65dd52b-d06e-4b57-9b11-087f415d0e14",
   "metadata": {},
   "source": [
    "##### weighted by population. <b> consider splitting out by usage if data is available"
   ]
  },
  {
   "cell_type": "code",
   "execution_count": null,
   "id": "61212a75-f22a-4bf6-85bb-f072eb3fad30",
   "metadata": {},
   "outputs": [],
   "source": [
    "df = flow.prep_electricity_demand_data()\n",
    "df"
   ]
  },
  {
   "cell_type": "markdown",
   "id": "bd9e8d0c-0152-4e00-bd6a-a9a3c9bb6482",
   "metadata": {},
   "source": [
    "#### Energy (fuel) Demand in Residential Sector"
   ]
  },
  {
   "cell_type": "markdown",
   "id": "230fbd0f-240a-401c-9d6e-740470bb44b7",
   "metadata": {},
   "source": [
    "## Commercial Sector"
   ]
  },
  {
   "cell_type": "markdown",
   "id": "59f26e7a-dfba-40cd-a3be-c3c8120ccb20",
   "metadata": {},
   "source": [
    "### Water in Commercial Sector"
   ]
  },
  {
   "cell_type": "markdown",
   "id": "33ff8e98-0372-4ebb-87cf-cef498e959c8",
   "metadata": {},
   "source": [
    "### Energy in Commercial Sector"
   ]
  },
  {
   "cell_type": "markdown",
   "id": "a08bb590-6c51-443f-9977-5873de7d7bde",
   "metadata": {},
   "source": [
    "## Industrial Sector"
   ]
  },
  {
   "cell_type": "markdown",
   "id": "659e7492-18d9-4eaa-b276-6164c642cccc",
   "metadata": {},
   "source": [
    "### Water in Industrial Sector"
   ]
  },
  {
   "cell_type": "markdown",
   "id": "19adc037-9619-49d3-bc13-31eb153a03ad",
   "metadata": {},
   "source": [
    "### Energy in Industrial Sector"
   ]
  },
  {
   "cell_type": "markdown",
   "id": "ecc5ca9e-76c1-41c1-b877-647c8c68742f",
   "metadata": {},
   "source": [
    "## Transportation Sector"
   ]
  },
  {
   "cell_type": "markdown",
   "id": "3ab4b15a-4655-4613-83ab-737dc153f776",
   "metadata": {},
   "source": [
    "### Energy in Energy Sector"
   ]
  },
  {
   "cell_type": "code",
   "execution_count": null,
   "id": "079c97fa-27fa-498f-b6a8-fb7dcffd8964",
   "metadata": {},
   "outputs": [],
   "source": []
  },
  {
   "cell_type": "markdown",
   "id": "4b44cc0d-27e1-4167-8aac-90b8f215b378",
   "metadata": {},
   "source": [
    "# Energy Production"
   ]
  },
  {
   "cell_type": "markdown",
   "id": "58b16ff1-f15f-44b0-8adf-4f8012ac9f33",
   "metadata": {},
   "source": [
    "## Biomass"
   ]
  },
  {
   "cell_type": "markdown",
   "id": "6490d936-cb22-4933-b697-76899f4ba876",
   "metadata": {},
   "source": [
    "### Energy in Biomass Production (Ethanol)\n",
    "\n",
    "To find the ethanol production per county, this calculation takes 2015 eia data on ethanol plant capacity which has added locational data by each plant and combines with state level biomass (ethanol) production from prep_state_fuel_production_data() to split out state total by county. Returns a dataframe of ethanol production (bbtu) by county FIPS for each county in the US for 2015.\n",
    "\n",
    "ethanol plant production filler for wyoming (in state total but not location data) ,Torrington, WY100%, https://neo.ne.gov/programs/stats/122/2015/122_201512.htm"
   ]
  },
  {
   "cell_type": "markdown",
   "id": "9f98eecc-1f77-42f4-8fda-1bbf9d6bc1bf",
   "metadata": {},
   "source": [
    "#### <b> <ul> <font color='red'> Consider looking for estimates for electricity use in biomass production to split out from industrial"
   ]
  },
  {
   "cell_type": "markdown",
   "id": "ca9ac8cb-d671-49d2-bec7-605583ace9f4",
   "metadata": {},
   "source": [
    "### Water in Biomass Production (Ethanol)"
   ]
  },
  {
   "cell_type": "markdown",
   "id": "8b68f3d0-a1f6-4d2c-9120-e6fd3e186d7c",
   "metadata": {},
   "source": [
    "#### Water used in irrigation of corn used for ethanol"
   ]
  },
  {
   "cell_type": "markdown",
   "id": "5999934b-a191-478b-a073-955bee3d348b",
   "metadata": {},
   "source": [
    "Data on water used in the irrigation of corn ultimately used for ethanol production does not exist explicitly at any level of granularity and must be calculated out from larger state-level corn growth irrigation intensity estimates.\n",
    "\n",
    "The percent of corn grown for ethanol in the US was used from US DOE Alternative Fuels Data Center [21]. Total corn production for ethanol (5.22 billion bushels) was divided by total corn producton (13.6 billion bushels) for 2015 and calculated to be 38.406%. Data on a state or county-level does not exist, therefore, this percentage is applied to all states with corn production. A state-level fraction of corn used for ethanol production could be calculated from the amount of ethanol produced in a state and applying an assumption of corn required per unit of ethanol, however, not all corn used in ethanol is produced in the state that uses it which lead to states such as CA with an ethanol fraction of corn growth of nearly 900% of their total corn production. Given that we are unable to determine which states the imported corn for ethanol would be coming from, the decision was made to apply the US total fraction to all states.\n",
    "\n",
    "Total water used in the production of corn for ethanol is therefore the assumed 38.406% multiplied by the product of the total amount of irrigated acres of corn (AC_Irr_Corn) and the calculated irrigation intensity for that state (total acres applied to all crops / total acres irrigated, all crops) provided from USDA Census of Agriculture Irrigation and Water Management Survey [22], Table 35 and Table 4, respectively. The irrigation intensity for corn is calculated from the average irrigation intensity for the state.\n",
    "\n",
    "To split the total MGY applied between fresh surface and groundwater, USDA FRIS Census of Agriculture data on the fraction of surface water (surface water + off farm water) from total water supply (including groundwater) in corn production is used from Table 37 of [22]. Off-farm sources are assumed to be surface water.\n",
    "\n",
    "Some states that grow corn do not provide data on the water source breakdown (surface vs. ground) for their irrigation. The surface to groundwater ratio for all irrigation in a state is substituted for these states. These values are calculated from the USGS 2015 water dataset."
   ]
  },
  {
   "cell_type": "code",
   "execution_count": null,
   "id": "2a1407da-7213-4f97-8488-3be10a396513",
   "metadata": {},
   "outputs": [],
   "source": [
    "df = flow.prep_county_water_corn_biomass_data()"
   ]
  },
  {
   "cell_type": "markdown",
   "id": "588a4233-3774-4ade-b348-a4ff44416ac8",
   "metadata": {},
   "source": [
    "#### Water used in the production of ethanol (fermentation)"
   ]
  },
  {
   "cell_type": "markdown",
   "id": "a779da6b-abb6-4348-8287-528a54c22474",
   "metadata": {},
   "source": [
    "#### <b> <ul> <font color='red'> Consider looking for estimates for water used in the fermentation process of ethanol production, not just corn growth."
   ]
  },
  {
   "cell_type": "markdown",
   "id": "cf5d56f8-5bc4-471a-b203-36183f4a1b89",
   "metadata": {},
   "source": [
    "## Petroleum"
   ]
  },
  {
   "cell_type": "markdown",
   "id": "290231c8-e904-412c-83bd-4562d10d1212",
   "metadata": {},
   "source": [
    "### Energy in Petroleum Production (Conventional and Unconventional Oil Drilling)"
   ]
  },
  {
   "cell_type": "markdown",
   "id": "f1dcd09b-4751-4067-90c8-41a6796cec46",
   "metadata": {},
   "source": [
    " crude oil production by county fillers\n",
    "Idaho: https://ogcc.idaho.gov/wp-content/uploads/sites/3/2017/06/2016-10-6-state-of-idaho-releases-oil-gas-production-data.pdf\n",
    "100% of Idaho petroleum and natural gas is from Payette County\n",
    "\n",
    "Alaska,\n",
    "https://www.commerce.alaska.gov/web/aogcc/Data.aspx\n",
    "almost all oil is produced along the north slope. Calculated from oil production download. The rest is on the kenai peninsula (cook inlet basin)\n",
    "\n",
    "Maryland\n",
    "https://www.eia.gov/state/analysis.php?sid=MD#34\n",
    "assumed 50/50 split between Garret and Allegany Counties\n",
    "\n",
    "Nevada\n",
    "https://gisweb.unr.edu/OilGas/\n",
    "Assumed to be in nye county with producing oil wells (only 4 btu)\n",
    "\n",
    "Oregon\n",
    "https://www.oregongeology.org/mlrr/oilgas-report.htm\n",
    "Only one county (columbia county)"
   ]
  },
  {
   "cell_type": "markdown",
   "id": "61206ecf-cfac-465d-8396-64eb8c7cf4a5",
   "metadata": {},
   "source": [
    "### Water in Petroleum Production (Conventional and Unconventional Oil Drilling)"
   ]
  },
  {
   "cell_type": "markdown",
   "id": "aabccc27-383e-4532-ad3d-b0fdd6f34b45",
   "metadata": {},
   "source": [
    "## Natural Gas"
   ]
  },
  {
   "cell_type": "markdown",
   "id": "cc3d88a8-2668-401e-bbe9-4574273136d5",
   "metadata": {},
   "source": [
    "### Energy in Natural Gas Production (Unconventional Drilling)"
   ]
  },
  {
   "cell_type": "markdown",
   "id": "39d740be-7ce4-422e-8087-a410a20306ff",
   "metadata": {},
   "source": [
    "### Water in Natural Gas Production (Unconventional Drilling)"
   ]
  },
  {
   "cell_type": "markdown",
   "id": "547622b2-a8ea-4deb-8579-ff7202cfa921",
   "metadata": {},
   "source": [
    "## Coal"
   ]
  },
  {
   "cell_type": "markdown",
   "id": "98f14885-561d-4f48-a630-ac52b4f91023",
   "metadata": {},
   "source": [
    "### Energy in Coal Production (Coal Mining)"
   ]
  },
  {
   "cell_type": "markdown",
   "id": "82728a63-8d67-4d7a-b8be-da2566f118ee",
   "metadata": {},
   "source": [
    "### Water in Coal Production (Coal Mining)"
   ]
  },
  {
   "cell_type": "code",
   "execution_count": null,
   "id": "7cdf3331-e82e-485e-baab-ef696af225f3",
   "metadata": {},
   "outputs": [],
   "source": []
  },
  {
   "cell_type": "code",
   "execution_count": null,
   "id": "f3f634f1-67dd-4922-8625-ec8fcb184969",
   "metadata": {},
   "outputs": [],
   "source": []
  },
  {
   "cell_type": "code",
   "execution_count": null,
   "id": "cb2e49b0-5309-430c-a507-1fa835c6d505",
   "metadata": {},
   "outputs": [],
   "source": []
  },
  {
   "cell_type": "markdown",
   "id": "6083ab3c-2888-45ac-8584-0d44fb1a4878",
   "metadata": {
    "tags": []
   },
   "source": [
    "# Intensities & Percentages"
   ]
  },
  {
   "cell_type": "markdown",
   "id": "a0d12353-4606-4f7f-84f0-da10416dd08e",
   "metadata": {},
   "source": [
    "#### Conveyance Losses as a Percent of Water Withdrawn for Irrigation\n",
    "Conveyance loss fraction for irrigation is calculated from the USGS 1995 water use dataset. It is calculated as the total conveyance losses (MGD) divided by the total water withdrawn (MGD) for irrigation. Looking at the fractions at the county level shows that a small subset of counties have unreliable values where conveyance losses are far greater than the amount withdrawn for irrigation. As a result, the ability to cap the loss fraction at a specified amount it provided and replace it with the average of the specified region. The default loss cap fraction is .90."
   ]
  },
  {
   "cell_type": "code",
   "execution_count": null,
   "id": "e1e70eb3-2586-4c96-9542-dc397efede04",
   "metadata": {},
   "outputs": [],
   "source": [
    "df = flow.prep_water_use_1995()\n",
    "df = flow.calc_conveyance_loss_frac(df)\n",
    "df.head()"
   ]
  },
  {
   "cell_type": "markdown",
   "id": "e6bad304-bbd2-4c42-b1ab-c2e8228469c9",
   "metadata": {},
   "source": [
    "##### Change in loss cap"
   ]
  },
  {
   "cell_type": "code",
   "execution_count": null,
   "id": "321b6479-d093-4059-80e6-629a34605b80",
   "metadata": {},
   "outputs": [],
   "source": [
    "df = flow.prep_water_use_1995()\n",
    "df = flow.calc_conveyance_loss_frac(df, loss_cap_amt=.20)\n",
    "df.head()"
   ]
  },
  {
   "cell_type": "code",
   "execution_count": null,
   "id": "26a3da74-77fe-4db6-a3df-897dcaa39d38",
   "metadata": {},
   "outputs": [],
   "source": [
    "help(flow.plot_bar)"
   ]
  },
  {
   "cell_type": "code",
   "execution_count": null,
   "id": "c771f8ba-02d8-4daf-9390-9fcac3e826d3",
   "metadata": {},
   "outputs": [],
   "source": [
    "flow.plot_bar(df, \"State\",\"IR_CLoss_Frac\", \"State\", y_axis_title = \"Irrigation Conveyance Loss Fraction\", x_axis_title=\"State\")"
   ]
  },
  {
   "cell_type": "markdown",
   "id": "18ddc662-ba7b-4e29-8e6c-dc423a529fcd",
   "metadata": {},
   "source": [
    "#### Water Use Intensity for Hydroelectric Generation"
   ]
  },
  {
   "cell_type": "code",
   "execution_count": null,
   "id": "9551b6a2-0897-47c3-90d3-51adce0ef8ea",
   "metadata": {},
   "outputs": [],
   "source": [
    "df = flow.calc_hydroelectric_water_intensity(intensity_cap=True, intensity_cap_amt=165, region_avg=False)\n",
    "\n",
    "df.head()"
   ]
  },
  {
   "cell_type": "code",
   "execution_count": null,
   "id": "f18b2c41-1e1b-4182-b6ec-0af07fca062e",
   "metadata": {},
   "outputs": [],
   "source": [
    "flow.plot_bar(df, \"State\",\"HY_IF\", \"State\")"
   ]
  },
  {
   "cell_type": "code",
   "execution_count": null,
   "id": "2567ceec-abeb-43a7-a36a-c3b28379bbc6",
   "metadata": {},
   "outputs": [],
   "source": []
  }
 ],
 "metadata": {
  "kernelspec": {
   "display_name": "flow",
   "language": "python",
   "name": "flow"
  },
  "language_info": {
   "codemirror_mode": {
    "name": "ipython",
    "version": 3
   },
   "file_extension": ".py",
   "mimetype": "text/x-python",
   "name": "python",
   "nbconvert_exporter": "python",
   "pygments_lexer": "ipython3",
   "version": "3.9.4"
  }
 },
 "nbformat": 4,
 "nbformat_minor": 5
}

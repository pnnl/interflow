{
 "cells": [
  {
   "cell_type": "code",
   "execution_count": 1,
   "id": "69cc54be-6a46-4bd2-8e67-65573815a90f",
   "metadata": {
    "tags": []
   },
   "outputs": [
    {
     "data": {
      "text/html": [
       "<div>\n",
       "<style scoped>\n",
       "    .dataframe tbody tr th:only-of-type {\n",
       "        vertical-align: middle;\n",
       "    }\n",
       "\n",
       "    .dataframe tbody tr th {\n",
       "        vertical-align: top;\n",
       "    }\n",
       "\n",
       "    .dataframe thead th {\n",
       "        text-align: right;\n",
       "    }\n",
       "</style>\n",
       "<table border=\"1\" class=\"dataframe\">\n",
       "  <thead>\n",
       "    <tr style=\"text-align: right;\">\n",
       "      <th></th>\n",
       "      <th>FIPS</th>\n",
       "      <th>State</th>\n",
       "      <th>County</th>\n",
       "      <th>coal_commercial_bbtu</th>\n",
       "      <th>coal_industrial_bbtu</th>\n",
       "      <th>biomass_transportation_bbtu</th>\n",
       "      <th>geothermal_commercial_bbtu</th>\n",
       "      <th>geothermal_residential_bbtu</th>\n",
       "      <th>natgas_transportation_bbtu</th>\n",
       "      <th>natgas_commercial_bbtu</th>\n",
       "      <th>...</th>\n",
       "      <th>petroleum_transportation_bbtu</th>\n",
       "      <th>petroleum_commercial_bbtu</th>\n",
       "      <th>petroleum_industrial_bbtu</th>\n",
       "      <th>petroleum_residential_bbtu</th>\n",
       "      <th>solar_commercial_solar_bbtu</th>\n",
       "      <th>solar_residential_solar_bbtu</th>\n",
       "      <th>biomass_residential_bbtu</th>\n",
       "      <th>biomass_commercial_bbtu</th>\n",
       "      <th>biomass_industrial_bbtu</th>\n",
       "      <th>wind_commercial_bbtu</th>\n",
       "    </tr>\n",
       "  </thead>\n",
       "  <tbody>\n",
       "    <tr>\n",
       "      <th>0</th>\n",
       "      <td>01001</td>\n",
       "      <td>AL</td>\n",
       "      <td>Autauga County</td>\n",
       "      <td>0.0</td>\n",
       "      <td>0.0</td>\n",
       "      <td>0.0</td>\n",
       "      <td>0.0</td>\n",
       "      <td>0.0</td>\n",
       "      <td>0.0</td>\n",
       "      <td>0.0</td>\n",
       "      <td>...</td>\n",
       "      <td>0.0</td>\n",
       "      <td>0.0</td>\n",
       "      <td>0.0</td>\n",
       "      <td>0.0</td>\n",
       "      <td>0.0</td>\n",
       "      <td>0.0</td>\n",
       "      <td>0.0</td>\n",
       "      <td>0.0</td>\n",
       "      <td>0.0</td>\n",
       "      <td>0.0</td>\n",
       "    </tr>\n",
       "    <tr>\n",
       "      <th>1</th>\n",
       "      <td>01003</td>\n",
       "      <td>AL</td>\n",
       "      <td>Baldwin County</td>\n",
       "      <td>0.0</td>\n",
       "      <td>0.0</td>\n",
       "      <td>0.0</td>\n",
       "      <td>0.0</td>\n",
       "      <td>0.0</td>\n",
       "      <td>0.0</td>\n",
       "      <td>0.0</td>\n",
       "      <td>...</td>\n",
       "      <td>0.0</td>\n",
       "      <td>0.0</td>\n",
       "      <td>0.0</td>\n",
       "      <td>0.0</td>\n",
       "      <td>0.0</td>\n",
       "      <td>0.0</td>\n",
       "      <td>0.0</td>\n",
       "      <td>0.0</td>\n",
       "      <td>0.0</td>\n",
       "      <td>0.0</td>\n",
       "    </tr>\n",
       "    <tr>\n",
       "      <th>2</th>\n",
       "      <td>01005</td>\n",
       "      <td>AL</td>\n",
       "      <td>Barbour County</td>\n",
       "      <td>0.0</td>\n",
       "      <td>0.0</td>\n",
       "      <td>0.0</td>\n",
       "      <td>0.0</td>\n",
       "      <td>0.0</td>\n",
       "      <td>0.0</td>\n",
       "      <td>0.0</td>\n",
       "      <td>...</td>\n",
       "      <td>0.0</td>\n",
       "      <td>0.0</td>\n",
       "      <td>0.0</td>\n",
       "      <td>0.0</td>\n",
       "      <td>0.0</td>\n",
       "      <td>0.0</td>\n",
       "      <td>0.0</td>\n",
       "      <td>0.0</td>\n",
       "      <td>0.0</td>\n",
       "      <td>0.0</td>\n",
       "    </tr>\n",
       "    <tr>\n",
       "      <th>3</th>\n",
       "      <td>01007</td>\n",
       "      <td>AL</td>\n",
       "      <td>Bibb County</td>\n",
       "      <td>0.0</td>\n",
       "      <td>0.0</td>\n",
       "      <td>0.0</td>\n",
       "      <td>0.0</td>\n",
       "      <td>0.0</td>\n",
       "      <td>0.0</td>\n",
       "      <td>0.0</td>\n",
       "      <td>...</td>\n",
       "      <td>0.0</td>\n",
       "      <td>0.0</td>\n",
       "      <td>0.0</td>\n",
       "      <td>0.0</td>\n",
       "      <td>0.0</td>\n",
       "      <td>0.0</td>\n",
       "      <td>0.0</td>\n",
       "      <td>0.0</td>\n",
       "      <td>0.0</td>\n",
       "      <td>0.0</td>\n",
       "    </tr>\n",
       "    <tr>\n",
       "      <th>4</th>\n",
       "      <td>01009</td>\n",
       "      <td>AL</td>\n",
       "      <td>Blount County</td>\n",
       "      <td>0.0</td>\n",
       "      <td>0.0</td>\n",
       "      <td>0.0</td>\n",
       "      <td>0.0</td>\n",
       "      <td>0.0</td>\n",
       "      <td>0.0</td>\n",
       "      <td>0.0</td>\n",
       "      <td>...</td>\n",
       "      <td>0.0</td>\n",
       "      <td>0.0</td>\n",
       "      <td>0.0</td>\n",
       "      <td>0.0</td>\n",
       "      <td>0.0</td>\n",
       "      <td>0.0</td>\n",
       "      <td>0.0</td>\n",
       "      <td>0.0</td>\n",
       "      <td>0.0</td>\n",
       "      <td>0.0</td>\n",
       "    </tr>\n",
       "    <tr>\n",
       "      <th>...</th>\n",
       "      <td>...</td>\n",
       "      <td>...</td>\n",
       "      <td>...</td>\n",
       "      <td>...</td>\n",
       "      <td>...</td>\n",
       "      <td>...</td>\n",
       "      <td>...</td>\n",
       "      <td>...</td>\n",
       "      <td>...</td>\n",
       "      <td>...</td>\n",
       "      <td>...</td>\n",
       "      <td>...</td>\n",
       "      <td>...</td>\n",
       "      <td>...</td>\n",
       "      <td>...</td>\n",
       "      <td>...</td>\n",
       "      <td>...</td>\n",
       "      <td>...</td>\n",
       "      <td>...</td>\n",
       "      <td>...</td>\n",
       "      <td>...</td>\n",
       "    </tr>\n",
       "    <tr>\n",
       "      <th>3218</th>\n",
       "      <td>72151</td>\n",
       "      <td>PR</td>\n",
       "      <td>Yabucoa Municipio</td>\n",
       "      <td>NaN</td>\n",
       "      <td>NaN</td>\n",
       "      <td>NaN</td>\n",
       "      <td>NaN</td>\n",
       "      <td>NaN</td>\n",
       "      <td>NaN</td>\n",
       "      <td>NaN</td>\n",
       "      <td>...</td>\n",
       "      <td>NaN</td>\n",
       "      <td>NaN</td>\n",
       "      <td>NaN</td>\n",
       "      <td>NaN</td>\n",
       "      <td>NaN</td>\n",
       "      <td>NaN</td>\n",
       "      <td>NaN</td>\n",
       "      <td>NaN</td>\n",
       "      <td>NaN</td>\n",
       "      <td>NaN</td>\n",
       "    </tr>\n",
       "    <tr>\n",
       "      <th>3219</th>\n",
       "      <td>72153</td>\n",
       "      <td>PR</td>\n",
       "      <td>Yauco Municipio</td>\n",
       "      <td>NaN</td>\n",
       "      <td>NaN</td>\n",
       "      <td>NaN</td>\n",
       "      <td>NaN</td>\n",
       "      <td>NaN</td>\n",
       "      <td>NaN</td>\n",
       "      <td>NaN</td>\n",
       "      <td>...</td>\n",
       "      <td>NaN</td>\n",
       "      <td>NaN</td>\n",
       "      <td>NaN</td>\n",
       "      <td>NaN</td>\n",
       "      <td>NaN</td>\n",
       "      <td>NaN</td>\n",
       "      <td>NaN</td>\n",
       "      <td>NaN</td>\n",
       "      <td>NaN</td>\n",
       "      <td>NaN</td>\n",
       "    </tr>\n",
       "    <tr>\n",
       "      <th>3220</th>\n",
       "      <td>78010</td>\n",
       "      <td>VI</td>\n",
       "      <td>St. Croix County</td>\n",
       "      <td>NaN</td>\n",
       "      <td>NaN</td>\n",
       "      <td>NaN</td>\n",
       "      <td>NaN</td>\n",
       "      <td>NaN</td>\n",
       "      <td>NaN</td>\n",
       "      <td>NaN</td>\n",
       "      <td>...</td>\n",
       "      <td>NaN</td>\n",
       "      <td>NaN</td>\n",
       "      <td>NaN</td>\n",
       "      <td>NaN</td>\n",
       "      <td>NaN</td>\n",
       "      <td>NaN</td>\n",
       "      <td>NaN</td>\n",
       "      <td>NaN</td>\n",
       "      <td>NaN</td>\n",
       "      <td>NaN</td>\n",
       "    </tr>\n",
       "    <tr>\n",
       "      <th>3221</th>\n",
       "      <td>78020</td>\n",
       "      <td>VI</td>\n",
       "      <td>St. John County</td>\n",
       "      <td>NaN</td>\n",
       "      <td>NaN</td>\n",
       "      <td>NaN</td>\n",
       "      <td>NaN</td>\n",
       "      <td>NaN</td>\n",
       "      <td>NaN</td>\n",
       "      <td>NaN</td>\n",
       "      <td>...</td>\n",
       "      <td>NaN</td>\n",
       "      <td>NaN</td>\n",
       "      <td>NaN</td>\n",
       "      <td>NaN</td>\n",
       "      <td>NaN</td>\n",
       "      <td>NaN</td>\n",
       "      <td>NaN</td>\n",
       "      <td>NaN</td>\n",
       "      <td>NaN</td>\n",
       "      <td>NaN</td>\n",
       "    </tr>\n",
       "    <tr>\n",
       "      <th>3222</th>\n",
       "      <td>78030</td>\n",
       "      <td>VI</td>\n",
       "      <td>St. Thomas County</td>\n",
       "      <td>NaN</td>\n",
       "      <td>NaN</td>\n",
       "      <td>NaN</td>\n",
       "      <td>NaN</td>\n",
       "      <td>NaN</td>\n",
       "      <td>NaN</td>\n",
       "      <td>NaN</td>\n",
       "      <td>...</td>\n",
       "      <td>NaN</td>\n",
       "      <td>NaN</td>\n",
       "      <td>NaN</td>\n",
       "      <td>NaN</td>\n",
       "      <td>NaN</td>\n",
       "      <td>NaN</td>\n",
       "      <td>NaN</td>\n",
       "      <td>NaN</td>\n",
       "      <td>NaN</td>\n",
       "      <td>NaN</td>\n",
       "    </tr>\n",
       "  </tbody>\n",
       "</table>\n",
       "<p>3223 rows × 22 columns</p>\n",
       "</div>"
      ],
      "text/plain": [
       "       FIPS State             County  coal_commercial_bbtu  \\\n",
       "0     01001    AL     Autauga County                   0.0   \n",
       "1     01003    AL     Baldwin County                   0.0   \n",
       "2     01005    AL     Barbour County                   0.0   \n",
       "3     01007    AL        Bibb County                   0.0   \n",
       "4     01009    AL      Blount County                   0.0   \n",
       "...     ...   ...                ...                   ...   \n",
       "3218  72151    PR  Yabucoa Municipio                   NaN   \n",
       "3219  72153    PR    Yauco Municipio                   NaN   \n",
       "3220  78010    VI   St. Croix County                   NaN   \n",
       "3221  78020    VI    St. John County                   NaN   \n",
       "3222  78030    VI  St. Thomas County                   NaN   \n",
       "\n",
       "      coal_industrial_bbtu  biomass_transportation_bbtu  \\\n",
       "0                      0.0                          0.0   \n",
       "1                      0.0                          0.0   \n",
       "2                      0.0                          0.0   \n",
       "3                      0.0                          0.0   \n",
       "4                      0.0                          0.0   \n",
       "...                    ...                          ...   \n",
       "3218                   NaN                          NaN   \n",
       "3219                   NaN                          NaN   \n",
       "3220                   NaN                          NaN   \n",
       "3221                   NaN                          NaN   \n",
       "3222                   NaN                          NaN   \n",
       "\n",
       "      geothermal_commercial_bbtu  geothermal_residential_bbtu  \\\n",
       "0                            0.0                          0.0   \n",
       "1                            0.0                          0.0   \n",
       "2                            0.0                          0.0   \n",
       "3                            0.0                          0.0   \n",
       "4                            0.0                          0.0   \n",
       "...                          ...                          ...   \n",
       "3218                         NaN                          NaN   \n",
       "3219                         NaN                          NaN   \n",
       "3220                         NaN                          NaN   \n",
       "3221                         NaN                          NaN   \n",
       "3222                         NaN                          NaN   \n",
       "\n",
       "      natgas_transportation_bbtu  natgas_commercial_bbtu  ...  \\\n",
       "0                            0.0                     0.0  ...   \n",
       "1                            0.0                     0.0  ...   \n",
       "2                            0.0                     0.0  ...   \n",
       "3                            0.0                     0.0  ...   \n",
       "4                            0.0                     0.0  ...   \n",
       "...                          ...                     ...  ...   \n",
       "3218                         NaN                     NaN  ...   \n",
       "3219                         NaN                     NaN  ...   \n",
       "3220                         NaN                     NaN  ...   \n",
       "3221                         NaN                     NaN  ...   \n",
       "3222                         NaN                     NaN  ...   \n",
       "\n",
       "      petroleum_transportation_bbtu  petroleum_commercial_bbtu  \\\n",
       "0                               0.0                        0.0   \n",
       "1                               0.0                        0.0   \n",
       "2                               0.0                        0.0   \n",
       "3                               0.0                        0.0   \n",
       "4                               0.0                        0.0   \n",
       "...                             ...                        ...   \n",
       "3218                            NaN                        NaN   \n",
       "3219                            NaN                        NaN   \n",
       "3220                            NaN                        NaN   \n",
       "3221                            NaN                        NaN   \n",
       "3222                            NaN                        NaN   \n",
       "\n",
       "      petroleum_industrial_bbtu  petroleum_residential_bbtu  \\\n",
       "0                           0.0                         0.0   \n",
       "1                           0.0                         0.0   \n",
       "2                           0.0                         0.0   \n",
       "3                           0.0                         0.0   \n",
       "4                           0.0                         0.0   \n",
       "...                         ...                         ...   \n",
       "3218                        NaN                         NaN   \n",
       "3219                        NaN                         NaN   \n",
       "3220                        NaN                         NaN   \n",
       "3221                        NaN                         NaN   \n",
       "3222                        NaN                         NaN   \n",
       "\n",
       "      solar_commercial_solar_bbtu  solar_residential_solar_bbtu  \\\n",
       "0                             0.0                           0.0   \n",
       "1                             0.0                           0.0   \n",
       "2                             0.0                           0.0   \n",
       "3                             0.0                           0.0   \n",
       "4                             0.0                           0.0   \n",
       "...                           ...                           ...   \n",
       "3218                          NaN                           NaN   \n",
       "3219                          NaN                           NaN   \n",
       "3220                          NaN                           NaN   \n",
       "3221                          NaN                           NaN   \n",
       "3222                          NaN                           NaN   \n",
       "\n",
       "      biomass_residential_bbtu  biomass_commercial_bbtu  \\\n",
       "0                          0.0                      0.0   \n",
       "1                          0.0                      0.0   \n",
       "2                          0.0                      0.0   \n",
       "3                          0.0                      0.0   \n",
       "4                          0.0                      0.0   \n",
       "...                        ...                      ...   \n",
       "3218                       NaN                      NaN   \n",
       "3219                       NaN                      NaN   \n",
       "3220                       NaN                      NaN   \n",
       "3221                       NaN                      NaN   \n",
       "3222                       NaN                      NaN   \n",
       "\n",
       "      biomass_industrial_bbtu  wind_commercial_bbtu  \n",
       "0                         0.0                   0.0  \n",
       "1                         0.0                   0.0  \n",
       "2                         0.0                   0.0  \n",
       "3                         0.0                   0.0  \n",
       "4                         0.0                   0.0  \n",
       "...                       ...                   ...  \n",
       "3218                      NaN                   NaN  \n",
       "3219                      NaN                   NaN  \n",
       "3220                      NaN                   NaN  \n",
       "3221                      NaN                   NaN  \n",
       "3222                      NaN                   NaN  \n",
       "\n",
       "[3223 rows x 22 columns]"
      ]
     },
     "execution_count": 1,
     "metadata": {},
     "output_type": "execute_result"
    }
   ],
   "source": [
    "import pandas as pd\n",
    "import numpy as np\n",
    "import matplotlib as plt\n",
    "\n",
    "import flow\n",
    "\n",
    "df = flow.prep_fuel_demand_data()\n",
    "df"
   ]
  },
  {
   "cell_type": "code",
   "execution_count": 2,
   "id": "dd81b693-2e22-4168-885b-07ade2c62a88",
   "metadata": {},
   "outputs": [
    {
     "name": "stdout",
     "output_type": "stream",
     "text": [
      "FIPS\n",
      "State\n",
      "County\n",
      "coal_commercial_bbtu\n",
      "coal_industrial_bbtu\n",
      "biomass_transportation_bbtu\n",
      "geothermal_commercial_bbtu\n",
      "geothermal_residential_bbtu\n",
      "natgas_transportation_bbtu\n",
      "natgas_commercial_bbtu\n",
      "natgas_industrial_bbtu\n",
      "natgas_residential_bbtu\n",
      "petroleum_transportation_bbtu\n",
      "petroleum_commercial_bbtu\n",
      "petroleum_industrial_bbtu\n",
      "petroleum_residential_bbtu\n",
      "solar_commercial_solar_bbtu\n",
      "solar_residential_solar_bbtu\n",
      "biomass_residential_bbtu\n",
      "biomass_commercial_bbtu\n",
      "biomass_industrial_bbtu\n",
      "wind_commercial_bbtu\n"
     ]
    }
   ],
   "source": [
    "for col in df.columns:\n",
    "    print(col)\n"
   ]
  },
  {
   "cell_type": "code",
   "execution_count": null,
   "id": "0359af20-ef86-40dd-abf4-ecbdbf3ff2de",
   "metadata": {},
   "outputs": [],
   "source": []
  },
  {
   "cell_type": "code",
   "execution_count": null,
   "id": "e3481bca-cb13-4f73-a0f2-167e461c215b",
   "metadata": {},
   "outputs": [],
   "source": [
    "df = flow.prep_fuel_demand_data()\n",
    "\n",
    "for col in df.columns:\n",
    "    print(col)"
   ]
  },
  {
   "cell_type": "code",
   "execution_count": null,
   "id": "71902310-1b16-4edd-a9b2-6fb15014c839",
   "metadata": {},
   "outputs": [],
   "source": []
  },
  {
   "cell_type": "code",
   "execution_count": 3,
   "id": "03bd84e9-8d1f-48bf-8095-5bd82ad4eb0e",
   "metadata": {},
   "outputs": [],
   "source": [
    "df.to_csv(r'C:\\Users\\mong275\\Local Files\\Sankey_Notebook_Development\\SankeyFiles\\run.csv')"
   ]
  },
  {
   "cell_type": "code",
   "execution_count": null,
   "id": "7ac11101-fce0-4168-a776-ca2bcb2f2409",
   "metadata": {},
   "outputs": [],
   "source": [
    "                    \"NUETB\": \"nuclear_production\",  #Nuclear energy consumed for electricity generation, total (BBTU)\n",
    "                    \"GETCB\": \"geothermal_production\",  #Geothermal energy total consumption (BBTU)\n",
    "                    \"HYTCB\": \"hydropower_production\",  #Hydropower total consumption (BBTU)\n",
    "                    \"WYTCB\": \"wind_production\",  #Wind energy total consumption (BBTU)\n",
    "                    \"SOTCB\": \"solar_production\"  #Solar energy total consumption (BBTU)"
   ]
  },
  {
   "cell_type": "code",
   "execution_count": null,
   "id": "333c4d92-c8d9-466d-b63c-29707728b717",
   "metadata": {},
   "outputs": [],
   "source": []
  },
  {
   "cell_type": "code",
   "execution_count": null,
   "id": "6fa87582-2778-4f73-b76f-6c834d6271eb",
   "metadata": {},
   "outputs": [],
   "source": []
  },
  {
   "cell_type": "code",
   "execution_count": 5,
   "id": "d64abba6-fac3-40c0-9fb7-c6fdcc63b0b8",
   "metadata": {},
   "outputs": [
    {
     "data": {
      "text/html": [
       "<div>\n",
       "<style scoped>\n",
       "    .dataframe tbody tr th:only-of-type {\n",
       "        vertical-align: middle;\n",
       "    }\n",
       "\n",
       "    .dataframe tbody tr th {\n",
       "        vertical-align: top;\n",
       "    }\n",
       "\n",
       "    .dataframe thead th {\n",
       "        text-align: right;\n",
       "    }\n",
       "</style>\n",
       "<table border=\"1\" class=\"dataframe\">\n",
       "  <thead>\n",
       "    <tr style=\"text-align: right;\">\n",
       "      <th></th>\n",
       "      <th>FIPS</th>\n",
       "      <th>State</th>\n",
       "      <th>County</th>\n",
       "      <th>interbasin_bbtu</th>\n",
       "    </tr>\n",
       "  </thead>\n",
       "  <tbody>\n",
       "  </tbody>\n",
       "</table>\n",
       "</div>"
      ],
      "text/plain": [
       "Empty DataFrame\n",
       "Columns: [FIPS, State, County, interbasin_bbtu]\n",
       "Index: []"
      ]
     },
     "execution_count": 5,
     "metadata": {},
     "output_type": "execute_result"
    }
   ],
   "source": [
    "is_NaN = df.isnull()\n",
    "row_has_NaN = is_NaN.any(axis=1)\n",
    "rows_with_NaN = df[row_has_NaN]\n",
    "rows_with_NaN"
   ]
  },
  {
   "cell_type": "code",
   "execution_count": null,
   "id": "3a9b833c-825b-435f-b2a3-014188b70440",
   "metadata": {},
   "outputs": [],
   "source": []
  },
  {
   "cell_type": "code",
   "execution_count": null,
   "id": "7a7d66f3-42c7-48cc-9e15-c2465aaba0db",
   "metadata": {},
   "outputs": [],
   "source": []
  },
  {
   "cell_type": "code",
   "execution_count": null,
   "id": "7570c60a-310c-41d4-af37-1e5366195c67",
   "metadata": {},
   "outputs": [],
   "source": [
    "df = flow.prep_electricity_generation()\n",
    "df.isnull().values.sum()\n",
    "df2 = flow.prep_county_identifier()\n"
   ]
  },
  {
   "cell_type": "code",
   "execution_count": null,
   "id": "aff4de41-5d2a-4690-887f-94b2f78a9734",
   "metadata": {},
   "outputs": [],
   "source": [
    "df2.to_csv(r'C:\\Users\\mong275\\Local Files\\Sankey_Notebook_Development\\SankeyFiles\\run2.csv')"
   ]
  },
  {
   "cell_type": "code",
   "execution_count": 3,
   "id": "41a0e312-a31b-4f2f-8590-e111459ec4f9",
   "metadata": {},
   "outputs": [
    {
     "data": {
      "text/html": [
       "<div>\n",
       "<style scoped>\n",
       "    .dataframe tbody tr th:only-of-type {\n",
       "        vertical-align: middle;\n",
       "    }\n",
       "\n",
       "    .dataframe tbody tr th {\n",
       "        vertical-align: top;\n",
       "    }\n",
       "\n",
       "    .dataframe thead th {\n",
       "        text-align: right;\n",
       "    }\n",
       "</style>\n",
       "<table border=\"1\" class=\"dataframe\">\n",
       "  <thead>\n",
       "    <tr style=\"text-align: right;\">\n",
       "      <th></th>\n",
       "      <th>FIPS</th>\n",
       "      <th>biomass_fuel_bbtu</th>\n",
       "      <th>coal_fuel_bbtu</th>\n",
       "      <th>geothermal_fuel_bbtu</th>\n",
       "      <th>hydro_fuel_bbtu</th>\n",
       "      <th>natgas_fuel_bbtu</th>\n",
       "      <th>nuclear_fuel_bbtu</th>\n",
       "      <th>oil_fuel_bbtu</th>\n",
       "      <th>other_fuel_bbtu</th>\n",
       "      <th>solar_fuel_bbtu</th>\n",
       "      <th>...</th>\n",
       "      <th>biomass_gen_mwh</th>\n",
       "      <th>coal_gen_mwh</th>\n",
       "      <th>geothermal_gen_mwh</th>\n",
       "      <th>hydro_gen_mwh</th>\n",
       "      <th>natgas_gen_mwh</th>\n",
       "      <th>nuclear_gen_mwh</th>\n",
       "      <th>oil_gen_mwh</th>\n",
       "      <th>other_gen_mwh</th>\n",
       "      <th>solar_gen_mwh</th>\n",
       "      <th>wind_gen_mwh</th>\n",
       "    </tr>\n",
       "  </thead>\n",
       "  <tbody>\n",
       "  </tbody>\n",
       "</table>\n",
       "<p>0 rows × 21 columns</p>\n",
       "</div>"
      ],
      "text/plain": [
       "Empty DataFrame\n",
       "Columns: [FIPS, biomass_fuel_bbtu, coal_fuel_bbtu, geothermal_fuel_bbtu, hydro_fuel_bbtu, natgas_fuel_bbtu, nuclear_fuel_bbtu, oil_fuel_bbtu, other_fuel_bbtu, solar_fuel_bbtu, wind_fuel_bbtu, biomass_gen_mwh, coal_gen_mwh, geothermal_gen_mwh, hydro_gen_mwh, natgas_gen_mwh, nuclear_gen_mwh, oil_gen_mwh, other_gen_mwh, solar_gen_mwh, wind_gen_mwh]\n",
       "Index: []\n",
       "\n",
       "[0 rows x 21 columns]"
      ]
     },
     "execution_count": 3,
     "metadata": {},
     "output_type": "execute_result"
    }
   ],
   "source": [
    "is_NaN = df.isnull()\n",
    "row_has_NaN = is_NaN.any(axis=1)\n",
    "rows_with_NaN = df[row_has_NaN]\n",
    "rows_with_NaN"
   ]
  },
  {
   "cell_type": "code",
   "execution_count": null,
   "id": "d256b12f-6d66-45e5-b650-cbefb1d63963",
   "metadata": {},
   "outputs": [],
   "source": [
    "city_list = ['VAchesapeakecity','VAportsmouthcity','VAhopewellcity','VAalexandriacity',\n",
    "           'VAcovingtoncity','VAsuffolkcity','VAharrisonburgcity','VAsalemcity',\n",
    "           'VAlynchburgcity','VAdanvillecity','VAmanassascity','VAhamptoncity',\n",
    "           'VAvirginiabeachcity','VAbristolcity', 'MOstlouiscity']\n",
    "\n",
    "for i in city_list:\n",
    "    df_plant[\"identifier\"] = np.where(df_plant[\"identifier\"] == i, df_plant[\"identifier\"].str.replace('city', '', regex=True), df_plant[\"identifier\"])\n",
    "\n"
   ]
  },
  {
   "cell_type": "markdown",
   "id": "aec10fed-bb63-424d-ad3e-9c8b264730da",
   "metadata": {},
   "source": [
    "<h1> Public Water Supply </h1>"
   ]
  },
  {
   "cell_type": "markdown",
   "id": "172c6b7e-078b-464f-a5f1-036549096658",
   "metadata": {},
   "source": [
    "## Water in Public Water Supply"
   ]
  },
  {
   "cell_type": "markdown",
   "id": "6b445803-fdd9-47b1-b804-d4a2302c8bee",
   "metadata": {},
   "source": [
    "### Public Water Supply Withdrawals\n",
    "\n",
    "The USGS 2015 dataset provides public water supply withdrawals directly under data codes 'PS-WGWFr', 'PS-WSWFr','PS-WGWSa', 'PS-WSWSa' for each county."
   ]
  },
  {
   "cell_type": "code",
   "execution_count": null,
   "id": "cb2a4933-645a-4eee-9fed-1061fa1983b7",
   "metadata": {},
   "outputs": [],
   "source": [
    "df = flow.prep_water_use_2015(variables=['State','County','PS-WGWFr', 'PS-WSWFr','PS-WGWSa', 'PS-WSWSa'])\n",
    "df.head()               "
   ]
  },
  {
   "cell_type": "markdown",
   "id": "b0d4fe24-cd10-48f3-bcd9-e1bfbdc56d4b",
   "metadata": {},
   "source": [
    "### Public Water Supply Deliveries, Exports, and Imports\n",
    "\n",
    "The USGS 2015 dataset provide public water supply data in three categories: (1) total public water supply withdrawals, (2) public water supply deliveries to domestic end users, and (3) public water supply deliveries to thermoelectric cooling.\n",
    "\n",
    "The 1995 USGS dataset provides public water supply deliveries to domestic, industrial, commercial, thermoelectric cooling, and losses/exports separately. To estimate the deliveries to commercial and industrial customers in 2015, the ratio of each to the sum of deliveries to residential and thermoelectric cooling is calculated from the 1995 data. These ratios are applied to the 2015 residential and thermoelectric cooling public water supply delivery values. \n",
    "\n",
    "Additionally, public water suppy exports and imports are calculated. When the sum of water deliveries is greater than the water withdrawn for public water supply, the difference is considered to be imported. When water withdrawn is greater, excess water after deliveries is considered to be exported.\n",
    "\n",
    "Caveats and assumptions:\n",
    "* This methodology assumes that if no public water supply was delivered to residential or thermoelectric cooling in 1995, then deliveries to industrial and commercial sectors would likewise be zero."
   ]
  },
  {
   "cell_type": "markdown",
   "id": "7114162c-ec51-4cdd-a1d8-edfefa993c57",
   "metadata": {},
   "source": [
    "Potential mods\n",
    " for import pws counties, take 15% of withdrawals and imports as losses and add it on to the top of imports\n",
    " for export pws counties, take 15% of withdrawals as losses, take it out of exports, any remaining put as imports"
   ]
  },
  {
   "cell_type": "code",
   "execution_count": null,
   "id": "9fddacb3-69a0-4baf-9bda-19e9c214e949",
   "metadata": {},
   "outputs": [],
   "source": [
    "df = flow.calc_pws_discharge()\n",
    "df.head()"
   ]
  },
  {
   "cell_type": "markdown",
   "id": "8bceb769-cd65-4b51-bbc9-cac988d2b99e",
   "metadata": {},
   "source": [
    "## Energy in Public Water Supply"
   ]
  },
  {
   "cell_type": "markdown",
   "id": "0c74b0e6-e705-4fc3-9fb5-bea65083abe7",
   "metadata": {
    "tags": []
   },
   "source": [
    "# Wastewater Treatment\n",
    "Wastewater treatment facility data is provided by EPA for the year 2012. These values are assumed for 2015. Values are provided on a treatment plant level with data on the following variables: \n",
    "Flow:\n",
    "    * Total water flows (MGD) treated by the facility\n",
    "    * Total infiltration flows treated by the facility (leaks into pipes and conduits)\n",
    "Treatment:\n",
    "    * Treatment type of each treatment plant (primary, secondary, advanced)\n",
    "Discharge:\n",
    "    * discharge location of each plant, broken down by percent of flow to each discharge location (e.g., ocean discharge, suface discharge, irrigation reuse)\n",
    "Location:\n",
    "    * county information is included for each power plant\n",
    "    \n",
    "This data allows us to determine total water flows processed and discharged by wastewater facilities at a county level by treatment type. The treatment type allows us to calculate the electricity use by county for wastewater treatment,"
   ]
  },
  {
   "cell_type": "markdown",
   "id": "8cba44f3-f3e3-494f-ae27-1d9054b7bbe0",
   "metadata": {},
   "source": [
    "## Water in Wastewater Treatment"
   ]
  },
  {
   "cell_type": "markdown",
   "id": "5926230b-d7ee-4afe-83fe-b8c6711fc07f",
   "metadata": {},
   "source": [
    "### Water Inflows to Wastewater Treatment Facilities\n",
    "Total flows processed by wastewater treatment facilities are provided in the EPA dataset directly. However, this data will have discrepencies from the water data delivered to various sectors. To estimate water flows from residential, commercial, and industrial sectors to wastewater treatment facilities, an assumption is made that all water delivered from public water supply to these sectors is sent to wastewater treatment facilities. This assumption is also used to fill wastewater treatment flow values for regions that are unavailable in the EPA dataset. For example, south carolina does not have wastewater treatment facility values in the EPA dataset. It is assumed, therefore, that total wastewater treatment flows in south carolina and equal to the total public water supply flows for each county and is attributed to municipal discharge rather than infiltration. It is assumed that 80% of treatment flows are advanced treatment and 20% are secondary treatment. It is also assumed that all discharge is sent to surface. This follows average values for the state of North Carolina which were used as a proxy in this instance."
   ]
  },
  {
   "cell_type": "markdown",
   "id": "7598d9da-f8fd-4b96-8d52-42a88bcb4480",
   "metadata": {},
   "source": [
    "### Quantity of Wastewater Processed by Treatment Type\n",
    "Wastewater treatment plant treatment type is provided in the EPA data directly. These values are binned for simplification into no treatment, primary, secondary, and advanced treatment. When no treatment type was provided for a facility, it was assumed that they were secondary treatment facilities.\n",
    "\n",
    "To see the amount of water (MGD) processed within each county by treatment type, run the cell below."
   ]
  },
  {
   "cell_type": "code",
   "execution_count": 8,
   "id": "1216fa88-6561-42a7-a8ce-80034ba58003",
   "metadata": {},
   "outputs": [
    {
     "data": {
      "text/html": [
       "<div>\n",
       "<style scoped>\n",
       "    .dataframe tbody tr th:only-of-type {\n",
       "        vertical-align: middle;\n",
       "    }\n",
       "\n",
       "    .dataframe tbody tr th {\n",
       "        vertical-align: top;\n",
       "    }\n",
       "\n",
       "    .dataframe thead th {\n",
       "        text-align: right;\n",
       "    }\n",
       "</style>\n",
       "<table border=\"1\" class=\"dataframe\">\n",
       "  <thead>\n",
       "    <tr style=\"text-align: right;\">\n",
       "      <th></th>\n",
       "      <th>FIPS</th>\n",
       "      <th>State</th>\n",
       "      <th>County</th>\n",
       "      <th>infiltration_wastewater_mgd</th>\n",
       "      <th>total_wastewater_mgd</th>\n",
       "      <th>municipal_wastewater_mgd</th>\n",
       "      <th>wastewater_consumption_mgd</th>\n",
       "      <th>wastewater_groundwater_discharge_mgd</th>\n",
       "      <th>wastewater_industrial_discharge_mgd</th>\n",
       "      <th>wastewater_irrigation_discharge_mgd</th>\n",
       "      <th>wastewater_ocean_discharge_mgd</th>\n",
       "      <th>wastewater_pws_discharge_mgd</th>\n",
       "      <th>wastewater_surface_discharge_mgd</th>\n",
       "      <th>wastewater_wastewater_discharge_mgd</th>\n",
       "      <th>wastewater_advanced_treatment_mgd</th>\n",
       "      <th>wastewater_no_treatment_mgd</th>\n",
       "      <th>wastewater_primary_treatment_mgd</th>\n",
       "      <th>wastewater_secondary_treatment_mgd</th>\n",
       "      <th>total_pws_mgd</th>\n",
       "    </tr>\n",
       "  </thead>\n",
       "  <tbody>\n",
       "    <tr>\n",
       "      <th>0</th>\n",
       "      <td>01001</td>\n",
       "      <td>AL</td>\n",
       "      <td>Autauga County</td>\n",
       "      <td>0.003</td>\n",
       "      <td>2.866</td>\n",
       "      <td>2.863</td>\n",
       "      <td>0.0</td>\n",
       "      <td>0.0</td>\n",
       "      <td>0.0</td>\n",
       "      <td>0.0</td>\n",
       "      <td>0.0</td>\n",
       "      <td>0.0</td>\n",
       "      <td>2.866</td>\n",
       "      <td>0.00</td>\n",
       "      <td>2.800</td>\n",
       "      <td>0.0</td>\n",
       "      <td>0.0</td>\n",
       "      <td>0.066</td>\n",
       "      <td>NaN</td>\n",
       "    </tr>\n",
       "    <tr>\n",
       "      <th>1</th>\n",
       "      <td>01003</td>\n",
       "      <td>AL</td>\n",
       "      <td>Baldwin County</td>\n",
       "      <td>0.600</td>\n",
       "      <td>14.206</td>\n",
       "      <td>13.606</td>\n",
       "      <td>0.0</td>\n",
       "      <td>0.0</td>\n",
       "      <td>0.0</td>\n",
       "      <td>0.0</td>\n",
       "      <td>0.0</td>\n",
       "      <td>0.0</td>\n",
       "      <td>13.956</td>\n",
       "      <td>0.25</td>\n",
       "      <td>7.000</td>\n",
       "      <td>0.0</td>\n",
       "      <td>0.0</td>\n",
       "      <td>7.206</td>\n",
       "      <td>NaN</td>\n",
       "    </tr>\n",
       "    <tr>\n",
       "      <th>2</th>\n",
       "      <td>01005</td>\n",
       "      <td>AL</td>\n",
       "      <td>Barbour County</td>\n",
       "      <td>0.330</td>\n",
       "      <td>2.138</td>\n",
       "      <td>1.808</td>\n",
       "      <td>0.0</td>\n",
       "      <td>0.0</td>\n",
       "      <td>0.0</td>\n",
       "      <td>0.0</td>\n",
       "      <td>0.0</td>\n",
       "      <td>0.0</td>\n",
       "      <td>2.138</td>\n",
       "      <td>0.00</td>\n",
       "      <td>0.000</td>\n",
       "      <td>0.0</td>\n",
       "      <td>0.0</td>\n",
       "      <td>2.138</td>\n",
       "      <td>NaN</td>\n",
       "    </tr>\n",
       "    <tr>\n",
       "      <th>3</th>\n",
       "      <td>01007</td>\n",
       "      <td>AL</td>\n",
       "      <td>Bibb County</td>\n",
       "      <td>0.000</td>\n",
       "      <td>0.734</td>\n",
       "      <td>0.734</td>\n",
       "      <td>0.0</td>\n",
       "      <td>0.0</td>\n",
       "      <td>0.0</td>\n",
       "      <td>0.0</td>\n",
       "      <td>0.0</td>\n",
       "      <td>0.0</td>\n",
       "      <td>0.734</td>\n",
       "      <td>0.00</td>\n",
       "      <td>0.000</td>\n",
       "      <td>0.0</td>\n",
       "      <td>0.0</td>\n",
       "      <td>0.734</td>\n",
       "      <td>NaN</td>\n",
       "    </tr>\n",
       "    <tr>\n",
       "      <th>4</th>\n",
       "      <td>01009</td>\n",
       "      <td>AL</td>\n",
       "      <td>Blount County</td>\n",
       "      <td>0.125</td>\n",
       "      <td>1.133</td>\n",
       "      <td>1.008</td>\n",
       "      <td>0.0</td>\n",
       "      <td>0.0</td>\n",
       "      <td>0.0</td>\n",
       "      <td>0.0</td>\n",
       "      <td>0.0</td>\n",
       "      <td>0.0</td>\n",
       "      <td>1.133</td>\n",
       "      <td>0.00</td>\n",
       "      <td>0.892</td>\n",
       "      <td>0.0</td>\n",
       "      <td>0.0</td>\n",
       "      <td>0.241</td>\n",
       "      <td>NaN</td>\n",
       "    </tr>\n",
       "  </tbody>\n",
       "</table>\n",
       "</div>"
      ],
      "text/plain": [
       "    FIPS State          County  infiltration_wastewater_mgd  \\\n",
       "0  01001    AL  Autauga County                        0.003   \n",
       "1  01003    AL  Baldwin County                        0.600   \n",
       "2  01005    AL  Barbour County                        0.330   \n",
       "3  01007    AL     Bibb County                        0.000   \n",
       "4  01009    AL   Blount County                        0.125   \n",
       "\n",
       "   total_wastewater_mgd  municipal_wastewater_mgd  wastewater_consumption_mgd  \\\n",
       "0                 2.866                     2.863                         0.0   \n",
       "1                14.206                    13.606                         0.0   \n",
       "2                 2.138                     1.808                         0.0   \n",
       "3                 0.734                     0.734                         0.0   \n",
       "4                 1.133                     1.008                         0.0   \n",
       "\n",
       "   wastewater_groundwater_discharge_mgd  wastewater_industrial_discharge_mgd  \\\n",
       "0                                   0.0                                  0.0   \n",
       "1                                   0.0                                  0.0   \n",
       "2                                   0.0                                  0.0   \n",
       "3                                   0.0                                  0.0   \n",
       "4                                   0.0                                  0.0   \n",
       "\n",
       "   wastewater_irrigation_discharge_mgd  wastewater_ocean_discharge_mgd  \\\n",
       "0                                  0.0                             0.0   \n",
       "1                                  0.0                             0.0   \n",
       "2                                  0.0                             0.0   \n",
       "3                                  0.0                             0.0   \n",
       "4                                  0.0                             0.0   \n",
       "\n",
       "   wastewater_pws_discharge_mgd  wastewater_surface_discharge_mgd  \\\n",
       "0                           0.0                             2.866   \n",
       "1                           0.0                            13.956   \n",
       "2                           0.0                             2.138   \n",
       "3                           0.0                             0.734   \n",
       "4                           0.0                             1.133   \n",
       "\n",
       "   wastewater_wastewater_discharge_mgd  wastewater_advanced_treatment_mgd  \\\n",
       "0                                 0.00                              2.800   \n",
       "1                                 0.25                              7.000   \n",
       "2                                 0.00                              0.000   \n",
       "3                                 0.00                              0.000   \n",
       "4                                 0.00                              0.892   \n",
       "\n",
       "   wastewater_no_treatment_mgd  wastewater_primary_treatment_mgd  \\\n",
       "0                          0.0                               0.0   \n",
       "1                          0.0                               0.0   \n",
       "2                          0.0                               0.0   \n",
       "3                          0.0                               0.0   \n",
       "4                          0.0                               0.0   \n",
       "\n",
       "   wastewater_secondary_treatment_mgd  total_pws_mgd  \n",
       "0                               0.066            NaN  \n",
       "1                               7.206            NaN  \n",
       "2                               2.138            NaN  \n",
       "3                               0.734            NaN  \n",
       "4                               0.241            NaN  "
      ]
     },
     "execution_count": 8,
     "metadata": {},
     "output_type": "execute_result"
    }
   ],
   "source": [
    "df = flow.prep_wastewater_data()\n",
    "df.head()"
   ]
  },
  {
   "cell_type": "markdown",
   "id": "fefe0edf-638f-413c-914a-c28f695a61b9",
   "metadata": {},
   "source": [
    "### Wastewater Treatment Facility Discharge\n",
    "\n",
    "Wastewater treatment plant discharge location is provided in the EPA data directly. These values are binned for simplification into the following categories:\n",
    "\n",
    "* 'outfall to surface waters': 'ww_sd',\n",
    "* 'ocean discharge': 'ww_od',\n",
    "* 'deep well': 'ww_gd',\n",
    "* \"reuse: industrial\": 'ww_in',\n",
    "* 'evaporation': 'ww_evap',\n",
    "* 'spray irrigation': 'ww_ir',\n",
    "* 'overland flow no discharge': 'ww_ww',\n",
    "* 'overland flow with discharge': 'ww_sd',\n",
    "* 'discharge to another facility': 'ww_ww',\n",
    "* 'combined sewer overflow (cso) discharge': 'ww_sd',\n",
    "* 'other': 'ww_sd',\n",
    "* 'discharge to groundwater': 'ww_gd',\n",
    "* 'no discharge, unknown': 'ww_ww',\n",
    "* 'reuse: irrigation': 'ww_ir',\n",
    "* 'reuse: other non-potable': 'ww_sd',\n",
    "* 'reuse: indirect potable': 'ww_sd',\n",
    "* 'reuse: potable': 'ww_ps',\n",
    "* 'reuse: groundwater recharge': 'ww_gd'"
   ]
  },
  {
   "cell_type": "code",
   "execution_count": null,
   "id": "ca28495d-ee3e-444d-87a8-822dd2b96b59",
   "metadata": {},
   "outputs": [],
   "source": [
    "df = flow.prep_wastewater_data()\n",
    "df = df[['FIPS','ww_evap','ww_gd','ww_in','ww_ir','ww_od','ww_ps','ww_sd','ww_ww']]\n",
    "df.head()"
   ]
  },
  {
   "cell_type": "markdown",
   "id": "83f8d020-82bc-413f-9809-6b99f7d03b6d",
   "metadata": {},
   "source": [
    "## Energy in Wastewater Treatment\n",
    "\n",
    "Wastewater treatment facilities have various levels of treatment from primary to advanced. Each treatment level has an increasing level of energy intensity to process the water. Intensity value estimates for wastwater treatment were used from Pabi et al. [17]."
   ]
  },
  {
   "cell_type": "markdown",
   "id": "3e3a89c7-b15a-4ee9-9dae-650f88f8edf9",
   "metadata": {},
   "source": [
    "# Agriculture"
   ]
  },
  {
   "cell_type": "markdown",
   "id": "525afe82-e4d0-4696-be09-341e39b7daf5",
   "metadata": {},
   "source": [
    "## Water in Agriculture"
   ]
  },
  {
   "cell_type": "code",
   "execution_count": null,
   "id": "460054af-419c-4a7f-bb08-987e96dc111a",
   "metadata": {},
   "outputs": [],
   "source": []
  },
  {
   "cell_type": "markdown",
   "id": "f0222bec-066e-47c8-a200-8b3344116ee6",
   "metadata": {},
   "source": [
    "## Energy in Agriculture"
   ]
  },
  {
   "cell_type": "markdown",
   "id": "812009ea-53fa-4ae2-ab09-a1a4311b9855",
   "metadata": {},
   "source": [
    "Energy use in agriculture consists of groundwater pumping, surface water pumping, and interbasin transers. USDA's Farm and Ranch Irrigation Survey (FRIS) provides state-by-state data on irrigation groundwater depth and average irrigation pressurization levels for irrigation within a state, enabling the calculation of pump electricity consumption for both groundwater and surface water pumping [13]. The 2013 survey is the closest year available to 2015 values. It is assumed that values do not vary significantly between the two years.\n",
    "\n",
    "The methodology for calculating groundwater and surface water pumping energy is described in Tidwell et al [14]. However, where that publication uses well depth to water to calculate total differential height, the total well depth is used here as a way to offset some of the losses due to friction that would occur in the piping, as described in Lawrence Berkeley National Laboratory (LBNL) Home Energy Saver & Score: Engineering Documentation [15].\n",
    "\n",
    "Pump efficiency is assumed to be the average (46.5%) of the range (34-59%) listed in [14]. State-level intensity rates are calculated here and applied to the county level water in agriculture values. The general methodology implemented here to determine total energy in agriculture is adapted from [5], not including the additions previously mentioned."
   ]
  },
  {
   "cell_type": "markdown",
   "id": "7a294da4-41ae-4c96-83e2-b15142c0150a",
   "metadata": {},
   "source": [
    "### Groundwater & Surface Water Pumping"
   ]
  },
  {
   "cell_type": "code",
   "execution_count": null,
   "id": "b512c890-a13c-45b8-a715-c80e1ccb470a",
   "metadata": {},
   "outputs": [],
   "source": []
  },
  {
   "cell_type": "markdown",
   "id": "11bc4701-2dee-45ae-aa05-d25917208ae3",
   "metadata": {},
   "source": [
    "### Interbasin Transfers"
   ]
  },
  {
   "cell_type": "code",
   "execution_count": null,
   "id": "0c920586-466a-4ce4-9ba3-b062088056ff",
   "metadata": {},
   "outputs": [],
   "source": []
  },
  {
   "cell_type": "markdown",
   "id": "5e45f8aa-c7ca-46df-9a08-bde1c5508b77",
   "metadata": {},
   "source": [
    "# Electricity Generation"
   ]
  },
  {
   "cell_type": "markdown",
   "id": "6d831d03-40f3-4ad7-ba6b-b0985dd7916d",
   "metadata": {},
   "source": [
    "## Energy in Electricity Generation"
   ]
  },
  {
   "cell_type": "markdown",
   "id": "77c3cb84-67d9-42de-a902-2e9511bad47b",
   "metadata": {},
   "source": [
    "US Energy Information Administration (EIA) 923 data for 2015 is used to determine electricity generation by generator type within each interconnect [12]. The datafile contains information on generation at the plant-level. EIA additionally provides data on which North American Electric Reliability Corporation (NERC) balancing region each plant belongs to. By mapping each NERC region to its associated interconnect, generation within each interconnect can be determined directly.\n",
    "\n",
    "From EIA, the AER Fuel Type Code is used to determine generator type. EIA provides generator type information at a high level of detail. For this reason different generator types are grouped for simplicity using a generator key (GenType923Key.xlsx). For example, different types of natural gas generators are all grouped into \"Natural Gas\" as a type.\n",
    "\n",
    "Energy production is provided as \"Net Generation (Megawatthours)\" in the EIA dataset, \"Total Fuel Consumption (MMBTU)\" is the MMBTU equivalent of fuel going to each plant for electricity generation. The difference between these two values indicates the amount of energy generation that does not go to energy losses."
   ]
  },
  {
   "cell_type": "markdown",
   "id": "fa27311d-24ea-409e-b9cd-0655674b07e9",
   "metadata": {},
   "source": [
    "## will be filled in with calculate function"
   ]
  },
  {
   "cell_type": "code",
   "execution_count": null,
   "id": "b8de3a2e-ae73-41ba-9d7f-4ae4724a17b8",
   "metadata": {},
   "outputs": [],
   "source": []
  },
  {
   "cell_type": "markdown",
   "id": "4443c5c2-b504-42c8-ac3f-0b1087b4be19",
   "metadata": {},
   "source": [
    "## Water in Electricity Generation"
   ]
  },
  {
   "cell_type": "code",
   "execution_count": null,
   "id": "1e028afe-61e5-48d1-8390-99cde95e0b7a",
   "metadata": {},
   "outputs": [],
   "source": []
  },
  {
   "cell_type": "markdown",
   "id": "a8a1580a-826d-4b9d-afcb-5cb956f7aa69",
   "metadata": {},
   "source": [
    "# End Use Sectors"
   ]
  },
  {
   "cell_type": "markdown",
   "id": "d48d9dcc-2879-429b-bdeb-42904f646bbb",
   "metadata": {},
   "source": [
    "## Residential Sector"
   ]
  },
  {
   "cell_type": "markdown",
   "id": "4f740672-5ffc-473c-868c-064701384e1b",
   "metadata": {},
   "source": [
    "### Water in Residential Sector"
   ]
  },
  {
   "cell_type": "code",
   "execution_count": null,
   "id": "325c0a80-139b-467a-9550-663555582a8d",
   "metadata": {},
   "outputs": [],
   "source": []
  },
  {
   "cell_type": "markdown",
   "id": "50a71b4a-c4f3-4a1d-b6c7-a3ae7780aabf",
   "metadata": {},
   "source": [
    "### Energy in Residential Sector"
   ]
  },
  {
   "cell_type": "markdown",
   "id": "e6adff18-e8eb-4339-98af-682aa9b240a9",
   "metadata": {},
   "source": [
    "#### Energy (electricity) Demand in Residential Sector"
   ]
  },
  {
   "cell_type": "markdown",
   "id": "d65dd52b-d06e-4b57-9b11-087f415d0e14",
   "metadata": {},
   "source": [
    "##### weighted by population. <b> consider splitting out by usage if data is available"
   ]
  },
  {
   "cell_type": "code",
   "execution_count": null,
   "id": "61212a75-f22a-4bf6-85bb-f072eb3fad30",
   "metadata": {},
   "outputs": [],
   "source": [
    "df = flow.prep_electricity_demand_data()\n",
    "df"
   ]
  },
  {
   "cell_type": "markdown",
   "id": "bd9e8d0c-0152-4e00-bd6a-a9a3c9bb6482",
   "metadata": {},
   "source": [
    "#### Energy (fuel) Demand in Residential Sector"
   ]
  },
  {
   "cell_type": "markdown",
   "id": "230fbd0f-240a-401c-9d6e-740470bb44b7",
   "metadata": {},
   "source": [
    "## Commercial Sector"
   ]
  },
  {
   "cell_type": "markdown",
   "id": "59f26e7a-dfba-40cd-a3be-c3c8120ccb20",
   "metadata": {},
   "source": [
    "### Water in Commercial Sector"
   ]
  },
  {
   "cell_type": "markdown",
   "id": "33ff8e98-0372-4ebb-87cf-cef498e959c8",
   "metadata": {},
   "source": [
    "### Energy in Commercial Sector"
   ]
  },
  {
   "cell_type": "markdown",
   "id": "a08bb590-6c51-443f-9977-5873de7d7bde",
   "metadata": {},
   "source": [
    "## Industrial Sector"
   ]
  },
  {
   "cell_type": "markdown",
   "id": "659e7492-18d9-4eaa-b276-6164c642cccc",
   "metadata": {},
   "source": [
    "### Water in Industrial Sector"
   ]
  },
  {
   "cell_type": "markdown",
   "id": "19adc037-9619-49d3-bc13-31eb153a03ad",
   "metadata": {},
   "source": [
    "### Energy in Industrial Sector"
   ]
  },
  {
   "cell_type": "markdown",
   "id": "ecc5ca9e-76c1-41c1-b877-647c8c68742f",
   "metadata": {},
   "source": [
    "## Transportation Sector"
   ]
  },
  {
   "cell_type": "markdown",
   "id": "3ab4b15a-4655-4613-83ab-737dc153f776",
   "metadata": {},
   "source": [
    "### Energy in Energy Sector"
   ]
  },
  {
   "cell_type": "code",
   "execution_count": null,
   "id": "079c97fa-27fa-498f-b6a8-fb7dcffd8964",
   "metadata": {},
   "outputs": [],
   "source": []
  },
  {
   "cell_type": "markdown",
   "id": "4b44cc0d-27e1-4167-8aac-90b8f215b378",
   "metadata": {},
   "source": [
    "# Energy Production"
   ]
  },
  {
   "cell_type": "markdown",
   "id": "58b16ff1-f15f-44b0-8adf-4f8012ac9f33",
   "metadata": {},
   "source": [
    "## Biomass"
   ]
  },
  {
   "cell_type": "markdown",
   "id": "6490d936-cb22-4933-b697-76899f4ba876",
   "metadata": {},
   "source": [
    "### Energy in Biomass Production (Ethanol)\n",
    "\n",
    "To find the ethanol production per county, this calculation takes 2015 eia data on ethanol plant capacity which has added locational data by each plant and combines with state level biomass (ethanol) production from prep_state_fuel_production_data() to split out state total by county. Returns a dataframe of ethanol production (bbtu) by county FIPS for each county in the US for 2015.\n",
    "\n",
    "ethanol plant production filler for wyoming (in state total but not location data) ,Torrington, WY100%, https://neo.ne.gov/programs/stats/122/2015/122_201512.htm"
   ]
  },
  {
   "cell_type": "markdown",
   "id": "9f98eecc-1f77-42f4-8fda-1bbf9d6bc1bf",
   "metadata": {},
   "source": [
    "#### <b> <ul> <font color='red'> Consider looking for estimates for electricity use in biomass production to split out from industrial"
   ]
  },
  {
   "cell_type": "markdown",
   "id": "ca9ac8cb-d671-49d2-bec7-605583ace9f4",
   "metadata": {},
   "source": [
    "### Water in Biomass Production (Ethanol)"
   ]
  },
  {
   "cell_type": "markdown",
   "id": "8b68f3d0-a1f6-4d2c-9120-e6fd3e186d7c",
   "metadata": {},
   "source": [
    "#### Water used in irrigation of corn used for ethanol"
   ]
  },
  {
   "cell_type": "markdown",
   "id": "5999934b-a191-478b-a073-955bee3d348b",
   "metadata": {},
   "source": [
    "Data on water used in the irrigation of corn ultimately used for ethanol production does not exist explicitly at any level of granularity and must be calculated out from larger state-level corn growth irrigation intensity estimates.\n",
    "\n",
    "The percent of corn grown for ethanol in the US was used from US DOE Alternative Fuels Data Center [21]. Total corn production for ethanol (5.22 billion bushels) was divided by total corn producton (13.6 billion bushels) for 2015 and calculated to be 38.406%. Data on a state or county-level does not exist, therefore, this percentage is applied to all states with corn production. A state-level fraction of corn used for ethanol production could be calculated from the amount of ethanol produced in a state and applying an assumption of corn required per unit of ethanol, however, not all corn used in ethanol is produced in the state that uses it which lead to states such as CA with an ethanol fraction of corn growth of nearly 900% of their total corn production. Given that we are unable to determine which states the imported corn for ethanol would be coming from, the decision was made to apply the US total fraction to all states.\n",
    "\n",
    "Total water used in the production of corn for ethanol is therefore the assumed 38.406% multiplied by the product of the total amount of irrigated acres of corn (AC_Irr_Corn) and the calculated irrigation intensity for that state (total acres applied to all crops / total acres irrigated, all crops) provided from USDA Census of Agriculture Irrigation and Water Management Survey [22], Table 35 and Table 4, respectively. The irrigation intensity for corn is calculated from the average irrigation intensity for the state.\n",
    "\n",
    "To split the total MGY applied between fresh surface and groundwater, USDA FRIS Census of Agriculture data on the fraction of surface water (surface water + off farm water) from total water supply (including groundwater) in corn production is used from Table 37 of [22]. Off-farm sources are assumed to be surface water.\n",
    "\n",
    "Some states that grow corn do not provide data on the water source breakdown (surface vs. ground) for their irrigation. The surface to groundwater ratio for all irrigation in a state is substituted for these states. These values are calculated from the USGS 2015 water dataset."
   ]
  },
  {
   "cell_type": "code",
   "execution_count": null,
   "id": "2a1407da-7213-4f97-8488-3be10a396513",
   "metadata": {},
   "outputs": [],
   "source": [
    "df = flow.prep_county_water_corn_biomass_data()"
   ]
  },
  {
   "cell_type": "markdown",
   "id": "588a4233-3774-4ade-b348-a4ff44416ac8",
   "metadata": {},
   "source": [
    "#### Water used in the production of ethanol (fermentation)"
   ]
  },
  {
   "cell_type": "markdown",
   "id": "a779da6b-abb6-4348-8287-528a54c22474",
   "metadata": {},
   "source": [
    "#### <b> <ul> <font color='red'> Consider looking for estimates for water used in the fermentation process of ethanol production, not just corn growth."
   ]
  },
  {
   "cell_type": "markdown",
   "id": "cf5d56f8-5bc4-471a-b203-36183f4a1b89",
   "metadata": {},
   "source": [
    "## Petroleum"
   ]
  },
  {
   "cell_type": "markdown",
   "id": "290231c8-e904-412c-83bd-4562d10d1212",
   "metadata": {},
   "source": [
    "### Energy in Petroleum Production (Conventional and Unconventional Oil Drilling)"
   ]
  },
  {
   "cell_type": "markdown",
   "id": "f1dcd09b-4751-4067-90c8-41a6796cec46",
   "metadata": {},
   "source": [
    " crude oil production by county fillers\n",
    "Idaho: https://ogcc.idaho.gov/wp-content/uploads/sites/3/2017/06/2016-10-6-state-of-idaho-releases-oil-gas-production-data.pdf\n",
    "100% of Idaho petroleum and natural gas is from Payette County\n",
    "\n",
    "Alaska,\n",
    "https://www.commerce.alaska.gov/web/aogcc/Data.aspx\n",
    "almost all oil is produced along the north slope. Calculated from oil production download. The rest is on the kenai peninsula (cook inlet basin)\n",
    "\n",
    "Maryland\n",
    "https://www.eia.gov/state/analysis.php?sid=MD#34\n",
    "assumed 50/50 split between Garret and Allegany Counties\n",
    "\n",
    "Nevada\n",
    "https://gisweb.unr.edu/OilGas/\n",
    "Assumed to be in nye county with producing oil wells (only 4 btu)\n",
    "\n",
    "Oregon\n",
    "https://www.oregongeology.org/mlrr/oilgas-report.htm\n",
    "Only one county (columbia county)"
   ]
  },
  {
   "cell_type": "markdown",
   "id": "61206ecf-cfac-465d-8396-64eb8c7cf4a5",
   "metadata": {},
   "source": [
    "### Water in Petroleum Production (Conventional and Unconventional Oil Drilling)"
   ]
  },
  {
   "cell_type": "markdown",
   "id": "aabccc27-383e-4532-ad3d-b0fdd6f34b45",
   "metadata": {},
   "source": [
    "## Natural Gas"
   ]
  },
  {
   "cell_type": "markdown",
   "id": "cc3d88a8-2668-401e-bbe9-4574273136d5",
   "metadata": {},
   "source": [
    "### Energy in Natural Gas Production (Unconventional Drilling)"
   ]
  },
  {
   "cell_type": "markdown",
   "id": "39d740be-7ce4-422e-8087-a410a20306ff",
   "metadata": {},
   "source": [
    "### Water in Natural Gas Production (Unconventional Drilling)"
   ]
  },
  {
   "cell_type": "markdown",
   "id": "547622b2-a8ea-4deb-8579-ff7202cfa921",
   "metadata": {},
   "source": [
    "## Coal"
   ]
  },
  {
   "cell_type": "markdown",
   "id": "98f14885-561d-4f48-a630-ac52b4f91023",
   "metadata": {},
   "source": [
    "### Energy in Coal Production (Coal Mining)"
   ]
  },
  {
   "cell_type": "markdown",
   "id": "82728a63-8d67-4d7a-b8be-da2566f118ee",
   "metadata": {},
   "source": [
    "### Water in Coal Production (Coal Mining)"
   ]
  },
  {
   "cell_type": "code",
   "execution_count": null,
   "id": "7cdf3331-e82e-485e-baab-ef696af225f3",
   "metadata": {},
   "outputs": [],
   "source": []
  },
  {
   "cell_type": "code",
   "execution_count": null,
   "id": "f3f634f1-67dd-4922-8625-ec8fcb184969",
   "metadata": {},
   "outputs": [],
   "source": []
  },
  {
   "cell_type": "code",
   "execution_count": null,
   "id": "cb2e49b0-5309-430c-a507-1fa835c6d505",
   "metadata": {},
   "outputs": [],
   "source": []
  },
  {
   "cell_type": "markdown",
   "id": "6083ab3c-2888-45ac-8584-0d44fb1a4878",
   "metadata": {
    "tags": []
   },
   "source": [
    "# Intensities & Percentages"
   ]
  },
  {
   "cell_type": "markdown",
   "id": "a0d12353-4606-4f7f-84f0-da10416dd08e",
   "metadata": {},
   "source": [
    "#### Conveyance Losses as a Percent of Water Withdrawn for Irrigation\n",
    "Conveyance loss fraction for irrigation is calculated from the USGS 1995 water use dataset. It is calculated as the total conveyance losses (MGD) divided by the total water withdrawn (MGD) for irrigation. Looking at the fractions at the county level shows that a small subset of counties have unreliable values where conveyance losses are far greater than the amount withdrawn for irrigation. As a result, the ability to cap the loss fraction at a specified amount it provided and replace it with the average of the specified region. The default loss cap fraction is .90."
   ]
  },
  {
   "cell_type": "code",
   "execution_count": null,
   "id": "e1e70eb3-2586-4c96-9542-dc397efede04",
   "metadata": {},
   "outputs": [],
   "source": [
    "df = flow.prep_water_use_1995()\n",
    "df = flow.calc_conveyance_loss_frac(df)\n",
    "df.head()"
   ]
  },
  {
   "cell_type": "markdown",
   "id": "e6bad304-bbd2-4c42-b1ab-c2e8228469c9",
   "metadata": {},
   "source": [
    "##### Change in loss cap"
   ]
  },
  {
   "cell_type": "code",
   "execution_count": 10,
   "id": "321b6479-d093-4059-80e6-629a34605b80",
   "metadata": {},
   "outputs": [
    {
     "data": {
      "text/html": [
       "<div>\n",
       "<style scoped>\n",
       "    .dataframe tbody tr th:only-of-type {\n",
       "        vertical-align: middle;\n",
       "    }\n",
       "\n",
       "    .dataframe tbody tr th {\n",
       "        vertical-align: top;\n",
       "    }\n",
       "\n",
       "    .dataframe thead th {\n",
       "        text-align: right;\n",
       "    }\n",
       "</style>\n",
       "<table border=\"1\" class=\"dataframe\">\n",
       "  <thead>\n",
       "    <tr style=\"text-align: right;\">\n",
       "      <th></th>\n",
       "      <th>FIPS</th>\n",
       "      <th>State</th>\n",
       "      <th>County</th>\n",
       "      <th>IR_CLoss_Frac</th>\n",
       "    </tr>\n",
       "  </thead>\n",
       "  <tbody>\n",
       "    <tr>\n",
       "      <th>0</th>\n",
       "      <td>01001</td>\n",
       "      <td>AL</td>\n",
       "      <td>Autauga</td>\n",
       "      <td>0.0</td>\n",
       "    </tr>\n",
       "    <tr>\n",
       "      <th>1</th>\n",
       "      <td>01003</td>\n",
       "      <td>AL</td>\n",
       "      <td>Baldwin</td>\n",
       "      <td>0.0</td>\n",
       "    </tr>\n",
       "    <tr>\n",
       "      <th>2</th>\n",
       "      <td>01005</td>\n",
       "      <td>AL</td>\n",
       "      <td>Barbour</td>\n",
       "      <td>0.0</td>\n",
       "    </tr>\n",
       "    <tr>\n",
       "      <th>3</th>\n",
       "      <td>01007</td>\n",
       "      <td>AL</td>\n",
       "      <td>Bibb</td>\n",
       "      <td>0.0</td>\n",
       "    </tr>\n",
       "    <tr>\n",
       "      <th>4</th>\n",
       "      <td>01009</td>\n",
       "      <td>AL</td>\n",
       "      <td>Blount</td>\n",
       "      <td>0.0</td>\n",
       "    </tr>\n",
       "  </tbody>\n",
       "</table>\n",
       "</div>"
      ],
      "text/plain": [
       "    FIPS State   County  IR_CLoss_Frac\n",
       "0  01001    AL  Autauga            0.0\n",
       "1  01003    AL  Baldwin            0.0\n",
       "2  01005    AL  Barbour            0.0\n",
       "3  01007    AL     Bibb            0.0\n",
       "4  01009    AL   Blount            0.0"
      ]
     },
     "execution_count": 10,
     "metadata": {},
     "output_type": "execute_result"
    }
   ],
   "source": [
    "df = flow.prep_water_use_1995()\n",
    "df = flow.calc_conveyance_loss_frac(df, loss_cap_amt=.20)\n",
    "df.head()"
   ]
  },
  {
   "cell_type": "code",
   "execution_count": null,
   "id": "26a3da74-77fe-4db6-a3df-897dcaa39d38",
   "metadata": {},
   "outputs": [],
   "source": [
    "help(flow.plot_bar)"
   ]
  },
  {
   "cell_type": "code",
   "execution_count": 11,
   "id": "c771f8ba-02d8-4daf-9390-9fcac3e826d3",
   "metadata": {},
   "outputs": [
    {
     "data": {
      "image/png": "[encoded data removed]",
      "text/plain": [
       "<Figure size 1440x720 with 1 Axes>"
      ]
     },
     "metadata": {
      "needs_background": "light"
     },
     "output_type": "display_data"
    }
   ],
   "source": [
    "flow.plot_bar(df, \"State\",\"IR_CLoss_Frac\", \"State\", y_axis_title = \"Irrigation Conveyance Loss Fraction\", x_axis_title=\"State\")"
   ]
  },
  {
   "cell_type": "markdown",
   "id": "18ddc662-ba7b-4e29-8e6c-dc423a529fcd",
   "metadata": {},
   "source": [
    "#### Water Use Intensity for Hydroelectric Generation"
   ]
  },
  {
   "cell_type": "code",
   "execution_count": null,
   "id": "9551b6a2-0897-47c3-90d3-51adce0ef8ea",
   "metadata": {},
   "outputs": [],
   "source": [
    "df = flow.calc_hydroelectric_water_intensity(intensity_cap=True, intensity_cap_amt=165, region_avg=False)\n",
    "\n",
    "df.head()"
   ]
  },
  {
   "cell_type": "code",
   "execution_count": null,
   "id": "f18b2c41-1e1b-4182-b6ec-0af07fca062e",
   "metadata": {},
   "outputs": [],
   "source": [
    "flow.plot_bar(df, \"State\",\"HY_IF\", \"State\")"
   ]
  },
  {
   "cell_type": "code",
   "execution_count": null,
   "id": "2567ceec-abeb-43a7-a36a-c3b28379bbc6",
   "metadata": {},
   "outputs": [],
   "source": []
  }
 ],
 "metadata": {
  "kernelspec": {
   "display_name": "flow",
   "language": "python",
   "name": "flow"
  },
  "language_info": {
   "codemirror_mode": {
    "name": "ipython",
    "version": 3
   },
   "file_extension": ".py",
   "mimetype": "text/x-python",
   "name": "python",
   "nbconvert_exporter": "python",
   "pygments_lexer": "ipython3",
   "version": "3.9.4"
  }
 },
 "nbformat": 4,
 "nbformat_minor": 5
}

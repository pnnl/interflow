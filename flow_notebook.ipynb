{
 "cells": [
  {
   "cell_type": "markdown",
   "id": "2a14df23-b5b2-4b15-afbf-a1a0c7a29552",
   "metadata": {},
   "source": [
    "# Welcome to Flow!"
   ]
  },
  {
   "cell_type": "code",
   "execution_count": 1,
   "id": "7f4612ce-aa94-4114-b0b5-0c59488e2ed9",
   "metadata": {},
   "outputs": [],
   "source": [
    "import pandas as pd\n",
    "import numpy as np\n",
    "from matplotlib import pyplot as plt\n",
    "import flow\n",
    "import yaml\n",
    "  \n",
    "\n",
    "data = pd.read_csv(r\"C:\\Users\\mong275\\Local Files\\Repos\\flow\\sample_data\\test_output.csv\", dtype={'FIPS':str})   \n",
    "data['FIPS'] = data['FIPS'].apply(lambda x: '{0:0>5}'.format(x))\n",
    "\n",
    "update_data = pd.read_csv(r\"C:\\Users\\mong275\\Local Files\\Repos\\flow\\sample_data\\test_update.csv\", dtype={'FIPS':str})   \n",
    "data2 = flow.construct_nested_dictionary(update_data)"
   ]
  },
  {
   "cell_type": "code",
   "execution_count": 2,
   "id": "6e4f52a6",
   "metadata": {
    "scrolled": false
   },
   "outputs": [
    {
     "data": {
      "text/plain": [
       "{'42003_ACI_fresh_groundwater_withdrawal_total_mgd': 0.04,\n",
       " '42003_ACI_mgd': nan,\n",
       " '42003_ACI_fresh_surfacewater_import_total_mgd': nan,\n",
       " '42003_ACI_fresh_surfacewater_withdrawal_total_mgd': 0.03,\n",
       " '42003_AGI_fresh_groundwater_withdrawal_total_mgd': 0.74,\n",
       " '42003_AGI_mgd': 1.6600000000000001,\n",
       " '42003_AGI_fresh_surfacewater_withdrawal_total_mgd': 0.92,\n",
       " '42003_ALV_fresh_groundwater_withdrawal_total_mgd': 0.04,\n",
       " '42003_ALV_mgd': 0.04,\n",
       " '42003_COM_public_total_total_total_mgd': 26.50262383521334,\n",
       " '42003_COM_mgd': 26.50262383521334,\n",
       " '42003_COM_total_total_total_total_bbtu': 78.06324962920698,\n",
       " '42003_COM_bbtu': 104.56587346442032,\n",
       " '42003_EGS_coal_steam_complex_total_bbtu': 57.889715068493146,\n",
       " '42003_EGS_bbtu': 182.4278383561644,\n",
       " '42003_EGS_natgas_combinedcycle_tower_total_bbtu': 78.25727671232877,\n",
       " '42003_EGS_natgas_combustionturbine_nocooling_total_bbtu': 1.6036246575342463,\n",
       " '42003_EGS_natgas_steam_complex_total_bbtu': 1.1696465753424656,\n",
       " '42003_EGS_natgas_steam_nocooling_total_bbtu': 3.360156164383562,\n",
       " '42003_EGS_other_steam_nocooling_total_bbtu': 40.14327671232876,\n",
       " '42003_EGS_petroleum_combustionturbine_tower_total_bbtu': 0.0041424657534246,\n",
       " '42003_EPD_other_total_total_total_bbtu': 40.14327671232876,\n",
       " '42003_EPD_bbtu': 54.82821932381311,\n",
       " '42003_EPD_solar_total_total_total_bbtu': 0.6956843117061744,\n",
       " '42003_EPD_wind_total_total_total_bbtu': 13.989258299778172,\n",
       " '42003_EPS_coal_surface_total_total_bbtu': 0.2994235616438356,\n",
       " '42003_EPS_bbtu': 96.99457698564008,\n",
       " '42003_EPS_natgas_unconventional_total_total_bbtu': 95.4855947827674,\n",
       " '42003_EPS_petroleum_conventional_total_total_bbtu': 0.4475366972546762,\n",
       " '42003_EPS_petroleum_unconventional_total_total_bbtu': 0.7620219439741784,\n",
       " '42003_IND_fresh_groundwater_total_total_mgd': 2.67,\n",
       " '42003_IND_mgd': 255.79738352133398,\n",
       " '42003_IND_fresh_surfacewater_total_total_mgd': 244.34,\n",
       " '42003_IND_public_total_total_total_mgd': 8.787383521333986,\n",
       " '42003_IND_total_total_total_total_bbtu': 220.7080922309519,\n",
       " '42003_IND_bbtu': 476.5054757522859,\n",
       " '42003_MIN_saline_groundwater_total_total_mgd': 0.1398981959890411,\n",
       " '42003_MIN_mgd': 0.1398981959890411,\n",
       " '42003_PWD_total_total_total_total_mgd': 98.94000735654731,\n",
       " '42003_PWD_mgd': 98.94000735654731,\n",
       " '42003_PWS_fresh_groundwater_withdrawal_total_mgd': 8.82,\n",
       " '42003_PWS_mgd': nan,\n",
       " '42003_PWS_fresh_surfacewater_import_total_mgd': nan,\n",
       " '42003_PWS_fresh_surfacewater_withdrawal_total_mgd': 169.35,\n",
       " '42003_PWX_total_total_total_total_mgd': 79.22999264345268,\n",
       " '42003_PWX_mgd': 79.22999264345268,\n",
       " '42003_RES_fresh_groundwater_total_total_mgd': 9.51,\n",
       " '42003_RES_mgd': 73.16,\n",
       " '42003_RES_public_total_total_total_mgd': 63.65,\n",
       " '42003_RES_total_total_total_total_bbtu': 131.83603852445543,\n",
       " '42003_RES_bbtu': 204.99603852445543,\n",
       " '42003_RES_total_total_total_total_btu': 132.2555029864342,\n",
       " '42003_RES_btu': 205.4155029864342,\n",
       " '42003_TRA_total_total_total_total_bbtu': 241.95226268847793,\n",
       " '42003_TRA_bbtu': 241.95226268847793,\n",
       " '42003_WWD_advanced_municipal_total_total_mgd': 3.0818145087236,\n",
       " '42003_WWD_mgd': 9.630670339761249,\n",
       " '42003_WWD_primary_municipal_total_total_mgd': 3.2744279155188245,\n",
       " '42003_WWD_secondary_municipal_total_total_mgd': 3.2744279155188245,\n",
       " '42003_ACI_pumping_fresh_groundwater_total_bbtu': 0.000211186175856848,\n",
       " '42003_ACI_pumping_fresh_surfacewater_total_bbtu': 0.000251098289737226,\n",
       " '42003_AGI_pumping_fresh_groundwater_total_bbtu': 0.003906944253351688,\n",
       " '42003_AGI_pumping_fresh_surfacewater_total_bbtu': 0.00513091574568328,\n",
       " '42003_ALV_pumping_fresh_groundwater_total_bbtu': 0.000211186175856848,\n",
       " '42003_EGS_coal_steam_complex_total_mgd': 307.6728657521354,\n",
       " '42003_EGS_natgas_combinedcycle_tower_total_mgd': 313.12478050172706,\n",
       " '42003_EGS_natgas_steam_complex_total_mgd': 621.1418736034327,\n",
       " '42003_EGS_petroleum_combustionturbine_tower_total_mgd': 621.3459520880381,\n",
       " '42003_EPS_coal_surface_total_total_mgd': 0.00010180401095890412,\n",
       " '42003_EPS_natgas_unconventional_produced_total_mgd': 0.04461718829867551,\n",
       " '42003_EPS_natgas_unconventional_withdrawal_total_mgd': 0.04486244054260227,\n",
       " '42003_EPS_petroleum_conventional_withdrawal_total_mgd': 0.04519272592803008,\n",
       " '42003_EPS_petroleum_unconventional_produced_total_mgd': 0.05700266011508376,\n",
       " '42003_PWS_distribution_total_total_total_bbtu': 0.632258623152,\n",
       " '42003_PWS_pumping_fresh_groundwater_total_bbtu': 0.678825174928435,\n",
       " '42003_PWS_pumping_fresh_surfacewater_total_bbtu': 0.9041290577831688,\n",
       " '42003_PWS_pumping_saline_groundwater_total_bbtu': 1.7982385298170989,\n",
       " '42003_PWS_pumping_saline_surfacewater_total_bbtu': 2.0235424126718327,\n",
       " '42003_PWS_treatment_fresh_groundwater_total_bbtu': 2.0297119030058326,\n",
       " '42003_PWS_treatment_fresh_surfacewater_total_bbtu': 2.2637394961508326,\n",
       " '42003_WWD_treatment_advanced_total_total_bbtu': 0.02828691708047163,\n",
       " '42003_WWD_treatment_primary_total_total_bbtu': 0.051526354533201105,\n",
       " '42003_WWD_treatment_secondary_total_total_bbtu': 0.059905959383944905,\n",
       " '42003_EGD_total_total_total_total_bbtu': 1869.5030849577352,\n",
       " '42003_EPD_natgas_total_total_total_bbtu': 0.00036317191713952,\n",
       " '42003_EPD_petroleum_total_total_total_bbtu': 0.000462284465594074,\n",
       " '42003_WSW_fresh_surfacewater_total_total_mgd': 1863.429957434754,\n",
       " '42003_WSW_saline_groundwater_total_total_mgd': 1863.2952850799848,\n",
       " '42003_PRD_total_total_total_total_mgd': 1863.4869600948691,\n",
       " '42003_WSW_fresh_groundwater_total_total_mgd': 1863.3938032540116,\n",
       " 'CMP_total_total_total_total_mgd': 6.515002565600911,\n",
       " 'CVL_total_total_total_total_mgd': 1.5854294980277597,\n",
       " 'SRD_total_total_total_total_mgd': 9.630670339761247,\n",
       " 'ESV_total_total_total_total_bbtu': 9.749422484974483,\n",
       " 'REJ_total_total_total_total_bbtu': 9.770389570758864,\n",
       " 'WWS_total_total_total_total_mgd': 73.16,\n",
       " 'GRD_total_total_total_total_mgd': 0.19086477633350918,\n",
       " 'GWD_total_total_total_total_mgd': 7.118291102763167,\n",
       " 'IRX_total_total_total_total_mgd': 7.372307328936748}"
      ]
     },
     "execution_count": 2,
     "metadata": {},
     "output_type": "execute_result"
    }
   ],
   "source": [
    "region = '42003'\n",
    "df = flow.calculate(data=data, update_data = update_data,level=5,region_name=region)\n",
    "#df[df.T1 == 'WWS']\n",
    "df"
   ]
  },
  {
   "cell_type": "code",
   "execution_count": 6,
   "id": "84799f26-242d-457a-9825-2f153b6383d0",
   "metadata": {},
   "outputs": [
    {
     "name": "stdout",
     "output_type": "stream",
     "text": [
      "WSW = Water Supply Withdrawals\n",
      "WSI = Water Supply Imports\n"
     ]
    },
    {
     "data": {
      "application/vnd.plotly.v1+json": {
       "config": {
        "plotlyServerURL": "https://plot.ly"
       },
       "data": [
        {
         "link": {
          "color": "rgba(102, 195, 216, 0.7)",
          "source": [
           0,
           1,
           0,
           0,
           0,
           0,
           2,
           0,
           0,
           2,
           3,
           4,
           4,
           0,
           1,
           0,
           4,
           4,
           0,
           2,
           0,
           0,
           0,
           0,
           3,
           5,
           0,
           0,
           0,
           0,
           5,
           6,
           6,
           6,
           6,
           6,
           6,
           7,
           7,
           7,
           7,
           7,
           7,
           8,
           8,
           9,
           9,
           10,
           10,
           11,
           11,
           11,
           11,
           12,
           12,
           13,
           14,
           14,
           14,
           14,
           15,
           15,
           15,
           15,
           16,
           16,
           16,
           16,
           17,
           17,
           18,
           19,
           19,
           20,
           20,
           21,
           21,
           21,
           21,
           22,
           22,
           22,
           22,
           23,
           23,
           23,
           23,
           24,
           24,
           24,
           25,
           25,
           25,
           24
          ],
          "target": [
           6,
           6,
           6,
           7,
           7,
           8,
           9,
           16,
           16,
           17,
           18,
           2,
           2,
           4,
           4,
           4,
           26,
           26,
           19,
           20,
           10,
           11,
           11,
           12,
           13,
           14,
           14,
           14,
           15,
           15,
           15,
           27,
           28,
           29,
           27,
           28,
           29,
           27,
           28,
           29,
           27,
           28,
           29,
           27,
           29,
           27,
           24,
           27,
           29,
           27,
           29,
           27,
           29,
           27,
           29,
           27,
           30,
           29,
           30,
           29,
           30,
           29,
           30,
           29,
           27,
           29,
           27,
           29,
           27,
           24,
           27,
           27,
           29,
           27,
           24,
           27,
           31,
           32,
           29,
           27,
           31,
           32,
           29,
           27,
           31,
           32,
           29,
           21,
           22,
           23,
           21,
           22,
           23,
           33
          ],
          "value": [
           0.04,
           null,
           0.03,
           0.74,
           0.92,
           0.04,
           26.50262383521334,
           2.67,
           244.34,
           8.787383521333986,
           0.1398981959890411,
           4.897855221893401,
           94.0421521346539,
           8.82,
           null,
           169.35,
           3.922144778106599,
           75.30784786534608,
           9.51,
           63.65,
           307.6728657521354,
           313.12478050172706,
           621.1418736034327,
           621.3459520880381,
           0.00010180401095890412,
           0.04461718829867551,
           0.008972488108520455,
           0.03588995243408182,
           0.009038545185606017,
           0.03615418074242407,
           0.05700266011508376,
           0.030332334114619386,
           0.006362219219043884,
           0.0033054466663367285,
           0.022749250585964536,
           0.004771664414282913,
           0.0024790849997525463,
           0.5611481811204586,
           0.11770105555231186,
           0.06115076332722947,
           0.6990984559897504,
           0.14633104203800934,
           0.07457050197224013,
           0.03,
           0.01,
           0.5716700568423914,
           25.930953778370945,
           1.5627828101695524,
           152.27365006589812,
           167.544825697673,
           134.5975193572446,
           3.155006342112625,
           307.4159304596037,
           221.90926860287072,
           88.76370744114826,
           0.00010180401095890412,
           0.0439033132858967,
           0.0007138750127788082,
           0.04414464149392063,
           0.0007177990486816364,
           0.044469642313181595,
           0.0007230836148484813,
           0.05609061755324242,
           0.0009120425618413401,
           0.12670468200884227,
           2.543295317991157,
           11.595139326606937,
           232.74486067339302,
           0.4170047321199863,
           8.370378789213998,
           0.1398981959890411,
           0.951343032343393,
           8.558656967656606,
           6.367295899963929,
           57.282704100036064,
           0.14942130951387128,
           0.5678009761527116,
           0.23907409522219422,
           2.1255181278348223,
           0.15876014135848818,
           0.6032885371622561,
           0.2540162261735813,
           2.2583630108244983,
           0.15876014135848818,
           0.6032885371622561,
           0.2540162261735813,
           2.2583630108244983,
           3.0818145087236,
           3.2744279155188245,
           3.2744279155188245,
           0,
           0,
           0,
           88.30960875210218
          ]
         },
         "node": {
          "color": "rgba(63, 125, 152, 1)",
          "label": [
           "WSW-fresh",
           "WSI-ibt",
           "PWD",
           "WSW-saline",
           "PWS-fresh",
           "PRD",
           "ACI-fresh",
           "AGI-fresh",
           "ALV-fresh",
           "COM-public",
           "EGS-coal",
           "EGS-natgas",
           "EGS-petroleum",
           "EPS-coal",
           "EPS-natgas",
           "EPS-petroleum",
           "IND-fresh",
           "IND-public",
           "MIN-saline",
           "RES-fresh",
           "RES-public",
           "WWD-advanced",
           "WWD-primary",
           "WWD-secondary",
           "WWS",
           "WWI",
           "PWX",
           "CMP",
           "CVL",
           "SRD",
           "GRD",
           "GWD",
           "IRX",
           "WWX"
          ],
          "line": {
           "color": "black",
           "width": 1
          },
          "pad": 40,
          "thickness": 10
         },
         "type": "sankey",
         "valuesuffix": "mgd"
        }
       ],
       "layout": {
        "template": {
         "data": {
          "bar": [
           {
            "error_x": {
             "color": "#2a3f5f"
            },
            "error_y": {
             "color": "#2a3f5f"
            },
            "marker": {
             "line": {
              "color": "#E5ECF6",
              "width": 0.5
             },
             "pattern": {
              "fillmode": "overlay",
              "size": 10,
              "solidity": 0.2
             }
            },
            "type": "bar"
           }
          ],
          "barpolar": [
           {
            "marker": {
             "line": {
              "color": "#E5ECF6",
              "width": 0.5
             },
             "pattern": {
              "fillmode": "overlay",
              "size": 10,
              "solidity": 0.2
             }
            },
            "type": "barpolar"
           }
          ],
          "carpet": [
           {
            "aaxis": {
             "endlinecolor": "#2a3f5f",
             "gridcolor": "white",
             "linecolor": "white",
             "minorgridcolor": "white",
             "startlinecolor": "#2a3f5f"
            },
            "baxis": {
             "endlinecolor": "#2a3f5f",
             "gridcolor": "white",
             "linecolor": "white",
             "minorgridcolor": "white",
             "startlinecolor": "#2a3f5f"
            },
            "type": "carpet"
           }
          ],
          "choropleth": [
           {
            "colorbar": {
             "outlinewidth": 0,
             "ticks": ""
            },
            "type": "choropleth"
           }
          ],
          "contour": [
           {
            "colorbar": {
             "outlinewidth": 0,
             "ticks": ""
            },
            "colorscale": [
             [
              0,
              "#0d0887"
             ],
             [
              0.1111111111111111,
              "#46039f"
             ],
             [
              0.2222222222222222,
              "#7201a8"
             ],
             [
              0.3333333333333333,
              "#9c179e"
             ],
             [
              0.4444444444444444,
              "#bd3786"
             ],
             [
              0.5555555555555556,
              "#d8576b"
             ],
             [
              0.6666666666666666,
              "#ed7953"
             ],
             [
              0.7777777777777778,
              "#fb9f3a"
             ],
             [
              0.8888888888888888,
              "#fdca26"
             ],
             [
              1,
              "#f0f921"
             ]
            ],
            "type": "contour"
           }
          ],
          "contourcarpet": [
           {
            "colorbar": {
             "outlinewidth": 0,
             "ticks": ""
            },
            "type": "contourcarpet"
           }
          ],
          "heatmap": [
           {
            "colorbar": {
             "outlinewidth": 0,
             "ticks": ""
            },
            "colorscale": [
             [
              0,
              "#0d0887"
             ],
             [
              0.1111111111111111,
              "#46039f"
             ],
             [
              0.2222222222222222,
              "#7201a8"
             ],
             [
              0.3333333333333333,
              "#9c179e"
             ],
             [
              0.4444444444444444,
              "#bd3786"
             ],
             [
              0.5555555555555556,
              "#d8576b"
             ],
             [
              0.6666666666666666,
              "#ed7953"
             ],
             [
              0.7777777777777778,
              "#fb9f3a"
             ],
             [
              0.8888888888888888,
              "#fdca26"
             ],
             [
              1,
              "#f0f921"
             ]
            ],
            "type": "heatmap"
           }
          ],
          "heatmapgl": [
           {
            "colorbar": {
             "outlinewidth": 0,
             "ticks": ""
            },
            "colorscale": [
             [
              0,
              "#0d0887"
             ],
             [
              0.1111111111111111,
              "#46039f"
             ],
             [
              0.2222222222222222,
              "#7201a8"
             ],
             [
              0.3333333333333333,
              "#9c179e"
             ],
             [
              0.4444444444444444,
              "#bd3786"
             ],
             [
              0.5555555555555556,
              "#d8576b"
             ],
             [
              0.6666666666666666,
              "#ed7953"
             ],
             [
              0.7777777777777778,
              "#fb9f3a"
             ],
             [
              0.8888888888888888,
              "#fdca26"
             ],
             [
              1,
              "#f0f921"
             ]
            ],
            "type": "heatmapgl"
           }
          ],
          "histogram": [
           {
            "marker": {
             "pattern": {
              "fillmode": "overlay",
              "size": 10,
              "solidity": 0.2
             }
            },
            "type": "histogram"
           }
          ],
          "histogram2d": [
           {
            "colorbar": {
             "outlinewidth": 0,
             "ticks": ""
            },
            "colorscale": [
             [
              0,
              "#0d0887"
             ],
             [
              0.1111111111111111,
              "#46039f"
             ],
             [
              0.2222222222222222,
              "#7201a8"
             ],
             [
              0.3333333333333333,
              "#9c179e"
             ],
             [
              0.4444444444444444,
              "#bd3786"
             ],
             [
              0.5555555555555556,
              "#d8576b"
             ],
             [
              0.6666666666666666,
              "#ed7953"
             ],
             [
              0.7777777777777778,
              "#fb9f3a"
             ],
             [
              0.8888888888888888,
              "#fdca26"
             ],
             [
              1,
              "#f0f921"
             ]
            ],
            "type": "histogram2d"
           }
          ],
          "histogram2dcontour": [
           {
            "colorbar": {
             "outlinewidth": 0,
             "ticks": ""
            },
            "colorscale": [
             [
              0,
              "#0d0887"
             ],
             [
              0.1111111111111111,
              "#46039f"
             ],
             [
              0.2222222222222222,
              "#7201a8"
             ],
             [
              0.3333333333333333,
              "#9c179e"
             ],
             [
              0.4444444444444444,
              "#bd3786"
             ],
             [
              0.5555555555555556,
              "#d8576b"
             ],
             [
              0.6666666666666666,
              "#ed7953"
             ],
             [
              0.7777777777777778,
              "#fb9f3a"
             ],
             [
              0.8888888888888888,
              "#fdca26"
             ],
             [
              1,
              "#f0f921"
             ]
            ],
            "type": "histogram2dcontour"
           }
          ],
          "mesh3d": [
           {
            "colorbar": {
             "outlinewidth": 0,
             "ticks": ""
            },
            "type": "mesh3d"
           }
          ],
          "parcoords": [
           {
            "line": {
             "colorbar": {
              "outlinewidth": 0,
              "ticks": ""
             }
            },
            "type": "parcoords"
           }
          ],
          "pie": [
           {
            "automargin": true,
            "type": "pie"
           }
          ],
          "scatter": [
           {
            "marker": {
             "colorbar": {
              "outlinewidth": 0,
              "ticks": ""
             }
            },
            "type": "scatter"
           }
          ],
          "scatter3d": [
           {
            "line": {
             "colorbar": {
              "outlinewidth": 0,
              "ticks": ""
             }
            },
            "marker": {
             "colorbar": {
              "outlinewidth": 0,
              "ticks": ""
             }
            },
            "type": "scatter3d"
           }
          ],
          "scattercarpet": [
           {
            "marker": {
             "colorbar": {
              "outlinewidth": 0,
              "ticks": ""
             }
            },
            "type": "scattercarpet"
           }
          ],
          "scattergeo": [
           {
            "marker": {
             "colorbar": {
              "outlinewidth": 0,
              "ticks": ""
             }
            },
            "type": "scattergeo"
           }
          ],
          "scattergl": [
           {
            "marker": {
             "colorbar": {
              "outlinewidth": 0,
              "ticks": ""
             }
            },
            "type": "scattergl"
           }
          ],
          "scattermapbox": [
           {
            "marker": {
             "colorbar": {
              "outlinewidth": 0,
              "ticks": ""
             }
            },
            "type": "scattermapbox"
           }
          ],
          "scatterpolar": [
           {
            "marker": {
             "colorbar": {
              "outlinewidth": 0,
              "ticks": ""
             }
            },
            "type": "scatterpolar"
           }
          ],
          "scatterpolargl": [
           {
            "marker": {
             "colorbar": {
              "outlinewidth": 0,
              "ticks": ""
             }
            },
            "type": "scatterpolargl"
           }
          ],
          "scatterternary": [
           {
            "marker": {
             "colorbar": {
              "outlinewidth": 0,
              "ticks": ""
             }
            },
            "type": "scatterternary"
           }
          ],
          "surface": [
           {
            "colorbar": {
             "outlinewidth": 0,
             "ticks": ""
            },
            "colorscale": [
             [
              0,
              "#0d0887"
             ],
             [
              0.1111111111111111,
              "#46039f"
             ],
             [
              0.2222222222222222,
              "#7201a8"
             ],
             [
              0.3333333333333333,
              "#9c179e"
             ],
             [
              0.4444444444444444,
              "#bd3786"
             ],
             [
              0.5555555555555556,
              "#d8576b"
             ],
             [
              0.6666666666666666,
              "#ed7953"
             ],
             [
              0.7777777777777778,
              "#fb9f3a"
             ],
             [
              0.8888888888888888,
              "#fdca26"
             ],
             [
              1,
              "#f0f921"
             ]
            ],
            "type": "surface"
           }
          ],
          "table": [
           {
            "cells": {
             "fill": {
              "color": "#EBF0F8"
             },
             "line": {
              "color": "white"
             }
            },
            "header": {
             "fill": {
              "color": "#C8D4E3"
             },
             "line": {
              "color": "white"
             }
            },
            "type": "table"
           }
          ]
         },
         "layout": {
          "annotationdefaults": {
           "arrowcolor": "#2a3f5f",
           "arrowhead": 0,
           "arrowwidth": 1
          },
          "autotypenumbers": "strict",
          "coloraxis": {
           "colorbar": {
            "outlinewidth": 0,
            "ticks": ""
           }
          },
          "colorscale": {
           "diverging": [
            [
             0,
             "#8e0152"
            ],
            [
             0.1,
             "#c51b7d"
            ],
            [
             0.2,
             "#de77ae"
            ],
            [
             0.3,
             "#f1b6da"
            ],
            [
             0.4,
             "#fde0ef"
            ],
            [
             0.5,
             "#f7f7f7"
            ],
            [
             0.6,
             "#e6f5d0"
            ],
            [
             0.7,
             "#b8e186"
            ],
            [
             0.8,
             "#7fbc41"
            ],
            [
             0.9,
             "#4d9221"
            ],
            [
             1,
             "#276419"
            ]
           ],
           "sequential": [
            [
             0,
             "#0d0887"
            ],
            [
             0.1111111111111111,
             "#46039f"
            ],
            [
             0.2222222222222222,
             "#7201a8"
            ],
            [
             0.3333333333333333,
             "#9c179e"
            ],
            [
             0.4444444444444444,
             "#bd3786"
            ],
            [
             0.5555555555555556,
             "#d8576b"
            ],
            [
             0.6666666666666666,
             "#ed7953"
            ],
            [
             0.7777777777777778,
             "#fb9f3a"
            ],
            [
             0.8888888888888888,
             "#fdca26"
            ],
            [
             1,
             "#f0f921"
            ]
           ],
           "sequentialminus": [
            [
             0,
             "#0d0887"
            ],
            [
             0.1111111111111111,
             "#46039f"
            ],
            [
             0.2222222222222222,
             "#7201a8"
            ],
            [
             0.3333333333333333,
             "#9c179e"
            ],
            [
             0.4444444444444444,
             "#bd3786"
            ],
            [
             0.5555555555555556,
             "#d8576b"
            ],
            [
             0.6666666666666666,
             "#ed7953"
            ],
            [
             0.7777777777777778,
             "#fb9f3a"
            ],
            [
             0.8888888888888888,
             "#fdca26"
            ],
            [
             1,
             "#f0f921"
            ]
           ]
          },
          "colorway": [
           "#636efa",
           "#EF553B",
           "#00cc96",
           "#ab63fa",
           "#FFA15A",
           "#19d3f3",
           "#FF6692",
           "#B6E880",
           "#FF97FF",
           "#FECB52"
          ],
          "font": {
           "color": "#2a3f5f"
          },
          "geo": {
           "bgcolor": "white",
           "lakecolor": "white",
           "landcolor": "#E5ECF6",
           "showlakes": true,
           "showland": true,
           "subunitcolor": "white"
          },
          "hoverlabel": {
           "align": "left"
          },
          "hovermode": "closest",
          "mapbox": {
           "style": "light"
          },
          "paper_bgcolor": "white",
          "plot_bgcolor": "#E5ECF6",
          "polar": {
           "angularaxis": {
            "gridcolor": "white",
            "linecolor": "white",
            "ticks": ""
           },
           "bgcolor": "#E5ECF6",
           "radialaxis": {
            "gridcolor": "white",
            "linecolor": "white",
            "ticks": ""
           }
          },
          "scene": {
           "xaxis": {
            "backgroundcolor": "#E5ECF6",
            "gridcolor": "white",
            "gridwidth": 2,
            "linecolor": "white",
            "showbackground": true,
            "ticks": "",
            "zerolinecolor": "white"
           },
           "yaxis": {
            "backgroundcolor": "#E5ECF6",
            "gridcolor": "white",
            "gridwidth": 2,
            "linecolor": "white",
            "showbackground": true,
            "ticks": "",
            "zerolinecolor": "white"
           },
           "zaxis": {
            "backgroundcolor": "#E5ECF6",
            "gridcolor": "white",
            "gridwidth": 2,
            "linecolor": "white",
            "showbackground": true,
            "ticks": "",
            "zerolinecolor": "white"
           }
          },
          "shapedefaults": {
           "line": {
            "color": "#2a3f5f"
           }
          },
          "ternary": {
           "aaxis": {
            "gridcolor": "white",
            "linecolor": "white",
            "ticks": ""
           },
           "baxis": {
            "gridcolor": "white",
            "linecolor": "white",
            "ticks": ""
           },
           "bgcolor": "#E5ECF6",
           "caxis": {
            "gridcolor": "white",
            "linecolor": "white",
            "ticks": ""
           }
          },
          "title": {
           "x": 0.05
          },
          "xaxis": {
           "automargin": true,
           "gridcolor": "white",
           "linecolor": "white",
           "ticks": "",
           "title": {
            "standoff": 15
           },
           "zerolinecolor": "white",
           "zerolinewidth": 2
          },
          "yaxis": {
           "automargin": true,
           "gridcolor": "white",
           "linecolor": "white",
           "ticks": "",
           "title": {
            "standoff": 15
           },
           "zerolinecolor": "white",
           "zerolinewidth": 2
          }
         }
        }
       }
      },
      "text/html": [
       "<div>                            <div id=\"6a90cb2d-0b3b-4f89-85df-d07c00e2e0f6\" class=\"plotly-graph-div\" style=\"height:525px; width:100%;\"></div>            <script type=\"text/javascript\">                require([\"plotly\"], function(Plotly) {                    window.PLOTLYENV=window.PLOTLYENV || {};                                    if (document.getElementById(\"6a90cb2d-0b3b-4f89-85df-d07c00e2e0f6\")) {                    Plotly.newPlot(                        \"6a90cb2d-0b3b-4f89-85df-d07c00e2e0f6\",                        [{\"link\":{\"color\":\"rgba(102, 195, 216, 0.7)\",\"source\":[0,1,0,0,0,0,2,0,0,2,3,4,4,0,1,0,4,4,0,2,0,0,0,0,3,5,0,0,0,0,5,6,6,6,6,6,6,7,7,7,7,7,7,8,8,9,9,10,10,11,11,11,11,12,12,13,14,14,14,14,15,15,15,15,16,16,16,16,17,17,18,19,19,20,20,21,21,21,21,22,22,22,22,23,23,23,23,24,24,24,25,25,25,24],\"target\":[6,6,6,7,7,8,9,16,16,17,18,2,2,4,4,4,26,26,19,20,10,11,11,12,13,14,14,14,15,15,15,27,28,29,27,28,29,27,28,29,27,28,29,27,29,27,24,27,29,27,29,27,29,27,29,27,30,29,30,29,30,29,30,29,27,29,27,29,27,24,27,27,29,27,24,27,31,32,29,27,31,32,29,27,31,32,29,21,22,23,21,22,23,33],\"value\":[0.04,null,0.03,0.74,0.92,0.04,26.50262383521334,2.67,244.34,8.787383521333986,0.1398981959890411,4.897855221893401,94.0421521346539,8.82,null,169.35,3.922144778106599,75.30784786534608,9.51,63.65,307.6728657521354,313.12478050172706,621.1418736034327,621.3459520880381,0.00010180401095890412,0.04461718829867551,0.008972488108520455,0.03588995243408182,0.009038545185606017,0.03615418074242407,0.05700266011508376,0.030332334114619386,0.006362219219043884,0.0033054466663367285,0.022749250585964536,0.004771664414282913,0.0024790849997525463,0.5611481811204586,0.11770105555231186,0.06115076332722947,0.6990984559897504,0.14633104203800934,0.07457050197224013,0.03,0.01,0.5716700568423914,25.930953778370945,1.5627828101695524,152.27365006589812,167.544825697673,134.5975193572446,3.155006342112625,307.4159304596037,221.90926860287072,88.76370744114826,0.00010180401095890412,0.0439033132858967,0.0007138750127788082,0.04414464149392063,0.0007177990486816364,0.044469642313181595,0.0007230836148484813,0.05609061755324242,0.0009120425618413401,0.12670468200884227,2.543295317991157,11.595139326606937,232.74486067339302,0.4170047321199863,8.370378789213998,0.1398981959890411,0.951343032343393,8.558656967656606,6.367295899963929,57.282704100036064,0.14942130951387128,0.5678009761527116,0.23907409522219422,2.1255181278348223,0.15876014135848818,0.6032885371622561,0.2540162261735813,2.2583630108244983,0.15876014135848818,0.6032885371622561,0.2540162261735813,2.2583630108244983,3.0818145087236,3.2744279155188245,3.2744279155188245,0.0,0.0,0.0,88.30960875210218]},\"node\":{\"color\":\"rgba(63, 125, 152, 1)\",\"label\":[\"WSW-fresh\",\"WSI-ibt\",\"PWD\",\"WSW-saline\",\"PWS-fresh\",\"PRD\",\"ACI-fresh\",\"AGI-fresh\",\"ALV-fresh\",\"COM-public\",\"EGS-coal\",\"EGS-natgas\",\"EGS-petroleum\",\"EPS-coal\",\"EPS-natgas\",\"EPS-petroleum\",\"IND-fresh\",\"IND-public\",\"MIN-saline\",\"RES-fresh\",\"RES-public\",\"WWD-advanced\",\"WWD-primary\",\"WWD-secondary\",\"WWS\",\"WWI\",\"PWX\",\"CMP\",\"CVL\",\"SRD\",\"GRD\",\"GWD\",\"IRX\",\"WWX\"],\"line\":{\"color\":\"black\",\"width\":1},\"pad\":40,\"thickness\":10},\"type\":\"sankey\",\"valuesuffix\":\"mgd\"}],                        {\"template\":{\"data\":{\"bar\":[{\"error_x\":{\"color\":\"#2a3f5f\"},\"error_y\":{\"color\":\"#2a3f5f\"},\"marker\":{\"line\":{\"color\":\"#E5ECF6\",\"width\":0.5},\"pattern\":{\"fillmode\":\"overlay\",\"size\":10,\"solidity\":0.2}},\"type\":\"bar\"}],\"barpolar\":[{\"marker\":{\"line\":{\"color\":\"#E5ECF6\",\"width\":0.5},\"pattern\":{\"fillmode\":\"overlay\",\"size\":10,\"solidity\":0.2}},\"type\":\"barpolar\"}],\"carpet\":[{\"aaxis\":{\"endlinecolor\":\"#2a3f5f\",\"gridcolor\":\"white\",\"linecolor\":\"white\",\"minorgridcolor\":\"white\",\"startlinecolor\":\"#2a3f5f\"},\"baxis\":{\"endlinecolor\":\"#2a3f5f\",\"gridcolor\":\"white\",\"linecolor\":\"white\",\"minorgridcolor\":\"white\",\"startlinecolor\":\"#2a3f5f\"},\"type\":\"carpet\"}],\"choropleth\":[{\"colorbar\":{\"outlinewidth\":0,\"ticks\":\"\"},\"type\":\"choropleth\"}],\"contour\":[{\"colorbar\":{\"outlinewidth\":0,\"ticks\":\"\"},\"colorscale\":[[0.0,\"#0d0887\"],[0.1111111111111111,\"#46039f\"],[0.2222222222222222,\"#7201a8\"],[0.3333333333333333,\"#9c179e\"],[0.4444444444444444,\"#bd3786\"],[0.5555555555555556,\"#d8576b\"],[0.6666666666666666,\"#ed7953\"],[0.7777777777777778,\"#fb9f3a\"],[0.8888888888888888,\"#fdca26\"],[1.0,\"#f0f921\"]],\"type\":\"contour\"}],\"contourcarpet\":[{\"colorbar\":{\"outlinewidth\":0,\"ticks\":\"\"},\"type\":\"contourcarpet\"}],\"heatmap\":[{\"colorbar\":{\"outlinewidth\":0,\"ticks\":\"\"},\"colorscale\":[[0.0,\"#0d0887\"],[0.1111111111111111,\"#46039f\"],[0.2222222222222222,\"#7201a8\"],[0.3333333333333333,\"#9c179e\"],[0.4444444444444444,\"#bd3786\"],[0.5555555555555556,\"#d8576b\"],[0.6666666666666666,\"#ed7953\"],[0.7777777777777778,\"#fb9f3a\"],[0.8888888888888888,\"#fdca26\"],[1.0,\"#f0f921\"]],\"type\":\"heatmap\"}],\"heatmapgl\":[{\"colorbar\":{\"outlinewidth\":0,\"ticks\":\"\"},\"colorscale\":[[0.0,\"#0d0887\"],[0.1111111111111111,\"#46039f\"],[0.2222222222222222,\"#7201a8\"],[0.3333333333333333,\"#9c179e\"],[0.4444444444444444,\"#bd3786\"],[0.5555555555555556,\"#d8576b\"],[0.6666666666666666,\"#ed7953\"],[0.7777777777777778,\"#fb9f3a\"],[0.8888888888888888,\"#fdca26\"],[1.0,\"#f0f921\"]],\"type\":\"heatmapgl\"}],\"histogram\":[{\"marker\":{\"pattern\":{\"fillmode\":\"overlay\",\"size\":10,\"solidity\":0.2}},\"type\":\"histogram\"}],\"histogram2d\":[{\"colorbar\":{\"outlinewidth\":0,\"ticks\":\"\"},\"colorscale\":[[0.0,\"#0d0887\"],[0.1111111111111111,\"#46039f\"],[0.2222222222222222,\"#7201a8\"],[0.3333333333333333,\"#9c179e\"],[0.4444444444444444,\"#bd3786\"],[0.5555555555555556,\"#d8576b\"],[0.6666666666666666,\"#ed7953\"],[0.7777777777777778,\"#fb9f3a\"],[0.8888888888888888,\"#fdca26\"],[1.0,\"#f0f921\"]],\"type\":\"histogram2d\"}],\"histogram2dcontour\":[{\"colorbar\":{\"outlinewidth\":0,\"ticks\":\"\"},\"colorscale\":[[0.0,\"#0d0887\"],[0.1111111111111111,\"#46039f\"],[0.2222222222222222,\"#7201a8\"],[0.3333333333333333,\"#9c179e\"],[0.4444444444444444,\"#bd3786\"],[0.5555555555555556,\"#d8576b\"],[0.6666666666666666,\"#ed7953\"],[0.7777777777777778,\"#fb9f3a\"],[0.8888888888888888,\"#fdca26\"],[1.0,\"#f0f921\"]],\"type\":\"histogram2dcontour\"}],\"mesh3d\":[{\"colorbar\":{\"outlinewidth\":0,\"ticks\":\"\"},\"type\":\"mesh3d\"}],\"parcoords\":[{\"line\":{\"colorbar\":{\"outlinewidth\":0,\"ticks\":\"\"}},\"type\":\"parcoords\"}],\"pie\":[{\"automargin\":true,\"type\":\"pie\"}],\"scatter\":[{\"marker\":{\"colorbar\":{\"outlinewidth\":0,\"ticks\":\"\"}},\"type\":\"scatter\"}],\"scatter3d\":[{\"line\":{\"colorbar\":{\"outlinewidth\":0,\"ticks\":\"\"}},\"marker\":{\"colorbar\":{\"outlinewidth\":0,\"ticks\":\"\"}},\"type\":\"scatter3d\"}],\"scattercarpet\":[{\"marker\":{\"colorbar\":{\"outlinewidth\":0,\"ticks\":\"\"}},\"type\":\"scattercarpet\"}],\"scattergeo\":[{\"marker\":{\"colorbar\":{\"outlinewidth\":0,\"ticks\":\"\"}},\"type\":\"scattergeo\"}],\"scattergl\":[{\"marker\":{\"colorbar\":{\"outlinewidth\":0,\"ticks\":\"\"}},\"type\":\"scattergl\"}],\"scattermapbox\":[{\"marker\":{\"colorbar\":{\"outlinewidth\":0,\"ticks\":\"\"}},\"type\":\"scattermapbox\"}],\"scatterpolar\":[{\"marker\":{\"colorbar\":{\"outlinewidth\":0,\"ticks\":\"\"}},\"type\":\"scatterpolar\"}],\"scatterpolargl\":[{\"marker\":{\"colorbar\":{\"outlinewidth\":0,\"ticks\":\"\"}},\"type\":\"scatterpolargl\"}],\"scatterternary\":[{\"marker\":{\"colorbar\":{\"outlinewidth\":0,\"ticks\":\"\"}},\"type\":\"scatterternary\"}],\"surface\":[{\"colorbar\":{\"outlinewidth\":0,\"ticks\":\"\"},\"colorscale\":[[0.0,\"#0d0887\"],[0.1111111111111111,\"#46039f\"],[0.2222222222222222,\"#7201a8\"],[0.3333333333333333,\"#9c179e\"],[0.4444444444444444,\"#bd3786\"],[0.5555555555555556,\"#d8576b\"],[0.6666666666666666,\"#ed7953\"],[0.7777777777777778,\"#fb9f3a\"],[0.8888888888888888,\"#fdca26\"],[1.0,\"#f0f921\"]],\"type\":\"surface\"}],\"table\":[{\"cells\":{\"fill\":{\"color\":\"#EBF0F8\"},\"line\":{\"color\":\"white\"}},\"header\":{\"fill\":{\"color\":\"#C8D4E3\"},\"line\":{\"color\":\"white\"}},\"type\":\"table\"}]},\"layout\":{\"annotationdefaults\":{\"arrowcolor\":\"#2a3f5f\",\"arrowhead\":0,\"arrowwidth\":1},\"autotypenumbers\":\"strict\",\"coloraxis\":{\"colorbar\":{\"outlinewidth\":0,\"ticks\":\"\"}},\"colorscale\":{\"diverging\":[[0,\"#8e0152\"],[0.1,\"#c51b7d\"],[0.2,\"#de77ae\"],[0.3,\"#f1b6da\"],[0.4,\"#fde0ef\"],[0.5,\"#f7f7f7\"],[0.6,\"#e6f5d0\"],[0.7,\"#b8e186\"],[0.8,\"#7fbc41\"],[0.9,\"#4d9221\"],[1,\"#276419\"]],\"sequential\":[[0.0,\"#0d0887\"],[0.1111111111111111,\"#46039f\"],[0.2222222222222222,\"#7201a8\"],[0.3333333333333333,\"#9c179e\"],[0.4444444444444444,\"#bd3786\"],[0.5555555555555556,\"#d8576b\"],[0.6666666666666666,\"#ed7953\"],[0.7777777777777778,\"#fb9f3a\"],[0.8888888888888888,\"#fdca26\"],[1.0,\"#f0f921\"]],\"sequentialminus\":[[0.0,\"#0d0887\"],[0.1111111111111111,\"#46039f\"],[0.2222222222222222,\"#7201a8\"],[0.3333333333333333,\"#9c179e\"],[0.4444444444444444,\"#bd3786\"],[0.5555555555555556,\"#d8576b\"],[0.6666666666666666,\"#ed7953\"],[0.7777777777777778,\"#fb9f3a\"],[0.8888888888888888,\"#fdca26\"],[1.0,\"#f0f921\"]]},\"colorway\":[\"#636efa\",\"#EF553B\",\"#00cc96\",\"#ab63fa\",\"#FFA15A\",\"#19d3f3\",\"#FF6692\",\"#B6E880\",\"#FF97FF\",\"#FECB52\"],\"font\":{\"color\":\"#2a3f5f\"},\"geo\":{\"bgcolor\":\"white\",\"lakecolor\":\"white\",\"landcolor\":\"#E5ECF6\",\"showlakes\":true,\"showland\":true,\"subunitcolor\":\"white\"},\"hoverlabel\":{\"align\":\"left\"},\"hovermode\":\"closest\",\"mapbox\":{\"style\":\"light\"},\"paper_bgcolor\":\"white\",\"plot_bgcolor\":\"#E5ECF6\",\"polar\":{\"angularaxis\":{\"gridcolor\":\"white\",\"linecolor\":\"white\",\"ticks\":\"\"},\"bgcolor\":\"#E5ECF6\",\"radialaxis\":{\"gridcolor\":\"white\",\"linecolor\":\"white\",\"ticks\":\"\"}},\"scene\":{\"xaxis\":{\"backgroundcolor\":\"#E5ECF6\",\"gridcolor\":\"white\",\"gridwidth\":2,\"linecolor\":\"white\",\"showbackground\":true,\"ticks\":\"\",\"zerolinecolor\":\"white\"},\"yaxis\":{\"backgroundcolor\":\"#E5ECF6\",\"gridcolor\":\"white\",\"gridwidth\":2,\"linecolor\":\"white\",\"showbackground\":true,\"ticks\":\"\",\"zerolinecolor\":\"white\"},\"zaxis\":{\"backgroundcolor\":\"#E5ECF6\",\"gridcolor\":\"white\",\"gridwidth\":2,\"linecolor\":\"white\",\"showbackground\":true,\"ticks\":\"\",\"zerolinecolor\":\"white\"}},\"shapedefaults\":{\"line\":{\"color\":\"#2a3f5f\"}},\"ternary\":{\"aaxis\":{\"gridcolor\":\"white\",\"linecolor\":\"white\",\"ticks\":\"\"},\"baxis\":{\"gridcolor\":\"white\",\"linecolor\":\"white\",\"ticks\":\"\"},\"bgcolor\":\"#E5ECF6\",\"caxis\":{\"gridcolor\":\"white\",\"linecolor\":\"white\",\"ticks\":\"\"}},\"title\":{\"x\":0.05},\"xaxis\":{\"automargin\":true,\"gridcolor\":\"white\",\"linecolor\":\"white\",\"ticks\":\"\",\"title\":{\"standoff\":15},\"zerolinecolor\":\"white\",\"zerolinewidth\":2},\"yaxis\":{\"automargin\":true,\"gridcolor\":\"white\",\"linecolor\":\"white\",\"ticks\":\"\",\"title\":{\"standoff\":15},\"zerolinecolor\":\"white\",\"zerolinewidth\":2}}}},                        {\"responsive\": true}                    ).then(function(){\n",
       "                            \n",
       "var gd = document.getElementById('6a90cb2d-0b3b-4f89-85df-d07c00e2e0f6');\n",
       "var x = new MutationObserver(function (mutations, observer) {{\n",
       "        var display = window.getComputedStyle(gd).display;\n",
       "        if (!display || display === 'none') {{\n",
       "            console.log([gd, 'removed!']);\n",
       "            Plotly.purge(gd);\n",
       "            observer.disconnect();\n",
       "        }}\n",
       "}});\n",
       "\n",
       "// Listen for the removal of the full notebook cells\n",
       "var notebookContainer = gd.closest('#notebook-container');\n",
       "if (notebookContainer) {{\n",
       "    x.observe(notebookContainer, {childList: true});\n",
       "}}\n",
       "\n",
       "// Listen for the clearing of the current output cell\n",
       "var outputEl = gd.closest('.output');\n",
       "if (outputEl) {{\n",
       "    x.observe(outputEl, {childList: true});\n",
       "}}\n",
       "\n",
       "                        })                };                });            </script>        </div>"
      ]
     },
     "metadata": {},
     "output_type": "display_data"
    },
    {
     "data": {
      "application/vnd.plotly.v1+json": {
       "config": {
        "plotlyServerURL": "https://plot.ly"
       },
       "data": [
        {
         "link": {
          "color": "rgba(252, 230, 112, 1)",
          "source": [
           0,
           1,
           2,
           3,
           4,
           5,
           6,
           7,
           2,
           4,
           4,
           4,
           4,
           8,
           5,
           9,
           10,
           11,
           12,
           13,
           14,
           14,
           0,
           2,
           4,
           5,
           0,
           1,
           3,
           4,
           5,
           1,
           4,
           5,
           0,
           4,
           5,
           0,
           4,
           5,
           0,
           0,
           0,
           0,
           0,
           0,
           0,
           0,
           0,
           0,
           15,
           15,
           15,
           15,
           16,
           16,
           16,
           16,
           17,
           17,
           18,
           18,
           19,
           20,
           20,
           20,
           20,
           21,
           22,
           23,
           23,
           24,
           24,
           24,
           24,
           25,
           25,
           25,
           25,
           26,
           26,
           27,
           27,
           28,
           28,
           28,
           28,
           28,
           28
          ],
          "target": [
           18,
           18,
           18,
           18,
           18,
           18,
           18,
           18,
           19,
           20,
           20,
           20,
           20,
           21,
           22,
           8,
           6,
           7,
           12,
           13,
           14,
           14,
           23,
           23,
           23,
           23,
           26,
           26,
           26,
           26,
           26,
           27,
           27,
           27,
           15,
           15,
           15,
           15,
           15,
           15,
           16,
           16,
           17,
           24,
           24,
           25,
           25,
           28,
           28,
           28,
           29,
           30,
           29,
           30,
           29,
           30,
           29,
           30,
           29,
           30,
           29,
           30,
           30,
           30,
           30,
           30,
           30,
           30,
           30,
           29,
           30,
           29,
           30,
           29,
           30,
           29,
           30,
           29,
           30,
           29,
           30,
           29,
           30,
           29,
           30,
           29,
           30,
           29,
           30
          ],
          "value": [
           8.36,
           1.9851491392705711,
           0.5168918636938761,
           0.2148669183770773,
           41.98383725475241,
           10.737026303607482,
           0.2762198497273948,
           13.989258299778172,
           57.889715068493146,
           78.25727671232877,
           1.6036246575342463,
           1.1696465753424656,
           3.360156164383562,
           40.14327671232876,
           0.0041424657534246,
           40.14327671232876,
           0.6956843117061744,
           13.989258299778172,
           0.2994235616438356,
           95.4855947827674,
           0.4475366972546762,
           0.7620219439741784,
           1.7982,
           54.67046486186955,
           106.63323790796522,
           57.60618946111715,
           29.2097,
           9.207942731284335,
           0.3546884057033372,
           65.05490929818916,
           28.0087980892786,
           9.900203918065383,
           12.033600698324062,
           220.0184580720885,
           0.00010354600960324889,
           2.4281573451361094e-05,
           8.335859280223801e-05,
           0.00012311518883752296,
           2.887055244514906e-05,
           9.911254845455398e-05,
           0.003906944253351688,
           0.00513091574568328,
           0.000211186175856848,
           0.678825174928435,
           0.9041290577831688,
           2.0297119030058326,
           2.2637394961508326,
           0.02828691708047163,
           0.051526354533201105,
           0.059905959383944905,
           0.0001372710143069512,
           7.391516154989679e-05,
           0.00016321388832919693,
           8.78844014080291e-05,
           0.002539513764678597,
           0.0013674304886730905,
           0.003335095234694132,
           0.0017958205109891478,
           0.0001372710143069512,
           7.391516154989679e-05,
           50.741112258984536,
           27.322137370222443,
           17.780502224657535,
           60.97644775351615,
           0.5244103780821917,
           0.3588489205479452,
           0.5609876811919131,
           6.409973457921151,
           0.0014208876712328569,
           108.14696519316644,
           112.56112703778547,
           0.44123636370348274,
           0.23758881122495223,
           0.5876838875590598,
           0.31644517022410906,
           1.3193127369537911,
           0.7103991660520413,
           1.4714306724980413,
           0.7923088236527913,
           85.69342504089603,
           46.1426134835594,
           50.809975164580365,
           191.14228752389758,
           0.01838649610230656,
           0.00990042097816507,
           0.03349213044658072,
           0.018034224086620386,
           0.03893887359956419,
           0.020967085784380717
          ]
         },
         "node": {
          "color": "rgba(209, 155, 30, 1)",
          "label": [
           "EGD",
           "EPD-biomass",
           "EPD-coal",
           "EPD-geothermal",
           "EPD-natgas",
           "EPD-petroleum",
           "EPD-solar",
           "EPD-wind",
           "EPD-other",
           "EPS-other",
           "EPS-solar",
           "EPS-wind",
           "EPS-coal",
           "EPS-natgas",
           "EPS-petroleum",
           "ACI-pumping",
           "AGI-pumping",
           "ALV-pumping",
           "COM",
           "EGS-coal",
           "EGS-natgas",
           "EGS-other",
           "EGS-petroleum",
           "IND",
           "PWS-pumping",
           "PWS-treatment",
           "RES",
           "TRA",
           "WWD-treatment",
           "ESV",
           "REJ"
          ],
          "line": {
           "color": "black",
           "width": 1
          },
          "pad": 20,
          "thickness": 10
         },
         "type": "sankey",
         "valuesuffix": "bbtu"
        }
       ],
       "layout": {
        "template": {
         "data": {
          "bar": [
           {
            "error_x": {
             "color": "#2a3f5f"
            },
            "error_y": {
             "color": "#2a3f5f"
            },
            "marker": {
             "line": {
              "color": "#E5ECF6",
              "width": 0.5
             },
             "pattern": {
              "fillmode": "overlay",
              "size": 10,
              "solidity": 0.2
             }
            },
            "type": "bar"
           }
          ],
          "barpolar": [
           {
            "marker": {
             "line": {
              "color": "#E5ECF6",
              "width": 0.5
             },
             "pattern": {
              "fillmode": "overlay",
              "size": 10,
              "solidity": 0.2
             }
            },
            "type": "barpolar"
           }
          ],
          "carpet": [
           {
            "aaxis": {
             "endlinecolor": "#2a3f5f",
             "gridcolor": "white",
             "linecolor": "white",
             "minorgridcolor": "white",
             "startlinecolor": "#2a3f5f"
            },
            "baxis": {
             "endlinecolor": "#2a3f5f",
             "gridcolor": "white",
             "linecolor": "white",
             "minorgridcolor": "white",
             "startlinecolor": "#2a3f5f"
            },
            "type": "carpet"
           }
          ],
          "choropleth": [
           {
            "colorbar": {
             "outlinewidth": 0,
             "ticks": ""
            },
            "type": "choropleth"
           }
          ],
          "contour": [
           {
            "colorbar": {
             "outlinewidth": 0,
             "ticks": ""
            },
            "colorscale": [
             [
              0,
              "#0d0887"
             ],
             [
              0.1111111111111111,
              "#46039f"
             ],
             [
              0.2222222222222222,
              "#7201a8"
             ],
             [
              0.3333333333333333,
              "#9c179e"
             ],
             [
              0.4444444444444444,
              "#bd3786"
             ],
             [
              0.5555555555555556,
              "#d8576b"
             ],
             [
              0.6666666666666666,
              "#ed7953"
             ],
             [
              0.7777777777777778,
              "#fb9f3a"
             ],
             [
              0.8888888888888888,
              "#fdca26"
             ],
             [
              1,
              "#f0f921"
             ]
            ],
            "type": "contour"
           }
          ],
          "contourcarpet": [
           {
            "colorbar": {
             "outlinewidth": 0,
             "ticks": ""
            },
            "type": "contourcarpet"
           }
          ],
          "heatmap": [
           {
            "colorbar": {
             "outlinewidth": 0,
             "ticks": ""
            },
            "colorscale": [
             [
              0,
              "#0d0887"
             ],
             [
              0.1111111111111111,
              "#46039f"
             ],
             [
              0.2222222222222222,
              "#7201a8"
             ],
             [
              0.3333333333333333,
              "#9c179e"
             ],
             [
              0.4444444444444444,
              "#bd3786"
             ],
             [
              0.5555555555555556,
              "#d8576b"
             ],
             [
              0.6666666666666666,
              "#ed7953"
             ],
             [
              0.7777777777777778,
              "#fb9f3a"
             ],
             [
              0.8888888888888888,
              "#fdca26"
             ],
             [
              1,
              "#f0f921"
             ]
            ],
            "type": "heatmap"
           }
          ],
          "heatmapgl": [
           {
            "colorbar": {
             "outlinewidth": 0,
             "ticks": ""
            },
            "colorscale": [
             [
              0,
              "#0d0887"
             ],
             [
              0.1111111111111111,
              "#46039f"
             ],
             [
              0.2222222222222222,
              "#7201a8"
             ],
             [
              0.3333333333333333,
              "#9c179e"
             ],
             [
              0.4444444444444444,
              "#bd3786"
             ],
             [
              0.5555555555555556,
              "#d8576b"
             ],
             [
              0.6666666666666666,
              "#ed7953"
             ],
             [
              0.7777777777777778,
              "#fb9f3a"
             ],
             [
              0.8888888888888888,
              "#fdca26"
             ],
             [
              1,
              "#f0f921"
             ]
            ],
            "type": "heatmapgl"
           }
          ],
          "histogram": [
           {
            "marker": {
             "pattern": {
              "fillmode": "overlay",
              "size": 10,
              "solidity": 0.2
             }
            },
            "type": "histogram"
           }
          ],
          "histogram2d": [
           {
            "colorbar": {
             "outlinewidth": 0,
             "ticks": ""
            },
            "colorscale": [
             [
              0,
              "#0d0887"
             ],
             [
              0.1111111111111111,
              "#46039f"
             ],
             [
              0.2222222222222222,
              "#7201a8"
             ],
             [
              0.3333333333333333,
              "#9c179e"
             ],
             [
              0.4444444444444444,
              "#bd3786"
             ],
             [
              0.5555555555555556,
              "#d8576b"
             ],
             [
              0.6666666666666666,
              "#ed7953"
             ],
             [
              0.7777777777777778,
              "#fb9f3a"
             ],
             [
              0.8888888888888888,
              "#fdca26"
             ],
             [
              1,
              "#f0f921"
             ]
            ],
            "type": "histogram2d"
           }
          ],
          "histogram2dcontour": [
           {
            "colorbar": {
             "outlinewidth": 0,
             "ticks": ""
            },
            "colorscale": [
             [
              0,
              "#0d0887"
             ],
             [
              0.1111111111111111,
              "#46039f"
             ],
             [
              0.2222222222222222,
              "#7201a8"
             ],
             [
              0.3333333333333333,
              "#9c179e"
             ],
             [
              0.4444444444444444,
              "#bd3786"
             ],
             [
              0.5555555555555556,
              "#d8576b"
             ],
             [
              0.6666666666666666,
              "#ed7953"
             ],
             [
              0.7777777777777778,
              "#fb9f3a"
             ],
             [
              0.8888888888888888,
              "#fdca26"
             ],
             [
              1,
              "#f0f921"
             ]
            ],
            "type": "histogram2dcontour"
           }
          ],
          "mesh3d": [
           {
            "colorbar": {
             "outlinewidth": 0,
             "ticks": ""
            },
            "type": "mesh3d"
           }
          ],
          "parcoords": [
           {
            "line": {
             "colorbar": {
              "outlinewidth": 0,
              "ticks": ""
             }
            },
            "type": "parcoords"
           }
          ],
          "pie": [
           {
            "automargin": true,
            "type": "pie"
           }
          ],
          "scatter": [
           {
            "marker": {
             "colorbar": {
              "outlinewidth": 0,
              "ticks": ""
             }
            },
            "type": "scatter"
           }
          ],
          "scatter3d": [
           {
            "line": {
             "colorbar": {
              "outlinewidth": 0,
              "ticks": ""
             }
            },
            "marker": {
             "colorbar": {
              "outlinewidth": 0,
              "ticks": ""
             }
            },
            "type": "scatter3d"
           }
          ],
          "scattercarpet": [
           {
            "marker": {
             "colorbar": {
              "outlinewidth": 0,
              "ticks": ""
             }
            },
            "type": "scattercarpet"
           }
          ],
          "scattergeo": [
           {
            "marker": {
             "colorbar": {
              "outlinewidth": 0,
              "ticks": ""
             }
            },
            "type": "scattergeo"
           }
          ],
          "scattergl": [
           {
            "marker": {
             "colorbar": {
              "outlinewidth": 0,
              "ticks": ""
             }
            },
            "type": "scattergl"
           }
          ],
          "scattermapbox": [
           {
            "marker": {
             "colorbar": {
              "outlinewidth": 0,
              "ticks": ""
             }
            },
            "type": "scattermapbox"
           }
          ],
          "scatterpolar": [
           {
            "marker": {
             "colorbar": {
              "outlinewidth": 0,
              "ticks": ""
             }
            },
            "type": "scatterpolar"
           }
          ],
          "scatterpolargl": [
           {
            "marker": {
             "colorbar": {
              "outlinewidth": 0,
              "ticks": ""
             }
            },
            "type": "scatterpolargl"
           }
          ],
          "scatterternary": [
           {
            "marker": {
             "colorbar": {
              "outlinewidth": 0,
              "ticks": ""
             }
            },
            "type": "scatterternary"
           }
          ],
          "surface": [
           {
            "colorbar": {
             "outlinewidth": 0,
             "ticks": ""
            },
            "colorscale": [
             [
              0,
              "#0d0887"
             ],
             [
              0.1111111111111111,
              "#46039f"
             ],
             [
              0.2222222222222222,
              "#7201a8"
             ],
             [
              0.3333333333333333,
              "#9c179e"
             ],
             [
              0.4444444444444444,
              "#bd3786"
             ],
             [
              0.5555555555555556,
              "#d8576b"
             ],
             [
              0.6666666666666666,
              "#ed7953"
             ],
             [
              0.7777777777777778,
              "#fb9f3a"
             ],
             [
              0.8888888888888888,
              "#fdca26"
             ],
             [
              1,
              "#f0f921"
             ]
            ],
            "type": "surface"
           }
          ],
          "table": [
           {
            "cells": {
             "fill": {
              "color": "#EBF0F8"
             },
             "line": {
              "color": "white"
             }
            },
            "header": {
             "fill": {
              "color": "#C8D4E3"
             },
             "line": {
              "color": "white"
             }
            },
            "type": "table"
           }
          ]
         },
         "layout": {
          "annotationdefaults": {
           "arrowcolor": "#2a3f5f",
           "arrowhead": 0,
           "arrowwidth": 1
          },
          "autotypenumbers": "strict",
          "coloraxis": {
           "colorbar": {
            "outlinewidth": 0,
            "ticks": ""
           }
          },
          "colorscale": {
           "diverging": [
            [
             0,
             "#8e0152"
            ],
            [
             0.1,
             "#c51b7d"
            ],
            [
             0.2,
             "#de77ae"
            ],
            [
             0.3,
             "#f1b6da"
            ],
            [
             0.4,
             "#fde0ef"
            ],
            [
             0.5,
             "#f7f7f7"
            ],
            [
             0.6,
             "#e6f5d0"
            ],
            [
             0.7,
             "#b8e186"
            ],
            [
             0.8,
             "#7fbc41"
            ],
            [
             0.9,
             "#4d9221"
            ],
            [
             1,
             "#276419"
            ]
           ],
           "sequential": [
            [
             0,
             "#0d0887"
            ],
            [
             0.1111111111111111,
             "#46039f"
            ],
            [
             0.2222222222222222,
             "#7201a8"
            ],
            [
             0.3333333333333333,
             "#9c179e"
            ],
            [
             0.4444444444444444,
             "#bd3786"
            ],
            [
             0.5555555555555556,
             "#d8576b"
            ],
            [
             0.6666666666666666,
             "#ed7953"
            ],
            [
             0.7777777777777778,
             "#fb9f3a"
            ],
            [
             0.8888888888888888,
             "#fdca26"
            ],
            [
             1,
             "#f0f921"
            ]
           ],
           "sequentialminus": [
            [
             0,
             "#0d0887"
            ],
            [
             0.1111111111111111,
             "#46039f"
            ],
            [
             0.2222222222222222,
             "#7201a8"
            ],
            [
             0.3333333333333333,
             "#9c179e"
            ],
            [
             0.4444444444444444,
             "#bd3786"
            ],
            [
             0.5555555555555556,
             "#d8576b"
            ],
            [
             0.6666666666666666,
             "#ed7953"
            ],
            [
             0.7777777777777778,
             "#fb9f3a"
            ],
            [
             0.8888888888888888,
             "#fdca26"
            ],
            [
             1,
             "#f0f921"
            ]
           ]
          },
          "colorway": [
           "#636efa",
           "#EF553B",
           "#00cc96",
           "#ab63fa",
           "#FFA15A",
           "#19d3f3",
           "#FF6692",
           "#B6E880",
           "#FF97FF",
           "#FECB52"
          ],
          "font": {
           "color": "#2a3f5f"
          },
          "geo": {
           "bgcolor": "white",
           "lakecolor": "white",
           "landcolor": "#E5ECF6",
           "showlakes": true,
           "showland": true,
           "subunitcolor": "white"
          },
          "hoverlabel": {
           "align": "left"
          },
          "hovermode": "closest",
          "mapbox": {
           "style": "light"
          },
          "paper_bgcolor": "white",
          "plot_bgcolor": "#E5ECF6",
          "polar": {
           "angularaxis": {
            "gridcolor": "white",
            "linecolor": "white",
            "ticks": ""
           },
           "bgcolor": "#E5ECF6",
           "radialaxis": {
            "gridcolor": "white",
            "linecolor": "white",
            "ticks": ""
           }
          },
          "scene": {
           "xaxis": {
            "backgroundcolor": "#E5ECF6",
            "gridcolor": "white",
            "gridwidth": 2,
            "linecolor": "white",
            "showbackground": true,
            "ticks": "",
            "zerolinecolor": "white"
           },
           "yaxis": {
            "backgroundcolor": "#E5ECF6",
            "gridcolor": "white",
            "gridwidth": 2,
            "linecolor": "white",
            "showbackground": true,
            "ticks": "",
            "zerolinecolor": "white"
           },
           "zaxis": {
            "backgroundcolor": "#E5ECF6",
            "gridcolor": "white",
            "gridwidth": 2,
            "linecolor": "white",
            "showbackground": true,
            "ticks": "",
            "zerolinecolor": "white"
           }
          },
          "shapedefaults": {
           "line": {
            "color": "#2a3f5f"
           }
          },
          "ternary": {
           "aaxis": {
            "gridcolor": "white",
            "linecolor": "white",
            "ticks": ""
           },
           "baxis": {
            "gridcolor": "white",
            "linecolor": "white",
            "ticks": ""
           },
           "bgcolor": "#E5ECF6",
           "caxis": {
            "gridcolor": "white",
            "linecolor": "white",
            "ticks": ""
           }
          },
          "title": {
           "x": 0.05
          },
          "xaxis": {
           "automargin": true,
           "gridcolor": "white",
           "linecolor": "white",
           "ticks": "",
           "title": {
            "standoff": 15
           },
           "zerolinecolor": "white",
           "zerolinewidth": 2
          },
          "yaxis": {
           "automargin": true,
           "gridcolor": "white",
           "linecolor": "white",
           "ticks": "",
           "title": {
            "standoff": 15
           },
           "zerolinecolor": "white",
           "zerolinewidth": 2
          }
         }
        }
       }
      },
      "text/html": [
       "<div>                            <div id=\"62c76997-5e74-4e48-8c82-847a0d721c52\" class=\"plotly-graph-div\" style=\"height:525px; width:100%;\"></div>            <script type=\"text/javascript\">                require([\"plotly\"], function(Plotly) {                    window.PLOTLYENV=window.PLOTLYENV || {};                                    if (document.getElementById(\"62c76997-5e74-4e48-8c82-847a0d721c52\")) {                    Plotly.newPlot(                        \"62c76997-5e74-4e48-8c82-847a0d721c52\",                        [{\"link\":{\"color\":\"rgba(252, 230, 112, 1)\",\"source\":[0,1,2,3,4,5,6,7,2,4,4,4,4,8,5,9,10,11,12,13,14,14,0,2,4,5,0,1,3,4,5,1,4,5,0,4,5,0,4,5,0,0,0,0,0,0,0,0,0,0,15,15,15,15,16,16,16,16,17,17,18,18,19,20,20,20,20,21,22,23,23,24,24,24,24,25,25,25,25,26,26,27,27,28,28,28,28,28,28],\"target\":[18,18,18,18,18,18,18,18,19,20,20,20,20,21,22,8,6,7,12,13,14,14,23,23,23,23,26,26,26,26,26,27,27,27,15,15,15,15,15,15,16,16,17,24,24,25,25,28,28,28,29,30,29,30,29,30,29,30,29,30,29,30,30,30,30,30,30,30,30,29,30,29,30,29,30,29,30,29,30,29,30,29,30,29,30,29,30,29,30],\"value\":[8.36,1.9851491392705711,0.5168918636938761,0.2148669183770773,41.98383725475241,10.737026303607482,0.2762198497273948,13.989258299778172,57.889715068493146,78.25727671232877,1.6036246575342463,1.1696465753424656,3.360156164383562,40.14327671232876,0.0041424657534246,40.14327671232876,0.6956843117061744,13.989258299778172,0.2994235616438356,95.4855947827674,0.4475366972546762,0.7620219439741784,1.7982,54.67046486186955,106.63323790796522,57.60618946111715,29.2097,9.207942731284335,0.3546884057033372,65.05490929818916,28.0087980892786,9.900203918065383,12.033600698324062,220.0184580720885,0.00010354600960324889,2.4281573451361094e-05,8.335859280223801e-05,0.00012311518883752296,2.887055244514906e-05,9.911254845455398e-05,0.003906944253351688,0.00513091574568328,0.000211186175856848,0.678825174928435,0.9041290577831688,2.0297119030058326,2.2637394961508326,0.02828691708047163,0.051526354533201105,0.059905959383944905,0.0001372710143069512,7.391516154989679e-05,0.00016321388832919693,8.78844014080291e-05,0.002539513764678597,0.0013674304886730905,0.003335095234694132,0.0017958205109891478,0.0001372710143069512,7.391516154989679e-05,50.741112258984536,27.322137370222443,17.780502224657535,60.97644775351615,0.5244103780821917,0.3588489205479452,0.5609876811919131,6.409973457921151,0.0014208876712328569,108.14696519316644,112.56112703778547,0.44123636370348274,0.23758881122495223,0.5876838875590598,0.31644517022410906,1.3193127369537911,0.7103991660520413,1.4714306724980413,0.7923088236527913,85.69342504089603,46.1426134835594,50.809975164580365,191.14228752389758,0.01838649610230656,0.00990042097816507,0.03349213044658072,0.018034224086620386,0.03893887359956419,0.020967085784380717]},\"node\":{\"color\":\"rgba(209, 155, 30, 1)\",\"label\":[\"EGD\",\"EPD-biomass\",\"EPD-coal\",\"EPD-geothermal\",\"EPD-natgas\",\"EPD-petroleum\",\"EPD-solar\",\"EPD-wind\",\"EPD-other\",\"EPS-other\",\"EPS-solar\",\"EPS-wind\",\"EPS-coal\",\"EPS-natgas\",\"EPS-petroleum\",\"ACI-pumping\",\"AGI-pumping\",\"ALV-pumping\",\"COM\",\"EGS-coal\",\"EGS-natgas\",\"EGS-other\",\"EGS-petroleum\",\"IND\",\"PWS-pumping\",\"PWS-treatment\",\"RES\",\"TRA\",\"WWD-treatment\",\"ESV\",\"REJ\"],\"line\":{\"color\":\"black\",\"width\":1},\"pad\":20,\"thickness\":10},\"type\":\"sankey\",\"valuesuffix\":\"bbtu\"}],                        {\"template\":{\"data\":{\"bar\":[{\"error_x\":{\"color\":\"#2a3f5f\"},\"error_y\":{\"color\":\"#2a3f5f\"},\"marker\":{\"line\":{\"color\":\"#E5ECF6\",\"width\":0.5},\"pattern\":{\"fillmode\":\"overlay\",\"size\":10,\"solidity\":0.2}},\"type\":\"bar\"}],\"barpolar\":[{\"marker\":{\"line\":{\"color\":\"#E5ECF6\",\"width\":0.5},\"pattern\":{\"fillmode\":\"overlay\",\"size\":10,\"solidity\":0.2}},\"type\":\"barpolar\"}],\"carpet\":[{\"aaxis\":{\"endlinecolor\":\"#2a3f5f\",\"gridcolor\":\"white\",\"linecolor\":\"white\",\"minorgridcolor\":\"white\",\"startlinecolor\":\"#2a3f5f\"},\"baxis\":{\"endlinecolor\":\"#2a3f5f\",\"gridcolor\":\"white\",\"linecolor\":\"white\",\"minorgridcolor\":\"white\",\"startlinecolor\":\"#2a3f5f\"},\"type\":\"carpet\"}],\"choropleth\":[{\"colorbar\":{\"outlinewidth\":0,\"ticks\":\"\"},\"type\":\"choropleth\"}],\"contour\":[{\"colorbar\":{\"outlinewidth\":0,\"ticks\":\"\"},\"colorscale\":[[0.0,\"#0d0887\"],[0.1111111111111111,\"#46039f\"],[0.2222222222222222,\"#7201a8\"],[0.3333333333333333,\"#9c179e\"],[0.4444444444444444,\"#bd3786\"],[0.5555555555555556,\"#d8576b\"],[0.6666666666666666,\"#ed7953\"],[0.7777777777777778,\"#fb9f3a\"],[0.8888888888888888,\"#fdca26\"],[1.0,\"#f0f921\"]],\"type\":\"contour\"}],\"contourcarpet\":[{\"colorbar\":{\"outlinewidth\":0,\"ticks\":\"\"},\"type\":\"contourcarpet\"}],\"heatmap\":[{\"colorbar\":{\"outlinewidth\":0,\"ticks\":\"\"},\"colorscale\":[[0.0,\"#0d0887\"],[0.1111111111111111,\"#46039f\"],[0.2222222222222222,\"#7201a8\"],[0.3333333333333333,\"#9c179e\"],[0.4444444444444444,\"#bd3786\"],[0.5555555555555556,\"#d8576b\"],[0.6666666666666666,\"#ed7953\"],[0.7777777777777778,\"#fb9f3a\"],[0.8888888888888888,\"#fdca26\"],[1.0,\"#f0f921\"]],\"type\":\"heatmap\"}],\"heatmapgl\":[{\"colorbar\":{\"outlinewidth\":0,\"ticks\":\"\"},\"colorscale\":[[0.0,\"#0d0887\"],[0.1111111111111111,\"#46039f\"],[0.2222222222222222,\"#7201a8\"],[0.3333333333333333,\"#9c179e\"],[0.4444444444444444,\"#bd3786\"],[0.5555555555555556,\"#d8576b\"],[0.6666666666666666,\"#ed7953\"],[0.7777777777777778,\"#fb9f3a\"],[0.8888888888888888,\"#fdca26\"],[1.0,\"#f0f921\"]],\"type\":\"heatmapgl\"}],\"histogram\":[{\"marker\":{\"pattern\":{\"fillmode\":\"overlay\",\"size\":10,\"solidity\":0.2}},\"type\":\"histogram\"}],\"histogram2d\":[{\"colorbar\":{\"outlinewidth\":0,\"ticks\":\"\"},\"colorscale\":[[0.0,\"#0d0887\"],[0.1111111111111111,\"#46039f\"],[0.2222222222222222,\"#7201a8\"],[0.3333333333333333,\"#9c179e\"],[0.4444444444444444,\"#bd3786\"],[0.5555555555555556,\"#d8576b\"],[0.6666666666666666,\"#ed7953\"],[0.7777777777777778,\"#fb9f3a\"],[0.8888888888888888,\"#fdca26\"],[1.0,\"#f0f921\"]],\"type\":\"histogram2d\"}],\"histogram2dcontour\":[{\"colorbar\":{\"outlinewidth\":0,\"ticks\":\"\"},\"colorscale\":[[0.0,\"#0d0887\"],[0.1111111111111111,\"#46039f\"],[0.2222222222222222,\"#7201a8\"],[0.3333333333333333,\"#9c179e\"],[0.4444444444444444,\"#bd3786\"],[0.5555555555555556,\"#d8576b\"],[0.6666666666666666,\"#ed7953\"],[0.7777777777777778,\"#fb9f3a\"],[0.8888888888888888,\"#fdca26\"],[1.0,\"#f0f921\"]],\"type\":\"histogram2dcontour\"}],\"mesh3d\":[{\"colorbar\":{\"outlinewidth\":0,\"ticks\":\"\"},\"type\":\"mesh3d\"}],\"parcoords\":[{\"line\":{\"colorbar\":{\"outlinewidth\":0,\"ticks\":\"\"}},\"type\":\"parcoords\"}],\"pie\":[{\"automargin\":true,\"type\":\"pie\"}],\"scatter\":[{\"marker\":{\"colorbar\":{\"outlinewidth\":0,\"ticks\":\"\"}},\"type\":\"scatter\"}],\"scatter3d\":[{\"line\":{\"colorbar\":{\"outlinewidth\":0,\"ticks\":\"\"}},\"marker\":{\"colorbar\":{\"outlinewidth\":0,\"ticks\":\"\"}},\"type\":\"scatter3d\"}],\"scattercarpet\":[{\"marker\":{\"colorbar\":{\"outlinewidth\":0,\"ticks\":\"\"}},\"type\":\"scattercarpet\"}],\"scattergeo\":[{\"marker\":{\"colorbar\":{\"outlinewidth\":0,\"ticks\":\"\"}},\"type\":\"scattergeo\"}],\"scattergl\":[{\"marker\":{\"colorbar\":{\"outlinewidth\":0,\"ticks\":\"\"}},\"type\":\"scattergl\"}],\"scattermapbox\":[{\"marker\":{\"colorbar\":{\"outlinewidth\":0,\"ticks\":\"\"}},\"type\":\"scattermapbox\"}],\"scatterpolar\":[{\"marker\":{\"colorbar\":{\"outlinewidth\":0,\"ticks\":\"\"}},\"type\":\"scatterpolar\"}],\"scatterpolargl\":[{\"marker\":{\"colorbar\":{\"outlinewidth\":0,\"ticks\":\"\"}},\"type\":\"scatterpolargl\"}],\"scatterternary\":[{\"marker\":{\"colorbar\":{\"outlinewidth\":0,\"ticks\":\"\"}},\"type\":\"scatterternary\"}],\"surface\":[{\"colorbar\":{\"outlinewidth\":0,\"ticks\":\"\"},\"colorscale\":[[0.0,\"#0d0887\"],[0.1111111111111111,\"#46039f\"],[0.2222222222222222,\"#7201a8\"],[0.3333333333333333,\"#9c179e\"],[0.4444444444444444,\"#bd3786\"],[0.5555555555555556,\"#d8576b\"],[0.6666666666666666,\"#ed7953\"],[0.7777777777777778,\"#fb9f3a\"],[0.8888888888888888,\"#fdca26\"],[1.0,\"#f0f921\"]],\"type\":\"surface\"}],\"table\":[{\"cells\":{\"fill\":{\"color\":\"#EBF0F8\"},\"line\":{\"color\":\"white\"}},\"header\":{\"fill\":{\"color\":\"#C8D4E3\"},\"line\":{\"color\":\"white\"}},\"type\":\"table\"}]},\"layout\":{\"annotationdefaults\":{\"arrowcolor\":\"#2a3f5f\",\"arrowhead\":0,\"arrowwidth\":1},\"autotypenumbers\":\"strict\",\"coloraxis\":{\"colorbar\":{\"outlinewidth\":0,\"ticks\":\"\"}},\"colorscale\":{\"diverging\":[[0,\"#8e0152\"],[0.1,\"#c51b7d\"],[0.2,\"#de77ae\"],[0.3,\"#f1b6da\"],[0.4,\"#fde0ef\"],[0.5,\"#f7f7f7\"],[0.6,\"#e6f5d0\"],[0.7,\"#b8e186\"],[0.8,\"#7fbc41\"],[0.9,\"#4d9221\"],[1,\"#276419\"]],\"sequential\":[[0.0,\"#0d0887\"],[0.1111111111111111,\"#46039f\"],[0.2222222222222222,\"#7201a8\"],[0.3333333333333333,\"#9c179e\"],[0.4444444444444444,\"#bd3786\"],[0.5555555555555556,\"#d8576b\"],[0.6666666666666666,\"#ed7953\"],[0.7777777777777778,\"#fb9f3a\"],[0.8888888888888888,\"#fdca26\"],[1.0,\"#f0f921\"]],\"sequentialminus\":[[0.0,\"#0d0887\"],[0.1111111111111111,\"#46039f\"],[0.2222222222222222,\"#7201a8\"],[0.3333333333333333,\"#9c179e\"],[0.4444444444444444,\"#bd3786\"],[0.5555555555555556,\"#d8576b\"],[0.6666666666666666,\"#ed7953\"],[0.7777777777777778,\"#fb9f3a\"],[0.8888888888888888,\"#fdca26\"],[1.0,\"#f0f921\"]]},\"colorway\":[\"#636efa\",\"#EF553B\",\"#00cc96\",\"#ab63fa\",\"#FFA15A\",\"#19d3f3\",\"#FF6692\",\"#B6E880\",\"#FF97FF\",\"#FECB52\"],\"font\":{\"color\":\"#2a3f5f\"},\"geo\":{\"bgcolor\":\"white\",\"lakecolor\":\"white\",\"landcolor\":\"#E5ECF6\",\"showlakes\":true,\"showland\":true,\"subunitcolor\":\"white\"},\"hoverlabel\":{\"align\":\"left\"},\"hovermode\":\"closest\",\"mapbox\":{\"style\":\"light\"},\"paper_bgcolor\":\"white\",\"plot_bgcolor\":\"#E5ECF6\",\"polar\":{\"angularaxis\":{\"gridcolor\":\"white\",\"linecolor\":\"white\",\"ticks\":\"\"},\"bgcolor\":\"#E5ECF6\",\"radialaxis\":{\"gridcolor\":\"white\",\"linecolor\":\"white\",\"ticks\":\"\"}},\"scene\":{\"xaxis\":{\"backgroundcolor\":\"#E5ECF6\",\"gridcolor\":\"white\",\"gridwidth\":2,\"linecolor\":\"white\",\"showbackground\":true,\"ticks\":\"\",\"zerolinecolor\":\"white\"},\"yaxis\":{\"backgroundcolor\":\"#E5ECF6\",\"gridcolor\":\"white\",\"gridwidth\":2,\"linecolor\":\"white\",\"showbackground\":true,\"ticks\":\"\",\"zerolinecolor\":\"white\"},\"zaxis\":{\"backgroundcolor\":\"#E5ECF6\",\"gridcolor\":\"white\",\"gridwidth\":2,\"linecolor\":\"white\",\"showbackground\":true,\"ticks\":\"\",\"zerolinecolor\":\"white\"}},\"shapedefaults\":{\"line\":{\"color\":\"#2a3f5f\"}},\"ternary\":{\"aaxis\":{\"gridcolor\":\"white\",\"linecolor\":\"white\",\"ticks\":\"\"},\"baxis\":{\"gridcolor\":\"white\",\"linecolor\":\"white\",\"ticks\":\"\"},\"bgcolor\":\"#E5ECF6\",\"caxis\":{\"gridcolor\":\"white\",\"linecolor\":\"white\",\"ticks\":\"\"}},\"title\":{\"x\":0.05},\"xaxis\":{\"automargin\":true,\"gridcolor\":\"white\",\"linecolor\":\"white\",\"ticks\":\"\",\"title\":{\"standoff\":15},\"zerolinecolor\":\"white\",\"zerolinewidth\":2},\"yaxis\":{\"automargin\":true,\"gridcolor\":\"white\",\"linecolor\":\"white\",\"ticks\":\"\",\"title\":{\"standoff\":15},\"zerolinecolor\":\"white\",\"zerolinewidth\":2}}}},                        {\"responsive\": true}                    ).then(function(){\n",
       "                            \n",
       "var gd = document.getElementById('62c76997-5e74-4e48-8c82-847a0d721c52');\n",
       "var x = new MutationObserver(function (mutations, observer) {{\n",
       "        var display = window.getComputedStyle(gd).display;\n",
       "        if (!display || display === 'none') {{\n",
       "            console.log([gd, 'removed!']);\n",
       "            Plotly.purge(gd);\n",
       "            observer.disconnect();\n",
       "        }}\n",
       "}});\n",
       "\n",
       "// Listen for the removal of the full notebook cells\n",
       "var notebookContainer = gd.closest('#notebook-container');\n",
       "if (notebookContainer) {{\n",
       "    x.observe(notebookContainer, {childList: true});\n",
       "}}\n",
       "\n",
       "// Listen for the clearing of the current output cell\n",
       "var outputEl = gd.closest('.output');\n",
       "if (outputEl) {{\n",
       "    x.observe(outputEl, {childList: true});\n",
       "}}\n",
       "\n",
       "                        })                };                });            </script>        </div>"
      ]
     },
     "metadata": {},
     "output_type": "display_data"
    }
   ],
   "source": [
    "\n",
    "viz = flow.plot_sankey(data=df, region_name=region, \n",
    "                       unit_type1 = 'mgd', unit_type2='bbtu', output_level=2, strip='total')"
   ]
  },
  {
   "cell_type": "code",
   "execution_count": 8,
   "id": "61d2944a",
   "metadata": {},
   "outputs": [],
   "source": [
    "def plot_sankey(data, unit_type1, output_level,region_name=None):\n",
    "    \"\"\"\n",
    "    Must give it dataframe, a region, a unit type, and a level of output\n",
    "    \"\"\"\n",
    "    df = data\n",
    "    df_1 = df[df.units == unit_type1]\n",
    "\n",
    "    # TODO need to make sure this is unique if there's no region name specified\n",
    "    if region_name is None:\n",
    "        df_1 = df_1\n",
    "    else:\n",
    "        df_1 = df_1[df_1.region == region_name]\n",
    "\n",
    "    group_results(df_1, output_level=output_level)\n",
    "\n",
    "    available_levels = [1, 2, 3, 4, 5]\n",
    "    remove = f'-{strip}'\n",
    "\n",
    "\n",
    "    df_1['S1234'] = df_1['S1'] + '-' + df_1['S2']+ '-' + df_1['S3']+ '-' + df_1['S4']\n",
    "    df_1['T1234'] = df_1['T1'] + '-' + df_1['T2']+ '-' + df_1['T3']+ '-' + df_1['T4']\n",
    "\n",
    "            #if strip is None:\n",
    "            #    df_1['S1234'] = df_1['S1234']\n",
    "            #    df_1['T1234'] = df_1['T1234']\n",
    "            #else:\n",
    "            #    df_1['S1234'] = df_1['S1234'].str.strip(remove)\n",
    "            #    df_1['T1234'] = df_1['T1234'].str.strip(remove)\n",
    "\n",
    "    sankey_number = pd.unique(df[['S1234', 'T1234']].values.ravel('K'))\n",
    "\n",
    "    var_dict = dict()\n",
    "    for index, value in enumerate(sankey_number):\n",
    "        var_dict[index] = value\n",
    "    var_dict = {y: x for x, y in var_dict.items()}\n",
    "\n",
    "    df_1[\"source\"] = df_1[\"S1234\"].apply(lambda x: var_dict.get(x))\n",
    "    df_1[\"target\"] = df_1[\"T1234\"].apply(lambda x: var_dict.get(x))\n",
    "\n",
    "            \n",
    "    source_list = df_1['source'].tolist()\n",
    "    target_list = df_1['target'].tolist()\n",
    "    value_list = df_1['value'].to_list()\n",
    "    return df_1"
   ]
  },
  {
   "cell_type": "code",
   "execution_count": 12,
   "id": "51193535",
   "metadata": {},
   "outputs": [
    {
     "data": {
      "text/html": [
       "<div>\n",
       "<style scoped>\n",
       "    .dataframe tbody tr th:only-of-type {\n",
       "        vertical-align: middle;\n",
       "    }\n",
       "\n",
       "    .dataframe tbody tr th {\n",
       "        vertical-align: top;\n",
       "    }\n",
       "\n",
       "    .dataframe thead th {\n",
       "        text-align: right;\n",
       "    }\n",
       "</style>\n",
       "<table border=\"1\" class=\"dataframe\">\n",
       "  <thead>\n",
       "    <tr style=\"text-align: right;\">\n",
       "      <th></th>\n",
       "      <th>region</th>\n",
       "      <th>S1</th>\n",
       "      <th>S2</th>\n",
       "      <th>S3</th>\n",
       "      <th>S4</th>\n",
       "      <th>S5</th>\n",
       "      <th>T1</th>\n",
       "      <th>T2</th>\n",
       "      <th>T3</th>\n",
       "      <th>T4</th>\n",
       "      <th>T5</th>\n",
       "      <th>units</th>\n",
       "      <th>value</th>\n",
       "    </tr>\n",
       "  </thead>\n",
       "  <tbody>\n",
       "    <tr>\n",
       "      <th>0</th>\n",
       "      <td>06001</td>\n",
       "      <td>WSW</td>\n",
       "      <td>fresh</td>\n",
       "      <td>groundwater</td>\n",
       "      <td>total</td>\n",
       "      <td>total</td>\n",
       "      <td>ACI</td>\n",
       "      <td>fresh</td>\n",
       "      <td>groundwater</td>\n",
       "      <td>withdrawal</td>\n",
       "      <td>total</td>\n",
       "      <td>mgd</td>\n",
       "      <td>5.380000</td>\n",
       "    </tr>\n",
       "    <tr>\n",
       "      <th>1</th>\n",
       "      <td>06001</td>\n",
       "      <td>WSI</td>\n",
       "      <td>ibt</td>\n",
       "      <td>total</td>\n",
       "      <td>total</td>\n",
       "      <td>total</td>\n",
       "      <td>ACI</td>\n",
       "      <td>fresh</td>\n",
       "      <td>surfacewater</td>\n",
       "      <td>import</td>\n",
       "      <td>total</td>\n",
       "      <td>mgd</td>\n",
       "      <td>0.003493</td>\n",
       "    </tr>\n",
       "    <tr>\n",
       "      <th>2</th>\n",
       "      <td>06001</td>\n",
       "      <td>WSW</td>\n",
       "      <td>fresh</td>\n",
       "      <td>surfacewater</td>\n",
       "      <td>total</td>\n",
       "      <td>total</td>\n",
       "      <td>ACI</td>\n",
       "      <td>fresh</td>\n",
       "      <td>surfacewater</td>\n",
       "      <td>withdrawal</td>\n",
       "      <td>total</td>\n",
       "      <td>mgd</td>\n",
       "      <td>2.260000</td>\n",
       "    </tr>\n",
       "    <tr>\n",
       "      <th>3</th>\n",
       "      <td>06001</td>\n",
       "      <td>WSW</td>\n",
       "      <td>fresh</td>\n",
       "      <td>groundwater</td>\n",
       "      <td>total</td>\n",
       "      <td>total</td>\n",
       "      <td>AGI</td>\n",
       "      <td>fresh</td>\n",
       "      <td>groundwater</td>\n",
       "      <td>withdrawal</td>\n",
       "      <td>total</td>\n",
       "      <td>mgd</td>\n",
       "      <td>1.050000</td>\n",
       "    </tr>\n",
       "    <tr>\n",
       "      <th>4</th>\n",
       "      <td>06001</td>\n",
       "      <td>WSW</td>\n",
       "      <td>fresh</td>\n",
       "      <td>surfacewater</td>\n",
       "      <td>total</td>\n",
       "      <td>total</td>\n",
       "      <td>AGI</td>\n",
       "      <td>fresh</td>\n",
       "      <td>surfacewater</td>\n",
       "      <td>withdrawal</td>\n",
       "      <td>total</td>\n",
       "      <td>mgd</td>\n",
       "      <td>0.820000</td>\n",
       "    </tr>\n",
       "    <tr>\n",
       "      <th>...</th>\n",
       "      <td>...</td>\n",
       "      <td>...</td>\n",
       "      <td>...</td>\n",
       "      <td>...</td>\n",
       "      <td>...</td>\n",
       "      <td>...</td>\n",
       "      <td>...</td>\n",
       "      <td>...</td>\n",
       "      <td>...</td>\n",
       "      <td>...</td>\n",
       "      <td>...</td>\n",
       "      <td>...</td>\n",
       "      <td>...</td>\n",
       "    </tr>\n",
       "    <tr>\n",
       "      <th>118</th>\n",
       "      <td>06001</td>\n",
       "      <td>WWD</td>\n",
       "      <td>primary</td>\n",
       "      <td>municipal</td>\n",
       "      <td>total</td>\n",
       "      <td>total</td>\n",
       "      <td>SRD</td>\n",
       "      <td>total</td>\n",
       "      <td>total</td>\n",
       "      <td>total</td>\n",
       "      <td>total</td>\n",
       "      <td>mgd</td>\n",
       "      <td>21.056625</td>\n",
       "    </tr>\n",
       "    <tr>\n",
       "      <th>119</th>\n",
       "      <td>06001</td>\n",
       "      <td>WWD</td>\n",
       "      <td>secondary</td>\n",
       "      <td>municipal</td>\n",
       "      <td>total</td>\n",
       "      <td>total</td>\n",
       "      <td>CMP</td>\n",
       "      <td>total</td>\n",
       "      <td>total</td>\n",
       "      <td>total</td>\n",
       "      <td>total</td>\n",
       "      <td>mgd</td>\n",
       "      <td>1.548281</td>\n",
       "    </tr>\n",
       "    <tr>\n",
       "      <th>120</th>\n",
       "      <td>06001</td>\n",
       "      <td>WWD</td>\n",
       "      <td>secondary</td>\n",
       "      <td>municipal</td>\n",
       "      <td>total</td>\n",
       "      <td>total</td>\n",
       "      <td>GWD</td>\n",
       "      <td>total</td>\n",
       "      <td>total</td>\n",
       "      <td>total</td>\n",
       "      <td>total</td>\n",
       "      <td>mgd</td>\n",
       "      <td>5.883469</td>\n",
       "    </tr>\n",
       "    <tr>\n",
       "      <th>121</th>\n",
       "      <td>06001</td>\n",
       "      <td>WWD</td>\n",
       "      <td>secondary</td>\n",
       "      <td>municipal</td>\n",
       "      <td>total</td>\n",
       "      <td>total</td>\n",
       "      <td>IRX</td>\n",
       "      <td>total</td>\n",
       "      <td>total</td>\n",
       "      <td>total</td>\n",
       "      <td>total</td>\n",
       "      <td>mgd</td>\n",
       "      <td>2.477250</td>\n",
       "    </tr>\n",
       "    <tr>\n",
       "      <th>122</th>\n",
       "      <td>06001</td>\n",
       "      <td>WWD</td>\n",
       "      <td>secondary</td>\n",
       "      <td>municipal</td>\n",
       "      <td>total</td>\n",
       "      <td>total</td>\n",
       "      <td>SRD</td>\n",
       "      <td>total</td>\n",
       "      <td>total</td>\n",
       "      <td>total</td>\n",
       "      <td>total</td>\n",
       "      <td>mgd</td>\n",
       "      <td>21.056625</td>\n",
       "    </tr>\n",
       "  </tbody>\n",
       "</table>\n",
       "<p>70 rows × 13 columns</p>\n",
       "</div>"
      ],
      "text/plain": [
       "    region   S1         S2            S3     S4     S5   T1     T2  \\\n",
       "0    06001  WSW      fresh   groundwater  total  total  ACI  fresh   \n",
       "1    06001  WSI        ibt         total  total  total  ACI  fresh   \n",
       "2    06001  WSW      fresh  surfacewater  total  total  ACI  fresh   \n",
       "3    06001  WSW      fresh   groundwater  total  total  AGI  fresh   \n",
       "4    06001  WSW      fresh  surfacewater  total  total  AGI  fresh   \n",
       "..     ...  ...        ...           ...    ...    ...  ...    ...   \n",
       "118  06001  WWD    primary     municipal  total  total  SRD  total   \n",
       "119  06001  WWD  secondary     municipal  total  total  CMP  total   \n",
       "120  06001  WWD  secondary     municipal  total  total  GWD  total   \n",
       "121  06001  WWD  secondary     municipal  total  total  IRX  total   \n",
       "122  06001  WWD  secondary     municipal  total  total  SRD  total   \n",
       "\n",
       "               T3          T4     T5 units      value  \n",
       "0     groundwater  withdrawal  total   mgd   5.380000  \n",
       "1    surfacewater      import  total   mgd   0.003493  \n",
       "2    surfacewater  withdrawal  total   mgd   2.260000  \n",
       "3     groundwater  withdrawal  total   mgd   1.050000  \n",
       "4    surfacewater  withdrawal  total   mgd   0.820000  \n",
       "..            ...         ...    ...   ...        ...  \n",
       "118         total       total  total   mgd  21.056625  \n",
       "119         total       total  total   mgd   1.548281  \n",
       "120         total       total  total   mgd   5.883469  \n",
       "121         total       total  total   mgd   2.477250  \n",
       "122         total       total  total   mgd  21.056625  \n",
       "\n",
       "[70 rows x 13 columns]"
      ]
     },
     "execution_count": 12,
     "metadata": {},
     "output_type": "execute_result"
    }
   ],
   "source": [
    "df_1 = df[df.units == 'mgd']\n",
    "df_1"
   ]
  },
  {
   "cell_type": "code",
   "execution_count": null,
   "id": "bde7afb6",
   "metadata": {},
   "outputs": [],
   "source": []
  },
  {
   "cell_type": "code",
   "execution_count": null,
   "id": "63a1e749",
   "metadata": {},
   "outputs": [],
   "source": []
  },
  {
   "cell_type": "code",
   "execution_count": null,
   "id": "5bfa7837",
   "metadata": {},
   "outputs": [],
   "source": []
  },
  {
   "cell_type": "code",
   "execution_count": null,
   "id": "b1091226",
   "metadata": {},
   "outputs": [],
   "source": []
  },
  {
   "cell_type": "code",
   "execution_count": null,
   "id": "ffef60e7",
   "metadata": {},
   "outputs": [],
   "source": []
  },
  {
   "cell_type": "code",
   "execution_count": null,
   "id": "963bdd27",
   "metadata": {},
   "outputs": [],
   "source": []
  },
  {
   "cell_type": "code",
   "execution_count": null,
   "id": "409f1f9f",
   "metadata": {},
   "outputs": [],
   "source": []
  },
  {
   "cell_type": "code",
   "execution_count": null,
   "id": "2aa6bf37",
   "metadata": {},
   "outputs": [],
   "source": []
  },
  {
   "cell_type": "code",
   "execution_count": null,
   "id": "a7a4f953",
   "metadata": {},
   "outputs": [],
   "source": []
  },
  {
   "cell_type": "code",
   "execution_count": null,
   "id": "9db2dfbf",
   "metadata": {},
   "outputs": [],
   "source": []
  },
  {
   "cell_type": "code",
   "execution_count": null,
   "id": "fa4c7842",
   "metadata": {},
   "outputs": [],
   "source": [
    "\n",
    "\n"
   ]
  },
  {
   "cell_type": "code",
   "execution_count": null,
   "id": "29996408-edb9-47dd-8a09-5860e94c7160",
   "metadata": {},
   "outputs": [],
   "source": [
    "df2 = df.groupby(['S1','t1','units'], as_index=False).sum()\n",
    "df2"
   ]
  },
  {
   "cell_type": "code",
   "execution_count": null,
   "id": "f9990ee6-fce3-4c99-a592-470c028ee4f4",
   "metadata": {},
   "outputs": [],
   "source": [
    "df = flow.prep_water_use_2015()\n",
    "df"
   ]
  },
  {
   "cell_type": "code",
   "execution_count": null,
   "id": "60ff21a6-9cb5-4590-87bf-cd7131fbeaa5",
   "metadata": {},
   "outputs": [],
   "source": []
  },
  {
   "cell_type": "code",
   "execution_count": null,
   "id": "2125c393-a48f-4c5f-a5bf-a2ee4919e8a4",
   "metadata": {},
   "outputs": [],
   "source": []
  },
  {
   "cell_type": "code",
   "execution_count": null,
   "id": "be18127c-5ffc-42de-8959-5b1a03c40c0a",
   "metadata": {},
   "outputs": [],
   "source": [
    "df2.to_csv(r\"C:\\Users\\mong275\\Local Files\\Repos\\test_output.csv\", index=False)"
   ]
  },
  {
   "cell_type": "code",
   "execution_count": null,
   "id": "abf1a541-6797-4375-aa8b-2ca7e1eafe44",
   "metadata": {},
   "outputs": [],
   "source": [
    "df.to_csv(r\"C:\\Users\\mong275\\Local Files\\Repos\\flow\\sample_data\\full_output.csv\")"
   ]
  },
  {
   "cell_type": "code",
   "execution_count": null,
   "id": "9d56ff8e-363e-4768-be96-786c43136fee",
   "metadata": {},
   "outputs": [],
   "source": [
    "df2 = df.copy()\n",
    "df2 = df2[df.region == '41071']\n",
    "df2 = df2[df2.t1 == 'WWD']\n",
    "df2 = df2[df2.units == 'bbtu']\n",
    "df2.sort_values(by=['value'], inplace=True, ascending=False)\n",
    "\n",
    "df2.replace('total', \"\", inplace=True)\n",
    "df2['source_name'] = df2['S1'] +\" \" + df2['S2'] +\" \" + df2['S3'] +\" \" +df2['S4'] +\" \" +df2['S5']\n",
    "df2['source_name'] = df2['source_name'].str.strip()\n",
    "df2['target_name'] = df2['t1'] +\" \" + df2['t2'] +\" \" + df2['t3'] +\" \" +df2['t4'] +\" \" +df2['t5']\n",
    "df2['target_name'] = df2['target_name'].str.strip()\n",
    "df2['flow_name'] = df2['source_name'] + ' to ' + df2['target_name']\n",
    "df2['flow_name'] = df2['flow_name'].str.strip()\n",
    "\n",
    "flow_list = df2['flow_name'].head().to_list()\n",
    "value_list = df2['value'].round(4).head().to_list()\n",
    "\n",
    "dictionary = dict(zip(flow_list, value_list))\n",
    "\n",
    "\n",
    "#print(f'The top flows to {sector_name} in {unit_type} in {region_name} are: ')\n",
    "print(f'The top bbtu flows to WWD in 41071 are: ')\n",
    "for name in dictionary:\n",
    "    print(f'{name}        {dictionary[name]}  bbtu')\n",
    "        "
   ]
  },
  {
   "cell_type": "code",
   "execution_count": null,
   "id": "e2b7675b-0d1d-48bc-9bae-b9eeb1c232b8",
   "metadata": {},
   "outputs": [],
   "source": []
  },
  {
   "cell_type": "code",
   "execution_count": null,
   "id": "6c8b7401-fcd5-4483-bd17-cdebf7c9bd1b",
   "metadata": {},
   "outputs": [],
   "source": [
    "d = flow.calculate()\n",
    "d"
   ]
  },
  {
   "cell_type": "code",
   "execution_count": null,
   "id": "03856543-cce9-493b-9dda-5ea8ec33f15e",
   "metadata": {},
   "outputs": [],
   "source": [
    "d['1_PWS_fresh_surfacewater_total_total_mgd']"
   ]
  },
  {
   "cell_type": "code",
   "execution_count": null,
   "id": "96213a8c-4062-4ef3-9e49-1ef948e1008c",
   "metadata": {},
   "outputs": [],
   "source": [
    "d = pd.read_csv(r\"C:\\Users\\mong275\\Local Files\\Repos\\flow\\flow\\data\\configuration_data\\test_data_01-28.csv\")\n",
    "d\n",
    "n = flow.construct_nested_dictionary(d)\n",
    "n"
   ]
  },
  {
   "cell_type": "code",
   "execution_count": null,
   "id": "bdb2c0c7-c1c1-451b-944b-18c5704d0901",
   "metadata": {},
   "outputs": [],
   "source": [
    "d = flow.read_config('baseline', 'file1')\n",
    "d"
   ]
  },
  {
   "cell_type": "code",
   "execution_count": null,
   "id": "e75be887-857b-4631-b4b8-d52f7a7b54f4",
   "metadata": {},
   "outputs": [],
   "source": [
    "with open(r'C:\\Users\\mong275\\Local Files\\Repos\\flow\\flow\\data\\configuration_data\\config.yml') as file:\n",
    "    dict_name = yaml.safe_load(file)\n",
    "dict_name['collect_water']['file2']['path']"
   ]
  },
  {
   "cell_type": "code",
   "execution_count": null,
   "id": "520cca29-9e85-4203-a4c3-e626fc460db9",
   "metadata": {},
   "outputs": [],
   "source": [
    "with open('flow/configuration.yml', 'r') as file:\n",
    "    prime_service = yaml.safe_load(file)\n",
    "prime_service['rest']['url']"
   ]
  },
  {
   "cell_type": "code",
   "execution_count": null,
   "id": "1e74fcbb-392c-4e0b-a55b-0d7dd76a952b",
   "metadata": {},
   "outputs": [],
   "source": [
    "b = flow.calc_energy_direct_demand_water_use()\n",
    "b\n",
    "for columns in b.columns:\n",
    "    print (columns)\n",
    "b"
   ]
  },
  {
   "cell_type": "code",
   "execution_count": null,
   "id": "5070e3d1-abf1-44d8-a17b-2eba89737f08",
   "metadata": {},
   "outputs": [],
   "source": [
    "split_types = flow.test_EP_flows()\n",
    "split_types"
   ]
  },
  {
   "cell_type": "code",
   "execution_count": null,
   "id": "bfac5df4-6479-441b-bf83-b752a1784ef4",
   "metadata": {},
   "outputs": [],
   "source": [
    "target_types = flow.test_water_sector_energy_discharge()\n",
    "split_dict = flow.construct_nested_dictionary(target_types)\n",
    "\n",
    "for x1 in split_dict:\n",
    "    l1_energy_name = f'{x1}_bbtu'\n",
    "    for x2 in split_dict[x1]:\n",
    "        l2_energy_name = f'{x1}_{x2}_bbtu'\n",
    "        for x3 in split_dict[x1][x2]:\n",
    "            l3_energy_name = f'{x1}_{x2}_{x3}_bbtu'\n",
    "            for x4 in split_dict[x1][x2][x3]:\n",
    "                l4_energy_name = f'{x1}_{x2}_{x3}_{x4}_bbtu'\n",
    "                for x5 in split_dict[x1][x2][x3][x4]:\n",
    "                    l5_energy_name = f'{x1}_{x2}_{x3}_{x4}_{x5}_mgd'\n",
    "                    if l5_energy_name in l5_dict:\n",
    "                        for m_type in split_dict[x1][x2][x3][x4][x5]:\n",
    "                            print(split_dict[x1][x2][x3][x4][x5][m_type])"
   ]
  },
  {
   "cell_type": "code",
   "execution_count": null,
   "id": "47ce08bd-79f0-4d3e-8382-32909426adf4",
   "metadata": {},
   "outputs": [],
   "source": [
    "\n",
    "p = flow.test_ww_param()\n",
    "#f = flow.test_EP_flows()\n",
    "\n",
    "d = flow.calc_collect_water_use()\n",
    "for col in d.columns:\n",
    "    print(col)"
   ]
  },
  {
   "cell_type": "code",
   "execution_count": null,
   "id": "48a09b64-9caf-4bcc-85a7-d2d7ff62fe76",
   "metadata": {},
   "outputs": [],
   "source": [
    "b = flow.test_water_sector_param()\n",
    "d = flow.construct_nested_dictionary(b)\n",
    "\n",
    "\n",
    "for x1 in d:\n",
    "    l1_demand_name = f'{x1}_mgd'\n",
    "    l1_demand_value = 0\n",
    "    for x2 in d[x1]:\n",
    "        l2_demand_name = f'{x1}_{x2}_mgd'\n",
    "        l2_demand_value = 0\n",
    "        for x3 in d[x1][x2]:\n",
    "            l3_demand_name = f'{x1}_{x2}_{x3}_mgd'\n",
    "            l3_demand_value = 0\n",
    "            for x4 in d[x1][x2][x3]:\n",
    "                l4_demand_name = f'{x1}_{x2}_{x3}_{x4}_mgd'\n",
    "                l4_demand_value = 0\n",
    "                for x5 in d[x1][x2][x3][x4]:\n",
    "                    l5_demand_name = f'{x1}_{x2}_{x3}_{x4}_{x5}_mgd'\n",
    "                    l5_demand_value = 0\n",
    "                    for s1 in d[x1][x2][x3][x4][x5]:\n",
    "                        for s2 in d[x1][x2][x3][x4][x5][s1]:\n",
    "                            l1_supply_name = f'{s1}_to_{x1}_mgd'\n",
    "\n",
    "                            for s3 in d[x1][x2][x3][x4][x5][s1][s2]:\n",
    "                                l2_supply_name = f'{s1}_{s2}_to_{x1}_{x2}_mgd'\n",
    "                                for s4 in d[x1][x2][x3][x4][x5][s1][s2][s3]:\n",
    "                                    l3_supply_name = f'{s1}_{s2}_{s3}_to_{x1}_{x2}_{x3}_mgd'\n",
    "                                    l5_demand_value = 0\n",
    "                                    for s5 in d[x1][x2][x3][x4][x5][s1][s2][s3][s4]:\n",
    "                                        l4_supply_name = f'{s1}_{s2}_{s3}_{s4}_to_{x1}_{x2}_{x3}_{x4}_mgd'\n",
    "                                        l5_supply_name = f'{s1}_{s2}_{s3}_{s4}_{s5}_to_{x1}_{x2}_{x3}_{x4}_{x5}_mgd'\n",
    "                                        print(l5_supply_name)"
   ]
  },
  {
   "cell_type": "code",
   "execution_count": null,
   "id": "69cc54be-6a46-4bd2-8e67-65573815a90f",
   "metadata": {
    "tags": []
   },
   "outputs": [],
   "source": [
    "\n",
    "#pd.set_option('display.max_rows', None)\n",
    "data = flow.configure_data()\n",
    "source_parameters = flow.get_water_demand_source_parameters()\n",
    "target_parameters = flow.get_water_demand_target_parameters()\n",
    "x = flow.calc_water_to_nonwater_sectors(data=data, source_parameters=source_parameters, target_parameters=target_parameters, output='l5')\n",
    "x.sum()"
   ]
  },
  {
   "cell_type": "code",
   "execution_count": null,
   "id": "88c5c834-f534-4dc9-9e14-23b3f9da99aa",
   "metadata": {},
   "outputs": [],
   "source": [
    "d = flow.calc_pws_discharge()\n",
    "d.sum()"
   ]
  },
  {
   "cell_type": "code",
   "execution_count": null,
   "id": "5bfa0d16-e21d-4324-a970-492d31b35448",
   "metadata": {},
   "outputs": [],
   "source": [
    "d = flow.get_water_use_2015()\n",
    "d['PS-WSWSa'].sum()"
   ]
  },
  {
   "cell_type": "code",
   "execution_count": null,
   "id": "6ec5b8c3-f18c-4cd8-8495-77e47558bb48",
   "metadata": {},
   "outputs": [],
   "source": []
  },
  {
   "cell_type": "code",
   "execution_count": null,
   "id": "f8fb8a71-702f-4af2-ab45-14a02a5ac3e0",
   "metadata": {},
   "outputs": [],
   "source": [
    "df = flow.prep_electricity_demand_data()\n",
    "demand_columns = df.columns[1:5].to_list()\n",
    "demand_columns\n",
    "for d in demand_columns:\n",
    "    df[d] = df[d] * df['pop_weight']\n",
    "    df[d] = df[d].round(4)\n",
    "df.sum()"
   ]
  },
  {
   "cell_type": "code",
   "execution_count": null,
   "id": "c333e000-a7ef-412a-a386-9dc23e9a5152",
   "metadata": {},
   "outputs": [],
   "source": [
    "d = flow.prep_electricity_demand_data()\n",
    "d.dtypes"
   ]
  },
  {
   "cell_type": "code",
   "execution_count": null,
   "id": "e41d97e0-a594-4f1f-a526-04708ee1b25b",
   "metadata": {},
   "outputs": [],
   "source": [
    "df = flow.get_state_electricity_demand_data()\n",
    "\n",
    "    # build renaming dictionary\n",
    "rename_dict = {\"RESIDENTIAL\": \"EG_total_total_total_total_to_RES_total_total_total_total_bbtu\",\n",
    "                   \"COMMERCIAL\": \"EG_total_total_total_total_to_CO_total_total_total_total_bbtu\",\n",
    "                   \"INDUSTRIAL\": \"EG_total_total_total_total_to_IN_total_total_total_total_bbtu\",\n",
    "                   \"TRANSPORTATION\": \"EG_total_total_total_total_to_TR_total_total_total_total_bbtu\"}\n",
    "\n",
    "    # prep dataframe\n",
    "df = df.dropna(subset=[\"Month\"])  # drop rows where month is blank\n",
    "df = df.dropna(subset=[\"Ownership\"])  # Drop state totals and state adjustments\n",
    "df = df[df.Ownership != \"Behind the Meter\"]  # removing behind the meter generation\n",
    "df = df.groupby(\"State\", as_index=False).sum()  # get total by state\n",
    "df = df[[\"State\", \"RESIDENTIAL\", \"COMMERCIAL\", \"INDUSTRIAL\", \"TRANSPORTATION\"]]\n",
    "\n",
    "    # convert electricity demand values from mwh to bbtu\n",
    "column_list = df.columns[1:]\n",
    "for col in column_list:\n",
    "    df[col] = df[col].apply(flow.convert_mwh_bbtu)\n",
    "\n",
    "    # rename columns to add descriptive language\n",
    "df.rename(columns=rename_dict, inplace=True)\n",
    "    \n",
    "\n",
    "    # split out into county values based on percent of state population\n",
    "df = flow.calc_population_county_weight(df)\n",
    "demand_columns = df.columns[1:5].to_list()\n",
    "for d in demand_columns:\n",
    "    df[d] = df[d] * df['pop_weight']\n",
    "    df[d] = df[d].round(4)\n",
    "df"
   ]
  },
  {
   "cell_type": "code",
   "execution_count": null,
   "id": "87ad7cd2-0f6f-4fa6-84ce-a1166654ddf3",
   "metadata": {},
   "outputs": [],
   "source": [
    "y = flow.construct_nested_dictionary(flow.get_fuel_demand_target_parameters())\n",
    "#len(flow.get_fuel_demand_source_parameters())\n",
    "#x = flow.get_fuel_demand_source_parameters()\n",
    "y"
   ]
  },
  {
   "cell_type": "code",
   "execution_count": null,
   "id": "0f26c85e-9014-48ea-8c9d-9ab3e2045b59",
   "metadata": {},
   "outputs": [],
   "source": [
    "x = flow.prep_fuel_demand_data()\n",
    "x"
   ]
  },
  {
   "cell_type": "code",
   "execution_count": null,
   "id": "b284f876-240b-4e07-8d80-e68fe2d704c4",
   "metadata": {},
   "outputs": [],
   "source": [
    "l1_df = pd.DataFrame.from_dict(x, orient='index').transpose()\n"
   ]
  },
  {
   "cell_type": "code",
   "execution_count": null,
   "id": "e258c375-b9d6-4e40-8aee-d046fcb979cd",
   "metadata": {},
   "outputs": [],
   "source": [
    "\n",
    "df = pd.DataFrame()\n",
    "for i in range(len(data)):\n",
    "    df = df.append({'A': 0}, ignore_index=True)\n",
    "df"
   ]
  },
  {
   "cell_type": "code",
   "execution_count": null,
   "id": "4ea7fd6d-236c-40d6-b934-8c53e1cb5a7a",
   "metadata": {},
   "outputs": [],
   "source": [
    "for col in x.columns:\n",
    "    print(col)"
   ]
  },
  {
   "cell_type": "code",
   "execution_count": null,
   "id": "8841ce4e-669b-4674-80b7-ffe68ff672bb",
   "metadata": {},
   "outputs": [],
   "source": [
    "df.sum()"
   ]
  },
  {
   "cell_type": "code",
   "execution_count": null,
   "id": "1d8062b1-8aaf-46c3-83ae-ea0f689041f5",
   "metadata": {},
   "outputs": [],
   "source": [
    "fail_parameter_data = flow.get_electricity_generation_efficiency_parameters()\n",
    "fail_parameter_data = fail_parameter_data.drop(fail_parameter_data.columns[2], axis=1)\n",
    "fail_parameter_data"
   ]
  },
  {
   "cell_type": "code",
   "execution_count": null,
   "id": "d2172fd4-3821-4e1a-8b0c-543f2d81b16f",
   "metadata": {},
   "outputs": [],
   "source": [
    "parameters = flow.get_electricity_generation_efficiency_parameters()\n",
    "test_dict = flow.construct_nested_dictionary(parameters)\n",
    "test_fuel_type = list(test_dict.keys())[0]\n",
    "test_sub_fuel_type = list(test_dict[test_fuel_type].keys())[0]\n",
    "\n",
    "test_sub_fuel_type"
   ]
  },
  {
   "cell_type": "code",
   "execution_count": null,
   "id": "a7f1acb5-2809-473e-a7a7-26f4aa76c489",
   "metadata": {},
   "outputs": [],
   "source": [
    "#df = flow.calc_electricity_energy_discharge(data=d, total=True)\n",
    "df['eg_generation_biomass_to_es_bbtu'][4]"
   ]
  },
  {
   "cell_type": "code",
   "execution_count": null,
   "id": "b9f479ff-493c-44f5-9ac7-f2727103a49d",
   "metadata": {},
   "outputs": [],
   "source": [
    "df.sum()"
   ]
  },
  {
   "cell_type": "code",
   "execution_count": null,
   "id": "8d3ba043-8ad3-4207-8448-93ce9869b21d",
   "metadata": {},
   "outputs": [],
   "source": [
    "df = flow.get_electricity_generation_efficiency_parameters()\n",
    "x = flow.construct_nested_dictionary(df)\n",
    "\n",
    "x['biomass']['total']['efficiency']"
   ]
  },
  {
   "cell_type": "code",
   "execution_count": null,
   "id": "59ab63f6-f156-467e-baa3-437fa0966409",
   "metadata": {},
   "outputs": [],
   "source": [
    "efficiency_dict = {'biomass':{'total'}, 'coal':{'total'}, 'geothermal':{'total'}, 'hydro':{'total'}, 'natgas':{'total'}, 'nuclear':{'total'},\n",
    "                       'oil':{'total'}, 'other':{'total'}, 'solar':{'total'}, 'wind':{'total'}}\n",
    "efficiency_dict"
   ]
  },
  {
   "cell_type": "code",
   "execution_count": null,
   "id": "17f6396a-399e-490a-bf5c-ac2bb8f67850",
   "metadata": {},
   "outputs": [],
   "source": [
    "d = df.groupby(group1).apply(lambda x: dict(zip(x[parameter])))"
   ]
  },
  {
   "cell_type": "code",
   "execution_count": null,
   "id": "4336064c-06d4-42ec-97a2-bce14a3f36a6",
   "metadata": {},
   "outputs": [],
   "source": [
    "group1 = df.columns[0]\n",
    "group2 = df.columns[1]\n",
    "group3 = df.columns[2]\n",
    "group4 = df.columns[3]\n",
    "parameter = df.columns[-2]\n",
    "value = df.columns[-1]\n",
    "\n",
    "\n",
    "d = df.groupby(group1).apply(lambda x: dict(zip(x[parameter], x[value])))\n",
    "d = d.to_dict()\n",
    "d\n"
   ]
  },
  {
   "cell_type": "code",
   "execution_count": null,
   "id": "2832fec1-f381-47a9-9cd7-35af38958799",
   "metadata": {},
   "outputs": [],
   "source": [
    "d = df.groupby(group1).apply(lambda a: dict(a.groupby(group2).apply(lambda b: dict(b.groupby(group3).apply(\n",
    "            lambda b: dict(b.groupby(group4).apply(lambda x: dict(zip(x[parameter], x[value])))))))))"
   ]
  },
  {
   "cell_type": "code",
   "execution_count": null,
   "id": "fb0432fc-7921-4adc-a3df-d3e992adf5ef",
   "metadata": {},
   "outputs": [],
   "source": [
    "main_grouper = df.columns[0]\n",
    "nest_list = df.columns[1:].to_list()\n",
    "second_list =  df.columns[2:]\n",
    "sub_nest_grouper = nest_list[0]"
   ]
  },
  {
   "cell_type": "code",
   "execution_count": null,
   "id": "efa91fc4-f962-40bd-b816-7742e2f0d641",
   "metadata": {},
   "outputs": [],
   "source": [
    "fuel_dict = df.groupby(main_grouper)[nest_list].apply(lambda x: x.set_index([nest_list]).to_dict(orient='index')).to_dict()\n",
    "fuel_dict"
   ]
  },
  {
   "cell_type": "code",
   "execution_count": null,
   "id": "60109bc8-2ca7-4208-a5ff-4fe1fe68a591",
   "metadata": {},
   "outputs": [],
   "source": [
    "for item in res:\n",
    "    print(res['biomass'])\n",
    "    "
   ]
  },
  {
   "cell_type": "code",
   "execution_count": null,
   "id": "4677d33e-ba49-440f-8903-b84368552e8a",
   "metadata": {},
   "outputs": [],
   "source": [
    "numerics = ['int16', 'int32', 'int64', 'float16', 'float32', 'float64']\n",
    "numeric_list = data.select_dtypes(include=numerics).columns.tolist()\n",
    "record_list = []\n",
    "for column in numeric_list:\n",
    "    x = data.columns.get_loc(column)\n",
    "    record_list.append(x)\n",
    "length = min(record_list)\n",
    "\n",
    "\n",
    "main_grouper = data.columns[0]\n",
    "nest_list = data.columns[1:].to_list()\n",
    "sub_nest_grouper = nest_list[0]\n",
    "fuel_dict = data.groupby(main_grouper)[nest_list].apply(lambda x: x.set_index(sub_nest_grouper).to_dict(orient='index')).to_dict()\n",
    "fuel_dict"
   ]
  },
  {
   "cell_type": "code",
   "execution_count": null,
   "id": "a0c1165f-af68-4033-91c9-ab82fccdbda8",
   "metadata": {},
   "outputs": [],
   "source": [
    "main_grouper = data.columns[1]\n",
    "nest_list = data.columns[1:].to_list()\n",
    "sub_nest_grouper = nest_list[0]\n",
    "\n",
    "    # no sub-fuel types\n",
    "main_type_unique = data[main_grouper].is_unique\n",
    "sub_type_unique = data[sub_nest_grouper].is_unique\n",
    "\n",
    "if main_type_unique and sub_type_unique:\n",
    "    fuel_dict = data.set_index(main_grouper).to_dict(orient='index')\n",
    "elif not main_type_unique and not sub_type_unique:\n",
    "\n",
    "    fuel_dict = data.groupby(main_grouper)[nest_list].apply(lambda x: x.set_index(sub_nest_grouper).to_dict(orient='index')).to_dict()\n",
    "else:\n",
    "    pass\n",
    "\n",
    "fuel_dict"
   ]
  },
  {
   "cell_type": "code",
   "execution_count": null,
   "id": "c583dc07-dc26-4a7a-9517-c142ef251c8c",
   "metadata": {},
   "outputs": [],
   "source": [
    "#data.apply(lambda x: x.set_index('fuel_types').to_dict(orient='index'))\n",
    "nest_list = data.columns[2:].to_list()\n",
    "fuel_dict = data.groupby('fuel_type')#[nest_list].apply(lambda x: x.set_index('fuel_type').to_dict(orient='index')).to_dict()\n",
    "fuel_dict = data.set_index('fuel_type').to_dict(orient='index')\n",
    "fuel_dict"
   ]
  },
  {
   "cell_type": "code",
   "execution_count": null,
   "id": "8ee6d0fc-2896-4a7f-a1b2-f91450f9082a",
   "metadata": {},
   "outputs": [],
   "source": [
    "data.head()\n",
    "d = flow.construct_dictionary(data)\n",
    "d"
   ]
  },
  {
   "cell_type": "code",
   "execution_count": null,
   "id": "34e4431e-085c-41c8-b4e2-0ccc668b256c",
   "metadata": {},
   "outputs": [],
   "source": [
    "df.columns[1]\n",
    "nest_list = df.columns[2:].to_list()\n",
    "nest_list[0]"
   ]
  },
  {
   "cell_type": "code",
   "execution_count": null,
   "id": "9f7264c4-b0a6-449b-b0fe-88ab481981b6",
   "metadata": {},
   "outputs": [],
   "source": [
    "my_dict = {1:{'name':'x', 'age':24}, 2:{'name':'y', 'age':21}, 3:{'name':'z', 'age':25}}\n",
    "\n",
    "#my_dict\n",
    "#def count(d):\n",
    "#    return max(count(v) if isinstance(v,dict) else 0 for v in d.values()) + 1\n",
    "\n",
    "#print(count(my_dict))"
   ]
  },
  {
   "cell_type": "code",
   "execution_count": null,
   "id": "0d9c7e14-fe49-4d2e-9da6-1c1194d69f1f",
   "metadata": {},
   "outputs": [],
   "source": [
    "    nested_dict = df.groupby(main_grouper)[nest_list].apply(lambda x: x.set_index(sub_nest_grouper).to_dict(orient='index')).to_dict()\n"
   ]
  },
  {
   "cell_type": "code",
   "execution_count": null,
   "id": "a9ba4c80-9f14-4ae0-ad54-27062868798d",
   "metadata": {},
   "outputs": [],
   "source": [
    "import flow"
   ]
  },
  {
   "cell_type": "code",
   "execution_count": null,
   "id": "9889b2ea-cad5-456e-ad14-7bff4bedeeb6",
   "metadata": {},
   "outputs": [],
   "source": [
    "x = fresh_groundwater_coal_generation_mgd + fresh_surfacewater_coal_generation_mgd + fresh_wastewater_coal_generation_mgd + saline_groundwater_coal_generation_mgd + saline_surfacewater_coal_generation_mgd\n",
    "x\n",
    "z = coal_generation_surface_discharge_mgd + coal_generation_ocean_discharge_mgd\n",
    "x - coal_generation_consumption_mgd "
   ]
  },
  {
   "cell_type": "code",
   "execution_count": null,
   "id": "5196ac0a-6d13-43fe-8368-d5ca603e2694",
   "metadata": {},
   "outputs": [],
   "source": [
    "z"
   ]
  },
  {
   "cell_type": "code",
   "execution_count": null,
   "id": "84bf2c08-5096-46c7-9509-c68d336e0b8a",
   "metadata": {},
   "outputs": [],
   "source": [
    "df = df.groupby('fuel_type')[['sub_fuel','fuel_efficiency','parameter2']].apply(lambda x: x.set_index('sub_fuel').to_dict(orient='index')).to_dict()\n",
    "df"
   ]
  },
  {
   "cell_type": "code",
   "execution_count": null,
   "id": "feeaa715-f555-4071-8d3f-b8792fec5ae6",
   "metadata": {},
   "outputs": [],
   "source": [
    "round(df).sum()"
   ]
  },
  {
   "cell_type": "code",
   "execution_count": null,
   "id": "e99f297a-5597-42e8-af6e-51bf5fa4c4ef",
   "metadata": {},
   "outputs": [],
   "source": [
    "54+45"
   ]
  },
  {
   "cell_type": "code",
   "execution_count": null,
   "id": "34cb526e-9c1b-4689-8b7c-6e4614801cc9",
   "metadata": {},
   "outputs": [],
   "source": [
    "for col in df.columns:\n",
    "    print(col)"
   ]
  },
  {
   "cell_type": "code",
   "execution_count": null,
   "id": "7e804214-e138-4ea2-8e0e-f187050885d9",
   "metadata": {},
   "outputs": [],
   "source": []
  },
  {
   "cell_type": "code",
   "execution_count": null,
   "id": "b11082b6-6e1a-4608-a6a5-4833f050f692",
   "metadata": {},
   "outputs": [],
   "source": [
    "for col in df.columns:\n",
    "    print(col)"
   ]
  },
  {
   "cell_type": "code",
   "execution_count": null,
   "id": "169e6c89-c828-4f9a-b330-3c3b39c94075",
   "metadata": {},
   "outputs": [],
   "source": [
    "48384*0.00016149393844372542"
   ]
  },
  {
   "cell_type": "code",
   "execution_count": null,
   "id": "868b7027-5b25-44f6-9c8c-51b1ac5daf6b",
   "metadata": {},
   "outputs": [],
   "source": [
    "df.sum()"
   ]
  },
  {
   "cell_type": "code",
   "execution_count": null,
   "id": "b171e1f8-afe4-4ac9-af9a-6de7010f255d",
   "metadata": {},
   "outputs": [],
   "source": [
    "\n",
    "df['total_water'] = df['fresh_surfacewater_natgas_unconventional_mgd'] + df['fresh_groundwater_natgas_unconventional_mgd']\n",
    "df['intensity'] = np.where(df['natgas_unconventional_production_bbtu']>0, df['total_water']/(df['natgas_unconventional_production_bbtu']/365), 0)\n",
    "df['sw_pct'] = np.where( df['total_water']>0, df['fresh_surfacewater_natgas_unconventional_mgd']/df['total_water'], 0)\n",
    "df['gw_pct'] = np.where( df['total_water']>0, df['fresh_groundwater_natgas_unconventional_mgd']/df['total_water'], 0)\n",
    "\n",
    "df.groupby(\"State\", as_index=False).sum()\n",
    "x = df['intensity'].mean()\n",
    "x"
   ]
  },
  {
   "cell_type": "code",
   "execution_count": null,
   "id": "d65284d3-fcb5-4873-9176-981dc59a1809",
   "metadata": {},
   "outputs": [],
   "source": [
    "\n",
    "# initialize data of lists.\n",
    "d_list = {'Name':['Tom', 'Tom','nick', 'krish', 'jack'],\n",
    "        'Age':[20, 22, 21, 19, 18],\n",
    "         'height':[20,21, 21, 19, 18]}\n",
    " \n",
    "# Create DataFrame\n",
    "d_list = pd.DataFrame(d_list)\n",
    "d_list.head()\n",
    "\n",
    "d_list = d_list.groupby('Name').apply(lambda x: x.set_index('Age').to_dict(orient='index')).to_dict()\n",
    "d_list"
   ]
  },
  {
   "cell_type": "code",
   "execution_count": null,
   "id": "6cfce2e4-4bed-440c-a786-d9899d2a86a9",
   "metadata": {},
   "outputs": [],
   "source": [
    "df3 = pd.DataFrame([\n",
    "           ['A', 123, 1], \n",
    "           ['B', 345, 5], \n",
    "           ['C', 712, 4],\n",
    "           ['B', 768, 2], \n",
    "           ['B', 768, 3], \n",
    "           ['A', 123, 9], \n",
    "           ['C', 178, 6], \n",
    "           ['C', 178, 5],  \n",
    "           ['A', 321, 3]])\n",
    "\n",
    "d = {k: f.groupby('subgroup')['selectedCol'].apply(list).to_dict()\n",
    "     for k, f in df.groupby('maingroup')}\n",
    "d"
   ]
  },
  {
   "cell_type": "code",
   "execution_count": null,
   "id": "d65cf390-29dc-4b44-a2d3-eae50744a898",
   "metadata": {},
   "outputs": [],
   "source": [
    "for col in df.columns:\n",
    "    print(col)"
   ]
  },
  {
   "cell_type": "code",
   "execution_count": null,
   "id": "4dc21b79-92d5-4ade-961c-28fc6bb823ce",
   "metadata": {},
   "outputs": [],
   "source": [
    "df = data.copy()"
   ]
  },
  {
   "cell_type": "code",
   "execution_count": null,
   "id": "cea9d682-82e0-48db-b892-2bb2742967b3",
   "metadata": {},
   "outputs": [],
   "source": [
    "# def calc_coal_production_water_use(data: pd.DataFrame, mine_types = None, water_types=None, discharge_types = None,\n",
    "#                                   regions=3, total=False):\n",
    "#    \"\"\"calculates total water use in hydroelectric generation by region.\n",
    "#\n",
    "#        Water use is determined by applying hydropower water intensity rates (mg/bbtu) to daily hydropower generation\n",
    "#        (bbtu) to get mgd in each region. Water use can be interpreted as the amount of water that passes through\n",
    "#        the hydropower facility on a daily basis, based on average power generation per day. If region-level hydropower\n",
    "#        water intensity rates are not available, an intensity assumption is applied to all hydropower generation.\n",
    "#        Surface discharge from hydropower is also calculated. This is assumed to be equal to water use in hydropower.\n",
    "#        No water is assumed to be consumed or evaporated given that the water included in this calculation only\n",
    "#        includes water that instantaneously passes through the hydropower facility and is immediately discharged back\n",
    "#        to the surface water source.\n",
    "#\n",
    "#        :param data:                        DataFrame of input data\n",
    "#        :type data:                         DataFrame\n",
    "#\n",
    "#        :param hydro_water_intensity:       The assumed million gallons required to get a billion btu from hydropower\n",
    "#        :type hydro_water_intensity:        flt\n",
    "#\n",
    "#        :param regions:                     gives the number of columns in the dataset that should be treated as region\n",
    "#                                            identifiers (e.g. \"Country\", \"State\"). Reads from the first column in the\n",
    "#                                            dataframe onwards.\n",
    "#        :type regions:                      int\n",
    "#\n",
    "#        :return:                            DataFrame of total water use by hydropower generation (mgd) and hydropower\n",
    "#                                            discharge to surface waters (mgd) by region.\n",
    "#\n",
    "#        \"\"\"\n",
    "#\n",
    "#    if mine_types is None:\n",
    "#        mine_type_dict = {'surface': 0.000007, 'ground': 0.000029}\n",
    "#    else:\n",
    "#        mine_type_dict = mine_types\n",
    "#\n",
    "#    if water_types is None:\n",
    "#        water_type_dict = {'fresh': {'surfacewater': {'flow_fraction': .5, 'consumption_fraction': .5},\n",
    "#                                    'groundwater': {'flow_fraction': .5, 'consumption_fraction': .5}},\n",
    "#                           'saline': {'surfacewater': {'flow_fraction': .5, 'consumption_fraction': .5},\n",
    "#                                    'groundwater': {'flow_fraction': .5, 'consumption_fraction': .5}}}\n",
    "#    else:\n",
    "#        water_type_dict = water_types\n",
    "#\n",
    "#    if discharge_types is None:\n",
    "#        discharge_type_dict = {'surface': 1}\n",
    "#    else:\n",
    "#        discharge_type_dict = discharge_types\n",
    "#\n",
    "#    # load data\n",
    "#    df = data\n",
    "#\n",
    "#    region_list = df.columns[:regions].tolist()\n",
    "#    output_df = df[region_list].copy()\n",
    "#    total_df = df[region_list].copy()\n",
    "#\n",
    "#    for water_type in water_type_dict:\n",
    "#        for water_source in water_type_dict[water_type]:\n",
    "#            coal_water_total_name = f'{water_type}_{water_source}_coal_mgd'\n",
    "#            output_df[coal_water_total_name] = 0\n",
    "#            total_df[coal_water_total_name] = 0\n",
    "#\n",
    "#    # calculate total water to all mining (inclusive of coal)\n",
    "#    df['total_water_mining_mgd'] = 0\n",
    "#    for water_type in water_type_dict:\n",
    "#        for water_source in water_type_dict[water_type]:\n",
    "#            mining_water_flow_name = f'{water_type}_{water_source}_mining_mgd'\n",
    "#            if mining_water_flow_name in df.columns:\n",
    "#                df['total_water_mining_mgd'] = df['total_water_mining_mgd'] + df[mining_water_flow_name]\n",
    "#            else:\n",
    "#                pass\n",
    "#\n",
    "#    # calculate percent of total mining flows by water type and water source\n",
    "#    for water_type in water_type_dict:\n",
    "#        for water_source in water_type_dict[water_type]:\n",
    "#\n",
    "#            mining_water_flow_pct_name = f'{water_type}_{water_source}_mining_pct'\n",
    "#\n",
    "#            if mining_water_flow_pct_name in df.columns: #if the percent of water flows to coal mining in data\n",
    "#                pass\n",
    "#\n",
    "#            else:  # if only water flows to all mining in data\n",
    "#                mining_water_flow_name = f'{water_type}_{water_source}_mining_mgd'\n",
    "#                if mining_water_flow_name in df.columns:  # if water type and water source to all mining in data\n",
    "#                    df[mining_water_flow_pct_name] = np.where(df['total_water_mining_mgd'] > 0,\n",
    "#                                                          (df[mining_water_flow_name] / df['total_water_mining_mgd']),\n",
    "#                                                          0)\n",
    "#                else:  # if no breakdown of water source and water type to all mining in data\n",
    "#                    df[mining_water_flow_pct_name] = water_type_dict[water_type][water_source]['flow_fraction']\n",
    "#\n",
    "#            # calculate water in coal mining for each mine type by water type and water source\n",
    "#            for mine_type in mine_type_dict:\n",
    "#                coal_shortton_name = f'{mine_type}_coal_shortton'\n",
    "#                if coal_shortton_name in df.columns:\n",
    "#                    coal_water_intensity_name = f'{mine_type}_coal_water_intensity_mg_per_shortton'\n",
    "#                    coal_water_total_name = f'{water_type}_{water_source}_coal_mgd'\n",
    "#                    if coal_water_intensity_name in df.columns:  # if regional water intensity values available\n",
    "#                        coal_water_mgd_name = f\"{water_type}_{water_source}_{mine_type}_coal_mgd\"\n",
    "#                        output_df[coal_water_mgd_name] = df[coal_water_intensity_name] \\\n",
    "#                                                         * (df[coal_shortton_name]/365) \\\n",
    "#                                                         * df[mining_water_flow_pct_name]\n",
    "#                        output_df[coal_water_total_name] = output_df[coal_water_total_name] \\\n",
    "#                                                           + output_df[coal_water_mgd_name]\n",
    "#                        total_df[coal_water_total_name] = total_df[coal_water_total_name] \\\n",
    "#                                                          + output_df[coal_water_mgd_name]\n",
    "#\n",
    "#                    else:  # if no regional water intensity available, use assumption\n",
    "#                        coal_water_mgd_name = f\"{water_type}_{water_source}_{mine_type}_coal_mgd\"\n",
    "#                        output_df[coal_water_mgd_name] = mine_type_dict[mine_type] \\\n",
    "#                                                         * (df[coal_shortton_name]/365) \\\n",
    "#                                                         * df[mining_water_flow_pct_name]\n",
    "#                        output_df[coal_water_total_name] = output_df[coal_water_total_name] \\\n",
    "#                                                           + output_df[coal_water_mgd_name]\n",
    "#                        total_df[coal_water_total_name] = total_df[coal_water_total_name] \\\n",
    "#                                                          + output_df[coal_water_mgd_name]\n",
    "#                else:  # if no coal mining available\n",
    "#                    pass\n",
    "#\n",
    "## TODO pick things up here\n",
    "#\n",
    "#            # calculate consumption of water in coal mining by water type and water source\n",
    "#\n",
    "#            # look for region- mining consumption fraction, apply it\n",
    "#\n",
    "#            # otherwise use dictionary values water_type_dict[water_type][water_source]['consumption_fraction']\n",
    "#\n",
    "#            ## look for region- mining discharge fraction, apply it\n",
    "#            # for discharge_type in discharge_type dictionary:\n",
    "#                #discharge_type_name = f'{water_type}_{water_source}_{mine_type}_{discharge_type}_discharge_mgd\n",
    "#                #discharge_pct_name = f'{water_type}_{water_source}_{mine_type}_{discharge_type}_discharge_pct\n",
    "#\n",
    "#                # if discharge_pct_name in df.columns:\n",
    "#                    # apply pct to total discharge\n",
    "#                # else:\n",
    "#                    # apply pct from dictionary\n",
    "#            #\n",
    "#\n",
    "#    # TODO add in consumption and surface discharge\n",
    "\n",
    "\n",
    "#    if total:\n",
    "#        df = total_df\n",
    "#    else:\n",
    "#        df = output_df\n",
    "#\n",
    "#    return df"
   ]
  },
  {
   "cell_type": "code",
   "execution_count": null,
   "id": "1da1bbc1-0b77-4691-870f-9d47c228f62e",
   "metadata": {},
   "outputs": [],
   "source": [
    "for mine_type in fuel_water_type_dict['coal']:\n",
    "    for water_type in fuel_water_type_dict['coal'][mine_type]:\n",
    "        print(water_type)"
   ]
  },
  {
   "cell_type": "code",
   "execution_count": null,
   "id": "3e6f0926-37e2-48a1-9b81-0af09e046919",
   "metadata": {},
   "outputs": [],
   "source": [
    "df.sum()"
   ]
  },
  {
   "cell_type": "code",
   "execution_count": null,
   "id": "0428d16d-2051-4f3c-8a90-35a577ee65b7",
   "metadata": {},
   "outputs": [],
   "source": [
    "df = flow.prep_electricity_generation()\n",
    "df"
   ]
  },
  {
   "cell_type": "code",
   "execution_count": null,
   "id": "d4222e28-9f3c-4681-8e73-cb153a6fc3f2",
   "metadata": {},
   "outputs": [],
   "source": [
    "data = flow.configure_data()\n",
    "sector_types = {'crop_irrigation': .15, 'golf_irrigation': .10}\n",
    "\n",
    "\n",
    "df=flow.calc_water_conveyance_losses(data=data, sector_types=sector_types, total=True)\n",
    "for col in df.columns:\n",
    "    print(col)"
   ]
  },
  {
   "cell_type": "code",
   "execution_count": null,
   "id": "1975c33e-494a-4e04-83fe-8cd153fcedce",
   "metadata": {},
   "outputs": [],
   "source": [
    "df = df.groupby('State', as_index=False).sum()\n",
    "df"
   ]
  },
  {
   "cell_type": "code",
   "execution_count": null,
   "id": "ed34f7ba-a1d6-40cb-bc36-b9ef5c53be0b",
   "metadata": {},
   "outputs": [],
   "source": []
  },
  {
   "cell_type": "code",
   "execution_count": null,
   "id": "9924388f-ee15-472f-8619-469e9ef75441",
   "metadata": {},
   "outputs": [],
   "source": []
  },
  {
   "cell_type": "code",
   "execution_count": null,
   "id": "c3101ab1-7cd6-4198-942f-104fcab8df48",
   "metadata": {},
   "outputs": [],
   "source": []
  },
  {
   "cell_type": "code",
   "execution_count": null,
   "id": "2a532479-d9fc-42a9-b51d-1b894352650c",
   "metadata": {},
   "outputs": [],
   "source": []
  },
  {
   "cell_type": "code",
   "execution_count": null,
   "id": "aa5b8443-1aaf-4e9a-a294-c8810d6a9004",
   "metadata": {},
   "outputs": [],
   "source": [
    "data = flow.configure_data()\n",
    "df = flow.calc_energy_agriculture(data=data, total=True)\n",
    "for col in df.columns:\n",
    "    print(col)"
   ]
  },
  {
   "cell_type": "code",
   "execution_count": null,
   "id": "fa7d37dc-fc77-49ae-a6c6-5517b007f0b4",
   "metadata": {},
   "outputs": [],
   "source": [
    "df = flow.calc_wastewater_exports(data=data)\n",
    "for col in df.columns:\n",
    "    print(col)"
   ]
  },
  {
   "cell_type": "code",
   "execution_count": null,
   "id": "d39330e9-c079-4dde-b7ea-7a540d68dbc1",
   "metadata": {},
   "outputs": [],
   "source": [
    "x.to_csv(r'C:\\Users\\mong275\\Local Files\\Sankey_Notebook_Development\\SankeyFiles\\fuel_types.csv')"
   ]
  },
  {
   "cell_type": "code",
   "execution_count": null,
   "id": "7ce0a8c6-6ea8-44a6-9863-b21ebfda9880",
   "metadata": {},
   "outputs": [],
   "source": [
    "name_list = ['electricity to rejected energy', 'energy discharge from sectoral use', 'energy in wastewater',\n",
    "                      'energy in agriculture', 'energy in public water supply', 'energy production exports',\n",
    "                     'water discharge from sectoral use']\n",
    "name_list.index('electricity to rejected energy')"
   ]
  },
  {
   "cell_type": "code",
   "execution_count": null,
   "id": "14b0acfd-7f0d-4426-be26-ff2ecfb09539",
   "metadata": {},
   "outputs": [],
   "source": [
    "water_discharge_dict = {'surfacewater': {'fresh': {'wastewater': 0, 'ocean': 0, 'surface': 1},\n",
    "                                        'saline': {'wastewater': 0, 'ocean': 1, 'surface': 0}},\n",
    "                        'groundwater': {'fresh': {'wastewater': 0, 'ocean': 0, 'surface': 1},\n",
    "                                        'saline': {'wastewater': 0, 'ocean': 1, 'surface': 0}},\n",
    "                                'pws': {'fresh': {'wastewater': 1, 'ocean': 0, 'surface': 0}}\n",
    "                             }"
   ]
  },
  {
   "cell_type": "code",
   "execution_count": null,
   "id": "b74a4c93-a511-40a3-b018-58cfcf88db8e",
   "metadata": {},
   "outputs": [],
   "source": [
    "sector_consumption_dict = {'residential': {'groundwater': {'saline': 0, 'fresh': .3},\n",
    "                                                   'surfacewater': {'saline': 0, 'fresh': .3},\n",
    "                                                   'pws': {'fresh': .3}},\n",
    "                            'commercial': {'groundwater': {'saline': 0, 'fresh': .15},\n",
    "                                           'surfacewater': {'saline': 0, 'fresh': .15},\n",
    "                                           'pws': {'fresh': .15}},\n",
    "                            'industrial':{'groundwater': {'saline': .003, 'fresh': .15},\n",
    "                                          'surfacewater': {'saline': .003, 'fresh': .15},\n",
    "                                          'pws': {'fresh': .15}},\n",
    "                            'mining': {'groundwater': {'saline': .03, 'fresh': .15},\n",
    "                                       'surfacewater': {'saline': .03, 'fresh': .15}},\n",
    "                            'crop_irrigation': {'groundwater': {'saline': 0, 'fresh': .3},\n",
    "                                                'surfacewater': {'saline': 0, 'fresh': .3}},\n",
    "                            'livestock':  {'groundwater': {'saline': 0, 'fresh': .87},\n",
    "                                           'surfacewater': {'saline': 0, 'fresh': .87}},\n",
    "                            'aquaculture': {'groundwater': {'saline': 0, 'fresh': .5},\n",
    "                                            'surfacewater': {'saline': 0, 'fresh': .5}}}"
   ]
  },
  {
   "cell_type": "code",
   "execution_count": null,
   "id": "4dfcc665-51c5-4046-91de-27ed64f8eb09",
   "metadata": {},
   "outputs": [],
   "source": [
    "df = data.copy()"
   ]
  },
  {
   "cell_type": "code",
   "execution_count": null,
   "id": "64d32f9e-90d6-41fe-b7b8-e1e9f94e61b5",
   "metadata": {},
   "outputs": [],
   "source": [
    "saline_groundwater_industrial_mgd                                                                   42.9\n",
    "saline_surfacewater_industrial_mgd                                                                742.92"
   ]
  },
  {
   "cell_type": "code",
   "execution_count": null,
   "id": "26ea605e-0e04-405f-8a54-e952d48b3919",
   "metadata": {},
   "outputs": [],
   "source": [
    "df = flow.calc_sectoral_use_water_discharge(data=data, total=True)"
   ]
  },
  {
   "cell_type": "code",
   "execution_count": null,
   "id": "8345b177-5e44-4ea9-9441-46d172680a3c",
   "metadata": {},
   "outputs": [],
   "source": [
    "x=16987.779934 +  6225.87913 + 4263.081345\n",
    "x"
   ]
  },
  {
   "cell_type": "code",
   "execution_count": null,
   "id": "b033a0ce-4937-4183-b87e-c1b4dcc0e61c",
   "metadata": {},
   "outputs": [],
   "source": [
    "df1=flow.calc_sectoral_use_water_discharge(data=data, total=True)\n",
    "df1 = df1[['FIPS', 'residential_wastewater_discharge_mgd', 'commercial_wastewater_discharge_mgd', 'industrial_wastewater_discharge_mgd']]"
   ]
  },
  {
   "cell_type": "code",
   "execution_count": null,
   "id": "164a8884-a2f8-40f2-b46b-c60901c332b0",
   "metadata": {},
   "outputs": [],
   "source": [
    "df2 = flow.prep_wastewater_data()\n",
    "df2 = df2[['FIPS', 'State', 'County', 'municipal_wastewater_mgd', 'infiltration_wastewater_mgd']]"
   ]
  },
  {
   "cell_type": "code",
   "execution_count": null,
   "id": "9685c9bb-02dc-4a46-8f20-89072d4434a1",
   "metadata": {},
   "outputs": [],
   "source": [
    "df3 = pd.merge(df2, df1, how='left')\n",
    "df3['sector_total'] = (df3['residential_wastewater_discharge_mgd'] \n",
    "                                                 + df3['commercial_wastewater_discharge_mgd'] \n",
    "                                                 + df3['industrial_wastewater_discharge_mgd'])\n",
    "df3['diff'] = df3['municipal_wastewater_mgd'] - df3['sector_total']\n",
    "df3.sum()"
   ]
  },
  {
   "cell_type": "code",
   "execution_count": null,
   "id": "335c2db6-d650-41aa-b8d2-f65c4134e2b2",
   "metadata": {},
   "outputs": [],
   "source": [
    "df = pd.DataFrame()\n",
    "df_sector_discharge = flow.calc_sectoral_use_water_discharge(data=data, total=True)\n",
    "df_sector_discharge = df_sector_discharge[['FIPS', 'State', 'County',\n",
    "                                              'residential_wastewater_discharge_mgd',\n",
    "                                              'commercial_wastewater_discharge_mgd',\n",
    "                                              'industrial_wastewater_discharge_mgd']]\n",
    "\n",
    "\n",
    "\n",
    "df['total_wastewater_discharge'] = df_sector_discharge[['residential_wastewater_discharge_mgd',\n",
    "                                              'commercial_wastewater_discharge_mgd',\n",
    "                                              'industrial_wastewater_discharge_mgd']].sum(axis=1)\n",
    "\n",
    "df['wastewater_exports_mgd'] = data['municipal_wastewater_mgd'] - df['total_wastewater_discharge']\n",
    "df"
   ]
  },
  {
   "cell_type": "code",
   "execution_count": null,
   "id": "2d47c52a-7580-4cd7-af84-c1e8efc27966",
   "metadata": {},
   "outputs": [],
   "source": [
    "df1 = flow.calc_electricity_rejected_energy(data=data)\n",
    "df2 = flow.calc_sectoral_use_energy_discharge(data=data)\n",
    "df3 = flow.calc_energy_wastewater(data=data)\n",
    "df4 = flow.calc_energy_agriculture(data=data)\n",
    "df5 = flow.calc_energy_pws(data=data)\n",
    "df6 = flow.calc_energy_production_exports(data=data)\n",
    "df7 = flow.calc_sectoral_use_water_discharge(data=data)\n",
    "df_list = [df1, df2, df3, df4, df5, df6, df7]\n",
    "df_list"
   ]
  },
  {
   "cell_type": "code",
   "execution_count": null,
   "id": "9488a9da-be01-4a2e-9b67-959b48bd7b23",
   "metadata": {},
   "outputs": [],
   "source": [
    "df = flow.calc_sectoral_use_water_discharge(data=data)\n",
    "for col in df.columns:\n",
    "    print(col)"
   ]
  },
  {
   "cell_type": "code",
   "execution_count": null,
   "id": "a8bc7f26-cf67-4f79-ae4c-3316246fab6a",
   "metadata": {},
   "outputs": [],
   "source": [
    "df2 = df[['residential_saline_groundwater_consumption_mgd',\n",
    "'residential_fresh_groundwater_consumption_mgd',\n",
    "'residential_saline_surfacewater_consumption_mgd',\n",
    "'residential_fresh_surfacewater_consumption_mgd',\n",
    "'residential_fresh_pws_consumption_mgd',]].sum()\n",
    "#df[['residential_fresh_pws_consumption_mgd']].sum()\n",
    "df2"
   ]
  },
  {
   "cell_type": "code",
   "execution_count": null,
   "id": "0dafd7d9-271f-476f-8537-121cff742b96",
   "metadata": {},
   "outputs": [],
   "source": [
    "x = 733+17+6309\n",
    "x"
   ]
  },
  {
   "cell_type": "code",
   "execution_count": null,
   "id": "d96276fa-a4ba-46bd-a4d4-b2a6850c947c",
   "metadata": {},
   "outputs": [],
   "source": [
    "df = flow.calc_sectoral_use_water_discharge(data=data, total=True)\n",
    "df.sum()"
   ]
  },
  {
   "cell_type": "code",
   "execution_count": null,
   "id": "8c54d191-2492-430d-9aba-c3dcd1ca212a",
   "metadata": {},
   "outputs": [],
   "source": [
    "df = flow.prep_consumption_fraction()\n",
    "df.sum()"
   ]
  },
  {
   "cell_type": "code",
   "execution_count": null,
   "id": "778b99b4-2048-4dfb-b52d-eb8d0f8d65b9",
   "metadata": {},
   "outputs": [],
   "source": [
    "df = flow.prep_water_use_2015(variables=['County','fresh_surfacewater_residential_mgd', \n",
    "                                         'fresh_groundwater_residential_mgd', 'fresh_pws_residential_mgd']).sum(axis=0)\n",
    "df"
   ]
  },
  {
   "cell_type": "code",
   "execution_count": null,
   "id": "a9b572b5-b02d-447d-8e0b-2a665017d402",
   "metadata": {},
   "outputs": [],
   "source": [
    "df = flow.calc_energy_wastewater(data=data, total=True)\n",
    "#df = df[df.State == \"TX\"]\n",
    "for col in df.columns:\n",
    "    print(col)"
   ]
  },
  {
   "cell_type": "code",
   "execution_count": null,
   "id": "4297512f-a7e6-4504-a7eb-11e353e785b8",
   "metadata": {},
   "outputs": [],
   "source": [
    "total_df"
   ]
  },
  {
   "cell_type": "code",
   "execution_count": null,
   "id": "50f66888-6e05-4a57-a0fd-1866836baa09",
   "metadata": {},
   "outputs": [],
   "source": [
    "#test_dict.update({'test_zero':x})\n",
    "test_dict\n",
    "rejected_energy_total = pd.DataFrame.from_dict(test_dict, orient='index').transpose().sum(axis=1)\n",
    "rejected_energy_total\n",
    "\n"
   ]
  },
  {
   "cell_type": "code",
   "execution_count": null,
   "id": "46e307f2-af9e-4b7f-920a-fbe45fddd9b2",
   "metadata": {},
   "outputs": [],
   "source": [
    "x = np.zeros((len(df), 1))\n",
    "test_dict.update({'test_zero': x})\n",
    "test_dict['test_zero']"
   ]
  },
  {
   "cell_type": "code",
   "execution_count": null,
   "id": "244c9f33-8a2e-46a6-a3bb-420c820ae54a",
   "metadata": {},
   "outputs": [],
   "source": [
    "# Move this to top\n",
    "\n",
    "    # calculate rejected energy and energy services for each fuel, agriculture, water, and pumping type\n",
    "    for water_type in water_types_list:\n",
    "        for pumping_type in pumping_type_dict:\n",
    "            for agriculture_type in agriculture_type_list:\n",
    "                for fuel_type in fuel_type_dict:\n",
    "                    fuel_type_efficiency = 'agriculture_' + fuel_type + \"_efficiency_pct\"\n",
    "                    if f'{fuel_type}_{agriculture_type}_{water_type}_{pumping_type}_bbtu' in energy_value_dict:\n",
    "                        rejected_energy_name = f'{agriculture_type}_{water_type}_{pumping_type}_{fuel_type}_rejected_energy_bbtu'\n",
    "                        energy_services_name = f'{agriculture_type}_{water_type}_{pumping_type}_{fuel_type}_energy_services_bbtu'\n",
    "                        if fuel_type_efficiency in df.columns:\n",
    "                            #df[f'{agriculture_type}_{water_type}_{pumping_type}_{fuel_type}_rejected_energy_bbtu'] = (1 - df[fuel_type_efficiency]) \\\n",
    "                            #                                                                                         * df[f'{fuel_type}_{agriculture_type}_{water_type}_{pumping_type}_bbtu']\n",
    "                            #df[f'{agriculture_type}_{water_type}_{pumping_type}_{fuel_type}_energy_services_bbtu'] = (df[fuel_type_efficiency]) \\\n",
    "                            #                                                                                         * df[f'{fuel_type}_{agriculture_type}_{water_type}_{pumping_type}_bbtu']\n",
    "\n",
    "                            rejected_energy_value = (1 - df[fuel_type_efficiency]) * df[f'{fuel_type}_{agriculture_type}_{water_type}_{pumping_type}_bbtu']\n",
    "                            energy_services_value = (df[fuel_type_efficiency]) * df[f'{fuel_type}_{agriculture_type}_{water_type}_{pumping_type}_bbtu']\n",
    "\n",
    "                            rejected_energy_dict.update({rejected_energy_name: rejected_energy_value})\n",
    "                            energy_services_dict.update({energy_services_name: energy_services_value})\n",
    "\n",
    "                        # if there's no fuel efficiency column, use defaults\n",
    "                        else:\n",
    "                            #df[f'{agriculture_type}_{water_type}_{pumping_type}_{fuel_type}_rejected_energy_bbtu'] = (1 -fuel_type_dict[fuel_type]) \\\n",
    "                            #                                                                             * df[f'{fuel_type}_{agriculture_type}_{water_type}_{pumping_type}_bbtu']\n",
    "                            #df[f'{agriculture_type}_{water_type}_{pumping_type}_{fuel_type}_energy_services_bbtu'] = (fuel_type_dict[fuel_type]) \\\n",
    "                            #                                                                             * df[f'{fuel_type}_{agriculture_type}_{water_type}_{pumping_type}_bbtu']\n",
    "\n",
    "                            rejected_energy_value = (1 -fuel_type_dict[fuel_type]) * df[f'{fuel_type}_{agriculture_type}_{water_type}_{pumping_type}_bbtu']\n",
    "                            energy_services_value = (fuel_type_dict[fuel_type]) * df[f'{fuel_type}_{agriculture_type}_{water_type}_{pumping_type}_bbtu']\n",
    "\n",
    "                            rejected_energy_dict.update({rejected_energy_name: rejected_energy_value})\n",
    "                            energy_services_dict.update({energy_services_name: energy_services_value})\n",
    "\n",
    "                        #df[f'{agriculture_type}_total_rejected_energy_bbtu'] = df[f'{agriculture_type}_total_rejected_energy_bbtu'] + df[f'{agriculture_type}_{water_type}_{pumping_type}_{fuel_type}_rejected_energy_bbtu']\n",
    "                        #df[f'{agriculture_type}_total_energy_services_bbtu'] = df[f'{agriculture_type}_total_energy_services_bbtu'] + df[ f'{agriculture_type}_{water_type}_{pumping_type}_{fuel_type}_energy_services_bbtu']\n",
    "                    else:\n",
    "                        pass"
   ]
  },
  {
   "cell_type": "code",
   "execution_count": null,
   "id": "8dfe4d01-d88e-46ab-8d14-445ea4ca2f74",
   "metadata": {},
   "outputs": [],
   "source": [
    "df= df[df.State == \"CA\"]\n",
    "df = df['electricity_irrigation_ibt_rejected_energy_bbtu']\n",
    "df.sum()"
   ]
  },
  {
   "cell_type": "code",
   "execution_count": null,
   "id": "6affa528-8fbc-4b4a-803a-d6645e391048",
   "metadata": {},
   "outputs": [],
   "source": [
    "df = flow.calc_energy_agriculture(data=data, total=True)\n",
    "df"
   ]
  },
  {
   "cell_type": "code",
   "execution_count": null,
   "id": "f961d7bf-ac09-47fe-a82a-963cfe754492",
   "metadata": {},
   "outputs": [],
   "source": [
    "test_dict = {\"Gfg\" : [4, 7, 5]}\n",
    "  \n",
    "# printing original dictionary\n",
    "print(\"The original dictionary is : \" + str(test_dict))\n",
    "  \n",
    "# initializing K \n",
    "K = 1\n",
    "  \n",
    "# one liner, values() getting all value according to keys\n",
    "res = [sub[K] for sub in test_dict.values()]\n",
    "res"
   ]
  },
  {
   "cell_type": "code",
   "execution_count": null,
   "id": "0357f1aa-b581-434a-ba7a-5dcf3bcbd191",
   "metadata": {},
   "outputs": [],
   "source": [
    "df = flow.calc_energy_agriculture(data=data, total=True)\n",
    "df\n",
    "#df.groupby(\"State\", as_index=False).sum()"
   ]
  },
  {
   "cell_type": "code",
   "execution_count": null,
   "id": "58aca853-7514-4dfe-ad8d-e2c85e4131ee",
   "metadata": {},
   "outputs": [],
   "source": [
    "df = flow.prep_pumping_intensity_data()\n",
    "df"
   ]
  },
  {
   "cell_type": "code",
   "execution_count": null,
   "id": "ba8d2645-282d-43ee-b96f-d84d92c03ae0",
   "metadata": {},
   "outputs": [],
   "source": [
    "df = flow.prep_irrigation_fuel_data()\n",
    "df"
   ]
  },
  {
   "cell_type": "code",
   "execution_count": null,
   "id": "d3c210f3-0063-471e-a5e5-33ae92838dfb",
   "metadata": {},
   "outputs": [],
   "source": [
    "df = flow.calc_electricity_wastewater(data=data)\n",
    "df"
   ]
  },
  {
   "cell_type": "code",
   "execution_count": null,
   "id": "6f08549b-390c-49a5-9a0e-978d27b77785",
   "metadata": {},
   "outputs": [],
   "source": [
    "df = flow.calc_sectoral_use_energy_discharge(data=data, total=True)\n",
    "df"
   ]
  },
  {
   "cell_type": "code",
   "execution_count": null,
   "id": "0359af20-ef86-40dd-abf4-ecbdbf3ff2de",
   "metadata": {},
   "outputs": [],
   "source": []
  },
  {
   "cell_type": "code",
   "execution_count": null,
   "id": "03bd84e9-8d1f-48bf-8095-5bd82ad4eb0e",
   "metadata": {},
   "outputs": [],
   "source": [
    "data.to_csv(r'C:\\Users\\mong275\\Local Files\\Sankey_Notebook_Development\\SankeyFiles\\run4.csv')"
   ]
  },
  {
   "cell_type": "markdown",
   "id": "d51a9843-c524-42d0-a340-a3c256375ef4",
   "metadata": {},
   "source": [
    "To override the data inputs, flow.configure_data() can be run.\n",
    "If run with no arguments provided, this function aggregates all baseline data to calculate flow values for the united states in 2015. Parameters are set, however, such that this function can be used to swap out datafiles. \n",
    "\n",
    "For example, if alternative US county level data was available for interbasin transfer electricity use, that could be used instead of the default data."
   ]
  },
  {
   "cell_type": "code",
   "execution_count": null,
   "id": "333c4d92-c8d9-466d-b63c-29707728b717",
   "metadata": {},
   "outputs": [],
   "source": [
    "df = flow.configure_data()\n",
    "df"
   ]
  },
  {
   "cell_type": "code",
   "execution_count": null,
   "id": "d64abba6-fac3-40c0-9fb7-c6fdcc63b0b8",
   "metadata": {},
   "outputs": [],
   "source": [
    "is_NaN = data.isnull()\n",
    "row_has_NaN = is_NaN.any(axis=1)\n",
    "rows_with_NaN = data[row_has_NaN]\n",
    "rows_with_NaN"
   ]
  },
  {
   "cell_type": "code",
   "execution_count": null,
   "id": "3a9b833c-825b-435f-b2a3-014188b70440",
   "metadata": {},
   "outputs": [],
   "source": []
  },
  {
   "cell_type": "code",
   "execution_count": null,
   "id": "7a7d66f3-42c7-48cc-9e15-c2465aaba0db",
   "metadata": {},
   "outputs": [],
   "source": []
  },
  {
   "cell_type": "code",
   "execution_count": null,
   "id": "aff4de41-5d2a-4690-887f-94b2f78a9734",
   "metadata": {},
   "outputs": [],
   "source": [
    "df2.to_csv(r'C:\\Users\\mong275\\Local Files\\Sankey_Notebook_Development\\SankeyFiles\\run2.csv')"
   ]
  },
  {
   "cell_type": "markdown",
   "id": "aec10fed-bb63-424d-ad3e-9c8b264730da",
   "metadata": {},
   "source": [
    "<h1> Public Water Supply </h1>"
   ]
  },
  {
   "cell_type": "markdown",
   "id": "172c6b7e-078b-464f-a5f1-036549096658",
   "metadata": {},
   "source": [
    "## Water in Public Water Supply"
   ]
  },
  {
   "cell_type": "markdown",
   "id": "6b445803-fdd9-47b1-b804-d4a2302c8bee",
   "metadata": {},
   "source": [
    "### Public Water Supply Withdrawals\n",
    "\n",
    "The USGS 2015 dataset provides public water supply withdrawals directly under data codes 'PS-WGWFr', 'PS-WSWFr','PS-WGWSa', 'PS-WSWSa' for each county."
   ]
  },
  {
   "cell_type": "code",
   "execution_count": null,
   "id": "cb2a4933-645a-4eee-9fed-1061fa1983b7",
   "metadata": {},
   "outputs": [],
   "source": [
    "df = flow.prep_water_use_2015(variables=['State','County','PS-WGWFr', 'PS-WSWFr','PS-WGWSa', 'PS-WSWSa'])\n",
    "df.head()               "
   ]
  },
  {
   "cell_type": "markdown",
   "id": "b0d4fe24-cd10-48f3-bcd9-e1bfbdc56d4b",
   "metadata": {},
   "source": [
    "### Public Water Supply Deliveries to Sectors, Exports, and Imports\n",
    "\n",
    "The USGS 2015 dataset provide public water supply data in three categories: (1) total public water supply withdrawals, (2) public water supply deliveries to domestic end users, and (3) public water supply deliveries to thermoelectric cooling.\n",
    "\n",
    "The 1995 USGS dataset provides public water supply deliveries to domestic, industrial, commercial, thermoelectric cooling, and losses/exports separately. To estimate the deliveries to commercial and industrial customers in 2015, the ratio of each to the sum of deliveries to residential and thermoelectric cooling is calculated from the 1995 data. These ratios are applied to the 2015 residential and thermoelectric cooling public water supply delivery values. \n",
    "\n",
    "Additionally, public water suppy exports and imports are calculated. When the sum of water deliveries is greater than the water withdrawn for public water supply, the difference is considered to be imported. When water withdrawn is greater, excess water after deliveries is considered to be exported.\n",
    "\n",
    "Caveats and assumptions:\n",
    "* This methodology assumes that if no public water supply was delivered to residential or thermoelectric cooling in 1995, then deliveries to industrial and commercial sectors would likewise be zero."
   ]
  },
  {
   "cell_type": "markdown",
   "id": "7114162c-ec51-4cdd-a1d8-edfefa993c57",
   "metadata": {},
   "source": [
    "Potential mods\n",
    " for import pws counties, take 15% of withdrawals and imports as losses and add it on to the top of imports\n",
    " for export pws counties, take 15% of withdrawals as losses, take it out of exports, any remaining put as imports"
   ]
  },
  {
   "cell_type": "code",
   "execution_count": null,
   "id": "9fddacb3-69a0-4baf-9bda-19e9c214e949",
   "metadata": {},
   "outputs": [],
   "source": [
    "df = flow.calc_pws_discharge()\n",
    "df.head()"
   ]
  },
  {
   "cell_type": "markdown",
   "id": "8bceb769-cd65-4b51-bbc9-cac988d2b99e",
   "metadata": {},
   "source": [
    "## Energy in Public Water Supply"
   ]
  },
  {
   "cell_type": "markdown",
   "id": "e72dcf73-1aee-4abf-bb58-f50261f80978",
   "metadata": {},
   "source": [
    "Energy in public water supply includes\n",
    "groundwater pumping, surface water pumping, desalination (when applicable), surface water treatment, groundwater treatment, distribution, and interbasin transfers (when appropriate).\n",
    "\n",
    "An assumption is made that water that goes through desalination additionally requires surface water or groundwater treatment\n",
    "\n",
    "The same groundwater and surface water pumping intensities are used from agriculture sector.\n",
    "\n",
    "Note that interbasin transfer data that is provided to this function is already in bbtu, not in water flows. \n",
    "For non-ibt data, the option is provided for the user to use region-level energy intensity values (as in groundwater and surface water pumping). When values are not available, assumptions for each in kWh/MG are set as default values that can be overriden.\n",
    "\n",
    "intensity values are used from tidwell and LLNL"
   ]
  },
  {
   "cell_type": "code",
   "execution_count": null,
   "id": "83af7fdf-bce2-47fd-ad0d-27c9dbc1095b",
   "metadata": {},
   "outputs": [],
   "source": [
    "df = flow.calc_electricity_public_water_supply(total=True)\n",
    "df.head()"
   ]
  },
  {
   "cell_type": "markdown",
   "id": "0c74b0e6-e705-4fc3-9fb5-bea65083abe7",
   "metadata": {
    "tags": []
   },
   "source": [
    "# Wastewater Treatment\n",
    "Wastewater treatment facility data is provided by EPA for the year 2012. These values are assumed for 2015. Values are provided on a treatment plant level with data on the following variables: \n",
    "Flow:\n",
    "    * Total water flows (MGD) treated by the facility\n",
    "    * Total infiltration flows treated by the facility (leaks into pipes and conduits)\n",
    "Treatment:\n",
    "    * Treatment type of each treatment plant (primary, secondary, advanced)\n",
    "Discharge:\n",
    "    * discharge location of each plant, broken down by percent of flow to each discharge location (e.g., ocean discharge, suface discharge, irrigation reuse)\n",
    "Location:\n",
    "    * county information is included for each power plant\n",
    "    \n",
    "This data allows us to determine total water flows processed and discharged by wastewater facilities at a county level by treatment type. The treatment type allows us to calculate the electricity use by county for wastewater treatment,"
   ]
  },
  {
   "cell_type": "markdown",
   "id": "8cba44f3-f3e3-494f-ae27-1d9054b7bbe0",
   "metadata": {},
   "source": [
    "## Water in Wastewater Treatment"
   ]
  },
  {
   "cell_type": "markdown",
   "id": "5926230b-d7ee-4afe-83fe-b8c6711fc07f",
   "metadata": {},
   "source": [
    "### Water Inflows to Wastewater Treatment Facilities\n",
    "Total flows processed by wastewater treatment facilities are provided in the EPA dataset directly. However, this data will have discrepencies from the water data delivered to various sectors. To estimate water flows from residential, commercial, and industrial sectors to wastewater treatment facilities, an assumption is made that all water delivered from public water supply to these sectors is sent to wastewater treatment facilities. This assumption is also used to fill wastewater treatment flow values for regions that are unavailable in the EPA dataset. For example, south carolina does not have wastewater treatment facility values in the EPA dataset. It is assumed, therefore, that total wastewater treatment flows in south carolina and equal to the total public water supply flows for each county and is attributed to municipal discharge rather than infiltration. It is assumed that 80% of treatment flows are advanced treatment and 20% are secondary treatment. It is also assumed that all discharge is sent to surface. This follows average values for the state of North Carolina which were used as a proxy in this instance."
   ]
  },
  {
   "cell_type": "markdown",
   "id": "7598d9da-f8fd-4b96-8d52-42a88bcb4480",
   "metadata": {},
   "source": [
    "### Quantity of Wastewater Processed by Treatment Type\n",
    "Wastewater treatment plant treatment type is provided in the EPA data directly. These values are binned for simplification into no treatment, primary, secondary, and advanced treatment. When no treatment type was provided for a facility, it was assumed that they were secondary treatment facilities.\n",
    "\n",
    "To see the amount of water (MGD) processed within each county by treatment type, run the cell below."
   ]
  },
  {
   "cell_type": "code",
   "execution_count": null,
   "id": "1216fa88-6561-42a7-a8ce-80034ba58003",
   "metadata": {},
   "outputs": [],
   "source": [
    "df = flow.prep_wastewater_data()\n",
    "df.head()"
   ]
  },
  {
   "cell_type": "markdown",
   "id": "fefe0edf-638f-413c-914a-c28f695a61b9",
   "metadata": {},
   "source": [
    "### Wastewater Treatment Facility Discharge\n",
    "\n",
    "Wastewater treatment plant discharge location is provided in the EPA data directly. These values are binned for simplification into the following categories:\n",
    "\n",
    "* 'outfall to surface waters': 'ww_sd',\n",
    "* 'ocean discharge': 'ww_od',\n",
    "* 'deep well': 'ww_gd',\n",
    "* \"reuse: industrial\": 'ww_in',\n",
    "* 'evaporation': 'ww_evap',\n",
    "* 'spray irrigation': 'ww_ir',\n",
    "* 'overland flow no discharge': 'ww_ww',\n",
    "* 'overland flow with discharge': 'ww_sd',\n",
    "* 'discharge to another facility': 'ww_ww',\n",
    "* 'combined sewer overflow (cso) discharge': 'ww_sd',\n",
    "* 'other': 'ww_sd',\n",
    "* 'discharge to groundwater': 'ww_gd',\n",
    "* 'no discharge, unknown': 'ww_ww',\n",
    "* 'reuse: irrigation': 'ww_ir',\n",
    "* 'reuse: other non-potable': 'ww_sd',\n",
    "* 'reuse: indirect potable': 'ww_sd',\n",
    "* 'reuse: potable': 'ww_ps',\n",
    "* 'reuse: groundwater recharge': 'ww_gd'"
   ]
  },
  {
   "cell_type": "code",
   "execution_count": null,
   "id": "ca28495d-ee3e-444d-87a8-822dd2b96b59",
   "metadata": {},
   "outputs": [],
   "source": [
    "df = flow.prep_wastewater_data()\n",
    "df = df[['FIPS','ww_evap','ww_gd','ww_in','ww_ir','ww_od','ww_ps','ww_sd','ww_ww']]\n",
    "df.head()"
   ]
  },
  {
   "cell_type": "markdown",
   "id": "83f8d020-82bc-413f-9809-6b99f7d03b6d",
   "metadata": {},
   "source": [
    "## Energy in Wastewater Treatment\n",
    "\n",
    "Wastewater treatment facilities have various levels of treatment from primary to advanced. Each treatment level has an increasing level of energy intensity to process the water. Intensity value estimates for wastwater treatment were used from Pabi et al. [17]."
   ]
  },
  {
   "cell_type": "markdown",
   "id": "3e3a89c7-b15a-4ee9-9dae-650f88f8edf9",
   "metadata": {},
   "source": [
    "# Agriculture"
   ]
  },
  {
   "cell_type": "markdown",
   "id": "525afe82-e4d0-4696-be09-341e39b7daf5",
   "metadata": {},
   "source": [
    "## Water in Agriculture"
   ]
  },
  {
   "cell_type": "code",
   "execution_count": null,
   "id": "460054af-419c-4a7f-bb08-987e96dc111a",
   "metadata": {},
   "outputs": [],
   "source": []
  },
  {
   "cell_type": "markdown",
   "id": "f0222bec-066e-47c8-a200-8b3344116ee6",
   "metadata": {},
   "source": [
    "## Energy in Agriculture"
   ]
  },
  {
   "cell_type": "markdown",
   "id": "812009ea-53fa-4ae2-ab09-a1a4311b9855",
   "metadata": {},
   "source": [
    "Energy use in agriculture consists of groundwater pumping, surface water pumping, and interbasin transers. USDA's Farm and Ranch Irrigation Survey (FRIS) provides state-by-state data on irrigation groundwater depth and average irrigation pressurization levels for irrigation within a state, enabling the calculation of pump electricity consumption for both groundwater and surface water pumping [13]. The 2013 survey is the closest year available to 2015 values. It is assumed that values do not vary significantly between the two years.\n",
    "\n",
    "The methodology for calculating groundwater and surface water pumping energy is described in Tidwell et al [14]. However, where that publication uses well depth to water to calculate total differential height, the total well depth is used here as a way to offset some of the losses due to friction that would occur in the piping, as described in Lawrence Berkeley National Laboratory (LBNL) Home Energy Saver & Score: Engineering Documentation [15].\n",
    "\n",
    "Pump efficiency is assumed to be the average (46.5%) of the range (34-59%) listed in [14]. State-level intensity rates are calculated here and applied to the county level water in agriculture values. The general methodology implemented here to determine total energy in agriculture is adapted from [5], not including the additions previously mentioned."
   ]
  },
  {
   "cell_type": "markdown",
   "id": "7a294da4-41ae-4c96-83e2-b15142c0150a",
   "metadata": {},
   "source": [
    "### Groundwater & Surface Water Pumping"
   ]
  },
  {
   "cell_type": "code",
   "execution_count": null,
   "id": "b512c890-a13c-45b8-a715-c80e1ccb470a",
   "metadata": {},
   "outputs": [],
   "source": []
  },
  {
   "cell_type": "markdown",
   "id": "11bc4701-2dee-45ae-aa05-d25917208ae3",
   "metadata": {},
   "source": [
    "### Interbasin Transfers"
   ]
  },
  {
   "cell_type": "code",
   "execution_count": null,
   "id": "0c920586-466a-4ce4-9ba3-b062088056ff",
   "metadata": {},
   "outputs": [],
   "source": []
  },
  {
   "cell_type": "markdown",
   "id": "5e45f8aa-c7ca-46df-9a08-bde1c5508b77",
   "metadata": {},
   "source": [
    "# Electricity Generation"
   ]
  },
  {
   "cell_type": "markdown",
   "id": "6d831d03-40f3-4ad7-ba6b-b0985dd7916d",
   "metadata": {},
   "source": [
    "## Energy in Electricity Generation"
   ]
  },
  {
   "cell_type": "markdown",
   "id": "77c3cb84-67d9-42de-a902-2e9511bad47b",
   "metadata": {},
   "source": [
    "US Energy Information Administration (EIA) 923 data for 2015 is used to determine electricity generation by generator type within each interconnect [12]. The datafile contains information on generation at the plant-level. EIA additionally provides data on which North American Electric Reliability Corporation (NERC) balancing region each plant belongs to. By mapping each NERC region to its associated interconnect, generation within each interconnect can be determined directly.\n",
    "\n",
    "From EIA, the AER Fuel Type Code is used to determine generator type. EIA provides generator type information at a high level of detail. For this reason different generator types are grouped for simplicity using a generator key (GenType923Key.xlsx). For example, different types of natural gas generators are all grouped into \"Natural Gas\" as a type.\n",
    "\n",
    "Energy production is provided as \"Net Generation (Megawatthours)\" in the EIA dataset, \"Total Fuel Consumption (MMBTU)\" is the MMBTU equivalent of fuel going to each plant for electricity generation. The difference between these two values indicates the amount of energy generation that does not go to energy losses."
   ]
  },
  {
   "cell_type": "markdown",
   "id": "fa27311d-24ea-409e-b9cd-0655674b07e9",
   "metadata": {},
   "source": [
    "## will be filled in with calculate function"
   ]
  },
  {
   "cell_type": "code",
   "execution_count": null,
   "id": "b8de3a2e-ae73-41ba-9d7f-4ae4724a17b8",
   "metadata": {},
   "outputs": [],
   "source": []
  },
  {
   "cell_type": "markdown",
   "id": "4443c5c2-b504-42c8-ac3f-0b1087b4be19",
   "metadata": {},
   "source": [
    "## Water in Electricity Generation"
   ]
  },
  {
   "cell_type": "code",
   "execution_count": null,
   "id": "1e028afe-61e5-48d1-8390-99cde95e0b7a",
   "metadata": {},
   "outputs": [],
   "source": []
  },
  {
   "cell_type": "markdown",
   "id": "a8a1580a-826d-4b9d-afcb-5cb956f7aa69",
   "metadata": {},
   "source": [
    "# End Use Sectors"
   ]
  },
  {
   "cell_type": "markdown",
   "id": "d48d9dcc-2879-429b-bdeb-42904f646bbb",
   "metadata": {},
   "source": [
    "## Residential Sector"
   ]
  },
  {
   "cell_type": "markdown",
   "id": "4f740672-5ffc-473c-868c-064701384e1b",
   "metadata": {},
   "source": [
    "### Water in Residential Sector"
   ]
  },
  {
   "cell_type": "code",
   "execution_count": null,
   "id": "325c0a80-139b-467a-9550-663555582a8d",
   "metadata": {},
   "outputs": [],
   "source": []
  },
  {
   "cell_type": "markdown",
   "id": "50a71b4a-c4f3-4a1d-b6c7-a3ae7780aabf",
   "metadata": {},
   "source": [
    "### Energy in Residential Sector"
   ]
  },
  {
   "cell_type": "markdown",
   "id": "e6adff18-e8eb-4339-98af-682aa9b240a9",
   "metadata": {},
   "source": [
    "#### Energy (electricity) Demand in Residential Sector"
   ]
  },
  {
   "cell_type": "markdown",
   "id": "d65dd52b-d06e-4b57-9b11-087f415d0e14",
   "metadata": {},
   "source": [
    "##### weighted by population. <b> consider splitting out by usage if data is available"
   ]
  },
  {
   "cell_type": "code",
   "execution_count": null,
   "id": "61212a75-f22a-4bf6-85bb-f072eb3fad30",
   "metadata": {},
   "outputs": [],
   "source": [
    "df = flow.prep_electricity_demand_data()\n",
    "df"
   ]
  },
  {
   "cell_type": "markdown",
   "id": "bd9e8d0c-0152-4e00-bd6a-a9a3c9bb6482",
   "metadata": {},
   "source": [
    "#### Energy (fuel) Demand in Residential Sector"
   ]
  },
  {
   "cell_type": "markdown",
   "id": "230fbd0f-240a-401c-9d6e-740470bb44b7",
   "metadata": {},
   "source": [
    "## Commercial Sector"
   ]
  },
  {
   "cell_type": "markdown",
   "id": "59f26e7a-dfba-40cd-a3be-c3c8120ccb20",
   "metadata": {},
   "source": [
    "### Water in Commercial Sector"
   ]
  },
  {
   "cell_type": "markdown",
   "id": "33ff8e98-0372-4ebb-87cf-cef498e959c8",
   "metadata": {},
   "source": [
    "### Energy in Commercial Sector"
   ]
  },
  {
   "cell_type": "markdown",
   "id": "a08bb590-6c51-443f-9977-5873de7d7bde",
   "metadata": {},
   "source": [
    "## Industrial Sector"
   ]
  },
  {
   "cell_type": "markdown",
   "id": "659e7492-18d9-4eaa-b276-6164c642cccc",
   "metadata": {},
   "source": [
    "### Water in Industrial Sector"
   ]
  },
  {
   "cell_type": "markdown",
   "id": "19adc037-9619-49d3-bc13-31eb153a03ad",
   "metadata": {},
   "source": [
    "### Energy in Industrial Sector"
   ]
  },
  {
   "cell_type": "markdown",
   "id": "ecc5ca9e-76c1-41c1-b877-647c8c68742f",
   "metadata": {},
   "source": [
    "## Transportation Sector"
   ]
  },
  {
   "cell_type": "markdown",
   "id": "3ab4b15a-4655-4613-83ab-737dc153f776",
   "metadata": {},
   "source": [
    "### Energy in Energy Sector"
   ]
  },
  {
   "cell_type": "code",
   "execution_count": null,
   "id": "079c97fa-27fa-498f-b6a8-fb7dcffd8964",
   "metadata": {},
   "outputs": [],
   "source": []
  },
  {
   "cell_type": "markdown",
   "id": "4b44cc0d-27e1-4167-8aac-90b8f215b378",
   "metadata": {},
   "source": [
    "# Energy Production"
   ]
  },
  {
   "cell_type": "markdown",
   "id": "58b16ff1-f15f-44b0-8adf-4f8012ac9f33",
   "metadata": {},
   "source": [
    "## Biomass"
   ]
  },
  {
   "cell_type": "markdown",
   "id": "6490d936-cb22-4933-b697-76899f4ba876",
   "metadata": {},
   "source": [
    "### Energy in Biomass Production (Ethanol)\n",
    "\n",
    "To find the ethanol production per county, this calculation takes 2015 eia data on ethanol plant capacity which has added locational data by each plant and combines with state level biomass (ethanol) production from prep_state_fuel_production_data() to split out state total by county. Returns a dataframe of ethanol production (bbtu) by county FIPS for each county in the US for 2015.\n",
    "\n",
    "ethanol plant production filler for wyoming (in state total but not location data) ,Torrington, WY100%, https://neo.ne.gov/programs/stats/122/2015/122_201512.htm"
   ]
  },
  {
   "cell_type": "markdown",
   "id": "9f98eecc-1f77-42f4-8fda-1bbf9d6bc1bf",
   "metadata": {},
   "source": [
    "#### <b> <ul> <font color='red'> Consider looking for estimates for electricity use in biomass production to split out from industrial"
   ]
  },
  {
   "cell_type": "markdown",
   "id": "ca9ac8cb-d671-49d2-bec7-605583ace9f4",
   "metadata": {},
   "source": [
    "### Water in Biomass Production (Ethanol)"
   ]
  },
  {
   "cell_type": "markdown",
   "id": "8b68f3d0-a1f6-4d2c-9120-e6fd3e186d7c",
   "metadata": {},
   "source": [
    "#### Water used in irrigation of corn used for ethanol"
   ]
  },
  {
   "cell_type": "markdown",
   "id": "5999934b-a191-478b-a073-955bee3d348b",
   "metadata": {},
   "source": [
    "Data on water used in the irrigation of corn ultimately used for ethanol production does not exist explicitly at any level of granularity and must be calculated out from larger state-level corn growth irrigation intensity estimates.\n",
    "\n",
    "The percent of corn grown for ethanol in the US was used from US DOE Alternative Fuels Data Center [21]. Total corn production for ethanol (5.22 billion bushels) was divided by total corn producton (13.6 billion bushels) for 2015 and calculated to be 38.406%. Data on a state or county-level does not exist, therefore, this percentage is applied to all states with corn production. A state-level fraction of corn used for ethanol production could be calculated from the amount of ethanol produced in a state and applying an assumption of corn required per unit of ethanol, however, not all corn used in ethanol is produced in the state that uses it which lead to states such as CA with an ethanol fraction of corn growth of nearly 900% of their total corn production. Given that we are unable to determine which states the imported corn for ethanol would be coming from, the decision was made to apply the US total fraction to all states.\n",
    "\n",
    "Total water used in the production of corn for ethanol is therefore the assumed 38.406% multiplied by the product of the total amount of irrigated acres of corn (AC_Irr_Corn) and the calculated irrigation intensity for that state (total acres applied to all crops / total acres irrigated, all crops) provided from USDA Census of Agriculture Irrigation and Water Management Survey [22], Table 35 and Table 4, respectively. The irrigation intensity for corn is calculated from the average irrigation intensity for the state.\n",
    "\n",
    "To split the total MGY applied between fresh surface and groundwater, USDA FRIS Census of Agriculture data on the fraction of surface water (surface water + off farm water) from total water supply (including groundwater) in corn production is used from Table 37 of [22]. Off-farm sources are assumed to be surface water.\n",
    "\n",
    "Some states that grow corn do not provide data on the water source breakdown (surface vs. ground) for their irrigation. The surface to groundwater ratio for all irrigation in a state is substituted for these states. These values are calculated from the USGS 2015 water dataset."
   ]
  },
  {
   "cell_type": "code",
   "execution_count": null,
   "id": "2a1407da-7213-4f97-8488-3be10a396513",
   "metadata": {},
   "outputs": [],
   "source": [
    "df = flow.prep_county_water_corn_biomass_data()"
   ]
  },
  {
   "cell_type": "markdown",
   "id": "588a4233-3774-4ade-b348-a4ff44416ac8",
   "metadata": {},
   "source": [
    "#### Water used in the production of ethanol (fermentation)"
   ]
  },
  {
   "cell_type": "markdown",
   "id": "a779da6b-abb6-4348-8287-528a54c22474",
   "metadata": {},
   "source": [
    "#### <b> <ul> <font color='red'> Consider looking for estimates for water used in the fermentation process of ethanol production, not just corn growth."
   ]
  },
  {
   "cell_type": "markdown",
   "id": "cf5d56f8-5bc4-471a-b203-36183f4a1b89",
   "metadata": {},
   "source": [
    "## Petroleum"
   ]
  },
  {
   "cell_type": "markdown",
   "id": "290231c8-e904-412c-83bd-4562d10d1212",
   "metadata": {},
   "source": [
    "### Energy in Petroleum Production (Conventional and Unconventional Oil Drilling)"
   ]
  },
  {
   "cell_type": "markdown",
   "id": "f1dcd09b-4751-4067-90c8-41a6796cec46",
   "metadata": {},
   "source": [
    " crude oil production by county fillers\n",
    "Idaho: https://ogcc.idaho.gov/wp-content/uploads/sites/3/2017/06/2016-10-6-state-of-idaho-releases-oil-gas-production-data.pdf\n",
    "100% of Idaho petroleum and natural gas is from Payette County\n",
    "\n",
    "Alaska,\n",
    "https://www.commerce.alaska.gov/web/aogcc/Data.aspx\n",
    "almost all oil is produced along the north slope. Calculated from oil production download. The rest is on the kenai peninsula (cook inlet basin)\n",
    "\n",
    "Maryland\n",
    "https://www.eia.gov/state/analysis.php?sid=MD#34\n",
    "assumed 50/50 split between Garret and Allegany Counties\n",
    "\n",
    "Nevada\n",
    "https://gisweb.unr.edu/OilGas/\n",
    "Assumed to be in nye county with producing oil wells (only 4 btu)\n",
    "\n",
    "Oregon\n",
    "https://www.oregongeology.org/mlrr/oilgas-report.htm\n",
    "Only one county (columbia county)"
   ]
  },
  {
   "cell_type": "markdown",
   "id": "61206ecf-cfac-465d-8396-64eb8c7cf4a5",
   "metadata": {},
   "source": [
    "### Water in Petroleum Production (Conventional and Unconventional Oil Drilling)"
   ]
  },
  {
   "cell_type": "markdown",
   "id": "aabccc27-383e-4532-ad3d-b0fdd6f34b45",
   "metadata": {},
   "source": [
    "## Natural Gas"
   ]
  },
  {
   "cell_type": "markdown",
   "id": "cc3d88a8-2668-401e-bbe9-4574273136d5",
   "metadata": {},
   "source": [
    "### Energy in Natural Gas Production (Unconventional Drilling)"
   ]
  },
  {
   "cell_type": "markdown",
   "id": "39d740be-7ce4-422e-8087-a410a20306ff",
   "metadata": {},
   "source": [
    "### Water in Natural Gas Production (Unconventional Drilling)"
   ]
  },
  {
   "cell_type": "markdown",
   "id": "547622b2-a8ea-4deb-8579-ff7202cfa921",
   "metadata": {},
   "source": [
    "## Coal"
   ]
  },
  {
   "cell_type": "markdown",
   "id": "98f14885-561d-4f48-a630-ac52b4f91023",
   "metadata": {},
   "source": [
    "### Energy in Coal Production (Coal Mining)"
   ]
  },
  {
   "cell_type": "markdown",
   "id": "82728a63-8d67-4d7a-b8be-da2566f118ee",
   "metadata": {},
   "source": [
    "### Water in Coal Production (Coal Mining)"
   ]
  },
  {
   "cell_type": "code",
   "execution_count": null,
   "id": "7cdf3331-e82e-485e-baab-ef696af225f3",
   "metadata": {},
   "outputs": [],
   "source": []
  },
  {
   "cell_type": "code",
   "execution_count": null,
   "id": "f3f634f1-67dd-4922-8625-ec8fcb184969",
   "metadata": {},
   "outputs": [],
   "source": []
  },
  {
   "cell_type": "code",
   "execution_count": null,
   "id": "cb2e49b0-5309-430c-a507-1fa835c6d505",
   "metadata": {},
   "outputs": [],
   "source": []
  },
  {
   "cell_type": "markdown",
   "id": "6083ab3c-2888-45ac-8584-0d44fb1a4878",
   "metadata": {
    "tags": []
   },
   "source": [
    "# Intensities & Percentages"
   ]
  },
  {
   "cell_type": "markdown",
   "id": "a0d12353-4606-4f7f-84f0-da10416dd08e",
   "metadata": {},
   "source": [
    "#### Conveyance Losses as a Percent of Water Withdrawn for Irrigation\n",
    "Conveyance loss fraction for irrigation is calculated from the USGS 1995 water use dataset. It is calculated as the total conveyance losses (MGD) divided by the total water withdrawn (MGD) for irrigation. Looking at the fractions at the county level shows that a small subset of counties have unreliable values where conveyance losses are far greater than the amount withdrawn for irrigation. As a result, the ability to cap the loss fraction at a specified amount it provided and replace it with the average of the specified region. The default loss cap fraction is .90."
   ]
  },
  {
   "cell_type": "code",
   "execution_count": null,
   "id": "e1e70eb3-2586-4c96-9542-dc397efede04",
   "metadata": {},
   "outputs": [],
   "source": [
    "df = flow.prep_water_use_1995()\n",
    "df = flow.calc_conveyance_loss_frac(df)\n",
    "df.head()"
   ]
  },
  {
   "cell_type": "markdown",
   "id": "e6bad304-bbd2-4c42-b1ab-c2e8228469c9",
   "metadata": {},
   "source": [
    "##### Change in loss cap"
   ]
  },
  {
   "cell_type": "code",
   "execution_count": null,
   "id": "321b6479-d093-4059-80e6-629a34605b80",
   "metadata": {},
   "outputs": [],
   "source": [
    "df = flow.prep_water_use_1995()\n",
    "df = flow.calc_conveyance_loss_frac(df, loss_cap_amt=.20)\n",
    "df.head()"
   ]
  },
  {
   "cell_type": "code",
   "execution_count": null,
   "id": "26a3da74-77fe-4db6-a3df-897dcaa39d38",
   "metadata": {},
   "outputs": [],
   "source": [
    "help(flow.plot_bar)"
   ]
  },
  {
   "cell_type": "code",
   "execution_count": null,
   "id": "c771f8ba-02d8-4daf-9390-9fcac3e826d3",
   "metadata": {},
   "outputs": [],
   "source": [
    "flow.plot_bar(df, \"State\",\"IR_CLoss_Frac\", \"State\", y_axis_title = \"Irrigation Conveyance Loss Fraction\", x_axis_title=\"State\")"
   ]
  },
  {
   "cell_type": "markdown",
   "id": "18ddc662-ba7b-4e29-8e6c-dc423a529fcd",
   "metadata": {},
   "source": [
    "#### Water Use Intensity for Hydroelectric Generation"
   ]
  },
  {
   "cell_type": "code",
   "execution_count": null,
   "id": "9551b6a2-0897-47c3-90d3-51adce0ef8ea",
   "metadata": {},
   "outputs": [],
   "source": [
    "df = flow.calc_hydroelectric_water_intensity(intensity_cap=True, intensity_cap_amt=165, region_avg=False)\n",
    "\n",
    "df.head()"
   ]
  },
  {
   "cell_type": "code",
   "execution_count": null,
   "id": "f18b2c41-1e1b-4182-b6ec-0af07fca062e",
   "metadata": {},
   "outputs": [],
   "source": [
    "flow.plot_bar(df, \"State\",\"HY_IF\", \"State\")"
   ]
  },
  {
   "cell_type": "code",
   "execution_count": null,
   "id": "2567ceec-abeb-43a7-a36a-c3b28379bbc6",
   "metadata": {},
   "outputs": [],
   "source": []
  }
 ],
 "metadata": {
  "kernelspec": {
   "display_name": "flow",
   "language": "python",
   "name": "flow"
  },
  "language_info": {
   "codemirror_mode": {
    "name": "ipython",
    "version": 3
   },
   "file_extension": ".py",
   "mimetype": "text/x-python",
   "name": "python",
   "nbconvert_exporter": "python",
   "pygments_lexer": "ipython3",
   "version": "3.9.4"
  }
 },
 "nbformat": 4,
 "nbformat_minor": 5
}

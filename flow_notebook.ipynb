{
 "cells": [
  {
   "cell_type": "code",
   "execution_count": 1,
   "id": "69cc54be-6a46-4bd2-8e67-65573815a90f",
   "metadata": {
    "tags": []
   },
   "outputs": [],
   "source": [
    "import pandas as pd\n",
    "import numpy as np\n",
    "import matplotlib as plt\n",
    "import flow"
   ]
  },
  {
   "cell_type": "markdown",
   "id": "aec10fed-bb63-424d-ad3e-9c8b264730da",
   "metadata": {},
   "source": [
    "<h1> 2015 USGS Water Data </h1>\n",
    "    \n",
    "The majority of water use estimates are from the 2015 USGS report documenting water use in the US, which provide water values at the county-level for a number of variables [1]. "
   ]
  },
  {
   "cell_type": "code",
   "execution_count": 2,
   "id": "b6b4d968-8f90-498d-a5cc-6d654d2bab2a",
   "metadata": {
    "tags": []
   },
   "outputs": [],
   "source": [
    "df = flow.prep_water_use_2015()"
   ]
  },
  {
   "cell_type": "markdown",
   "id": "8049f0c6-a4c3-4bd9-bee0-7c254e89ec19",
   "metadata": {},
   "source": [
    "To see the full list of variables in the 2015 USGS dataset that are used in this analysis, run the cell below:"
   ]
  },
  {
   "cell_type": "code",
   "execution_count": 3,
   "id": "18b2a23a-27b9-4d7f-b46d-7cd0b6face8d",
   "metadata": {
    "tags": []
   },
   "outputs": [
    {
     "name": "stdout",
     "output_type": "stream",
     "text": [
      "FIPS\n",
      "STATE\n",
      "COUNTY\n",
      "PS-WGWFr\n",
      "PS-WSWFr\n",
      "PS-WGWSa\n",
      "PS-WSWSa\n",
      "DO-PSDel\n",
      "PS-Wtotl\n",
      "DO-WGWFr\n",
      "DO-WSWFr\n",
      "PT-WGWFr\n",
      "PT-WGWSa\n",
      "PT-WSWFr\n",
      "PT-WSWSa\n",
      "PT-RecWW\n",
      "PT-PSDel\n",
      "PT-CUTot\n",
      "IN-WGWFr\n",
      "IN-WSWFr\n",
      "IN-WGWSa\n",
      "IN-WSWSa\n",
      "MI-WGWFr\n",
      "MI-WSWFr\n",
      "MI-WGWSa\n",
      "MI-WSWSa\n",
      "IR-WGWFr\n",
      "IR-WSWFr\n",
      "IR-CUsFr\n"
     ]
    }
   ],
   "source": [
    "for variables in df.columns:\n",
    "    print(variables)"
   ]
  },
  {
   "cell_type": "markdown",
   "id": "0f68f8db-a511-44a4-9701-4e2b576245dc",
   "metadata": {},
   "source": [
    "To see a barchart of any of the variables, fill in the code below:"
   ]
  },
  {
   "cell_type": "code",
   "execution_count": 5,
   "id": "576328d8-739d-4341-8776-e05165e18915",
   "metadata": {},
   "outputs": [
    {
     "data": {
      "image/png": "[encoded data removed]",
      "text/plain": [
       "<Figure size 1440x720 with 1 Axes>"
      ]
     },
     "metadata": {
      "needs_background": "light"
     },
     "output_type": "display_data"
    }
   ],
   "source": [
    "flow.plot_bar(df, \"STATE\",\"MI-WGWFr\", \"STATE\")"
   ]
  },
  {
   "cell_type": "markdown",
   "id": "6083ab3c-2888-45ac-8584-0d44fb1a4878",
   "metadata": {
    "tags": []
   },
   "source": [
    "# Intensities & Percentages"
   ]
  },
  {
   "cell_type": "markdown",
   "id": "a0d12353-4606-4f7f-84f0-da10416dd08e",
   "metadata": {},
   "source": [
    "#### Conveyance Losses as a Percent of Water Withdrawn for Irrigation\n",
    "Conveyance loss fraction for irrigation is calculated from the USGS 1995 water use dataset. It is calculated as the total conveyance losses (MGD) divided by the total water withdrawn (MGD) for irrigation. Looking at the fractions at the county level shows that a small subset of counties have unreliable values where conveyance losses are far greater than the amount withdrawn for irrigation. As a result, the ability to cap the loss fraction at a specified amount it provided and replace it with the average of the specified region. The default loss cap fraction is .90."
   ]
  },
  {
   "cell_type": "code",
   "execution_count": 3,
   "id": "a15b9333-d469-4db7-aa64-c2c4944cb0c2",
   "metadata": {},
   "outputs": [
    {
     "name": "stdout",
     "output_type": "stream",
     "text": [
      "Help on function calc_conveyance_loss_frac in module flow.calculate:\n",
      "\n",
      "calc_conveyance_loss_frac(df, loss_cap=True, loss_cap_amt=0.9, all_variables=False, regions=['State']) -> pandas.core.frame.DataFrame\n",
      "    This function calculates the fraction of water lost during conveyance for irrigation for each row in the provided\n",
      "    dataframe. The fraction is calculated as water lost in conveyance of irrigation water divided by total water\n",
      "    withdrawn for irrigation.\n",
      "    \n",
      "    :param loss_cap:                       If True, a cap is placed on the conveyance loss fraction output\n",
      "                                            and the regional average is substituted.\n",
      "    :type loss_cap:                        bool\n",
      "    \n",
      "    :param loss_cap_amt:                   The amount at which irrigation losses are capped and values beyond are\n",
      "                                            replaced by the specified cap amount.\n",
      "    :type loss_cap_amt:                    float\n",
      "    \n",
      "    :param all_variables:                  If True, displays all dataframe columns from provided dataframe. If False,\n",
      "                                            only displays specified region(s) and IR_CLoss_Frac.\n",
      "    :type all_variables:                   bool\n",
      "    \n",
      "    :return:                               DataFrame of conveyance loss fractions by row\n",
      "\n"
     ]
    }
   ],
   "source": [
    "help(flow.calc_conveyance_loss_frac)"
   ]
  },
  {
   "cell_type": "code",
   "execution_count": 6,
   "id": "e1e70eb3-2586-4c96-9542-dc397efede04",
   "metadata": {},
   "outputs": [],
   "source": [
    "df = flow.prep_water_use_1995()\n",
    "df = flow.calc_conveyance_loss_frac(df, regions = [\"State\", \"CountyName\"])"
   ]
  },
  {
   "cell_type": "code",
   "execution_count": 7,
   "id": "b74fdac9-5b54-4822-9ee5-a4438ba13748",
   "metadata": {},
   "outputs": [
    {
     "data": {
      "text/html": [
       "<div>\n",
       "<style scoped>\n",
       "    .dataframe tbody tr th:only-of-type {\n",
       "        vertical-align: middle;\n",
       "    }\n",
       "\n",
       "    .dataframe tbody tr th {\n",
       "        vertical-align: top;\n",
       "    }\n",
       "\n",
       "    .dataframe thead th {\n",
       "        text-align: right;\n",
       "    }\n",
       "</style>\n",
       "<table border=\"1\" class=\"dataframe\">\n",
       "  <thead>\n",
       "    <tr style=\"text-align: right;\">\n",
       "      <th></th>\n",
       "      <th>State</th>\n",
       "      <th>CountyName</th>\n",
       "      <th>IR_CLoss_Frac</th>\n",
       "    </tr>\n",
       "  </thead>\n",
       "  <tbody>\n",
       "    <tr>\n",
       "      <th>0</th>\n",
       "      <td>AL</td>\n",
       "      <td>Autauga</td>\n",
       "      <td>0.0</td>\n",
       "    </tr>\n",
       "    <tr>\n",
       "      <th>1</th>\n",
       "      <td>AL</td>\n",
       "      <td>Baldwin</td>\n",
       "      <td>0.0</td>\n",
       "    </tr>\n",
       "    <tr>\n",
       "      <th>2</th>\n",
       "      <td>AL</td>\n",
       "      <td>Barbour</td>\n",
       "      <td>0.0</td>\n",
       "    </tr>\n",
       "    <tr>\n",
       "      <th>3</th>\n",
       "      <td>AL</td>\n",
       "      <td>Bibb</td>\n",
       "      <td>0.0</td>\n",
       "    </tr>\n",
       "    <tr>\n",
       "      <th>4</th>\n",
       "      <td>AL</td>\n",
       "      <td>Blount</td>\n",
       "      <td>0.0</td>\n",
       "    </tr>\n",
       "  </tbody>\n",
       "</table>\n",
       "</div>"
      ],
      "text/plain": [
       "  State CountyName  IR_CLoss_Frac\n",
       "0    AL    Autauga            0.0\n",
       "1    AL    Baldwin            0.0\n",
       "2    AL    Barbour            0.0\n",
       "3    AL       Bibb            0.0\n",
       "4    AL     Blount            0.0"
      ]
     },
     "execution_count": 7,
     "metadata": {},
     "output_type": "execute_result"
    }
   ],
   "source": [
    "df.head()"
   ]
  },
  {
   "cell_type": "code",
   "execution_count": 8,
   "id": "c771f8ba-02d8-4daf-9390-9fcac3e826d3",
   "metadata": {},
   "outputs": [
    {
     "data": {
      "image/png": "[encoded data removed]",
      "text/plain": [
       "<Figure size 1440x720 with 1 Axes>"
      ]
     },
     "metadata": {
      "needs_background": "light"
     },
     "output_type": "display_data"
    }
   ],
   "source": [
    "flow.plot_bar(df, \"State\",\"IR_CLoss_Frac\", \"State\", y_axis_title = \"Irrigation Conveyance Loss Fraction\", x_axis_title=\"State\")"
   ]
  },
  {
   "cell_type": "code",
   "execution_count": 11,
   "id": "9551b6a2-0897-47c3-90d3-51adce0ef8ea",
   "metadata": {},
   "outputs": [
    {
     "data": {
      "text/html": [
       "<div>\n",
       "<style scoped>\n",
       "    .dataframe tbody tr th:only-of-type {\n",
       "        vertical-align: middle;\n",
       "    }\n",
       "\n",
       "    .dataframe tbody tr th {\n",
       "        vertical-align: top;\n",
       "    }\n",
       "\n",
       "    .dataframe thead th {\n",
       "        text-align: right;\n",
       "    }\n",
       "</style>\n",
       "<table border=\"1\" class=\"dataframe\">\n",
       "  <thead>\n",
       "    <tr style=\"text-align: right;\">\n",
       "      <th></th>\n",
       "      <th>State</th>\n",
       "      <th>CountyName</th>\n",
       "      <th>FIPS</th>\n",
       "      <th>HY_IF</th>\n",
       "    </tr>\n",
       "  </thead>\n",
       "  <tbody>\n",
       "    <tr>\n",
       "      <th>0</th>\n",
       "      <td>AL</td>\n",
       "      <td>Autauga</td>\n",
       "      <td>01001</td>\n",
       "      <td>31.055819</td>\n",
       "    </tr>\n",
       "    <tr>\n",
       "      <th>1</th>\n",
       "      <td>AL</td>\n",
       "      <td>Baldwin</td>\n",
       "      <td>01003</td>\n",
       "      <td>NaN</td>\n",
       "    </tr>\n",
       "    <tr>\n",
       "      <th>2</th>\n",
       "      <td>AL</td>\n",
       "      <td>Barbour</td>\n",
       "      <td>01005</td>\n",
       "      <td>NaN</td>\n",
       "    </tr>\n",
       "    <tr>\n",
       "      <th>3</th>\n",
       "      <td>AL</td>\n",
       "      <td>Bibb</td>\n",
       "      <td>01007</td>\n",
       "      <td>NaN</td>\n",
       "    </tr>\n",
       "    <tr>\n",
       "      <th>4</th>\n",
       "      <td>AL</td>\n",
       "      <td>Blount</td>\n",
       "      <td>01009</td>\n",
       "      <td>NaN</td>\n",
       "    </tr>\n",
       "  </tbody>\n",
       "</table>\n",
       "</div>"
      ],
      "text/plain": [
       "  State CountyName   FIPS      HY_IF\n",
       "0    AL    Autauga  01001  31.055819\n",
       "1    AL    Baldwin  01003        NaN\n",
       "2    AL    Barbour  01005        NaN\n",
       "3    AL       Bibb  01007        NaN\n",
       "4    AL     Blount  01009        NaN"
      ]
     },
     "execution_count": 11,
     "metadata": {},
     "output_type": "execute_result"
    }
   ],
   "source": [
    "df = flow.calc_hydroelectric_water_intensity(intensity_cap=True, region_avg=False)\n",
    "\n",
    "df.head()"
   ]
  },
  {
   "cell_type": "code",
   "execution_count": null,
   "id": "d624122c-9472-48cd-99f7-88f994b0c536",
   "metadata": {},
   "outputs": [],
   "source": []
  },
  {
   "cell_type": "code",
   "execution_count": null,
   "id": "f18b2c41-1e1b-4182-b6ec-0af07fca062e",
   "metadata": {},
   "outputs": [],
   "source": [
    "flow.plot_bar(df, \"State\",\"HY_IF\", \"State\")"
   ]
  },
  {
   "cell_type": "code",
   "execution_count": null,
   "id": "2567ceec-abeb-43a7-a36a-c3b28379bbc6",
   "metadata": {},
   "outputs": [],
   "source": []
  }
 ],
 "metadata": {
  "kernelspec": {
   "display_name": "flow",
   "language": "python",
   "name": "flow"
  },
  "language_info": {
   "codemirror_mode": {
    "name": "ipython",
    "version": 3
   },
   "file_extension": ".py",
   "mimetype": "text/x-python",
   "name": "python",
   "nbconvert_exporter": "python",
   "pygments_lexer": "ipython3",
   "version": "3.9.4"
  }
 },
 "nbformat": 4,
 "nbformat_minor": 5
}

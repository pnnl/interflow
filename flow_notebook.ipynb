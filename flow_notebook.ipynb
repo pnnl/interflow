{
 "cells": [
  {
   "cell_type": "markdown",
   "id": "2a14df23-b5b2-4b15-afbf-a1a0c7a29552",
   "metadata": {},
   "source": [
    "# Welcome to Flow!"
   ]
  },
  {
   "cell_type": "code",
   "execution_count": 1,
   "id": "69cc54be-6a46-4bd2-8e67-65573815a90f",
   "metadata": {
    "tags": []
   },
   "outputs": [],
   "source": [
    "import pandas as pd\n",
    "import numpy as np\n",
    "import matplotlib as plt\n",
    "\n",
    "import flow\n",
    "data = flow.configure_data()\n",
    "#"
   ]
  },
  {
   "cell_type": "code",
   "execution_count": 2,
   "id": "9a76de84-880c-4c83-8c72-eb6c4619580a",
   "metadata": {},
   "outputs": [
    {
     "data": {
      "text/plain": [
       "FIPS                                           4800148003480054800748009480114801348015480174...\n",
       "State                                          TXTXTXTXTXTXTXTXTXTXTXTXTXTXTXTXTXTXTXTXTXTXTX...\n",
       "County                                         Anderson CountyAndrews CountyAngelina CountyAr...\n",
       "pws_total_energy_bbtu                                                               21021.899603\n",
       "pws_total_rejected_energy_bbtu                                                       7357.664861\n",
       "pws_total_energy_services_bbtu                                                      13664.234742\n",
       "pws_pumping_total_energy_bbtu                                                        1653.370313\n",
       "pws_pumping_total_energy_services_bbtu                                               1074.690704\n",
       "pws_pumping_total_rejected_energy_bbtu                                                 578.67961\n",
       "pws_treatment_total_energy_bbtu                                                      1532.732937\n",
       "pws_treatment_total_energy_services_bbtu                                              996.276409\n",
       "pws_treatment_total_rejected_energy_bbtu                                              536.456528\n",
       "pws_distribution_total_energy_bbtu                                                   3737.218904\n",
       "pws_distribution_total_energy_services_bbtu                                          2429.192288\n",
       "pws_distribution_total_rejected_energy_bbtu                                          1308.026617\n",
       "electricity_pws_ibt_bbtu                                                            14098.577448\n",
       "electricity_pws_ibt_rejected_energy_bbtu                                             4934.502107\n",
       "electricity_pws_ibt_energy_services_bbtu                                             9164.075341\n",
       "dtype: object"
      ]
     },
     "execution_count": 2,
     "metadata": {},
     "output_type": "execute_result"
    }
   ],
   "source": [
    "df = flow.calc_energy_pws_v2(data=data, total=True)\n",
    "df = df[df.State == \"TX\"]\n",
    "df.sum()"
   ]
  },
  {
   "cell_type": "code",
   "execution_count": 3,
   "id": "f958bc2d-4aca-4d70-ae02-c65b58508b71",
   "metadata": {},
   "outputs": [
    {
     "data": {
      "text/plain": [
       "21021.899602965335"
      ]
     },
     "execution_count": 3,
     "metadata": {},
     "output_type": "execute_result"
    }
   ],
   "source": [
    "x = (df['pws_pumping_total_energy_bbtu']+df['pws_treatment_total_energy_bbtu']+df['pws_distribution_total_energy_bbtu']+df['electricity_pws_ibt_bbtu']).sum()\n",
    "x"
   ]
  },
  {
   "cell_type": "code",
   "execution_count": 5,
   "id": "244c9f33-8a2e-46a6-a3bb-420c820ae54a",
   "metadata": {},
   "outputs": [
    {
     "name": "stdout",
     "output_type": "stream",
     "text": [
      "pumping\n",
      "treatment\n",
      "distribution\n",
      "pumping\n",
      "treatment\n",
      "distribution\n",
      "pumping\n",
      "treatment\n",
      "distribution\n",
      "pumping\n",
      "treatment\n",
      "distribution\n"
     ]
    },
    {
     "data": {
      "text/html": [
       "<div>\n",
       "<style scoped>\n",
       "    .dataframe tbody tr th:only-of-type {\n",
       "        vertical-align: middle;\n",
       "    }\n",
       "\n",
       "    .dataframe tbody tr th {\n",
       "        vertical-align: top;\n",
       "    }\n",
       "\n",
       "    .dataframe thead th {\n",
       "        text-align: right;\n",
       "    }\n",
       "</style>\n",
       "<table border=\"1\" class=\"dataframe\">\n",
       "  <thead>\n",
       "    <tr style=\"text-align: right;\">\n",
       "      <th></th>\n",
       "      <th>pws_groundwater_total_energy_bbtu</th>\n",
       "      <th>pws_groundwater_total_energy_services_bbtu</th>\n",
       "      <th>pws_groundwater_total_rejected_energy_bbtu</th>\n",
       "      <th>pws_surface_water_total_energy_bbtu</th>\n",
       "      <th>pws_surface_water_total_energy_services_bbtu</th>\n",
       "      <th>pws_surface_water_total_rejected_energy_bbtu</th>\n",
       "    </tr>\n",
       "  </thead>\n",
       "  <tbody>\n",
       "  </tbody>\n",
       "</table>\n",
       "</div>"
      ],
      "text/plain": [
       "Empty DataFrame\n",
       "Columns: [pws_groundwater_total_energy_bbtu, pws_groundwater_total_energy_services_bbtu, pws_groundwater_total_rejected_energy_bbtu, pws_surface_water_total_energy_bbtu, pws_surface_water_total_energy_services_bbtu, pws_surface_water_total_rejected_energy_bbtu]\n",
       "Index: []"
      ]
     },
     "execution_count": 5,
     "metadata": {},
     "output_type": "execute_result"
    }
   ],
   "source": [
    "types_dict = {'fresh':{'groundwater':{'pumping': 920, 'treatment': 205, 'distribution': 1040},\n",
    "                           'surface_water': {'pumping': 145, 'treatment': 405, 'distribution': 1040}},\n",
    "                           'saline':\n",
    "                               {'groundwater':\n",
    "                                    {'pumping': 920, 'treatment': 13805, 'distribution': 1040},\n",
    "                                'surface_water':\n",
    "                                    {'pumping': 145, 'treatment': 14005, 'distribution': 1040}}}\n",
    "for water_type in types_dict:\n",
    "    for source_type in types_dict[water_type]:\n",
    "            for energy_type in types_dict[water_type][source_type]:\n",
    "                print(energy_type)\n",
    "df = pd.DataFrame()\n",
    "for water_type in types_dict:\n",
    "    for source_type in types_dict[water_type]:\n",
    "        for energy_type in types_dict[water_type]:\n",
    "            df[f'pws_{energy_type}_total_energy_bbtu'] = 0\n",
    "            df[f'pws_{energy_type}_total_energy_services_bbtu'] = 0\n",
    "            df[f'pws_{energy_type}_total_rejected_energy_bbtu'] = 0\n",
    "df     "
   ]
  },
  {
   "cell_type": "code",
   "execution_count": 7,
   "id": "8dfe4d01-d88e-46ab-8d14-445ea4ca2f74",
   "metadata": {},
   "outputs": [
    {
     "data": {
      "text/plain": [
       "9849.530549071445"
      ]
     },
     "execution_count": 7,
     "metadata": {},
     "output_type": "execute_result"
    }
   ],
   "source": [
    "df= df[df.State == \"CA\"]\n",
    "df = df['electricity_irrigation_ibt_rejected_energy_bbtu']\n",
    "df.sum()"
   ]
  },
  {
   "cell_type": "code",
   "execution_count": 2,
   "id": "6affa528-8fbc-4b4a-803a-d6645e391048",
   "metadata": {},
   "outputs": [
    {
     "data": {
      "text/html": [
       "<div>\n",
       "<style scoped>\n",
       "    .dataframe tbody tr th:only-of-type {\n",
       "        vertical-align: middle;\n",
       "    }\n",
       "\n",
       "    .dataframe tbody tr th {\n",
       "        vertical-align: top;\n",
       "    }\n",
       "\n",
       "    .dataframe thead th {\n",
       "        text-align: right;\n",
       "    }\n",
       "</style>\n",
       "<table border=\"1\" class=\"dataframe\">\n",
       "  <thead>\n",
       "    <tr style=\"text-align: right;\">\n",
       "      <th></th>\n",
       "      <th>FIPS</th>\n",
       "      <th>State</th>\n",
       "      <th>County</th>\n",
       "      <th>crop_irrigation_total_energy_bbtu</th>\n",
       "      <th>crop_irrigation_total_rejected_energy_bbtu</th>\n",
       "      <th>crop_irrigation_total_energy_services_bbtu</th>\n",
       "      <th>golf_irrigation_total_energy_bbtu</th>\n",
       "      <th>golf_irrigation_total_rejected_energy_bbtu</th>\n",
       "      <th>golf_irrigation_total_energy_services_bbtu</th>\n",
       "      <th>livestock_total_energy_bbtu</th>\n",
       "      <th>livestock_total_rejected_energy_bbtu</th>\n",
       "      <th>livestock_total_energy_services_bbtu</th>\n",
       "      <th>aquaculture_total_energy_bbtu</th>\n",
       "      <th>aquaculture_total_rejected_energy_bbtu</th>\n",
       "      <th>aquaculture_total_energy_services_bbtu</th>\n",
       "    </tr>\n",
       "  </thead>\n",
       "  <tbody>\n",
       "    <tr>\n",
       "      <th>0</th>\n",
       "      <td>01001</td>\n",
       "      <td>AL</td>\n",
       "      <td>Autauga County</td>\n",
       "      <td>0.016044</td>\n",
       "      <td>0.005616</td>\n",
       "      <td>0.010429</td>\n",
       "      <td>0.000298</td>\n",
       "      <td>0.000104</td>\n",
       "      <td>0.000194</td>\n",
       "      <td>0.000587</td>\n",
       "      <td>0.000205</td>\n",
       "      <td>0.000381</td>\n",
       "      <td>0.000000</td>\n",
       "      <td>0.000000</td>\n",
       "      <td>0.000000</td>\n",
       "    </tr>\n",
       "    <tr>\n",
       "      <th>1</th>\n",
       "      <td>01003</td>\n",
       "      <td>AL</td>\n",
       "      <td>Baldwin County</td>\n",
       "      <td>0.237871</td>\n",
       "      <td>0.083255</td>\n",
       "      <td>0.154616</td>\n",
       "      <td>0.008065</td>\n",
       "      <td>0.002823</td>\n",
       "      <td>0.005242</td>\n",
       "      <td>0.000919</td>\n",
       "      <td>0.000322</td>\n",
       "      <td>0.000597</td>\n",
       "      <td>0.000332</td>\n",
       "      <td>0.000116</td>\n",
       "      <td>0.000216</td>\n",
       "    </tr>\n",
       "    <tr>\n",
       "      <th>2</th>\n",
       "      <td>01005</td>\n",
       "      <td>AL</td>\n",
       "      <td>Barbour County</td>\n",
       "      <td>0.006298</td>\n",
       "      <td>0.002204</td>\n",
       "      <td>0.004094</td>\n",
       "      <td>0.000875</td>\n",
       "      <td>0.000306</td>\n",
       "      <td>0.000569</td>\n",
       "      <td>0.001230</td>\n",
       "      <td>0.000430</td>\n",
       "      <td>0.000799</td>\n",
       "      <td>0.001195</td>\n",
       "      <td>0.000418</td>\n",
       "      <td>0.000777</td>\n",
       "    </tr>\n",
       "    <tr>\n",
       "      <th>3</th>\n",
       "      <td>01007</td>\n",
       "      <td>AL</td>\n",
       "      <td>Bibb County</td>\n",
       "      <td>0.000143</td>\n",
       "      <td>0.000050</td>\n",
       "      <td>0.000093</td>\n",
       "      <td>0.000298</td>\n",
       "      <td>0.000104</td>\n",
       "      <td>0.000194</td>\n",
       "      <td>0.000218</td>\n",
       "      <td>0.000076</td>\n",
       "      <td>0.000142</td>\n",
       "      <td>0.000000</td>\n",
       "      <td>0.000000</td>\n",
       "      <td>0.000000</td>\n",
       "    </tr>\n",
       "    <tr>\n",
       "      <th>4</th>\n",
       "      <td>01009</td>\n",
       "      <td>AL</td>\n",
       "      <td>Blount County</td>\n",
       "      <td>0.001234</td>\n",
       "      <td>0.000432</td>\n",
       "      <td>0.000802</td>\n",
       "      <td>0.001360</td>\n",
       "      <td>0.000476</td>\n",
       "      <td>0.000884</td>\n",
       "      <td>0.002929</td>\n",
       "      <td>0.001025</td>\n",
       "      <td>0.001904</td>\n",
       "      <td>0.000000</td>\n",
       "      <td>0.000000</td>\n",
       "      <td>0.000000</td>\n",
       "    </tr>\n",
       "    <tr>\n",
       "      <th>...</th>\n",
       "      <td>...</td>\n",
       "      <td>...</td>\n",
       "      <td>...</td>\n",
       "      <td>...</td>\n",
       "      <td>...</td>\n",
       "      <td>...</td>\n",
       "      <td>...</td>\n",
       "      <td>...</td>\n",
       "      <td>...</td>\n",
       "      <td>...</td>\n",
       "      <td>...</td>\n",
       "      <td>...</td>\n",
       "      <td>...</td>\n",
       "      <td>...</td>\n",
       "      <td>...</td>\n",
       "    </tr>\n",
       "    <tr>\n",
       "      <th>3219</th>\n",
       "      <td>72151</td>\n",
       "      <td>PR</td>\n",
       "      <td>Yabucoa Municipio</td>\n",
       "      <td>0.000000</td>\n",
       "      <td>0.000000</td>\n",
       "      <td>0.000000</td>\n",
       "      <td>0.000000</td>\n",
       "      <td>0.000000</td>\n",
       "      <td>0.000000</td>\n",
       "      <td>0.001842</td>\n",
       "      <td>0.000645</td>\n",
       "      <td>0.001197</td>\n",
       "      <td>0.000050</td>\n",
       "      <td>0.000017</td>\n",
       "      <td>0.000032</td>\n",
       "    </tr>\n",
       "    <tr>\n",
       "      <th>3220</th>\n",
       "      <td>72153</td>\n",
       "      <td>PR</td>\n",
       "      <td>Yauco Municipio</td>\n",
       "      <td>0.000000</td>\n",
       "      <td>0.000000</td>\n",
       "      <td>0.000000</td>\n",
       "      <td>0.000000</td>\n",
       "      <td>0.000000</td>\n",
       "      <td>0.000000</td>\n",
       "      <td>0.000149</td>\n",
       "      <td>0.000052</td>\n",
       "      <td>0.000097</td>\n",
       "      <td>0.000000</td>\n",
       "      <td>0.000000</td>\n",
       "      <td>0.000000</td>\n",
       "    </tr>\n",
       "    <tr>\n",
       "      <th>3221</th>\n",
       "      <td>78010</td>\n",
       "      <td>VI</td>\n",
       "      <td>St. Croix County</td>\n",
       "      <td>0.000000</td>\n",
       "      <td>0.000000</td>\n",
       "      <td>0.000000</td>\n",
       "      <td>0.000000</td>\n",
       "      <td>0.000000</td>\n",
       "      <td>0.000000</td>\n",
       "      <td>0.000066</td>\n",
       "      <td>0.000023</td>\n",
       "      <td>0.000043</td>\n",
       "      <td>0.000000</td>\n",
       "      <td>0.000000</td>\n",
       "      <td>0.000000</td>\n",
       "    </tr>\n",
       "    <tr>\n",
       "      <th>3222</th>\n",
       "      <td>78020</td>\n",
       "      <td>VI</td>\n",
       "      <td>St. John County</td>\n",
       "      <td>0.000000</td>\n",
       "      <td>0.000000</td>\n",
       "      <td>0.000000</td>\n",
       "      <td>0.000000</td>\n",
       "      <td>0.000000</td>\n",
       "      <td>0.000000</td>\n",
       "      <td>0.000000</td>\n",
       "      <td>0.000000</td>\n",
       "      <td>0.000000</td>\n",
       "      <td>0.000000</td>\n",
       "      <td>0.000000</td>\n",
       "      <td>0.000000</td>\n",
       "    </tr>\n",
       "    <tr>\n",
       "      <th>3223</th>\n",
       "      <td>78030</td>\n",
       "      <td>VI</td>\n",
       "      <td>St. Thomas County</td>\n",
       "      <td>0.000000</td>\n",
       "      <td>0.000000</td>\n",
       "      <td>0.000000</td>\n",
       "      <td>0.000000</td>\n",
       "      <td>0.000000</td>\n",
       "      <td>0.000000</td>\n",
       "      <td>0.000000</td>\n",
       "      <td>0.000000</td>\n",
       "      <td>0.000000</td>\n",
       "      <td>0.000000</td>\n",
       "      <td>0.000000</td>\n",
       "      <td>0.000000</td>\n",
       "    </tr>\n",
       "  </tbody>\n",
       "</table>\n",
       "<p>3224 rows × 15 columns</p>\n",
       "</div>"
      ],
      "text/plain": [
       "       FIPS State             County  crop_irrigation_total_energy_bbtu  \\\n",
       "0     01001    AL     Autauga County                           0.016044   \n",
       "1     01003    AL     Baldwin County                           0.237871   \n",
       "2     01005    AL     Barbour County                           0.006298   \n",
       "3     01007    AL        Bibb County                           0.000143   \n",
       "4     01009    AL      Blount County                           0.001234   \n",
       "...     ...   ...                ...                                ...   \n",
       "3219  72151    PR  Yabucoa Municipio                           0.000000   \n",
       "3220  72153    PR    Yauco Municipio                           0.000000   \n",
       "3221  78010    VI   St. Croix County                           0.000000   \n",
       "3222  78020    VI    St. John County                           0.000000   \n",
       "3223  78030    VI  St. Thomas County                           0.000000   \n",
       "\n",
       "      crop_irrigation_total_rejected_energy_bbtu  \\\n",
       "0                                       0.005616   \n",
       "1                                       0.083255   \n",
       "2                                       0.002204   \n",
       "3                                       0.000050   \n",
       "4                                       0.000432   \n",
       "...                                          ...   \n",
       "3219                                    0.000000   \n",
       "3220                                    0.000000   \n",
       "3221                                    0.000000   \n",
       "3222                                    0.000000   \n",
       "3223                                    0.000000   \n",
       "\n",
       "      crop_irrigation_total_energy_services_bbtu  \\\n",
       "0                                       0.010429   \n",
       "1                                       0.154616   \n",
       "2                                       0.004094   \n",
       "3                                       0.000093   \n",
       "4                                       0.000802   \n",
       "...                                          ...   \n",
       "3219                                    0.000000   \n",
       "3220                                    0.000000   \n",
       "3221                                    0.000000   \n",
       "3222                                    0.000000   \n",
       "3223                                    0.000000   \n",
       "\n",
       "      golf_irrigation_total_energy_bbtu  \\\n",
       "0                              0.000298   \n",
       "1                              0.008065   \n",
       "2                              0.000875   \n",
       "3                              0.000298   \n",
       "4                              0.001360   \n",
       "...                                 ...   \n",
       "3219                           0.000000   \n",
       "3220                           0.000000   \n",
       "3221                           0.000000   \n",
       "3222                           0.000000   \n",
       "3223                           0.000000   \n",
       "\n",
       "      golf_irrigation_total_rejected_energy_bbtu  \\\n",
       "0                                       0.000104   \n",
       "1                                       0.002823   \n",
       "2                                       0.000306   \n",
       "3                                       0.000104   \n",
       "4                                       0.000476   \n",
       "...                                          ...   \n",
       "3219                                    0.000000   \n",
       "3220                                    0.000000   \n",
       "3221                                    0.000000   \n",
       "3222                                    0.000000   \n",
       "3223                                    0.000000   \n",
       "\n",
       "      golf_irrigation_total_energy_services_bbtu  livestock_total_energy_bbtu  \\\n",
       "0                                       0.000194                     0.000587   \n",
       "1                                       0.005242                     0.000919   \n",
       "2                                       0.000569                     0.001230   \n",
       "3                                       0.000194                     0.000218   \n",
       "4                                       0.000884                     0.002929   \n",
       "...                                          ...                          ...   \n",
       "3219                                    0.000000                     0.001842   \n",
       "3220                                    0.000000                     0.000149   \n",
       "3221                                    0.000000                     0.000066   \n",
       "3222                                    0.000000                     0.000000   \n",
       "3223                                    0.000000                     0.000000   \n",
       "\n",
       "      livestock_total_rejected_energy_bbtu  \\\n",
       "0                                 0.000205   \n",
       "1                                 0.000322   \n",
       "2                                 0.000430   \n",
       "3                                 0.000076   \n",
       "4                                 0.001025   \n",
       "...                                    ...   \n",
       "3219                              0.000645   \n",
       "3220                              0.000052   \n",
       "3221                              0.000023   \n",
       "3222                              0.000000   \n",
       "3223                              0.000000   \n",
       "\n",
       "      livestock_total_energy_services_bbtu  aquaculture_total_energy_bbtu  \\\n",
       "0                                 0.000381                       0.000000   \n",
       "1                                 0.000597                       0.000332   \n",
       "2                                 0.000799                       0.001195   \n",
       "3                                 0.000142                       0.000000   \n",
       "4                                 0.001904                       0.000000   \n",
       "...                                    ...                            ...   \n",
       "3219                              0.001197                       0.000050   \n",
       "3220                              0.000097                       0.000000   \n",
       "3221                              0.000043                       0.000000   \n",
       "3222                              0.000000                       0.000000   \n",
       "3223                              0.000000                       0.000000   \n",
       "\n",
       "      aquaculture_total_rejected_energy_bbtu  \\\n",
       "0                                   0.000000   \n",
       "1                                   0.000116   \n",
       "2                                   0.000418   \n",
       "3                                   0.000000   \n",
       "4                                   0.000000   \n",
       "...                                      ...   \n",
       "3219                                0.000017   \n",
       "3220                                0.000000   \n",
       "3221                                0.000000   \n",
       "3222                                0.000000   \n",
       "3223                                0.000000   \n",
       "\n",
       "      aquaculture_total_energy_services_bbtu  \n",
       "0                                   0.000000  \n",
       "1                                   0.000216  \n",
       "2                                   0.000777  \n",
       "3                                   0.000000  \n",
       "4                                   0.000000  \n",
       "...                                      ...  \n",
       "3219                                0.000032  \n",
       "3220                                0.000000  \n",
       "3221                                0.000000  \n",
       "3222                                0.000000  \n",
       "3223                                0.000000  \n",
       "\n",
       "[3224 rows x 15 columns]"
      ]
     },
     "execution_count": 2,
     "metadata": {},
     "output_type": "execute_result"
    }
   ],
   "source": [
    "df = flow.calc_energy_agriculture(data=data, total=True)\n",
    "df"
   ]
  },
  {
   "cell_type": "code",
   "execution_count": 23,
   "id": "f961d7bf-ac09-47fe-a82a-963cfe754492",
   "metadata": {},
   "outputs": [
    {
     "name": "stdout",
     "output_type": "stream",
     "text": [
      "The original dictionary is : {'Gfg': [4, 7, 5]}\n"
     ]
    },
    {
     "ename": "SyntaxError",
     "evalue": "can't use starred expression here (Temp/ipykernel_14748/3505006981.py, line 10)",
     "output_type": "error",
     "traceback": [
      "\u001b[1;36m  File \u001b[1;32m\"C:\\Users\\mong275\\AppData\\Local\\Temp/ipykernel_14748/3505006981.py\"\u001b[1;36m, line \u001b[1;32m10\u001b[0m\n\u001b[1;33m    res = *[sub[K] for sub in test_dict.values()]\u001b[0m\n\u001b[1;37m          ^\u001b[0m\n\u001b[1;31mSyntaxError\u001b[0m\u001b[1;31m:\u001b[0m can't use starred expression here\n"
     ]
    }
   ],
   "source": [
    "test_dict = {\"Gfg\" : [4, 7, 5]}\n",
    "  \n",
    "# printing original dictionary\n",
    "print(\"The original dictionary is : \" + str(test_dict))\n",
    "  \n",
    "# initializing K \n",
    "K = 1\n",
    "  \n",
    "# one liner, values() getting all value according to keys\n",
    "res = [sub[K] for sub in test_dict.values()]\n",
    "res"
   ]
  },
  {
   "cell_type": "code",
   "execution_count": 3,
   "id": "0357f1aa-b581-434a-ba7a-5dcf3bcbd191",
   "metadata": {},
   "outputs": [
    {
     "ename": "TypeError",
     "evalue": "unhashable type: 'set'",
     "output_type": "error",
     "traceback": [
      "\u001b[1;31m---------------------------------------------------------------------------\u001b[0m",
      "\u001b[1;31mTypeError\u001b[0m                                 Traceback (most recent call last)",
      "\u001b[1;32m~\\AppData\\Local\\Temp/ipykernel_31692/4271829584.py\u001b[0m in \u001b[0;36m<module>\u001b[1;34m\u001b[0m\n\u001b[1;32m----> 1\u001b[1;33m \u001b[0mdf\u001b[0m \u001b[1;33m=\u001b[0m \u001b[0mflow\u001b[0m\u001b[1;33m.\u001b[0m\u001b[0mcalc_energy_agriculture\u001b[0m\u001b[1;33m(\u001b[0m\u001b[0mdata\u001b[0m\u001b[1;33m=\u001b[0m\u001b[0mdata\u001b[0m\u001b[1;33m,\u001b[0m \u001b[0mtotal\u001b[0m\u001b[1;33m=\u001b[0m\u001b[1;32mTrue\u001b[0m\u001b[1;33m)\u001b[0m\u001b[1;33m\u001b[0m\u001b[1;33m\u001b[0m\u001b[0m\n\u001b[0m\u001b[0;32m      2\u001b[0m \u001b[0mdf\u001b[0m\u001b[1;33m\u001b[0m\u001b[1;33m\u001b[0m\u001b[0m\n\u001b[0;32m      3\u001b[0m \u001b[1;31m#df.groupby(\"State\", as_index=False).sum()\u001b[0m\u001b[1;33m\u001b[0m\u001b[1;33m\u001b[0m\u001b[1;33m\u001b[0m\u001b[0m\n",
      "\u001b[1;32m~\\Local Files\\Repos\\flow\\flow\\calculate.py\u001b[0m in \u001b[0;36mcalc_energy_agriculture\u001b[1;34m(data, pumping_types, agriculture_types, water_types, fuel_types, fuel_percents, regions, total)\u001b[0m\n\u001b[0;32m    473\u001b[0m         \u001b[1;32mfor\u001b[0m \u001b[0mitem\u001b[0m \u001b[1;32min\u001b[0m \u001b[0mtotal_list\u001b[0m\u001b[1;33m:\u001b[0m\u001b[1;33m\u001b[0m\u001b[1;33m\u001b[0m\u001b[0m\n\u001b[0;32m    474\u001b[0m             \u001b[0mcolumn_list\u001b[0m\u001b[1;33m.\u001b[0m\u001b[0mappend\u001b[0m\u001b[1;33m(\u001b[0m\u001b[0mitem\u001b[0m\u001b[1;33m)\u001b[0m\u001b[1;33m\u001b[0m\u001b[1;33m\u001b[0m\u001b[0m\n\u001b[1;32m--> 475\u001b[1;33m         \u001b[0mdf\u001b[0m \u001b[1;33m=\u001b[0m \u001b[0mdf\u001b[0m\u001b[1;33m[\u001b[0m\u001b[0mcolumn_list\u001b[0m\u001b[1;33m]\u001b[0m\u001b[1;33m\u001b[0m\u001b[1;33m\u001b[0m\u001b[0m\n\u001b[0m\u001b[0;32m    476\u001b[0m     \u001b[1;32melse\u001b[0m\u001b[1;33m:\u001b[0m\u001b[1;33m\u001b[0m\u001b[1;33m\u001b[0m\u001b[0m\n\u001b[0;32m    477\u001b[0m         \u001b[1;32mfor\u001b[0m \u001b[0mitem\u001b[0m \u001b[1;32min\u001b[0m \u001b[0mretain_list\u001b[0m\u001b[1;33m:\u001b[0m\u001b[1;33m\u001b[0m\u001b[1;33m\u001b[0m\u001b[0m\n",
      "\u001b[1;32m~\\Environments\\lib\\site-packages\\pandas\\core\\frame.py\u001b[0m in \u001b[0;36m__getitem__\u001b[1;34m(self, key)\u001b[0m\n\u001b[0;32m   3462\u001b[0m             \u001b[1;32mif\u001b[0m \u001b[0mis_iterator\u001b[0m\u001b[1;33m(\u001b[0m\u001b[0mkey\u001b[0m\u001b[1;33m)\u001b[0m\u001b[1;33m:\u001b[0m\u001b[1;33m\u001b[0m\u001b[1;33m\u001b[0m\u001b[0m\n\u001b[0;32m   3463\u001b[0m                 \u001b[0mkey\u001b[0m \u001b[1;33m=\u001b[0m \u001b[0mlist\u001b[0m\u001b[1;33m(\u001b[0m\u001b[0mkey\u001b[0m\u001b[1;33m)\u001b[0m\u001b[1;33m\u001b[0m\u001b[1;33m\u001b[0m\u001b[0m\n\u001b[1;32m-> 3464\u001b[1;33m             \u001b[0mindexer\u001b[0m \u001b[1;33m=\u001b[0m \u001b[0mself\u001b[0m\u001b[1;33m.\u001b[0m\u001b[0mloc\u001b[0m\u001b[1;33m.\u001b[0m\u001b[0m_get_listlike_indexer\u001b[0m\u001b[1;33m(\u001b[0m\u001b[0mkey\u001b[0m\u001b[1;33m,\u001b[0m \u001b[0maxis\u001b[0m\u001b[1;33m=\u001b[0m\u001b[1;36m1\u001b[0m\u001b[1;33m)\u001b[0m\u001b[1;33m[\u001b[0m\u001b[1;36m1\u001b[0m\u001b[1;33m]\u001b[0m\u001b[1;33m\u001b[0m\u001b[1;33m\u001b[0m\u001b[0m\n\u001b[0m\u001b[0;32m   3465\u001b[0m \u001b[1;33m\u001b[0m\u001b[0m\n\u001b[0;32m   3466\u001b[0m         \u001b[1;31m# take() does not accept boolean indexers\u001b[0m\u001b[1;33m\u001b[0m\u001b[1;33m\u001b[0m\u001b[1;33m\u001b[0m\u001b[0m\n",
      "\u001b[1;32m~\\Environments\\lib\\site-packages\\pandas\\core\\indexing.py\u001b[0m in \u001b[0;36m_get_listlike_indexer\u001b[1;34m(self, key, axis)\u001b[0m\n\u001b[0;32m   1307\u001b[0m \u001b[1;33m\u001b[0m\u001b[0m\n\u001b[0;32m   1308\u001b[0m         \u001b[1;32mif\u001b[0m \u001b[0max\u001b[0m\u001b[1;33m.\u001b[0m\u001b[0m_index_as_unique\u001b[0m\u001b[1;33m:\u001b[0m\u001b[1;33m\u001b[0m\u001b[1;33m\u001b[0m\u001b[0m\n\u001b[1;32m-> 1309\u001b[1;33m             \u001b[0mindexer\u001b[0m \u001b[1;33m=\u001b[0m \u001b[0max\u001b[0m\u001b[1;33m.\u001b[0m\u001b[0mget_indexer_for\u001b[0m\u001b[1;33m(\u001b[0m\u001b[0mkeyarr\u001b[0m\u001b[1;33m)\u001b[0m\u001b[1;33m\u001b[0m\u001b[1;33m\u001b[0m\u001b[0m\n\u001b[0m\u001b[0;32m   1310\u001b[0m             \u001b[0mkeyarr\u001b[0m \u001b[1;33m=\u001b[0m \u001b[0max\u001b[0m\u001b[1;33m.\u001b[0m\u001b[0mreindex\u001b[0m\u001b[1;33m(\u001b[0m\u001b[0mkeyarr\u001b[0m\u001b[1;33m)\u001b[0m\u001b[1;33m[\u001b[0m\u001b[1;36m0\u001b[0m\u001b[1;33m]\u001b[0m\u001b[1;33m\u001b[0m\u001b[1;33m\u001b[0m\u001b[0m\n\u001b[0;32m   1311\u001b[0m         \u001b[1;32melse\u001b[0m\u001b[1;33m:\u001b[0m\u001b[1;33m\u001b[0m\u001b[1;33m\u001b[0m\u001b[0m\n",
      "\u001b[1;32m~\\Environments\\lib\\site-packages\\pandas\\core\\indexes\\base.py\u001b[0m in \u001b[0;36mget_indexer_for\u001b[1;34m(self, target, **kwargs)\u001b[0m\n\u001b[0;32m   5273\u001b[0m         \"\"\"\n\u001b[0;32m   5274\u001b[0m         \u001b[1;32mif\u001b[0m \u001b[0mself\u001b[0m\u001b[1;33m.\u001b[0m\u001b[0m_index_as_unique\u001b[0m\u001b[1;33m:\u001b[0m\u001b[1;33m\u001b[0m\u001b[1;33m\u001b[0m\u001b[0m\n\u001b[1;32m-> 5275\u001b[1;33m             \u001b[1;32mreturn\u001b[0m \u001b[0mself\u001b[0m\u001b[1;33m.\u001b[0m\u001b[0mget_indexer\u001b[0m\u001b[1;33m(\u001b[0m\u001b[0mtarget\u001b[0m\u001b[1;33m,\u001b[0m \u001b[1;33m**\u001b[0m\u001b[0mkwargs\u001b[0m\u001b[1;33m)\u001b[0m\u001b[1;33m\u001b[0m\u001b[1;33m\u001b[0m\u001b[0m\n\u001b[0m\u001b[0;32m   5276\u001b[0m         \u001b[0mindexer\u001b[0m\u001b[1;33m,\u001b[0m \u001b[0m_\u001b[0m \u001b[1;33m=\u001b[0m \u001b[0mself\u001b[0m\u001b[1;33m.\u001b[0m\u001b[0mget_indexer_non_unique\u001b[0m\u001b[1;33m(\u001b[0m\u001b[0mtarget\u001b[0m\u001b[1;33m)\u001b[0m\u001b[1;33m\u001b[0m\u001b[1;33m\u001b[0m\u001b[0m\n\u001b[0;32m   5277\u001b[0m         \u001b[1;32mreturn\u001b[0m \u001b[0mindexer\u001b[0m\u001b[1;33m\u001b[0m\u001b[1;33m\u001b[0m\u001b[0m\n",
      "\u001b[1;32m~\\Environments\\lib\\site-packages\\pandas\\core\\indexes\\base.py\u001b[0m in \u001b[0;36mget_indexer\u001b[1;34m(self, target, method, limit, tolerance)\u001b[0m\n\u001b[0;32m   3484\u001b[0m             )\n\u001b[0;32m   3485\u001b[0m \u001b[1;33m\u001b[0m\u001b[0m\n\u001b[1;32m-> 3486\u001b[1;33m         \u001b[1;32mreturn\u001b[0m \u001b[0mself\u001b[0m\u001b[1;33m.\u001b[0m\u001b[0m_get_indexer\u001b[0m\u001b[1;33m(\u001b[0m\u001b[0mtarget\u001b[0m\u001b[1;33m,\u001b[0m \u001b[0mmethod\u001b[0m\u001b[1;33m,\u001b[0m \u001b[0mlimit\u001b[0m\u001b[1;33m,\u001b[0m \u001b[0mtolerance\u001b[0m\u001b[1;33m)\u001b[0m\u001b[1;33m\u001b[0m\u001b[1;33m\u001b[0m\u001b[0m\n\u001b[0m\u001b[0;32m   3487\u001b[0m \u001b[1;33m\u001b[0m\u001b[0m\n\u001b[0;32m   3488\u001b[0m     def _get_indexer(\n",
      "\u001b[1;32m~\\Environments\\lib\\site-packages\\pandas\\core\\indexes\\base.py\u001b[0m in \u001b[0;36m_get_indexer\u001b[1;34m(self, target, method, limit, tolerance)\u001b[0m\n\u001b[0;32m   3510\u001b[0m             \u001b[0mindexer\u001b[0m \u001b[1;33m=\u001b[0m \u001b[0mself\u001b[0m\u001b[1;33m.\u001b[0m\u001b[0m_get_nearest_indexer\u001b[0m\u001b[1;33m(\u001b[0m\u001b[0mtarget\u001b[0m\u001b[1;33m,\u001b[0m \u001b[0mlimit\u001b[0m\u001b[1;33m,\u001b[0m \u001b[0mtolerance\u001b[0m\u001b[1;33m)\u001b[0m\u001b[1;33m\u001b[0m\u001b[1;33m\u001b[0m\u001b[0m\n\u001b[0;32m   3511\u001b[0m         \u001b[1;32melse\u001b[0m\u001b[1;33m:\u001b[0m\u001b[1;33m\u001b[0m\u001b[1;33m\u001b[0m\u001b[0m\n\u001b[1;32m-> 3512\u001b[1;33m             \u001b[0mindexer\u001b[0m \u001b[1;33m=\u001b[0m \u001b[0mself\u001b[0m\u001b[1;33m.\u001b[0m\u001b[0m_engine\u001b[0m\u001b[1;33m.\u001b[0m\u001b[0mget_indexer\u001b[0m\u001b[1;33m(\u001b[0m\u001b[0mtarget\u001b[0m\u001b[1;33m.\u001b[0m\u001b[0m_get_engine_target\u001b[0m\u001b[1;33m(\u001b[0m\u001b[1;33m)\u001b[0m\u001b[1;33m)\u001b[0m\u001b[1;33m\u001b[0m\u001b[1;33m\u001b[0m\u001b[0m\n\u001b[0m\u001b[0;32m   3513\u001b[0m \u001b[1;33m\u001b[0m\u001b[0m\n\u001b[0;32m   3514\u001b[0m         \u001b[1;32mreturn\u001b[0m \u001b[0mensure_platform_int\u001b[0m\u001b[1;33m(\u001b[0m\u001b[0mindexer\u001b[0m\u001b[1;33m)\u001b[0m\u001b[1;33m\u001b[0m\u001b[1;33m\u001b[0m\u001b[0m\n",
      "\u001b[1;32m~\\Environments\\lib\\site-packages\\pandas\\_libs\\index.pyx\u001b[0m in \u001b[0;36mpandas._libs.index.IndexEngine.get_indexer\u001b[1;34m()\u001b[0m\n",
      "\u001b[1;32mpandas\\_libs\\hashtable_class_helper.pxi\u001b[0m in \u001b[0;36mpandas._libs.hashtable.PyObjectHashTable.lookup\u001b[1;34m()\u001b[0m\n",
      "\u001b[1;31mTypeError\u001b[0m: unhashable type: 'set'"
     ]
    }
   ],
   "source": [
    "df = flow.calc_energy_agriculture(data=data, total=True)\n",
    "df\n",
    "#df.groupby(\"State\", as_index=False).sum()"
   ]
  },
  {
   "cell_type": "code",
   "execution_count": 6,
   "id": "58aca853-7514-4dfe-ad8d-e2c85e4131ee",
   "metadata": {},
   "outputs": [
    {
     "data": {
      "text/html": [
       "<div>\n",
       "<style scoped>\n",
       "    .dataframe tbody tr th:only-of-type {\n",
       "        vertical-align: middle;\n",
       "    }\n",
       "\n",
       "    .dataframe tbody tr th {\n",
       "        vertical-align: top;\n",
       "    }\n",
       "\n",
       "    .dataframe thead th {\n",
       "        text-align: right;\n",
       "    }\n",
       "</style>\n",
       "<table border=\"1\" class=\"dataframe\">\n",
       "  <thead>\n",
       "    <tr style=\"text-align: right;\">\n",
       "      <th></th>\n",
       "      <th>FIPS</th>\n",
       "      <th>State</th>\n",
       "      <th>County</th>\n",
       "      <th>groundwater_pumping_bbtu_per_mg</th>\n",
       "      <th>surface_water_pumping_bbtu_per_mg</th>\n",
       "      <th>wastewater_pumping_bbtu_per_mg</th>\n",
       "    </tr>\n",
       "  </thead>\n",
       "  <tbody>\n",
       "    <tr>\n",
       "      <th>0</th>\n",
       "      <td>01001</td>\n",
       "      <td>AL</td>\n",
       "      <td>Autauga County</td>\n",
       "      <td>0.004775</td>\n",
       "      <td>0.001863</td>\n",
       "      <td>0.001863</td>\n",
       "    </tr>\n",
       "    <tr>\n",
       "      <th>1</th>\n",
       "      <td>01003</td>\n",
       "      <td>AL</td>\n",
       "      <td>Baldwin County</td>\n",
       "      <td>0.004775</td>\n",
       "      <td>0.001863</td>\n",
       "      <td>0.001863</td>\n",
       "    </tr>\n",
       "    <tr>\n",
       "      <th>2</th>\n",
       "      <td>01005</td>\n",
       "      <td>AL</td>\n",
       "      <td>Barbour County</td>\n",
       "      <td>0.004775</td>\n",
       "      <td>0.001863</td>\n",
       "      <td>0.001863</td>\n",
       "    </tr>\n",
       "    <tr>\n",
       "      <th>3</th>\n",
       "      <td>01007</td>\n",
       "      <td>AL</td>\n",
       "      <td>Bibb County</td>\n",
       "      <td>0.004775</td>\n",
       "      <td>0.001863</td>\n",
       "      <td>0.001863</td>\n",
       "    </tr>\n",
       "    <tr>\n",
       "      <th>4</th>\n",
       "      <td>01009</td>\n",
       "      <td>AL</td>\n",
       "      <td>Blount County</td>\n",
       "      <td>0.004775</td>\n",
       "      <td>0.001863</td>\n",
       "      <td>0.001863</td>\n",
       "    </tr>\n",
       "    <tr>\n",
       "      <th>...</th>\n",
       "      <td>...</td>\n",
       "      <td>...</td>\n",
       "      <td>...</td>\n",
       "      <td>...</td>\n",
       "      <td>...</td>\n",
       "      <td>...</td>\n",
       "    </tr>\n",
       "    <tr>\n",
       "      <th>3218</th>\n",
       "      <td>72151</td>\n",
       "      <td>PR</td>\n",
       "      <td>Yabucoa Municipio</td>\n",
       "      <td>0.004977</td>\n",
       "      <td>0.001660</td>\n",
       "      <td>0.001660</td>\n",
       "    </tr>\n",
       "    <tr>\n",
       "      <th>3219</th>\n",
       "      <td>72153</td>\n",
       "      <td>PR</td>\n",
       "      <td>Yauco Municipio</td>\n",
       "      <td>0.004977</td>\n",
       "      <td>0.001660</td>\n",
       "      <td>0.001660</td>\n",
       "    </tr>\n",
       "    <tr>\n",
       "      <th>3220</th>\n",
       "      <td>78010</td>\n",
       "      <td>VI</td>\n",
       "      <td>St. Croix County</td>\n",
       "      <td>0.004977</td>\n",
       "      <td>0.001660</td>\n",
       "      <td>0.001660</td>\n",
       "    </tr>\n",
       "    <tr>\n",
       "      <th>3221</th>\n",
       "      <td>78020</td>\n",
       "      <td>VI</td>\n",
       "      <td>St. John County</td>\n",
       "      <td>0.004977</td>\n",
       "      <td>0.001660</td>\n",
       "      <td>0.001660</td>\n",
       "    </tr>\n",
       "    <tr>\n",
       "      <th>3222</th>\n",
       "      <td>78030</td>\n",
       "      <td>VI</td>\n",
       "      <td>St. Thomas County</td>\n",
       "      <td>0.004977</td>\n",
       "      <td>0.001660</td>\n",
       "      <td>0.001660</td>\n",
       "    </tr>\n",
       "  </tbody>\n",
       "</table>\n",
       "<p>3223 rows × 6 columns</p>\n",
       "</div>"
      ],
      "text/plain": [
       "       FIPS State             County  groundwater_pumping_bbtu_per_mg  \\\n",
       "0     01001    AL     Autauga County                         0.004775   \n",
       "1     01003    AL     Baldwin County                         0.004775   \n",
       "2     01005    AL     Barbour County                         0.004775   \n",
       "3     01007    AL        Bibb County                         0.004775   \n",
       "4     01009    AL      Blount County                         0.004775   \n",
       "...     ...   ...                ...                              ...   \n",
       "3218  72151    PR  Yabucoa Municipio                         0.004977   \n",
       "3219  72153    PR    Yauco Municipio                         0.004977   \n",
       "3220  78010    VI   St. Croix County                         0.004977   \n",
       "3221  78020    VI    St. John County                         0.004977   \n",
       "3222  78030    VI  St. Thomas County                         0.004977   \n",
       "\n",
       "      surface_water_pumping_bbtu_per_mg  wastewater_pumping_bbtu_per_mg  \n",
       "0                              0.001863                        0.001863  \n",
       "1                              0.001863                        0.001863  \n",
       "2                              0.001863                        0.001863  \n",
       "3                              0.001863                        0.001863  \n",
       "4                              0.001863                        0.001863  \n",
       "...                                 ...                             ...  \n",
       "3218                           0.001660                        0.001660  \n",
       "3219                           0.001660                        0.001660  \n",
       "3220                           0.001660                        0.001660  \n",
       "3221                           0.001660                        0.001660  \n",
       "3222                           0.001660                        0.001660  \n",
       "\n",
       "[3223 rows x 6 columns]"
      ]
     },
     "execution_count": 6,
     "metadata": {},
     "output_type": "execute_result"
    }
   ],
   "source": [
    "df = flow.prep_pumping_intensity_data()\n",
    "df"
   ]
  },
  {
   "cell_type": "code",
   "execution_count": 8,
   "id": "ba8d2645-282d-43ee-b96f-d84d92c03ae0",
   "metadata": {},
   "outputs": [
    {
     "data": {
      "text/html": [
       "<div>\n",
       "<style scoped>\n",
       "    .dataframe tbody tr th:only-of-type {\n",
       "        vertical-align: middle;\n",
       "    }\n",
       "\n",
       "    .dataframe tbody tr th {\n",
       "        vertical-align: top;\n",
       "    }\n",
       "\n",
       "    .dataframe thead th {\n",
       "        text-align: right;\n",
       "    }\n",
       "</style>\n",
       "<table border=\"1\" class=\"dataframe\">\n",
       "  <thead>\n",
       "    <tr style=\"text-align: right;\">\n",
       "      <th></th>\n",
       "      <th>FIPS</th>\n",
       "      <th>State</th>\n",
       "      <th>County</th>\n",
       "      <th>electricity_pumping_pct</th>\n",
       "      <th>oil_pumping_pct</th>\n",
       "      <th>natural_gas_pumping_pct</th>\n",
       "    </tr>\n",
       "  </thead>\n",
       "  <tbody>\n",
       "    <tr>\n",
       "      <th>0</th>\n",
       "      <td>01001</td>\n",
       "      <td>AL</td>\n",
       "      <td>Autauga County</td>\n",
       "      <td>0.470056</td>\n",
       "      <td>0.524731</td>\n",
       "      <td>0.005213</td>\n",
       "    </tr>\n",
       "    <tr>\n",
       "      <th>1</th>\n",
       "      <td>01003</td>\n",
       "      <td>AL</td>\n",
       "      <td>Baldwin County</td>\n",
       "      <td>0.470056</td>\n",
       "      <td>0.524731</td>\n",
       "      <td>0.005213</td>\n",
       "    </tr>\n",
       "    <tr>\n",
       "      <th>2</th>\n",
       "      <td>01005</td>\n",
       "      <td>AL</td>\n",
       "      <td>Barbour County</td>\n",
       "      <td>0.470056</td>\n",
       "      <td>0.524731</td>\n",
       "      <td>0.005213</td>\n",
       "    </tr>\n",
       "    <tr>\n",
       "      <th>3</th>\n",
       "      <td>01007</td>\n",
       "      <td>AL</td>\n",
       "      <td>Bibb County</td>\n",
       "      <td>0.470056</td>\n",
       "      <td>0.524731</td>\n",
       "      <td>0.005213</td>\n",
       "    </tr>\n",
       "    <tr>\n",
       "      <th>4</th>\n",
       "      <td>01009</td>\n",
       "      <td>AL</td>\n",
       "      <td>Blount County</td>\n",
       "      <td>0.470056</td>\n",
       "      <td>0.524731</td>\n",
       "      <td>0.005213</td>\n",
       "    </tr>\n",
       "    <tr>\n",
       "      <th>...</th>\n",
       "      <td>...</td>\n",
       "      <td>...</td>\n",
       "      <td>...</td>\n",
       "      <td>...</td>\n",
       "      <td>...</td>\n",
       "      <td>...</td>\n",
       "    </tr>\n",
       "    <tr>\n",
       "      <th>3218</th>\n",
       "      <td>72151</td>\n",
       "      <td>PR</td>\n",
       "      <td>Yabucoa Municipio</td>\n",
       "      <td>0.577682</td>\n",
       "      <td>0.346894</td>\n",
       "      <td>0.075424</td>\n",
       "    </tr>\n",
       "    <tr>\n",
       "      <th>3219</th>\n",
       "      <td>72153</td>\n",
       "      <td>PR</td>\n",
       "      <td>Yauco Municipio</td>\n",
       "      <td>0.577682</td>\n",
       "      <td>0.346894</td>\n",
       "      <td>0.075424</td>\n",
       "    </tr>\n",
       "    <tr>\n",
       "      <th>3220</th>\n",
       "      <td>78010</td>\n",
       "      <td>VI</td>\n",
       "      <td>St. Croix County</td>\n",
       "      <td>0.577682</td>\n",
       "      <td>0.346894</td>\n",
       "      <td>0.075424</td>\n",
       "    </tr>\n",
       "    <tr>\n",
       "      <th>3221</th>\n",
       "      <td>78020</td>\n",
       "      <td>VI</td>\n",
       "      <td>St. John County</td>\n",
       "      <td>0.577682</td>\n",
       "      <td>0.346894</td>\n",
       "      <td>0.075424</td>\n",
       "    </tr>\n",
       "    <tr>\n",
       "      <th>3222</th>\n",
       "      <td>78030</td>\n",
       "      <td>VI</td>\n",
       "      <td>St. Thomas County</td>\n",
       "      <td>0.577682</td>\n",
       "      <td>0.346894</td>\n",
       "      <td>0.075424</td>\n",
       "    </tr>\n",
       "  </tbody>\n",
       "</table>\n",
       "<p>3223 rows × 6 columns</p>\n",
       "</div>"
      ],
      "text/plain": [
       "       FIPS State             County  electricity_pumping_pct  \\\n",
       "0     01001    AL     Autauga County                 0.470056   \n",
       "1     01003    AL     Baldwin County                 0.470056   \n",
       "2     01005    AL     Barbour County                 0.470056   \n",
       "3     01007    AL        Bibb County                 0.470056   \n",
       "4     01009    AL      Blount County                 0.470056   \n",
       "...     ...   ...                ...                      ...   \n",
       "3218  72151    PR  Yabucoa Municipio                 0.577682   \n",
       "3219  72153    PR    Yauco Municipio                 0.577682   \n",
       "3220  78010    VI   St. Croix County                 0.577682   \n",
       "3221  78020    VI    St. John County                 0.577682   \n",
       "3222  78030    VI  St. Thomas County                 0.577682   \n",
       "\n",
       "      oil_pumping_pct  natural_gas_pumping_pct  \n",
       "0            0.524731                 0.005213  \n",
       "1            0.524731                 0.005213  \n",
       "2            0.524731                 0.005213  \n",
       "3            0.524731                 0.005213  \n",
       "4            0.524731                 0.005213  \n",
       "...               ...                      ...  \n",
       "3218         0.346894                 0.075424  \n",
       "3219         0.346894                 0.075424  \n",
       "3220         0.346894                 0.075424  \n",
       "3221         0.346894                 0.075424  \n",
       "3222         0.346894                 0.075424  \n",
       "\n",
       "[3223 rows x 6 columns]"
      ]
     },
     "execution_count": 8,
     "metadata": {},
     "output_type": "execute_result"
    }
   ],
   "source": [
    "df = flow.prep_irrigation_fuel_data()\n",
    "df"
   ]
  },
  {
   "cell_type": "code",
   "execution_count": 8,
   "id": "d3c210f3-0063-471e-a5e5-33ae92838dfb",
   "metadata": {},
   "outputs": [
    {
     "data": {
      "text/html": [
       "<div>\n",
       "<style scoped>\n",
       "    .dataframe tbody tr th:only-of-type {\n",
       "        vertical-align: middle;\n",
       "    }\n",
       "\n",
       "    .dataframe tbody tr th {\n",
       "        vertical-align: top;\n",
       "    }\n",
       "\n",
       "    .dataframe thead th {\n",
       "        text-align: right;\n",
       "    }\n",
       "</style>\n",
       "<table border=\"1\" class=\"dataframe\">\n",
       "  <thead>\n",
       "    <tr style=\"text-align: right;\">\n",
       "      <th></th>\n",
       "      <th>FIPS</th>\n",
       "      <th>State</th>\n",
       "      <th>County</th>\n",
       "      <th>electricity_wastewater_advanced_bbtu</th>\n",
       "      <th>wastewater_advanced_rejected_energy_bbtu</th>\n",
       "      <th>wastewater_advanced_energy_services_bbtu</th>\n",
       "      <th>electricity_wastewater_secondary_bbtu</th>\n",
       "      <th>wastewater_secondary_rejected_energy_bbtu</th>\n",
       "      <th>wastewater_secondary_energy_services_bbtu</th>\n",
       "      <th>electricity_wastewater_primary_bbtu</th>\n",
       "      <th>wastewater_primary_rejected_energy_bbtu</th>\n",
       "      <th>wastewater_primary_energy_services_bbtu</th>\n",
       "      <th>electricity_wastewater_total_bbtu</th>\n",
       "      <th>wastewater_rejected_energy_total_bbtu</th>\n",
       "      <th>wastewater_energy_services_total_bbtu</th>\n",
       "    </tr>\n",
       "  </thead>\n",
       "  <tbody>\n",
       "    <tr>\n",
       "      <th>0</th>\n",
       "      <td>01001</td>\n",
       "      <td>AL</td>\n",
       "      <td>Autauga County</td>\n",
       "      <td>7532.00</td>\n",
       "      <td>2636.200</td>\n",
       "      <td>4895.800</td>\n",
       "      <td>137.28</td>\n",
       "      <td>48.048</td>\n",
       "      <td>89.232</td>\n",
       "      <td>0.0</td>\n",
       "      <td>0.0</td>\n",
       "      <td>0.0</td>\n",
       "      <td>7669.28</td>\n",
       "      <td>2684.248</td>\n",
       "      <td>4985.032</td>\n",
       "    </tr>\n",
       "    <tr>\n",
       "      <th>1</th>\n",
       "      <td>01003</td>\n",
       "      <td>AL</td>\n",
       "      <td>Baldwin County</td>\n",
       "      <td>18830.00</td>\n",
       "      <td>6590.500</td>\n",
       "      <td>12239.500</td>\n",
       "      <td>14988.48</td>\n",
       "      <td>5245.968</td>\n",
       "      <td>9742.512</td>\n",
       "      <td>0.0</td>\n",
       "      <td>0.0</td>\n",
       "      <td>0.0</td>\n",
       "      <td>33818.48</td>\n",
       "      <td>11836.468</td>\n",
       "      <td>21982.012</td>\n",
       "    </tr>\n",
       "    <tr>\n",
       "      <th>2</th>\n",
       "      <td>01005</td>\n",
       "      <td>AL</td>\n",
       "      <td>Barbour County</td>\n",
       "      <td>0.00</td>\n",
       "      <td>0.000</td>\n",
       "      <td>0.000</td>\n",
       "      <td>4447.04</td>\n",
       "      <td>1556.464</td>\n",
       "      <td>2890.576</td>\n",
       "      <td>0.0</td>\n",
       "      <td>0.0</td>\n",
       "      <td>0.0</td>\n",
       "      <td>4447.04</td>\n",
       "      <td>1556.464</td>\n",
       "      <td>2890.576</td>\n",
       "    </tr>\n",
       "    <tr>\n",
       "      <th>3</th>\n",
       "      <td>01007</td>\n",
       "      <td>AL</td>\n",
       "      <td>Bibb County</td>\n",
       "      <td>0.00</td>\n",
       "      <td>0.000</td>\n",
       "      <td>0.000</td>\n",
       "      <td>1526.72</td>\n",
       "      <td>534.352</td>\n",
       "      <td>992.368</td>\n",
       "      <td>0.0</td>\n",
       "      <td>0.0</td>\n",
       "      <td>0.0</td>\n",
       "      <td>1526.72</td>\n",
       "      <td>534.352</td>\n",
       "      <td>992.368</td>\n",
       "    </tr>\n",
       "    <tr>\n",
       "      <th>4</th>\n",
       "      <td>01009</td>\n",
       "      <td>AL</td>\n",
       "      <td>Blount County</td>\n",
       "      <td>2399.48</td>\n",
       "      <td>839.818</td>\n",
       "      <td>1559.662</td>\n",
       "      <td>501.28</td>\n",
       "      <td>175.448</td>\n",
       "      <td>325.832</td>\n",
       "      <td>0.0</td>\n",
       "      <td>0.0</td>\n",
       "      <td>0.0</td>\n",
       "      <td>2900.76</td>\n",
       "      <td>1015.266</td>\n",
       "      <td>1885.494</td>\n",
       "    </tr>\n",
       "    <tr>\n",
       "      <th>...</th>\n",
       "      <td>...</td>\n",
       "      <td>...</td>\n",
       "      <td>...</td>\n",
       "      <td>...</td>\n",
       "      <td>...</td>\n",
       "      <td>...</td>\n",
       "      <td>...</td>\n",
       "      <td>...</td>\n",
       "      <td>...</td>\n",
       "      <td>...</td>\n",
       "      <td>...</td>\n",
       "      <td>...</td>\n",
       "      <td>...</td>\n",
       "      <td>...</td>\n",
       "      <td>...</td>\n",
       "    </tr>\n",
       "    <tr>\n",
       "      <th>3219</th>\n",
       "      <td>72151</td>\n",
       "      <td>PR</td>\n",
       "      <td>Yabucoa Municipio</td>\n",
       "      <td>0.00</td>\n",
       "      <td>0.000</td>\n",
       "      <td>0.000</td>\n",
       "      <td>2059.20</td>\n",
       "      <td>720.720</td>\n",
       "      <td>1338.480</td>\n",
       "      <td>0.0</td>\n",
       "      <td>0.0</td>\n",
       "      <td>0.0</td>\n",
       "      <td>2059.20</td>\n",
       "      <td>720.720</td>\n",
       "      <td>1338.480</td>\n",
       "    </tr>\n",
       "    <tr>\n",
       "      <th>3220</th>\n",
       "      <td>72153</td>\n",
       "      <td>PR</td>\n",
       "      <td>Yauco Municipio</td>\n",
       "      <td>0.00</td>\n",
       "      <td>0.000</td>\n",
       "      <td>0.000</td>\n",
       "      <td>3348.80</td>\n",
       "      <td>1172.080</td>\n",
       "      <td>2176.720</td>\n",
       "      <td>0.0</td>\n",
       "      <td>0.0</td>\n",
       "      <td>0.0</td>\n",
       "      <td>3348.80</td>\n",
       "      <td>1172.080</td>\n",
       "      <td>2176.720</td>\n",
       "    </tr>\n",
       "    <tr>\n",
       "      <th>3221</th>\n",
       "      <td>78010</td>\n",
       "      <td>VI</td>\n",
       "      <td>St. Croix County</td>\n",
       "      <td>0.00</td>\n",
       "      <td>0.000</td>\n",
       "      <td>0.000</td>\n",
       "      <td>9630.40</td>\n",
       "      <td>3370.640</td>\n",
       "      <td>6259.760</td>\n",
       "      <td>0.0</td>\n",
       "      <td>0.0</td>\n",
       "      <td>0.0</td>\n",
       "      <td>9630.40</td>\n",
       "      <td>3370.640</td>\n",
       "      <td>6259.760</td>\n",
       "    </tr>\n",
       "    <tr>\n",
       "      <th>3222</th>\n",
       "      <td>78020</td>\n",
       "      <td>VI</td>\n",
       "      <td>St. John County</td>\n",
       "      <td>0.00</td>\n",
       "      <td>0.000</td>\n",
       "      <td>0.000</td>\n",
       "      <td>0.00</td>\n",
       "      <td>0.000</td>\n",
       "      <td>0.000</td>\n",
       "      <td>0.0</td>\n",
       "      <td>0.0</td>\n",
       "      <td>0.0</td>\n",
       "      <td>0.00</td>\n",
       "      <td>0.000</td>\n",
       "      <td>0.000</td>\n",
       "    </tr>\n",
       "    <tr>\n",
       "      <th>3223</th>\n",
       "      <td>78030</td>\n",
       "      <td>VI</td>\n",
       "      <td>St. Thomas County</td>\n",
       "      <td>0.00</td>\n",
       "      <td>0.000</td>\n",
       "      <td>0.000</td>\n",
       "      <td>0.00</td>\n",
       "      <td>0.000</td>\n",
       "      <td>0.000</td>\n",
       "      <td>0.0</td>\n",
       "      <td>0.0</td>\n",
       "      <td>0.0</td>\n",
       "      <td>0.00</td>\n",
       "      <td>0.000</td>\n",
       "      <td>0.000</td>\n",
       "    </tr>\n",
       "  </tbody>\n",
       "</table>\n",
       "<p>3224 rows × 15 columns</p>\n",
       "</div>"
      ],
      "text/plain": [
       "       FIPS State             County  electricity_wastewater_advanced_bbtu  \\\n",
       "0     01001    AL     Autauga County                               7532.00   \n",
       "1     01003    AL     Baldwin County                              18830.00   \n",
       "2     01005    AL     Barbour County                                  0.00   \n",
       "3     01007    AL        Bibb County                                  0.00   \n",
       "4     01009    AL      Blount County                               2399.48   \n",
       "...     ...   ...                ...                                   ...   \n",
       "3219  72151    PR  Yabucoa Municipio                                  0.00   \n",
       "3220  72153    PR    Yauco Municipio                                  0.00   \n",
       "3221  78010    VI   St. Croix County                                  0.00   \n",
       "3222  78020    VI    St. John County                                  0.00   \n",
       "3223  78030    VI  St. Thomas County                                  0.00   \n",
       "\n",
       "      wastewater_advanced_rejected_energy_bbtu  \\\n",
       "0                                     2636.200   \n",
       "1                                     6590.500   \n",
       "2                                        0.000   \n",
       "3                                        0.000   \n",
       "4                                      839.818   \n",
       "...                                        ...   \n",
       "3219                                     0.000   \n",
       "3220                                     0.000   \n",
       "3221                                     0.000   \n",
       "3222                                     0.000   \n",
       "3223                                     0.000   \n",
       "\n",
       "      wastewater_advanced_energy_services_bbtu  \\\n",
       "0                                     4895.800   \n",
       "1                                    12239.500   \n",
       "2                                        0.000   \n",
       "3                                        0.000   \n",
       "4                                     1559.662   \n",
       "...                                        ...   \n",
       "3219                                     0.000   \n",
       "3220                                     0.000   \n",
       "3221                                     0.000   \n",
       "3222                                     0.000   \n",
       "3223                                     0.000   \n",
       "\n",
       "      electricity_wastewater_secondary_bbtu  \\\n",
       "0                                    137.28   \n",
       "1                                  14988.48   \n",
       "2                                   4447.04   \n",
       "3                                   1526.72   \n",
       "4                                    501.28   \n",
       "...                                     ...   \n",
       "3219                                2059.20   \n",
       "3220                                3348.80   \n",
       "3221                                9630.40   \n",
       "3222                                   0.00   \n",
       "3223                                   0.00   \n",
       "\n",
       "      wastewater_secondary_rejected_energy_bbtu  \\\n",
       "0                                        48.048   \n",
       "1                                      5245.968   \n",
       "2                                      1556.464   \n",
       "3                                       534.352   \n",
       "4                                       175.448   \n",
       "...                                         ...   \n",
       "3219                                    720.720   \n",
       "3220                                   1172.080   \n",
       "3221                                   3370.640   \n",
       "3222                                      0.000   \n",
       "3223                                      0.000   \n",
       "\n",
       "      wastewater_secondary_energy_services_bbtu  \\\n",
       "0                                        89.232   \n",
       "1                                      9742.512   \n",
       "2                                      2890.576   \n",
       "3                                       992.368   \n",
       "4                                       325.832   \n",
       "...                                         ...   \n",
       "3219                                   1338.480   \n",
       "3220                                   2176.720   \n",
       "3221                                   6259.760   \n",
       "3222                                      0.000   \n",
       "3223                                      0.000   \n",
       "\n",
       "      electricity_wastewater_primary_bbtu  \\\n",
       "0                                     0.0   \n",
       "1                                     0.0   \n",
       "2                                     0.0   \n",
       "3                                     0.0   \n",
       "4                                     0.0   \n",
       "...                                   ...   \n",
       "3219                                  0.0   \n",
       "3220                                  0.0   \n",
       "3221                                  0.0   \n",
       "3222                                  0.0   \n",
       "3223                                  0.0   \n",
       "\n",
       "      wastewater_primary_rejected_energy_bbtu  \\\n",
       "0                                         0.0   \n",
       "1                                         0.0   \n",
       "2                                         0.0   \n",
       "3                                         0.0   \n",
       "4                                         0.0   \n",
       "...                                       ...   \n",
       "3219                                      0.0   \n",
       "3220                                      0.0   \n",
       "3221                                      0.0   \n",
       "3222                                      0.0   \n",
       "3223                                      0.0   \n",
       "\n",
       "      wastewater_primary_energy_services_bbtu  \\\n",
       "0                                         0.0   \n",
       "1                                         0.0   \n",
       "2                                         0.0   \n",
       "3                                         0.0   \n",
       "4                                         0.0   \n",
       "...                                       ...   \n",
       "3219                                      0.0   \n",
       "3220                                      0.0   \n",
       "3221                                      0.0   \n",
       "3222                                      0.0   \n",
       "3223                                      0.0   \n",
       "\n",
       "      electricity_wastewater_total_bbtu  \\\n",
       "0                               7669.28   \n",
       "1                              33818.48   \n",
       "2                               4447.04   \n",
       "3                               1526.72   \n",
       "4                               2900.76   \n",
       "...                                 ...   \n",
       "3219                            2059.20   \n",
       "3220                            3348.80   \n",
       "3221                            9630.40   \n",
       "3222                               0.00   \n",
       "3223                               0.00   \n",
       "\n",
       "      wastewater_rejected_energy_total_bbtu  \\\n",
       "0                                  2684.248   \n",
       "1                                 11836.468   \n",
       "2                                  1556.464   \n",
       "3                                   534.352   \n",
       "4                                  1015.266   \n",
       "...                                     ...   \n",
       "3219                                720.720   \n",
       "3220                               1172.080   \n",
       "3221                               3370.640   \n",
       "3222                                  0.000   \n",
       "3223                                  0.000   \n",
       "\n",
       "      wastewater_energy_services_total_bbtu  \n",
       "0                                  4985.032  \n",
       "1                                 21982.012  \n",
       "2                                  2890.576  \n",
       "3                                   992.368  \n",
       "4                                  1885.494  \n",
       "...                                     ...  \n",
       "3219                               1338.480  \n",
       "3220                               2176.720  \n",
       "3221                               6259.760  \n",
       "3222                                  0.000  \n",
       "3223                                  0.000  \n",
       "\n",
       "[3224 rows x 15 columns]"
      ]
     },
     "execution_count": 8,
     "metadata": {},
     "output_type": "execute_result"
    }
   ],
   "source": [
    "df = flow.calc_electricity_wastewater(data=data)\n",
    "df"
   ]
  },
  {
   "cell_type": "code",
   "execution_count": null,
   "id": "6f08549b-390c-49a5-9a0e-978d27b77785",
   "metadata": {},
   "outputs": [],
   "source": [
    "df = flow.calc_sectoral_use_energy_discharge(data=data, total=True)\n",
    "df"
   ]
  },
  {
   "cell_type": "code",
   "execution_count": 6,
   "id": "dd81b693-2e22-4168-885b-07ade2c62a88",
   "metadata": {},
   "outputs": [
    {
     "name": "stdout",
     "output_type": "stream",
     "text": [
      "FIPS\n",
      "State\n",
      "County\n",
      "population\n",
      "fresh_groundwater_pws_mgd\n",
      "fresh_surface_water_pws_mgd\n",
      "saline_groundwater_pws_mgd\n",
      "saline_surface_water_pws_mgd\n",
      "pws_residential_mgd\n",
      "total_pws_mgd\n",
      "fresh_groundwater_residential_mgd\n",
      "fresh_surface_water_residential_mgd\n",
      "fresh_groundwater_thermoelectric_mgd\n",
      "saline_groundwater_thermoelectric_mgd\n",
      "fresh_surface_water_thermoelectric_mgd\n",
      "saline_surface_water_thermoelectric_mgd\n",
      "wastewater_thermoelectric_mgd\n",
      "pws_thermoelectric_mgd\n",
      "thermoelectric_consumption_mgd\n",
      "fresh_groundwater_industrial_mgd\n",
      "fresh_surface_water_industrial_mgd\n",
      "saline_groundwater_industrial_mgd\n",
      "saline_surface_water_industrial_mgd\n",
      "fresh_groundwater_mining_mgd\n",
      "fresh_surface_water_mining_mgd\n",
      "saline_groundwater_mining_mgd\n",
      "saline_surface_water_mining_mgd\n",
      "fresh_groundwater_crop_irrigation_mgd\n",
      "fresh_surface_water_crop_irrigation_mgd\n",
      "wastewater_crop_irrigation_mgd\n",
      "crop_irrigation_freshwater_consumption_mgd\n",
      "fresh_groundwater_golf_irrigation_mgd\n",
      "fresh_surface_water_golf_irrigation_mgd\n",
      "wastewater_golf_irrigation_mgd\n",
      "golf_irrigation_freshwater_consumption_mgd\n",
      "fresh_groundwater_livestock_mgd\n",
      "fresh_surface_water_livestock_mgd\n",
      "fresh_groundwater_aquaculture_mgd\n",
      "saline_groundwater_aquaculture_mgd\n",
      "fresh_surface_water_aquaculture_mgd\n",
      "saline_surface_water_aquaculture_mgd\n",
      "residential_freshwater_consumption_fraction\n",
      "commercial_freshwater_consumption_fraction\n",
      "industrial_freshwater_consumption_fraction\n",
      "industrial_saline_water_consumption_fraction\n",
      "mining_freshwater_consumption_fraction\n",
      "mining_saline_water_consumption_fraction\n",
      "livestock_freshwater_consumption_fraction\n",
      "aquaculture_freshwater_consumption_fraction\n",
      "hydropower_intensity_mgd_per_mwh\n",
      "commercial_pws_fraction\n",
      "industrial_pws_fraction\n",
      "irrigation_conveyance_loss_fraction\n",
      "infiltration_wastewater_mgd\n",
      "total_wastewater_mgd\n",
      "municipal_wastewater_mgd\n",
      "wastewater_consumption_mgd\n",
      "wastewater_groundwater_discharge_mgd\n",
      "wastewater_industrial_discharge_mgd\n",
      "wastewater_irrigation_discharge_mgd\n",
      "wastewater_ocean_discharge_mgd\n",
      "wastewater_pws_discharge_mgd\n",
      "wastewater_surface_discharge_mgd\n",
      "wastewater_wastewater_discharge_mgd\n",
      "wastewater_advanced_treatment_mgd\n",
      "wastewater_no_treatment_mgd\n",
      "wastewater_primary_treatment_mgd\n",
      "wastewater_secondary_treatment_mgd\n",
      "biomass_fuel_bbtu\n",
      "coal_fuel_bbtu\n",
      "geothermal_fuel_bbtu\n",
      "hydro_fuel_bbtu\n",
      "natgas_fuel_bbtu\n",
      "nuclear_fuel_bbtu\n",
      "oil_fuel_bbtu\n",
      "other_fuel_bbtu\n",
      "solar_fuel_bbtu\n",
      "wind_fuel_bbtu\n",
      "biomass_gen_bbtu\n",
      "coal_gen_bbtu\n",
      "geothermal_gen_bbtu\n",
      "hydro_gen_bbtu\n",
      "natgas_gen_bbtu\n",
      "nuclear_gen_bbtu\n",
      "oil_gen_bbtu\n",
      "other_gen_bbtu\n",
      "solar_gen_bbtu\n",
      "wind_gen_bbtu\n",
      "elec_total_acres\n",
      "ng_total_acres\n",
      "propane_total_acres\n",
      "diesel_total_acres\n",
      "gas_total_acres\n",
      "gw_pump_bbtu_per_mg\n",
      "sw_pump_bbtu_per_mg\n",
      "interbasin_bbtu\n",
      "pws_ibt_pct\n",
      "electricity_residential_bbtu\n",
      "electricity_commercial_bbtu\n",
      "electricity_industrial_bbtu\n",
      "electricity_transportation_bbtu\n",
      "coal_commercial_bbtu\n",
      "coal_industrial_bbtu\n",
      "biomass_transportation_bbtu\n",
      "geothermal_commercial_bbtu\n",
      "geothermal_residential_bbtu\n",
      "natgas_transportation_bbtu\n",
      "natgas_commercial_bbtu\n",
      "natgas_industrial_bbtu\n",
      "natgas_residential_bbtu\n",
      "petroleum_transportation_bbtu\n",
      "petroleum_commercial_bbtu\n",
      "petroleum_industrial_bbtu\n",
      "petroleum_residential_bbtu\n",
      "solar_commercial_solar_bbtu\n",
      "solar_residential_solar_bbtu\n",
      "biomass_residential_bbtu\n",
      "biomass_commercial_bbtu\n",
      "biomass_industrial_bbtu\n",
      "wind_commercial_bbtu\n",
      "petroleum_production_bbtu\n",
      "natgas_production_bbtu\n",
      "refuse_coal_shortton\n",
      "surface_coal_shortton\n",
      "underground_coal_shortton\n",
      "coal_production_bbtu\n",
      "biomass_production_bbtu\n",
      "fresh_surface_water_biomass_mgd\n",
      "fresh_groundwater_biomass_mgd\n"
     ]
    }
   ],
   "source": [
    "for col in data.columns:\n",
    "    print(col)\n"
   ]
  },
  {
   "cell_type": "code",
   "execution_count": null,
   "id": "0359af20-ef86-40dd-abf4-ecbdbf3ff2de",
   "metadata": {},
   "outputs": [],
   "source": []
  },
  {
   "cell_type": "code",
   "execution_count": null,
   "id": "71902310-1b16-4edd-a9b2-6fb15014c839",
   "metadata": {},
   "outputs": [],
   "source": []
  },
  {
   "cell_type": "code",
   "execution_count": null,
   "id": "03bd84e9-8d1f-48bf-8095-5bd82ad4eb0e",
   "metadata": {},
   "outputs": [],
   "source": [
    "data.to_csv(r'C:\\Users\\mong275\\Local Files\\Sankey_Notebook_Development\\SankeyFiles\\run4.csv')"
   ]
  },
  {
   "cell_type": "markdown",
   "id": "d51a9843-c524-42d0-a340-a3c256375ef4",
   "metadata": {},
   "source": [
    "To override the data inputs, flow.configure_data() can be run.\n",
    "If run with no arguments provided, this function aggregates all baseline data to calculate flow values for the united states in 2015. Parameters are set, however, such that this function can be used to swap out datafiles. \n",
    "\n",
    "For example, if alternative US county level data was available for interbasin transfer electricity use, that could be used instead of the default data."
   ]
  },
  {
   "cell_type": "code",
   "execution_count": null,
   "id": "333c4d92-c8d9-466d-b63c-29707728b717",
   "metadata": {},
   "outputs": [],
   "source": [
    "df = flow.configure_data()\n",
    "df"
   ]
  },
  {
   "cell_type": "code",
   "execution_count": null,
   "id": "d64abba6-fac3-40c0-9fb7-c6fdcc63b0b8",
   "metadata": {},
   "outputs": [],
   "source": [
    "is_NaN = df.isnull()\n",
    "row_has_NaN = is_NaN.any(axis=1)\n",
    "rows_with_NaN = df[row_has_NaN]\n",
    "rows_with_NaN"
   ]
  },
  {
   "cell_type": "code",
   "execution_count": null,
   "id": "3a9b833c-825b-435f-b2a3-014188b70440",
   "metadata": {},
   "outputs": [],
   "source": []
  },
  {
   "cell_type": "code",
   "execution_count": null,
   "id": "7a7d66f3-42c7-48cc-9e15-c2465aaba0db",
   "metadata": {},
   "outputs": [],
   "source": []
  },
  {
   "cell_type": "code",
   "execution_count": null,
   "id": "aff4de41-5d2a-4690-887f-94b2f78a9734",
   "metadata": {},
   "outputs": [],
   "source": [
    "df2.to_csv(r'C:\\Users\\mong275\\Local Files\\Sankey_Notebook_Development\\SankeyFiles\\run2.csv')"
   ]
  },
  {
   "cell_type": "markdown",
   "id": "aec10fed-bb63-424d-ad3e-9c8b264730da",
   "metadata": {},
   "source": [
    "<h1> Public Water Supply </h1>"
   ]
  },
  {
   "cell_type": "markdown",
   "id": "172c6b7e-078b-464f-a5f1-036549096658",
   "metadata": {},
   "source": [
    "## Water in Public Water Supply"
   ]
  },
  {
   "cell_type": "markdown",
   "id": "6b445803-fdd9-47b1-b804-d4a2302c8bee",
   "metadata": {},
   "source": [
    "### Public Water Supply Withdrawals\n",
    "\n",
    "The USGS 2015 dataset provides public water supply withdrawals directly under data codes 'PS-WGWFr', 'PS-WSWFr','PS-WGWSa', 'PS-WSWSa' for each county."
   ]
  },
  {
   "cell_type": "code",
   "execution_count": 7,
   "id": "cb2a4933-645a-4eee-9fed-1061fa1983b7",
   "metadata": {},
   "outputs": [
    {
     "ename": "KeyError",
     "evalue": "\"['PS-WGWFr', 'PS-WSWFr', 'PS-WGWSa', 'PS-WSWSa'] not in index\"",
     "output_type": "error",
     "traceback": [
      "\u001b[1;31m---------------------------------------------------------------------------\u001b[0m",
      "\u001b[1;31mKeyError\u001b[0m                                  Traceback (most recent call last)",
      "\u001b[1;32m~\\AppData\\Local\\Temp/ipykernel_11040/2108188545.py\u001b[0m in \u001b[0;36m<module>\u001b[1;34m\u001b[0m\n\u001b[1;32m----> 1\u001b[1;33m \u001b[0mdf\u001b[0m \u001b[1;33m=\u001b[0m \u001b[0mflow\u001b[0m\u001b[1;33m.\u001b[0m\u001b[0mprep_water_use_2015\u001b[0m\u001b[1;33m(\u001b[0m\u001b[0mvariables\u001b[0m\u001b[1;33m=\u001b[0m\u001b[1;33m[\u001b[0m\u001b[1;34m'State'\u001b[0m\u001b[1;33m,\u001b[0m\u001b[1;34m'County'\u001b[0m\u001b[1;33m,\u001b[0m\u001b[1;34m'PS-WGWFr'\u001b[0m\u001b[1;33m,\u001b[0m \u001b[1;34m'PS-WSWFr'\u001b[0m\u001b[1;33m,\u001b[0m\u001b[1;34m'PS-WGWSa'\u001b[0m\u001b[1;33m,\u001b[0m \u001b[1;34m'PS-WSWSa'\u001b[0m\u001b[1;33m]\u001b[0m\u001b[1;33m)\u001b[0m\u001b[1;33m\u001b[0m\u001b[1;33m\u001b[0m\u001b[0m\n\u001b[0m\u001b[0;32m      2\u001b[0m \u001b[0mdf\u001b[0m\u001b[1;33m.\u001b[0m\u001b[0mhead\u001b[0m\u001b[1;33m(\u001b[0m\u001b[1;33m)\u001b[0m\u001b[1;33m\u001b[0m\u001b[1;33m\u001b[0m\u001b[0m\n",
      "\u001b[1;32m~\\Local Files\\Repos\\flow\\flow\\clean.py\u001b[0m in \u001b[0;36mprep_water_use_2015\u001b[1;34m(variables, all_variables)\u001b[0m\n\u001b[0;32m     90\u001b[0m         \u001b[0mdf\u001b[0m \u001b[1;33m=\u001b[0m \u001b[0mdf\u001b[0m\u001b[1;33m\u001b[0m\u001b[1;33m\u001b[0m\u001b[0m\n\u001b[0;32m     91\u001b[0m     \u001b[1;32melse\u001b[0m\u001b[1;33m:\u001b[0m\u001b[1;33m\u001b[0m\u001b[1;33m\u001b[0m\u001b[0m\n\u001b[1;32m---> 92\u001b[1;33m         \u001b[0mdf\u001b[0m \u001b[1;33m=\u001b[0m \u001b[0mdf\u001b[0m\u001b[1;33m[\u001b[0m\u001b[0mvariables\u001b[0m\u001b[1;33m]\u001b[0m\u001b[1;33m\u001b[0m\u001b[1;33m\u001b[0m\u001b[0m\n\u001b[0m\u001b[0;32m     93\u001b[0m \u001b[1;33m\u001b[0m\u001b[0m\n\u001b[0;32m     94\u001b[0m     \u001b[1;32mreturn\u001b[0m \u001b[0mdf\u001b[0m\u001b[1;33m\u001b[0m\u001b[1;33m\u001b[0m\u001b[0m\n",
      "\u001b[1;32m~\\Environments\\lib\\site-packages\\pandas\\core\\frame.py\u001b[0m in \u001b[0;36m__getitem__\u001b[1;34m(self, key)\u001b[0m\n\u001b[0;32m   3462\u001b[0m             \u001b[1;32mif\u001b[0m \u001b[0mis_iterator\u001b[0m\u001b[1;33m(\u001b[0m\u001b[0mkey\u001b[0m\u001b[1;33m)\u001b[0m\u001b[1;33m:\u001b[0m\u001b[1;33m\u001b[0m\u001b[1;33m\u001b[0m\u001b[0m\n\u001b[0;32m   3463\u001b[0m                 \u001b[0mkey\u001b[0m \u001b[1;33m=\u001b[0m \u001b[0mlist\u001b[0m\u001b[1;33m(\u001b[0m\u001b[0mkey\u001b[0m\u001b[1;33m)\u001b[0m\u001b[1;33m\u001b[0m\u001b[1;33m\u001b[0m\u001b[0m\n\u001b[1;32m-> 3464\u001b[1;33m             \u001b[0mindexer\u001b[0m \u001b[1;33m=\u001b[0m \u001b[0mself\u001b[0m\u001b[1;33m.\u001b[0m\u001b[0mloc\u001b[0m\u001b[1;33m.\u001b[0m\u001b[0m_get_listlike_indexer\u001b[0m\u001b[1;33m(\u001b[0m\u001b[0mkey\u001b[0m\u001b[1;33m,\u001b[0m \u001b[0maxis\u001b[0m\u001b[1;33m=\u001b[0m\u001b[1;36m1\u001b[0m\u001b[1;33m)\u001b[0m\u001b[1;33m[\u001b[0m\u001b[1;36m1\u001b[0m\u001b[1;33m]\u001b[0m\u001b[1;33m\u001b[0m\u001b[1;33m\u001b[0m\u001b[0m\n\u001b[0m\u001b[0;32m   3465\u001b[0m \u001b[1;33m\u001b[0m\u001b[0m\n\u001b[0;32m   3466\u001b[0m         \u001b[1;31m# take() does not accept boolean indexers\u001b[0m\u001b[1;33m\u001b[0m\u001b[1;33m\u001b[0m\u001b[1;33m\u001b[0m\u001b[0m\n",
      "\u001b[1;32m~\\Environments\\lib\\site-packages\\pandas\\core\\indexing.py\u001b[0m in \u001b[0;36m_get_listlike_indexer\u001b[1;34m(self, key, axis)\u001b[0m\n\u001b[0;32m   1312\u001b[0m             \u001b[0mkeyarr\u001b[0m\u001b[1;33m,\u001b[0m \u001b[0mindexer\u001b[0m\u001b[1;33m,\u001b[0m \u001b[0mnew_indexer\u001b[0m \u001b[1;33m=\u001b[0m \u001b[0max\u001b[0m\u001b[1;33m.\u001b[0m\u001b[0m_reindex_non_unique\u001b[0m\u001b[1;33m(\u001b[0m\u001b[0mkeyarr\u001b[0m\u001b[1;33m)\u001b[0m\u001b[1;33m\u001b[0m\u001b[1;33m\u001b[0m\u001b[0m\n\u001b[0;32m   1313\u001b[0m \u001b[1;33m\u001b[0m\u001b[0m\n\u001b[1;32m-> 1314\u001b[1;33m         \u001b[0mself\u001b[0m\u001b[1;33m.\u001b[0m\u001b[0m_validate_read_indexer\u001b[0m\u001b[1;33m(\u001b[0m\u001b[0mkeyarr\u001b[0m\u001b[1;33m,\u001b[0m \u001b[0mindexer\u001b[0m\u001b[1;33m,\u001b[0m \u001b[0maxis\u001b[0m\u001b[1;33m)\u001b[0m\u001b[1;33m\u001b[0m\u001b[1;33m\u001b[0m\u001b[0m\n\u001b[0m\u001b[0;32m   1315\u001b[0m \u001b[1;33m\u001b[0m\u001b[0m\n\u001b[0;32m   1316\u001b[0m         if needs_i8_conversion(ax.dtype) or isinstance(\n",
      "\u001b[1;32m~\\Environments\\lib\\site-packages\\pandas\\core\\indexing.py\u001b[0m in \u001b[0;36m_validate_read_indexer\u001b[1;34m(self, key, indexer, axis)\u001b[0m\n\u001b[0;32m   1375\u001b[0m \u001b[1;33m\u001b[0m\u001b[0m\n\u001b[0;32m   1376\u001b[0m             \u001b[0mnot_found\u001b[0m \u001b[1;33m=\u001b[0m \u001b[0mlist\u001b[0m\u001b[1;33m(\u001b[0m\u001b[0mensure_index\u001b[0m\u001b[1;33m(\u001b[0m\u001b[0mkey\u001b[0m\u001b[1;33m)\u001b[0m\u001b[1;33m[\u001b[0m\u001b[0mmissing_mask\u001b[0m\u001b[1;33m.\u001b[0m\u001b[0mnonzero\u001b[0m\u001b[1;33m(\u001b[0m\u001b[1;33m)\u001b[0m\u001b[1;33m[\u001b[0m\u001b[1;36m0\u001b[0m\u001b[1;33m]\u001b[0m\u001b[1;33m]\u001b[0m\u001b[1;33m.\u001b[0m\u001b[0munique\u001b[0m\u001b[1;33m(\u001b[0m\u001b[1;33m)\u001b[0m\u001b[1;33m)\u001b[0m\u001b[1;33m\u001b[0m\u001b[1;33m\u001b[0m\u001b[0m\n\u001b[1;32m-> 1377\u001b[1;33m             \u001b[1;32mraise\u001b[0m \u001b[0mKeyError\u001b[0m\u001b[1;33m(\u001b[0m\u001b[1;34mf\"{not_found} not in index\"\u001b[0m\u001b[1;33m)\u001b[0m\u001b[1;33m\u001b[0m\u001b[1;33m\u001b[0m\u001b[0m\n\u001b[0m\u001b[0;32m   1378\u001b[0m \u001b[1;33m\u001b[0m\u001b[0m\n\u001b[0;32m   1379\u001b[0m \u001b[1;33m\u001b[0m\u001b[0m\n",
      "\u001b[1;31mKeyError\u001b[0m: \"['PS-WGWFr', 'PS-WSWFr', 'PS-WGWSa', 'PS-WSWSa'] not in index\""
     ]
    }
   ],
   "source": [
    "df = flow.prep_water_use_2015(variables=['State','County','PS-WGWFr', 'PS-WSWFr','PS-WGWSa', 'PS-WSWSa'])\n",
    "df.head()               "
   ]
  },
  {
   "cell_type": "markdown",
   "id": "b0d4fe24-cd10-48f3-bcd9-e1bfbdc56d4b",
   "metadata": {},
   "source": [
    "### Public Water Supply Deliveries to Sectors, Exports, and Imports\n",
    "\n",
    "The USGS 2015 dataset provide public water supply data in three categories: (1) total public water supply withdrawals, (2) public water supply deliveries to domestic end users, and (3) public water supply deliveries to thermoelectric cooling.\n",
    "\n",
    "The 1995 USGS dataset provides public water supply deliveries to domestic, industrial, commercial, thermoelectric cooling, and losses/exports separately. To estimate the deliveries to commercial and industrial customers in 2015, the ratio of each to the sum of deliveries to residential and thermoelectric cooling is calculated from the 1995 data. These ratios are applied to the 2015 residential and thermoelectric cooling public water supply delivery values. \n",
    "\n",
    "Additionally, public water suppy exports and imports are calculated. When the sum of water deliveries is greater than the water withdrawn for public water supply, the difference is considered to be imported. When water withdrawn is greater, excess water after deliveries is considered to be exported.\n",
    "\n",
    "Caveats and assumptions:\n",
    "* This methodology assumes that if no public water supply was delivered to residential or thermoelectric cooling in 1995, then deliveries to industrial and commercial sectors would likewise be zero."
   ]
  },
  {
   "cell_type": "markdown",
   "id": "7114162c-ec51-4cdd-a1d8-edfefa993c57",
   "metadata": {},
   "source": [
    "Potential mods\n",
    " for import pws counties, take 15% of withdrawals and imports as losses and add it on to the top of imports\n",
    " for export pws counties, take 15% of withdrawals as losses, take it out of exports, any remaining put as imports"
   ]
  },
  {
   "cell_type": "code",
   "execution_count": null,
   "id": "9fddacb3-69a0-4baf-9bda-19e9c214e949",
   "metadata": {},
   "outputs": [],
   "source": [
    "df = flow.calc_pws_discharge()\n",
    "df.head()"
   ]
  },
  {
   "cell_type": "markdown",
   "id": "8bceb769-cd65-4b51-bbc9-cac988d2b99e",
   "metadata": {},
   "source": [
    "## Energy in Public Water Supply"
   ]
  },
  {
   "cell_type": "markdown",
   "id": "e72dcf73-1aee-4abf-bb58-f50261f80978",
   "metadata": {},
   "source": [
    "Energy in public water supply includes\n",
    "groundwater pumping, surface water pumping, desalination (when applicable), surface water treatment, groundwater treatment, distribution, and interbasin transfers (when appropriate).\n",
    "\n",
    "An assumption is made that water that goes through desalination additionally requires surface water or groundwater treatment\n",
    "\n",
    "The same groundwater and surface water pumping intensities are used from agriculture sector.\n",
    "\n",
    "Note that interbasin transfer data that is provided to this function is already in bbtu, not in water flows. \n",
    "For non-ibt data, the option is provided for the user to use region-level energy intensity values (as in groundwater and surface water pumping). When values are not available, assumptions for each in kWh/MG are set as default values that can be overriden.\n",
    "\n",
    "intensity values are used from tidwell and LLNL"
   ]
  },
  {
   "cell_type": "code",
   "execution_count": null,
   "id": "83af7fdf-bce2-47fd-ad0d-27c9dbc1095b",
   "metadata": {},
   "outputs": [],
   "source": [
    "df = flow.calc_electricity_public_water_supply(total=True)\n",
    "df.head()"
   ]
  },
  {
   "cell_type": "markdown",
   "id": "0c74b0e6-e705-4fc3-9fb5-bea65083abe7",
   "metadata": {
    "tags": []
   },
   "source": [
    "# Wastewater Treatment\n",
    "Wastewater treatment facility data is provided by EPA for the year 2012. These values are assumed for 2015. Values are provided on a treatment plant level with data on the following variables: \n",
    "Flow:\n",
    "    * Total water flows (MGD) treated by the facility\n",
    "    * Total infiltration flows treated by the facility (leaks into pipes and conduits)\n",
    "Treatment:\n",
    "    * Treatment type of each treatment plant (primary, secondary, advanced)\n",
    "Discharge:\n",
    "    * discharge location of each plant, broken down by percent of flow to each discharge location (e.g., ocean discharge, suface discharge, irrigation reuse)\n",
    "Location:\n",
    "    * county information is included for each power plant\n",
    "    \n",
    "This data allows us to determine total water flows processed and discharged by wastewater facilities at a county level by treatment type. The treatment type allows us to calculate the electricity use by county for wastewater treatment,"
   ]
  },
  {
   "cell_type": "markdown",
   "id": "8cba44f3-f3e3-494f-ae27-1d9054b7bbe0",
   "metadata": {},
   "source": [
    "## Water in Wastewater Treatment"
   ]
  },
  {
   "cell_type": "markdown",
   "id": "5926230b-d7ee-4afe-83fe-b8c6711fc07f",
   "metadata": {},
   "source": [
    "### Water Inflows to Wastewater Treatment Facilities\n",
    "Total flows processed by wastewater treatment facilities are provided in the EPA dataset directly. However, this data will have discrepencies from the water data delivered to various sectors. To estimate water flows from residential, commercial, and industrial sectors to wastewater treatment facilities, an assumption is made that all water delivered from public water supply to these sectors is sent to wastewater treatment facilities. This assumption is also used to fill wastewater treatment flow values for regions that are unavailable in the EPA dataset. For example, south carolina does not have wastewater treatment facility values in the EPA dataset. It is assumed, therefore, that total wastewater treatment flows in south carolina and equal to the total public water supply flows for each county and is attributed to municipal discharge rather than infiltration. It is assumed that 80% of treatment flows are advanced treatment and 20% are secondary treatment. It is also assumed that all discharge is sent to surface. This follows average values for the state of North Carolina which were used as a proxy in this instance."
   ]
  },
  {
   "cell_type": "markdown",
   "id": "7598d9da-f8fd-4b96-8d52-42a88bcb4480",
   "metadata": {},
   "source": [
    "### Quantity of Wastewater Processed by Treatment Type\n",
    "Wastewater treatment plant treatment type is provided in the EPA data directly. These values are binned for simplification into no treatment, primary, secondary, and advanced treatment. When no treatment type was provided for a facility, it was assumed that they were secondary treatment facilities.\n",
    "\n",
    "To see the amount of water (MGD) processed within each county by treatment type, run the cell below."
   ]
  },
  {
   "cell_type": "code",
   "execution_count": null,
   "id": "1216fa88-6561-42a7-a8ce-80034ba58003",
   "metadata": {},
   "outputs": [],
   "source": [
    "df = flow.prep_wastewater_data()\n",
    "df.head()"
   ]
  },
  {
   "cell_type": "markdown",
   "id": "fefe0edf-638f-413c-914a-c28f695a61b9",
   "metadata": {},
   "source": [
    "### Wastewater Treatment Facility Discharge\n",
    "\n",
    "Wastewater treatment plant discharge location is provided in the EPA data directly. These values are binned for simplification into the following categories:\n",
    "\n",
    "* 'outfall to surface waters': 'ww_sd',\n",
    "* 'ocean discharge': 'ww_od',\n",
    "* 'deep well': 'ww_gd',\n",
    "* \"reuse: industrial\": 'ww_in',\n",
    "* 'evaporation': 'ww_evap',\n",
    "* 'spray irrigation': 'ww_ir',\n",
    "* 'overland flow no discharge': 'ww_ww',\n",
    "* 'overland flow with discharge': 'ww_sd',\n",
    "* 'discharge to another facility': 'ww_ww',\n",
    "* 'combined sewer overflow (cso) discharge': 'ww_sd',\n",
    "* 'other': 'ww_sd',\n",
    "* 'discharge to groundwater': 'ww_gd',\n",
    "* 'no discharge, unknown': 'ww_ww',\n",
    "* 'reuse: irrigation': 'ww_ir',\n",
    "* 'reuse: other non-potable': 'ww_sd',\n",
    "* 'reuse: indirect potable': 'ww_sd',\n",
    "* 'reuse: potable': 'ww_ps',\n",
    "* 'reuse: groundwater recharge': 'ww_gd'"
   ]
  },
  {
   "cell_type": "code",
   "execution_count": null,
   "id": "ca28495d-ee3e-444d-87a8-822dd2b96b59",
   "metadata": {},
   "outputs": [],
   "source": [
    "df = flow.prep_wastewater_data()\n",
    "df = df[['FIPS','ww_evap','ww_gd','ww_in','ww_ir','ww_od','ww_ps','ww_sd','ww_ww']]\n",
    "df.head()"
   ]
  },
  {
   "cell_type": "markdown",
   "id": "83f8d020-82bc-413f-9809-6b99f7d03b6d",
   "metadata": {},
   "source": [
    "## Energy in Wastewater Treatment\n",
    "\n",
    "Wastewater treatment facilities have various levels of treatment from primary to advanced. Each treatment level has an increasing level of energy intensity to process the water. Intensity value estimates for wastwater treatment were used from Pabi et al. [17]."
   ]
  },
  {
   "cell_type": "markdown",
   "id": "3e3a89c7-b15a-4ee9-9dae-650f88f8edf9",
   "metadata": {},
   "source": [
    "# Agriculture"
   ]
  },
  {
   "cell_type": "markdown",
   "id": "525afe82-e4d0-4696-be09-341e39b7daf5",
   "metadata": {},
   "source": [
    "## Water in Agriculture"
   ]
  },
  {
   "cell_type": "code",
   "execution_count": null,
   "id": "460054af-419c-4a7f-bb08-987e96dc111a",
   "metadata": {},
   "outputs": [],
   "source": []
  },
  {
   "cell_type": "markdown",
   "id": "f0222bec-066e-47c8-a200-8b3344116ee6",
   "metadata": {},
   "source": [
    "## Energy in Agriculture"
   ]
  },
  {
   "cell_type": "markdown",
   "id": "812009ea-53fa-4ae2-ab09-a1a4311b9855",
   "metadata": {},
   "source": [
    "Energy use in agriculture consists of groundwater pumping, surface water pumping, and interbasin transers. USDA's Farm and Ranch Irrigation Survey (FRIS) provides state-by-state data on irrigation groundwater depth and average irrigation pressurization levels for irrigation within a state, enabling the calculation of pump electricity consumption for both groundwater and surface water pumping [13]. The 2013 survey is the closest year available to 2015 values. It is assumed that values do not vary significantly between the two years.\n",
    "\n",
    "The methodology for calculating groundwater and surface water pumping energy is described in Tidwell et al [14]. However, where that publication uses well depth to water to calculate total differential height, the total well depth is used here as a way to offset some of the losses due to friction that would occur in the piping, as described in Lawrence Berkeley National Laboratory (LBNL) Home Energy Saver & Score: Engineering Documentation [15].\n",
    "\n",
    "Pump efficiency is assumed to be the average (46.5%) of the range (34-59%) listed in [14]. State-level intensity rates are calculated here and applied to the county level water in agriculture values. The general methodology implemented here to determine total energy in agriculture is adapted from [5], not including the additions previously mentioned."
   ]
  },
  {
   "cell_type": "markdown",
   "id": "7a294da4-41ae-4c96-83e2-b15142c0150a",
   "metadata": {},
   "source": [
    "### Groundwater & Surface Water Pumping"
   ]
  },
  {
   "cell_type": "code",
   "execution_count": null,
   "id": "b512c890-a13c-45b8-a715-c80e1ccb470a",
   "metadata": {},
   "outputs": [],
   "source": []
  },
  {
   "cell_type": "markdown",
   "id": "11bc4701-2dee-45ae-aa05-d25917208ae3",
   "metadata": {},
   "source": [
    "### Interbasin Transfers"
   ]
  },
  {
   "cell_type": "code",
   "execution_count": null,
   "id": "0c920586-466a-4ce4-9ba3-b062088056ff",
   "metadata": {},
   "outputs": [],
   "source": []
  },
  {
   "cell_type": "markdown",
   "id": "5e45f8aa-c7ca-46df-9a08-bde1c5508b77",
   "metadata": {},
   "source": [
    "# Electricity Generation"
   ]
  },
  {
   "cell_type": "markdown",
   "id": "6d831d03-40f3-4ad7-ba6b-b0985dd7916d",
   "metadata": {},
   "source": [
    "## Energy in Electricity Generation"
   ]
  },
  {
   "cell_type": "markdown",
   "id": "77c3cb84-67d9-42de-a902-2e9511bad47b",
   "metadata": {},
   "source": [
    "US Energy Information Administration (EIA) 923 data for 2015 is used to determine electricity generation by generator type within each interconnect [12]. The datafile contains information on generation at the plant-level. EIA additionally provides data on which North American Electric Reliability Corporation (NERC) balancing region each plant belongs to. By mapping each NERC region to its associated interconnect, generation within each interconnect can be determined directly.\n",
    "\n",
    "From EIA, the AER Fuel Type Code is used to determine generator type. EIA provides generator type information at a high level of detail. For this reason different generator types are grouped for simplicity using a generator key (GenType923Key.xlsx). For example, different types of natural gas generators are all grouped into \"Natural Gas\" as a type.\n",
    "\n",
    "Energy production is provided as \"Net Generation (Megawatthours)\" in the EIA dataset, \"Total Fuel Consumption (MMBTU)\" is the MMBTU equivalent of fuel going to each plant for electricity generation. The difference between these two values indicates the amount of energy generation that does not go to energy losses."
   ]
  },
  {
   "cell_type": "markdown",
   "id": "fa27311d-24ea-409e-b9cd-0655674b07e9",
   "metadata": {},
   "source": [
    "## will be filled in with calculate function"
   ]
  },
  {
   "cell_type": "code",
   "execution_count": null,
   "id": "b8de3a2e-ae73-41ba-9d7f-4ae4724a17b8",
   "metadata": {},
   "outputs": [],
   "source": []
  },
  {
   "cell_type": "markdown",
   "id": "4443c5c2-b504-42c8-ac3f-0b1087b4be19",
   "metadata": {},
   "source": [
    "## Water in Electricity Generation"
   ]
  },
  {
   "cell_type": "code",
   "execution_count": null,
   "id": "1e028afe-61e5-48d1-8390-99cde95e0b7a",
   "metadata": {},
   "outputs": [],
   "source": []
  },
  {
   "cell_type": "markdown",
   "id": "a8a1580a-826d-4b9d-afcb-5cb956f7aa69",
   "metadata": {},
   "source": [
    "# End Use Sectors"
   ]
  },
  {
   "cell_type": "markdown",
   "id": "d48d9dcc-2879-429b-bdeb-42904f646bbb",
   "metadata": {},
   "source": [
    "## Residential Sector"
   ]
  },
  {
   "cell_type": "markdown",
   "id": "4f740672-5ffc-473c-868c-064701384e1b",
   "metadata": {},
   "source": [
    "### Water in Residential Sector"
   ]
  },
  {
   "cell_type": "code",
   "execution_count": null,
   "id": "325c0a80-139b-467a-9550-663555582a8d",
   "metadata": {},
   "outputs": [],
   "source": []
  },
  {
   "cell_type": "markdown",
   "id": "50a71b4a-c4f3-4a1d-b6c7-a3ae7780aabf",
   "metadata": {},
   "source": [
    "### Energy in Residential Sector"
   ]
  },
  {
   "cell_type": "markdown",
   "id": "e6adff18-e8eb-4339-98af-682aa9b240a9",
   "metadata": {},
   "source": [
    "#### Energy (electricity) Demand in Residential Sector"
   ]
  },
  {
   "cell_type": "markdown",
   "id": "d65dd52b-d06e-4b57-9b11-087f415d0e14",
   "metadata": {},
   "source": [
    "##### weighted by population. <b> consider splitting out by usage if data is available"
   ]
  },
  {
   "cell_type": "code",
   "execution_count": null,
   "id": "61212a75-f22a-4bf6-85bb-f072eb3fad30",
   "metadata": {},
   "outputs": [],
   "source": [
    "df = flow.prep_electricity_demand_data()\n",
    "df"
   ]
  },
  {
   "cell_type": "markdown",
   "id": "bd9e8d0c-0152-4e00-bd6a-a9a3c9bb6482",
   "metadata": {},
   "source": [
    "#### Energy (fuel) Demand in Residential Sector"
   ]
  },
  {
   "cell_type": "markdown",
   "id": "230fbd0f-240a-401c-9d6e-740470bb44b7",
   "metadata": {},
   "source": [
    "## Commercial Sector"
   ]
  },
  {
   "cell_type": "markdown",
   "id": "59f26e7a-dfba-40cd-a3be-c3c8120ccb20",
   "metadata": {},
   "source": [
    "### Water in Commercial Sector"
   ]
  },
  {
   "cell_type": "markdown",
   "id": "33ff8e98-0372-4ebb-87cf-cef498e959c8",
   "metadata": {},
   "source": [
    "### Energy in Commercial Sector"
   ]
  },
  {
   "cell_type": "markdown",
   "id": "a08bb590-6c51-443f-9977-5873de7d7bde",
   "metadata": {},
   "source": [
    "## Industrial Sector"
   ]
  },
  {
   "cell_type": "markdown",
   "id": "659e7492-18d9-4eaa-b276-6164c642cccc",
   "metadata": {},
   "source": [
    "### Water in Industrial Sector"
   ]
  },
  {
   "cell_type": "markdown",
   "id": "19adc037-9619-49d3-bc13-31eb153a03ad",
   "metadata": {},
   "source": [
    "### Energy in Industrial Sector"
   ]
  },
  {
   "cell_type": "markdown",
   "id": "ecc5ca9e-76c1-41c1-b877-647c8c68742f",
   "metadata": {},
   "source": [
    "## Transportation Sector"
   ]
  },
  {
   "cell_type": "markdown",
   "id": "3ab4b15a-4655-4613-83ab-737dc153f776",
   "metadata": {},
   "source": [
    "### Energy in Energy Sector"
   ]
  },
  {
   "cell_type": "code",
   "execution_count": null,
   "id": "079c97fa-27fa-498f-b6a8-fb7dcffd8964",
   "metadata": {},
   "outputs": [],
   "source": []
  },
  {
   "cell_type": "markdown",
   "id": "4b44cc0d-27e1-4167-8aac-90b8f215b378",
   "metadata": {},
   "source": [
    "# Energy Production"
   ]
  },
  {
   "cell_type": "markdown",
   "id": "58b16ff1-f15f-44b0-8adf-4f8012ac9f33",
   "metadata": {},
   "source": [
    "## Biomass"
   ]
  },
  {
   "cell_type": "markdown",
   "id": "6490d936-cb22-4933-b697-76899f4ba876",
   "metadata": {},
   "source": [
    "### Energy in Biomass Production (Ethanol)\n",
    "\n",
    "To find the ethanol production per county, this calculation takes 2015 eia data on ethanol plant capacity which has added locational data by each plant and combines with state level biomass (ethanol) production from prep_state_fuel_production_data() to split out state total by county. Returns a dataframe of ethanol production (bbtu) by county FIPS for each county in the US for 2015.\n",
    "\n",
    "ethanol plant production filler for wyoming (in state total but not location data) ,Torrington, WY100%, https://neo.ne.gov/programs/stats/122/2015/122_201512.htm"
   ]
  },
  {
   "cell_type": "markdown",
   "id": "9f98eecc-1f77-42f4-8fda-1bbf9d6bc1bf",
   "metadata": {},
   "source": [
    "#### <b> <ul> <font color='red'> Consider looking for estimates for electricity use in biomass production to split out from industrial"
   ]
  },
  {
   "cell_type": "markdown",
   "id": "ca9ac8cb-d671-49d2-bec7-605583ace9f4",
   "metadata": {},
   "source": [
    "### Water in Biomass Production (Ethanol)"
   ]
  },
  {
   "cell_type": "markdown",
   "id": "8b68f3d0-a1f6-4d2c-9120-e6fd3e186d7c",
   "metadata": {},
   "source": [
    "#### Water used in irrigation of corn used for ethanol"
   ]
  },
  {
   "cell_type": "markdown",
   "id": "5999934b-a191-478b-a073-955bee3d348b",
   "metadata": {},
   "source": [
    "Data on water used in the irrigation of corn ultimately used for ethanol production does not exist explicitly at any level of granularity and must be calculated out from larger state-level corn growth irrigation intensity estimates.\n",
    "\n",
    "The percent of corn grown for ethanol in the US was used from US DOE Alternative Fuels Data Center [21]. Total corn production for ethanol (5.22 billion bushels) was divided by total corn producton (13.6 billion bushels) for 2015 and calculated to be 38.406%. Data on a state or county-level does not exist, therefore, this percentage is applied to all states with corn production. A state-level fraction of corn used for ethanol production could be calculated from the amount of ethanol produced in a state and applying an assumption of corn required per unit of ethanol, however, not all corn used in ethanol is produced in the state that uses it which lead to states such as CA with an ethanol fraction of corn growth of nearly 900% of their total corn production. Given that we are unable to determine which states the imported corn for ethanol would be coming from, the decision was made to apply the US total fraction to all states.\n",
    "\n",
    "Total water used in the production of corn for ethanol is therefore the assumed 38.406% multiplied by the product of the total amount of irrigated acres of corn (AC_Irr_Corn) and the calculated irrigation intensity for that state (total acres applied to all crops / total acres irrigated, all crops) provided from USDA Census of Agriculture Irrigation and Water Management Survey [22], Table 35 and Table 4, respectively. The irrigation intensity for corn is calculated from the average irrigation intensity for the state.\n",
    "\n",
    "To split the total MGY applied between fresh surface and groundwater, USDA FRIS Census of Agriculture data on the fraction of surface water (surface water + off farm water) from total water supply (including groundwater) in corn production is used from Table 37 of [22]. Off-farm sources are assumed to be surface water.\n",
    "\n",
    "Some states that grow corn do not provide data on the water source breakdown (surface vs. ground) for their irrigation. The surface to groundwater ratio for all irrigation in a state is substituted for these states. These values are calculated from the USGS 2015 water dataset."
   ]
  },
  {
   "cell_type": "code",
   "execution_count": null,
   "id": "2a1407da-7213-4f97-8488-3be10a396513",
   "metadata": {},
   "outputs": [],
   "source": [
    "df = flow.prep_county_water_corn_biomass_data()"
   ]
  },
  {
   "cell_type": "markdown",
   "id": "588a4233-3774-4ade-b348-a4ff44416ac8",
   "metadata": {},
   "source": [
    "#### Water used in the production of ethanol (fermentation)"
   ]
  },
  {
   "cell_type": "markdown",
   "id": "a779da6b-abb6-4348-8287-528a54c22474",
   "metadata": {},
   "source": [
    "#### <b> <ul> <font color='red'> Consider looking for estimates for water used in the fermentation process of ethanol production, not just corn growth."
   ]
  },
  {
   "cell_type": "markdown",
   "id": "cf5d56f8-5bc4-471a-b203-36183f4a1b89",
   "metadata": {},
   "source": [
    "## Petroleum"
   ]
  },
  {
   "cell_type": "markdown",
   "id": "290231c8-e904-412c-83bd-4562d10d1212",
   "metadata": {},
   "source": [
    "### Energy in Petroleum Production (Conventional and Unconventional Oil Drilling)"
   ]
  },
  {
   "cell_type": "markdown",
   "id": "f1dcd09b-4751-4067-90c8-41a6796cec46",
   "metadata": {},
   "source": [
    " crude oil production by county fillers\n",
    "Idaho: https://ogcc.idaho.gov/wp-content/uploads/sites/3/2017/06/2016-10-6-state-of-idaho-releases-oil-gas-production-data.pdf\n",
    "100% of Idaho petroleum and natural gas is from Payette County\n",
    "\n",
    "Alaska,\n",
    "https://www.commerce.alaska.gov/web/aogcc/Data.aspx\n",
    "almost all oil is produced along the north slope. Calculated from oil production download. The rest is on the kenai peninsula (cook inlet basin)\n",
    "\n",
    "Maryland\n",
    "https://www.eia.gov/state/analysis.php?sid=MD#34\n",
    "assumed 50/50 split between Garret and Allegany Counties\n",
    "\n",
    "Nevada\n",
    "https://gisweb.unr.edu/OilGas/\n",
    "Assumed to be in nye county with producing oil wells (only 4 btu)\n",
    "\n",
    "Oregon\n",
    "https://www.oregongeology.org/mlrr/oilgas-report.htm\n",
    "Only one county (columbia county)"
   ]
  },
  {
   "cell_type": "markdown",
   "id": "61206ecf-cfac-465d-8396-64eb8c7cf4a5",
   "metadata": {},
   "source": [
    "### Water in Petroleum Production (Conventional and Unconventional Oil Drilling)"
   ]
  },
  {
   "cell_type": "markdown",
   "id": "aabccc27-383e-4532-ad3d-b0fdd6f34b45",
   "metadata": {},
   "source": [
    "## Natural Gas"
   ]
  },
  {
   "cell_type": "markdown",
   "id": "cc3d88a8-2668-401e-bbe9-4574273136d5",
   "metadata": {},
   "source": [
    "### Energy in Natural Gas Production (Unconventional Drilling)"
   ]
  },
  {
   "cell_type": "markdown",
   "id": "39d740be-7ce4-422e-8087-a410a20306ff",
   "metadata": {},
   "source": [
    "### Water in Natural Gas Production (Unconventional Drilling)"
   ]
  },
  {
   "cell_type": "markdown",
   "id": "547622b2-a8ea-4deb-8579-ff7202cfa921",
   "metadata": {},
   "source": [
    "## Coal"
   ]
  },
  {
   "cell_type": "markdown",
   "id": "98f14885-561d-4f48-a630-ac52b4f91023",
   "metadata": {},
   "source": [
    "### Energy in Coal Production (Coal Mining)"
   ]
  },
  {
   "cell_type": "markdown",
   "id": "82728a63-8d67-4d7a-b8be-da2566f118ee",
   "metadata": {},
   "source": [
    "### Water in Coal Production (Coal Mining)"
   ]
  },
  {
   "cell_type": "code",
   "execution_count": null,
   "id": "7cdf3331-e82e-485e-baab-ef696af225f3",
   "metadata": {},
   "outputs": [],
   "source": []
  },
  {
   "cell_type": "code",
   "execution_count": null,
   "id": "f3f634f1-67dd-4922-8625-ec8fcb184969",
   "metadata": {},
   "outputs": [],
   "source": []
  },
  {
   "cell_type": "code",
   "execution_count": null,
   "id": "cb2e49b0-5309-430c-a507-1fa835c6d505",
   "metadata": {},
   "outputs": [],
   "source": []
  },
  {
   "cell_type": "markdown",
   "id": "6083ab3c-2888-45ac-8584-0d44fb1a4878",
   "metadata": {
    "tags": []
   },
   "source": [
    "# Intensities & Percentages"
   ]
  },
  {
   "cell_type": "markdown",
   "id": "a0d12353-4606-4f7f-84f0-da10416dd08e",
   "metadata": {},
   "source": [
    "#### Conveyance Losses as a Percent of Water Withdrawn for Irrigation\n",
    "Conveyance loss fraction for irrigation is calculated from the USGS 1995 water use dataset. It is calculated as the total conveyance losses (MGD) divided by the total water withdrawn (MGD) for irrigation. Looking at the fractions at the county level shows that a small subset of counties have unreliable values where conveyance losses are far greater than the amount withdrawn for irrigation. As a result, the ability to cap the loss fraction at a specified amount it provided and replace it with the average of the specified region. The default loss cap fraction is .90."
   ]
  },
  {
   "cell_type": "code",
   "execution_count": null,
   "id": "e1e70eb3-2586-4c96-9542-dc397efede04",
   "metadata": {},
   "outputs": [],
   "source": [
    "df = flow.prep_water_use_1995()\n",
    "df = flow.calc_conveyance_loss_frac(df)\n",
    "df.head()"
   ]
  },
  {
   "cell_type": "markdown",
   "id": "e6bad304-bbd2-4c42-b1ab-c2e8228469c9",
   "metadata": {},
   "source": [
    "##### Change in loss cap"
   ]
  },
  {
   "cell_type": "code",
   "execution_count": null,
   "id": "321b6479-d093-4059-80e6-629a34605b80",
   "metadata": {},
   "outputs": [],
   "source": [
    "df = flow.prep_water_use_1995()\n",
    "df = flow.calc_conveyance_loss_frac(df, loss_cap_amt=.20)\n",
    "df.head()"
   ]
  },
  {
   "cell_type": "code",
   "execution_count": null,
   "id": "26a3da74-77fe-4db6-a3df-897dcaa39d38",
   "metadata": {},
   "outputs": [],
   "source": [
    "help(flow.plot_bar)"
   ]
  },
  {
   "cell_type": "code",
   "execution_count": null,
   "id": "c771f8ba-02d8-4daf-9390-9fcac3e826d3",
   "metadata": {},
   "outputs": [],
   "source": [
    "flow.plot_bar(df, \"State\",\"IR_CLoss_Frac\", \"State\", y_axis_title = \"Irrigation Conveyance Loss Fraction\", x_axis_title=\"State\")"
   ]
  },
  {
   "cell_type": "markdown",
   "id": "18ddc662-ba7b-4e29-8e6c-dc423a529fcd",
   "metadata": {},
   "source": [
    "#### Water Use Intensity for Hydroelectric Generation"
   ]
  },
  {
   "cell_type": "code",
   "execution_count": null,
   "id": "9551b6a2-0897-47c3-90d3-51adce0ef8ea",
   "metadata": {},
   "outputs": [],
   "source": [
    "df = flow.calc_hydroelectric_water_intensity(intensity_cap=True, intensity_cap_amt=165, region_avg=False)\n",
    "\n",
    "df.head()"
   ]
  },
  {
   "cell_type": "code",
   "execution_count": null,
   "id": "f18b2c41-1e1b-4182-b6ec-0af07fca062e",
   "metadata": {},
   "outputs": [],
   "source": [
    "flow.plot_bar(df, \"State\",\"HY_IF\", \"State\")"
   ]
  },
  {
   "cell_type": "code",
   "execution_count": null,
   "id": "2567ceec-abeb-43a7-a36a-c3b28379bbc6",
   "metadata": {},
   "outputs": [],
   "source": []
  }
 ],
 "metadata": {
  "kernelspec": {
   "display_name": "flow",
   "language": "python",
   "name": "flow"
  },
  "language_info": {
   "codemirror_mode": {
    "name": "ipython",
    "version": 3
   },
   "file_extension": ".py",
   "mimetype": "text/x-python",
   "name": "python",
   "nbconvert_exporter": "python",
   "pygments_lexer": "ipython3",
   "version": "3.9.4"
  }
 },
 "nbformat": 4,
 "nbformat_minor": 5
}

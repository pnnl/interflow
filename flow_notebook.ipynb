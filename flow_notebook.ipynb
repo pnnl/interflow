{
 "cells": [
  {
   "cell_type": "code",
   "execution_count": 1,
   "id": "7f4612ce-aa94-4114-b0b5-0c59488e2ed9",
   "metadata": {},
   "outputs": [],
   "source": [
    "import pandas as pd\n",
    "import numpy as np\n",
    "import flow  \n",
    "\n",
    "data = pd.read_csv(r\"C:\\Users\\mong275\\Local Files\\Repos\\flow\\sample_data\\test_output.csv\", dtype={'FIPS':str})   \n",
    "data['FIPS'] = data['FIPS'].apply(lambda x: '{0:0>5}'.format(x))"
   ]
  },
  {
   "cell_type": "code",
   "execution_count": 2,
   "id": "c0602a58",
   "metadata": {},
   "outputs": [
    {
     "name": "stdout",
     "output_type": "stream",
     "text": [
      "Wall time: 995 ms\n"
     ]
    },
    {
     "data": {
      "text/html": [
       "<div>\n",
       "<style scoped>\n",
       "    .dataframe tbody tr th:only-of-type {\n",
       "        vertical-align: middle;\n",
       "    }\n",
       "\n",
       "    .dataframe tbody tr th {\n",
       "        vertical-align: top;\n",
       "    }\n",
       "\n",
       "    .dataframe thead th {\n",
       "        text-align: right;\n",
       "    }\n",
       "</style>\n",
       "<table border=\"1\" class=\"dataframe\">\n",
       "  <thead>\n",
       "    <tr style=\"text-align: right;\">\n",
       "      <th></th>\n",
       "      <th>region</th>\n",
       "      <th>S1</th>\n",
       "      <th>S2</th>\n",
       "      <th>S3</th>\n",
       "      <th>S4</th>\n",
       "      <th>S5</th>\n",
       "      <th>T1</th>\n",
       "      <th>T2</th>\n",
       "      <th>T3</th>\n",
       "      <th>T4</th>\n",
       "      <th>T5</th>\n",
       "      <th>units</th>\n",
       "      <th>value</th>\n",
       "    </tr>\n",
       "  </thead>\n",
       "  <tbody>\n",
       "    <tr>\n",
       "      <th>0</th>\n",
       "      <td>42113</td>\n",
       "      <td>WSW</td>\n",
       "      <td>fresh</td>\n",
       "      <td>groundwater</td>\n",
       "      <td>total</td>\n",
       "      <td>total</td>\n",
       "      <td>AGI</td>\n",
       "      <td>fresh</td>\n",
       "      <td>groundwater</td>\n",
       "      <td>withdrawal</td>\n",
       "      <td>total</td>\n",
       "      <td>mgd</td>\n",
       "      <td>0.020000</td>\n",
       "    </tr>\n",
       "    <tr>\n",
       "      <th>1</th>\n",
       "      <td>42113</td>\n",
       "      <td>WSW</td>\n",
       "      <td>fresh</td>\n",
       "      <td>surfacewater</td>\n",
       "      <td>total</td>\n",
       "      <td>total</td>\n",
       "      <td>AGI</td>\n",
       "      <td>fresh</td>\n",
       "      <td>surfacewater</td>\n",
       "      <td>withdrawal</td>\n",
       "      <td>total</td>\n",
       "      <td>mgd</td>\n",
       "      <td>0.020000</td>\n",
       "    </tr>\n",
       "    <tr>\n",
       "      <th>2</th>\n",
       "      <td>42113</td>\n",
       "      <td>WSW</td>\n",
       "      <td>fresh</td>\n",
       "      <td>groundwater</td>\n",
       "      <td>total</td>\n",
       "      <td>total</td>\n",
       "      <td>ALV</td>\n",
       "      <td>fresh</td>\n",
       "      <td>groundwater</td>\n",
       "      <td>withdrawal</td>\n",
       "      <td>total</td>\n",
       "      <td>mgd</td>\n",
       "      <td>0.080000</td>\n",
       "    </tr>\n",
       "    <tr>\n",
       "      <th>3</th>\n",
       "      <td>42113</td>\n",
       "      <td>WSW</td>\n",
       "      <td>fresh</td>\n",
       "      <td>surfacewater</td>\n",
       "      <td>total</td>\n",
       "      <td>total</td>\n",
       "      <td>ALV</td>\n",
       "      <td>fresh</td>\n",
       "      <td>surfacewater</td>\n",
       "      <td>withdrawal</td>\n",
       "      <td>total</td>\n",
       "      <td>mgd</td>\n",
       "      <td>0.010000</td>\n",
       "    </tr>\n",
       "    <tr>\n",
       "      <th>4</th>\n",
       "      <td>42113</td>\n",
       "      <td>PWD</td>\n",
       "      <td>total</td>\n",
       "      <td>total</td>\n",
       "      <td>total</td>\n",
       "      <td>total</td>\n",
       "      <td>COM</td>\n",
       "      <td>public</td>\n",
       "      <td>total</td>\n",
       "      <td>total</td>\n",
       "      <td>total</td>\n",
       "      <td>mgd</td>\n",
       "      <td>0.027945</td>\n",
       "    </tr>\n",
       "    <tr>\n",
       "      <th>...</th>\n",
       "      <td>...</td>\n",
       "      <td>...</td>\n",
       "      <td>...</td>\n",
       "      <td>...</td>\n",
       "      <td>...</td>\n",
       "      <td>...</td>\n",
       "      <td>...</td>\n",
       "      <td>...</td>\n",
       "      <td>...</td>\n",
       "      <td>...</td>\n",
       "      <td>...</td>\n",
       "      <td>...</td>\n",
       "      <td>...</td>\n",
       "    </tr>\n",
       "    <tr>\n",
       "      <th>77</th>\n",
       "      <td>42113</td>\n",
       "      <td>WWD</td>\n",
       "      <td>advanced</td>\n",
       "      <td>municipal</td>\n",
       "      <td>total</td>\n",
       "      <td>total</td>\n",
       "      <td>GWD</td>\n",
       "      <td>total</td>\n",
       "      <td>total</td>\n",
       "      <td>total</td>\n",
       "      <td>total</td>\n",
       "      <td>mgd</td>\n",
       "      <td>0.010767</td>\n",
       "    </tr>\n",
       "    <tr>\n",
       "      <th>78</th>\n",
       "      <td>42113</td>\n",
       "      <td>WWD</td>\n",
       "      <td>advanced</td>\n",
       "      <td>municipal</td>\n",
       "      <td>total</td>\n",
       "      <td>total</td>\n",
       "      <td>IRX</td>\n",
       "      <td>total</td>\n",
       "      <td>total</td>\n",
       "      <td>total</td>\n",
       "      <td>total</td>\n",
       "      <td>mgd</td>\n",
       "      <td>0.004533</td>\n",
       "    </tr>\n",
       "    <tr>\n",
       "      <th>79</th>\n",
       "      <td>42113</td>\n",
       "      <td>WWD</td>\n",
       "      <td>advanced</td>\n",
       "      <td>municipal</td>\n",
       "      <td>total</td>\n",
       "      <td>total</td>\n",
       "      <td>SRD</td>\n",
       "      <td>total</td>\n",
       "      <td>total</td>\n",
       "      <td>total</td>\n",
       "      <td>total</td>\n",
       "      <td>mgd</td>\n",
       "      <td>0.038533</td>\n",
       "    </tr>\n",
       "    <tr>\n",
       "      <th>80</th>\n",
       "      <td>42113</td>\n",
       "      <td>WWD</td>\n",
       "      <td>treatment</td>\n",
       "      <td>advanced</td>\n",
       "      <td>total</td>\n",
       "      <td>total</td>\n",
       "      <td>ESV</td>\n",
       "      <td>total</td>\n",
       "      <td>total</td>\n",
       "      <td>total</td>\n",
       "      <td>total</td>\n",
       "      <td>bbtu</td>\n",
       "      <td>0.000338</td>\n",
       "    </tr>\n",
       "    <tr>\n",
       "      <th>81</th>\n",
       "      <td>42113</td>\n",
       "      <td>WWD</td>\n",
       "      <td>treatment</td>\n",
       "      <td>advanced</td>\n",
       "      <td>total</td>\n",
       "      <td>total</td>\n",
       "      <td>REJ</td>\n",
       "      <td>total</td>\n",
       "      <td>total</td>\n",
       "      <td>total</td>\n",
       "      <td>total</td>\n",
       "      <td>bbtu</td>\n",
       "      <td>0.000182</td>\n",
       "    </tr>\n",
       "  </tbody>\n",
       "</table>\n",
       "<p>82 rows × 13 columns</p>\n",
       "</div>"
      ],
      "text/plain": [
       "   region   S1         S2            S3     S4     S5   T1      T2  \\\n",
       "0   42113  WSW      fresh   groundwater  total  total  AGI   fresh   \n",
       "1   42113  WSW      fresh  surfacewater  total  total  AGI   fresh   \n",
       "2   42113  WSW      fresh   groundwater  total  total  ALV   fresh   \n",
       "3   42113  WSW      fresh  surfacewater  total  total  ALV   fresh   \n",
       "4   42113  PWD      total         total  total  total  COM  public   \n",
       "..    ...  ...        ...           ...    ...    ...  ...     ...   \n",
       "77  42113  WWD   advanced     municipal  total  total  GWD   total   \n",
       "78  42113  WWD   advanced     municipal  total  total  IRX   total   \n",
       "79  42113  WWD   advanced     municipal  total  total  SRD   total   \n",
       "80  42113  WWD  treatment      advanced  total  total  ESV   total   \n",
       "81  42113  WWD  treatment      advanced  total  total  REJ   total   \n",
       "\n",
       "              T3          T4     T5 units     value  \n",
       "0    groundwater  withdrawal  total   mgd  0.020000  \n",
       "1   surfacewater  withdrawal  total   mgd  0.020000  \n",
       "2    groundwater  withdrawal  total   mgd  0.080000  \n",
       "3   surfacewater  withdrawal  total   mgd  0.010000  \n",
       "4          total       total  total   mgd  0.027945  \n",
       "..           ...         ...    ...   ...       ...  \n",
       "77         total       total  total   mgd  0.010767  \n",
       "78         total       total  total   mgd  0.004533  \n",
       "79         total       total  total   mgd  0.038533  \n",
       "80         total       total  total  bbtu  0.000338  \n",
       "81         total       total  total  bbtu  0.000182  \n",
       "\n",
       "[82 rows x 13 columns]"
      ]
     },
     "execution_count": 2,
     "metadata": {},
     "output_type": "execute_result"
    }
   ],
   "source": [
    "%%time\n",
    "region = '42113'\n",
    "df = flow.calculate(level=5, data = data, region_name=region)\n",
    "df"
   ]
  },
  {
   "cell_type": "code",
   "execution_count": 2,
   "id": "af71a583",
   "metadata": {},
   "outputs": [
    {
     "data": {
      "text/html": [
       "<div>\n",
       "<style scoped>\n",
       "    .dataframe tbody tr th:only-of-type {\n",
       "        vertical-align: middle;\n",
       "    }\n",
       "\n",
       "    .dataframe tbody tr th {\n",
       "        vertical-align: top;\n",
       "    }\n",
       "\n",
       "    .dataframe thead th {\n",
       "        text-align: right;\n",
       "    }\n",
       "</style>\n",
       "<table border=\"1\" class=\"dataframe\">\n",
       "  <thead>\n",
       "    <tr style=\"text-align: right;\">\n",
       "      <th></th>\n",
       "      <th>region</th>\n",
       "      <th>S1</th>\n",
       "      <th>S2</th>\n",
       "      <th>S3</th>\n",
       "      <th>S4</th>\n",
       "      <th>S5</th>\n",
       "      <th>T1</th>\n",
       "      <th>T2</th>\n",
       "      <th>T3</th>\n",
       "      <th>T4</th>\n",
       "      <th>T5</th>\n",
       "      <th>units</th>\n",
       "      <th>value</th>\n",
       "      <th>STATE</th>\n",
       "      <th>STATEFIPS</th>\n",
       "      <th>COUNTY_FULL</th>\n",
       "      <th>COUNTYFIPS</th>\n",
       "      <th>Interconnect</th>\n",
       "      <th>COUNTY_SHORT</th>\n",
       "    </tr>\n",
       "  </thead>\n",
       "  <tbody>\n",
       "    <tr>\n",
       "      <th>0</th>\n",
       "      <td>1001</td>\n",
       "      <td>WSW</td>\n",
       "      <td>fresh</td>\n",
       "      <td>groundwater</td>\n",
       "      <td>total</td>\n",
       "      <td>total</td>\n",
       "      <td>ACI</td>\n",
       "      <td>fresh</td>\n",
       "      <td>groundwater</td>\n",
       "      <td>withdrawal</td>\n",
       "      <td>total</td>\n",
       "      <td>mgd</td>\n",
       "      <td>3.360000</td>\n",
       "      <td>AL</td>\n",
       "      <td>1</td>\n",
       "      <td>Autauga County</td>\n",
       "      <td>1</td>\n",
       "      <td>East</td>\n",
       "      <td>Autauga</td>\n",
       "    </tr>\n",
       "    <tr>\n",
       "      <th>1</th>\n",
       "      <td>1001</td>\n",
       "      <td>WSW</td>\n",
       "      <td>fresh</td>\n",
       "      <td>surfacewater</td>\n",
       "      <td>total</td>\n",
       "      <td>total</td>\n",
       "      <td>AGI</td>\n",
       "      <td>fresh</td>\n",
       "      <td>surfacewater</td>\n",
       "      <td>withdrawal</td>\n",
       "      <td>total</td>\n",
       "      <td>mgd</td>\n",
       "      <td>0.160000</td>\n",
       "      <td>AL</td>\n",
       "      <td>1</td>\n",
       "      <td>Autauga County</td>\n",
       "      <td>1</td>\n",
       "      <td>East</td>\n",
       "      <td>Autauga</td>\n",
       "    </tr>\n",
       "    <tr>\n",
       "      <th>2</th>\n",
       "      <td>1001</td>\n",
       "      <td>WSW</td>\n",
       "      <td>fresh</td>\n",
       "      <td>groundwater</td>\n",
       "      <td>total</td>\n",
       "      <td>total</td>\n",
       "      <td>ALV</td>\n",
       "      <td>fresh</td>\n",
       "      <td>groundwater</td>\n",
       "      <td>withdrawal</td>\n",
       "      <td>total</td>\n",
       "      <td>mgd</td>\n",
       "      <td>0.080000</td>\n",
       "      <td>AL</td>\n",
       "      <td>1</td>\n",
       "      <td>Autauga County</td>\n",
       "      <td>1</td>\n",
       "      <td>East</td>\n",
       "      <td>Autauga</td>\n",
       "    </tr>\n",
       "    <tr>\n",
       "      <th>3</th>\n",
       "      <td>1001</td>\n",
       "      <td>WSW</td>\n",
       "      <td>fresh</td>\n",
       "      <td>surfacewater</td>\n",
       "      <td>total</td>\n",
       "      <td>total</td>\n",
       "      <td>ALV</td>\n",
       "      <td>fresh</td>\n",
       "      <td>surfacewater</td>\n",
       "      <td>withdrawal</td>\n",
       "      <td>total</td>\n",
       "      <td>mgd</td>\n",
       "      <td>0.110000</td>\n",
       "      <td>AL</td>\n",
       "      <td>1</td>\n",
       "      <td>Autauga County</td>\n",
       "      <td>1</td>\n",
       "      <td>East</td>\n",
       "      <td>Autauga</td>\n",
       "    </tr>\n",
       "    <tr>\n",
       "      <th>4</th>\n",
       "      <td>1001</td>\n",
       "      <td>PWD</td>\n",
       "      <td>total</td>\n",
       "      <td>total</td>\n",
       "      <td>total</td>\n",
       "      <td>total</td>\n",
       "      <td>COM</td>\n",
       "      <td>public</td>\n",
       "      <td>total</td>\n",
       "      <td>total</td>\n",
       "      <td>total</td>\n",
       "      <td>mgd</td>\n",
       "      <td>0.345176</td>\n",
       "      <td>AL</td>\n",
       "      <td>1</td>\n",
       "      <td>Autauga County</td>\n",
       "      <td>1</td>\n",
       "      <td>East</td>\n",
       "      <td>Autauga</td>\n",
       "    </tr>\n",
       "    <tr>\n",
       "      <th>...</th>\n",
       "      <td>...</td>\n",
       "      <td>...</td>\n",
       "      <td>...</td>\n",
       "      <td>...</td>\n",
       "      <td>...</td>\n",
       "      <td>...</td>\n",
       "      <td>...</td>\n",
       "      <td>...</td>\n",
       "      <td>...</td>\n",
       "      <td>...</td>\n",
       "      <td>...</td>\n",
       "      <td>...</td>\n",
       "      <td>...</td>\n",
       "      <td>...</td>\n",
       "      <td>...</td>\n",
       "      <td>...</td>\n",
       "      <td>...</td>\n",
       "      <td>...</td>\n",
       "      <td>...</td>\n",
       "    </tr>\n",
       "    <tr>\n",
       "      <th>370475</th>\n",
       "      <td>56045</td>\n",
       "      <td>WWD</td>\n",
       "      <td>secondary</td>\n",
       "      <td>municipal</td>\n",
       "      <td>total</td>\n",
       "      <td>total</td>\n",
       "      <td>SRD</td>\n",
       "      <td>total</td>\n",
       "      <td>total</td>\n",
       "      <td>total</td>\n",
       "      <td>total</td>\n",
       "      <td>mgd</td>\n",
       "      <td>0.125573</td>\n",
       "      <td>WY</td>\n",
       "      <td>56</td>\n",
       "      <td>Weston County</td>\n",
       "      <td>45</td>\n",
       "      <td>West</td>\n",
       "      <td>Weston</td>\n",
       "    </tr>\n",
       "    <tr>\n",
       "      <th>370476</th>\n",
       "      <td>56045</td>\n",
       "      <td>WWD</td>\n",
       "      <td>treatment</td>\n",
       "      <td>primary</td>\n",
       "      <td>total</td>\n",
       "      <td>total</td>\n",
       "      <td>ESV</td>\n",
       "      <td>total</td>\n",
       "      <td>total</td>\n",
       "      <td>total</td>\n",
       "      <td>total</td>\n",
       "      <td>bbtu</td>\n",
       "      <td>0.000852</td>\n",
       "      <td>WY</td>\n",
       "      <td>56</td>\n",
       "      <td>Weston County</td>\n",
       "      <td>45</td>\n",
       "      <td>West</td>\n",
       "      <td>Weston</td>\n",
       "    </tr>\n",
       "    <tr>\n",
       "      <th>370477</th>\n",
       "      <td>56045</td>\n",
       "      <td>WWD</td>\n",
       "      <td>treatment</td>\n",
       "      <td>primary</td>\n",
       "      <td>total</td>\n",
       "      <td>total</td>\n",
       "      <td>REJ</td>\n",
       "      <td>total</td>\n",
       "      <td>total</td>\n",
       "      <td>total</td>\n",
       "      <td>total</td>\n",
       "      <td>bbtu</td>\n",
       "      <td>0.000459</td>\n",
       "      <td>WY</td>\n",
       "      <td>56</td>\n",
       "      <td>Weston County</td>\n",
       "      <td>45</td>\n",
       "      <td>West</td>\n",
       "      <td>Weston</td>\n",
       "    </tr>\n",
       "    <tr>\n",
       "      <th>370478</th>\n",
       "      <td>56045</td>\n",
       "      <td>WWD</td>\n",
       "      <td>treatment</td>\n",
       "      <td>secondary</td>\n",
       "      <td>total</td>\n",
       "      <td>total</td>\n",
       "      <td>ESV</td>\n",
       "      <td>total</td>\n",
       "      <td>total</td>\n",
       "      <td>total</td>\n",
       "      <td>total</td>\n",
       "      <td>bbtu</td>\n",
       "      <td>0.001159</td>\n",
       "      <td>WY</td>\n",
       "      <td>56</td>\n",
       "      <td>Weston County</td>\n",
       "      <td>45</td>\n",
       "      <td>West</td>\n",
       "      <td>Weston</td>\n",
       "    </tr>\n",
       "    <tr>\n",
       "      <th>370479</th>\n",
       "      <td>56045</td>\n",
       "      <td>WWD</td>\n",
       "      <td>treatment</td>\n",
       "      <td>secondary</td>\n",
       "      <td>total</td>\n",
       "      <td>total</td>\n",
       "      <td>REJ</td>\n",
       "      <td>total</td>\n",
       "      <td>total</td>\n",
       "      <td>total</td>\n",
       "      <td>total</td>\n",
       "      <td>bbtu</td>\n",
       "      <td>0.000624</td>\n",
       "      <td>WY</td>\n",
       "      <td>56</td>\n",
       "      <td>Weston County</td>\n",
       "      <td>45</td>\n",
       "      <td>West</td>\n",
       "      <td>Weston</td>\n",
       "    </tr>\n",
       "  </tbody>\n",
       "</table>\n",
       "<p>370480 rows × 19 columns</p>\n",
       "</div>"
      ],
      "text/plain": [
       "        region   S1         S2            S3     S4     S5   T1      T2  \\\n",
       "0         1001  WSW      fresh   groundwater  total  total  ACI   fresh   \n",
       "1         1001  WSW      fresh  surfacewater  total  total  AGI   fresh   \n",
       "2         1001  WSW      fresh   groundwater  total  total  ALV   fresh   \n",
       "3         1001  WSW      fresh  surfacewater  total  total  ALV   fresh   \n",
       "4         1001  PWD      total         total  total  total  COM  public   \n",
       "...        ...  ...        ...           ...    ...    ...  ...     ...   \n",
       "370475   56045  WWD  secondary     municipal  total  total  SRD   total   \n",
       "370476   56045  WWD  treatment       primary  total  total  ESV   total   \n",
       "370477   56045  WWD  treatment       primary  total  total  REJ   total   \n",
       "370478   56045  WWD  treatment     secondary  total  total  ESV   total   \n",
       "370479   56045  WWD  treatment     secondary  total  total  REJ   total   \n",
       "\n",
       "                  T3          T4     T5 units     value STATE  STATEFIPS  \\\n",
       "0        groundwater  withdrawal  total   mgd  3.360000    AL          1   \n",
       "1       surfacewater  withdrawal  total   mgd  0.160000    AL          1   \n",
       "2        groundwater  withdrawal  total   mgd  0.080000    AL          1   \n",
       "3       surfacewater  withdrawal  total   mgd  0.110000    AL          1   \n",
       "4              total       total  total   mgd  0.345176    AL          1   \n",
       "...              ...         ...    ...   ...       ...   ...        ...   \n",
       "370475         total       total  total   mgd  0.125573    WY         56   \n",
       "370476         total       total  total  bbtu  0.000852    WY         56   \n",
       "370477         total       total  total  bbtu  0.000459    WY         56   \n",
       "370478         total       total  total  bbtu  0.001159    WY         56   \n",
       "370479         total       total  total  bbtu  0.000624    WY         56   \n",
       "\n",
       "           COUNTY_FULL  COUNTYFIPS Interconnect COUNTY_SHORT  \n",
       "0       Autauga County           1         East      Autauga  \n",
       "1       Autauga County           1         East      Autauga  \n",
       "2       Autauga County           1         East      Autauga  \n",
       "3       Autauga County           1         East      Autauga  \n",
       "4       Autauga County           1         East      Autauga  \n",
       "...                ...         ...          ...          ...  \n",
       "370475   Weston County          45         West       Weston  \n",
       "370476   Weston County          45         West       Weston  \n",
       "370477   Weston County          45         West       Weston  \n",
       "370478   Weston County          45         West       Weston  \n",
       "370479   Weston County          45         West       Weston  \n",
       "\n",
       "[370480 rows x 19 columns]"
      ]
     },
     "execution_count": 2,
     "metadata": {},
     "output_type": "execute_result"
    }
   ],
   "source": [
    "full = pd.read_csv(r\"C:\\Users\\mong275\\Local Files\\Repos\\full_run_output.csv\")\n",
    "maps = pd.read_csv(r'C:\\Users\\mong275\\Local Files\\Repos\\flow\\flow\\data\\county_interconnect_list.csv')\n",
    "maps = maps.rename(columns = {'FIPS':'region'})\n",
    "full = pd.merge(full, maps, how='left', on='region')\n",
    "full.reset_index()\n",
    "full = full.rename_axis(None, axis=1)                           #drop index name\n",
    "full.index.is_unique\n",
    "full"
   ]
  },
  {
   "cell_type": "code",
   "execution_count": 23,
   "id": "b6f6396d",
   "metadata": {},
   "outputs": [
    {
     "data": {
      "text/html": [
       "<div>\n",
       "<style scoped>\n",
       "    .dataframe tbody tr th:only-of-type {\n",
       "        vertical-align: middle;\n",
       "    }\n",
       "\n",
       "    .dataframe tbody tr th {\n",
       "        vertical-align: top;\n",
       "    }\n",
       "\n",
       "    .dataframe thead th {\n",
       "        text-align: right;\n",
       "    }\n",
       "</style>\n",
       "<table border=\"1\" class=\"dataframe\">\n",
       "  <thead>\n",
       "    <tr style=\"text-align: right;\">\n",
       "      <th></th>\n",
       "      <th>region</th>\n",
       "      <th>S1</th>\n",
       "      <th>S2</th>\n",
       "      <th>S3</th>\n",
       "      <th>S4</th>\n",
       "      <th>S5</th>\n",
       "      <th>T1</th>\n",
       "      <th>T2</th>\n",
       "      <th>T3</th>\n",
       "      <th>T4</th>\n",
       "      <th>T5</th>\n",
       "      <th>units</th>\n",
       "      <th>value</th>\n",
       "      <th>STATEFIPS</th>\n",
       "      <th>COUNTYFIPS</th>\n",
       "    </tr>\n",
       "  </thead>\n",
       "  <tbody>\n",
       "    <tr>\n",
       "      <th>0</th>\n",
       "      <td>ERCOT</td>\n",
       "      <td>AAQ</td>\n",
       "      <td>fresh</td>\n",
       "      <td>groundwater</td>\n",
       "      <td>withdrawal</td>\n",
       "      <td>total</td>\n",
       "      <td>CMP</td>\n",
       "      <td>total</td>\n",
       "      <td>total</td>\n",
       "      <td>total</td>\n",
       "      <td>total</td>\n",
       "      <td>mgd</td>\n",
       "      <td>11.266190</td>\n",
       "      <td>1008</td>\n",
       "      <td>5601</td>\n",
       "    </tr>\n",
       "    <tr>\n",
       "      <th>1</th>\n",
       "      <td>ERCOT</td>\n",
       "      <td>AAQ</td>\n",
       "      <td>fresh</td>\n",
       "      <td>groundwater</td>\n",
       "      <td>withdrawal</td>\n",
       "      <td>total</td>\n",
       "      <td>SRD</td>\n",
       "      <td>total</td>\n",
       "      <td>total</td>\n",
       "      <td>total</td>\n",
       "      <td>total</td>\n",
       "      <td>mgd</td>\n",
       "      <td>0.013810</td>\n",
       "      <td>96</td>\n",
       "      <td>526</td>\n",
       "    </tr>\n",
       "    <tr>\n",
       "      <th>2</th>\n",
       "      <td>ERCOT</td>\n",
       "      <td>AAQ</td>\n",
       "      <td>fresh</td>\n",
       "      <td>surfacewater</td>\n",
       "      <td>withdrawal</td>\n",
       "      <td>total</td>\n",
       "      <td>CMP</td>\n",
       "      <td>total</td>\n",
       "      <td>total</td>\n",
       "      <td>total</td>\n",
       "      <td>total</td>\n",
       "      <td>mgd</td>\n",
       "      <td>8.929000</td>\n",
       "      <td>1104</td>\n",
       "      <td>5817</td>\n",
       "    </tr>\n",
       "    <tr>\n",
       "      <th>3</th>\n",
       "      <td>ERCOT</td>\n",
       "      <td>AAQ</td>\n",
       "      <td>fresh</td>\n",
       "      <td>surfacewater</td>\n",
       "      <td>withdrawal</td>\n",
       "      <td>total</td>\n",
       "      <td>SRD</td>\n",
       "      <td>total</td>\n",
       "      <td>total</td>\n",
       "      <td>total</td>\n",
       "      <td>total</td>\n",
       "      <td>mgd</td>\n",
       "      <td>0.271000</td>\n",
       "      <td>96</td>\n",
       "      <td>124</td>\n",
       "    </tr>\n",
       "    <tr>\n",
       "      <th>4</th>\n",
       "      <td>ERCOT</td>\n",
       "      <td>AAQ</td>\n",
       "      <td>pumping</td>\n",
       "      <td>fresh</td>\n",
       "      <td>groundwater</td>\n",
       "      <td>total</td>\n",
       "      <td>ESV</td>\n",
       "      <td>total</td>\n",
       "      <td>total</td>\n",
       "      <td>total</td>\n",
       "      <td>total</td>\n",
       "      <td>bbtu</td>\n",
       "      <td>0.040824</td>\n",
       "      <td>1008</td>\n",
       "      <td>5601</td>\n",
       "    </tr>\n",
       "    <tr>\n",
       "      <th>...</th>\n",
       "      <td>...</td>\n",
       "      <td>...</td>\n",
       "      <td>...</td>\n",
       "      <td>...</td>\n",
       "      <td>...</td>\n",
       "      <td>...</td>\n",
       "      <td>...</td>\n",
       "      <td>...</td>\n",
       "      <td>...</td>\n",
       "      <td>...</td>\n",
       "      <td>...</td>\n",
       "      <td>...</td>\n",
       "      <td>...</td>\n",
       "      <td>...</td>\n",
       "      <td>...</td>\n",
       "    </tr>\n",
       "    <tr>\n",
       "      <th>1961</th>\n",
       "      <td>West</td>\n",
       "      <td>WWS</td>\n",
       "      <td>total</td>\n",
       "      <td>total</td>\n",
       "      <td>total</td>\n",
       "      <td>total</td>\n",
       "      <td>WWD</td>\n",
       "      <td>advanced</td>\n",
       "      <td>municipal</td>\n",
       "      <td>total</td>\n",
       "      <td>total</td>\n",
       "      <td>mgd</td>\n",
       "      <td>236.739331</td>\n",
       "      <td>3343</td>\n",
       "      <td>7136</td>\n",
       "    </tr>\n",
       "    <tr>\n",
       "      <th>1962</th>\n",
       "      <td>West</td>\n",
       "      <td>WWS</td>\n",
       "      <td>total</td>\n",
       "      <td>total</td>\n",
       "      <td>total</td>\n",
       "      <td>total</td>\n",
       "      <td>WWD</td>\n",
       "      <td>primary</td>\n",
       "      <td>infiltration</td>\n",
       "      <td>total</td>\n",
       "      <td>total</td>\n",
       "      <td>mgd</td>\n",
       "      <td>16.456903</td>\n",
       "      <td>1171</td>\n",
       "      <td>2434</td>\n",
       "    </tr>\n",
       "    <tr>\n",
       "      <th>1963</th>\n",
       "      <td>West</td>\n",
       "      <td>WWS</td>\n",
       "      <td>total</td>\n",
       "      <td>total</td>\n",
       "      <td>total</td>\n",
       "      <td>total</td>\n",
       "      <td>WWD</td>\n",
       "      <td>primary</td>\n",
       "      <td>municipal</td>\n",
       "      <td>total</td>\n",
       "      <td>total</td>\n",
       "      <td>mgd</td>\n",
       "      <td>578.183911</td>\n",
       "      <td>10424</td>\n",
       "      <td>17373</td>\n",
       "    </tr>\n",
       "    <tr>\n",
       "      <th>1964</th>\n",
       "      <td>West</td>\n",
       "      <td>WWS</td>\n",
       "      <td>total</td>\n",
       "      <td>total</td>\n",
       "      <td>total</td>\n",
       "      <td>total</td>\n",
       "      <td>WWD</td>\n",
       "      <td>secondary</td>\n",
       "      <td>infiltration</td>\n",
       "      <td>total</td>\n",
       "      <td>total</td>\n",
       "      <td>mgd</td>\n",
       "      <td>16.456903</td>\n",
       "      <td>1171</td>\n",
       "      <td>2434</td>\n",
       "    </tr>\n",
       "    <tr>\n",
       "      <th>1965</th>\n",
       "      <td>West</td>\n",
       "      <td>WWS</td>\n",
       "      <td>total</td>\n",
       "      <td>total</td>\n",
       "      <td>total</td>\n",
       "      <td>total</td>\n",
       "      <td>WWD</td>\n",
       "      <td>secondary</td>\n",
       "      <td>municipal</td>\n",
       "      <td>total</td>\n",
       "      <td>total</td>\n",
       "      <td>mgd</td>\n",
       "      <td>578.183911</td>\n",
       "      <td>10424</td>\n",
       "      <td>17373</td>\n",
       "    </tr>\n",
       "  </tbody>\n",
       "</table>\n",
       "<p>1966 rows × 15 columns</p>\n",
       "</div>"
      ],
      "text/plain": [
       "     region   S1       S2            S3           S4     S5   T1         T2  \\\n",
       "0     ERCOT  AAQ    fresh   groundwater   withdrawal  total  CMP      total   \n",
       "1     ERCOT  AAQ    fresh   groundwater   withdrawal  total  SRD      total   \n",
       "2     ERCOT  AAQ    fresh  surfacewater   withdrawal  total  CMP      total   \n",
       "3     ERCOT  AAQ    fresh  surfacewater   withdrawal  total  SRD      total   \n",
       "4     ERCOT  AAQ  pumping         fresh  groundwater  total  ESV      total   \n",
       "...     ...  ...      ...           ...          ...    ...  ...        ...   \n",
       "1961   West  WWS    total         total        total  total  WWD   advanced   \n",
       "1962   West  WWS    total         total        total  total  WWD    primary   \n",
       "1963   West  WWS    total         total        total  total  WWD    primary   \n",
       "1964   West  WWS    total         total        total  total  WWD  secondary   \n",
       "1965   West  WWS    total         total        total  total  WWD  secondary   \n",
       "\n",
       "                T3     T4     T5 units       value  STATEFIPS  COUNTYFIPS  \n",
       "0            total  total  total   mgd   11.266190       1008        5601  \n",
       "1            total  total  total   mgd    0.013810         96         526  \n",
       "2            total  total  total   mgd    8.929000       1104        5817  \n",
       "3            total  total  total   mgd    0.271000         96         124  \n",
       "4            total  total  total  bbtu    0.040824       1008        5601  \n",
       "...            ...    ...    ...   ...         ...        ...         ...  \n",
       "1961     municipal  total  total   mgd  236.739331       3343        7136  \n",
       "1962  infiltration  total  total   mgd   16.456903       1171        2434  \n",
       "1963     municipal  total  total   mgd  578.183911      10424       17373  \n",
       "1964  infiltration  total  total   mgd   16.456903       1171        2434  \n",
       "1965     municipal  total  total   mgd  578.183911      10424       17373  \n",
       "\n",
       "[1966 rows x 15 columns]"
      ]
     },
     "execution_count": 23,
     "metadata": {},
     "output_type": "execute_result"
    }
   ],
   "source": [
    "group_list = ['Interconnect','S1','S2','S3','S4','S5','T1','T2','T3','T4','T5','units']\n",
    "interconnect = full.drop(['region'], axis=1)\n",
    "interconnect = interconnect.groupby(group_list, as_index=False).sum()\n",
    "interconnect = interconnect.rename(columns={'Interconnect':'region'})\n",
    "#state.reset_index()\n",
    "#state.index.is_unique\n",
    "interconnect"
   ]
  },
  {
   "cell_type": "code",
   "execution_count": 21,
   "id": "2f8bcc67",
   "metadata": {},
   "outputs": [
    {
     "data": {
      "text/html": [
       "<div>\n",
       "<style scoped>\n",
       "    .dataframe tbody tr th:only-of-type {\n",
       "        vertical-align: middle;\n",
       "    }\n",
       "\n",
       "    .dataframe tbody tr th {\n",
       "        vertical-align: top;\n",
       "    }\n",
       "\n",
       "    .dataframe thead th {\n",
       "        text-align: right;\n",
       "    }\n",
       "</style>\n",
       "<table border=\"1\" class=\"dataframe\">\n",
       "  <thead>\n",
       "    <tr style=\"text-align: right;\">\n",
       "      <th></th>\n",
       "      <th>region</th>\n",
       "      <th>S1</th>\n",
       "      <th>S2</th>\n",
       "      <th>S3</th>\n",
       "      <th>S4</th>\n",
       "      <th>S5</th>\n",
       "      <th>T1</th>\n",
       "      <th>T2</th>\n",
       "      <th>T3</th>\n",
       "      <th>T4</th>\n",
       "      <th>T5</th>\n",
       "      <th>units</th>\n",
       "      <th>value</th>\n",
       "      <th>STATEFIPS</th>\n",
       "      <th>COUNTYFIPS</th>\n",
       "    </tr>\n",
       "  </thead>\n",
       "  <tbody>\n",
       "    <tr>\n",
       "      <th>0</th>\n",
       "      <td>AK</td>\n",
       "      <td>AAQ</td>\n",
       "      <td>fresh</td>\n",
       "      <td>groundwater</td>\n",
       "      <td>withdrawal</td>\n",
       "      <td>total</td>\n",
       "      <td>CMP</td>\n",
       "      <td>total</td>\n",
       "      <td>total</td>\n",
       "      <td>total</td>\n",
       "      <td>total</td>\n",
       "      <td>mgd</td>\n",
       "      <td>43.018276</td>\n",
       "      <td>12</td>\n",
       "      <td>731</td>\n",
       "    </tr>\n",
       "    <tr>\n",
       "      <th>1</th>\n",
       "      <td>AK</td>\n",
       "      <td>AAQ</td>\n",
       "      <td>fresh</td>\n",
       "      <td>groundwater</td>\n",
       "      <td>withdrawal</td>\n",
       "      <td>total</td>\n",
       "      <td>SRD</td>\n",
       "      <td>total</td>\n",
       "      <td>total</td>\n",
       "      <td>total</td>\n",
       "      <td>total</td>\n",
       "      <td>mgd</td>\n",
       "      <td>126.231724</td>\n",
       "      <td>8</td>\n",
       "      <td>621</td>\n",
       "    </tr>\n",
       "    <tr>\n",
       "      <th>2</th>\n",
       "      <td>AK</td>\n",
       "      <td>AAQ</td>\n",
       "      <td>fresh</td>\n",
       "      <td>surfacewater</td>\n",
       "      <td>withdrawal</td>\n",
       "      <td>total</td>\n",
       "      <td>CMP</td>\n",
       "      <td>total</td>\n",
       "      <td>total</td>\n",
       "      <td>total</td>\n",
       "      <td>total</td>\n",
       "      <td>mgd</td>\n",
       "      <td>99.625517</td>\n",
       "      <td>18</td>\n",
       "      <td>1203</td>\n",
       "    </tr>\n",
       "    <tr>\n",
       "      <th>3</th>\n",
       "      <td>AK</td>\n",
       "      <td>AAQ</td>\n",
       "      <td>fresh</td>\n",
       "      <td>surfacewater</td>\n",
       "      <td>withdrawal</td>\n",
       "      <td>total</td>\n",
       "      <td>SRD</td>\n",
       "      <td>total</td>\n",
       "      <td>total</td>\n",
       "      <td>total</td>\n",
       "      <td>total</td>\n",
       "      <td>mgd</td>\n",
       "      <td>140.714483</td>\n",
       "      <td>12</td>\n",
       "      <td>971</td>\n",
       "    </tr>\n",
       "    <tr>\n",
       "      <th>4</th>\n",
       "      <td>AK</td>\n",
       "      <td>AAQ</td>\n",
       "      <td>pumping</td>\n",
       "      <td>fresh</td>\n",
       "      <td>groundwater</td>\n",
       "      <td>total</td>\n",
       "      <td>ESV</td>\n",
       "      <td>total</td>\n",
       "      <td>total</td>\n",
       "      <td>total</td>\n",
       "      <td>total</td>\n",
       "      <td>bbtu</td>\n",
       "      <td>0.337183</td>\n",
       "      <td>12</td>\n",
       "      <td>731</td>\n",
       "    </tr>\n",
       "    <tr>\n",
       "      <th>...</th>\n",
       "      <td>...</td>\n",
       "      <td>...</td>\n",
       "      <td>...</td>\n",
       "      <td>...</td>\n",
       "      <td>...</td>\n",
       "      <td>...</td>\n",
       "      <td>...</td>\n",
       "      <td>...</td>\n",
       "      <td>...</td>\n",
       "      <td>...</td>\n",
       "      <td>...</td>\n",
       "      <td>...</td>\n",
       "      <td>...</td>\n",
       "      <td>...</td>\n",
       "      <td>...</td>\n",
       "    </tr>\n",
       "    <tr>\n",
       "      <th>15336</th>\n",
       "      <td>WY</td>\n",
       "      <td>WWS</td>\n",
       "      <td>total</td>\n",
       "      <td>total</td>\n",
       "      <td>total</td>\n",
       "      <td>total</td>\n",
       "      <td>WWD</td>\n",
       "      <td>advanced</td>\n",
       "      <td>municipal</td>\n",
       "      <td>total</td>\n",
       "      <td>total</td>\n",
       "      <td>mgd</td>\n",
       "      <td>2.163736</td>\n",
       "      <td>336</td>\n",
       "      <td>124</td>\n",
       "    </tr>\n",
       "    <tr>\n",
       "      <th>15337</th>\n",
       "      <td>WY</td>\n",
       "      <td>WWS</td>\n",
       "      <td>total</td>\n",
       "      <td>total</td>\n",
       "      <td>total</td>\n",
       "      <td>total</td>\n",
       "      <td>WWD</td>\n",
       "      <td>primary</td>\n",
       "      <td>infiltration</td>\n",
       "      <td>total</td>\n",
       "      <td>total</td>\n",
       "      <td>mgd</td>\n",
       "      <td>0.198878</td>\n",
       "      <td>224</td>\n",
       "      <td>110</td>\n",
       "    </tr>\n",
       "    <tr>\n",
       "      <th>15338</th>\n",
       "      <td>WY</td>\n",
       "      <td>WWS</td>\n",
       "      <td>total</td>\n",
       "      <td>total</td>\n",
       "      <td>total</td>\n",
       "      <td>total</td>\n",
       "      <td>WWD</td>\n",
       "      <td>primary</td>\n",
       "      <td>municipal</td>\n",
       "      <td>total</td>\n",
       "      <td>total</td>\n",
       "      <td>mgd</td>\n",
       "      <td>11.694705</td>\n",
       "      <td>1288</td>\n",
       "      <td>529</td>\n",
       "    </tr>\n",
       "    <tr>\n",
       "      <th>15339</th>\n",
       "      <td>WY</td>\n",
       "      <td>WWS</td>\n",
       "      <td>total</td>\n",
       "      <td>total</td>\n",
       "      <td>total</td>\n",
       "      <td>total</td>\n",
       "      <td>WWD</td>\n",
       "      <td>secondary</td>\n",
       "      <td>infiltration</td>\n",
       "      <td>total</td>\n",
       "      <td>total</td>\n",
       "      <td>mgd</td>\n",
       "      <td>0.198878</td>\n",
       "      <td>224</td>\n",
       "      <td>110</td>\n",
       "    </tr>\n",
       "    <tr>\n",
       "      <th>15340</th>\n",
       "      <td>WY</td>\n",
       "      <td>WWS</td>\n",
       "      <td>total</td>\n",
       "      <td>total</td>\n",
       "      <td>total</td>\n",
       "      <td>total</td>\n",
       "      <td>WWD</td>\n",
       "      <td>secondary</td>\n",
       "      <td>municipal</td>\n",
       "      <td>total</td>\n",
       "      <td>total</td>\n",
       "      <td>mgd</td>\n",
       "      <td>11.694705</td>\n",
       "      <td>1288</td>\n",
       "      <td>529</td>\n",
       "    </tr>\n",
       "  </tbody>\n",
       "</table>\n",
       "<p>15341 rows × 15 columns</p>\n",
       "</div>"
      ],
      "text/plain": [
       "      region   S1       S2            S3           S4     S5   T1         T2  \\\n",
       "0         AK  AAQ    fresh   groundwater   withdrawal  total  CMP      total   \n",
       "1         AK  AAQ    fresh   groundwater   withdrawal  total  SRD      total   \n",
       "2         AK  AAQ    fresh  surfacewater   withdrawal  total  CMP      total   \n",
       "3         AK  AAQ    fresh  surfacewater   withdrawal  total  SRD      total   \n",
       "4         AK  AAQ  pumping         fresh  groundwater  total  ESV      total   \n",
       "...      ...  ...      ...           ...          ...    ...  ...        ...   \n",
       "15336     WY  WWS    total         total        total  total  WWD   advanced   \n",
       "15337     WY  WWS    total         total        total  total  WWD    primary   \n",
       "15338     WY  WWS    total         total        total  total  WWD    primary   \n",
       "15339     WY  WWS    total         total        total  total  WWD  secondary   \n",
       "15340     WY  WWS    total         total        total  total  WWD  secondary   \n",
       "\n",
       "                 T3     T4     T5 units       value  STATEFIPS  COUNTYFIPS  \n",
       "0             total  total  total   mgd   43.018276         12         731  \n",
       "1             total  total  total   mgd  126.231724          8         621  \n",
       "2             total  total  total   mgd   99.625517         18        1203  \n",
       "3             total  total  total   mgd  140.714483         12         971  \n",
       "4             total  total  total  bbtu    0.337183         12         731  \n",
       "...             ...    ...    ...   ...         ...        ...         ...  \n",
       "15336     municipal  total  total   mgd    2.163736        336         124  \n",
       "15337  infiltration  total  total   mgd    0.198878        224         110  \n",
       "15338     municipal  total  total   mgd   11.694705       1288         529  \n",
       "15339  infiltration  total  total   mgd    0.198878        224         110  \n",
       "15340     municipal  total  total   mgd   11.694705       1288         529  \n",
       "\n",
       "[15341 rows x 15 columns]"
      ]
     },
     "execution_count": 21,
     "metadata": {},
     "output_type": "execute_result"
    }
   ],
   "source": [
    "group_list = ['STATE','S1','S2','S3','S4','S5','T1','T2','T3','T4','T5','units']\n",
    "state = full.drop(['region'], axis=1)\n",
    "state = state.groupby(group_list, as_index=False).sum()\n",
    "state = state.rename(columns={'STATE':'region'})\n",
    "#state.reset_index()\n",
    "#state.index.is_unique\n",
    "state"
   ]
  },
  {
   "cell_type": "code",
   "execution_count": 22,
   "id": "7279fec7",
   "metadata": {},
   "outputs": [],
   "source": [
    "state.to_csv(r\"C:\\Users\\mong275\\Local Files\\Repos\\state_full_run_output.csv\", index=False)"
   ]
  },
  {
   "cell_type": "code",
   "execution_count": 14,
   "id": "c3674b37",
   "metadata": {},
   "outputs": [
    {
     "data": {
      "text/html": [
       "<div>\n",
       "<style scoped>\n",
       "    .dataframe tbody tr th:only-of-type {\n",
       "        vertical-align: middle;\n",
       "    }\n",
       "\n",
       "    .dataframe tbody tr th {\n",
       "        vertical-align: top;\n",
       "    }\n",
       "\n",
       "    .dataframe thead th {\n",
       "        text-align: right;\n",
       "    }\n",
       "</style>\n",
       "<table border=\"1\" class=\"dataframe\">\n",
       "  <thead>\n",
       "    <tr style=\"text-align: right;\">\n",
       "      <th></th>\n",
       "      <th>region</th>\n",
       "      <th>S1</th>\n",
       "      <th>S2</th>\n",
       "      <th>S3</th>\n",
       "      <th>S4</th>\n",
       "      <th>S5</th>\n",
       "      <th>T1</th>\n",
       "      <th>T2</th>\n",
       "      <th>T3</th>\n",
       "      <th>T4</th>\n",
       "      <th>T5</th>\n",
       "      <th>units</th>\n",
       "      <th>value</th>\n",
       "      <th>STATEFIPS</th>\n",
       "      <th>COUNTYFIPS</th>\n",
       "    </tr>\n",
       "  </thead>\n",
       "  <tbody>\n",
       "    <tr>\n",
       "      <th>0</th>\n",
       "      <td>AK</td>\n",
       "      <td>AAQ</td>\n",
       "      <td>fresh</td>\n",
       "      <td>groundwater</td>\n",
       "      <td>withdrawal</td>\n",
       "      <td>total</td>\n",
       "      <td>CMP</td>\n",
       "      <td>total</td>\n",
       "      <td>total</td>\n",
       "      <td>total</td>\n",
       "      <td>total</td>\n",
       "      <td>mgd</td>\n",
       "      <td>43.018276</td>\n",
       "      <td>12</td>\n",
       "      <td>731</td>\n",
       "    </tr>\n",
       "    <tr>\n",
       "      <th>1</th>\n",
       "      <td>AK</td>\n",
       "      <td>AAQ</td>\n",
       "      <td>fresh</td>\n",
       "      <td>groundwater</td>\n",
       "      <td>withdrawal</td>\n",
       "      <td>total</td>\n",
       "      <td>SRD</td>\n",
       "      <td>total</td>\n",
       "      <td>total</td>\n",
       "      <td>total</td>\n",
       "      <td>total</td>\n",
       "      <td>mgd</td>\n",
       "      <td>126.231724</td>\n",
       "      <td>8</td>\n",
       "      <td>621</td>\n",
       "    </tr>\n",
       "    <tr>\n",
       "      <th>2</th>\n",
       "      <td>AK</td>\n",
       "      <td>AAQ</td>\n",
       "      <td>fresh</td>\n",
       "      <td>surfacewater</td>\n",
       "      <td>withdrawal</td>\n",
       "      <td>total</td>\n",
       "      <td>CMP</td>\n",
       "      <td>total</td>\n",
       "      <td>total</td>\n",
       "      <td>total</td>\n",
       "      <td>total</td>\n",
       "      <td>mgd</td>\n",
       "      <td>99.625517</td>\n",
       "      <td>18</td>\n",
       "      <td>1203</td>\n",
       "    </tr>\n",
       "    <tr>\n",
       "      <th>3</th>\n",
       "      <td>AK</td>\n",
       "      <td>AAQ</td>\n",
       "      <td>fresh</td>\n",
       "      <td>surfacewater</td>\n",
       "      <td>withdrawal</td>\n",
       "      <td>total</td>\n",
       "      <td>SRD</td>\n",
       "      <td>total</td>\n",
       "      <td>total</td>\n",
       "      <td>total</td>\n",
       "      <td>total</td>\n",
       "      <td>mgd</td>\n",
       "      <td>140.714483</td>\n",
       "      <td>12</td>\n",
       "      <td>971</td>\n",
       "    </tr>\n",
       "    <tr>\n",
       "      <th>4</th>\n",
       "      <td>AK</td>\n",
       "      <td>AAQ</td>\n",
       "      <td>pumping</td>\n",
       "      <td>fresh</td>\n",
       "      <td>groundwater</td>\n",
       "      <td>total</td>\n",
       "      <td>ESV</td>\n",
       "      <td>total</td>\n",
       "      <td>total</td>\n",
       "      <td>total</td>\n",
       "      <td>total</td>\n",
       "      <td>bbtu</td>\n",
       "      <td>0.337183</td>\n",
       "      <td>12</td>\n",
       "      <td>731</td>\n",
       "    </tr>\n",
       "    <tr>\n",
       "      <th>...</th>\n",
       "      <td>...</td>\n",
       "      <td>...</td>\n",
       "      <td>...</td>\n",
       "      <td>...</td>\n",
       "      <td>...</td>\n",
       "      <td>...</td>\n",
       "      <td>...</td>\n",
       "      <td>...</td>\n",
       "      <td>...</td>\n",
       "      <td>...</td>\n",
       "      <td>...</td>\n",
       "      <td>...</td>\n",
       "      <td>...</td>\n",
       "      <td>...</td>\n",
       "      <td>...</td>\n",
       "    </tr>\n",
       "    <tr>\n",
       "      <th>15336</th>\n",
       "      <td>WY</td>\n",
       "      <td>WWS</td>\n",
       "      <td>total</td>\n",
       "      <td>total</td>\n",
       "      <td>total</td>\n",
       "      <td>total</td>\n",
       "      <td>WWD</td>\n",
       "      <td>advanced</td>\n",
       "      <td>municipal</td>\n",
       "      <td>total</td>\n",
       "      <td>total</td>\n",
       "      <td>mgd</td>\n",
       "      <td>2.163736</td>\n",
       "      <td>336</td>\n",
       "      <td>124</td>\n",
       "    </tr>\n",
       "    <tr>\n",
       "      <th>15337</th>\n",
       "      <td>WY</td>\n",
       "      <td>WWS</td>\n",
       "      <td>total</td>\n",
       "      <td>total</td>\n",
       "      <td>total</td>\n",
       "      <td>total</td>\n",
       "      <td>WWD</td>\n",
       "      <td>primary</td>\n",
       "      <td>infiltration</td>\n",
       "      <td>total</td>\n",
       "      <td>total</td>\n",
       "      <td>mgd</td>\n",
       "      <td>0.198878</td>\n",
       "      <td>224</td>\n",
       "      <td>110</td>\n",
       "    </tr>\n",
       "    <tr>\n",
       "      <th>15338</th>\n",
       "      <td>WY</td>\n",
       "      <td>WWS</td>\n",
       "      <td>total</td>\n",
       "      <td>total</td>\n",
       "      <td>total</td>\n",
       "      <td>total</td>\n",
       "      <td>WWD</td>\n",
       "      <td>primary</td>\n",
       "      <td>municipal</td>\n",
       "      <td>total</td>\n",
       "      <td>total</td>\n",
       "      <td>mgd</td>\n",
       "      <td>11.694705</td>\n",
       "      <td>1288</td>\n",
       "      <td>529</td>\n",
       "    </tr>\n",
       "    <tr>\n",
       "      <th>15339</th>\n",
       "      <td>WY</td>\n",
       "      <td>WWS</td>\n",
       "      <td>total</td>\n",
       "      <td>total</td>\n",
       "      <td>total</td>\n",
       "      <td>total</td>\n",
       "      <td>WWD</td>\n",
       "      <td>secondary</td>\n",
       "      <td>infiltration</td>\n",
       "      <td>total</td>\n",
       "      <td>total</td>\n",
       "      <td>mgd</td>\n",
       "      <td>0.198878</td>\n",
       "      <td>224</td>\n",
       "      <td>110</td>\n",
       "    </tr>\n",
       "    <tr>\n",
       "      <th>15340</th>\n",
       "      <td>WY</td>\n",
       "      <td>WWS</td>\n",
       "      <td>total</td>\n",
       "      <td>total</td>\n",
       "      <td>total</td>\n",
       "      <td>total</td>\n",
       "      <td>WWD</td>\n",
       "      <td>secondary</td>\n",
       "      <td>municipal</td>\n",
       "      <td>total</td>\n",
       "      <td>total</td>\n",
       "      <td>mgd</td>\n",
       "      <td>11.694705</td>\n",
       "      <td>1288</td>\n",
       "      <td>529</td>\n",
       "    </tr>\n",
       "  </tbody>\n",
       "</table>\n",
       "<p>8830 rows × 15 columns</p>\n",
       "</div>"
      ],
      "text/plain": [
       "      region   S1       S2            S3           S4     S5   T1         T2  \\\n",
       "0         AK  AAQ    fresh   groundwater   withdrawal  total  CMP      total   \n",
       "1         AK  AAQ    fresh   groundwater   withdrawal  total  SRD      total   \n",
       "2         AK  AAQ    fresh  surfacewater   withdrawal  total  CMP      total   \n",
       "3         AK  AAQ    fresh  surfacewater   withdrawal  total  SRD      total   \n",
       "4         AK  AAQ  pumping         fresh  groundwater  total  ESV      total   \n",
       "...      ...  ...      ...           ...          ...    ...  ...        ...   \n",
       "15336     WY  WWS    total         total        total  total  WWD   advanced   \n",
       "15337     WY  WWS    total         total        total  total  WWD    primary   \n",
       "15338     WY  WWS    total         total        total  total  WWD    primary   \n",
       "15339     WY  WWS    total         total        total  total  WWD  secondary   \n",
       "15340     WY  WWS    total         total        total  total  WWD  secondary   \n",
       "\n",
       "                 T3     T4     T5 units       value  STATEFIPS  COUNTYFIPS  \n",
       "0             total  total  total   mgd   43.018276         12         731  \n",
       "1             total  total  total   mgd  126.231724          8         621  \n",
       "2             total  total  total   mgd   99.625517         18        1203  \n",
       "3             total  total  total   mgd  140.714483         12         971  \n",
       "4             total  total  total  bbtu    0.337183         12         731  \n",
       "...             ...    ...    ...   ...         ...        ...         ...  \n",
       "15336     municipal  total  total   mgd    2.163736        336         124  \n",
       "15337  infiltration  total  total   mgd    0.198878        224         110  \n",
       "15338     municipal  total  total   mgd   11.694705       1288         529  \n",
       "15339  infiltration  total  total   mgd    0.198878        224         110  \n",
       "15340     municipal  total  total   mgd   11.694705       1288         529  \n",
       "\n",
       "[8830 rows x 15 columns]"
      ]
     },
     "execution_count": 14,
     "metadata": {},
     "output_type": "execute_result"
    }
   ],
   "source": [
    "#state = state[state.value < state.value.quantile(.99)]\n",
    "subset = ['EGS']\n",
    "state = state[~state['S1'].isin(subset)]\n",
    "state = state[~state['T1'].isin(subset)]\n",
    "\n",
    "state"
   ]
  },
  {
   "cell_type": "code",
   "execution_count": 28,
   "id": "c807b984",
   "metadata": {},
   "outputs": [
    {
     "name": "stdout",
     "output_type": "stream",
     "text": [
      "WSW = Water Supply Withdrawals\n",
      "WSI = Water Supply Imports\n"
     ]
    },
    {
     "data": {
      "application/vnd.plotly.v1+json": {
       "config": {
        "plotlyServerURL": "https://plot.ly"
       },
       "data": [
        {
         "link": {
          "color": "rgba(102, 195, 216, 0.7)",
          "source": [
           0,
           0,
           1,
           1,
           2,
           2,
           2,
           3,
           3,
           3,
           4,
           4,
           4,
           5,
           5,
           5,
           6,
           6,
           6,
           7,
           7,
           7,
           8,
           8,
           9,
           9,
           10,
           10,
           11,
           11,
           12,
           12,
           12,
           12,
           13,
           13,
           13,
           13,
           13,
           13,
           13,
           14,
           14,
           14,
           14,
           14,
           14,
           15,
           15,
           15,
           15,
           15,
           16,
           16,
           16,
           16,
           16,
           16,
           16,
           16,
           17,
           17,
           17,
           18,
           18,
           19,
           19,
           19,
           19,
           19,
           20,
           20,
           21,
           21,
           22,
           22,
           22,
           22,
           22,
           23,
           24,
           24,
           25,
           25,
           26,
           26,
           27,
           27,
           28,
           28,
           29,
           29,
           30,
           30,
           31,
           31,
           31,
           31,
           31,
           31,
           32,
           32,
           32,
           32,
           32,
           32,
           32,
           32,
           33,
           33,
           33,
           33,
           33,
           33,
           34,
           34,
           35,
           35,
           35,
           36,
           37,
           37,
           38,
           38,
           39,
           39,
           40,
           40,
           41,
           41,
           42,
           42,
           43,
           43,
           44,
           44,
           45,
           45,
           45,
           45,
           45,
           45,
           45,
           45,
           45,
           45,
           45,
           45,
           45,
           45,
           45,
           45,
           45,
           45,
           45,
           45,
           45,
           45,
           45,
           45,
           45,
           45,
           45,
           45,
           46,
           46,
           46,
           46,
           46,
           46,
           46,
           46,
           46,
           46,
           46,
           46,
           46,
           46,
           46,
           46,
           46,
           46,
           46,
           46,
           46,
           46,
           46,
           46,
           46,
           46,
           46,
           46,
           46,
           46,
           46,
           46,
           46,
           46,
           46,
           46,
           46,
           47,
           47,
           47,
           47,
           47,
           47,
           47,
           47,
           47,
           48,
           48,
           48,
           48,
           48,
           49,
           49,
           49,
           49,
           49,
           49,
           49,
           49,
           49,
           49,
           50,
           50,
           50,
           50,
           51,
           51,
           51,
           51,
           51,
           51,
           52,
           52,
           52,
           52,
           53,
           53,
           53,
           53,
           53,
           53,
           54,
           54,
           54,
           54,
           55,
           55,
           55,
           55,
           55,
           55,
           56,
           56,
           56,
           56,
           56,
           56
          ],
          "target": [
           57,
           58,
           57,
           58,
           57,
           59,
           58,
           57,
           59,
           58,
           57,
           59,
           58,
           57,
           59,
           58,
           57,
           59,
           58,
           57,
           59,
           58,
           57,
           58,
           57,
           58,
           57,
           56,
           57,
           58,
           57,
           58,
           57,
           58,
           57,
           58,
           57,
           58,
           57,
           57,
           58,
           57,
           58,
           60,
           58,
           57,
           58,
           57,
           60,
           57,
           57,
           58,
           57,
           58,
           57,
           60,
           58,
           57,
           57,
           58,
           60,
           57,
           58,
           57,
           58,
           57,
           58,
           60,
           57,
           58,
           57,
           58,
           57,
           58,
           57,
           58,
           57,
           57,
           58,
           58,
           57,
           58,
           57,
           58,
           57,
           56,
           57,
           58,
           57,
           58,
           57,
           58,
           57,
           58,
           57,
           61,
           58,
           57,
           61,
           58,
           57,
           58,
           57,
           58,
           57,
           58,
           57,
           58,
           57,
           61,
           58,
           57,
           61,
           58,
           31,
           33,
           10,
           26,
           42,
           35,
           35,
           62,
           35,
           62,
           35,
           62,
           57,
           58,
           57,
           58,
           57,
           56,
           3,
           38,
           4,
           7,
           0,
           2,
           5,
           8,
           12,
           12,
           13,
           13,
           14,
           14,
           15,
           15,
           16,
           16,
           16,
           19,
           21,
           22,
           22,
           24,
           29,
           30,
           31,
           32,
           63,
           33,
           37,
           40,
           1,
           3,
           6,
           9,
           11,
           12,
           12,
           13,
           13,
           13,
           13,
           14,
           14,
           15,
           15,
           16,
           16,
           16,
           16,
           17,
           18,
           19,
           19,
           20,
           22,
           22,
           22,
           25,
           29,
           30,
           31,
           32,
           63,
           33,
           38,
           41,
           23,
           12,
           13,
           13,
           14,
           15,
           15,
           16,
           17,
           22,
           27,
           29,
           30,
           32,
           39,
           14,
           15,
           16,
           16,
           17,
           19,
           28,
           29,
           30,
           32,
           57,
           64,
           65,
           58,
           57,
           64,
           66,
           65,
           60,
           58,
           57,
           64,
           65,
           58,
           57,
           64,
           66,
           65,
           60,
           58,
           57,
           64,
           65,
           58,
           57,
           64,
           66,
           65,
           60,
           58,
           50,
           51,
           52,
           53,
           54,
           55
          ],
          "value": [
           326.8459161227992,
           212.20408387720076,
           1329.9277097236147,
           2200.882290276385,
           16102.52853689948,
           3974.0499053370195,
           6246.0115577635,
           18274.95365573168,
           16614.494069352804,
           17344.14227491551,
           201.3641355563325,
           23.297510273453202,
           72.82835417021425,
           145.75076434136855,
           37.579257090217666,
           60.569978568413745,
           102.01276399146508,
           28.82490188778504,
           54.82233412074985,
           73.3870749562236,
           14.276860371257687,
           47.856064672518706,
           194.30647042394256,
           55.673529576057426,
           166.82999336168035,
           25.450006638319635,
           654.1963750135483,
           1654.7308792659694,
           1.1038531651240984,
           0.44807603480425107,
           0.1556694853465575,
           0.0721302128026627,
           11.906652547477975,
           7.353978517629708,
           9.43245864298544,
           3.7859374451744556,
           0.1002004731372856,
           11.756855514775005,
           13.7165941383507,
           117.6557735383373,
           62.282182637559714,
           2.411102751529998,
           2.946243866154979,
           6456.511030832625,
           85.28255477781143,
           380.4421015685337,
           590.6040017902529,
           0.2319803648061291,
           19725.246647328884,
           2.714332039354705,
           109.1496651498583,
           86.62079830149065,
           11.522882625568352,
           78.38098219290792,
           0.1629469294945164,
           275427.9312736736,
           1588.2694621538717,
           35.50397179422973,
           646.2743775317664,
           793.2552328705749,
           12138539.524414998,
           180.0101554130737,
           72.01699074211467,
           492.9322329508189,
           197.16362490329445,
           0.1972460246313675,
           0.0986230123156837,
           109362.48301746509,
           384.79253971974464,
           314.48631296878256,
           3.7379431504921063,
           1.915111484934988,
           37.61762350348109,
           16.10606410833369,
           10.578394246145008,
           4.24796775248066,
           11.372396254399025,
           262.886846976002,
           143.75251665293007,
           6.7750226096375785,
           158.1873189432983,
           433.9726810567017,
           78.23462854353482,
           473.68537145646513,
           264.14284446801594,
           633.0672092342378,
           8.399617454676248,
           30.37038254532375,
           21.2,
           21.2,
           3.8640326779688983,
           4.235697536666169,
           1.5390660061799326,
           2.0929076952984227,
           2.577966057698169,
           60.878760680336526,
           16.018870220824564,
           2.580423335145291,
           60.916766244942814,
           16.022977177430604,
           308.65282677805715,
           69.3598814488796,
           56.77126871825632,
           48.80612413584608,
           107.44574955096515,
           351.12134363091684,
           195.0327576263956,
           19.327242373604374,
           10.874559171050612,
           460.4805209267557,
           65.33562966873937,
           10.875605345165166,
           460.49747111364184,
           65.336781452226,
           79.4754765978103,
           536.6907097665458,
           2308.927254279518,
           897.2100537022537,
           7237.2,
           1286.3437149111537,
           4129.848427365307,
           624.4915726346931,
           4973.237689582244,
           857.4623104177566,
           53.907476123067575,
           11.782523876932425,
           139.07529754772983,
           377.0847024522701,
           7.990176058056921,
           19.17982394194307,
           2268.978743866344,
           4968.221256133656,
           37.40345528798212,
           12.652539101347784,
           297.49,
           135.52,
           539.05,
           26322.59,
           243.9,
           249.98,
           0.1597268363772475,
           15.204941045488619,
           0.1227198406053527,
           101.79068642324623,
           2.7513227904506974,
           322.05781888208804,
           0.6959410944183875,
           77.52720747438084,
           4.240871990811619,
           3.319380173924379,
           169.025711090032,
           12.225639373474635,
           214.367179853857,
           0.3193685932408474,
           446.7245699950506,
           592.16,
           3.584788954138661,
           1.3506005303834927,
           15.904009268722477,
           378.0127082269368,
           25.620323728311877,
           107.34197158220661,
           4754.34,
           516.16,
           3530.81,
           52233.59,
           185.66,
           192.28,
           1.5519291999283493,
           0.2958725599211931,
           20.522765818315428,
           26.314072335714442,
           23.714111975824583,
           26.22395743975371,
           288.831848043759,
           2.764097152538372,
           383.95422031339916,
           3.195103777677064,
           348.1151855671265,
           25.4824333962664,
           38.56410664703607,
           65.79799074159163,
           1714.3263691522732,
           42.29990258329652,
           1385.578969518039,
           0.5917380738941027,
           1616.1200791850551,
           14.356224396399032,
           29.333355404010483,
           17.81088492370662,
           559.0559014147676,
           551.92,
           1.6273233037545174,
           0.6647894778317818,
           63.616037074889924,
           105.57739285410241,
           102.48129491324752,
           429.3678863288265,
           5830.7,
           27.17,
           6.7750226096375785,
           2.405780404028343,
           2.352340695237716,
           6.150721861673484,
           251.74670854053332,
           4.947892340387051,
           264.4654312531719,
           1381.300993533979,
           209.72724357189188,
           7.400861377637147,
           38.77,
           2.887611228538196,
           1.6165759802719415,
           458.56709318188206,
           65.69,
           329.29924676109613,
           542.7169502573096,
           75.22126050359827,
           2566.4628011421664,
           6099.768605233667,
           1608.271809080369,
           42.4,
           6.72820369181024e-06,
           7.712991139628732e-06,
           214.36,
           0.05571548857834713,
           0.13991907862712422,
           0.10017113692562615,
           0.6347366490224815,
           12.975554401472088,
           40.30427221145839,
           0.2305099430083446,
           24.61659744974452,
           0.0059102479338842,
           158.60648655436205,
           1.050145819358043,
           2.993303995291122,
           1.292276007573641,
           11.121177270964703,
           35.63602366713329,
           92.99560937051342,
           0.0493949877875024,
           47.42926258223612,
           0.6633337064245144,
           401.41028686848455,
           1.050145819358043,
           2.993303995291122,
           1.292276007573641,
           11.121177270964703,
           35.63602366713329,
           92.99560937051342,
           0.0493949877875024,
           47.42926258223612,
           0.6633337064245144,
           401.41028686848455,
           0.9305423531535827,
           236.7393308079793,
           16.456903093187513,
           578.1839111825794,
           16.456903093187513,
           578.1839111825794
          ]
         },
         "node": {
          "color": "rgba(63, 125, 152, 1)",
          "label": [
           "AAQ-fresh-groundwater",
           "AAQ-fresh-surfacewater",
           "ACI-fresh-groundwater",
           "ACI-fresh-surfacewater",
           "ACI-reclaimed-wastewater",
           "AGI-fresh-groundwater",
           "AGI-fresh-surfacewater",
           "AGI-reclaimed-wastewater",
           "ALV-fresh-groundwater",
           "ALV-fresh-surfacewater",
           "COM-public",
           "EGS-biomass-combinedcycle",
           "EGS-biomass-steam",
           "EGS-coal-steam",
           "EGS-natgas-combinedcycle",
           "EGS-natgas-combustionturbine",
           "EGS-natgas-steam",
           "EGS-nuclear-steam",
           "EGS-other-combinedcycle",
           "EGS-other-steam",
           "EGS-petroleum-combinedcycle",
           "EGS-petroleum-combustionturbine",
           "EGS-petroleum-steam",
           "IND-biomass-ethanol",
           "IND-fresh-groundwater",
           "IND-fresh-surfacewater",
           "IND-public",
           "IND-saline-groundwater",
           "IND-saline-surfacewater",
           "MIN-coal-surface",
           "MIN-coal-underground",
           "MIN-natgas-unconventional",
           "MIN-other",
           "MIN-petroleum-unconventional",
           "PRD",
           "PWD",
           "PWI",
           "PWS-fresh-groundwater",
           "PWS-fresh-surfacewater",
           "PWS-saline-groundwater",
           "RES-fresh-groundwater",
           "RES-fresh-surfacewater",
           "RES-public",
           "WSI-ibt",
           "WSI-reclaimed-wastewater",
           "WSW-fresh-groundwater",
           "WSW-fresh-surfacewater",
           "WSW-fresh-wastewater",
           "WSW-saline-groundwater",
           "WSW-saline-surfacewater",
           "WWD-advanced-infiltration",
           "WWD-advanced-municipal",
           "WWD-primary-infiltration",
           "WWD-primary-municipal",
           "WWD-secondary-infiltration",
           "WWD-secondary-municipal",
           "WWS",
           "CMP",
           "SRD",
           "CVL",
           "OCD",
           "GRD",
           "PWX",
           "MIN-petroleum-conventional",
           "GWD",
           "IRX",
           "INX"
          ],
          "line": {
           "color": "black",
           "width": 1
          },
          "pad": 40,
          "thickness": 10
         },
         "type": "sankey",
         "valuesuffix": "mgd"
        }
       ],
       "layout": {
        "font": {
         "size": 12
        },
        "template": {
         "data": {
          "bar": [
           {
            "error_x": {
             "color": "#2a3f5f"
            },
            "error_y": {
             "color": "#2a3f5f"
            },
            "marker": {
             "line": {
              "color": "#E5ECF6",
              "width": 0.5
             },
             "pattern": {
              "fillmode": "overlay",
              "size": 10,
              "solidity": 0.2
             }
            },
            "type": "bar"
           }
          ],
          "barpolar": [
           {
            "marker": {
             "line": {
              "color": "#E5ECF6",
              "width": 0.5
             },
             "pattern": {
              "fillmode": "overlay",
              "size": 10,
              "solidity": 0.2
             }
            },
            "type": "barpolar"
           }
          ],
          "carpet": [
           {
            "aaxis": {
             "endlinecolor": "#2a3f5f",
             "gridcolor": "white",
             "linecolor": "white",
             "minorgridcolor": "white",
             "startlinecolor": "#2a3f5f"
            },
            "baxis": {
             "endlinecolor": "#2a3f5f",
             "gridcolor": "white",
             "linecolor": "white",
             "minorgridcolor": "white",
             "startlinecolor": "#2a3f5f"
            },
            "type": "carpet"
           }
          ],
          "choropleth": [
           {
            "colorbar": {
             "outlinewidth": 0,
             "ticks": ""
            },
            "type": "choropleth"
           }
          ],
          "contour": [
           {
            "colorbar": {
             "outlinewidth": 0,
             "ticks": ""
            },
            "colorscale": [
             [
              0,
              "#0d0887"
             ],
             [
              0.1111111111111111,
              "#46039f"
             ],
             [
              0.2222222222222222,
              "#7201a8"
             ],
             [
              0.3333333333333333,
              "#9c179e"
             ],
             [
              0.4444444444444444,
              "#bd3786"
             ],
             [
              0.5555555555555556,
              "#d8576b"
             ],
             [
              0.6666666666666666,
              "#ed7953"
             ],
             [
              0.7777777777777778,
              "#fb9f3a"
             ],
             [
              0.8888888888888888,
              "#fdca26"
             ],
             [
              1,
              "#f0f921"
             ]
            ],
            "type": "contour"
           }
          ],
          "contourcarpet": [
           {
            "colorbar": {
             "outlinewidth": 0,
             "ticks": ""
            },
            "type": "contourcarpet"
           }
          ],
          "heatmap": [
           {
            "colorbar": {
             "outlinewidth": 0,
             "ticks": ""
            },
            "colorscale": [
             [
              0,
              "#0d0887"
             ],
             [
              0.1111111111111111,
              "#46039f"
             ],
             [
              0.2222222222222222,
              "#7201a8"
             ],
             [
              0.3333333333333333,
              "#9c179e"
             ],
             [
              0.4444444444444444,
              "#bd3786"
             ],
             [
              0.5555555555555556,
              "#d8576b"
             ],
             [
              0.6666666666666666,
              "#ed7953"
             ],
             [
              0.7777777777777778,
              "#fb9f3a"
             ],
             [
              0.8888888888888888,
              "#fdca26"
             ],
             [
              1,
              "#f0f921"
             ]
            ],
            "type": "heatmap"
           }
          ],
          "heatmapgl": [
           {
            "colorbar": {
             "outlinewidth": 0,
             "ticks": ""
            },
            "colorscale": [
             [
              0,
              "#0d0887"
             ],
             [
              0.1111111111111111,
              "#46039f"
             ],
             [
              0.2222222222222222,
              "#7201a8"
             ],
             [
              0.3333333333333333,
              "#9c179e"
             ],
             [
              0.4444444444444444,
              "#bd3786"
             ],
             [
              0.5555555555555556,
              "#d8576b"
             ],
             [
              0.6666666666666666,
              "#ed7953"
             ],
             [
              0.7777777777777778,
              "#fb9f3a"
             ],
             [
              0.8888888888888888,
              "#fdca26"
             ],
             [
              1,
              "#f0f921"
             ]
            ],
            "type": "heatmapgl"
           }
          ],
          "histogram": [
           {
            "marker": {
             "pattern": {
              "fillmode": "overlay",
              "size": 10,
              "solidity": 0.2
             }
            },
            "type": "histogram"
           }
          ],
          "histogram2d": [
           {
            "colorbar": {
             "outlinewidth": 0,
             "ticks": ""
            },
            "colorscale": [
             [
              0,
              "#0d0887"
             ],
             [
              0.1111111111111111,
              "#46039f"
             ],
             [
              0.2222222222222222,
              "#7201a8"
             ],
             [
              0.3333333333333333,
              "#9c179e"
             ],
             [
              0.4444444444444444,
              "#bd3786"
             ],
             [
              0.5555555555555556,
              "#d8576b"
             ],
             [
              0.6666666666666666,
              "#ed7953"
             ],
             [
              0.7777777777777778,
              "#fb9f3a"
             ],
             [
              0.8888888888888888,
              "#fdca26"
             ],
             [
              1,
              "#f0f921"
             ]
            ],
            "type": "histogram2d"
           }
          ],
          "histogram2dcontour": [
           {
            "colorbar": {
             "outlinewidth": 0,
             "ticks": ""
            },
            "colorscale": [
             [
              0,
              "#0d0887"
             ],
             [
              0.1111111111111111,
              "#46039f"
             ],
             [
              0.2222222222222222,
              "#7201a8"
             ],
             [
              0.3333333333333333,
              "#9c179e"
             ],
             [
              0.4444444444444444,
              "#bd3786"
             ],
             [
              0.5555555555555556,
              "#d8576b"
             ],
             [
              0.6666666666666666,
              "#ed7953"
             ],
             [
              0.7777777777777778,
              "#fb9f3a"
             ],
             [
              0.8888888888888888,
              "#fdca26"
             ],
             [
              1,
              "#f0f921"
             ]
            ],
            "type": "histogram2dcontour"
           }
          ],
          "mesh3d": [
           {
            "colorbar": {
             "outlinewidth": 0,
             "ticks": ""
            },
            "type": "mesh3d"
           }
          ],
          "parcoords": [
           {
            "line": {
             "colorbar": {
              "outlinewidth": 0,
              "ticks": ""
             }
            },
            "type": "parcoords"
           }
          ],
          "pie": [
           {
            "automargin": true,
            "type": "pie"
           }
          ],
          "scatter": [
           {
            "marker": {
             "colorbar": {
              "outlinewidth": 0,
              "ticks": ""
             }
            },
            "type": "scatter"
           }
          ],
          "scatter3d": [
           {
            "line": {
             "colorbar": {
              "outlinewidth": 0,
              "ticks": ""
             }
            },
            "marker": {
             "colorbar": {
              "outlinewidth": 0,
              "ticks": ""
             }
            },
            "type": "scatter3d"
           }
          ],
          "scattercarpet": [
           {
            "marker": {
             "colorbar": {
              "outlinewidth": 0,
              "ticks": ""
             }
            },
            "type": "scattercarpet"
           }
          ],
          "scattergeo": [
           {
            "marker": {
             "colorbar": {
              "outlinewidth": 0,
              "ticks": ""
             }
            },
            "type": "scattergeo"
           }
          ],
          "scattergl": [
           {
            "marker": {
             "colorbar": {
              "outlinewidth": 0,
              "ticks": ""
             }
            },
            "type": "scattergl"
           }
          ],
          "scattermapbox": [
           {
            "marker": {
             "colorbar": {
              "outlinewidth": 0,
              "ticks": ""
             }
            },
            "type": "scattermapbox"
           }
          ],
          "scatterpolar": [
           {
            "marker": {
             "colorbar": {
              "outlinewidth": 0,
              "ticks": ""
             }
            },
            "type": "scatterpolar"
           }
          ],
          "scatterpolargl": [
           {
            "marker": {
             "colorbar": {
              "outlinewidth": 0,
              "ticks": ""
             }
            },
            "type": "scatterpolargl"
           }
          ],
          "scatterternary": [
           {
            "marker": {
             "colorbar": {
              "outlinewidth": 0,
              "ticks": ""
             }
            },
            "type": "scatterternary"
           }
          ],
          "surface": [
           {
            "colorbar": {
             "outlinewidth": 0,
             "ticks": ""
            },
            "colorscale": [
             [
              0,
              "#0d0887"
             ],
             [
              0.1111111111111111,
              "#46039f"
             ],
             [
              0.2222222222222222,
              "#7201a8"
             ],
             [
              0.3333333333333333,
              "#9c179e"
             ],
             [
              0.4444444444444444,
              "#bd3786"
             ],
             [
              0.5555555555555556,
              "#d8576b"
             ],
             [
              0.6666666666666666,
              "#ed7953"
             ],
             [
              0.7777777777777778,
              "#fb9f3a"
             ],
             [
              0.8888888888888888,
              "#fdca26"
             ],
             [
              1,
              "#f0f921"
             ]
            ],
            "type": "surface"
           }
          ],
          "table": [
           {
            "cells": {
             "fill": {
              "color": "#EBF0F8"
             },
             "line": {
              "color": "white"
             }
            },
            "header": {
             "fill": {
              "color": "#C8D4E3"
             },
             "line": {
              "color": "white"
             }
            },
            "type": "table"
           }
          ]
         },
         "layout": {
          "annotationdefaults": {
           "arrowcolor": "#2a3f5f",
           "arrowhead": 0,
           "arrowwidth": 1
          },
          "autotypenumbers": "strict",
          "coloraxis": {
           "colorbar": {
            "outlinewidth": 0,
            "ticks": ""
           }
          },
          "colorscale": {
           "diverging": [
            [
             0,
             "#8e0152"
            ],
            [
             0.1,
             "#c51b7d"
            ],
            [
             0.2,
             "#de77ae"
            ],
            [
             0.3,
             "#f1b6da"
            ],
            [
             0.4,
             "#fde0ef"
            ],
            [
             0.5,
             "#f7f7f7"
            ],
            [
             0.6,
             "#e6f5d0"
            ],
            [
             0.7,
             "#b8e186"
            ],
            [
             0.8,
             "#7fbc41"
            ],
            [
             0.9,
             "#4d9221"
            ],
            [
             1,
             "#276419"
            ]
           ],
           "sequential": [
            [
             0,
             "#0d0887"
            ],
            [
             0.1111111111111111,
             "#46039f"
            ],
            [
             0.2222222222222222,
             "#7201a8"
            ],
            [
             0.3333333333333333,
             "#9c179e"
            ],
            [
             0.4444444444444444,
             "#bd3786"
            ],
            [
             0.5555555555555556,
             "#d8576b"
            ],
            [
             0.6666666666666666,
             "#ed7953"
            ],
            [
             0.7777777777777778,
             "#fb9f3a"
            ],
            [
             0.8888888888888888,
             "#fdca26"
            ],
            [
             1,
             "#f0f921"
            ]
           ],
           "sequentialminus": [
            [
             0,
             "#0d0887"
            ],
            [
             0.1111111111111111,
             "#46039f"
            ],
            [
             0.2222222222222222,
             "#7201a8"
            ],
            [
             0.3333333333333333,
             "#9c179e"
            ],
            [
             0.4444444444444444,
             "#bd3786"
            ],
            [
             0.5555555555555556,
             "#d8576b"
            ],
            [
             0.6666666666666666,
             "#ed7953"
            ],
            [
             0.7777777777777778,
             "#fb9f3a"
            ],
            [
             0.8888888888888888,
             "#fdca26"
            ],
            [
             1,
             "#f0f921"
            ]
           ]
          },
          "colorway": [
           "#636efa",
           "#EF553B",
           "#00cc96",
           "#ab63fa",
           "#FFA15A",
           "#19d3f3",
           "#FF6692",
           "#B6E880",
           "#FF97FF",
           "#FECB52"
          ],
          "font": {
           "color": "#2a3f5f"
          },
          "geo": {
           "bgcolor": "white",
           "lakecolor": "white",
           "landcolor": "#E5ECF6",
           "showlakes": true,
           "showland": true,
           "subunitcolor": "white"
          },
          "hoverlabel": {
           "align": "left"
          },
          "hovermode": "closest",
          "mapbox": {
           "style": "light"
          },
          "paper_bgcolor": "white",
          "plot_bgcolor": "#E5ECF6",
          "polar": {
           "angularaxis": {
            "gridcolor": "white",
            "linecolor": "white",
            "ticks": ""
           },
           "bgcolor": "#E5ECF6",
           "radialaxis": {
            "gridcolor": "white",
            "linecolor": "white",
            "ticks": ""
           }
          },
          "scene": {
           "xaxis": {
            "backgroundcolor": "#E5ECF6",
            "gridcolor": "white",
            "gridwidth": 2,
            "linecolor": "white",
            "showbackground": true,
            "ticks": "",
            "zerolinecolor": "white"
           },
           "yaxis": {
            "backgroundcolor": "#E5ECF6",
            "gridcolor": "white",
            "gridwidth": 2,
            "linecolor": "white",
            "showbackground": true,
            "ticks": "",
            "zerolinecolor": "white"
           },
           "zaxis": {
            "backgroundcolor": "#E5ECF6",
            "gridcolor": "white",
            "gridwidth": 2,
            "linecolor": "white",
            "showbackground": true,
            "ticks": "",
            "zerolinecolor": "white"
           }
          },
          "shapedefaults": {
           "line": {
            "color": "#2a3f5f"
           }
          },
          "ternary": {
           "aaxis": {
            "gridcolor": "white",
            "linecolor": "white",
            "ticks": ""
           },
           "baxis": {
            "gridcolor": "white",
            "linecolor": "white",
            "ticks": ""
           },
           "bgcolor": "#E5ECF6",
           "caxis": {
            "gridcolor": "white",
            "linecolor": "white",
            "ticks": ""
           }
          },
          "title": {
           "x": 0.05
          },
          "xaxis": {
           "automargin": true,
           "gridcolor": "white",
           "linecolor": "white",
           "ticks": "",
           "title": {
            "standoff": 15
           },
           "zerolinecolor": "white",
           "zerolinewidth": 2
          },
          "yaxis": {
           "automargin": true,
           "gridcolor": "white",
           "linecolor": "white",
           "ticks": "",
           "title": {
            "standoff": 15
           },
           "zerolinecolor": "white",
           "zerolinewidth": 2
          }
         }
        },
        "title": {
         "text": "mgd flows for West"
        }
       }
      },
      "text/html": [
       "<div>                            <div id=\"e02de7e0-a9a6-4066-9616-e2a661cef190\" class=\"plotly-graph-div\" style=\"height:525px; width:100%;\"></div>            <script type=\"text/javascript\">                require([\"plotly\"], function(Plotly) {                    window.PLOTLYENV=window.PLOTLYENV || {};                                    if (document.getElementById(\"e02de7e0-a9a6-4066-9616-e2a661cef190\")) {                    Plotly.newPlot(                        \"e02de7e0-a9a6-4066-9616-e2a661cef190\",                        [{\"link\":{\"color\":\"rgba(102, 195, 216, 0.7)\",\"source\":[0,0,1,1,2,2,2,3,3,3,4,4,4,5,5,5,6,6,6,7,7,7,8,8,9,9,10,10,11,11,12,12,12,12,13,13,13,13,13,13,13,14,14,14,14,14,14,15,15,15,15,15,16,16,16,16,16,16,16,16,17,17,17,18,18,19,19,19,19,19,20,20,21,21,22,22,22,22,22,23,24,24,25,25,26,26,27,27,28,28,29,29,30,30,31,31,31,31,31,31,32,32,32,32,32,32,32,32,33,33,33,33,33,33,34,34,35,35,35,36,37,37,38,38,39,39,40,40,41,41,42,42,43,43,44,44,45,45,45,45,45,45,45,45,45,45,45,45,45,45,45,45,45,45,45,45,45,45,45,45,45,45,45,45,46,46,46,46,46,46,46,46,46,46,46,46,46,46,46,46,46,46,46,46,46,46,46,46,46,46,46,46,46,46,46,46,46,46,46,46,46,47,47,47,47,47,47,47,47,47,48,48,48,48,48,49,49,49,49,49,49,49,49,49,49,50,50,50,50,51,51,51,51,51,51,52,52,52,52,53,53,53,53,53,53,54,54,54,54,55,55,55,55,55,55,56,56,56,56,56,56],\"target\":[57,58,57,58,57,59,58,57,59,58,57,59,58,57,59,58,57,59,58,57,59,58,57,58,57,58,57,56,57,58,57,58,57,58,57,58,57,58,57,57,58,57,58,60,58,57,58,57,60,57,57,58,57,58,57,60,58,57,57,58,60,57,58,57,58,57,58,60,57,58,57,58,57,58,57,58,57,57,58,58,57,58,57,58,57,56,57,58,57,58,57,58,57,58,57,61,58,57,61,58,57,58,57,58,57,58,57,58,57,61,58,57,61,58,31,33,10,26,42,35,35,62,35,62,35,62,57,58,57,58,57,56,3,38,4,7,0,2,5,8,12,12,13,13,14,14,15,15,16,16,16,19,21,22,22,24,29,30,31,32,63,33,37,40,1,3,6,9,11,12,12,13,13,13,13,14,14,15,15,16,16,16,16,17,18,19,19,20,22,22,22,25,29,30,31,32,63,33,38,41,23,12,13,13,14,15,15,16,17,22,27,29,30,32,39,14,15,16,16,17,19,28,29,30,32,57,64,65,58,57,64,66,65,60,58,57,64,65,58,57,64,66,65,60,58,57,64,65,58,57,64,66,65,60,58,50,51,52,53,54,55],\"value\":[326.8459161227992,212.20408387720076,1329.9277097236147,2200.882290276385,16102.52853689948,3974.0499053370195,6246.0115577635,18274.95365573168,16614.494069352804,17344.14227491551,201.3641355563325,23.297510273453202,72.82835417021425,145.75076434136855,37.579257090217666,60.569978568413745,102.01276399146508,28.82490188778504,54.82233412074985,73.3870749562236,14.276860371257687,47.856064672518706,194.30647042394256,55.673529576057426,166.82999336168035,25.450006638319635,654.1963750135483,1654.7308792659694,1.1038531651240984,0.44807603480425107,0.1556694853465575,0.0721302128026627,11.906652547477975,7.353978517629708,9.43245864298544,3.7859374451744556,0.1002004731372856,11.756855514775005,13.7165941383507,117.6557735383373,62.282182637559714,2.411102751529998,2.946243866154979,6456.511030832625,85.28255477781143,380.4421015685337,590.6040017902529,0.2319803648061291,19725.246647328884,2.714332039354705,109.1496651498583,86.62079830149065,11.522882625568352,78.38098219290792,0.1629469294945164,275427.9312736736,1588.2694621538717,35.50397179422973,646.2743775317664,793.2552328705749,12138539.524414998,180.0101554130737,72.01699074211467,492.9322329508189,197.16362490329445,0.1972460246313675,0.0986230123156837,109362.48301746509,384.79253971974464,314.48631296878256,3.7379431504921063,1.915111484934988,37.61762350348109,16.10606410833369,10.578394246145008,4.24796775248066,11.372396254399025,262.886846976002,143.75251665293007,6.7750226096375785,158.1873189432983,433.9726810567017,78.23462854353482,473.68537145646513,264.14284446801594,633.0672092342378,8.399617454676248,30.37038254532375,21.2,21.2,3.8640326779688983,4.235697536666169,1.5390660061799326,2.0929076952984227,2.577966057698169,60.878760680336526,16.018870220824564,2.580423335145291,60.916766244942814,16.022977177430604,308.65282677805715,69.3598814488796,56.77126871825632,48.80612413584608,107.44574955096515,351.12134363091684,195.0327576263956,19.327242373604374,10.874559171050612,460.4805209267557,65.33562966873937,10.875605345165166,460.49747111364184,65.336781452226,79.4754765978103,536.6907097665458,2308.927254279518,897.2100537022537,7237.2,1286.3437149111537,4129.848427365307,624.4915726346931,4973.237689582244,857.4623104177566,53.907476123067575,11.782523876932425,139.07529754772983,377.0847024522701,7.990176058056921,19.17982394194307,2268.978743866344,4968.221256133656,37.40345528798212,12.652539101347784,297.49,135.52,539.05,26322.59,243.9,249.98,0.1597268363772475,15.204941045488619,0.1227198406053527,101.79068642324623,2.7513227904506974,322.05781888208804,0.6959410944183875,77.52720747438084,4.240871990811619,3.319380173924379,169.025711090032,12.225639373474635,214.367179853857,0.3193685932408474,446.7245699950506,592.16,3.584788954138661,1.3506005303834927,15.904009268722477,378.0127082269368,25.620323728311877,107.34197158220661,4754.34,516.16,3530.81,52233.59,185.66,192.28,1.5519291999283493,0.2958725599211931,20.522765818315428,26.314072335714442,23.714111975824583,26.22395743975371,288.831848043759,2.764097152538372,383.95422031339916,3.195103777677064,348.1151855671265,25.4824333962664,38.56410664703607,65.79799074159163,1714.3263691522732,42.29990258329652,1385.578969518039,0.5917380738941027,1616.1200791850551,14.356224396399032,29.333355404010483,17.81088492370662,559.0559014147676,551.92,1.6273233037545174,0.6647894778317818,63.616037074889924,105.57739285410241,102.48129491324752,429.3678863288265,5830.7,27.17,6.7750226096375785,2.405780404028343,2.352340695237716,6.150721861673484,251.74670854053332,4.947892340387051,264.4654312531719,1381.300993533979,209.72724357189188,7.400861377637147,38.77,2.887611228538196,1.6165759802719415,458.56709318188206,65.69,329.29924676109613,542.7169502573096,75.22126050359827,2566.4628011421664,6099.768605233667,1608.271809080369,42.4,6.72820369181024e-06,7.712991139628732e-06,214.36,0.05571548857834713,0.13991907862712422,0.10017113692562615,0.6347366490224815,12.975554401472088,40.30427221145839,0.2305099430083446,24.61659744974452,0.0059102479338842,158.60648655436205,1.050145819358043,2.993303995291122,1.292276007573641,11.121177270964703,35.63602366713329,92.99560937051342,0.0493949877875024,47.42926258223612,0.6633337064245144,401.41028686848455,1.050145819358043,2.993303995291122,1.292276007573641,11.121177270964703,35.63602366713329,92.99560937051342,0.0493949877875024,47.42926258223612,0.6633337064245144,401.41028686848455,0.9305423531535827,236.7393308079793,16.456903093187513,578.1839111825794,16.456903093187513,578.1839111825794]},\"node\":{\"color\":\"rgba(63, 125, 152, 1)\",\"label\":[\"AAQ-fresh-groundwater\",\"AAQ-fresh-surfacewater\",\"ACI-fresh-groundwater\",\"ACI-fresh-surfacewater\",\"ACI-reclaimed-wastewater\",\"AGI-fresh-groundwater\",\"AGI-fresh-surfacewater\",\"AGI-reclaimed-wastewater\",\"ALV-fresh-groundwater\",\"ALV-fresh-surfacewater\",\"COM-public\",\"EGS-biomass-combinedcycle\",\"EGS-biomass-steam\",\"EGS-coal-steam\",\"EGS-natgas-combinedcycle\",\"EGS-natgas-combustionturbine\",\"EGS-natgas-steam\",\"EGS-nuclear-steam\",\"EGS-other-combinedcycle\",\"EGS-other-steam\",\"EGS-petroleum-combinedcycle\",\"EGS-petroleum-combustionturbine\",\"EGS-petroleum-steam\",\"IND-biomass-ethanol\",\"IND-fresh-groundwater\",\"IND-fresh-surfacewater\",\"IND-public\",\"IND-saline-groundwater\",\"IND-saline-surfacewater\",\"MIN-coal-surface\",\"MIN-coal-underground\",\"MIN-natgas-unconventional\",\"MIN-other\",\"MIN-petroleum-unconventional\",\"PRD\",\"PWD\",\"PWI\",\"PWS-fresh-groundwater\",\"PWS-fresh-surfacewater\",\"PWS-saline-groundwater\",\"RES-fresh-groundwater\",\"RES-fresh-surfacewater\",\"RES-public\",\"WSI-ibt\",\"WSI-reclaimed-wastewater\",\"WSW-fresh-groundwater\",\"WSW-fresh-surfacewater\",\"WSW-fresh-wastewater\",\"WSW-saline-groundwater\",\"WSW-saline-surfacewater\",\"WWD-advanced-infiltration\",\"WWD-advanced-municipal\",\"WWD-primary-infiltration\",\"WWD-primary-municipal\",\"WWD-secondary-infiltration\",\"WWD-secondary-municipal\",\"WWS\",\"CMP\",\"SRD\",\"CVL\",\"OCD\",\"GRD\",\"PWX\",\"MIN-petroleum-conventional\",\"GWD\",\"IRX\",\"INX\"],\"line\":{\"color\":\"black\",\"width\":1},\"pad\":40,\"thickness\":10},\"type\":\"sankey\",\"valuesuffix\":\"mgd\"}],                        {\"template\":{\"data\":{\"bar\":[{\"error_x\":{\"color\":\"#2a3f5f\"},\"error_y\":{\"color\":\"#2a3f5f\"},\"marker\":{\"line\":{\"color\":\"#E5ECF6\",\"width\":0.5},\"pattern\":{\"fillmode\":\"overlay\",\"size\":10,\"solidity\":0.2}},\"type\":\"bar\"}],\"barpolar\":[{\"marker\":{\"line\":{\"color\":\"#E5ECF6\",\"width\":0.5},\"pattern\":{\"fillmode\":\"overlay\",\"size\":10,\"solidity\":0.2}},\"type\":\"barpolar\"}],\"carpet\":[{\"aaxis\":{\"endlinecolor\":\"#2a3f5f\",\"gridcolor\":\"white\",\"linecolor\":\"white\",\"minorgridcolor\":\"white\",\"startlinecolor\":\"#2a3f5f\"},\"baxis\":{\"endlinecolor\":\"#2a3f5f\",\"gridcolor\":\"white\",\"linecolor\":\"white\",\"minorgridcolor\":\"white\",\"startlinecolor\":\"#2a3f5f\"},\"type\":\"carpet\"}],\"choropleth\":[{\"colorbar\":{\"outlinewidth\":0,\"ticks\":\"\"},\"type\":\"choropleth\"}],\"contour\":[{\"colorbar\":{\"outlinewidth\":0,\"ticks\":\"\"},\"colorscale\":[[0.0,\"#0d0887\"],[0.1111111111111111,\"#46039f\"],[0.2222222222222222,\"#7201a8\"],[0.3333333333333333,\"#9c179e\"],[0.4444444444444444,\"#bd3786\"],[0.5555555555555556,\"#d8576b\"],[0.6666666666666666,\"#ed7953\"],[0.7777777777777778,\"#fb9f3a\"],[0.8888888888888888,\"#fdca26\"],[1.0,\"#f0f921\"]],\"type\":\"contour\"}],\"contourcarpet\":[{\"colorbar\":{\"outlinewidth\":0,\"ticks\":\"\"},\"type\":\"contourcarpet\"}],\"heatmap\":[{\"colorbar\":{\"outlinewidth\":0,\"ticks\":\"\"},\"colorscale\":[[0.0,\"#0d0887\"],[0.1111111111111111,\"#46039f\"],[0.2222222222222222,\"#7201a8\"],[0.3333333333333333,\"#9c179e\"],[0.4444444444444444,\"#bd3786\"],[0.5555555555555556,\"#d8576b\"],[0.6666666666666666,\"#ed7953\"],[0.7777777777777778,\"#fb9f3a\"],[0.8888888888888888,\"#fdca26\"],[1.0,\"#f0f921\"]],\"type\":\"heatmap\"}],\"heatmapgl\":[{\"colorbar\":{\"outlinewidth\":0,\"ticks\":\"\"},\"colorscale\":[[0.0,\"#0d0887\"],[0.1111111111111111,\"#46039f\"],[0.2222222222222222,\"#7201a8\"],[0.3333333333333333,\"#9c179e\"],[0.4444444444444444,\"#bd3786\"],[0.5555555555555556,\"#d8576b\"],[0.6666666666666666,\"#ed7953\"],[0.7777777777777778,\"#fb9f3a\"],[0.8888888888888888,\"#fdca26\"],[1.0,\"#f0f921\"]],\"type\":\"heatmapgl\"}],\"histogram\":[{\"marker\":{\"pattern\":{\"fillmode\":\"overlay\",\"size\":10,\"solidity\":0.2}},\"type\":\"histogram\"}],\"histogram2d\":[{\"colorbar\":{\"outlinewidth\":0,\"ticks\":\"\"},\"colorscale\":[[0.0,\"#0d0887\"],[0.1111111111111111,\"#46039f\"],[0.2222222222222222,\"#7201a8\"],[0.3333333333333333,\"#9c179e\"],[0.4444444444444444,\"#bd3786\"],[0.5555555555555556,\"#d8576b\"],[0.6666666666666666,\"#ed7953\"],[0.7777777777777778,\"#fb9f3a\"],[0.8888888888888888,\"#fdca26\"],[1.0,\"#f0f921\"]],\"type\":\"histogram2d\"}],\"histogram2dcontour\":[{\"colorbar\":{\"outlinewidth\":0,\"ticks\":\"\"},\"colorscale\":[[0.0,\"#0d0887\"],[0.1111111111111111,\"#46039f\"],[0.2222222222222222,\"#7201a8\"],[0.3333333333333333,\"#9c179e\"],[0.4444444444444444,\"#bd3786\"],[0.5555555555555556,\"#d8576b\"],[0.6666666666666666,\"#ed7953\"],[0.7777777777777778,\"#fb9f3a\"],[0.8888888888888888,\"#fdca26\"],[1.0,\"#f0f921\"]],\"type\":\"histogram2dcontour\"}],\"mesh3d\":[{\"colorbar\":{\"outlinewidth\":0,\"ticks\":\"\"},\"type\":\"mesh3d\"}],\"parcoords\":[{\"line\":{\"colorbar\":{\"outlinewidth\":0,\"ticks\":\"\"}},\"type\":\"parcoords\"}],\"pie\":[{\"automargin\":true,\"type\":\"pie\"}],\"scatter\":[{\"marker\":{\"colorbar\":{\"outlinewidth\":0,\"ticks\":\"\"}},\"type\":\"scatter\"}],\"scatter3d\":[{\"line\":{\"colorbar\":{\"outlinewidth\":0,\"ticks\":\"\"}},\"marker\":{\"colorbar\":{\"outlinewidth\":0,\"ticks\":\"\"}},\"type\":\"scatter3d\"}],\"scattercarpet\":[{\"marker\":{\"colorbar\":{\"outlinewidth\":0,\"ticks\":\"\"}},\"type\":\"scattercarpet\"}],\"scattergeo\":[{\"marker\":{\"colorbar\":{\"outlinewidth\":0,\"ticks\":\"\"}},\"type\":\"scattergeo\"}],\"scattergl\":[{\"marker\":{\"colorbar\":{\"outlinewidth\":0,\"ticks\":\"\"}},\"type\":\"scattergl\"}],\"scattermapbox\":[{\"marker\":{\"colorbar\":{\"outlinewidth\":0,\"ticks\":\"\"}},\"type\":\"scattermapbox\"}],\"scatterpolar\":[{\"marker\":{\"colorbar\":{\"outlinewidth\":0,\"ticks\":\"\"}},\"type\":\"scatterpolar\"}],\"scatterpolargl\":[{\"marker\":{\"colorbar\":{\"outlinewidth\":0,\"ticks\":\"\"}},\"type\":\"scatterpolargl\"}],\"scatterternary\":[{\"marker\":{\"colorbar\":{\"outlinewidth\":0,\"ticks\":\"\"}},\"type\":\"scatterternary\"}],\"surface\":[{\"colorbar\":{\"outlinewidth\":0,\"ticks\":\"\"},\"colorscale\":[[0.0,\"#0d0887\"],[0.1111111111111111,\"#46039f\"],[0.2222222222222222,\"#7201a8\"],[0.3333333333333333,\"#9c179e\"],[0.4444444444444444,\"#bd3786\"],[0.5555555555555556,\"#d8576b\"],[0.6666666666666666,\"#ed7953\"],[0.7777777777777778,\"#fb9f3a\"],[0.8888888888888888,\"#fdca26\"],[1.0,\"#f0f921\"]],\"type\":\"surface\"}],\"table\":[{\"cells\":{\"fill\":{\"color\":\"#EBF0F8\"},\"line\":{\"color\":\"white\"}},\"header\":{\"fill\":{\"color\":\"#C8D4E3\"},\"line\":{\"color\":\"white\"}},\"type\":\"table\"}]},\"layout\":{\"annotationdefaults\":{\"arrowcolor\":\"#2a3f5f\",\"arrowhead\":0,\"arrowwidth\":1},\"autotypenumbers\":\"strict\",\"coloraxis\":{\"colorbar\":{\"outlinewidth\":0,\"ticks\":\"\"}},\"colorscale\":{\"diverging\":[[0,\"#8e0152\"],[0.1,\"#c51b7d\"],[0.2,\"#de77ae\"],[0.3,\"#f1b6da\"],[0.4,\"#fde0ef\"],[0.5,\"#f7f7f7\"],[0.6,\"#e6f5d0\"],[0.7,\"#b8e186\"],[0.8,\"#7fbc41\"],[0.9,\"#4d9221\"],[1,\"#276419\"]],\"sequential\":[[0.0,\"#0d0887\"],[0.1111111111111111,\"#46039f\"],[0.2222222222222222,\"#7201a8\"],[0.3333333333333333,\"#9c179e\"],[0.4444444444444444,\"#bd3786\"],[0.5555555555555556,\"#d8576b\"],[0.6666666666666666,\"#ed7953\"],[0.7777777777777778,\"#fb9f3a\"],[0.8888888888888888,\"#fdca26\"],[1.0,\"#f0f921\"]],\"sequentialminus\":[[0.0,\"#0d0887\"],[0.1111111111111111,\"#46039f\"],[0.2222222222222222,\"#7201a8\"],[0.3333333333333333,\"#9c179e\"],[0.4444444444444444,\"#bd3786\"],[0.5555555555555556,\"#d8576b\"],[0.6666666666666666,\"#ed7953\"],[0.7777777777777778,\"#fb9f3a\"],[0.8888888888888888,\"#fdca26\"],[1.0,\"#f0f921\"]]},\"colorway\":[\"#636efa\",\"#EF553B\",\"#00cc96\",\"#ab63fa\",\"#FFA15A\",\"#19d3f3\",\"#FF6692\",\"#B6E880\",\"#FF97FF\",\"#FECB52\"],\"font\":{\"color\":\"#2a3f5f\"},\"geo\":{\"bgcolor\":\"white\",\"lakecolor\":\"white\",\"landcolor\":\"#E5ECF6\",\"showlakes\":true,\"showland\":true,\"subunitcolor\":\"white\"},\"hoverlabel\":{\"align\":\"left\"},\"hovermode\":\"closest\",\"mapbox\":{\"style\":\"light\"},\"paper_bgcolor\":\"white\",\"plot_bgcolor\":\"#E5ECF6\",\"polar\":{\"angularaxis\":{\"gridcolor\":\"white\",\"linecolor\":\"white\",\"ticks\":\"\"},\"bgcolor\":\"#E5ECF6\",\"radialaxis\":{\"gridcolor\":\"white\",\"linecolor\":\"white\",\"ticks\":\"\"}},\"scene\":{\"xaxis\":{\"backgroundcolor\":\"#E5ECF6\",\"gridcolor\":\"white\",\"gridwidth\":2,\"linecolor\":\"white\",\"showbackground\":true,\"ticks\":\"\",\"zerolinecolor\":\"white\"},\"yaxis\":{\"backgroundcolor\":\"#E5ECF6\",\"gridcolor\":\"white\",\"gridwidth\":2,\"linecolor\":\"white\",\"showbackground\":true,\"ticks\":\"\",\"zerolinecolor\":\"white\"},\"zaxis\":{\"backgroundcolor\":\"#E5ECF6\",\"gridcolor\":\"white\",\"gridwidth\":2,\"linecolor\":\"white\",\"showbackground\":true,\"ticks\":\"\",\"zerolinecolor\":\"white\"}},\"shapedefaults\":{\"line\":{\"color\":\"#2a3f5f\"}},\"ternary\":{\"aaxis\":{\"gridcolor\":\"white\",\"linecolor\":\"white\",\"ticks\":\"\"},\"baxis\":{\"gridcolor\":\"white\",\"linecolor\":\"white\",\"ticks\":\"\"},\"bgcolor\":\"#E5ECF6\",\"caxis\":{\"gridcolor\":\"white\",\"linecolor\":\"white\",\"ticks\":\"\"}},\"title\":{\"x\":0.05},\"xaxis\":{\"automargin\":true,\"gridcolor\":\"white\",\"linecolor\":\"white\",\"ticks\":\"\",\"title\":{\"standoff\":15},\"zerolinecolor\":\"white\",\"zerolinewidth\":2},\"yaxis\":{\"automargin\":true,\"gridcolor\":\"white\",\"linecolor\":\"white\",\"ticks\":\"\",\"title\":{\"standoff\":15},\"zerolinecolor\":\"white\",\"zerolinewidth\":2}}},\"title\":{\"text\":\"mgd flows for West\"},\"font\":{\"size\":12}},                        {\"responsive\": true}                    ).then(function(){\n",
       "                            \n",
       "var gd = document.getElementById('e02de7e0-a9a6-4066-9616-e2a661cef190');\n",
       "var x = new MutationObserver(function (mutations, observer) {{\n",
       "        var display = window.getComputedStyle(gd).display;\n",
       "        if (!display || display === 'none') {{\n",
       "            console.log([gd, 'removed!']);\n",
       "            Plotly.purge(gd);\n",
       "            observer.disconnect();\n",
       "        }}\n",
       "}});\n",
       "\n",
       "// Listen for the removal of the full notebook cells\n",
       "var notebookContainer = gd.closest('#notebook-container');\n",
       "if (notebookContainer) {{\n",
       "    x.observe(notebookContainer, {childList: true});\n",
       "}}\n",
       "\n",
       "// Listen for the clearing of the current output cell\n",
       "var outputEl = gd.closest('.output');\n",
       "if (outputEl) {{\n",
       "    x.observe(outputEl, {childList: true});\n",
       "}}\n",
       "\n",
       "                        })                };                });            </script>        </div>"
      ]
     },
     "metadata": {},
     "output_type": "display_data"
    },
    {
     "data": {
      "application/vnd.plotly.v1+json": {
       "config": {
        "plotlyServerURL": "https://plot.ly"
       },
       "data": [
        {
         "link": {
          "color": "rgba(252, 230, 112, 1)",
          "source": [
           0,
           0,
           0,
           0,
           1,
           1,
           1,
           1,
           2,
           2,
           2,
           2,
           3,
           3,
           3,
           3,
           4,
           4,
           5,
           5,
           5,
           5,
           5,
           5,
           5,
           5,
           5,
           5,
           5,
           5,
           5,
           5,
           5,
           5,
           5,
           5,
           5,
           6,
           6,
           6,
           6,
           7,
           7,
           8,
           8,
           9,
           9,
           10,
           10,
           10,
           10,
           10,
           10,
           11,
           11,
           11,
           11,
           11,
           11,
           11,
           11,
           11,
           11,
           12,
           12,
           13,
           13,
           14,
           14,
           15,
           15,
           15,
           15,
           15,
           15,
           15,
           15,
           16,
           16,
           16,
           16,
           16,
           16,
           16,
           16,
           16,
           16,
           17,
           17,
           18,
           18,
           19,
           19,
           19,
           19,
           19,
           19,
           19,
           19,
           19,
           19,
           20,
           20,
           20,
           20,
           21,
           21,
           21,
           21,
           22,
           22,
           23,
           23,
           24,
           24,
           25,
           25,
           26,
           26,
           26,
           26,
           26,
           26,
           26,
           26,
           27,
           27,
           27,
           27,
           28,
           28,
           28,
           28,
           29,
           29,
           30,
           30,
           30,
           30,
           30,
           30,
           30,
           30,
           31,
           31,
           32,
           32,
           33,
           33,
           34,
           34,
           35,
           35,
           35,
           35,
           35,
           35,
           35,
           35,
           35,
           35,
           35,
           36,
           36,
           36,
           36,
           36,
           36,
           36,
           37,
           37,
           37,
           37,
           38,
           39,
           39,
           39,
           39,
           39,
           39,
           39,
           39,
           39,
           39,
           39,
           39,
           39,
           39,
           39,
           39,
           39,
           39,
           39,
           39,
           39,
           39,
           40,
           40,
           41,
           41,
           41,
           41,
           41,
           41,
           41,
           41,
           41,
           41,
           42,
           42,
           42,
           42,
           42,
           42,
           42,
           42,
           42,
           42,
           42,
           42,
           42,
           42,
           42,
           43,
           43,
           43,
           43,
           44,
           44,
           45,
           46,
           46,
           47,
           48,
           49,
           50,
           51,
           52,
           52,
           52,
           52,
           53,
           53,
           53,
           53,
           54,
           54,
           55,
           55,
           56,
           56,
           57,
           57,
           58,
           58
          ],
          "target": [
           59,
           60,
           59,
           60,
           59,
           60,
           59,
           60,
           59,
           60,
           59,
           60,
           59,
           60,
           59,
           60,
           59,
           60,
           0,
           0,
           1,
           1,
           2,
           2,
           3,
           3,
           4,
           46,
           52,
           52,
           53,
           53,
           54,
           55,
           56,
           57,
           58,
           5,
           60,
           5,
           60,
           5,
           60,
           5,
           60,
           5,
           60,
           5,
           60,
           5,
           60,
           5,
           60,
           5,
           60,
           5,
           60,
           5,
           60,
           5,
           60,
           5,
           60,
           5,
           60,
           5,
           60,
           5,
           60,
           5,
           60,
           5,
           60,
           5,
           60,
           5,
           60,
           5,
           60,
           5,
           60,
           5,
           60,
           5,
           60,
           5,
           60,
           5,
           60,
           5,
           60,
           5,
           60,
           5,
           60,
           5,
           60,
           5,
           60,
           5,
           60,
           5,
           60,
           5,
           60,
           5,
           60,
           5,
           60,
           5,
           60,
           5,
           60,
           5,
           60,
           5,
           60,
           5,
           60,
           5,
           60,
           5,
           60,
           5,
           60,
           5,
           60,
           5,
           60,
           5,
           60,
           5,
           60,
           5,
           60,
           5,
           60,
           5,
           60,
           5,
           60,
           5,
           60,
           5,
           60,
           5,
           60,
           5,
           60,
           5,
           60,
           4,
           6,
           6,
           7,
           8,
           9,
           10,
           10,
           10,
           54,
           55,
           4,
           11,
           11,
           11,
           11,
           11,
           46,
           4,
           12,
           13,
           54,
           14,
           1,
           1,
           4,
           15,
           15,
           15,
           15,
           16,
           16,
           16,
           16,
           16,
           17,
           18,
           19,
           19,
           19,
           19,
           19,
           46,
           54,
           55,
           20,
           20,
           21,
           21,
           22,
           23,
           24,
           25,
           26,
           26,
           26,
           26,
           1,
           1,
           4,
           27,
           27,
           28,
           28,
           29,
           30,
           30,
           30,
           30,
           46,
           54,
           55,
           4,
           31,
           32,
           33,
           4,
           34,
           35,
           59,
           60,
           36,
           36,
           39,
           42,
           42,
           59,
           60,
           59,
           60,
           59,
           60,
           59,
           60,
           59,
           60,
           59,
           60,
           59,
           60,
           59,
           60,
           59,
           60
          ],
          "value": [
           2.3825616978515036,
           1.2829178373046535,
           5.579224124570523,
           3.004197605537971,
           119.40162623431992,
           64.29318335694148,
           179.2979586355041,
           96.54505464988681,
           1.1425144140819794,
           0.6152000691210611,
           1.049516350216823,
           0.5651241885782858,
           1.1112996196946732,
           0.5983921029125101,
           1.094912299274839,
           0.5895681611479839,
           3027.5283960654374,
           1630.2075978813893,
           3.665479535156161,
           8.5834217301085,
           157.70100485428904,
           241.6243135053991,
           1.7577144832030502,
           1.6146405387951168,
           1.7096917226072001,
           1.6844804604228372,
           2019.2756,
           1250.5529,
           70.97701848422764,
           70.87248129964638,
           130.70499551771965,
           129.44007970189617,
           1925.8408,
           6.1655,
           2.181490149911588,
           6.236083863528474,
           7.757832144545659,
           0.3596134246575341,
           0.1932687671232877,
           7.188409402739726,
           3.691634432876712,
           20.02282952853291,
           6.543364992015032,
           0.0144727452054794,
           0.0201354739726027,
           52.709464637811,
           21.317398375887628,
           7.369549216438356,
           1.7716973589041094,
           442.3796570078638,
           49.43471833460192,
           228.17097106390153,
           58.737837155276544,
           295.1635734246575,
           134.0563115068493,
           818.7013098262546,
           283.5951942833345,
           3.342661523287671,
           1.428478202739726,
           273.68833090410953,
           144.7640088219178,
           3920.277175198671,
           1835.1312905547536,
           147.6215992255319,
           85.2693103635092,
           1539.2312114193703,
           889.0902707724105,
           10879.92484147763,
           6234.279005097713,
           66.0563421150685,
           53.30473185753424,
           2709.067634506951,
           1907.6729271368847,
           94.84685591398176,
           68.30780435999084,
           7214.433198872534,
           5602.212091538425,
           1.3402714410958902,
           0.4059532164383561,
           5798.947671145722,
           4507.178054881673,
           8.64648119336769,
           4.265524286084365,
           1.2670468712328766,
           0.5449010739726027,
           22.20375354383075,
           9.802317689045957,
           14.804389140738811,
           11.803479352411873,
           44.39087568390073,
           20.23122568596228,
           8.67212805479452,
           3.518145917808218,
           158.7429018551101,
           20.801341980506354,
           436.0974099400809,
           178.23135718320663,
           7.808838367123287,
           3.3791232767123285,
           100.68067757226167,
           36.23668681129997,
           357.25521473972606,
           172.98732498630136,
           785.4722660712329,
           380.3352380383562,
           45.459615324618035,
           13.905820291820326,
           1.6262042630136988,
           0.9781409424657533,
           100.97711705242568,
           35.07659801606747,
           0.8461131998041573,
           0.5239443344424173,
           22.50260533094365,
           7.7028850800152515,
           0.2014324273972602,
           0.1163538739726027,
           2.8119558684931505,
           0.5044057753424654,
           75.26775883466347,
           31.026383631089946,
           2.769862575342466,
           1.102403178082192,
           21.79758048485975,
           5.3426688302087415,
           0.4761066082191778,
           0.2255098301369861,
           0.0098899478423886,
           0.0064306001028163,
           1.0559173705065474,
           0.323603177438655,
           0.021115616438356,
           0.0014021917808218001,
           0.8000286490319546,
           0.3859439537077672,
           0.2302031561643834,
           0.0967886246575341,
           21.019621719476824,
           4.722238554495783,
           0.12261526575342449,
           0.0614066520547944,
           5.013602845296495,
           2.2552546889500773,
           11.690640208219174,
           6.752740613698628,
           6163.4258561535025,
           3560.1213630245798,
           336.057477397841,
           194.11361575284403,
           8960.711094781984,
           5175.952968231714,
           82.39284182345787,
           0.5528821917808219,
           10.880043835616439,
           11.201706849315068,
           0.0346082191780822,
           42.85685479452055,
           9.141246575342466,
           327.86980547945205,
           186.4113698630137,
           331.6253796833638,
           666.2054458609114,
           0.838025737936452,
           429.21988493150684,
           360.7149945205479,
           4.771139726027397,
           418.4523397260274,
           4330.55146849315,
           306.29742469500883,
           13.869135590165795,
           84.22832602739726,
           316.29040000000003,
           6.435194128199487,
           3792.124002739726,
           2.1649332604926794,
           3.5546501782185174,
           1541.3194129845272,
           119.36107397260275,
           1037.8070273972603,
           115.15705205479452,
           2903.5938520547943,
           1.7462246575342464,
           709.6323589041097,
           6.6274,
           1.8119479452054792,
           27.775753424657534,
           6.107136986301369,
           43.829432876712325,
           12.19027397260274,
           59.21258630136987,
           182.8796219178082,
           11.187961643835614,
           116.66888493150685,
           4419.150339392897,
           2440.678115191996,
           382.23063280687086,
           530.2425397260274,
           1165.807504109589,
           33.35966301369863,
           2.6043452054794525,
           66.95633424657534,
           0.8172383561643835,
           15.135372602739727,
           0.317786301369863,
           3.3163616438356165,
           45.366087671232876,
           3.872265753424658,
           20.216106849315068,
           23.828871476479666,
           30.664049601773257,
           466.790867081949,
           0.7016164383561643,
           0.0093068493150683,
           1.3540493150684922,
           0.022517808219178,
           1.0479342465753412,
           0.3269917808219177,
           25.56266575342466,
           0.18402191780821908,
           5.904558904109588,
           2844.5791128360647,
           196.70936218851352,
           15911.239125990754,
           64.43844568289677,
           18.443380821917806,
           448.3212821917808,
           61.19802739726027,
           468.81166504589396,
           1108.7249616438355,
           181.63835616438357,
           4322.084090692745,
           4498.495686231225,
           23822.735925397257,
           2381.7291095068495,
           15570.279642351268,
           2647.942436572006,
           4508.658743352335,
           46.13506201474796,
           24.84195646947966,
           46.06711284477015,
           24.805368454876227,
           84.95824708651776,
           45.74674843120186,
           84.1360518062325,
           45.30402789566365,
           3185.8377532748473,
           1715.4510979172255,
           3562.8265479782926,
           13403.014156680245,
           1.417968597442531,
           0.7635215524690502,
           4.053454511293506,
           2.1826293522349514,
           5.042590893954674,
           2.715241250590963
          ]
         },
         "node": {
          "color": "rgba(209, 155, 30, 1)",
          "label": [
           "AAQ-pumping-fresh",
           "ACI-pumping-fresh",
           "AGI-pumping-fresh",
           "ALV-pumping-fresh",
           "COM",
           "EGD",
           "EGS-biomass-combinedcycle",
           "EGS-biomass-combustionturbine",
           "EGS-biomass-fuelcell",
           "EGS-biomass-internalcombustion",
           "EGS-biomass-steam",
           "EGS-coal-steam",
           "EGS-geothermal-binarycycle",
           "EGS-geothermal-steam",
           "EGS-hydro-instream",
           "EGS-natgas-combinedcycle",
           "EGS-natgas-combustionturbine",
           "EGS-natgas-fuelcell",
           "EGS-natgas-internalcombustion",
           "EGS-natgas-steam",
           "EGS-nuclear-steam",
           "EGS-other-combinedcycle",
           "EGS-other-combustionturbine",
           "EGS-other-fuelcell",
           "EGS-other-internalcombustion",
           "EGS-other-other",
           "EGS-other-steam",
           "EGS-petroleum-combinedcycle",
           "EGS-petroleum-combustionturbine",
           "EGS-petroleum-internalcombustion",
           "EGS-petroleum-steam",
           "EGS-solar-csp",
           "EGS-solar-photovoltaic",
           "EGS-solar-steam",
           "EGS-wind-onshore",
           "EPD-biomass",
           "EPD-coal",
           "EPD-geothermal",
           "EPD-hydro",
           "EPD-natgas",
           "EPD-nuclear",
           "EPD-other",
           "EPD-petroleum",
           "EPD-solar",
           "EPD-wind",
           "IND-biomass-ethanol",
           "IND",
           "MIN-coal-surface",
           "MIN-coal-underground",
           "MIN-natgas-unconventional",
           "MIN-petroleum-conventional",
           "MIN-petroleum-unconventional",
           "PWS-pumping-fresh",
           "PWS-treatment-fresh",
           "RES",
           "TRA",
           "WWD-treatment-advanced",
           "WWD-treatment-primary",
           "WWD-treatment-secondary",
           "ESV",
           "REJ"
          ],
          "line": {
           "color": "black",
           "width": 1
          },
          "pad": 20,
          "thickness": 10
         },
         "type": "sankey",
         "valuesuffix": "bbtu"
        }
       ],
       "layout": {
        "font": {
         "size": 12
        },
        "template": {
         "data": {
          "bar": [
           {
            "error_x": {
             "color": "#2a3f5f"
            },
            "error_y": {
             "color": "#2a3f5f"
            },
            "marker": {
             "line": {
              "color": "#E5ECF6",
              "width": 0.5
             },
             "pattern": {
              "fillmode": "overlay",
              "size": 10,
              "solidity": 0.2
             }
            },
            "type": "bar"
           }
          ],
          "barpolar": [
           {
            "marker": {
             "line": {
              "color": "#E5ECF6",
              "width": 0.5
             },
             "pattern": {
              "fillmode": "overlay",
              "size": 10,
              "solidity": 0.2
             }
            },
            "type": "barpolar"
           }
          ],
          "carpet": [
           {
            "aaxis": {
             "endlinecolor": "#2a3f5f",
             "gridcolor": "white",
             "linecolor": "white",
             "minorgridcolor": "white",
             "startlinecolor": "#2a3f5f"
            },
            "baxis": {
             "endlinecolor": "#2a3f5f",
             "gridcolor": "white",
             "linecolor": "white",
             "minorgridcolor": "white",
             "startlinecolor": "#2a3f5f"
            },
            "type": "carpet"
           }
          ],
          "choropleth": [
           {
            "colorbar": {
             "outlinewidth": 0,
             "ticks": ""
            },
            "type": "choropleth"
           }
          ],
          "contour": [
           {
            "colorbar": {
             "outlinewidth": 0,
             "ticks": ""
            },
            "colorscale": [
             [
              0,
              "#0d0887"
             ],
             [
              0.1111111111111111,
              "#46039f"
             ],
             [
              0.2222222222222222,
              "#7201a8"
             ],
             [
              0.3333333333333333,
              "#9c179e"
             ],
             [
              0.4444444444444444,
              "#bd3786"
             ],
             [
              0.5555555555555556,
              "#d8576b"
             ],
             [
              0.6666666666666666,
              "#ed7953"
             ],
             [
              0.7777777777777778,
              "#fb9f3a"
             ],
             [
              0.8888888888888888,
              "#fdca26"
             ],
             [
              1,
              "#f0f921"
             ]
            ],
            "type": "contour"
           }
          ],
          "contourcarpet": [
           {
            "colorbar": {
             "outlinewidth": 0,
             "ticks": ""
            },
            "type": "contourcarpet"
           }
          ],
          "heatmap": [
           {
            "colorbar": {
             "outlinewidth": 0,
             "ticks": ""
            },
            "colorscale": [
             [
              0,
              "#0d0887"
             ],
             [
              0.1111111111111111,
              "#46039f"
             ],
             [
              0.2222222222222222,
              "#7201a8"
             ],
             [
              0.3333333333333333,
              "#9c179e"
             ],
             [
              0.4444444444444444,
              "#bd3786"
             ],
             [
              0.5555555555555556,
              "#d8576b"
             ],
             [
              0.6666666666666666,
              "#ed7953"
             ],
             [
              0.7777777777777778,
              "#fb9f3a"
             ],
             [
              0.8888888888888888,
              "#fdca26"
             ],
             [
              1,
              "#f0f921"
             ]
            ],
            "type": "heatmap"
           }
          ],
          "heatmapgl": [
           {
            "colorbar": {
             "outlinewidth": 0,
             "ticks": ""
            },
            "colorscale": [
             [
              0,
              "#0d0887"
             ],
             [
              0.1111111111111111,
              "#46039f"
             ],
             [
              0.2222222222222222,
              "#7201a8"
             ],
             [
              0.3333333333333333,
              "#9c179e"
             ],
             [
              0.4444444444444444,
              "#bd3786"
             ],
             [
              0.5555555555555556,
              "#d8576b"
             ],
             [
              0.6666666666666666,
              "#ed7953"
             ],
             [
              0.7777777777777778,
              "#fb9f3a"
             ],
             [
              0.8888888888888888,
              "#fdca26"
             ],
             [
              1,
              "#f0f921"
             ]
            ],
            "type": "heatmapgl"
           }
          ],
          "histogram": [
           {
            "marker": {
             "pattern": {
              "fillmode": "overlay",
              "size": 10,
              "solidity": 0.2
             }
            },
            "type": "histogram"
           }
          ],
          "histogram2d": [
           {
            "colorbar": {
             "outlinewidth": 0,
             "ticks": ""
            },
            "colorscale": [
             [
              0,
              "#0d0887"
             ],
             [
              0.1111111111111111,
              "#46039f"
             ],
             [
              0.2222222222222222,
              "#7201a8"
             ],
             [
              0.3333333333333333,
              "#9c179e"
             ],
             [
              0.4444444444444444,
              "#bd3786"
             ],
             [
              0.5555555555555556,
              "#d8576b"
             ],
             [
              0.6666666666666666,
              "#ed7953"
             ],
             [
              0.7777777777777778,
              "#fb9f3a"
             ],
             [
              0.8888888888888888,
              "#fdca26"
             ],
             [
              1,
              "#f0f921"
             ]
            ],
            "type": "histogram2d"
           }
          ],
          "histogram2dcontour": [
           {
            "colorbar": {
             "outlinewidth": 0,
             "ticks": ""
            },
            "colorscale": [
             [
              0,
              "#0d0887"
             ],
             [
              0.1111111111111111,
              "#46039f"
             ],
             [
              0.2222222222222222,
              "#7201a8"
             ],
             [
              0.3333333333333333,
              "#9c179e"
             ],
             [
              0.4444444444444444,
              "#bd3786"
             ],
             [
              0.5555555555555556,
              "#d8576b"
             ],
             [
              0.6666666666666666,
              "#ed7953"
             ],
             [
              0.7777777777777778,
              "#fb9f3a"
             ],
             [
              0.8888888888888888,
              "#fdca26"
             ],
             [
              1,
              "#f0f921"
             ]
            ],
            "type": "histogram2dcontour"
           }
          ],
          "mesh3d": [
           {
            "colorbar": {
             "outlinewidth": 0,
             "ticks": ""
            },
            "type": "mesh3d"
           }
          ],
          "parcoords": [
           {
            "line": {
             "colorbar": {
              "outlinewidth": 0,
              "ticks": ""
             }
            },
            "type": "parcoords"
           }
          ],
          "pie": [
           {
            "automargin": true,
            "type": "pie"
           }
          ],
          "scatter": [
           {
            "marker": {
             "colorbar": {
              "outlinewidth": 0,
              "ticks": ""
             }
            },
            "type": "scatter"
           }
          ],
          "scatter3d": [
           {
            "line": {
             "colorbar": {
              "outlinewidth": 0,
              "ticks": ""
             }
            },
            "marker": {
             "colorbar": {
              "outlinewidth": 0,
              "ticks": ""
             }
            },
            "type": "scatter3d"
           }
          ],
          "scattercarpet": [
           {
            "marker": {
             "colorbar": {
              "outlinewidth": 0,
              "ticks": ""
             }
            },
            "type": "scattercarpet"
           }
          ],
          "scattergeo": [
           {
            "marker": {
             "colorbar": {
              "outlinewidth": 0,
              "ticks": ""
             }
            },
            "type": "scattergeo"
           }
          ],
          "scattergl": [
           {
            "marker": {
             "colorbar": {
              "outlinewidth": 0,
              "ticks": ""
             }
            },
            "type": "scattergl"
           }
          ],
          "scattermapbox": [
           {
            "marker": {
             "colorbar": {
              "outlinewidth": 0,
              "ticks": ""
             }
            },
            "type": "scattermapbox"
           }
          ],
          "scatterpolar": [
           {
            "marker": {
             "colorbar": {
              "outlinewidth": 0,
              "ticks": ""
             }
            },
            "type": "scatterpolar"
           }
          ],
          "scatterpolargl": [
           {
            "marker": {
             "colorbar": {
              "outlinewidth": 0,
              "ticks": ""
             }
            },
            "type": "scatterpolargl"
           }
          ],
          "scatterternary": [
           {
            "marker": {
             "colorbar": {
              "outlinewidth": 0,
              "ticks": ""
             }
            },
            "type": "scatterternary"
           }
          ],
          "surface": [
           {
            "colorbar": {
             "outlinewidth": 0,
             "ticks": ""
            },
            "colorscale": [
             [
              0,
              "#0d0887"
             ],
             [
              0.1111111111111111,
              "#46039f"
             ],
             [
              0.2222222222222222,
              "#7201a8"
             ],
             [
              0.3333333333333333,
              "#9c179e"
             ],
             [
              0.4444444444444444,
              "#bd3786"
             ],
             [
              0.5555555555555556,
              "#d8576b"
             ],
             [
              0.6666666666666666,
              "#ed7953"
             ],
             [
              0.7777777777777778,
              "#fb9f3a"
             ],
             [
              0.8888888888888888,
              "#fdca26"
             ],
             [
              1,
              "#f0f921"
             ]
            ],
            "type": "surface"
           }
          ],
          "table": [
           {
            "cells": {
             "fill": {
              "color": "#EBF0F8"
             },
             "line": {
              "color": "white"
             }
            },
            "header": {
             "fill": {
              "color": "#C8D4E3"
             },
             "line": {
              "color": "white"
             }
            },
            "type": "table"
           }
          ]
         },
         "layout": {
          "annotationdefaults": {
           "arrowcolor": "#2a3f5f",
           "arrowhead": 0,
           "arrowwidth": 1
          },
          "autotypenumbers": "strict",
          "coloraxis": {
           "colorbar": {
            "outlinewidth": 0,
            "ticks": ""
           }
          },
          "colorscale": {
           "diverging": [
            [
             0,
             "#8e0152"
            ],
            [
             0.1,
             "#c51b7d"
            ],
            [
             0.2,
             "#de77ae"
            ],
            [
             0.3,
             "#f1b6da"
            ],
            [
             0.4,
             "#fde0ef"
            ],
            [
             0.5,
             "#f7f7f7"
            ],
            [
             0.6,
             "#e6f5d0"
            ],
            [
             0.7,
             "#b8e186"
            ],
            [
             0.8,
             "#7fbc41"
            ],
            [
             0.9,
             "#4d9221"
            ],
            [
             1,
             "#276419"
            ]
           ],
           "sequential": [
            [
             0,
             "#0d0887"
            ],
            [
             0.1111111111111111,
             "#46039f"
            ],
            [
             0.2222222222222222,
             "#7201a8"
            ],
            [
             0.3333333333333333,
             "#9c179e"
            ],
            [
             0.4444444444444444,
             "#bd3786"
            ],
            [
             0.5555555555555556,
             "#d8576b"
            ],
            [
             0.6666666666666666,
             "#ed7953"
            ],
            [
             0.7777777777777778,
             "#fb9f3a"
            ],
            [
             0.8888888888888888,
             "#fdca26"
            ],
            [
             1,
             "#f0f921"
            ]
           ],
           "sequentialminus": [
            [
             0,
             "#0d0887"
            ],
            [
             0.1111111111111111,
             "#46039f"
            ],
            [
             0.2222222222222222,
             "#7201a8"
            ],
            [
             0.3333333333333333,
             "#9c179e"
            ],
            [
             0.4444444444444444,
             "#bd3786"
            ],
            [
             0.5555555555555556,
             "#d8576b"
            ],
            [
             0.6666666666666666,
             "#ed7953"
            ],
            [
             0.7777777777777778,
             "#fb9f3a"
            ],
            [
             0.8888888888888888,
             "#fdca26"
            ],
            [
             1,
             "#f0f921"
            ]
           ]
          },
          "colorway": [
           "#636efa",
           "#EF553B",
           "#00cc96",
           "#ab63fa",
           "#FFA15A",
           "#19d3f3",
           "#FF6692",
           "#B6E880",
           "#FF97FF",
           "#FECB52"
          ],
          "font": {
           "color": "#2a3f5f"
          },
          "geo": {
           "bgcolor": "white",
           "lakecolor": "white",
           "landcolor": "#E5ECF6",
           "showlakes": true,
           "showland": true,
           "subunitcolor": "white"
          },
          "hoverlabel": {
           "align": "left"
          },
          "hovermode": "closest",
          "mapbox": {
           "style": "light"
          },
          "paper_bgcolor": "white",
          "plot_bgcolor": "#E5ECF6",
          "polar": {
           "angularaxis": {
            "gridcolor": "white",
            "linecolor": "white",
            "ticks": ""
           },
           "bgcolor": "#E5ECF6",
           "radialaxis": {
            "gridcolor": "white",
            "linecolor": "white",
            "ticks": ""
           }
          },
          "scene": {
           "xaxis": {
            "backgroundcolor": "#E5ECF6",
            "gridcolor": "white",
            "gridwidth": 2,
            "linecolor": "white",
            "showbackground": true,
            "ticks": "",
            "zerolinecolor": "white"
           },
           "yaxis": {
            "backgroundcolor": "#E5ECF6",
            "gridcolor": "white",
            "gridwidth": 2,
            "linecolor": "white",
            "showbackground": true,
            "ticks": "",
            "zerolinecolor": "white"
           },
           "zaxis": {
            "backgroundcolor": "#E5ECF6",
            "gridcolor": "white",
            "gridwidth": 2,
            "linecolor": "white",
            "showbackground": true,
            "ticks": "",
            "zerolinecolor": "white"
           }
          },
          "shapedefaults": {
           "line": {
            "color": "#2a3f5f"
           }
          },
          "ternary": {
           "aaxis": {
            "gridcolor": "white",
            "linecolor": "white",
            "ticks": ""
           },
           "baxis": {
            "gridcolor": "white",
            "linecolor": "white",
            "ticks": ""
           },
           "bgcolor": "#E5ECF6",
           "caxis": {
            "gridcolor": "white",
            "linecolor": "white",
            "ticks": ""
           }
          },
          "title": {
           "x": 0.05
          },
          "xaxis": {
           "automargin": true,
           "gridcolor": "white",
           "linecolor": "white",
           "ticks": "",
           "title": {
            "standoff": 15
           },
           "zerolinecolor": "white",
           "zerolinewidth": 2
          },
          "yaxis": {
           "automargin": true,
           "gridcolor": "white",
           "linecolor": "white",
           "ticks": "",
           "title": {
            "standoff": 15
           },
           "zerolinecolor": "white",
           "zerolinewidth": 2
          }
         }
        },
        "title": {
         "text": "bbtu flows for West"
        }
       }
      },
      "text/html": [
       "<div>                            <div id=\"055c1511-5329-48af-b817-29fe34d2234a\" class=\"plotly-graph-div\" style=\"height:525px; width:100%;\"></div>            <script type=\"text/javascript\">                require([\"plotly\"], function(Plotly) {                    window.PLOTLYENV=window.PLOTLYENV || {};                                    if (document.getElementById(\"055c1511-5329-48af-b817-29fe34d2234a\")) {                    Plotly.newPlot(                        \"055c1511-5329-48af-b817-29fe34d2234a\",                        [{\"link\":{\"color\":\"rgba(252, 230, 112, 1)\",\"source\":[0,0,0,0,1,1,1,1,2,2,2,2,3,3,3,3,4,4,5,5,5,5,5,5,5,5,5,5,5,5,5,5,5,5,5,5,5,6,6,6,6,7,7,8,8,9,9,10,10,10,10,10,10,11,11,11,11,11,11,11,11,11,11,12,12,13,13,14,14,15,15,15,15,15,15,15,15,16,16,16,16,16,16,16,16,16,16,17,17,18,18,19,19,19,19,19,19,19,19,19,19,20,20,20,20,21,21,21,21,22,22,23,23,24,24,25,25,26,26,26,26,26,26,26,26,27,27,27,27,28,28,28,28,29,29,30,30,30,30,30,30,30,30,31,31,32,32,33,33,34,34,35,35,35,35,35,35,35,35,35,35,35,36,36,36,36,36,36,36,37,37,37,37,38,39,39,39,39,39,39,39,39,39,39,39,39,39,39,39,39,39,39,39,39,39,39,40,40,41,41,41,41,41,41,41,41,41,41,42,42,42,42,42,42,42,42,42,42,42,42,42,42,42,43,43,43,43,44,44,45,46,46,47,48,49,50,51,52,52,52,52,53,53,53,53,54,54,55,55,56,56,57,57,58,58],\"target\":[59,60,59,60,59,60,59,60,59,60,59,60,59,60,59,60,59,60,0,0,1,1,2,2,3,3,4,46,52,52,53,53,54,55,56,57,58,5,60,5,60,5,60,5,60,5,60,5,60,5,60,5,60,5,60,5,60,5,60,5,60,5,60,5,60,5,60,5,60,5,60,5,60,5,60,5,60,5,60,5,60,5,60,5,60,5,60,5,60,5,60,5,60,5,60,5,60,5,60,5,60,5,60,5,60,5,60,5,60,5,60,5,60,5,60,5,60,5,60,5,60,5,60,5,60,5,60,5,60,5,60,5,60,5,60,5,60,5,60,5,60,5,60,5,60,5,60,5,60,5,60,4,6,6,7,8,9,10,10,10,54,55,4,11,11,11,11,11,46,4,12,13,54,14,1,1,4,15,15,15,15,16,16,16,16,16,17,18,19,19,19,19,19,46,54,55,20,20,21,21,22,23,24,25,26,26,26,26,1,1,4,27,27,28,28,29,30,30,30,30,46,54,55,4,31,32,33,4,34,35,59,60,36,36,39,42,42,59,60,59,60,59,60,59,60,59,60,59,60,59,60,59,60,59,60],\"value\":[2.3825616978515036,1.2829178373046535,5.579224124570523,3.004197605537971,119.40162623431992,64.29318335694148,179.2979586355041,96.54505464988681,1.1425144140819794,0.6152000691210611,1.049516350216823,0.5651241885782858,1.1112996196946732,0.5983921029125101,1.094912299274839,0.5895681611479839,3027.5283960654374,1630.2075978813893,3.665479535156161,8.5834217301085,157.70100485428904,241.6243135053991,1.7577144832030502,1.6146405387951168,1.7096917226072001,1.6844804604228372,2019.2756,1250.5529,70.97701848422764,70.87248129964638,130.70499551771965,129.44007970189617,1925.8408,6.1655,2.181490149911588,6.236083863528474,7.757832144545659,0.3596134246575341,0.1932687671232877,7.188409402739726,3.691634432876712,20.02282952853291,6.543364992015032,0.0144727452054794,0.0201354739726027,52.709464637811,21.317398375887628,7.369549216438356,1.7716973589041094,442.3796570078638,49.43471833460192,228.17097106390153,58.737837155276544,295.1635734246575,134.0563115068493,818.7013098262546,283.5951942833345,3.342661523287671,1.428478202739726,273.68833090410953,144.7640088219178,3920.277175198671,1835.1312905547536,147.6215992255319,85.2693103635092,1539.2312114193703,889.0902707724105,10879.92484147763,6234.279005097713,66.0563421150685,53.30473185753424,2709.067634506951,1907.6729271368847,94.84685591398176,68.30780435999084,7214.433198872534,5602.212091538425,1.3402714410958902,0.4059532164383561,5798.947671145722,4507.178054881673,8.64648119336769,4.265524286084365,1.2670468712328766,0.5449010739726027,22.20375354383075,9.802317689045957,14.804389140738811,11.803479352411873,44.39087568390073,20.23122568596228,8.67212805479452,3.518145917808218,158.7429018551101,20.801341980506354,436.0974099400809,178.23135718320663,7.808838367123287,3.3791232767123285,100.68067757226167,36.23668681129997,357.25521473972606,172.98732498630136,785.4722660712329,380.3352380383562,45.459615324618035,13.905820291820326,1.6262042630136988,0.9781409424657533,100.97711705242568,35.07659801606747,0.8461131998041573,0.5239443344424173,22.50260533094365,7.7028850800152515,0.2014324273972602,0.1163538739726027,2.8119558684931505,0.5044057753424654,75.26775883466347,31.026383631089946,2.769862575342466,1.102403178082192,21.79758048485975,5.3426688302087415,0.4761066082191778,0.2255098301369861,0.0098899478423886,0.0064306001028163,1.0559173705065474,0.323603177438655,0.021115616438356,0.0014021917808218001,0.8000286490319546,0.3859439537077672,0.2302031561643834,0.0967886246575341,21.019621719476824,4.722238554495783,0.12261526575342449,0.0614066520547944,5.013602845296495,2.2552546889500773,11.690640208219174,6.752740613698628,6163.4258561535025,3560.1213630245798,336.057477397841,194.11361575284403,8960.711094781984,5175.952968231714,82.39284182345787,0.5528821917808219,10.880043835616439,11.201706849315068,0.0346082191780822,42.85685479452055,9.141246575342466,327.86980547945205,186.4113698630137,331.6253796833638,666.2054458609114,0.838025737936452,429.21988493150684,360.7149945205479,4.771139726027397,418.4523397260274,4330.55146849315,306.29742469500883,13.869135590165795,84.22832602739726,316.29040000000003,6.435194128199487,3792.124002739726,2.1649332604926794,3.5546501782185174,1541.3194129845272,119.36107397260275,1037.8070273972603,115.15705205479452,2903.5938520547943,1.7462246575342464,709.6323589041097,6.6274,1.8119479452054792,27.775753424657534,6.107136986301369,43.829432876712325,12.19027397260274,59.21258630136987,182.8796219178082,11.187961643835614,116.66888493150685,4419.150339392897,2440.678115191996,382.23063280687086,530.2425397260274,1165.807504109589,33.35966301369863,2.6043452054794525,66.95633424657534,0.8172383561643835,15.135372602739727,0.317786301369863,3.3163616438356165,45.366087671232876,3.872265753424658,20.216106849315068,23.828871476479666,30.664049601773257,466.790867081949,0.7016164383561643,0.0093068493150683,1.3540493150684922,0.022517808219178,1.0479342465753412,0.3269917808219177,25.56266575342466,0.18402191780821908,5.904558904109588,2844.5791128360647,196.70936218851352,15911.239125990754,64.43844568289677,18.443380821917806,448.3212821917808,61.19802739726027,468.81166504589396,1108.7249616438355,181.63835616438357,4322.084090692745,4498.495686231225,23822.735925397257,2381.7291095068495,15570.279642351268,2647.942436572006,4508.658743352335,46.13506201474796,24.84195646947966,46.06711284477015,24.805368454876227,84.95824708651776,45.74674843120186,84.1360518062325,45.30402789566365,3185.8377532748473,1715.4510979172255,3562.8265479782926,13403.014156680245,1.417968597442531,0.7635215524690502,4.053454511293506,2.1826293522349514,5.042590893954674,2.715241250590963]},\"node\":{\"color\":\"rgba(209, 155, 30, 1)\",\"label\":[\"AAQ-pumping-fresh\",\"ACI-pumping-fresh\",\"AGI-pumping-fresh\",\"ALV-pumping-fresh\",\"COM\",\"EGD\",\"EGS-biomass-combinedcycle\",\"EGS-biomass-combustionturbine\",\"EGS-biomass-fuelcell\",\"EGS-biomass-internalcombustion\",\"EGS-biomass-steam\",\"EGS-coal-steam\",\"EGS-geothermal-binarycycle\",\"EGS-geothermal-steam\",\"EGS-hydro-instream\",\"EGS-natgas-combinedcycle\",\"EGS-natgas-combustionturbine\",\"EGS-natgas-fuelcell\",\"EGS-natgas-internalcombustion\",\"EGS-natgas-steam\",\"EGS-nuclear-steam\",\"EGS-other-combinedcycle\",\"EGS-other-combustionturbine\",\"EGS-other-fuelcell\",\"EGS-other-internalcombustion\",\"EGS-other-other\",\"EGS-other-steam\",\"EGS-petroleum-combinedcycle\",\"EGS-petroleum-combustionturbine\",\"EGS-petroleum-internalcombustion\",\"EGS-petroleum-steam\",\"EGS-solar-csp\",\"EGS-solar-photovoltaic\",\"EGS-solar-steam\",\"EGS-wind-onshore\",\"EPD-biomass\",\"EPD-coal\",\"EPD-geothermal\",\"EPD-hydro\",\"EPD-natgas\",\"EPD-nuclear\",\"EPD-other\",\"EPD-petroleum\",\"EPD-solar\",\"EPD-wind\",\"IND-biomass-ethanol\",\"IND\",\"MIN-coal-surface\",\"MIN-coal-underground\",\"MIN-natgas-unconventional\",\"MIN-petroleum-conventional\",\"MIN-petroleum-unconventional\",\"PWS-pumping-fresh\",\"PWS-treatment-fresh\",\"RES\",\"TRA\",\"WWD-treatment-advanced\",\"WWD-treatment-primary\",\"WWD-treatment-secondary\",\"ESV\",\"REJ\"],\"line\":{\"color\":\"black\",\"width\":1},\"pad\":20,\"thickness\":10},\"type\":\"sankey\",\"valuesuffix\":\"bbtu\"}],                        {\"template\":{\"data\":{\"bar\":[{\"error_x\":{\"color\":\"#2a3f5f\"},\"error_y\":{\"color\":\"#2a3f5f\"},\"marker\":{\"line\":{\"color\":\"#E5ECF6\",\"width\":0.5},\"pattern\":{\"fillmode\":\"overlay\",\"size\":10,\"solidity\":0.2}},\"type\":\"bar\"}],\"barpolar\":[{\"marker\":{\"line\":{\"color\":\"#E5ECF6\",\"width\":0.5},\"pattern\":{\"fillmode\":\"overlay\",\"size\":10,\"solidity\":0.2}},\"type\":\"barpolar\"}],\"carpet\":[{\"aaxis\":{\"endlinecolor\":\"#2a3f5f\",\"gridcolor\":\"white\",\"linecolor\":\"white\",\"minorgridcolor\":\"white\",\"startlinecolor\":\"#2a3f5f\"},\"baxis\":{\"endlinecolor\":\"#2a3f5f\",\"gridcolor\":\"white\",\"linecolor\":\"white\",\"minorgridcolor\":\"white\",\"startlinecolor\":\"#2a3f5f\"},\"type\":\"carpet\"}],\"choropleth\":[{\"colorbar\":{\"outlinewidth\":0,\"ticks\":\"\"},\"type\":\"choropleth\"}],\"contour\":[{\"colorbar\":{\"outlinewidth\":0,\"ticks\":\"\"},\"colorscale\":[[0.0,\"#0d0887\"],[0.1111111111111111,\"#46039f\"],[0.2222222222222222,\"#7201a8\"],[0.3333333333333333,\"#9c179e\"],[0.4444444444444444,\"#bd3786\"],[0.5555555555555556,\"#d8576b\"],[0.6666666666666666,\"#ed7953\"],[0.7777777777777778,\"#fb9f3a\"],[0.8888888888888888,\"#fdca26\"],[1.0,\"#f0f921\"]],\"type\":\"contour\"}],\"contourcarpet\":[{\"colorbar\":{\"outlinewidth\":0,\"ticks\":\"\"},\"type\":\"contourcarpet\"}],\"heatmap\":[{\"colorbar\":{\"outlinewidth\":0,\"ticks\":\"\"},\"colorscale\":[[0.0,\"#0d0887\"],[0.1111111111111111,\"#46039f\"],[0.2222222222222222,\"#7201a8\"],[0.3333333333333333,\"#9c179e\"],[0.4444444444444444,\"#bd3786\"],[0.5555555555555556,\"#d8576b\"],[0.6666666666666666,\"#ed7953\"],[0.7777777777777778,\"#fb9f3a\"],[0.8888888888888888,\"#fdca26\"],[1.0,\"#f0f921\"]],\"type\":\"heatmap\"}],\"heatmapgl\":[{\"colorbar\":{\"outlinewidth\":0,\"ticks\":\"\"},\"colorscale\":[[0.0,\"#0d0887\"],[0.1111111111111111,\"#46039f\"],[0.2222222222222222,\"#7201a8\"],[0.3333333333333333,\"#9c179e\"],[0.4444444444444444,\"#bd3786\"],[0.5555555555555556,\"#d8576b\"],[0.6666666666666666,\"#ed7953\"],[0.7777777777777778,\"#fb9f3a\"],[0.8888888888888888,\"#fdca26\"],[1.0,\"#f0f921\"]],\"type\":\"heatmapgl\"}],\"histogram\":[{\"marker\":{\"pattern\":{\"fillmode\":\"overlay\",\"size\":10,\"solidity\":0.2}},\"type\":\"histogram\"}],\"histogram2d\":[{\"colorbar\":{\"outlinewidth\":0,\"ticks\":\"\"},\"colorscale\":[[0.0,\"#0d0887\"],[0.1111111111111111,\"#46039f\"],[0.2222222222222222,\"#7201a8\"],[0.3333333333333333,\"#9c179e\"],[0.4444444444444444,\"#bd3786\"],[0.5555555555555556,\"#d8576b\"],[0.6666666666666666,\"#ed7953\"],[0.7777777777777778,\"#fb9f3a\"],[0.8888888888888888,\"#fdca26\"],[1.0,\"#f0f921\"]],\"type\":\"histogram2d\"}],\"histogram2dcontour\":[{\"colorbar\":{\"outlinewidth\":0,\"ticks\":\"\"},\"colorscale\":[[0.0,\"#0d0887\"],[0.1111111111111111,\"#46039f\"],[0.2222222222222222,\"#7201a8\"],[0.3333333333333333,\"#9c179e\"],[0.4444444444444444,\"#bd3786\"],[0.5555555555555556,\"#d8576b\"],[0.6666666666666666,\"#ed7953\"],[0.7777777777777778,\"#fb9f3a\"],[0.8888888888888888,\"#fdca26\"],[1.0,\"#f0f921\"]],\"type\":\"histogram2dcontour\"}],\"mesh3d\":[{\"colorbar\":{\"outlinewidth\":0,\"ticks\":\"\"},\"type\":\"mesh3d\"}],\"parcoords\":[{\"line\":{\"colorbar\":{\"outlinewidth\":0,\"ticks\":\"\"}},\"type\":\"parcoords\"}],\"pie\":[{\"automargin\":true,\"type\":\"pie\"}],\"scatter\":[{\"marker\":{\"colorbar\":{\"outlinewidth\":0,\"ticks\":\"\"}},\"type\":\"scatter\"}],\"scatter3d\":[{\"line\":{\"colorbar\":{\"outlinewidth\":0,\"ticks\":\"\"}},\"marker\":{\"colorbar\":{\"outlinewidth\":0,\"ticks\":\"\"}},\"type\":\"scatter3d\"}],\"scattercarpet\":[{\"marker\":{\"colorbar\":{\"outlinewidth\":0,\"ticks\":\"\"}},\"type\":\"scattercarpet\"}],\"scattergeo\":[{\"marker\":{\"colorbar\":{\"outlinewidth\":0,\"ticks\":\"\"}},\"type\":\"scattergeo\"}],\"scattergl\":[{\"marker\":{\"colorbar\":{\"outlinewidth\":0,\"ticks\":\"\"}},\"type\":\"scattergl\"}],\"scattermapbox\":[{\"marker\":{\"colorbar\":{\"outlinewidth\":0,\"ticks\":\"\"}},\"type\":\"scattermapbox\"}],\"scatterpolar\":[{\"marker\":{\"colorbar\":{\"outlinewidth\":0,\"ticks\":\"\"}},\"type\":\"scatterpolar\"}],\"scatterpolargl\":[{\"marker\":{\"colorbar\":{\"outlinewidth\":0,\"ticks\":\"\"}},\"type\":\"scatterpolargl\"}],\"scatterternary\":[{\"marker\":{\"colorbar\":{\"outlinewidth\":0,\"ticks\":\"\"}},\"type\":\"scatterternary\"}],\"surface\":[{\"colorbar\":{\"outlinewidth\":0,\"ticks\":\"\"},\"colorscale\":[[0.0,\"#0d0887\"],[0.1111111111111111,\"#46039f\"],[0.2222222222222222,\"#7201a8\"],[0.3333333333333333,\"#9c179e\"],[0.4444444444444444,\"#bd3786\"],[0.5555555555555556,\"#d8576b\"],[0.6666666666666666,\"#ed7953\"],[0.7777777777777778,\"#fb9f3a\"],[0.8888888888888888,\"#fdca26\"],[1.0,\"#f0f921\"]],\"type\":\"surface\"}],\"table\":[{\"cells\":{\"fill\":{\"color\":\"#EBF0F8\"},\"line\":{\"color\":\"white\"}},\"header\":{\"fill\":{\"color\":\"#C8D4E3\"},\"line\":{\"color\":\"white\"}},\"type\":\"table\"}]},\"layout\":{\"annotationdefaults\":{\"arrowcolor\":\"#2a3f5f\",\"arrowhead\":0,\"arrowwidth\":1},\"autotypenumbers\":\"strict\",\"coloraxis\":{\"colorbar\":{\"outlinewidth\":0,\"ticks\":\"\"}},\"colorscale\":{\"diverging\":[[0,\"#8e0152\"],[0.1,\"#c51b7d\"],[0.2,\"#de77ae\"],[0.3,\"#f1b6da\"],[0.4,\"#fde0ef\"],[0.5,\"#f7f7f7\"],[0.6,\"#e6f5d0\"],[0.7,\"#b8e186\"],[0.8,\"#7fbc41\"],[0.9,\"#4d9221\"],[1,\"#276419\"]],\"sequential\":[[0.0,\"#0d0887\"],[0.1111111111111111,\"#46039f\"],[0.2222222222222222,\"#7201a8\"],[0.3333333333333333,\"#9c179e\"],[0.4444444444444444,\"#bd3786\"],[0.5555555555555556,\"#d8576b\"],[0.6666666666666666,\"#ed7953\"],[0.7777777777777778,\"#fb9f3a\"],[0.8888888888888888,\"#fdca26\"],[1.0,\"#f0f921\"]],\"sequentialminus\":[[0.0,\"#0d0887\"],[0.1111111111111111,\"#46039f\"],[0.2222222222222222,\"#7201a8\"],[0.3333333333333333,\"#9c179e\"],[0.4444444444444444,\"#bd3786\"],[0.5555555555555556,\"#d8576b\"],[0.6666666666666666,\"#ed7953\"],[0.7777777777777778,\"#fb9f3a\"],[0.8888888888888888,\"#fdca26\"],[1.0,\"#f0f921\"]]},\"colorway\":[\"#636efa\",\"#EF553B\",\"#00cc96\",\"#ab63fa\",\"#FFA15A\",\"#19d3f3\",\"#FF6692\",\"#B6E880\",\"#FF97FF\",\"#FECB52\"],\"font\":{\"color\":\"#2a3f5f\"},\"geo\":{\"bgcolor\":\"white\",\"lakecolor\":\"white\",\"landcolor\":\"#E5ECF6\",\"showlakes\":true,\"showland\":true,\"subunitcolor\":\"white\"},\"hoverlabel\":{\"align\":\"left\"},\"hovermode\":\"closest\",\"mapbox\":{\"style\":\"light\"},\"paper_bgcolor\":\"white\",\"plot_bgcolor\":\"#E5ECF6\",\"polar\":{\"angularaxis\":{\"gridcolor\":\"white\",\"linecolor\":\"white\",\"ticks\":\"\"},\"bgcolor\":\"#E5ECF6\",\"radialaxis\":{\"gridcolor\":\"white\",\"linecolor\":\"white\",\"ticks\":\"\"}},\"scene\":{\"xaxis\":{\"backgroundcolor\":\"#E5ECF6\",\"gridcolor\":\"white\",\"gridwidth\":2,\"linecolor\":\"white\",\"showbackground\":true,\"ticks\":\"\",\"zerolinecolor\":\"white\"},\"yaxis\":{\"backgroundcolor\":\"#E5ECF6\",\"gridcolor\":\"white\",\"gridwidth\":2,\"linecolor\":\"white\",\"showbackground\":true,\"ticks\":\"\",\"zerolinecolor\":\"white\"},\"zaxis\":{\"backgroundcolor\":\"#E5ECF6\",\"gridcolor\":\"white\",\"gridwidth\":2,\"linecolor\":\"white\",\"showbackground\":true,\"ticks\":\"\",\"zerolinecolor\":\"white\"}},\"shapedefaults\":{\"line\":{\"color\":\"#2a3f5f\"}},\"ternary\":{\"aaxis\":{\"gridcolor\":\"white\",\"linecolor\":\"white\",\"ticks\":\"\"},\"baxis\":{\"gridcolor\":\"white\",\"linecolor\":\"white\",\"ticks\":\"\"},\"bgcolor\":\"#E5ECF6\",\"caxis\":{\"gridcolor\":\"white\",\"linecolor\":\"white\",\"ticks\":\"\"}},\"title\":{\"x\":0.05},\"xaxis\":{\"automargin\":true,\"gridcolor\":\"white\",\"linecolor\":\"white\",\"ticks\":\"\",\"title\":{\"standoff\":15},\"zerolinecolor\":\"white\",\"zerolinewidth\":2},\"yaxis\":{\"automargin\":true,\"gridcolor\":\"white\",\"linecolor\":\"white\",\"ticks\":\"\",\"title\":{\"standoff\":15},\"zerolinecolor\":\"white\",\"zerolinewidth\":2}}},\"title\":{\"text\":\"bbtu flows for West\"},\"font\":{\"size\":12}},                        {\"responsive\": true}                    ).then(function(){\n",
       "                            \n",
       "var gd = document.getElementById('055c1511-5329-48af-b817-29fe34d2234a');\n",
       "var x = new MutationObserver(function (mutations, observer) {{\n",
       "        var display = window.getComputedStyle(gd).display;\n",
       "        if (!display || display === 'none') {{\n",
       "            console.log([gd, 'removed!']);\n",
       "            Plotly.purge(gd);\n",
       "            observer.disconnect();\n",
       "        }}\n",
       "}});\n",
       "\n",
       "// Listen for the removal of the full notebook cells\n",
       "var notebookContainer = gd.closest('#notebook-container');\n",
       "if (notebookContainer) {{\n",
       "    x.observe(notebookContainer, {childList: true});\n",
       "}}\n",
       "\n",
       "// Listen for the clearing of the current output cell\n",
       "var outputEl = gd.closest('.output');\n",
       "if (outputEl) {{\n",
       "    x.observe(outputEl, {childList: true});\n",
       "}}\n",
       "\n",
       "                        })                };                });            </script>        </div>"
      ]
     },
     "metadata": {},
     "output_type": "display_data"
    }
   ],
   "source": [
    "viz = flow.plot_sankey(data=interconnect, region_name=\"West\", \n",
    "                       unit_type1 = 'mgd', unit_type2='bbtu', output_level=3, strip='total')"
   ]
  },
  {
   "cell_type": "code",
   "execution_count": 26,
   "id": "8479b035",
   "metadata": {},
   "outputs": [
    {
     "data": {
      "text/html": [
       "<div>\n",
       "<style scoped>\n",
       "    .dataframe tbody tr th:only-of-type {\n",
       "        vertical-align: middle;\n",
       "    }\n",
       "\n",
       "    .dataframe tbody tr th {\n",
       "        vertical-align: top;\n",
       "    }\n",
       "\n",
       "    .dataframe thead th {\n",
       "        text-align: right;\n",
       "    }\n",
       "</style>\n",
       "<table border=\"1\" class=\"dataframe\">\n",
       "  <thead>\n",
       "    <tr style=\"text-align: right;\">\n",
       "      <th></th>\n",
       "      <th>region</th>\n",
       "      <th>S1</th>\n",
       "      <th>S2</th>\n",
       "      <th>S3</th>\n",
       "      <th>S4</th>\n",
       "      <th>S5</th>\n",
       "      <th>T1</th>\n",
       "      <th>T2</th>\n",
       "      <th>T3</th>\n",
       "      <th>T4</th>\n",
       "      <th>T5</th>\n",
       "      <th>units</th>\n",
       "      <th>value</th>\n",
       "      <th>STATEFIPS</th>\n",
       "      <th>COUNTYFIPS</th>\n",
       "    </tr>\n",
       "  </thead>\n",
       "  <tbody>\n",
       "    <tr>\n",
       "      <th>0</th>\n",
       "      <td>ERCOT</td>\n",
       "      <td>AAQ</td>\n",
       "      <td>fresh</td>\n",
       "      <td>groundwater</td>\n",
       "      <td>withdrawal</td>\n",
       "      <td>total</td>\n",
       "      <td>CMP</td>\n",
       "      <td>total</td>\n",
       "      <td>total</td>\n",
       "      <td>total</td>\n",
       "      <td>total</td>\n",
       "      <td>mgd</td>\n",
       "      <td>11.266190</td>\n",
       "      <td>1008</td>\n",
       "      <td>5601</td>\n",
       "    </tr>\n",
       "    <tr>\n",
       "      <th>1</th>\n",
       "      <td>ERCOT</td>\n",
       "      <td>AAQ</td>\n",
       "      <td>fresh</td>\n",
       "      <td>groundwater</td>\n",
       "      <td>withdrawal</td>\n",
       "      <td>total</td>\n",
       "      <td>SRD</td>\n",
       "      <td>total</td>\n",
       "      <td>total</td>\n",
       "      <td>total</td>\n",
       "      <td>total</td>\n",
       "      <td>mgd</td>\n",
       "      <td>0.013810</td>\n",
       "      <td>96</td>\n",
       "      <td>526</td>\n",
       "    </tr>\n",
       "    <tr>\n",
       "      <th>2</th>\n",
       "      <td>ERCOT</td>\n",
       "      <td>AAQ</td>\n",
       "      <td>fresh</td>\n",
       "      <td>surfacewater</td>\n",
       "      <td>withdrawal</td>\n",
       "      <td>total</td>\n",
       "      <td>CMP</td>\n",
       "      <td>total</td>\n",
       "      <td>total</td>\n",
       "      <td>total</td>\n",
       "      <td>total</td>\n",
       "      <td>mgd</td>\n",
       "      <td>8.929000</td>\n",
       "      <td>1104</td>\n",
       "      <td>5817</td>\n",
       "    </tr>\n",
       "    <tr>\n",
       "      <th>3</th>\n",
       "      <td>ERCOT</td>\n",
       "      <td>AAQ</td>\n",
       "      <td>fresh</td>\n",
       "      <td>surfacewater</td>\n",
       "      <td>withdrawal</td>\n",
       "      <td>total</td>\n",
       "      <td>SRD</td>\n",
       "      <td>total</td>\n",
       "      <td>total</td>\n",
       "      <td>total</td>\n",
       "      <td>total</td>\n",
       "      <td>mgd</td>\n",
       "      <td>0.271000</td>\n",
       "      <td>96</td>\n",
       "      <td>124</td>\n",
       "    </tr>\n",
       "    <tr>\n",
       "      <th>4</th>\n",
       "      <td>ERCOT</td>\n",
       "      <td>AAQ</td>\n",
       "      <td>pumping</td>\n",
       "      <td>fresh</td>\n",
       "      <td>groundwater</td>\n",
       "      <td>total</td>\n",
       "      <td>ESV</td>\n",
       "      <td>total</td>\n",
       "      <td>total</td>\n",
       "      <td>total</td>\n",
       "      <td>total</td>\n",
       "      <td>bbtu</td>\n",
       "      <td>0.040824</td>\n",
       "      <td>1008</td>\n",
       "      <td>5601</td>\n",
       "    </tr>\n",
       "    <tr>\n",
       "      <th>...</th>\n",
       "      <td>...</td>\n",
       "      <td>...</td>\n",
       "      <td>...</td>\n",
       "      <td>...</td>\n",
       "      <td>...</td>\n",
       "      <td>...</td>\n",
       "      <td>...</td>\n",
       "      <td>...</td>\n",
       "      <td>...</td>\n",
       "      <td>...</td>\n",
       "      <td>...</td>\n",
       "      <td>...</td>\n",
       "      <td>...</td>\n",
       "      <td>...</td>\n",
       "      <td>...</td>\n",
       "    </tr>\n",
       "    <tr>\n",
       "      <th>1961</th>\n",
       "      <td>West</td>\n",
       "      <td>WWS</td>\n",
       "      <td>total</td>\n",
       "      <td>total</td>\n",
       "      <td>total</td>\n",
       "      <td>total</td>\n",
       "      <td>WWD</td>\n",
       "      <td>advanced</td>\n",
       "      <td>municipal</td>\n",
       "      <td>total</td>\n",
       "      <td>total</td>\n",
       "      <td>mgd</td>\n",
       "      <td>236.739331</td>\n",
       "      <td>3343</td>\n",
       "      <td>7136</td>\n",
       "    </tr>\n",
       "    <tr>\n",
       "      <th>1962</th>\n",
       "      <td>West</td>\n",
       "      <td>WWS</td>\n",
       "      <td>total</td>\n",
       "      <td>total</td>\n",
       "      <td>total</td>\n",
       "      <td>total</td>\n",
       "      <td>WWD</td>\n",
       "      <td>primary</td>\n",
       "      <td>infiltration</td>\n",
       "      <td>total</td>\n",
       "      <td>total</td>\n",
       "      <td>mgd</td>\n",
       "      <td>16.456903</td>\n",
       "      <td>1171</td>\n",
       "      <td>2434</td>\n",
       "    </tr>\n",
       "    <tr>\n",
       "      <th>1963</th>\n",
       "      <td>West</td>\n",
       "      <td>WWS</td>\n",
       "      <td>total</td>\n",
       "      <td>total</td>\n",
       "      <td>total</td>\n",
       "      <td>total</td>\n",
       "      <td>WWD</td>\n",
       "      <td>primary</td>\n",
       "      <td>municipal</td>\n",
       "      <td>total</td>\n",
       "      <td>total</td>\n",
       "      <td>mgd</td>\n",
       "      <td>578.183911</td>\n",
       "      <td>10424</td>\n",
       "      <td>17373</td>\n",
       "    </tr>\n",
       "    <tr>\n",
       "      <th>1964</th>\n",
       "      <td>West</td>\n",
       "      <td>WWS</td>\n",
       "      <td>total</td>\n",
       "      <td>total</td>\n",
       "      <td>total</td>\n",
       "      <td>total</td>\n",
       "      <td>WWD</td>\n",
       "      <td>secondary</td>\n",
       "      <td>infiltration</td>\n",
       "      <td>total</td>\n",
       "      <td>total</td>\n",
       "      <td>mgd</td>\n",
       "      <td>16.456903</td>\n",
       "      <td>1171</td>\n",
       "      <td>2434</td>\n",
       "    </tr>\n",
       "    <tr>\n",
       "      <th>1965</th>\n",
       "      <td>West</td>\n",
       "      <td>WWS</td>\n",
       "      <td>total</td>\n",
       "      <td>total</td>\n",
       "      <td>total</td>\n",
       "      <td>total</td>\n",
       "      <td>WWD</td>\n",
       "      <td>secondary</td>\n",
       "      <td>municipal</td>\n",
       "      <td>total</td>\n",
       "      <td>total</td>\n",
       "      <td>mgd</td>\n",
       "      <td>578.183911</td>\n",
       "      <td>10424</td>\n",
       "      <td>17373</td>\n",
       "    </tr>\n",
       "  </tbody>\n",
       "</table>\n",
       "<p>1966 rows × 15 columns</p>\n",
       "</div>"
      ],
      "text/plain": [
       "     region   S1       S2            S3           S4     S5   T1         T2  \\\n",
       "0     ERCOT  AAQ    fresh   groundwater   withdrawal  total  CMP      total   \n",
       "1     ERCOT  AAQ    fresh   groundwater   withdrawal  total  SRD      total   \n",
       "2     ERCOT  AAQ    fresh  surfacewater   withdrawal  total  CMP      total   \n",
       "3     ERCOT  AAQ    fresh  surfacewater   withdrawal  total  SRD      total   \n",
       "4     ERCOT  AAQ  pumping         fresh  groundwater  total  ESV      total   \n",
       "...     ...  ...      ...           ...          ...    ...  ...        ...   \n",
       "1961   West  WWS    total         total        total  total  WWD   advanced   \n",
       "1962   West  WWS    total         total        total  total  WWD    primary   \n",
       "1963   West  WWS    total         total        total  total  WWD    primary   \n",
       "1964   West  WWS    total         total        total  total  WWD  secondary   \n",
       "1965   West  WWS    total         total        total  total  WWD  secondary   \n",
       "\n",
       "                T3     T4     T5 units       value  STATEFIPS  COUNTYFIPS  \n",
       "0            total  total  total   mgd   11.266190       1008        5601  \n",
       "1            total  total  total   mgd    0.013810         96         526  \n",
       "2            total  total  total   mgd    8.929000       1104        5817  \n",
       "3            total  total  total   mgd    0.271000         96         124  \n",
       "4            total  total  total  bbtu    0.040824       1008        5601  \n",
       "...            ...    ...    ...   ...         ...        ...         ...  \n",
       "1961     municipal  total  total   mgd  236.739331       3343        7136  \n",
       "1962  infiltration  total  total   mgd   16.456903       1171        2434  \n",
       "1963     municipal  total  total   mgd  578.183911      10424       17373  \n",
       "1964  infiltration  total  total   mgd   16.456903       1171        2434  \n",
       "1965     municipal  total  total   mgd  578.183911      10424       17373  \n",
       "\n",
       "[1966 rows x 15 columns]"
      ]
     },
     "execution_count": 26,
     "metadata": {},
     "output_type": "execute_result"
    }
   ],
   "source": [
    "interconnect"
   ]
  },
  {
   "cell_type": "code",
   "execution_count": 5,
   "id": "84799f26-242d-457a-9825-2f153b6383d0",
   "metadata": {},
   "outputs": [
    {
     "name": "stdout",
     "output_type": "stream",
     "text": [
      "WSW = Water Supply Withdrawals\n",
      "WSI = Water Supply Imports\n"
     ]
    },
    {
     "data": {
      "application/vnd.plotly.v1+json": {
       "config": {
        "plotlyServerURL": "https://plot.ly"
       },
       "data": [
        {
         "link": {
          "color": "rgba(102, 195, 216, 0.7)",
          "source": [
           0,
           1,
           0,
           1,
           2,
           2,
           3,
           0,
           3,
           0,
           2,
           4,
           5,
           5,
           6,
           6,
           7,
           7,
           8,
           8,
           9,
           9,
           10,
           10,
           11,
           11,
           12,
           12,
           13,
           13,
           13,
           13
          ],
          "target": [
           5,
           6,
           7,
           8,
           9,
           10,
           2,
           3,
           14,
           11,
           12,
           13,
           15,
           16,
           15,
           16,
           15,
           17,
           15,
           17,
           15,
           4,
           15,
           4,
           15,
           17,
           15,
           4,
           15,
           18,
           19,
           17
          ],
          "value": [
           0.02,
           0.02,
           0.08,
           0.01,
           0.0279448621553884,
           0.0194237155537178,
           0.0973685777091063,
           0.65,
           0.5526314222908937,
           0.3,
           0.05,
           0.0566666666666666,
           0.016818890390478056,
           0.003181109609521942,
           0.016818890390478056,
           0.003181109609521942,
           0.05894736842105264,
           0.021052631578947358,
           0.00736842105263158,
           0.0026315789473684197,
           0.0028596500756933253,
           0.025085212079695073,
           0.0025827360772405993,
           0.016840979476477197,
           0.02964705882352941,
           0.2703529411764706,
           0.004941176470588235,
           0.04505882352941176,
           0.00283333333333333,
           0.010766666666666654,
           0.0045333333333333285,
           0.038533333333333294
          ]
         },
         "node": {
          "color": "rgba(63, 125, 152, 1)",
          "label": [
           "WSW-fresh-groundwater",
           "WSW-fresh-surfacewater",
           "PWD",
           "PWS-fresh-groundwater",
           "WWS",
           "AGI-fresh-groundwater",
           "AGI-fresh-surfacewater",
           "ALV-fresh-groundwater",
           "ALV-fresh-surfacewater",
           "COM-public",
           "IND-public",
           "RES-fresh-groundwater",
           "RES-public",
           "WWD-advanced-municipal",
           "PWX",
           "CMP",
           "CVL",
           "SRD",
           "GWD",
           "IRX"
          ],
          "line": {
           "color": "black",
           "width": 1
          },
          "pad": 40,
          "thickness": 10
         },
         "type": "sankey",
         "valuesuffix": "mgd"
        }
       ],
       "layout": {
        "font": {
         "size": 12
        },
        "template": {
         "data": {
          "bar": [
           {
            "error_x": {
             "color": "#2a3f5f"
            },
            "error_y": {
             "color": "#2a3f5f"
            },
            "marker": {
             "line": {
              "color": "#E5ECF6",
              "width": 0.5
             },
             "pattern": {
              "fillmode": "overlay",
              "size": 10,
              "solidity": 0.2
             }
            },
            "type": "bar"
           }
          ],
          "barpolar": [
           {
            "marker": {
             "line": {
              "color": "#E5ECF6",
              "width": 0.5
             },
             "pattern": {
              "fillmode": "overlay",
              "size": 10,
              "solidity": 0.2
             }
            },
            "type": "barpolar"
           }
          ],
          "carpet": [
           {
            "aaxis": {
             "endlinecolor": "#2a3f5f",
             "gridcolor": "white",
             "linecolor": "white",
             "minorgridcolor": "white",
             "startlinecolor": "#2a3f5f"
            },
            "baxis": {
             "endlinecolor": "#2a3f5f",
             "gridcolor": "white",
             "linecolor": "white",
             "minorgridcolor": "white",
             "startlinecolor": "#2a3f5f"
            },
            "type": "carpet"
           }
          ],
          "choropleth": [
           {
            "colorbar": {
             "outlinewidth": 0,
             "ticks": ""
            },
            "type": "choropleth"
           }
          ],
          "contour": [
           {
            "colorbar": {
             "outlinewidth": 0,
             "ticks": ""
            },
            "colorscale": [
             [
              0,
              "#0d0887"
             ],
             [
              0.1111111111111111,
              "#46039f"
             ],
             [
              0.2222222222222222,
              "#7201a8"
             ],
             [
              0.3333333333333333,
              "#9c179e"
             ],
             [
              0.4444444444444444,
              "#bd3786"
             ],
             [
              0.5555555555555556,
              "#d8576b"
             ],
             [
              0.6666666666666666,
              "#ed7953"
             ],
             [
              0.7777777777777778,
              "#fb9f3a"
             ],
             [
              0.8888888888888888,
              "#fdca26"
             ],
             [
              1,
              "#f0f921"
             ]
            ],
            "type": "contour"
           }
          ],
          "contourcarpet": [
           {
            "colorbar": {
             "outlinewidth": 0,
             "ticks": ""
            },
            "type": "contourcarpet"
           }
          ],
          "heatmap": [
           {
            "colorbar": {
             "outlinewidth": 0,
             "ticks": ""
            },
            "colorscale": [
             [
              0,
              "#0d0887"
             ],
             [
              0.1111111111111111,
              "#46039f"
             ],
             [
              0.2222222222222222,
              "#7201a8"
             ],
             [
              0.3333333333333333,
              "#9c179e"
             ],
             [
              0.4444444444444444,
              "#bd3786"
             ],
             [
              0.5555555555555556,
              "#d8576b"
             ],
             [
              0.6666666666666666,
              "#ed7953"
             ],
             [
              0.7777777777777778,
              "#fb9f3a"
             ],
             [
              0.8888888888888888,
              "#fdca26"
             ],
             [
              1,
              "#f0f921"
             ]
            ],
            "type": "heatmap"
           }
          ],
          "heatmapgl": [
           {
            "colorbar": {
             "outlinewidth": 0,
             "ticks": ""
            },
            "colorscale": [
             [
              0,
              "#0d0887"
             ],
             [
              0.1111111111111111,
              "#46039f"
             ],
             [
              0.2222222222222222,
              "#7201a8"
             ],
             [
              0.3333333333333333,
              "#9c179e"
             ],
             [
              0.4444444444444444,
              "#bd3786"
             ],
             [
              0.5555555555555556,
              "#d8576b"
             ],
             [
              0.6666666666666666,
              "#ed7953"
             ],
             [
              0.7777777777777778,
              "#fb9f3a"
             ],
             [
              0.8888888888888888,
              "#fdca26"
             ],
             [
              1,
              "#f0f921"
             ]
            ],
            "type": "heatmapgl"
           }
          ],
          "histogram": [
           {
            "marker": {
             "pattern": {
              "fillmode": "overlay",
              "size": 10,
              "solidity": 0.2
             }
            },
            "type": "histogram"
           }
          ],
          "histogram2d": [
           {
            "colorbar": {
             "outlinewidth": 0,
             "ticks": ""
            },
            "colorscale": [
             [
              0,
              "#0d0887"
             ],
             [
              0.1111111111111111,
              "#46039f"
             ],
             [
              0.2222222222222222,
              "#7201a8"
             ],
             [
              0.3333333333333333,
              "#9c179e"
             ],
             [
              0.4444444444444444,
              "#bd3786"
             ],
             [
              0.5555555555555556,
              "#d8576b"
             ],
             [
              0.6666666666666666,
              "#ed7953"
             ],
             [
              0.7777777777777778,
              "#fb9f3a"
             ],
             [
              0.8888888888888888,
              "#fdca26"
             ],
             [
              1,
              "#f0f921"
             ]
            ],
            "type": "histogram2d"
           }
          ],
          "histogram2dcontour": [
           {
            "colorbar": {
             "outlinewidth": 0,
             "ticks": ""
            },
            "colorscale": [
             [
              0,
              "#0d0887"
             ],
             [
              0.1111111111111111,
              "#46039f"
             ],
             [
              0.2222222222222222,
              "#7201a8"
             ],
             [
              0.3333333333333333,
              "#9c179e"
             ],
             [
              0.4444444444444444,
              "#bd3786"
             ],
             [
              0.5555555555555556,
              "#d8576b"
             ],
             [
              0.6666666666666666,
              "#ed7953"
             ],
             [
              0.7777777777777778,
              "#fb9f3a"
             ],
             [
              0.8888888888888888,
              "#fdca26"
             ],
             [
              1,
              "#f0f921"
             ]
            ],
            "type": "histogram2dcontour"
           }
          ],
          "mesh3d": [
           {
            "colorbar": {
             "outlinewidth": 0,
             "ticks": ""
            },
            "type": "mesh3d"
           }
          ],
          "parcoords": [
           {
            "line": {
             "colorbar": {
              "outlinewidth": 0,
              "ticks": ""
             }
            },
            "type": "parcoords"
           }
          ],
          "pie": [
           {
            "automargin": true,
            "type": "pie"
           }
          ],
          "scatter": [
           {
            "marker": {
             "colorbar": {
              "outlinewidth": 0,
              "ticks": ""
             }
            },
            "type": "scatter"
           }
          ],
          "scatter3d": [
           {
            "line": {
             "colorbar": {
              "outlinewidth": 0,
              "ticks": ""
             }
            },
            "marker": {
             "colorbar": {
              "outlinewidth": 0,
              "ticks": ""
             }
            },
            "type": "scatter3d"
           }
          ],
          "scattercarpet": [
           {
            "marker": {
             "colorbar": {
              "outlinewidth": 0,
              "ticks": ""
             }
            },
            "type": "scattercarpet"
           }
          ],
          "scattergeo": [
           {
            "marker": {
             "colorbar": {
              "outlinewidth": 0,
              "ticks": ""
             }
            },
            "type": "scattergeo"
           }
          ],
          "scattergl": [
           {
            "marker": {
             "colorbar": {
              "outlinewidth": 0,
              "ticks": ""
             }
            },
            "type": "scattergl"
           }
          ],
          "scattermapbox": [
           {
            "marker": {
             "colorbar": {
              "outlinewidth": 0,
              "ticks": ""
             }
            },
            "type": "scattermapbox"
           }
          ],
          "scatterpolar": [
           {
            "marker": {
             "colorbar": {
              "outlinewidth": 0,
              "ticks": ""
             }
            },
            "type": "scatterpolar"
           }
          ],
          "scatterpolargl": [
           {
            "marker": {
             "colorbar": {
              "outlinewidth": 0,
              "ticks": ""
             }
            },
            "type": "scatterpolargl"
           }
          ],
          "scatterternary": [
           {
            "marker": {
             "colorbar": {
              "outlinewidth": 0,
              "ticks": ""
             }
            },
            "type": "scatterternary"
           }
          ],
          "surface": [
           {
            "colorbar": {
             "outlinewidth": 0,
             "ticks": ""
            },
            "colorscale": [
             [
              0,
              "#0d0887"
             ],
             [
              0.1111111111111111,
              "#46039f"
             ],
             [
              0.2222222222222222,
              "#7201a8"
             ],
             [
              0.3333333333333333,
              "#9c179e"
             ],
             [
              0.4444444444444444,
              "#bd3786"
             ],
             [
              0.5555555555555556,
              "#d8576b"
             ],
             [
              0.6666666666666666,
              "#ed7953"
             ],
             [
              0.7777777777777778,
              "#fb9f3a"
             ],
             [
              0.8888888888888888,
              "#fdca26"
             ],
             [
              1,
              "#f0f921"
             ]
            ],
            "type": "surface"
           }
          ],
          "table": [
           {
            "cells": {
             "fill": {
              "color": "#EBF0F8"
             },
             "line": {
              "color": "white"
             }
            },
            "header": {
             "fill": {
              "color": "#C8D4E3"
             },
             "line": {
              "color": "white"
             }
            },
            "type": "table"
           }
          ]
         },
         "layout": {
          "annotationdefaults": {
           "arrowcolor": "#2a3f5f",
           "arrowhead": 0,
           "arrowwidth": 1
          },
          "autotypenumbers": "strict",
          "coloraxis": {
           "colorbar": {
            "outlinewidth": 0,
            "ticks": ""
           }
          },
          "colorscale": {
           "diverging": [
            [
             0,
             "#8e0152"
            ],
            [
             0.1,
             "#c51b7d"
            ],
            [
             0.2,
             "#de77ae"
            ],
            [
             0.3,
             "#f1b6da"
            ],
            [
             0.4,
             "#fde0ef"
            ],
            [
             0.5,
             "#f7f7f7"
            ],
            [
             0.6,
             "#e6f5d0"
            ],
            [
             0.7,
             "#b8e186"
            ],
            [
             0.8,
             "#7fbc41"
            ],
            [
             0.9,
             "#4d9221"
            ],
            [
             1,
             "#276419"
            ]
           ],
           "sequential": [
            [
             0,
             "#0d0887"
            ],
            [
             0.1111111111111111,
             "#46039f"
            ],
            [
             0.2222222222222222,
             "#7201a8"
            ],
            [
             0.3333333333333333,
             "#9c179e"
            ],
            [
             0.4444444444444444,
             "#bd3786"
            ],
            [
             0.5555555555555556,
             "#d8576b"
            ],
            [
             0.6666666666666666,
             "#ed7953"
            ],
            [
             0.7777777777777778,
             "#fb9f3a"
            ],
            [
             0.8888888888888888,
             "#fdca26"
            ],
            [
             1,
             "#f0f921"
            ]
           ],
           "sequentialminus": [
            [
             0,
             "#0d0887"
            ],
            [
             0.1111111111111111,
             "#46039f"
            ],
            [
             0.2222222222222222,
             "#7201a8"
            ],
            [
             0.3333333333333333,
             "#9c179e"
            ],
            [
             0.4444444444444444,
             "#bd3786"
            ],
            [
             0.5555555555555556,
             "#d8576b"
            ],
            [
             0.6666666666666666,
             "#ed7953"
            ],
            [
             0.7777777777777778,
             "#fb9f3a"
            ],
            [
             0.8888888888888888,
             "#fdca26"
            ],
            [
             1,
             "#f0f921"
            ]
           ]
          },
          "colorway": [
           "#636efa",
           "#EF553B",
           "#00cc96",
           "#ab63fa",
           "#FFA15A",
           "#19d3f3",
           "#FF6692",
           "#B6E880",
           "#FF97FF",
           "#FECB52"
          ],
          "font": {
           "color": "#2a3f5f"
          },
          "geo": {
           "bgcolor": "white",
           "lakecolor": "white",
           "landcolor": "#E5ECF6",
           "showlakes": true,
           "showland": true,
           "subunitcolor": "white"
          },
          "hoverlabel": {
           "align": "left"
          },
          "hovermode": "closest",
          "mapbox": {
           "style": "light"
          },
          "paper_bgcolor": "white",
          "plot_bgcolor": "#E5ECF6",
          "polar": {
           "angularaxis": {
            "gridcolor": "white",
            "linecolor": "white",
            "ticks": ""
           },
           "bgcolor": "#E5ECF6",
           "radialaxis": {
            "gridcolor": "white",
            "linecolor": "white",
            "ticks": ""
           }
          },
          "scene": {
           "xaxis": {
            "backgroundcolor": "#E5ECF6",
            "gridcolor": "white",
            "gridwidth": 2,
            "linecolor": "white",
            "showbackground": true,
            "ticks": "",
            "zerolinecolor": "white"
           },
           "yaxis": {
            "backgroundcolor": "#E5ECF6",
            "gridcolor": "white",
            "gridwidth": 2,
            "linecolor": "white",
            "showbackground": true,
            "ticks": "",
            "zerolinecolor": "white"
           },
           "zaxis": {
            "backgroundcolor": "#E5ECF6",
            "gridcolor": "white",
            "gridwidth": 2,
            "linecolor": "white",
            "showbackground": true,
            "ticks": "",
            "zerolinecolor": "white"
           }
          },
          "shapedefaults": {
           "line": {
            "color": "#2a3f5f"
           }
          },
          "ternary": {
           "aaxis": {
            "gridcolor": "white",
            "linecolor": "white",
            "ticks": ""
           },
           "baxis": {
            "gridcolor": "white",
            "linecolor": "white",
            "ticks": ""
           },
           "bgcolor": "#E5ECF6",
           "caxis": {
            "gridcolor": "white",
            "linecolor": "white",
            "ticks": ""
           }
          },
          "title": {
           "x": 0.05
          },
          "xaxis": {
           "automargin": true,
           "gridcolor": "white",
           "linecolor": "white",
           "ticks": "",
           "title": {
            "standoff": 15
           },
           "zerolinecolor": "white",
           "zerolinewidth": 2
          },
          "yaxis": {
           "automargin": true,
           "gridcolor": "white",
           "linecolor": "white",
           "ticks": "",
           "title": {
            "standoff": 15
           },
           "zerolinecolor": "white",
           "zerolinewidth": 2
          }
         }
        },
        "title": {
         "text": "mgd flows for 42113"
        }
       }
      },
      "text/html": [
       "<div>                            <div id=\"0d789bac-6920-4048-ad64-bc33fd2ffb27\" class=\"plotly-graph-div\" style=\"height:525px; width:100%;\"></div>            <script type=\"text/javascript\">                require([\"plotly\"], function(Plotly) {                    window.PLOTLYENV=window.PLOTLYENV || {};                                    if (document.getElementById(\"0d789bac-6920-4048-ad64-bc33fd2ffb27\")) {                    Plotly.newPlot(                        \"0d789bac-6920-4048-ad64-bc33fd2ffb27\",                        [{\"link\":{\"color\":\"rgba(102, 195, 216, 0.7)\",\"source\":[0,1,0,1,2,2,3,0,3,0,2,4,5,5,6,6,7,7,8,8,9,9,10,10,11,11,12,12,13,13,13,13],\"target\":[5,6,7,8,9,10,2,3,14,11,12,13,15,16,15,16,15,17,15,17,15,4,15,4,15,17,15,4,15,18,19,17],\"value\":[0.02,0.02,0.08,0.01,0.0279448621553884,0.0194237155537178,0.0973685777091063,0.65,0.5526314222908937,0.3,0.05,0.0566666666666666,0.016818890390478056,0.003181109609521942,0.016818890390478056,0.003181109609521942,0.05894736842105264,0.021052631578947358,0.00736842105263158,0.0026315789473684197,0.0028596500756933253,0.025085212079695073,0.0025827360772405993,0.016840979476477197,0.02964705882352941,0.2703529411764706,0.004941176470588235,0.04505882352941176,0.00283333333333333,0.010766666666666654,0.0045333333333333285,0.038533333333333294]},\"node\":{\"color\":\"rgba(63, 125, 152, 1)\",\"label\":[\"WSW-fresh-groundwater\",\"WSW-fresh-surfacewater\",\"PWD\",\"PWS-fresh-groundwater\",\"WWS\",\"AGI-fresh-groundwater\",\"AGI-fresh-surfacewater\",\"ALV-fresh-groundwater\",\"ALV-fresh-surfacewater\",\"COM-public\",\"IND-public\",\"RES-fresh-groundwater\",\"RES-public\",\"WWD-advanced-municipal\",\"PWX\",\"CMP\",\"CVL\",\"SRD\",\"GWD\",\"IRX\"],\"line\":{\"color\":\"black\",\"width\":1},\"pad\":40,\"thickness\":10},\"type\":\"sankey\",\"valuesuffix\":\"mgd\"}],                        {\"template\":{\"data\":{\"bar\":[{\"error_x\":{\"color\":\"#2a3f5f\"},\"error_y\":{\"color\":\"#2a3f5f\"},\"marker\":{\"line\":{\"color\":\"#E5ECF6\",\"width\":0.5},\"pattern\":{\"fillmode\":\"overlay\",\"size\":10,\"solidity\":0.2}},\"type\":\"bar\"}],\"barpolar\":[{\"marker\":{\"line\":{\"color\":\"#E5ECF6\",\"width\":0.5},\"pattern\":{\"fillmode\":\"overlay\",\"size\":10,\"solidity\":0.2}},\"type\":\"barpolar\"}],\"carpet\":[{\"aaxis\":{\"endlinecolor\":\"#2a3f5f\",\"gridcolor\":\"white\",\"linecolor\":\"white\",\"minorgridcolor\":\"white\",\"startlinecolor\":\"#2a3f5f\"},\"baxis\":{\"endlinecolor\":\"#2a3f5f\",\"gridcolor\":\"white\",\"linecolor\":\"white\",\"minorgridcolor\":\"white\",\"startlinecolor\":\"#2a3f5f\"},\"type\":\"carpet\"}],\"choropleth\":[{\"colorbar\":{\"outlinewidth\":0,\"ticks\":\"\"},\"type\":\"choropleth\"}],\"contour\":[{\"colorbar\":{\"outlinewidth\":0,\"ticks\":\"\"},\"colorscale\":[[0.0,\"#0d0887\"],[0.1111111111111111,\"#46039f\"],[0.2222222222222222,\"#7201a8\"],[0.3333333333333333,\"#9c179e\"],[0.4444444444444444,\"#bd3786\"],[0.5555555555555556,\"#d8576b\"],[0.6666666666666666,\"#ed7953\"],[0.7777777777777778,\"#fb9f3a\"],[0.8888888888888888,\"#fdca26\"],[1.0,\"#f0f921\"]],\"type\":\"contour\"}],\"contourcarpet\":[{\"colorbar\":{\"outlinewidth\":0,\"ticks\":\"\"},\"type\":\"contourcarpet\"}],\"heatmap\":[{\"colorbar\":{\"outlinewidth\":0,\"ticks\":\"\"},\"colorscale\":[[0.0,\"#0d0887\"],[0.1111111111111111,\"#46039f\"],[0.2222222222222222,\"#7201a8\"],[0.3333333333333333,\"#9c179e\"],[0.4444444444444444,\"#bd3786\"],[0.5555555555555556,\"#d8576b\"],[0.6666666666666666,\"#ed7953\"],[0.7777777777777778,\"#fb9f3a\"],[0.8888888888888888,\"#fdca26\"],[1.0,\"#f0f921\"]],\"type\":\"heatmap\"}],\"heatmapgl\":[{\"colorbar\":{\"outlinewidth\":0,\"ticks\":\"\"},\"colorscale\":[[0.0,\"#0d0887\"],[0.1111111111111111,\"#46039f\"],[0.2222222222222222,\"#7201a8\"],[0.3333333333333333,\"#9c179e\"],[0.4444444444444444,\"#bd3786\"],[0.5555555555555556,\"#d8576b\"],[0.6666666666666666,\"#ed7953\"],[0.7777777777777778,\"#fb9f3a\"],[0.8888888888888888,\"#fdca26\"],[1.0,\"#f0f921\"]],\"type\":\"heatmapgl\"}],\"histogram\":[{\"marker\":{\"pattern\":{\"fillmode\":\"overlay\",\"size\":10,\"solidity\":0.2}},\"type\":\"histogram\"}],\"histogram2d\":[{\"colorbar\":{\"outlinewidth\":0,\"ticks\":\"\"},\"colorscale\":[[0.0,\"#0d0887\"],[0.1111111111111111,\"#46039f\"],[0.2222222222222222,\"#7201a8\"],[0.3333333333333333,\"#9c179e\"],[0.4444444444444444,\"#bd3786\"],[0.5555555555555556,\"#d8576b\"],[0.6666666666666666,\"#ed7953\"],[0.7777777777777778,\"#fb9f3a\"],[0.8888888888888888,\"#fdca26\"],[1.0,\"#f0f921\"]],\"type\":\"histogram2d\"}],\"histogram2dcontour\":[{\"colorbar\":{\"outlinewidth\":0,\"ticks\":\"\"},\"colorscale\":[[0.0,\"#0d0887\"],[0.1111111111111111,\"#46039f\"],[0.2222222222222222,\"#7201a8\"],[0.3333333333333333,\"#9c179e\"],[0.4444444444444444,\"#bd3786\"],[0.5555555555555556,\"#d8576b\"],[0.6666666666666666,\"#ed7953\"],[0.7777777777777778,\"#fb9f3a\"],[0.8888888888888888,\"#fdca26\"],[1.0,\"#f0f921\"]],\"type\":\"histogram2dcontour\"}],\"mesh3d\":[{\"colorbar\":{\"outlinewidth\":0,\"ticks\":\"\"},\"type\":\"mesh3d\"}],\"parcoords\":[{\"line\":{\"colorbar\":{\"outlinewidth\":0,\"ticks\":\"\"}},\"type\":\"parcoords\"}],\"pie\":[{\"automargin\":true,\"type\":\"pie\"}],\"scatter\":[{\"marker\":{\"colorbar\":{\"outlinewidth\":0,\"ticks\":\"\"}},\"type\":\"scatter\"}],\"scatter3d\":[{\"line\":{\"colorbar\":{\"outlinewidth\":0,\"ticks\":\"\"}},\"marker\":{\"colorbar\":{\"outlinewidth\":0,\"ticks\":\"\"}},\"type\":\"scatter3d\"}],\"scattercarpet\":[{\"marker\":{\"colorbar\":{\"outlinewidth\":0,\"ticks\":\"\"}},\"type\":\"scattercarpet\"}],\"scattergeo\":[{\"marker\":{\"colorbar\":{\"outlinewidth\":0,\"ticks\":\"\"}},\"type\":\"scattergeo\"}],\"scattergl\":[{\"marker\":{\"colorbar\":{\"outlinewidth\":0,\"ticks\":\"\"}},\"type\":\"scattergl\"}],\"scattermapbox\":[{\"marker\":{\"colorbar\":{\"outlinewidth\":0,\"ticks\":\"\"}},\"type\":\"scattermapbox\"}],\"scatterpolar\":[{\"marker\":{\"colorbar\":{\"outlinewidth\":0,\"ticks\":\"\"}},\"type\":\"scatterpolar\"}],\"scatterpolargl\":[{\"marker\":{\"colorbar\":{\"outlinewidth\":0,\"ticks\":\"\"}},\"type\":\"scatterpolargl\"}],\"scatterternary\":[{\"marker\":{\"colorbar\":{\"outlinewidth\":0,\"ticks\":\"\"}},\"type\":\"scatterternary\"}],\"surface\":[{\"colorbar\":{\"outlinewidth\":0,\"ticks\":\"\"},\"colorscale\":[[0.0,\"#0d0887\"],[0.1111111111111111,\"#46039f\"],[0.2222222222222222,\"#7201a8\"],[0.3333333333333333,\"#9c179e\"],[0.4444444444444444,\"#bd3786\"],[0.5555555555555556,\"#d8576b\"],[0.6666666666666666,\"#ed7953\"],[0.7777777777777778,\"#fb9f3a\"],[0.8888888888888888,\"#fdca26\"],[1.0,\"#f0f921\"]],\"type\":\"surface\"}],\"table\":[{\"cells\":{\"fill\":{\"color\":\"#EBF0F8\"},\"line\":{\"color\":\"white\"}},\"header\":{\"fill\":{\"color\":\"#C8D4E3\"},\"line\":{\"color\":\"white\"}},\"type\":\"table\"}]},\"layout\":{\"annotationdefaults\":{\"arrowcolor\":\"#2a3f5f\",\"arrowhead\":0,\"arrowwidth\":1},\"autotypenumbers\":\"strict\",\"coloraxis\":{\"colorbar\":{\"outlinewidth\":0,\"ticks\":\"\"}},\"colorscale\":{\"diverging\":[[0,\"#8e0152\"],[0.1,\"#c51b7d\"],[0.2,\"#de77ae\"],[0.3,\"#f1b6da\"],[0.4,\"#fde0ef\"],[0.5,\"#f7f7f7\"],[0.6,\"#e6f5d0\"],[0.7,\"#b8e186\"],[0.8,\"#7fbc41\"],[0.9,\"#4d9221\"],[1,\"#276419\"]],\"sequential\":[[0.0,\"#0d0887\"],[0.1111111111111111,\"#46039f\"],[0.2222222222222222,\"#7201a8\"],[0.3333333333333333,\"#9c179e\"],[0.4444444444444444,\"#bd3786\"],[0.5555555555555556,\"#d8576b\"],[0.6666666666666666,\"#ed7953\"],[0.7777777777777778,\"#fb9f3a\"],[0.8888888888888888,\"#fdca26\"],[1.0,\"#f0f921\"]],\"sequentialminus\":[[0.0,\"#0d0887\"],[0.1111111111111111,\"#46039f\"],[0.2222222222222222,\"#7201a8\"],[0.3333333333333333,\"#9c179e\"],[0.4444444444444444,\"#bd3786\"],[0.5555555555555556,\"#d8576b\"],[0.6666666666666666,\"#ed7953\"],[0.7777777777777778,\"#fb9f3a\"],[0.8888888888888888,\"#fdca26\"],[1.0,\"#f0f921\"]]},\"colorway\":[\"#636efa\",\"#EF553B\",\"#00cc96\",\"#ab63fa\",\"#FFA15A\",\"#19d3f3\",\"#FF6692\",\"#B6E880\",\"#FF97FF\",\"#FECB52\"],\"font\":{\"color\":\"#2a3f5f\"},\"geo\":{\"bgcolor\":\"white\",\"lakecolor\":\"white\",\"landcolor\":\"#E5ECF6\",\"showlakes\":true,\"showland\":true,\"subunitcolor\":\"white\"},\"hoverlabel\":{\"align\":\"left\"},\"hovermode\":\"closest\",\"mapbox\":{\"style\":\"light\"},\"paper_bgcolor\":\"white\",\"plot_bgcolor\":\"#E5ECF6\",\"polar\":{\"angularaxis\":{\"gridcolor\":\"white\",\"linecolor\":\"white\",\"ticks\":\"\"},\"bgcolor\":\"#E5ECF6\",\"radialaxis\":{\"gridcolor\":\"white\",\"linecolor\":\"white\",\"ticks\":\"\"}},\"scene\":{\"xaxis\":{\"backgroundcolor\":\"#E5ECF6\",\"gridcolor\":\"white\",\"gridwidth\":2,\"linecolor\":\"white\",\"showbackground\":true,\"ticks\":\"\",\"zerolinecolor\":\"white\"},\"yaxis\":{\"backgroundcolor\":\"#E5ECF6\",\"gridcolor\":\"white\",\"gridwidth\":2,\"linecolor\":\"white\",\"showbackground\":true,\"ticks\":\"\",\"zerolinecolor\":\"white\"},\"zaxis\":{\"backgroundcolor\":\"#E5ECF6\",\"gridcolor\":\"white\",\"gridwidth\":2,\"linecolor\":\"white\",\"showbackground\":true,\"ticks\":\"\",\"zerolinecolor\":\"white\"}},\"shapedefaults\":{\"line\":{\"color\":\"#2a3f5f\"}},\"ternary\":{\"aaxis\":{\"gridcolor\":\"white\",\"linecolor\":\"white\",\"ticks\":\"\"},\"baxis\":{\"gridcolor\":\"white\",\"linecolor\":\"white\",\"ticks\":\"\"},\"bgcolor\":\"#E5ECF6\",\"caxis\":{\"gridcolor\":\"white\",\"linecolor\":\"white\",\"ticks\":\"\"}},\"title\":{\"x\":0.05},\"xaxis\":{\"automargin\":true,\"gridcolor\":\"white\",\"linecolor\":\"white\",\"ticks\":\"\",\"title\":{\"standoff\":15},\"zerolinecolor\":\"white\",\"zerolinewidth\":2},\"yaxis\":{\"automargin\":true,\"gridcolor\":\"white\",\"linecolor\":\"white\",\"ticks\":\"\",\"title\":{\"standoff\":15},\"zerolinecolor\":\"white\",\"zerolinewidth\":2}}},\"title\":{\"text\":\"mgd flows for 42113\"},\"font\":{\"size\":12}},                        {\"responsive\": true}                    ).then(function(){\n",
       "                            \n",
       "var gd = document.getElementById('0d789bac-6920-4048-ad64-bc33fd2ffb27');\n",
       "var x = new MutationObserver(function (mutations, observer) {{\n",
       "        var display = window.getComputedStyle(gd).display;\n",
       "        if (!display || display === 'none') {{\n",
       "            console.log([gd, 'removed!']);\n",
       "            Plotly.purge(gd);\n",
       "            observer.disconnect();\n",
       "        }}\n",
       "}});\n",
       "\n",
       "// Listen for the removal of the full notebook cells\n",
       "var notebookContainer = gd.closest('#notebook-container');\n",
       "if (notebookContainer) {{\n",
       "    x.observe(notebookContainer, {childList: true});\n",
       "}}\n",
       "\n",
       "// Listen for the clearing of the current output cell\n",
       "var outputEl = gd.closest('.output');\n",
       "if (outputEl) {{\n",
       "    x.observe(outputEl, {childList: true});\n",
       "}}\n",
       "\n",
       "                        })                };                });            </script>        </div>"
      ]
     },
     "metadata": {},
     "output_type": "display_data"
    },
    {
     "data": {
      "application/vnd.plotly.v1+json": {
       "config": {
        "plotlyServerURL": "https://plot.ly"
       },
       "data": [
        {
         "link": {
          "color": "rgba(252, 230, 112, 1)",
          "source": [
           0,
           1,
           2,
           3,
           4,
           5,
           6,
           7,
           0,
           2,
           4,
           5,
           0,
           1,
           3,
           4,
           5,
           1,
           4,
           5,
           0,
           0,
           0,
           0,
           0,
           0,
           0,
           8,
           8,
           8,
           8,
           9,
           9,
           9,
           9,
           10,
           10,
           11,
           11,
           12,
           12,
           13,
           13,
           14,
           14,
           15,
           15,
           16,
           16
          ],
          "target": [
           10,
           10,
           10,
           10,
           10,
           10,
           10,
           10,
           11,
           11,
           11,
           11,
           14,
           14,
           14,
           14,
           14,
           15,
           15,
           15,
           8,
           8,
           9,
           9,
           12,
           13,
           16,
           17,
           18,
           17,
           18,
           17,
           18,
           17,
           18,
           17,
           18,
           17,
           18,
           17,
           18,
           17,
           18,
           17,
           18,
           17,
           18,
           17,
           18
          ],
          "value": [
           0.043,
           0.0102092176604861,
           0.0026582695672548,
           0.0011050167941314,
           0.2159143231493883,
           0.0552183392126256,
           0.0014205424228478,
           0.0719439059090926,
           0.0092,
           0.2811590647440593,
           0.548393022019916,
           0.2962568983687788,
           0.1502,
           0.0473545738651733,
           0.0018240902226654,
           0.3345641472320012,
           0.144043543351672,
           0.050914732139403,
           0.06188635722035,
           1.1315101134456136,
           0.00014760324119027002,
           0.000184797325809978,
           0.0005904129647610801,
           0.0006090100070709341,
           0.007103711978683775,
           0.007558379633683775,
           0.0005201238739999994,
           9.594210677367551e-05,
           5.1661134416594506e-05,
           0.0001201182617764857,
           6.46790640334923e-05,
           0.00038376842709470204,
           0.00020664453766637802,
           0.0003958565045961072,
           0.00021315350247482693,
           0.2609552495652873,
           0.1405143651505393,
           0.5561544027150495,
           0.5788545824177046,
           0.004617412786144454,
           0.0024862991925393213,
           0.004912946761894454,
           0.0026454328717893214,
           0.44069113053648273,
           0.23729522413502915,
           0.261305352589127,
           0.9830058502162398,
           0.00033808051809999963,
           0.00018204335589999977
          ]
         },
         "node": {
          "color": "rgba(209, 155, 30, 1)",
          "label": [
           "EGD",
           "EPD-biomass",
           "EPD-coal",
           "EPD-geothermal",
           "EPD-natgas",
           "EPD-petroleum",
           "EPD-solar",
           "EPD-wind",
           "AGI-pumping-fresh",
           "ALV-pumping-fresh",
           "COM",
           "IND",
           "PWS-pumping-fresh",
           "PWS-treatment-fresh",
           "RES",
           "TRA",
           "WWD-treatment-advanced",
           "ESV",
           "REJ"
          ],
          "line": {
           "color": "black",
           "width": 1
          },
          "pad": 20,
          "thickness": 10
         },
         "type": "sankey",
         "valuesuffix": "bbtu"
        }
       ],
       "layout": {
        "font": {
         "size": 12
        },
        "template": {
         "data": {
          "bar": [
           {
            "error_x": {
             "color": "#2a3f5f"
            },
            "error_y": {
             "color": "#2a3f5f"
            },
            "marker": {
             "line": {
              "color": "#E5ECF6",
              "width": 0.5
             },
             "pattern": {
              "fillmode": "overlay",
              "size": 10,
              "solidity": 0.2
             }
            },
            "type": "bar"
           }
          ],
          "barpolar": [
           {
            "marker": {
             "line": {
              "color": "#E5ECF6",
              "width": 0.5
             },
             "pattern": {
              "fillmode": "overlay",
              "size": 10,
              "solidity": 0.2
             }
            },
            "type": "barpolar"
           }
          ],
          "carpet": [
           {
            "aaxis": {
             "endlinecolor": "#2a3f5f",
             "gridcolor": "white",
             "linecolor": "white",
             "minorgridcolor": "white",
             "startlinecolor": "#2a3f5f"
            },
            "baxis": {
             "endlinecolor": "#2a3f5f",
             "gridcolor": "white",
             "linecolor": "white",
             "minorgridcolor": "white",
             "startlinecolor": "#2a3f5f"
            },
            "type": "carpet"
           }
          ],
          "choropleth": [
           {
            "colorbar": {
             "outlinewidth": 0,
             "ticks": ""
            },
            "type": "choropleth"
           }
          ],
          "contour": [
           {
            "colorbar": {
             "outlinewidth": 0,
             "ticks": ""
            },
            "colorscale": [
             [
              0,
              "#0d0887"
             ],
             [
              0.1111111111111111,
              "#46039f"
             ],
             [
              0.2222222222222222,
              "#7201a8"
             ],
             [
              0.3333333333333333,
              "#9c179e"
             ],
             [
              0.4444444444444444,
              "#bd3786"
             ],
             [
              0.5555555555555556,
              "#d8576b"
             ],
             [
              0.6666666666666666,
              "#ed7953"
             ],
             [
              0.7777777777777778,
              "#fb9f3a"
             ],
             [
              0.8888888888888888,
              "#fdca26"
             ],
             [
              1,
              "#f0f921"
             ]
            ],
            "type": "contour"
           }
          ],
          "contourcarpet": [
           {
            "colorbar": {
             "outlinewidth": 0,
             "ticks": ""
            },
            "type": "contourcarpet"
           }
          ],
          "heatmap": [
           {
            "colorbar": {
             "outlinewidth": 0,
             "ticks": ""
            },
            "colorscale": [
             [
              0,
              "#0d0887"
             ],
             [
              0.1111111111111111,
              "#46039f"
             ],
             [
              0.2222222222222222,
              "#7201a8"
             ],
             [
              0.3333333333333333,
              "#9c179e"
             ],
             [
              0.4444444444444444,
              "#bd3786"
             ],
             [
              0.5555555555555556,
              "#d8576b"
             ],
             [
              0.6666666666666666,
              "#ed7953"
             ],
             [
              0.7777777777777778,
              "#fb9f3a"
             ],
             [
              0.8888888888888888,
              "#fdca26"
             ],
             [
              1,
              "#f0f921"
             ]
            ],
            "type": "heatmap"
           }
          ],
          "heatmapgl": [
           {
            "colorbar": {
             "outlinewidth": 0,
             "ticks": ""
            },
            "colorscale": [
             [
              0,
              "#0d0887"
             ],
             [
              0.1111111111111111,
              "#46039f"
             ],
             [
              0.2222222222222222,
              "#7201a8"
             ],
             [
              0.3333333333333333,
              "#9c179e"
             ],
             [
              0.4444444444444444,
              "#bd3786"
             ],
             [
              0.5555555555555556,
              "#d8576b"
             ],
             [
              0.6666666666666666,
              "#ed7953"
             ],
             [
              0.7777777777777778,
              "#fb9f3a"
             ],
             [
              0.8888888888888888,
              "#fdca26"
             ],
             [
              1,
              "#f0f921"
             ]
            ],
            "type": "heatmapgl"
           }
          ],
          "histogram": [
           {
            "marker": {
             "pattern": {
              "fillmode": "overlay",
              "size": 10,
              "solidity": 0.2
             }
            },
            "type": "histogram"
           }
          ],
          "histogram2d": [
           {
            "colorbar": {
             "outlinewidth": 0,
             "ticks": ""
            },
            "colorscale": [
             [
              0,
              "#0d0887"
             ],
             [
              0.1111111111111111,
              "#46039f"
             ],
             [
              0.2222222222222222,
              "#7201a8"
             ],
             [
              0.3333333333333333,
              "#9c179e"
             ],
             [
              0.4444444444444444,
              "#bd3786"
             ],
             [
              0.5555555555555556,
              "#d8576b"
             ],
             [
              0.6666666666666666,
              "#ed7953"
             ],
             [
              0.7777777777777778,
              "#fb9f3a"
             ],
             [
              0.8888888888888888,
              "#fdca26"
             ],
             [
              1,
              "#f0f921"
             ]
            ],
            "type": "histogram2d"
           }
          ],
          "histogram2dcontour": [
           {
            "colorbar": {
             "outlinewidth": 0,
             "ticks": ""
            },
            "colorscale": [
             [
              0,
              "#0d0887"
             ],
             [
              0.1111111111111111,
              "#46039f"
             ],
             [
              0.2222222222222222,
              "#7201a8"
             ],
             [
              0.3333333333333333,
              "#9c179e"
             ],
             [
              0.4444444444444444,
              "#bd3786"
             ],
             [
              0.5555555555555556,
              "#d8576b"
             ],
             [
              0.6666666666666666,
              "#ed7953"
             ],
             [
              0.7777777777777778,
              "#fb9f3a"
             ],
             [
              0.8888888888888888,
              "#fdca26"
             ],
             [
              1,
              "#f0f921"
             ]
            ],
            "type": "histogram2dcontour"
           }
          ],
          "mesh3d": [
           {
            "colorbar": {
             "outlinewidth": 0,
             "ticks": ""
            },
            "type": "mesh3d"
           }
          ],
          "parcoords": [
           {
            "line": {
             "colorbar": {
              "outlinewidth": 0,
              "ticks": ""
             }
            },
            "type": "parcoords"
           }
          ],
          "pie": [
           {
            "automargin": true,
            "type": "pie"
           }
          ],
          "scatter": [
           {
            "marker": {
             "colorbar": {
              "outlinewidth": 0,
              "ticks": ""
             }
            },
            "type": "scatter"
           }
          ],
          "scatter3d": [
           {
            "line": {
             "colorbar": {
              "outlinewidth": 0,
              "ticks": ""
             }
            },
            "marker": {
             "colorbar": {
              "outlinewidth": 0,
              "ticks": ""
             }
            },
            "type": "scatter3d"
           }
          ],
          "scattercarpet": [
           {
            "marker": {
             "colorbar": {
              "outlinewidth": 0,
              "ticks": ""
             }
            },
            "type": "scattercarpet"
           }
          ],
          "scattergeo": [
           {
            "marker": {
             "colorbar": {
              "outlinewidth": 0,
              "ticks": ""
             }
            },
            "type": "scattergeo"
           }
          ],
          "scattergl": [
           {
            "marker": {
             "colorbar": {
              "outlinewidth": 0,
              "ticks": ""
             }
            },
            "type": "scattergl"
           }
          ],
          "scattermapbox": [
           {
            "marker": {
             "colorbar": {
              "outlinewidth": 0,
              "ticks": ""
             }
            },
            "type": "scattermapbox"
           }
          ],
          "scatterpolar": [
           {
            "marker": {
             "colorbar": {
              "outlinewidth": 0,
              "ticks": ""
             }
            },
            "type": "scatterpolar"
           }
          ],
          "scatterpolargl": [
           {
            "marker": {
             "colorbar": {
              "outlinewidth": 0,
              "ticks": ""
             }
            },
            "type": "scatterpolargl"
           }
          ],
          "scatterternary": [
           {
            "marker": {
             "colorbar": {
              "outlinewidth": 0,
              "ticks": ""
             }
            },
            "type": "scatterternary"
           }
          ],
          "surface": [
           {
            "colorbar": {
             "outlinewidth": 0,
             "ticks": ""
            },
            "colorscale": [
             [
              0,
              "#0d0887"
             ],
             [
              0.1111111111111111,
              "#46039f"
             ],
             [
              0.2222222222222222,
              "#7201a8"
             ],
             [
              0.3333333333333333,
              "#9c179e"
             ],
             [
              0.4444444444444444,
              "#bd3786"
             ],
             [
              0.5555555555555556,
              "#d8576b"
             ],
             [
              0.6666666666666666,
              "#ed7953"
             ],
             [
              0.7777777777777778,
              "#fb9f3a"
             ],
             [
              0.8888888888888888,
              "#fdca26"
             ],
             [
              1,
              "#f0f921"
             ]
            ],
            "type": "surface"
           }
          ],
          "table": [
           {
            "cells": {
             "fill": {
              "color": "#EBF0F8"
             },
             "line": {
              "color": "white"
             }
            },
            "header": {
             "fill": {
              "color": "#C8D4E3"
             },
             "line": {
              "color": "white"
             }
            },
            "type": "table"
           }
          ]
         },
         "layout": {
          "annotationdefaults": {
           "arrowcolor": "#2a3f5f",
           "arrowhead": 0,
           "arrowwidth": 1
          },
          "autotypenumbers": "strict",
          "coloraxis": {
           "colorbar": {
            "outlinewidth": 0,
            "ticks": ""
           }
          },
          "colorscale": {
           "diverging": [
            [
             0,
             "#8e0152"
            ],
            [
             0.1,
             "#c51b7d"
            ],
            [
             0.2,
             "#de77ae"
            ],
            [
             0.3,
             "#f1b6da"
            ],
            [
             0.4,
             "#fde0ef"
            ],
            [
             0.5,
             "#f7f7f7"
            ],
            [
             0.6,
             "#e6f5d0"
            ],
            [
             0.7,
             "#b8e186"
            ],
            [
             0.8,
             "#7fbc41"
            ],
            [
             0.9,
             "#4d9221"
            ],
            [
             1,
             "#276419"
            ]
           ],
           "sequential": [
            [
             0,
             "#0d0887"
            ],
            [
             0.1111111111111111,
             "#46039f"
            ],
            [
             0.2222222222222222,
             "#7201a8"
            ],
            [
             0.3333333333333333,
             "#9c179e"
            ],
            [
             0.4444444444444444,
             "#bd3786"
            ],
            [
             0.5555555555555556,
             "#d8576b"
            ],
            [
             0.6666666666666666,
             "#ed7953"
            ],
            [
             0.7777777777777778,
             "#fb9f3a"
            ],
            [
             0.8888888888888888,
             "#fdca26"
            ],
            [
             1,
             "#f0f921"
            ]
           ],
           "sequentialminus": [
            [
             0,
             "#0d0887"
            ],
            [
             0.1111111111111111,
             "#46039f"
            ],
            [
             0.2222222222222222,
             "#7201a8"
            ],
            [
             0.3333333333333333,
             "#9c179e"
            ],
            [
             0.4444444444444444,
             "#bd3786"
            ],
            [
             0.5555555555555556,
             "#d8576b"
            ],
            [
             0.6666666666666666,
             "#ed7953"
            ],
            [
             0.7777777777777778,
             "#fb9f3a"
            ],
            [
             0.8888888888888888,
             "#fdca26"
            ],
            [
             1,
             "#f0f921"
            ]
           ]
          },
          "colorway": [
           "#636efa",
           "#EF553B",
           "#00cc96",
           "#ab63fa",
           "#FFA15A",
           "#19d3f3",
           "#FF6692",
           "#B6E880",
           "#FF97FF",
           "#FECB52"
          ],
          "font": {
           "color": "#2a3f5f"
          },
          "geo": {
           "bgcolor": "white",
           "lakecolor": "white",
           "landcolor": "#E5ECF6",
           "showlakes": true,
           "showland": true,
           "subunitcolor": "white"
          },
          "hoverlabel": {
           "align": "left"
          },
          "hovermode": "closest",
          "mapbox": {
           "style": "light"
          },
          "paper_bgcolor": "white",
          "plot_bgcolor": "#E5ECF6",
          "polar": {
           "angularaxis": {
            "gridcolor": "white",
            "linecolor": "white",
            "ticks": ""
           },
           "bgcolor": "#E5ECF6",
           "radialaxis": {
            "gridcolor": "white",
            "linecolor": "white",
            "ticks": ""
           }
          },
          "scene": {
           "xaxis": {
            "backgroundcolor": "#E5ECF6",
            "gridcolor": "white",
            "gridwidth": 2,
            "linecolor": "white",
            "showbackground": true,
            "ticks": "",
            "zerolinecolor": "white"
           },
           "yaxis": {
            "backgroundcolor": "#E5ECF6",
            "gridcolor": "white",
            "gridwidth": 2,
            "linecolor": "white",
            "showbackground": true,
            "ticks": "",
            "zerolinecolor": "white"
           },
           "zaxis": {
            "backgroundcolor": "#E5ECF6",
            "gridcolor": "white",
            "gridwidth": 2,
            "linecolor": "white",
            "showbackground": true,
            "ticks": "",
            "zerolinecolor": "white"
           }
          },
          "shapedefaults": {
           "line": {
            "color": "#2a3f5f"
           }
          },
          "ternary": {
           "aaxis": {
            "gridcolor": "white",
            "linecolor": "white",
            "ticks": ""
           },
           "baxis": {
            "gridcolor": "white",
            "linecolor": "white",
            "ticks": ""
           },
           "bgcolor": "#E5ECF6",
           "caxis": {
            "gridcolor": "white",
            "linecolor": "white",
            "ticks": ""
           }
          },
          "title": {
           "x": 0.05
          },
          "xaxis": {
           "automargin": true,
           "gridcolor": "white",
           "linecolor": "white",
           "ticks": "",
           "title": {
            "standoff": 15
           },
           "zerolinecolor": "white",
           "zerolinewidth": 2
          },
          "yaxis": {
           "automargin": true,
           "gridcolor": "white",
           "linecolor": "white",
           "ticks": "",
           "title": {
            "standoff": 15
           },
           "zerolinecolor": "white",
           "zerolinewidth": 2
          }
         }
        },
        "title": {
         "text": "bbtu flows for 42113"
        }
       }
      },
      "text/html": [
       "<div>                            <div id=\"8d526842-6583-4d41-87d2-46f606540619\" class=\"plotly-graph-div\" style=\"height:525px; width:100%;\"></div>            <script type=\"text/javascript\">                require([\"plotly\"], function(Plotly) {                    window.PLOTLYENV=window.PLOTLYENV || {};                                    if (document.getElementById(\"8d526842-6583-4d41-87d2-46f606540619\")) {                    Plotly.newPlot(                        \"8d526842-6583-4d41-87d2-46f606540619\",                        [{\"link\":{\"color\":\"rgba(252, 230, 112, 1)\",\"source\":[0,1,2,3,4,5,6,7,0,2,4,5,0,1,3,4,5,1,4,5,0,0,0,0,0,0,0,8,8,8,8,9,9,9,9,10,10,11,11,12,12,13,13,14,14,15,15,16,16],\"target\":[10,10,10,10,10,10,10,10,11,11,11,11,14,14,14,14,14,15,15,15,8,8,9,9,12,13,16,17,18,17,18,17,18,17,18,17,18,17,18,17,18,17,18,17,18,17,18,17,18],\"value\":[0.043,0.0102092176604861,0.0026582695672548,0.0011050167941314,0.2159143231493883,0.0552183392126256,0.0014205424228478,0.0719439059090926,0.0092,0.2811590647440593,0.548393022019916,0.2962568983687788,0.1502,0.0473545738651733,0.0018240902226654,0.3345641472320012,0.144043543351672,0.050914732139403,0.06188635722035,1.1315101134456136,0.00014760324119027002,0.000184797325809978,0.0005904129647610801,0.0006090100070709341,0.007103711978683775,0.007558379633683775,0.0005201238739999994,9.594210677367551e-05,5.1661134416594506e-05,0.0001201182617764857,6.46790640334923e-05,0.00038376842709470204,0.00020664453766637802,0.0003958565045961072,0.00021315350247482693,0.2609552495652873,0.1405143651505393,0.5561544027150495,0.5788545824177046,0.004617412786144454,0.0024862991925393213,0.004912946761894454,0.0026454328717893214,0.44069113053648273,0.23729522413502915,0.261305352589127,0.9830058502162398,0.00033808051809999963,0.00018204335589999977]},\"node\":{\"color\":\"rgba(209, 155, 30, 1)\",\"label\":[\"EGD\",\"EPD-biomass\",\"EPD-coal\",\"EPD-geothermal\",\"EPD-natgas\",\"EPD-petroleum\",\"EPD-solar\",\"EPD-wind\",\"AGI-pumping-fresh\",\"ALV-pumping-fresh\",\"COM\",\"IND\",\"PWS-pumping-fresh\",\"PWS-treatment-fresh\",\"RES\",\"TRA\",\"WWD-treatment-advanced\",\"ESV\",\"REJ\"],\"line\":{\"color\":\"black\",\"width\":1},\"pad\":20,\"thickness\":10},\"type\":\"sankey\",\"valuesuffix\":\"bbtu\"}],                        {\"template\":{\"data\":{\"bar\":[{\"error_x\":{\"color\":\"#2a3f5f\"},\"error_y\":{\"color\":\"#2a3f5f\"},\"marker\":{\"line\":{\"color\":\"#E5ECF6\",\"width\":0.5},\"pattern\":{\"fillmode\":\"overlay\",\"size\":10,\"solidity\":0.2}},\"type\":\"bar\"}],\"barpolar\":[{\"marker\":{\"line\":{\"color\":\"#E5ECF6\",\"width\":0.5},\"pattern\":{\"fillmode\":\"overlay\",\"size\":10,\"solidity\":0.2}},\"type\":\"barpolar\"}],\"carpet\":[{\"aaxis\":{\"endlinecolor\":\"#2a3f5f\",\"gridcolor\":\"white\",\"linecolor\":\"white\",\"minorgridcolor\":\"white\",\"startlinecolor\":\"#2a3f5f\"},\"baxis\":{\"endlinecolor\":\"#2a3f5f\",\"gridcolor\":\"white\",\"linecolor\":\"white\",\"minorgridcolor\":\"white\",\"startlinecolor\":\"#2a3f5f\"},\"type\":\"carpet\"}],\"choropleth\":[{\"colorbar\":{\"outlinewidth\":0,\"ticks\":\"\"},\"type\":\"choropleth\"}],\"contour\":[{\"colorbar\":{\"outlinewidth\":0,\"ticks\":\"\"},\"colorscale\":[[0.0,\"#0d0887\"],[0.1111111111111111,\"#46039f\"],[0.2222222222222222,\"#7201a8\"],[0.3333333333333333,\"#9c179e\"],[0.4444444444444444,\"#bd3786\"],[0.5555555555555556,\"#d8576b\"],[0.6666666666666666,\"#ed7953\"],[0.7777777777777778,\"#fb9f3a\"],[0.8888888888888888,\"#fdca26\"],[1.0,\"#f0f921\"]],\"type\":\"contour\"}],\"contourcarpet\":[{\"colorbar\":{\"outlinewidth\":0,\"ticks\":\"\"},\"type\":\"contourcarpet\"}],\"heatmap\":[{\"colorbar\":{\"outlinewidth\":0,\"ticks\":\"\"},\"colorscale\":[[0.0,\"#0d0887\"],[0.1111111111111111,\"#46039f\"],[0.2222222222222222,\"#7201a8\"],[0.3333333333333333,\"#9c179e\"],[0.4444444444444444,\"#bd3786\"],[0.5555555555555556,\"#d8576b\"],[0.6666666666666666,\"#ed7953\"],[0.7777777777777778,\"#fb9f3a\"],[0.8888888888888888,\"#fdca26\"],[1.0,\"#f0f921\"]],\"type\":\"heatmap\"}],\"heatmapgl\":[{\"colorbar\":{\"outlinewidth\":0,\"ticks\":\"\"},\"colorscale\":[[0.0,\"#0d0887\"],[0.1111111111111111,\"#46039f\"],[0.2222222222222222,\"#7201a8\"],[0.3333333333333333,\"#9c179e\"],[0.4444444444444444,\"#bd3786\"],[0.5555555555555556,\"#d8576b\"],[0.6666666666666666,\"#ed7953\"],[0.7777777777777778,\"#fb9f3a\"],[0.8888888888888888,\"#fdca26\"],[1.0,\"#f0f921\"]],\"type\":\"heatmapgl\"}],\"histogram\":[{\"marker\":{\"pattern\":{\"fillmode\":\"overlay\",\"size\":10,\"solidity\":0.2}},\"type\":\"histogram\"}],\"histogram2d\":[{\"colorbar\":{\"outlinewidth\":0,\"ticks\":\"\"},\"colorscale\":[[0.0,\"#0d0887\"],[0.1111111111111111,\"#46039f\"],[0.2222222222222222,\"#7201a8\"],[0.3333333333333333,\"#9c179e\"],[0.4444444444444444,\"#bd3786\"],[0.5555555555555556,\"#d8576b\"],[0.6666666666666666,\"#ed7953\"],[0.7777777777777778,\"#fb9f3a\"],[0.8888888888888888,\"#fdca26\"],[1.0,\"#f0f921\"]],\"type\":\"histogram2d\"}],\"histogram2dcontour\":[{\"colorbar\":{\"outlinewidth\":0,\"ticks\":\"\"},\"colorscale\":[[0.0,\"#0d0887\"],[0.1111111111111111,\"#46039f\"],[0.2222222222222222,\"#7201a8\"],[0.3333333333333333,\"#9c179e\"],[0.4444444444444444,\"#bd3786\"],[0.5555555555555556,\"#d8576b\"],[0.6666666666666666,\"#ed7953\"],[0.7777777777777778,\"#fb9f3a\"],[0.8888888888888888,\"#fdca26\"],[1.0,\"#f0f921\"]],\"type\":\"histogram2dcontour\"}],\"mesh3d\":[{\"colorbar\":{\"outlinewidth\":0,\"ticks\":\"\"},\"type\":\"mesh3d\"}],\"parcoords\":[{\"line\":{\"colorbar\":{\"outlinewidth\":0,\"ticks\":\"\"}},\"type\":\"parcoords\"}],\"pie\":[{\"automargin\":true,\"type\":\"pie\"}],\"scatter\":[{\"marker\":{\"colorbar\":{\"outlinewidth\":0,\"ticks\":\"\"}},\"type\":\"scatter\"}],\"scatter3d\":[{\"line\":{\"colorbar\":{\"outlinewidth\":0,\"ticks\":\"\"}},\"marker\":{\"colorbar\":{\"outlinewidth\":0,\"ticks\":\"\"}},\"type\":\"scatter3d\"}],\"scattercarpet\":[{\"marker\":{\"colorbar\":{\"outlinewidth\":0,\"ticks\":\"\"}},\"type\":\"scattercarpet\"}],\"scattergeo\":[{\"marker\":{\"colorbar\":{\"outlinewidth\":0,\"ticks\":\"\"}},\"type\":\"scattergeo\"}],\"scattergl\":[{\"marker\":{\"colorbar\":{\"outlinewidth\":0,\"ticks\":\"\"}},\"type\":\"scattergl\"}],\"scattermapbox\":[{\"marker\":{\"colorbar\":{\"outlinewidth\":0,\"ticks\":\"\"}},\"type\":\"scattermapbox\"}],\"scatterpolar\":[{\"marker\":{\"colorbar\":{\"outlinewidth\":0,\"ticks\":\"\"}},\"type\":\"scatterpolar\"}],\"scatterpolargl\":[{\"marker\":{\"colorbar\":{\"outlinewidth\":0,\"ticks\":\"\"}},\"type\":\"scatterpolargl\"}],\"scatterternary\":[{\"marker\":{\"colorbar\":{\"outlinewidth\":0,\"ticks\":\"\"}},\"type\":\"scatterternary\"}],\"surface\":[{\"colorbar\":{\"outlinewidth\":0,\"ticks\":\"\"},\"colorscale\":[[0.0,\"#0d0887\"],[0.1111111111111111,\"#46039f\"],[0.2222222222222222,\"#7201a8\"],[0.3333333333333333,\"#9c179e\"],[0.4444444444444444,\"#bd3786\"],[0.5555555555555556,\"#d8576b\"],[0.6666666666666666,\"#ed7953\"],[0.7777777777777778,\"#fb9f3a\"],[0.8888888888888888,\"#fdca26\"],[1.0,\"#f0f921\"]],\"type\":\"surface\"}],\"table\":[{\"cells\":{\"fill\":{\"color\":\"#EBF0F8\"},\"line\":{\"color\":\"white\"}},\"header\":{\"fill\":{\"color\":\"#C8D4E3\"},\"line\":{\"color\":\"white\"}},\"type\":\"table\"}]},\"layout\":{\"annotationdefaults\":{\"arrowcolor\":\"#2a3f5f\",\"arrowhead\":0,\"arrowwidth\":1},\"autotypenumbers\":\"strict\",\"coloraxis\":{\"colorbar\":{\"outlinewidth\":0,\"ticks\":\"\"}},\"colorscale\":{\"diverging\":[[0,\"#8e0152\"],[0.1,\"#c51b7d\"],[0.2,\"#de77ae\"],[0.3,\"#f1b6da\"],[0.4,\"#fde0ef\"],[0.5,\"#f7f7f7\"],[0.6,\"#e6f5d0\"],[0.7,\"#b8e186\"],[0.8,\"#7fbc41\"],[0.9,\"#4d9221\"],[1,\"#276419\"]],\"sequential\":[[0.0,\"#0d0887\"],[0.1111111111111111,\"#46039f\"],[0.2222222222222222,\"#7201a8\"],[0.3333333333333333,\"#9c179e\"],[0.4444444444444444,\"#bd3786\"],[0.5555555555555556,\"#d8576b\"],[0.6666666666666666,\"#ed7953\"],[0.7777777777777778,\"#fb9f3a\"],[0.8888888888888888,\"#fdca26\"],[1.0,\"#f0f921\"]],\"sequentialminus\":[[0.0,\"#0d0887\"],[0.1111111111111111,\"#46039f\"],[0.2222222222222222,\"#7201a8\"],[0.3333333333333333,\"#9c179e\"],[0.4444444444444444,\"#bd3786\"],[0.5555555555555556,\"#d8576b\"],[0.6666666666666666,\"#ed7953\"],[0.7777777777777778,\"#fb9f3a\"],[0.8888888888888888,\"#fdca26\"],[1.0,\"#f0f921\"]]},\"colorway\":[\"#636efa\",\"#EF553B\",\"#00cc96\",\"#ab63fa\",\"#FFA15A\",\"#19d3f3\",\"#FF6692\",\"#B6E880\",\"#FF97FF\",\"#FECB52\"],\"font\":{\"color\":\"#2a3f5f\"},\"geo\":{\"bgcolor\":\"white\",\"lakecolor\":\"white\",\"landcolor\":\"#E5ECF6\",\"showlakes\":true,\"showland\":true,\"subunitcolor\":\"white\"},\"hoverlabel\":{\"align\":\"left\"},\"hovermode\":\"closest\",\"mapbox\":{\"style\":\"light\"},\"paper_bgcolor\":\"white\",\"plot_bgcolor\":\"#E5ECF6\",\"polar\":{\"angularaxis\":{\"gridcolor\":\"white\",\"linecolor\":\"white\",\"ticks\":\"\"},\"bgcolor\":\"#E5ECF6\",\"radialaxis\":{\"gridcolor\":\"white\",\"linecolor\":\"white\",\"ticks\":\"\"}},\"scene\":{\"xaxis\":{\"backgroundcolor\":\"#E5ECF6\",\"gridcolor\":\"white\",\"gridwidth\":2,\"linecolor\":\"white\",\"showbackground\":true,\"ticks\":\"\",\"zerolinecolor\":\"white\"},\"yaxis\":{\"backgroundcolor\":\"#E5ECF6\",\"gridcolor\":\"white\",\"gridwidth\":2,\"linecolor\":\"white\",\"showbackground\":true,\"ticks\":\"\",\"zerolinecolor\":\"white\"},\"zaxis\":{\"backgroundcolor\":\"#E5ECF6\",\"gridcolor\":\"white\",\"gridwidth\":2,\"linecolor\":\"white\",\"showbackground\":true,\"ticks\":\"\",\"zerolinecolor\":\"white\"}},\"shapedefaults\":{\"line\":{\"color\":\"#2a3f5f\"}},\"ternary\":{\"aaxis\":{\"gridcolor\":\"white\",\"linecolor\":\"white\",\"ticks\":\"\"},\"baxis\":{\"gridcolor\":\"white\",\"linecolor\":\"white\",\"ticks\":\"\"},\"bgcolor\":\"#E5ECF6\",\"caxis\":{\"gridcolor\":\"white\",\"linecolor\":\"white\",\"ticks\":\"\"}},\"title\":{\"x\":0.05},\"xaxis\":{\"automargin\":true,\"gridcolor\":\"white\",\"linecolor\":\"white\",\"ticks\":\"\",\"title\":{\"standoff\":15},\"zerolinecolor\":\"white\",\"zerolinewidth\":2},\"yaxis\":{\"automargin\":true,\"gridcolor\":\"white\",\"linecolor\":\"white\",\"ticks\":\"\",\"title\":{\"standoff\":15},\"zerolinecolor\":\"white\",\"zerolinewidth\":2}}},\"title\":{\"text\":\"bbtu flows for 42113\"},\"font\":{\"size\":12}},                        {\"responsive\": true}                    ).then(function(){\n",
       "                            \n",
       "var gd = document.getElementById('8d526842-6583-4d41-87d2-46f606540619');\n",
       "var x = new MutationObserver(function (mutations, observer) {{\n",
       "        var display = window.getComputedStyle(gd).display;\n",
       "        if (!display || display === 'none') {{\n",
       "            console.log([gd, 'removed!']);\n",
       "            Plotly.purge(gd);\n",
       "            observer.disconnect();\n",
       "        }}\n",
       "}});\n",
       "\n",
       "// Listen for the removal of the full notebook cells\n",
       "var notebookContainer = gd.closest('#notebook-container');\n",
       "if (notebookContainer) {{\n",
       "    x.observe(notebookContainer, {childList: true});\n",
       "}}\n",
       "\n",
       "// Listen for the clearing of the current output cell\n",
       "var outputEl = gd.closest('.output');\n",
       "if (outputEl) {{\n",
       "    x.observe(outputEl, {childList: true});\n",
       "}}\n",
       "\n",
       "                        })                };                });            </script>        </div>"
      ]
     },
     "metadata": {},
     "output_type": "display_data"
    }
   ],
   "source": [
    "viz = flow.plot_sankey(data=df, region_name=region, \n",
    "                       unit_type1 = 'mgd', unit_type2='bbtu', output_level=3, strip='total')"
   ]
  },
  {
   "cell_type": "code",
   "execution_count": 4,
   "id": "4b0ecf05",
   "metadata": {},
   "outputs": [
    {
     "data": {
      "application/vnd.plotly.v1+json": {
       "config": {
        "plotlyServerURL": "https://plot.ly"
       },
       "data": [
        {
         "alignmentgroup": "True",
         "hovertemplate": "groupname=pumping-fresh-groundwater<br>T1=%{x}<br>value=%{y}<extra></extra>",
         "legendgroup": "pumping-fresh-groundwater",
         "marker": {
          "color": "rgb(95, 70, 144)",
          "pattern": {
           "shape": ""
          }
         },
         "name": "pumping-fresh-groundwater",
         "offsetgroup": "pumping-fresh-groundwater",
         "orientation": "v",
         "showlegend": true,
         "textposition": "auto",
         "type": "bar",
         "x": [
          "PWS"
         ],
         "xaxis": "x",
         "y": [
          0.007103711978683775
         ],
         "yaxis": "y"
        },
        {
         "alignmentgroup": "True",
         "hovertemplate": "groupname=treatment-fresh-groundwater<br>T1=%{x}<br>value=%{y}<extra></extra>",
         "legendgroup": "treatment-fresh-groundwater",
         "marker": {
          "color": "rgb(29, 105, 150)",
          "pattern": {
           "shape": ""
          }
         },
         "name": "treatment-fresh-groundwater",
         "offsetgroup": "treatment-fresh-groundwater",
         "orientation": "v",
         "showlegend": true,
         "textposition": "auto",
         "type": "bar",
         "x": [
          "PWS"
         ],
         "xaxis": "x",
         "y": [
          0.007558379633683775
         ],
         "yaxis": "y"
        },
        {
         "alignmentgroup": "True",
         "hovertemplate": "groupname=treatment-advanced<br>T1=%{x}<br>value=%{y}<extra></extra>",
         "legendgroup": "treatment-advanced",
         "marker": {
          "color": "rgb(56, 166, 165)",
          "pattern": {
           "shape": ""
          }
         },
         "name": "treatment-advanced",
         "offsetgroup": "treatment-advanced",
         "orientation": "v",
         "showlegend": true,
         "textposition": "auto",
         "type": "bar",
         "x": [
          "WWD"
         ],
         "xaxis": "x",
         "y": [
          0.0005201238739999994
         ],
         "yaxis": "y"
        }
       ],
       "layout": {
        "barmode": "relative",
        "font": {
         "color": "black",
         "family": "Arial",
         "size": 15
        },
        "legend": {
         "bordercolor": "#000000",
         "borderwidth": 0,
         "font": {
          "size": 15
         },
         "orientation": "v",
         "title": {
          "font": {
           "size": 15
          },
          "text": "Subsector"
         },
         "tracegroupgap": 0,
         "traceorder": "normal"
        },
        "margin": {
         "t": 60
        },
        "template": {
         "data": {
          "bar": [
           {
            "error_x": {
             "color": "rgb(36,36,36)"
            },
            "error_y": {
             "color": "rgb(36,36,36)"
            },
            "marker": {
             "line": {
              "color": "white",
              "width": 0.5
             },
             "pattern": {
              "fillmode": "overlay",
              "size": 10,
              "solidity": 0.2
             }
            },
            "type": "bar"
           }
          ],
          "barpolar": [
           {
            "marker": {
             "line": {
              "color": "white",
              "width": 0.5
             },
             "pattern": {
              "fillmode": "overlay",
              "size": 10,
              "solidity": 0.2
             }
            },
            "type": "barpolar"
           }
          ],
          "carpet": [
           {
            "aaxis": {
             "endlinecolor": "rgb(36,36,36)",
             "gridcolor": "white",
             "linecolor": "white",
             "minorgridcolor": "white",
             "startlinecolor": "rgb(36,36,36)"
            },
            "baxis": {
             "endlinecolor": "rgb(36,36,36)",
             "gridcolor": "white",
             "linecolor": "white",
             "minorgridcolor": "white",
             "startlinecolor": "rgb(36,36,36)"
            },
            "type": "carpet"
           }
          ],
          "choropleth": [
           {
            "colorbar": {
             "outlinewidth": 1,
             "tickcolor": "rgb(36,36,36)",
             "ticks": "outside"
            },
            "type": "choropleth"
           }
          ],
          "contour": [
           {
            "colorbar": {
             "outlinewidth": 1,
             "tickcolor": "rgb(36,36,36)",
             "ticks": "outside"
            },
            "colorscale": [
             [
              0,
              "#440154"
             ],
             [
              0.1111111111111111,
              "#482878"
             ],
             [
              0.2222222222222222,
              "#3e4989"
             ],
             [
              0.3333333333333333,
              "#31688e"
             ],
             [
              0.4444444444444444,
              "#26828e"
             ],
             [
              0.5555555555555556,
              "#1f9e89"
             ],
             [
              0.6666666666666666,
              "#35b779"
             ],
             [
              0.7777777777777778,
              "#6ece58"
             ],
             [
              0.8888888888888888,
              "#b5de2b"
             ],
             [
              1,
              "#fde725"
             ]
            ],
            "type": "contour"
           }
          ],
          "contourcarpet": [
           {
            "colorbar": {
             "outlinewidth": 1,
             "tickcolor": "rgb(36,36,36)",
             "ticks": "outside"
            },
            "type": "contourcarpet"
           }
          ],
          "heatmap": [
           {
            "colorbar": {
             "outlinewidth": 1,
             "tickcolor": "rgb(36,36,36)",
             "ticks": "outside"
            },
            "colorscale": [
             [
              0,
              "#440154"
             ],
             [
              0.1111111111111111,
              "#482878"
             ],
             [
              0.2222222222222222,
              "#3e4989"
             ],
             [
              0.3333333333333333,
              "#31688e"
             ],
             [
              0.4444444444444444,
              "#26828e"
             ],
             [
              0.5555555555555556,
              "#1f9e89"
             ],
             [
              0.6666666666666666,
              "#35b779"
             ],
             [
              0.7777777777777778,
              "#6ece58"
             ],
             [
              0.8888888888888888,
              "#b5de2b"
             ],
             [
              1,
              "#fde725"
             ]
            ],
            "type": "heatmap"
           }
          ],
          "heatmapgl": [
           {
            "colorbar": {
             "outlinewidth": 1,
             "tickcolor": "rgb(36,36,36)",
             "ticks": "outside"
            },
            "colorscale": [
             [
              0,
              "#440154"
             ],
             [
              0.1111111111111111,
              "#482878"
             ],
             [
              0.2222222222222222,
              "#3e4989"
             ],
             [
              0.3333333333333333,
              "#31688e"
             ],
             [
              0.4444444444444444,
              "#26828e"
             ],
             [
              0.5555555555555556,
              "#1f9e89"
             ],
             [
              0.6666666666666666,
              "#35b779"
             ],
             [
              0.7777777777777778,
              "#6ece58"
             ],
             [
              0.8888888888888888,
              "#b5de2b"
             ],
             [
              1,
              "#fde725"
             ]
            ],
            "type": "heatmapgl"
           }
          ],
          "histogram": [
           {
            "marker": {
             "line": {
              "color": "white",
              "width": 0.6
             }
            },
            "type": "histogram"
           }
          ],
          "histogram2d": [
           {
            "colorbar": {
             "outlinewidth": 1,
             "tickcolor": "rgb(36,36,36)",
             "ticks": "outside"
            },
            "colorscale": [
             [
              0,
              "#440154"
             ],
             [
              0.1111111111111111,
              "#482878"
             ],
             [
              0.2222222222222222,
              "#3e4989"
             ],
             [
              0.3333333333333333,
              "#31688e"
             ],
             [
              0.4444444444444444,
              "#26828e"
             ],
             [
              0.5555555555555556,
              "#1f9e89"
             ],
             [
              0.6666666666666666,
              "#35b779"
             ],
             [
              0.7777777777777778,
              "#6ece58"
             ],
             [
              0.8888888888888888,
              "#b5de2b"
             ],
             [
              1,
              "#fde725"
             ]
            ],
            "type": "histogram2d"
           }
          ],
          "histogram2dcontour": [
           {
            "colorbar": {
             "outlinewidth": 1,
             "tickcolor": "rgb(36,36,36)",
             "ticks": "outside"
            },
            "colorscale": [
             [
              0,
              "#440154"
             ],
             [
              0.1111111111111111,
              "#482878"
             ],
             [
              0.2222222222222222,
              "#3e4989"
             ],
             [
              0.3333333333333333,
              "#31688e"
             ],
             [
              0.4444444444444444,
              "#26828e"
             ],
             [
              0.5555555555555556,
              "#1f9e89"
             ],
             [
              0.6666666666666666,
              "#35b779"
             ],
             [
              0.7777777777777778,
              "#6ece58"
             ],
             [
              0.8888888888888888,
              "#b5de2b"
             ],
             [
              1,
              "#fde725"
             ]
            ],
            "type": "histogram2dcontour"
           }
          ],
          "mesh3d": [
           {
            "colorbar": {
             "outlinewidth": 1,
             "tickcolor": "rgb(36,36,36)",
             "ticks": "outside"
            },
            "type": "mesh3d"
           }
          ],
          "parcoords": [
           {
            "line": {
             "colorbar": {
              "outlinewidth": 1,
              "tickcolor": "rgb(36,36,36)",
              "ticks": "outside"
             }
            },
            "type": "parcoords"
           }
          ],
          "pie": [
           {
            "automargin": true,
            "type": "pie"
           }
          ],
          "scatter": [
           {
            "marker": {
             "colorbar": {
              "outlinewidth": 1,
              "tickcolor": "rgb(36,36,36)",
              "ticks": "outside"
             }
            },
            "type": "scatter"
           }
          ],
          "scatter3d": [
           {
            "line": {
             "colorbar": {
              "outlinewidth": 1,
              "tickcolor": "rgb(36,36,36)",
              "ticks": "outside"
             }
            },
            "marker": {
             "colorbar": {
              "outlinewidth": 1,
              "tickcolor": "rgb(36,36,36)",
              "ticks": "outside"
             }
            },
            "type": "scatter3d"
           }
          ],
          "scattercarpet": [
           {
            "marker": {
             "colorbar": {
              "outlinewidth": 1,
              "tickcolor": "rgb(36,36,36)",
              "ticks": "outside"
             }
            },
            "type": "scattercarpet"
           }
          ],
          "scattergeo": [
           {
            "marker": {
             "colorbar": {
              "outlinewidth": 1,
              "tickcolor": "rgb(36,36,36)",
              "ticks": "outside"
             }
            },
            "type": "scattergeo"
           }
          ],
          "scattergl": [
           {
            "marker": {
             "colorbar": {
              "outlinewidth": 1,
              "tickcolor": "rgb(36,36,36)",
              "ticks": "outside"
             }
            },
            "type": "scattergl"
           }
          ],
          "scattermapbox": [
           {
            "marker": {
             "colorbar": {
              "outlinewidth": 1,
              "tickcolor": "rgb(36,36,36)",
              "ticks": "outside"
             }
            },
            "type": "scattermapbox"
           }
          ],
          "scatterpolar": [
           {
            "marker": {
             "colorbar": {
              "outlinewidth": 1,
              "tickcolor": "rgb(36,36,36)",
              "ticks": "outside"
             }
            },
            "type": "scatterpolar"
           }
          ],
          "scatterpolargl": [
           {
            "marker": {
             "colorbar": {
              "outlinewidth": 1,
              "tickcolor": "rgb(36,36,36)",
              "ticks": "outside"
             }
            },
            "type": "scatterpolargl"
           }
          ],
          "scatterternary": [
           {
            "marker": {
             "colorbar": {
              "outlinewidth": 1,
              "tickcolor": "rgb(36,36,36)",
              "ticks": "outside"
             }
            },
            "type": "scatterternary"
           }
          ],
          "surface": [
           {
            "colorbar": {
             "outlinewidth": 1,
             "tickcolor": "rgb(36,36,36)",
             "ticks": "outside"
            },
            "colorscale": [
             [
              0,
              "#440154"
             ],
             [
              0.1111111111111111,
              "#482878"
             ],
             [
              0.2222222222222222,
              "#3e4989"
             ],
             [
              0.3333333333333333,
              "#31688e"
             ],
             [
              0.4444444444444444,
              "#26828e"
             ],
             [
              0.5555555555555556,
              "#1f9e89"
             ],
             [
              0.6666666666666666,
              "#35b779"
             ],
             [
              0.7777777777777778,
              "#6ece58"
             ],
             [
              0.8888888888888888,
              "#b5de2b"
             ],
             [
              1,
              "#fde725"
             ]
            ],
            "type": "surface"
           }
          ],
          "table": [
           {
            "cells": {
             "fill": {
              "color": "rgb(237,237,237)"
             },
             "line": {
              "color": "white"
             }
            },
            "header": {
             "fill": {
              "color": "rgb(217,217,217)"
             },
             "line": {
              "color": "white"
             }
            },
            "type": "table"
           }
          ]
         },
         "layout": {
          "annotationdefaults": {
           "arrowhead": 0,
           "arrowwidth": 1
          },
          "autotypenumbers": "strict",
          "coloraxis": {
           "colorbar": {
            "outlinewidth": 1,
            "tickcolor": "rgb(36,36,36)",
            "ticks": "outside"
           }
          },
          "colorscale": {
           "diverging": [
            [
             0,
             "rgb(103,0,31)"
            ],
            [
             0.1,
             "rgb(178,24,43)"
            ],
            [
             0.2,
             "rgb(214,96,77)"
            ],
            [
             0.3,
             "rgb(244,165,130)"
            ],
            [
             0.4,
             "rgb(253,219,199)"
            ],
            [
             0.5,
             "rgb(247,247,247)"
            ],
            [
             0.6,
             "rgb(209,229,240)"
            ],
            [
             0.7,
             "rgb(146,197,222)"
            ],
            [
             0.8,
             "rgb(67,147,195)"
            ],
            [
             0.9,
             "rgb(33,102,172)"
            ],
            [
             1,
             "rgb(5,48,97)"
            ]
           ],
           "sequential": [
            [
             0,
             "#440154"
            ],
            [
             0.1111111111111111,
             "#482878"
            ],
            [
             0.2222222222222222,
             "#3e4989"
            ],
            [
             0.3333333333333333,
             "#31688e"
            ],
            [
             0.4444444444444444,
             "#26828e"
            ],
            [
             0.5555555555555556,
             "#1f9e89"
            ],
            [
             0.6666666666666666,
             "#35b779"
            ],
            [
             0.7777777777777778,
             "#6ece58"
            ],
            [
             0.8888888888888888,
             "#b5de2b"
            ],
            [
             1,
             "#fde725"
            ]
           ],
           "sequentialminus": [
            [
             0,
             "#440154"
            ],
            [
             0.1111111111111111,
             "#482878"
            ],
            [
             0.2222222222222222,
             "#3e4989"
            ],
            [
             0.3333333333333333,
             "#31688e"
            ],
            [
             0.4444444444444444,
             "#26828e"
            ],
            [
             0.5555555555555556,
             "#1f9e89"
            ],
            [
             0.6666666666666666,
             "#35b779"
            ],
            [
             0.7777777777777778,
             "#6ece58"
            ],
            [
             0.8888888888888888,
             "#b5de2b"
            ],
            [
             1,
             "#fde725"
            ]
           ]
          },
          "colorway": [
           "#1F77B4",
           "#FF7F0E",
           "#2CA02C",
           "#D62728",
           "#9467BD",
           "#8C564B",
           "#E377C2",
           "#7F7F7F",
           "#BCBD22",
           "#17BECF"
          ],
          "font": {
           "color": "rgb(36,36,36)"
          },
          "geo": {
           "bgcolor": "white",
           "lakecolor": "white",
           "landcolor": "white",
           "showlakes": true,
           "showland": true,
           "subunitcolor": "white"
          },
          "hoverlabel": {
           "align": "left"
          },
          "hovermode": "closest",
          "mapbox": {
           "style": "light"
          },
          "paper_bgcolor": "white",
          "plot_bgcolor": "white",
          "polar": {
           "angularaxis": {
            "gridcolor": "rgb(232,232,232)",
            "linecolor": "rgb(36,36,36)",
            "showgrid": false,
            "showline": true,
            "ticks": "outside"
           },
           "bgcolor": "white",
           "radialaxis": {
            "gridcolor": "rgb(232,232,232)",
            "linecolor": "rgb(36,36,36)",
            "showgrid": false,
            "showline": true,
            "ticks": "outside"
           }
          },
          "scene": {
           "xaxis": {
            "backgroundcolor": "white",
            "gridcolor": "rgb(232,232,232)",
            "gridwidth": 2,
            "linecolor": "rgb(36,36,36)",
            "showbackground": true,
            "showgrid": false,
            "showline": true,
            "ticks": "outside",
            "zeroline": false,
            "zerolinecolor": "rgb(36,36,36)"
           },
           "yaxis": {
            "backgroundcolor": "white",
            "gridcolor": "rgb(232,232,232)",
            "gridwidth": 2,
            "linecolor": "rgb(36,36,36)",
            "showbackground": true,
            "showgrid": false,
            "showline": true,
            "ticks": "outside",
            "zeroline": false,
            "zerolinecolor": "rgb(36,36,36)"
           },
           "zaxis": {
            "backgroundcolor": "white",
            "gridcolor": "rgb(232,232,232)",
            "gridwidth": 2,
            "linecolor": "rgb(36,36,36)",
            "showbackground": true,
            "showgrid": false,
            "showline": true,
            "ticks": "outside",
            "zeroline": false,
            "zerolinecolor": "rgb(36,36,36)"
           }
          },
          "shapedefaults": {
           "fillcolor": "black",
           "line": {
            "width": 0
           },
           "opacity": 0.3
          },
          "ternary": {
           "aaxis": {
            "gridcolor": "rgb(232,232,232)",
            "linecolor": "rgb(36,36,36)",
            "showgrid": false,
            "showline": true,
            "ticks": "outside"
           },
           "baxis": {
            "gridcolor": "rgb(232,232,232)",
            "linecolor": "rgb(36,36,36)",
            "showgrid": false,
            "showline": true,
            "ticks": "outside"
           },
           "bgcolor": "white",
           "caxis": {
            "gridcolor": "rgb(232,232,232)",
            "linecolor": "rgb(36,36,36)",
            "showgrid": false,
            "showline": true,
            "ticks": "outside"
           }
          },
          "title": {
           "x": 0.05
          },
          "xaxis": {
           "automargin": true,
           "gridcolor": "rgb(232,232,232)",
           "linecolor": "rgb(36,36,36)",
           "showgrid": false,
           "showline": true,
           "ticks": "outside",
           "title": {
            "standoff": 15
           },
           "zeroline": false,
           "zerolinecolor": "rgb(36,36,36)"
          },
          "yaxis": {
           "automargin": true,
           "gridcolor": "rgb(232,232,232)",
           "linecolor": "rgb(36,36,36)",
           "showgrid": false,
           "showline": true,
           "ticks": "outside",
           "title": {
            "standoff": 15
           },
           "zeroline": false,
           "zerolinecolor": "rgb(36,36,36)"
          }
         }
        },
        "title": {
         "text": "Inflows to Subsector/Application Values for 42113 region (bbtu)",
         "xanchor": "left",
         "yanchor": "top"
        },
        "xaxis": {
         "anchor": "y",
         "domain": [
          0,
          1
         ],
         "title": {
          "text": ""
         }
        },
        "yaxis": {
         "anchor": "x",
         "domain": [
          0,
          1
         ],
         "title": {
          "text": "bbtu"
         }
        }
       }
      },
      "text/html": [
       "<div>                            <div id=\"f5983c5a-03e5-4e6c-a09d-b443b14cface\" class=\"plotly-graph-div\" style=\"height:525px; width:100%;\"></div>            <script type=\"text/javascript\">                require([\"plotly\"], function(Plotly) {                    window.PLOTLYENV=window.PLOTLYENV || {};                                    if (document.getElementById(\"f5983c5a-03e5-4e6c-a09d-b443b14cface\")) {                    Plotly.newPlot(                        \"f5983c5a-03e5-4e6c-a09d-b443b14cface\",                        [{\"alignmentgroup\":\"True\",\"hovertemplate\":\"groupname=pumping-fresh-groundwater<br>T1=%{x}<br>value=%{y}<extra></extra>\",\"legendgroup\":\"pumping-fresh-groundwater\",\"marker\":{\"color\":\"rgb(95, 70, 144)\",\"pattern\":{\"shape\":\"\"}},\"name\":\"pumping-fresh-groundwater\",\"offsetgroup\":\"pumping-fresh-groundwater\",\"orientation\":\"v\",\"showlegend\":true,\"textposition\":\"auto\",\"x\":[\"PWS\"],\"xaxis\":\"x\",\"y\":[0.007103711978683775],\"yaxis\":\"y\",\"type\":\"bar\"},{\"alignmentgroup\":\"True\",\"hovertemplate\":\"groupname=treatment-fresh-groundwater<br>T1=%{x}<br>value=%{y}<extra></extra>\",\"legendgroup\":\"treatment-fresh-groundwater\",\"marker\":{\"color\":\"rgb(29, 105, 150)\",\"pattern\":{\"shape\":\"\"}},\"name\":\"treatment-fresh-groundwater\",\"offsetgroup\":\"treatment-fresh-groundwater\",\"orientation\":\"v\",\"showlegend\":true,\"textposition\":\"auto\",\"x\":[\"PWS\"],\"xaxis\":\"x\",\"y\":[0.007558379633683775],\"yaxis\":\"y\",\"type\":\"bar\"},{\"alignmentgroup\":\"True\",\"hovertemplate\":\"groupname=treatment-advanced<br>T1=%{x}<br>value=%{y}<extra></extra>\",\"legendgroup\":\"treatment-advanced\",\"marker\":{\"color\":\"rgb(56, 166, 165)\",\"pattern\":{\"shape\":\"\"}},\"name\":\"treatment-advanced\",\"offsetgroup\":\"treatment-advanced\",\"orientation\":\"v\",\"showlegend\":true,\"textposition\":\"auto\",\"x\":[\"WWD\"],\"xaxis\":\"x\",\"y\":[0.0005201238739999994],\"yaxis\":\"y\",\"type\":\"bar\"}],                        {\"template\":{\"data\":{\"barpolar\":[{\"marker\":{\"line\":{\"color\":\"white\",\"width\":0.5},\"pattern\":{\"fillmode\":\"overlay\",\"size\":10,\"solidity\":0.2}},\"type\":\"barpolar\"}],\"bar\":[{\"error_x\":{\"color\":\"rgb(36,36,36)\"},\"error_y\":{\"color\":\"rgb(36,36,36)\"},\"marker\":{\"line\":{\"color\":\"white\",\"width\":0.5},\"pattern\":{\"fillmode\":\"overlay\",\"size\":10,\"solidity\":0.2}},\"type\":\"bar\"}],\"carpet\":[{\"aaxis\":{\"endlinecolor\":\"rgb(36,36,36)\",\"gridcolor\":\"white\",\"linecolor\":\"white\",\"minorgridcolor\":\"white\",\"startlinecolor\":\"rgb(36,36,36)\"},\"baxis\":{\"endlinecolor\":\"rgb(36,36,36)\",\"gridcolor\":\"white\",\"linecolor\":\"white\",\"minorgridcolor\":\"white\",\"startlinecolor\":\"rgb(36,36,36)\"},\"type\":\"carpet\"}],\"choropleth\":[{\"colorbar\":{\"outlinewidth\":1,\"tickcolor\":\"rgb(36,36,36)\",\"ticks\":\"outside\"},\"type\":\"choropleth\"}],\"contourcarpet\":[{\"colorbar\":{\"outlinewidth\":1,\"tickcolor\":\"rgb(36,36,36)\",\"ticks\":\"outside\"},\"type\":\"contourcarpet\"}],\"contour\":[{\"colorbar\":{\"outlinewidth\":1,\"tickcolor\":\"rgb(36,36,36)\",\"ticks\":\"outside\"},\"colorscale\":[[0.0,\"#440154\"],[0.1111111111111111,\"#482878\"],[0.2222222222222222,\"#3e4989\"],[0.3333333333333333,\"#31688e\"],[0.4444444444444444,\"#26828e\"],[0.5555555555555556,\"#1f9e89\"],[0.6666666666666666,\"#35b779\"],[0.7777777777777778,\"#6ece58\"],[0.8888888888888888,\"#b5de2b\"],[1.0,\"#fde725\"]],\"type\":\"contour\"}],\"heatmapgl\":[{\"colorbar\":{\"outlinewidth\":1,\"tickcolor\":\"rgb(36,36,36)\",\"ticks\":\"outside\"},\"colorscale\":[[0.0,\"#440154\"],[0.1111111111111111,\"#482878\"],[0.2222222222222222,\"#3e4989\"],[0.3333333333333333,\"#31688e\"],[0.4444444444444444,\"#26828e\"],[0.5555555555555556,\"#1f9e89\"],[0.6666666666666666,\"#35b779\"],[0.7777777777777778,\"#6ece58\"],[0.8888888888888888,\"#b5de2b\"],[1.0,\"#fde725\"]],\"type\":\"heatmapgl\"}],\"heatmap\":[{\"colorbar\":{\"outlinewidth\":1,\"tickcolor\":\"rgb(36,36,36)\",\"ticks\":\"outside\"},\"colorscale\":[[0.0,\"#440154\"],[0.1111111111111111,\"#482878\"],[0.2222222222222222,\"#3e4989\"],[0.3333333333333333,\"#31688e\"],[0.4444444444444444,\"#26828e\"],[0.5555555555555556,\"#1f9e89\"],[0.6666666666666666,\"#35b779\"],[0.7777777777777778,\"#6ece58\"],[0.8888888888888888,\"#b5de2b\"],[1.0,\"#fde725\"]],\"type\":\"heatmap\"}],\"histogram2dcontour\":[{\"colorbar\":{\"outlinewidth\":1,\"tickcolor\":\"rgb(36,36,36)\",\"ticks\":\"outside\"},\"colorscale\":[[0.0,\"#440154\"],[0.1111111111111111,\"#482878\"],[0.2222222222222222,\"#3e4989\"],[0.3333333333333333,\"#31688e\"],[0.4444444444444444,\"#26828e\"],[0.5555555555555556,\"#1f9e89\"],[0.6666666666666666,\"#35b779\"],[0.7777777777777778,\"#6ece58\"],[0.8888888888888888,\"#b5de2b\"],[1.0,\"#fde725\"]],\"type\":\"histogram2dcontour\"}],\"histogram2d\":[{\"colorbar\":{\"outlinewidth\":1,\"tickcolor\":\"rgb(36,36,36)\",\"ticks\":\"outside\"},\"colorscale\":[[0.0,\"#440154\"],[0.1111111111111111,\"#482878\"],[0.2222222222222222,\"#3e4989\"],[0.3333333333333333,\"#31688e\"],[0.4444444444444444,\"#26828e\"],[0.5555555555555556,\"#1f9e89\"],[0.6666666666666666,\"#35b779\"],[0.7777777777777778,\"#6ece58\"],[0.8888888888888888,\"#b5de2b\"],[1.0,\"#fde725\"]],\"type\":\"histogram2d\"}],\"histogram\":[{\"marker\":{\"line\":{\"color\":\"white\",\"width\":0.6}},\"type\":\"histogram\"}],\"mesh3d\":[{\"colorbar\":{\"outlinewidth\":1,\"tickcolor\":\"rgb(36,36,36)\",\"ticks\":\"outside\"},\"type\":\"mesh3d\"}],\"parcoords\":[{\"line\":{\"colorbar\":{\"outlinewidth\":1,\"tickcolor\":\"rgb(36,36,36)\",\"ticks\":\"outside\"}},\"type\":\"parcoords\"}],\"pie\":[{\"automargin\":true,\"type\":\"pie\"}],\"scatter3d\":[{\"line\":{\"colorbar\":{\"outlinewidth\":1,\"tickcolor\":\"rgb(36,36,36)\",\"ticks\":\"outside\"}},\"marker\":{\"colorbar\":{\"outlinewidth\":1,\"tickcolor\":\"rgb(36,36,36)\",\"ticks\":\"outside\"}},\"type\":\"scatter3d\"}],\"scattercarpet\":[{\"marker\":{\"colorbar\":{\"outlinewidth\":1,\"tickcolor\":\"rgb(36,36,36)\",\"ticks\":\"outside\"}},\"type\":\"scattercarpet\"}],\"scattergeo\":[{\"marker\":{\"colorbar\":{\"outlinewidth\":1,\"tickcolor\":\"rgb(36,36,36)\",\"ticks\":\"outside\"}},\"type\":\"scattergeo\"}],\"scattergl\":[{\"marker\":{\"colorbar\":{\"outlinewidth\":1,\"tickcolor\":\"rgb(36,36,36)\",\"ticks\":\"outside\"}},\"type\":\"scattergl\"}],\"scattermapbox\":[{\"marker\":{\"colorbar\":{\"outlinewidth\":1,\"tickcolor\":\"rgb(36,36,36)\",\"ticks\":\"outside\"}},\"type\":\"scattermapbox\"}],\"scatterpolargl\":[{\"marker\":{\"colorbar\":{\"outlinewidth\":1,\"tickcolor\":\"rgb(36,36,36)\",\"ticks\":\"outside\"}},\"type\":\"scatterpolargl\"}],\"scatterpolar\":[{\"marker\":{\"colorbar\":{\"outlinewidth\":1,\"tickcolor\":\"rgb(36,36,36)\",\"ticks\":\"outside\"}},\"type\":\"scatterpolar\"}],\"scatter\":[{\"marker\":{\"colorbar\":{\"outlinewidth\":1,\"tickcolor\":\"rgb(36,36,36)\",\"ticks\":\"outside\"}},\"type\":\"scatter\"}],\"scatterternary\":[{\"marker\":{\"colorbar\":{\"outlinewidth\":1,\"tickcolor\":\"rgb(36,36,36)\",\"ticks\":\"outside\"}},\"type\":\"scatterternary\"}],\"surface\":[{\"colorbar\":{\"outlinewidth\":1,\"tickcolor\":\"rgb(36,36,36)\",\"ticks\":\"outside\"},\"colorscale\":[[0.0,\"#440154\"],[0.1111111111111111,\"#482878\"],[0.2222222222222222,\"#3e4989\"],[0.3333333333333333,\"#31688e\"],[0.4444444444444444,\"#26828e\"],[0.5555555555555556,\"#1f9e89\"],[0.6666666666666666,\"#35b779\"],[0.7777777777777778,\"#6ece58\"],[0.8888888888888888,\"#b5de2b\"],[1.0,\"#fde725\"]],\"type\":\"surface\"}],\"table\":[{\"cells\":{\"fill\":{\"color\":\"rgb(237,237,237)\"},\"line\":{\"color\":\"white\"}},\"header\":{\"fill\":{\"color\":\"rgb(217,217,217)\"},\"line\":{\"color\":\"white\"}},\"type\":\"table\"}]},\"layout\":{\"annotationdefaults\":{\"arrowhead\":0,\"arrowwidth\":1},\"autotypenumbers\":\"strict\",\"coloraxis\":{\"colorbar\":{\"outlinewidth\":1,\"tickcolor\":\"rgb(36,36,36)\",\"ticks\":\"outside\"}},\"colorscale\":{\"diverging\":[[0.0,\"rgb(103,0,31)\"],[0.1,\"rgb(178,24,43)\"],[0.2,\"rgb(214,96,77)\"],[0.3,\"rgb(244,165,130)\"],[0.4,\"rgb(253,219,199)\"],[0.5,\"rgb(247,247,247)\"],[0.6,\"rgb(209,229,240)\"],[0.7,\"rgb(146,197,222)\"],[0.8,\"rgb(67,147,195)\"],[0.9,\"rgb(33,102,172)\"],[1.0,\"rgb(5,48,97)\"]],\"sequential\":[[0.0,\"#440154\"],[0.1111111111111111,\"#482878\"],[0.2222222222222222,\"#3e4989\"],[0.3333333333333333,\"#31688e\"],[0.4444444444444444,\"#26828e\"],[0.5555555555555556,\"#1f9e89\"],[0.6666666666666666,\"#35b779\"],[0.7777777777777778,\"#6ece58\"],[0.8888888888888888,\"#b5de2b\"],[1.0,\"#fde725\"]],\"sequentialminus\":[[0.0,\"#440154\"],[0.1111111111111111,\"#482878\"],[0.2222222222222222,\"#3e4989\"],[0.3333333333333333,\"#31688e\"],[0.4444444444444444,\"#26828e\"],[0.5555555555555556,\"#1f9e89\"],[0.6666666666666666,\"#35b779\"],[0.7777777777777778,\"#6ece58\"],[0.8888888888888888,\"#b5de2b\"],[1.0,\"#fde725\"]]},\"colorway\":[\"#1F77B4\",\"#FF7F0E\",\"#2CA02C\",\"#D62728\",\"#9467BD\",\"#8C564B\",\"#E377C2\",\"#7F7F7F\",\"#BCBD22\",\"#17BECF\"],\"font\":{\"color\":\"rgb(36,36,36)\"},\"geo\":{\"bgcolor\":\"white\",\"lakecolor\":\"white\",\"landcolor\":\"white\",\"showlakes\":true,\"showland\":true,\"subunitcolor\":\"white\"},\"hoverlabel\":{\"align\":\"left\"},\"hovermode\":\"closest\",\"mapbox\":{\"style\":\"light\"},\"paper_bgcolor\":\"white\",\"plot_bgcolor\":\"white\",\"polar\":{\"angularaxis\":{\"gridcolor\":\"rgb(232,232,232)\",\"linecolor\":\"rgb(36,36,36)\",\"showgrid\":false,\"showline\":true,\"ticks\":\"outside\"},\"bgcolor\":\"white\",\"radialaxis\":{\"gridcolor\":\"rgb(232,232,232)\",\"linecolor\":\"rgb(36,36,36)\",\"showgrid\":false,\"showline\":true,\"ticks\":\"outside\"}},\"scene\":{\"xaxis\":{\"backgroundcolor\":\"white\",\"gridcolor\":\"rgb(232,232,232)\",\"gridwidth\":2,\"linecolor\":\"rgb(36,36,36)\",\"showbackground\":true,\"showgrid\":false,\"showline\":true,\"ticks\":\"outside\",\"zeroline\":false,\"zerolinecolor\":\"rgb(36,36,36)\"},\"yaxis\":{\"backgroundcolor\":\"white\",\"gridcolor\":\"rgb(232,232,232)\",\"gridwidth\":2,\"linecolor\":\"rgb(36,36,36)\",\"showbackground\":true,\"showgrid\":false,\"showline\":true,\"ticks\":\"outside\",\"zeroline\":false,\"zerolinecolor\":\"rgb(36,36,36)\"},\"zaxis\":{\"backgroundcolor\":\"white\",\"gridcolor\":\"rgb(232,232,232)\",\"gridwidth\":2,\"linecolor\":\"rgb(36,36,36)\",\"showbackground\":true,\"showgrid\":false,\"showline\":true,\"ticks\":\"outside\",\"zeroline\":false,\"zerolinecolor\":\"rgb(36,36,36)\"}},\"shapedefaults\":{\"fillcolor\":\"black\",\"line\":{\"width\":0},\"opacity\":0.3},\"ternary\":{\"aaxis\":{\"gridcolor\":\"rgb(232,232,232)\",\"linecolor\":\"rgb(36,36,36)\",\"showgrid\":false,\"showline\":true,\"ticks\":\"outside\"},\"baxis\":{\"gridcolor\":\"rgb(232,232,232)\",\"linecolor\":\"rgb(36,36,36)\",\"showgrid\":false,\"showline\":true,\"ticks\":\"outside\"},\"bgcolor\":\"white\",\"caxis\":{\"gridcolor\":\"rgb(232,232,232)\",\"linecolor\":\"rgb(36,36,36)\",\"showgrid\":false,\"showline\":true,\"ticks\":\"outside\"}},\"title\":{\"x\":0.05},\"xaxis\":{\"automargin\":true,\"gridcolor\":\"rgb(232,232,232)\",\"linecolor\":\"rgb(36,36,36)\",\"showgrid\":false,\"showline\":true,\"ticks\":\"outside\",\"title\":{\"standoff\":15},\"zeroline\":false,\"zerolinecolor\":\"rgb(36,36,36)\"},\"yaxis\":{\"automargin\":true,\"gridcolor\":\"rgb(232,232,232)\",\"linecolor\":\"rgb(36,36,36)\",\"showgrid\":false,\"showline\":true,\"ticks\":\"outside\",\"title\":{\"standoff\":15},\"zeroline\":false,\"zerolinecolor\":\"rgb(36,36,36)\"}}},\"xaxis\":{\"anchor\":\"y\",\"domain\":[0.0,1.0],\"title\":{\"text\":\"\"}},\"yaxis\":{\"anchor\":\"x\",\"domain\":[0.0,1.0],\"title\":{\"text\":\"bbtu\"}},\"legend\":{\"title\":{\"text\":\"Subsector\",\"font\":{\"size\":15}},\"tracegroupgap\":0,\"font\":{\"size\":15},\"orientation\":\"v\",\"bordercolor\":\"#000000\",\"borderwidth\":0,\"traceorder\":\"normal\"},\"margin\":{\"t\":60},\"barmode\":\"relative\",\"font\":{\"family\":\"Arial\",\"size\":15,\"color\":\"black\"},\"title\":{\"text\":\"Inflows to Subsector/Application Values for 42113 region (bbtu)\",\"xanchor\":\"left\",\"yanchor\":\"top\"}},                        {\"responsive\": true}                    ).then(function(){\n",
       "                            \n",
       "var gd = document.getElementById('f5983c5a-03e5-4e6c-a09d-b443b14cface');\n",
       "var x = new MutationObserver(function (mutations, observer) {{\n",
       "        var display = window.getComputedStyle(gd).display;\n",
       "        if (!display || display === 'none') {{\n",
       "            console.log([gd, 'removed!']);\n",
       "            Plotly.purge(gd);\n",
       "            observer.disconnect();\n",
       "        }}\n",
       "}});\n",
       "\n",
       "// Listen for the removal of the full notebook cells\n",
       "var notebookContainer = gd.closest('#notebook-container');\n",
       "if (notebookContainer) {{\n",
       "    x.observe(notebookContainer, {childList: true});\n",
       "}}\n",
       "\n",
       "// Listen for the clearing of the current output cell\n",
       "var outputEl = gd.closest('.output');\n",
       "if (outputEl) {{\n",
       "    x.observe(outputEl, {childList: true});\n",
       "}}\n",
       "\n",
       "                        })                };                });            </script>        </div>"
      ]
     },
     "metadata": {},
     "output_type": "display_data"
    }
   ],
   "source": [
    "flow.plot_sector_bar(data=df, unit_type='bbtu', region_name =region, \n",
    "              sector_list=['WWD', 'PWS', 'ACI'], \n",
    "              inflow=True, strip='total')"
   ]
  },
  {
   "cell_type": "code",
   "execution_count": null,
   "id": "43da8799",
   "metadata": {},
   "outputs": [],
   "source": []
  },
  {
   "cell_type": "code",
   "execution_count": null,
   "id": "3c98d694",
   "metadata": {},
   "outputs": [],
   "source": []
  },
  {
   "cell_type": "code",
   "execution_count": null,
   "id": "1d76b7cc",
   "metadata": {},
   "outputs": [],
   "source": []
  },
  {
   "cell_type": "code",
   "execution_count": null,
   "id": "90bf5872",
   "metadata": {},
   "outputs": [],
   "source": []
  },
  {
   "cell_type": "code",
   "execution_count": null,
   "id": "6c2d3d42",
   "metadata": {},
   "outputs": [],
   "source": []
  },
  {
   "cell_type": "code",
   "execution_count": null,
   "id": "0b848e25",
   "metadata": {},
   "outputs": [],
   "source": []
  },
  {
   "cell_type": "code",
   "execution_count": null,
   "id": "5018809b",
   "metadata": {},
   "outputs": [],
   "source": []
  },
  {
   "cell_type": "code",
   "execution_count": null,
   "id": "18a18702",
   "metadata": {},
   "outputs": [],
   "source": []
  },
  {
   "cell_type": "code",
   "execution_count": null,
   "id": "b2b80236",
   "metadata": {},
   "outputs": [],
   "source": [
    "import plotly.graph_objects as go\n",
    "import plotly.express as px\n",
    "\n",
    "fig = go.Figure()\n",
    "\n",
    "fips = list(data2['region'].unique())\n",
    "\n",
    "for fipscode in fips:\n",
    "    fig.add_trace(\n",
    "        go.Scatter(\n",
    "            x = data2['T1'][data2['region']==fipscode],\n",
    "            y = data2['value'][data2['region']==fipscode],\n",
    "            name = fipscode, visible = True\n",
    "        )\n",
    "    )\n",
    "    \n",
    "buttons = []\n",
    "\n",
    "for i, fipscode in enumerate(fips):\n",
    "    args = [False] * len(fips)\n",
    "    args[i] = True\n",
    "    \n",
    "    button = dict(label = fipscode,\n",
    "                  method = \"update\",\n",
    "                  args=[{\"visible\": args}])\n",
    "    \n",
    "    buttons.append(button)\n",
    "    \n",
    "fig.update_layout(\n",
    "    updatemenus=[dict(\n",
    "                    active=0,\n",
    "                    type=\"dropdown\",\n",
    "                    buttons=buttons,\n",
    "                    x = 0,\n",
    "                    y = 1.1,\n",
    "                    xanchor = 'left',\n",
    "                    yanchor = 'bottom'\n",
    "                )], \n",
    "    autosize=False,\n",
    "    width=1000,\n",
    "    height=800\n",
    ")"
   ]
  },
  {
   "cell_type": "code",
   "execution_count": null,
   "id": "fd63e8de",
   "metadata": {},
   "outputs": [],
   "source": []
  },
  {
   "cell_type": "code",
   "execution_count": null,
   "id": "a0f67015",
   "metadata": {},
   "outputs": [],
   "source": [
    "from urllib.request import urlopen\n",
    "import json\n",
    "json_file = r\"C:\\Users\\mong275\\Local Files\\Repos\\flow\\flow\\data\\geojson-counties-fips.json\"\n",
    "f = open(json_file)\n",
    "counties = json.load(f)\n",
    "import plotly.express as px\n",
    "\n",
    "\n",
    "fig = px.choropleth_mapbox(df, geojson=counties, locations='region', color='value',\n",
    "                           color_continuous_scale=\"Viridis\",\n",
    "                           #range_color=(0, 12),\n",
    "                           mapbox_style=\"carto-positron\",\n",
    "                           zoom=2, center = {\"lat\": 37.0902, \"lon\": -95.7129},\n",
    "                           opacity=0.5,\n",
    "                          )\n",
    "fig.update_layout(margin={\"r\":0,\"t\":0,\"l\":0,\"b\":0})\n",
    "fig.show()"
   ]
  },
  {
   "cell_type": "code",
   "execution_count": null,
   "id": "bde7afb6",
   "metadata": {},
   "outputs": [],
   "source": [
    "# Data\n",
    "df = px.data.gapminder().query(\"year==2007\")\n",
    "\n",
    "cols_dd = [\"T1\", \"S1\"]\n",
    "# we need to add this to select which trace \n",
    "# is going to be visible\n",
    "visible = np.array(cols_dd)\n",
    "\n",
    "# define traces and buttons at once\n",
    "traces = []\n",
    "buttons = []\n",
    "for value in cols_dd:\n",
    "    traces.append(go.Choropleth(\n",
    "       locations=df['iso_alpha'], # Spatial coordinates\n",
    "        z=df[value].astype(float), # Data to be color-coded\n",
    "        colorbar_title=value,\n",
    "        visible= True if value==cols_dd[0] else False))\n",
    "\n",
    "    buttons.append(dict(label=value,\n",
    "                        method=\"update\",\n",
    "                        args=[{\"visible\":list(visible==value)},\n",
    "                              {\"title\":f\"<b>{value}</b>\"}]))\n",
    "\n",
    "updatemenus = [{\"active\":0,\n",
    "                \"buttons\":buttons,\n",
    "               }]\n",
    "\n",
    "\n",
    "# Show figure\n",
    "fig = go.Figure(data=traces,\n",
    "                layout=dict(updatemenus=updatemenus))\n",
    "# This is in order to get the first title displayed correctly\n",
    "first_title = cols_dd[0]\n",
    "fig.update_layout(title=f\"<b>{first_title}</b>\",title_x=0.5)\n",
    "fig.show()"
   ]
  },
  {
   "cell_type": "code",
   "execution_count": null,
   "id": "63a1e749",
   "metadata": {},
   "outputs": [],
   "source": []
  },
  {
   "cell_type": "code",
   "execution_count": null,
   "id": "5bfa7837",
   "metadata": {},
   "outputs": [],
   "source": []
  },
  {
   "cell_type": "code",
   "execution_count": null,
   "id": "b1091226",
   "metadata": {},
   "outputs": [],
   "source": []
  },
  {
   "cell_type": "code",
   "execution_count": null,
   "id": "ffef60e7",
   "metadata": {},
   "outputs": [],
   "source": []
  },
  {
   "cell_type": "code",
   "execution_count": null,
   "id": "963bdd27",
   "metadata": {},
   "outputs": [],
   "source": []
  },
  {
   "cell_type": "code",
   "execution_count": null,
   "id": "409f1f9f",
   "metadata": {},
   "outputs": [],
   "source": []
  },
  {
   "cell_type": "code",
   "execution_count": null,
   "id": "2aa6bf37",
   "metadata": {},
   "outputs": [],
   "source": []
  },
  {
   "cell_type": "code",
   "execution_count": null,
   "id": "a7a4f953",
   "metadata": {},
   "outputs": [],
   "source": []
  },
  {
   "cell_type": "code",
   "execution_count": null,
   "id": "9db2dfbf",
   "metadata": {},
   "outputs": [],
   "source": []
  },
  {
   "cell_type": "code",
   "execution_count": null,
   "id": "fa4c7842",
   "metadata": {},
   "outputs": [],
   "source": [
    "\n",
    "\n"
   ]
  },
  {
   "cell_type": "code",
   "execution_count": null,
   "id": "29996408-edb9-47dd-8a09-5860e94c7160",
   "metadata": {},
   "outputs": [],
   "source": [
    "df2 = df.groupby(['S1','t1','units'], as_index=False).sum()\n",
    "df2"
   ]
  },
  {
   "cell_type": "code",
   "execution_count": null,
   "id": "f9990ee6-fce3-4c99-a592-470c028ee4f4",
   "metadata": {},
   "outputs": [],
   "source": [
    "df = flow.prep_water_use_2015()\n",
    "df"
   ]
  },
  {
   "cell_type": "code",
   "execution_count": null,
   "id": "60ff21a6-9cb5-4590-87bf-cd7131fbeaa5",
   "metadata": {},
   "outputs": [],
   "source": []
  },
  {
   "cell_type": "code",
   "execution_count": null,
   "id": "2125c393-a48f-4c5f-a5bf-a2ee4919e8a4",
   "metadata": {},
   "outputs": [],
   "source": []
  },
  {
   "cell_type": "code",
   "execution_count": null,
   "id": "be18127c-5ffc-42de-8959-5b1a03c40c0a",
   "metadata": {},
   "outputs": [],
   "source": [
    "df.to_csv(r\"C:\\Users\\mong275\\Local Files\\Repos\\full_run_output.csv\", index=False)"
   ]
  },
  {
   "cell_type": "code",
   "execution_count": null,
   "id": "abf1a541-6797-4375-aa8b-2ca7e1eafe44",
   "metadata": {},
   "outputs": [],
   "source": [
    "df.to_csv(r\"C:\\Users\\mong275\\Local Files\\Repos\\flow\\sample_data\\full_output.csv\")"
   ]
  },
  {
   "cell_type": "code",
   "execution_count": null,
   "id": "9d56ff8e-363e-4768-be96-786c43136fee",
   "metadata": {},
   "outputs": [],
   "source": [
    "df2 = df.copy()\n",
    "df2 = df2[df.region == '41071']\n",
    "df2 = df2[df2.t1 == 'WWD']\n",
    "df2 = df2[df2.units == 'bbtu']\n",
    "df2.sort_values(by=['value'], inplace=True, ascending=False)\n",
    "\n",
    "df2.replace('total', \"\", inplace=True)\n",
    "df2['source_name'] = df2['S1'] +\" \" + df2['S2'] +\" \" + df2['S3'] +\" \" +df2['S4'] +\" \" +df2['S5']\n",
    "df2['source_name'] = df2['source_name'].str.strip()\n",
    "df2['target_name'] = df2['t1'] +\" \" + df2['t2'] +\" \" + df2['t3'] +\" \" +df2['t4'] +\" \" +df2['t5']\n",
    "df2['target_name'] = df2['target_name'].str.strip()\n",
    "df2['flow_name'] = df2['source_name'] + ' to ' + df2['target_name']\n",
    "df2['flow_name'] = df2['flow_name'].str.strip()\n",
    "\n",
    "flow_list = df2['flow_name'].head().to_list()\n",
    "value_list = df2['value'].round(4).head().to_list()\n",
    "\n",
    "dictionary = dict(zip(flow_list, value_list))\n",
    "\n",
    "\n",
    "#print(f'The top flows to {sector_name} in {unit_type} in {region_name} are: ')\n",
    "print(f'The top bbtu flows to WWD in 41071 are: ')\n",
    "for name in dictionary:\n",
    "    print(f'{name}        {dictionary[name]}  bbtu')\n",
    "        "
   ]
  },
  {
   "cell_type": "code",
   "execution_count": null,
   "id": "e2b7675b-0d1d-48bc-9bae-b9eeb1c232b8",
   "metadata": {},
   "outputs": [],
   "source": []
  },
  {
   "cell_type": "code",
   "execution_count": null,
   "id": "6c8b7401-fcd5-4483-bd17-cdebf7c9bd1b",
   "metadata": {},
   "outputs": [],
   "source": [
    "d = flow.calculate()\n",
    "d"
   ]
  },
  {
   "cell_type": "code",
   "execution_count": null,
   "id": "03856543-cce9-493b-9dda-5ea8ec33f15e",
   "metadata": {},
   "outputs": [],
   "source": [
    "d['1_PWS_fresh_surfacewater_total_total_mgd']"
   ]
  },
  {
   "cell_type": "code",
   "execution_count": null,
   "id": "96213a8c-4062-4ef3-9e49-1ef948e1008c",
   "metadata": {},
   "outputs": [],
   "source": [
    "d = pd.read_csv(r\"C:\\Users\\mong275\\Local Files\\Repos\\flow\\flow\\data\\configuration_data\\test_data_01-28.csv\")\n",
    "d\n",
    "n = flow.construct_nested_dictionary(d)\n",
    "n"
   ]
  },
  {
   "cell_type": "code",
   "execution_count": null,
   "id": "bdb2c0c7-c1c1-451b-944b-18c5704d0901",
   "metadata": {},
   "outputs": [],
   "source": [
    "d = flow.read_config('baseline', 'file1')\n",
    "d"
   ]
  },
  {
   "cell_type": "code",
   "execution_count": null,
   "id": "e75be887-857b-4631-b4b8-d52f7a7b54f4",
   "metadata": {},
   "outputs": [],
   "source": [
    "with open(r'C:\\Users\\mong275\\Local Files\\Repos\\flow\\flow\\data\\configuration_data\\config.yml') as file:\n",
    "    dict_name = yaml.safe_load(file)\n",
    "dict_name['collect_water']['file2']['path']"
   ]
  },
  {
   "cell_type": "code",
   "execution_count": null,
   "id": "520cca29-9e85-4203-a4c3-e626fc460db9",
   "metadata": {},
   "outputs": [],
   "source": [
    "with open('flow/configuration.yml', 'r') as file:\n",
    "    prime_service = yaml.safe_load(file)\n",
    "prime_service['rest']['url']"
   ]
  },
  {
   "cell_type": "code",
   "execution_count": null,
   "id": "1e74fcbb-392c-4e0b-a55b-0d7dd76a952b",
   "metadata": {},
   "outputs": [],
   "source": [
    "b = flow.calc_energy_direct_demand_water_use()\n",
    "b\n",
    "for columns in b.columns:\n",
    "    print (columns)\n",
    "b"
   ]
  },
  {
   "cell_type": "code",
   "execution_count": null,
   "id": "5070e3d1-abf1-44d8-a17b-2eba89737f08",
   "metadata": {},
   "outputs": [],
   "source": [
    "split_types = flow.test_EP_flows()\n",
    "split_types"
   ]
  },
  {
   "cell_type": "code",
   "execution_count": null,
   "id": "bfac5df4-6479-441b-bf83-b752a1784ef4",
   "metadata": {},
   "outputs": [],
   "source": [
    "target_types = flow.test_water_sector_energy_discharge()\n",
    "split_dict = flow.construct_nested_dictionary(target_types)\n",
    "\n",
    "for x1 in split_dict:\n",
    "    l1_energy_name = f'{x1}_bbtu'\n",
    "    for x2 in split_dict[x1]:\n",
    "        l2_energy_name = f'{x1}_{x2}_bbtu'\n",
    "        for x3 in split_dict[x1][x2]:\n",
    "            l3_energy_name = f'{x1}_{x2}_{x3}_bbtu'\n",
    "            for x4 in split_dict[x1][x2][x3]:\n",
    "                l4_energy_name = f'{x1}_{x2}_{x3}_{x4}_bbtu'\n",
    "                for x5 in split_dict[x1][x2][x3][x4]:\n",
    "                    l5_energy_name = f'{x1}_{x2}_{x3}_{x4}_{x5}_mgd'\n",
    "                    if l5_energy_name in l5_dict:\n",
    "                        for m_type in split_dict[x1][x2][x3][x4][x5]:\n",
    "                            print(split_dict[x1][x2][x3][x4][x5][m_type])"
   ]
  },
  {
   "cell_type": "code",
   "execution_count": null,
   "id": "47ce08bd-79f0-4d3e-8382-32909426adf4",
   "metadata": {},
   "outputs": [],
   "source": [
    "\n",
    "p = flow.test_ww_param()\n",
    "#f = flow.test_EP_flows()\n",
    "\n",
    "d = flow.calc_collect_water_use()\n",
    "for col in d.columns:\n",
    "    print(col)"
   ]
  },
  {
   "cell_type": "code",
   "execution_count": null,
   "id": "48a09b64-9caf-4bcc-85a7-d2d7ff62fe76",
   "metadata": {},
   "outputs": [],
   "source": [
    "b = flow.test_water_sector_param()\n",
    "d = flow.construct_nested_dictionary(b)\n",
    "\n",
    "\n",
    "for x1 in d:\n",
    "    l1_demand_name = f'{x1}_mgd'\n",
    "    l1_demand_value = 0\n",
    "    for x2 in d[x1]:\n",
    "        l2_demand_name = f'{x1}_{x2}_mgd'\n",
    "        l2_demand_value = 0\n",
    "        for x3 in d[x1][x2]:\n",
    "            l3_demand_name = f'{x1}_{x2}_{x3}_mgd'\n",
    "            l3_demand_value = 0\n",
    "            for x4 in d[x1][x2][x3]:\n",
    "                l4_demand_name = f'{x1}_{x2}_{x3}_{x4}_mgd'\n",
    "                l4_demand_value = 0\n",
    "                for x5 in d[x1][x2][x3][x4]:\n",
    "                    l5_demand_name = f'{x1}_{x2}_{x3}_{x4}_{x5}_mgd'\n",
    "                    l5_demand_value = 0\n",
    "                    for s1 in d[x1][x2][x3][x4][x5]:\n",
    "                        for s2 in d[x1][x2][x3][x4][x5][s1]:\n",
    "                            l1_supply_name = f'{s1}_to_{x1}_mgd'\n",
    "\n",
    "                            for s3 in d[x1][x2][x3][x4][x5][s1][s2]:\n",
    "                                l2_supply_name = f'{s1}_{s2}_to_{x1}_{x2}_mgd'\n",
    "                                for s4 in d[x1][x2][x3][x4][x5][s1][s2][s3]:\n",
    "                                    l3_supply_name = f'{s1}_{s2}_{s3}_to_{x1}_{x2}_{x3}_mgd'\n",
    "                                    l5_demand_value = 0\n",
    "                                    for s5 in d[x1][x2][x3][x4][x5][s1][s2][s3][s4]:\n",
    "                                        l4_supply_name = f'{s1}_{s2}_{s3}_{s4}_to_{x1}_{x2}_{x3}_{x4}_mgd'\n",
    "                                        l5_supply_name = f'{s1}_{s2}_{s3}_{s4}_{s5}_to_{x1}_{x2}_{x3}_{x4}_{x5}_mgd'\n",
    "                                        print(l5_supply_name)"
   ]
  },
  {
   "cell_type": "code",
   "execution_count": null,
   "id": "69cc54be-6a46-4bd2-8e67-65573815a90f",
   "metadata": {
    "tags": []
   },
   "outputs": [],
   "source": [
    "\n",
    "#pd.set_option('display.max_rows', None)\n",
    "data = flow.configure_data()\n",
    "source_parameters = flow.get_water_demand_source_parameters()\n",
    "target_parameters = flow.get_water_demand_target_parameters()\n",
    "x = flow.calc_water_to_nonwater_sectors(data=data, source_parameters=source_parameters, target_parameters=target_parameters, output='l5')\n",
    "x.sum()"
   ]
  },
  {
   "cell_type": "code",
   "execution_count": null,
   "id": "88c5c834-f534-4dc9-9e14-23b3f9da99aa",
   "metadata": {},
   "outputs": [],
   "source": [
    "d = flow.calc_pws_discharge()\n",
    "d.sum()"
   ]
  },
  {
   "cell_type": "code",
   "execution_count": null,
   "id": "5bfa0d16-e21d-4324-a970-492d31b35448",
   "metadata": {},
   "outputs": [],
   "source": [
    "d = flow.get_water_use_2015()\n",
    "d['PS-WSWSa'].sum()"
   ]
  },
  {
   "cell_type": "code",
   "execution_count": null,
   "id": "6ec5b8c3-f18c-4cd8-8495-77e47558bb48",
   "metadata": {},
   "outputs": [],
   "source": []
  },
  {
   "cell_type": "code",
   "execution_count": null,
   "id": "f8fb8a71-702f-4af2-ab45-14a02a5ac3e0",
   "metadata": {},
   "outputs": [],
   "source": [
    "df = flow.prep_electricity_demand_data()\n",
    "demand_columns = df.columns[1:5].to_list()\n",
    "demand_columns\n",
    "for d in demand_columns:\n",
    "    df[d] = df[d] * df['pop_weight']\n",
    "    df[d] = df[d].round(4)\n",
    "df.sum()"
   ]
  },
  {
   "cell_type": "code",
   "execution_count": null,
   "id": "c333e000-a7ef-412a-a386-9dc23e9a5152",
   "metadata": {},
   "outputs": [],
   "source": [
    "d = flow.prep_electricity_demand_data()\n",
    "d.dtypes"
   ]
  },
  {
   "cell_type": "code",
   "execution_count": null,
   "id": "e41d97e0-a594-4f1f-a526-04708ee1b25b",
   "metadata": {},
   "outputs": [],
   "source": [
    "df = flow.get_state_electricity_demand_data()\n",
    "\n",
    "    # build renaming dictionary\n",
    "rename_dict = {\"RESIDENTIAL\": \"EG_total_total_total_total_to_RES_total_total_total_total_bbtu\",\n",
    "                   \"COMMERCIAL\": \"EG_total_total_total_total_to_CO_total_total_total_total_bbtu\",\n",
    "                   \"INDUSTRIAL\": \"EG_total_total_total_total_to_IN_total_total_total_total_bbtu\",\n",
    "                   \"TRANSPORTATION\": \"EG_total_total_total_total_to_TR_total_total_total_total_bbtu\"}\n",
    "\n",
    "    # prep dataframe\n",
    "df = df.dropna(subset=[\"Month\"])  # drop rows where month is blank\n",
    "df = df.dropna(subset=[\"Ownership\"])  # Drop state totals and state adjustments\n",
    "df = df[df.Ownership != \"Behind the Meter\"]  # removing behind the meter generation\n",
    "df = df.groupby(\"State\", as_index=False).sum()  # get total by state\n",
    "df = df[[\"State\", \"RESIDENTIAL\", \"COMMERCIAL\", \"INDUSTRIAL\", \"TRANSPORTATION\"]]\n",
    "\n",
    "    # convert electricity demand values from mwh to bbtu\n",
    "column_list = df.columns[1:]\n",
    "for col in column_list:\n",
    "    df[col] = df[col].apply(flow.convert_mwh_bbtu)\n",
    "\n",
    "    # rename columns to add descriptive language\n",
    "df.rename(columns=rename_dict, inplace=True)\n",
    "    \n",
    "\n",
    "    # split out into county values based on percent of state population\n",
    "df = flow.calc_population_county_weight(df)\n",
    "demand_columns = df.columns[1:5].to_list()\n",
    "for d in demand_columns:\n",
    "    df[d] = df[d] * df['pop_weight']\n",
    "    df[d] = df[d].round(4)\n",
    "df"
   ]
  },
  {
   "cell_type": "code",
   "execution_count": null,
   "id": "87ad7cd2-0f6f-4fa6-84ce-a1166654ddf3",
   "metadata": {},
   "outputs": [],
   "source": [
    "y = flow.construct_nested_dictionary(flow.get_fuel_demand_target_parameters())\n",
    "#len(flow.get_fuel_demand_source_parameters())\n",
    "#x = flow.get_fuel_demand_source_parameters()\n",
    "y"
   ]
  },
  {
   "cell_type": "code",
   "execution_count": null,
   "id": "0f26c85e-9014-48ea-8c9d-9ab3e2045b59",
   "metadata": {},
   "outputs": [],
   "source": [
    "x = flow.prep_fuel_demand_data()\n",
    "x"
   ]
  },
  {
   "cell_type": "code",
   "execution_count": null,
   "id": "b284f876-240b-4e07-8d80-e68fe2d704c4",
   "metadata": {},
   "outputs": [],
   "source": [
    "l1_df = pd.DataFrame.from_dict(x, orient='index').transpose()\n"
   ]
  },
  {
   "cell_type": "code",
   "execution_count": null,
   "id": "e258c375-b9d6-4e40-8aee-d046fcb979cd",
   "metadata": {},
   "outputs": [],
   "source": [
    "\n",
    "df = pd.DataFrame()\n",
    "for i in range(len(data)):\n",
    "    df = df.append({'A': 0}, ignore_index=True)\n",
    "df"
   ]
  },
  {
   "cell_type": "code",
   "execution_count": null,
   "id": "4ea7fd6d-236c-40d6-b934-8c53e1cb5a7a",
   "metadata": {},
   "outputs": [],
   "source": [
    "for col in x.columns:\n",
    "    print(col)"
   ]
  },
  {
   "cell_type": "code",
   "execution_count": null,
   "id": "8841ce4e-669b-4674-80b7-ffe68ff672bb",
   "metadata": {},
   "outputs": [],
   "source": [
    "df.sum()"
   ]
  },
  {
   "cell_type": "code",
   "execution_count": null,
   "id": "1d8062b1-8aaf-46c3-83ae-ea0f689041f5",
   "metadata": {},
   "outputs": [],
   "source": [
    "fail_parameter_data = flow.get_electricity_generation_efficiency_parameters()\n",
    "fail_parameter_data = fail_parameter_data.drop(fail_parameter_data.columns[2], axis=1)\n",
    "fail_parameter_data"
   ]
  },
  {
   "cell_type": "code",
   "execution_count": null,
   "id": "d2172fd4-3821-4e1a-8b0c-543f2d81b16f",
   "metadata": {},
   "outputs": [],
   "source": [
    "parameters = flow.get_electricity_generation_efficiency_parameters()\n",
    "test_dict = flow.construct_nested_dictionary(parameters)\n",
    "test_fuel_type = list(test_dict.keys())[0]\n",
    "test_sub_fuel_type = list(test_dict[test_fuel_type].keys())[0]\n",
    "\n",
    "test_sub_fuel_type"
   ]
  },
  {
   "cell_type": "code",
   "execution_count": null,
   "id": "a7f1acb5-2809-473e-a7a7-26f4aa76c489",
   "metadata": {},
   "outputs": [],
   "source": [
    "#df = flow.calc_electricity_energy_discharge(data=d, total=True)\n",
    "df['eg_generation_biomass_to_es_bbtu'][4]"
   ]
  },
  {
   "cell_type": "code",
   "execution_count": null,
   "id": "b9f479ff-493c-44f5-9ac7-f2727103a49d",
   "metadata": {},
   "outputs": [],
   "source": [
    "df.sum()"
   ]
  },
  {
   "cell_type": "code",
   "execution_count": null,
   "id": "8d3ba043-8ad3-4207-8448-93ce9869b21d",
   "metadata": {},
   "outputs": [],
   "source": [
    "df = flow.get_electricity_generation_efficiency_parameters()\n",
    "x = flow.construct_nested_dictionary(df)\n",
    "\n",
    "x['biomass']['total']['efficiency']"
   ]
  },
  {
   "cell_type": "code",
   "execution_count": null,
   "id": "59ab63f6-f156-467e-baa3-437fa0966409",
   "metadata": {},
   "outputs": [],
   "source": [
    "efficiency_dict = {'biomass':{'total'}, 'coal':{'total'}, 'geothermal':{'total'}, 'hydro':{'total'}, 'natgas':{'total'}, 'nuclear':{'total'},\n",
    "                       'oil':{'total'}, 'other':{'total'}, 'solar':{'total'}, 'wind':{'total'}}\n",
    "efficiency_dict"
   ]
  },
  {
   "cell_type": "code",
   "execution_count": null,
   "id": "17f6396a-399e-490a-bf5c-ac2bb8f67850",
   "metadata": {},
   "outputs": [],
   "source": [
    "d = df.groupby(group1).apply(lambda x: dict(zip(x[parameter])))"
   ]
  },
  {
   "cell_type": "code",
   "execution_count": null,
   "id": "4336064c-06d4-42ec-97a2-bce14a3f36a6",
   "metadata": {},
   "outputs": [],
   "source": [
    "group1 = df.columns[0]\n",
    "group2 = df.columns[1]\n",
    "group3 = df.columns[2]\n",
    "group4 = df.columns[3]\n",
    "parameter = df.columns[-2]\n",
    "value = df.columns[-1]\n",
    "\n",
    "\n",
    "d = df.groupby(group1).apply(lambda x: dict(zip(x[parameter], x[value])))\n",
    "d = d.to_dict()\n",
    "d\n"
   ]
  },
  {
   "cell_type": "code",
   "execution_count": null,
   "id": "2832fec1-f381-47a9-9cd7-35af38958799",
   "metadata": {},
   "outputs": [],
   "source": [
    "d = df.groupby(group1).apply(lambda a: dict(a.groupby(group2).apply(lambda b: dict(b.groupby(group3).apply(\n",
    "            lambda b: dict(b.groupby(group4).apply(lambda x: dict(zip(x[parameter], x[value])))))))))"
   ]
  },
  {
   "cell_type": "code",
   "execution_count": null,
   "id": "fb0432fc-7921-4adc-a3df-d3e992adf5ef",
   "metadata": {},
   "outputs": [],
   "source": [
    "main_grouper = df.columns[0]\n",
    "nest_list = df.columns[1:].to_list()\n",
    "second_list =  df.columns[2:]\n",
    "sub_nest_grouper = nest_list[0]"
   ]
  },
  {
   "cell_type": "code",
   "execution_count": null,
   "id": "efa91fc4-f962-40bd-b816-7742e2f0d641",
   "metadata": {},
   "outputs": [],
   "source": [
    "fuel_dict = df.groupby(main_grouper)[nest_list].apply(lambda x: x.set_index([nest_list]).to_dict(orient='index')).to_dict()\n",
    "fuel_dict"
   ]
  },
  {
   "cell_type": "code",
   "execution_count": null,
   "id": "60109bc8-2ca7-4208-a5ff-4fe1fe68a591",
   "metadata": {},
   "outputs": [],
   "source": [
    "for item in res:\n",
    "    print(res['biomass'])\n",
    "    "
   ]
  },
  {
   "cell_type": "code",
   "execution_count": null,
   "id": "4677d33e-ba49-440f-8903-b84368552e8a",
   "metadata": {},
   "outputs": [],
   "source": [
    "numerics = ['int16', 'int32', 'int64', 'float16', 'float32', 'float64']\n",
    "numeric_list = data.select_dtypes(include=numerics).columns.tolist()\n",
    "record_list = []\n",
    "for column in numeric_list:\n",
    "    x = data.columns.get_loc(column)\n",
    "    record_list.append(x)\n",
    "length = min(record_list)\n",
    "\n",
    "\n",
    "main_grouper = data.columns[0]\n",
    "nest_list = data.columns[1:].to_list()\n",
    "sub_nest_grouper = nest_list[0]\n",
    "fuel_dict = data.groupby(main_grouper)[nest_list].apply(lambda x: x.set_index(sub_nest_grouper).to_dict(orient='index')).to_dict()\n",
    "fuel_dict"
   ]
  },
  {
   "cell_type": "code",
   "execution_count": null,
   "id": "a0c1165f-af68-4033-91c9-ab82fccdbda8",
   "metadata": {},
   "outputs": [],
   "source": [
    "main_grouper = data.columns[1]\n",
    "nest_list = data.columns[1:].to_list()\n",
    "sub_nest_grouper = nest_list[0]\n",
    "\n",
    "    # no sub-fuel types\n",
    "main_type_unique = data[main_grouper].is_unique\n",
    "sub_type_unique = data[sub_nest_grouper].is_unique\n",
    "\n",
    "if main_type_unique and sub_type_unique:\n",
    "    fuel_dict = data.set_index(main_grouper).to_dict(orient='index')\n",
    "elif not main_type_unique and not sub_type_unique:\n",
    "\n",
    "    fuel_dict = data.groupby(main_grouper)[nest_list].apply(lambda x: x.set_index(sub_nest_grouper).to_dict(orient='index')).to_dict()\n",
    "else:\n",
    "    pass\n",
    "\n",
    "fuel_dict"
   ]
  },
  {
   "cell_type": "code",
   "execution_count": null,
   "id": "c583dc07-dc26-4a7a-9517-c142ef251c8c",
   "metadata": {},
   "outputs": [],
   "source": [
    "#data.apply(lambda x: x.set_index('fuel_types').to_dict(orient='index'))\n",
    "nest_list = data.columns[2:].to_list()\n",
    "fuel_dict = data.groupby('fuel_type')#[nest_list].apply(lambda x: x.set_index('fuel_type').to_dict(orient='index')).to_dict()\n",
    "fuel_dict = data.set_index('fuel_type').to_dict(orient='index')\n",
    "fuel_dict"
   ]
  },
  {
   "cell_type": "code",
   "execution_count": null,
   "id": "8ee6d0fc-2896-4a7f-a1b2-f91450f9082a",
   "metadata": {},
   "outputs": [],
   "source": [
    "data.head()\n",
    "d = flow.construct_dictionary(data)\n",
    "d"
   ]
  },
  {
   "cell_type": "code",
   "execution_count": null,
   "id": "34e4431e-085c-41c8-b4e2-0ccc668b256c",
   "metadata": {},
   "outputs": [],
   "source": [
    "df.columns[1]\n",
    "nest_list = df.columns[2:].to_list()\n",
    "nest_list[0]"
   ]
  },
  {
   "cell_type": "code",
   "execution_count": null,
   "id": "9f7264c4-b0a6-449b-b0fe-88ab481981b6",
   "metadata": {},
   "outputs": [],
   "source": [
    "my_dict = {1:{'name':'x', 'age':24}, 2:{'name':'y', 'age':21}, 3:{'name':'z', 'age':25}}\n",
    "\n",
    "#my_dict\n",
    "#def count(d):\n",
    "#    return max(count(v) if isinstance(v,dict) else 0 for v in d.values()) + 1\n",
    "\n",
    "#print(count(my_dict))"
   ]
  },
  {
   "cell_type": "code",
   "execution_count": null,
   "id": "0d9c7e14-fe49-4d2e-9da6-1c1194d69f1f",
   "metadata": {},
   "outputs": [],
   "source": [
    "    nested_dict = df.groupby(main_grouper)[nest_list].apply(lambda x: x.set_index(sub_nest_grouper).to_dict(orient='index')).to_dict()\n"
   ]
  },
  {
   "cell_type": "code",
   "execution_count": null,
   "id": "a9ba4c80-9f14-4ae0-ad54-27062868798d",
   "metadata": {},
   "outputs": [],
   "source": [
    "import flow"
   ]
  },
  {
   "cell_type": "code",
   "execution_count": null,
   "id": "9889b2ea-cad5-456e-ad14-7bff4bedeeb6",
   "metadata": {},
   "outputs": [],
   "source": [
    "x = fresh_groundwater_coal_generation_mgd + fresh_surfacewater_coal_generation_mgd + fresh_wastewater_coal_generation_mgd + saline_groundwater_coal_generation_mgd + saline_surfacewater_coal_generation_mgd\n",
    "x\n",
    "z = coal_generation_surface_discharge_mgd + coal_generation_ocean_discharge_mgd\n",
    "x - coal_generation_consumption_mgd "
   ]
  },
  {
   "cell_type": "code",
   "execution_count": null,
   "id": "5196ac0a-6d13-43fe-8368-d5ca603e2694",
   "metadata": {},
   "outputs": [],
   "source": [
    "z"
   ]
  },
  {
   "cell_type": "code",
   "execution_count": null,
   "id": "84bf2c08-5096-46c7-9509-c68d336e0b8a",
   "metadata": {},
   "outputs": [],
   "source": [
    "df = df.groupby('fuel_type')[['sub_fuel','fuel_efficiency','parameter2']].apply(lambda x: x.set_index('sub_fuel').to_dict(orient='index')).to_dict()\n",
    "df"
   ]
  },
  {
   "cell_type": "code",
   "execution_count": null,
   "id": "feeaa715-f555-4071-8d3f-b8792fec5ae6",
   "metadata": {},
   "outputs": [],
   "source": [
    "round(df).sum()"
   ]
  },
  {
   "cell_type": "code",
   "execution_count": null,
   "id": "e99f297a-5597-42e8-af6e-51bf5fa4c4ef",
   "metadata": {},
   "outputs": [],
   "source": [
    "54+45"
   ]
  },
  {
   "cell_type": "code",
   "execution_count": null,
   "id": "34cb526e-9c1b-4689-8b7c-6e4614801cc9",
   "metadata": {},
   "outputs": [],
   "source": [
    "for col in df.columns:\n",
    "    print(col)"
   ]
  },
  {
   "cell_type": "code",
   "execution_count": null,
   "id": "7e804214-e138-4ea2-8e0e-f187050885d9",
   "metadata": {},
   "outputs": [],
   "source": []
  },
  {
   "cell_type": "code",
   "execution_count": null,
   "id": "b11082b6-6e1a-4608-a6a5-4833f050f692",
   "metadata": {},
   "outputs": [],
   "source": [
    "for col in df.columns:\n",
    "    print(col)"
   ]
  },
  {
   "cell_type": "code",
   "execution_count": null,
   "id": "169e6c89-c828-4f9a-b330-3c3b39c94075",
   "metadata": {},
   "outputs": [],
   "source": [
    "48384*0.00016149393844372542"
   ]
  },
  {
   "cell_type": "code",
   "execution_count": null,
   "id": "868b7027-5b25-44f6-9c8c-51b1ac5daf6b",
   "metadata": {},
   "outputs": [],
   "source": [
    "df.sum()"
   ]
  },
  {
   "cell_type": "code",
   "execution_count": null,
   "id": "b171e1f8-afe4-4ac9-af9a-6de7010f255d",
   "metadata": {},
   "outputs": [],
   "source": [
    "\n",
    "df['total_water'] = df['fresh_surfacewater_natgas_unconventional_mgd'] + df['fresh_groundwater_natgas_unconventional_mgd']\n",
    "df['intensity'] = np.where(df['natgas_unconventional_production_bbtu']>0, df['total_water']/(df['natgas_unconventional_production_bbtu']/365), 0)\n",
    "df['sw_pct'] = np.where( df['total_water']>0, df['fresh_surfacewater_natgas_unconventional_mgd']/df['total_water'], 0)\n",
    "df['gw_pct'] = np.where( df['total_water']>0, df['fresh_groundwater_natgas_unconventional_mgd']/df['total_water'], 0)\n",
    "\n",
    "df.groupby(\"State\", as_index=False).sum()\n",
    "x = df['intensity'].mean()\n",
    "x"
   ]
  },
  {
   "cell_type": "code",
   "execution_count": null,
   "id": "d65284d3-fcb5-4873-9176-981dc59a1809",
   "metadata": {},
   "outputs": [],
   "source": [
    "\n",
    "# initialize data of lists.\n",
    "d_list = {'Name':['Tom', 'Tom','nick', 'krish', 'jack'],\n",
    "        'Age':[20, 22, 21, 19, 18],\n",
    "         'height':[20,21, 21, 19, 18]}\n",
    " \n",
    "# Create DataFrame\n",
    "d_list = pd.DataFrame(d_list)\n",
    "d_list.head()\n",
    "\n",
    "d_list = d_list.groupby('Name').apply(lambda x: x.set_index('Age').to_dict(orient='index')).to_dict()\n",
    "d_list"
   ]
  },
  {
   "cell_type": "code",
   "execution_count": null,
   "id": "6cfce2e4-4bed-440c-a786-d9899d2a86a9",
   "metadata": {},
   "outputs": [],
   "source": [
    "df3 = pd.DataFrame([\n",
    "           ['A', 123, 1], \n",
    "           ['B', 345, 5], \n",
    "           ['C', 712, 4],\n",
    "           ['B', 768, 2], \n",
    "           ['B', 768, 3], \n",
    "           ['A', 123, 9], \n",
    "           ['C', 178, 6], \n",
    "           ['C', 178, 5],  \n",
    "           ['A', 321, 3]])\n",
    "\n",
    "d = {k: f.groupby('subgroup')['selectedCol'].apply(list).to_dict()\n",
    "     for k, f in df.groupby('maingroup')}\n",
    "d"
   ]
  },
  {
   "cell_type": "code",
   "execution_count": null,
   "id": "d65cf390-29dc-4b44-a2d3-eae50744a898",
   "metadata": {},
   "outputs": [],
   "source": [
    "for col in df.columns:\n",
    "    print(col)"
   ]
  },
  {
   "cell_type": "code",
   "execution_count": null,
   "id": "4dc21b79-92d5-4ade-961c-28fc6bb823ce",
   "metadata": {},
   "outputs": [],
   "source": [
    "df = data.copy()"
   ]
  },
  {
   "cell_type": "code",
   "execution_count": null,
   "id": "cea9d682-82e0-48db-b892-2bb2742967b3",
   "metadata": {},
   "outputs": [],
   "source": [
    "# def calc_coal_production_water_use(data: pd.DataFrame, mine_types = None, water_types=None, discharge_types = None,\n",
    "#                                   regions=3, total=False):\n",
    "#    \"\"\"calculates total water use in hydroelectric generation by region.\n",
    "#\n",
    "#        Water use is determined by applying hydropower water intensity rates (mg/bbtu) to daily hydropower generation\n",
    "#        (bbtu) to get mgd in each region. Water use can be interpreted as the amount of water that passes through\n",
    "#        the hydropower facility on a daily basis, based on average power generation per day. If region-level hydropower\n",
    "#        water intensity rates are not available, an intensity assumption is applied to all hydropower generation.\n",
    "#        Surface discharge from hydropower is also calculated. This is assumed to be equal to water use in hydropower.\n",
    "#        No water is assumed to be consumed or evaporated given that the water included in this calculation only\n",
    "#        includes water that instantaneously passes through the hydropower facility and is immediately discharged back\n",
    "#        to the surface water source.\n",
    "#\n",
    "#        :param data:                        DataFrame of input data\n",
    "#        :type data:                         DataFrame\n",
    "#\n",
    "#        :param hydro_water_intensity:       The assumed million gallons required to get a billion btu from hydropower\n",
    "#        :type hydro_water_intensity:        flt\n",
    "#\n",
    "#        :param regions:                     gives the number of columns in the dataset that should be treated as region\n",
    "#                                            identifiers (e.g. \"Country\", \"State\"). Reads from the first column in the\n",
    "#                                            dataframe onwards.\n",
    "#        :type regions:                      int\n",
    "#\n",
    "#        :return:                            DataFrame of total water use by hydropower generation (mgd) and hydropower\n",
    "#                                            discharge to surface waters (mgd) by region.\n",
    "#\n",
    "#        \"\"\"\n",
    "#\n",
    "#    if mine_types is None:\n",
    "#        mine_type_dict = {'surface': 0.000007, 'ground': 0.000029}\n",
    "#    else:\n",
    "#        mine_type_dict = mine_types\n",
    "#\n",
    "#    if water_types is None:\n",
    "#        water_type_dict = {'fresh': {'surfacewater': {'flow_fraction': .5, 'consumption_fraction': .5},\n",
    "#                                    'groundwater': {'flow_fraction': .5, 'consumption_fraction': .5}},\n",
    "#                           'saline': {'surfacewater': {'flow_fraction': .5, 'consumption_fraction': .5},\n",
    "#                                    'groundwater': {'flow_fraction': .5, 'consumption_fraction': .5}}}\n",
    "#    else:\n",
    "#        water_type_dict = water_types\n",
    "#\n",
    "#    if discharge_types is None:\n",
    "#        discharge_type_dict = {'surface': 1}\n",
    "#    else:\n",
    "#        discharge_type_dict = discharge_types\n",
    "#\n",
    "#    # load data\n",
    "#    df = data\n",
    "#\n",
    "#    region_list = df.columns[:regions].tolist()\n",
    "#    output_df = df[region_list].copy()\n",
    "#    total_df = df[region_list].copy()\n",
    "#\n",
    "#    for water_type in water_type_dict:\n",
    "#        for water_source in water_type_dict[water_type]:\n",
    "#            coal_water_total_name = f'{water_type}_{water_source}_coal_mgd'\n",
    "#            output_df[coal_water_total_name] = 0\n",
    "#            total_df[coal_water_total_name] = 0\n",
    "#\n",
    "#    # calculate total water to all mining (inclusive of coal)\n",
    "#    df['total_water_mining_mgd'] = 0\n",
    "#    for water_type in water_type_dict:\n",
    "#        for water_source in water_type_dict[water_type]:\n",
    "#            mining_water_flow_name = f'{water_type}_{water_source}_mining_mgd'\n",
    "#            if mining_water_flow_name in df.columns:\n",
    "#                df['total_water_mining_mgd'] = df['total_water_mining_mgd'] + df[mining_water_flow_name]\n",
    "#            else:\n",
    "#                pass\n",
    "#\n",
    "#    # calculate percent of total mining flows by water type and water source\n",
    "#    for water_type in water_type_dict:\n",
    "#        for water_source in water_type_dict[water_type]:\n",
    "#\n",
    "#            mining_water_flow_pct_name = f'{water_type}_{water_source}_mining_pct'\n",
    "#\n",
    "#            if mining_water_flow_pct_name in df.columns: #if the percent of water flows to coal mining in data\n",
    "#                pass\n",
    "#\n",
    "#            else:  # if only water flows to all mining in data\n",
    "#                mining_water_flow_name = f'{water_type}_{water_source}_mining_mgd'\n",
    "#                if mining_water_flow_name in df.columns:  # if water type and water source to all mining in data\n",
    "#                    df[mining_water_flow_pct_name] = np.where(df['total_water_mining_mgd'] > 0,\n",
    "#                                                          (df[mining_water_flow_name] / df['total_water_mining_mgd']),\n",
    "#                                                          0)\n",
    "#                else:  # if no breakdown of water source and water type to all mining in data\n",
    "#                    df[mining_water_flow_pct_name] = water_type_dict[water_type][water_source]['flow_fraction']\n",
    "#\n",
    "#            # calculate water in coal mining for each mine type by water type and water source\n",
    "#            for mine_type in mine_type_dict:\n",
    "#                coal_shortton_name = f'{mine_type}_coal_shortton'\n",
    "#                if coal_shortton_name in df.columns:\n",
    "#                    coal_water_intensity_name = f'{mine_type}_coal_water_intensity_mg_per_shortton'\n",
    "#                    coal_water_total_name = f'{water_type}_{water_source}_coal_mgd'\n",
    "#                    if coal_water_intensity_name in df.columns:  # if regional water intensity values available\n",
    "#                        coal_water_mgd_name = f\"{water_type}_{water_source}_{mine_type}_coal_mgd\"\n",
    "#                        output_df[coal_water_mgd_name] = df[coal_water_intensity_name] \\\n",
    "#                                                         * (df[coal_shortton_name]/365) \\\n",
    "#                                                         * df[mining_water_flow_pct_name]\n",
    "#                        output_df[coal_water_total_name] = output_df[coal_water_total_name] \\\n",
    "#                                                           + output_df[coal_water_mgd_name]\n",
    "#                        total_df[coal_water_total_name] = total_df[coal_water_total_name] \\\n",
    "#                                                          + output_df[coal_water_mgd_name]\n",
    "#\n",
    "#                    else:  # if no regional water intensity available, use assumption\n",
    "#                        coal_water_mgd_name = f\"{water_type}_{water_source}_{mine_type}_coal_mgd\"\n",
    "#                        output_df[coal_water_mgd_name] = mine_type_dict[mine_type] \\\n",
    "#                                                         * (df[coal_shortton_name]/365) \\\n",
    "#                                                         * df[mining_water_flow_pct_name]\n",
    "#                        output_df[coal_water_total_name] = output_df[coal_water_total_name] \\\n",
    "#                                                           + output_df[coal_water_mgd_name]\n",
    "#                        total_df[coal_water_total_name] = total_df[coal_water_total_name] \\\n",
    "#                                                          + output_df[coal_water_mgd_name]\n",
    "#                else:  # if no coal mining available\n",
    "#                    pass\n",
    "#\n",
    "## TODO pick things up here\n",
    "#\n",
    "#            # calculate consumption of water in coal mining by water type and water source\n",
    "#\n",
    "#            # look for region- mining consumption fraction, apply it\n",
    "#\n",
    "#            # otherwise use dictionary values water_type_dict[water_type][water_source]['consumption_fraction']\n",
    "#\n",
    "#            ## look for region- mining discharge fraction, apply it\n",
    "#            # for discharge_type in discharge_type dictionary:\n",
    "#                #discharge_type_name = f'{water_type}_{water_source}_{mine_type}_{discharge_type}_discharge_mgd\n",
    "#                #discharge_pct_name = f'{water_type}_{water_source}_{mine_type}_{discharge_type}_discharge_pct\n",
    "#\n",
    "#                # if discharge_pct_name in df.columns:\n",
    "#                    # apply pct to total discharge\n",
    "#                # else:\n",
    "#                    # apply pct from dictionary\n",
    "#            #\n",
    "#\n",
    "#    # TODO add in consumption and surface discharge\n",
    "\n",
    "\n",
    "#    if total:\n",
    "#        df = total_df\n",
    "#    else:\n",
    "#        df = output_df\n",
    "#\n",
    "#    return df"
   ]
  },
  {
   "cell_type": "code",
   "execution_count": null,
   "id": "1da1bbc1-0b77-4691-870f-9d47c228f62e",
   "metadata": {},
   "outputs": [],
   "source": [
    "for mine_type in fuel_water_type_dict['coal']:\n",
    "    for water_type in fuel_water_type_dict['coal'][mine_type]:\n",
    "        print(water_type)"
   ]
  },
  {
   "cell_type": "code",
   "execution_count": null,
   "id": "3e6f0926-37e2-48a1-9b81-0af09e046919",
   "metadata": {},
   "outputs": [],
   "source": [
    "df.sum()"
   ]
  },
  {
   "cell_type": "code",
   "execution_count": null,
   "id": "0428d16d-2051-4f3c-8a90-35a577ee65b7",
   "metadata": {},
   "outputs": [],
   "source": [
    "df = flow.prep_electricity_generation()\n",
    "df"
   ]
  },
  {
   "cell_type": "code",
   "execution_count": null,
   "id": "d4222e28-9f3c-4681-8e73-cb153a6fc3f2",
   "metadata": {},
   "outputs": [],
   "source": [
    "data = flow.configure_data()\n",
    "sector_types = {'crop_irrigation': .15, 'golf_irrigation': .10}\n",
    "\n",
    "\n",
    "df=flow.calc_water_conveyance_losses(data=data, sector_types=sector_types, total=True)\n",
    "for col in df.columns:\n",
    "    print(col)"
   ]
  },
  {
   "cell_type": "code",
   "execution_count": null,
   "id": "1975c33e-494a-4e04-83fe-8cd153fcedce",
   "metadata": {},
   "outputs": [],
   "source": [
    "df = df.groupby('State', as_index=False).sum()\n",
    "df"
   ]
  },
  {
   "cell_type": "code",
   "execution_count": null,
   "id": "ed34f7ba-a1d6-40cb-bc36-b9ef5c53be0b",
   "metadata": {},
   "outputs": [],
   "source": []
  },
  {
   "cell_type": "code",
   "execution_count": null,
   "id": "9924388f-ee15-472f-8619-469e9ef75441",
   "metadata": {},
   "outputs": [],
   "source": []
  },
  {
   "cell_type": "code",
   "execution_count": null,
   "id": "c3101ab1-7cd6-4198-942f-104fcab8df48",
   "metadata": {},
   "outputs": [],
   "source": []
  },
  {
   "cell_type": "code",
   "execution_count": null,
   "id": "2a532479-d9fc-42a9-b51d-1b894352650c",
   "metadata": {},
   "outputs": [],
   "source": []
  },
  {
   "cell_type": "code",
   "execution_count": null,
   "id": "aa5b8443-1aaf-4e9a-a294-c8810d6a9004",
   "metadata": {},
   "outputs": [],
   "source": [
    "data = flow.configure_data()\n",
    "df = flow.calc_energy_agriculture(data=data, total=True)\n",
    "for col in df.columns:\n",
    "    print(col)"
   ]
  },
  {
   "cell_type": "code",
   "execution_count": null,
   "id": "fa7d37dc-fc77-49ae-a6c6-5517b007f0b4",
   "metadata": {},
   "outputs": [],
   "source": [
    "df = flow.calc_wastewater_exports(data=data)\n",
    "for col in df.columns:\n",
    "    print(col)"
   ]
  },
  {
   "cell_type": "code",
   "execution_count": null,
   "id": "d39330e9-c079-4dde-b7ea-7a540d68dbc1",
   "metadata": {},
   "outputs": [],
   "source": [
    "x.to_csv(r'C:\\Users\\mong275\\Local Files\\Sankey_Notebook_Development\\SankeyFiles\\fuel_types.csv')"
   ]
  },
  {
   "cell_type": "code",
   "execution_count": null,
   "id": "7ce0a8c6-6ea8-44a6-9863-b21ebfda9880",
   "metadata": {},
   "outputs": [],
   "source": [
    "name_list = ['electricity to rejected energy', 'energy discharge from sectoral use', 'energy in wastewater',\n",
    "                      'energy in agriculture', 'energy in public water supply', 'energy production exports',\n",
    "                     'water discharge from sectoral use']\n",
    "name_list.index('electricity to rejected energy')"
   ]
  },
  {
   "cell_type": "code",
   "execution_count": null,
   "id": "14b0acfd-7f0d-4426-be26-ff2ecfb09539",
   "metadata": {},
   "outputs": [],
   "source": [
    "water_discharge_dict = {'surfacewater': {'fresh': {'wastewater': 0, 'ocean': 0, 'surface': 1},\n",
    "                                        'saline': {'wastewater': 0, 'ocean': 1, 'surface': 0}},\n",
    "                        'groundwater': {'fresh': {'wastewater': 0, 'ocean': 0, 'surface': 1},\n",
    "                                        'saline': {'wastewater': 0, 'ocean': 1, 'surface': 0}},\n",
    "                                'pws': {'fresh': {'wastewater': 1, 'ocean': 0, 'surface': 0}}\n",
    "                             }"
   ]
  },
  {
   "cell_type": "code",
   "execution_count": null,
   "id": "b74a4c93-a511-40a3-b018-58cfcf88db8e",
   "metadata": {},
   "outputs": [],
   "source": [
    "sector_consumption_dict = {'residential': {'groundwater': {'saline': 0, 'fresh': .3},\n",
    "                                                   'surfacewater': {'saline': 0, 'fresh': .3},\n",
    "                                                   'pws': {'fresh': .3}},\n",
    "                            'commercial': {'groundwater': {'saline': 0, 'fresh': .15},\n",
    "                                           'surfacewater': {'saline': 0, 'fresh': .15},\n",
    "                                           'pws': {'fresh': .15}},\n",
    "                            'industrial':{'groundwater': {'saline': .003, 'fresh': .15},\n",
    "                                          'surfacewater': {'saline': .003, 'fresh': .15},\n",
    "                                          'pws': {'fresh': .15}},\n",
    "                            'mining': {'groundwater': {'saline': .03, 'fresh': .15},\n",
    "                                       'surfacewater': {'saline': .03, 'fresh': .15}},\n",
    "                            'crop_irrigation': {'groundwater': {'saline': 0, 'fresh': .3},\n",
    "                                                'surfacewater': {'saline': 0, 'fresh': .3}},\n",
    "                            'livestock':  {'groundwater': {'saline': 0, 'fresh': .87},\n",
    "                                           'surfacewater': {'saline': 0, 'fresh': .87}},\n",
    "                            'aquaculture': {'groundwater': {'saline': 0, 'fresh': .5},\n",
    "                                            'surfacewater': {'saline': 0, 'fresh': .5}}}"
   ]
  },
  {
   "cell_type": "code",
   "execution_count": null,
   "id": "4dfcc665-51c5-4046-91de-27ed64f8eb09",
   "metadata": {},
   "outputs": [],
   "source": [
    "df = data.copy()"
   ]
  },
  {
   "cell_type": "code",
   "execution_count": null,
   "id": "64d32f9e-90d6-41fe-b7b8-e1e9f94e61b5",
   "metadata": {},
   "outputs": [],
   "source": [
    "saline_groundwater_industrial_mgd                                                                   42.9\n",
    "saline_surfacewater_industrial_mgd                                                                742.92"
   ]
  },
  {
   "cell_type": "code",
   "execution_count": null,
   "id": "26ea605e-0e04-405f-8a54-e952d48b3919",
   "metadata": {},
   "outputs": [],
   "source": [
    "df = flow.calc_sectoral_use_water_discharge(data=data, total=True)"
   ]
  },
  {
   "cell_type": "code",
   "execution_count": null,
   "id": "8345b177-5e44-4ea9-9441-46d172680a3c",
   "metadata": {},
   "outputs": [],
   "source": [
    "x=16987.779934 +  6225.87913 + 4263.081345\n",
    "x"
   ]
  },
  {
   "cell_type": "code",
   "execution_count": null,
   "id": "b033a0ce-4937-4183-b87e-c1b4dcc0e61c",
   "metadata": {},
   "outputs": [],
   "source": [
    "df1=flow.calc_sectoral_use_water_discharge(data=data, total=True)\n",
    "df1 = df1[['FIPS', 'residential_wastewater_discharge_mgd', 'commercial_wastewater_discharge_mgd', 'industrial_wastewater_discharge_mgd']]"
   ]
  },
  {
   "cell_type": "code",
   "execution_count": null,
   "id": "164a8884-a2f8-40f2-b46b-c60901c332b0",
   "metadata": {},
   "outputs": [],
   "source": [
    "df2 = flow.prep_wastewater_data()\n",
    "df2 = df2[['FIPS', 'State', 'County', 'municipal_wastewater_mgd', 'infiltration_wastewater_mgd']]"
   ]
  },
  {
   "cell_type": "code",
   "execution_count": null,
   "id": "9685c9bb-02dc-4a46-8f20-89072d4434a1",
   "metadata": {},
   "outputs": [],
   "source": [
    "df3 = pd.merge(df2, df1, how='left')\n",
    "df3['sector_total'] = (df3['residential_wastewater_discharge_mgd'] \n",
    "                                                 + df3['commercial_wastewater_discharge_mgd'] \n",
    "                                                 + df3['industrial_wastewater_discharge_mgd'])\n",
    "df3['diff'] = df3['municipal_wastewater_mgd'] - df3['sector_total']\n",
    "df3.sum()"
   ]
  },
  {
   "cell_type": "code",
   "execution_count": null,
   "id": "335c2db6-d650-41aa-b8d2-f65c4134e2b2",
   "metadata": {},
   "outputs": [],
   "source": [
    "df = pd.DataFrame()\n",
    "df_sector_discharge = flow.calc_sectoral_use_water_discharge(data=data, total=True)\n",
    "df_sector_discharge = df_sector_discharge[['FIPS', 'State', 'County',\n",
    "                                              'residential_wastewater_discharge_mgd',\n",
    "                                              'commercial_wastewater_discharge_mgd',\n",
    "                                              'industrial_wastewater_discharge_mgd']]\n",
    "\n",
    "\n",
    "\n",
    "df['total_wastewater_discharge'] = df_sector_discharge[['residential_wastewater_discharge_mgd',\n",
    "                                              'commercial_wastewater_discharge_mgd',\n",
    "                                              'industrial_wastewater_discharge_mgd']].sum(axis=1)\n",
    "\n",
    "df['wastewater_exports_mgd'] = data['municipal_wastewater_mgd'] - df['total_wastewater_discharge']\n",
    "df"
   ]
  },
  {
   "cell_type": "code",
   "execution_count": null,
   "id": "2d47c52a-7580-4cd7-af84-c1e8efc27966",
   "metadata": {},
   "outputs": [],
   "source": [
    "df1 = flow.calc_electricity_rejected_energy(data=data)\n",
    "df2 = flow.calc_sectoral_use_energy_discharge(data=data)\n",
    "df3 = flow.calc_energy_wastewater(data=data)\n",
    "df4 = flow.calc_energy_agriculture(data=data)\n",
    "df5 = flow.calc_energy_pws(data=data)\n",
    "df6 = flow.calc_energy_production_exports(data=data)\n",
    "df7 = flow.calc_sectoral_use_water_discharge(data=data)\n",
    "df_list = [df1, df2, df3, df4, df5, df6, df7]\n",
    "df_list"
   ]
  },
  {
   "cell_type": "code",
   "execution_count": null,
   "id": "9488a9da-be01-4a2e-9b67-959b48bd7b23",
   "metadata": {},
   "outputs": [],
   "source": [
    "df = flow.calc_sectoral_use_water_discharge(data=data)\n",
    "for col in df.columns:\n",
    "    print(col)"
   ]
  },
  {
   "cell_type": "code",
   "execution_count": null,
   "id": "a8bc7f26-cf67-4f79-ae4c-3316246fab6a",
   "metadata": {},
   "outputs": [],
   "source": [
    "df2 = df[['residential_saline_groundwater_consumption_mgd',\n",
    "'residential_fresh_groundwater_consumption_mgd',\n",
    "'residential_saline_surfacewater_consumption_mgd',\n",
    "'residential_fresh_surfacewater_consumption_mgd',\n",
    "'residential_fresh_pws_consumption_mgd',]].sum()\n",
    "#df[['residential_fresh_pws_consumption_mgd']].sum()\n",
    "df2"
   ]
  },
  {
   "cell_type": "code",
   "execution_count": null,
   "id": "0dafd7d9-271f-476f-8537-121cff742b96",
   "metadata": {},
   "outputs": [],
   "source": [
    "x = 733+17+6309\n",
    "x"
   ]
  },
  {
   "cell_type": "code",
   "execution_count": null,
   "id": "d96276fa-a4ba-46bd-a4d4-b2a6850c947c",
   "metadata": {},
   "outputs": [],
   "source": [
    "df = flow.calc_sectoral_use_water_discharge(data=data, total=True)\n",
    "df.sum()"
   ]
  },
  {
   "cell_type": "code",
   "execution_count": null,
   "id": "8c54d191-2492-430d-9aba-c3dcd1ca212a",
   "metadata": {},
   "outputs": [],
   "source": [
    "df = flow.prep_consumption_fraction()\n",
    "df.sum()"
   ]
  },
  {
   "cell_type": "code",
   "execution_count": null,
   "id": "778b99b4-2048-4dfb-b52d-eb8d0f8d65b9",
   "metadata": {},
   "outputs": [],
   "source": [
    "df = flow.prep_water_use_2015(variables=['County','fresh_surfacewater_residential_mgd', \n",
    "                                         'fresh_groundwater_residential_mgd', 'fresh_pws_residential_mgd']).sum(axis=0)\n",
    "df"
   ]
  },
  {
   "cell_type": "code",
   "execution_count": null,
   "id": "a9b572b5-b02d-447d-8e0b-2a665017d402",
   "metadata": {},
   "outputs": [],
   "source": [
    "df = flow.calc_energy_wastewater(data=data, total=True)\n",
    "#df = df[df.State == \"TX\"]\n",
    "for col in df.columns:\n",
    "    print(col)"
   ]
  },
  {
   "cell_type": "code",
   "execution_count": null,
   "id": "4297512f-a7e6-4504-a7eb-11e353e785b8",
   "metadata": {},
   "outputs": [],
   "source": [
    "total_df"
   ]
  },
  {
   "cell_type": "code",
   "execution_count": null,
   "id": "50f66888-6e05-4a57-a0fd-1866836baa09",
   "metadata": {},
   "outputs": [],
   "source": [
    "#test_dict.update({'test_zero':x})\n",
    "test_dict\n",
    "rejected_energy_total = pd.DataFrame.from_dict(test_dict, orient='index').transpose().sum(axis=1)\n",
    "rejected_energy_total\n",
    "\n"
   ]
  },
  {
   "cell_type": "code",
   "execution_count": null,
   "id": "46e307f2-af9e-4b7f-920a-fbe45fddd9b2",
   "metadata": {},
   "outputs": [],
   "source": [
    "x = np.zeros((len(df), 1))\n",
    "test_dict.update({'test_zero': x})\n",
    "test_dict['test_zero']"
   ]
  },
  {
   "cell_type": "code",
   "execution_count": null,
   "id": "244c9f33-8a2e-46a6-a3bb-420c820ae54a",
   "metadata": {},
   "outputs": [],
   "source": [
    "# Move this to top\n",
    "\n",
    "    # calculate rejected energy and energy services for each fuel, agriculture, water, and pumping type\n",
    "    for water_type in water_types_list:\n",
    "        for pumping_type in pumping_type_dict:\n",
    "            for agriculture_type in agriculture_type_list:\n",
    "                for fuel_type in fuel_type_dict:\n",
    "                    fuel_type_efficiency = 'agriculture_' + fuel_type + \"_efficiency_pct\"\n",
    "                    if f'{fuel_type}_{agriculture_type}_{water_type}_{pumping_type}_bbtu' in energy_value_dict:\n",
    "                        rejected_energy_name = f'{agriculture_type}_{water_type}_{pumping_type}_{fuel_type}_rejected_energy_bbtu'\n",
    "                        energy_services_name = f'{agriculture_type}_{water_type}_{pumping_type}_{fuel_type}_energy_services_bbtu'\n",
    "                        if fuel_type_efficiency in df.columns:\n",
    "                            #df[f'{agriculture_type}_{water_type}_{pumping_type}_{fuel_type}_rejected_energy_bbtu'] = (1 - df[fuel_type_efficiency]) \\\n",
    "                            #                                                                                         * df[f'{fuel_type}_{agriculture_type}_{water_type}_{pumping_type}_bbtu']\n",
    "                            #df[f'{agriculture_type}_{water_type}_{pumping_type}_{fuel_type}_energy_services_bbtu'] = (df[fuel_type_efficiency]) \\\n",
    "                            #                                                                                         * df[f'{fuel_type}_{agriculture_type}_{water_type}_{pumping_type}_bbtu']\n",
    "\n",
    "                            rejected_energy_value = (1 - df[fuel_type_efficiency]) * df[f'{fuel_type}_{agriculture_type}_{water_type}_{pumping_type}_bbtu']\n",
    "                            energy_services_value = (df[fuel_type_efficiency]) * df[f'{fuel_type}_{agriculture_type}_{water_type}_{pumping_type}_bbtu']\n",
    "\n",
    "                            rejected_energy_dict.update({rejected_energy_name: rejected_energy_value})\n",
    "                            energy_services_dict.update({energy_services_name: energy_services_value})\n",
    "\n",
    "                        # if there's no fuel efficiency column, use defaults\n",
    "                        else:\n",
    "                            #df[f'{agriculture_type}_{water_type}_{pumping_type}_{fuel_type}_rejected_energy_bbtu'] = (1 -fuel_type_dict[fuel_type]) \\\n",
    "                            #                                                                             * df[f'{fuel_type}_{agriculture_type}_{water_type}_{pumping_type}_bbtu']\n",
    "                            #df[f'{agriculture_type}_{water_type}_{pumping_type}_{fuel_type}_energy_services_bbtu'] = (fuel_type_dict[fuel_type]) \\\n",
    "                            #                                                                             * df[f'{fuel_type}_{agriculture_type}_{water_type}_{pumping_type}_bbtu']\n",
    "\n",
    "                            rejected_energy_value = (1 -fuel_type_dict[fuel_type]) * df[f'{fuel_type}_{agriculture_type}_{water_type}_{pumping_type}_bbtu']\n",
    "                            energy_services_value = (fuel_type_dict[fuel_type]) * df[f'{fuel_type}_{agriculture_type}_{water_type}_{pumping_type}_bbtu']\n",
    "\n",
    "                            rejected_energy_dict.update({rejected_energy_name: rejected_energy_value})\n",
    "                            energy_services_dict.update({energy_services_name: energy_services_value})\n",
    "\n",
    "                        #df[f'{agriculture_type}_total_rejected_energy_bbtu'] = df[f'{agriculture_type}_total_rejected_energy_bbtu'] + df[f'{agriculture_type}_{water_type}_{pumping_type}_{fuel_type}_rejected_energy_bbtu']\n",
    "                        #df[f'{agriculture_type}_total_energy_services_bbtu'] = df[f'{agriculture_type}_total_energy_services_bbtu'] + df[ f'{agriculture_type}_{water_type}_{pumping_type}_{fuel_type}_energy_services_bbtu']\n",
    "                    else:\n",
    "                        pass"
   ]
  },
  {
   "cell_type": "code",
   "execution_count": null,
   "id": "8dfe4d01-d88e-46ab-8d14-445ea4ca2f74",
   "metadata": {},
   "outputs": [],
   "source": [
    "df= df[df.State == \"CA\"]\n",
    "df = df['electricity_irrigation_ibt_rejected_energy_bbtu']\n",
    "df.sum()"
   ]
  },
  {
   "cell_type": "code",
   "execution_count": null,
   "id": "6affa528-8fbc-4b4a-803a-d6645e391048",
   "metadata": {},
   "outputs": [],
   "source": [
    "df = flow.calc_energy_agriculture(data=data, total=True)\n",
    "df"
   ]
  },
  {
   "cell_type": "code",
   "execution_count": null,
   "id": "f961d7bf-ac09-47fe-a82a-963cfe754492",
   "metadata": {},
   "outputs": [],
   "source": [
    "test_dict = {\"Gfg\" : [4, 7, 5]}\n",
    "  \n",
    "# printing original dictionary\n",
    "print(\"The original dictionary is : \" + str(test_dict))\n",
    "  \n",
    "# initializing K \n",
    "K = 1\n",
    "  \n",
    "# one liner, values() getting all value according to keys\n",
    "res = [sub[K] for sub in test_dict.values()]\n",
    "res"
   ]
  },
  {
   "cell_type": "code",
   "execution_count": null,
   "id": "0357f1aa-b581-434a-ba7a-5dcf3bcbd191",
   "metadata": {},
   "outputs": [],
   "source": [
    "df = flow.calc_energy_agriculture(data=data, total=True)\n",
    "df\n",
    "#df.groupby(\"State\", as_index=False).sum()"
   ]
  },
  {
   "cell_type": "code",
   "execution_count": null,
   "id": "58aca853-7514-4dfe-ad8d-e2c85e4131ee",
   "metadata": {},
   "outputs": [],
   "source": [
    "df = flow.prep_pumping_intensity_data()\n",
    "df"
   ]
  },
  {
   "cell_type": "code",
   "execution_count": null,
   "id": "ba8d2645-282d-43ee-b96f-d84d92c03ae0",
   "metadata": {},
   "outputs": [],
   "source": [
    "df = flow.prep_irrigation_fuel_data()\n",
    "df"
   ]
  },
  {
   "cell_type": "code",
   "execution_count": null,
   "id": "d3c210f3-0063-471e-a5e5-33ae92838dfb",
   "metadata": {},
   "outputs": [],
   "source": [
    "df = flow.calc_electricity_wastewater(data=data)\n",
    "df"
   ]
  },
  {
   "cell_type": "code",
   "execution_count": null,
   "id": "6f08549b-390c-49a5-9a0e-978d27b77785",
   "metadata": {},
   "outputs": [],
   "source": [
    "df = flow.calc_sectoral_use_energy_discharge(data=data, total=True)\n",
    "df"
   ]
  },
  {
   "cell_type": "code",
   "execution_count": null,
   "id": "0359af20-ef86-40dd-abf4-ecbdbf3ff2de",
   "metadata": {},
   "outputs": [],
   "source": []
  },
  {
   "cell_type": "code",
   "execution_count": null,
   "id": "03bd84e9-8d1f-48bf-8095-5bd82ad4eb0e",
   "metadata": {},
   "outputs": [],
   "source": [
    "data.to_csv(r'C:\\Users\\mong275\\Local Files\\Sankey_Notebook_Development\\SankeyFiles\\run4.csv')"
   ]
  },
  {
   "cell_type": "markdown",
   "id": "d51a9843-c524-42d0-a340-a3c256375ef4",
   "metadata": {},
   "source": [
    "To override the data inputs, flow.configure_data() can be run.\n",
    "If run with no arguments provided, this function aggregates all baseline data to calculate flow values for the united states in 2015. Parameters are set, however, such that this function can be used to swap out datafiles. \n",
    "\n",
    "For example, if alternative US county level data was available for interbasin transfer electricity use, that could be used instead of the default data."
   ]
  },
  {
   "cell_type": "code",
   "execution_count": null,
   "id": "333c4d92-c8d9-466d-b63c-29707728b717",
   "metadata": {},
   "outputs": [],
   "source": [
    "df = flow.configure_data()\n",
    "df"
   ]
  },
  {
   "cell_type": "code",
   "execution_count": null,
   "id": "d64abba6-fac3-40c0-9fb7-c6fdcc63b0b8",
   "metadata": {},
   "outputs": [],
   "source": [
    "is_NaN = data.isnull()\n",
    "row_has_NaN = is_NaN.any(axis=1)\n",
    "rows_with_NaN = data[row_has_NaN]\n",
    "rows_with_NaN"
   ]
  },
  {
   "cell_type": "code",
   "execution_count": null,
   "id": "3a9b833c-825b-435f-b2a3-014188b70440",
   "metadata": {},
   "outputs": [],
   "source": []
  },
  {
   "cell_type": "code",
   "execution_count": null,
   "id": "7a7d66f3-42c7-48cc-9e15-c2465aaba0db",
   "metadata": {},
   "outputs": [],
   "source": []
  },
  {
   "cell_type": "code",
   "execution_count": null,
   "id": "aff4de41-5d2a-4690-887f-94b2f78a9734",
   "metadata": {},
   "outputs": [],
   "source": [
    "df2.to_csv(r'C:\\Users\\mong275\\Local Files\\Sankey_Notebook_Development\\SankeyFiles\\run2.csv')"
   ]
  },
  {
   "cell_type": "markdown",
   "id": "aec10fed-bb63-424d-ad3e-9c8b264730da",
   "metadata": {},
   "source": [
    "<h1> Public Water Supply </h1>"
   ]
  },
  {
   "cell_type": "markdown",
   "id": "172c6b7e-078b-464f-a5f1-036549096658",
   "metadata": {},
   "source": [
    "## Water in Public Water Supply"
   ]
  },
  {
   "cell_type": "markdown",
   "id": "6b445803-fdd9-47b1-b804-d4a2302c8bee",
   "metadata": {},
   "source": [
    "### Public Water Supply Withdrawals\n",
    "\n",
    "The USGS 2015 dataset provides public water supply withdrawals directly under data codes 'PS-WGWFr', 'PS-WSWFr','PS-WGWSa', 'PS-WSWSa' for each county."
   ]
  },
  {
   "cell_type": "code",
   "execution_count": null,
   "id": "cb2a4933-645a-4eee-9fed-1061fa1983b7",
   "metadata": {},
   "outputs": [],
   "source": [
    "df = flow.prep_water_use_2015(variables=['State','County','PS-WGWFr', 'PS-WSWFr','PS-WGWSa', 'PS-WSWSa'])\n",
    "df.head()               "
   ]
  },
  {
   "cell_type": "markdown",
   "id": "b0d4fe24-cd10-48f3-bcd9-e1bfbdc56d4b",
   "metadata": {},
   "source": [
    "### Public Water Supply Deliveries to Sectors, Exports, and Imports\n",
    "\n",
    "The USGS 2015 dataset provide public water supply data in three categories: (1) total public water supply withdrawals, (2) public water supply deliveries to domestic end users, and (3) public water supply deliveries to thermoelectric cooling.\n",
    "\n",
    "The 1995 USGS dataset provides public water supply deliveries to domestic, industrial, commercial, thermoelectric cooling, and losses/exports separately. To estimate the deliveries to commercial and industrial customers in 2015, the ratio of each to the sum of deliveries to residential and thermoelectric cooling is calculated from the 1995 data. These ratios are applied to the 2015 residential and thermoelectric cooling public water supply delivery values. \n",
    "\n",
    "Additionally, public water suppy exports and imports are calculated. When the sum of water deliveries is greater than the water withdrawn for public water supply, the difference is considered to be imported. When water withdrawn is greater, excess water after deliveries is considered to be exported.\n",
    "\n",
    "Caveats and assumptions:\n",
    "* This methodology assumes that if no public water supply was delivered to residential or thermoelectric cooling in 1995, then deliveries to industrial and commercial sectors would likewise be zero."
   ]
  },
  {
   "cell_type": "markdown",
   "id": "7114162c-ec51-4cdd-a1d8-edfefa993c57",
   "metadata": {},
   "source": [
    "Potential mods\n",
    " for import pws counties, take 15% of withdrawals and imports as losses and add it on to the top of imports\n",
    " for export pws counties, take 15% of withdrawals as losses, take it out of exports, any remaining put as imports"
   ]
  },
  {
   "cell_type": "code",
   "execution_count": null,
   "id": "9fddacb3-69a0-4baf-9bda-19e9c214e949",
   "metadata": {},
   "outputs": [],
   "source": [
    "df = flow.calc_pws_discharge()\n",
    "df.head()"
   ]
  },
  {
   "cell_type": "markdown",
   "id": "8bceb769-cd65-4b51-bbc9-cac988d2b99e",
   "metadata": {},
   "source": [
    "## Energy in Public Water Supply"
   ]
  },
  {
   "cell_type": "markdown",
   "id": "e72dcf73-1aee-4abf-bb58-f50261f80978",
   "metadata": {},
   "source": [
    "Energy in public water supply includes\n",
    "groundwater pumping, surface water pumping, desalination (when applicable), surface water treatment, groundwater treatment, distribution, and interbasin transfers (when appropriate).\n",
    "\n",
    "An assumption is made that water that goes through desalination additionally requires surface water or groundwater treatment\n",
    "\n",
    "The same groundwater and surface water pumping intensities are used from agriculture sector.\n",
    "\n",
    "Note that interbasin transfer data that is provided to this function is already in bbtu, not in water flows. \n",
    "For non-ibt data, the option is provided for the user to use region-level energy intensity values (as in groundwater and surface water pumping). When values are not available, assumptions for each in kWh/MG are set as default values that can be overriden.\n",
    "\n",
    "intensity values are used from tidwell and LLNL"
   ]
  },
  {
   "cell_type": "code",
   "execution_count": null,
   "id": "83af7fdf-bce2-47fd-ad0d-27c9dbc1095b",
   "metadata": {},
   "outputs": [],
   "source": [
    "df = flow.calc_electricity_public_water_supply(total=True)\n",
    "df.head()"
   ]
  },
  {
   "cell_type": "markdown",
   "id": "0c74b0e6-e705-4fc3-9fb5-bea65083abe7",
   "metadata": {
    "tags": []
   },
   "source": [
    "# Wastewater Treatment\n",
    "Wastewater treatment facility data is provided by EPA for the year 2012. These values are assumed for 2015. Values are provided on a treatment plant level with data on the following variables: \n",
    "Flow:\n",
    "    * Total water flows (MGD) treated by the facility\n",
    "    * Total infiltration flows treated by the facility (leaks into pipes and conduits)\n",
    "Treatment:\n",
    "    * Treatment type of each treatment plant (primary, secondary, advanced)\n",
    "Discharge:\n",
    "    * discharge location of each plant, broken down by percent of flow to each discharge location (e.g., ocean discharge, suface discharge, irrigation reuse)\n",
    "Location:\n",
    "    * county information is included for each power plant\n",
    "    \n",
    "This data allows us to determine total water flows processed and discharged by wastewater facilities at a county level by treatment type. The treatment type allows us to calculate the electricity use by county for wastewater treatment,"
   ]
  },
  {
   "cell_type": "markdown",
   "id": "8cba44f3-f3e3-494f-ae27-1d9054b7bbe0",
   "metadata": {},
   "source": [
    "## Water in Wastewater Treatment"
   ]
  },
  {
   "cell_type": "markdown",
   "id": "5926230b-d7ee-4afe-83fe-b8c6711fc07f",
   "metadata": {},
   "source": [
    "### Water Inflows to Wastewater Treatment Facilities\n",
    "Total flows processed by wastewater treatment facilities are provided in the EPA dataset directly. However, this data will have discrepencies from the water data delivered to various sectors. To estimate water flows from residential, commercial, and industrial sectors to wastewater treatment facilities, an assumption is made that all water delivered from public water supply to these sectors is sent to wastewater treatment facilities. This assumption is also used to fill wastewater treatment flow values for regions that are unavailable in the EPA dataset. For example, south carolina does not have wastewater treatment facility values in the EPA dataset. It is assumed, therefore, that total wastewater treatment flows in south carolina and equal to the total public water supply flows for each county and is attributed to municipal discharge rather than infiltration. It is assumed that 80% of treatment flows are advanced treatment and 20% are secondary treatment. It is also assumed that all discharge is sent to surface. This follows average values for the state of North Carolina which were used as a proxy in this instance."
   ]
  },
  {
   "cell_type": "markdown",
   "id": "7598d9da-f8fd-4b96-8d52-42a88bcb4480",
   "metadata": {},
   "source": [
    "### Quantity of Wastewater Processed by Treatment Type\n",
    "Wastewater treatment plant treatment type is provided in the EPA data directly. These values are binned for simplification into no treatment, primary, secondary, and advanced treatment. When no treatment type was provided for a facility, it was assumed that they were secondary treatment facilities.\n",
    "\n",
    "To see the amount of water (MGD) processed within each county by treatment type, run the cell below."
   ]
  },
  {
   "cell_type": "code",
   "execution_count": null,
   "id": "1216fa88-6561-42a7-a8ce-80034ba58003",
   "metadata": {},
   "outputs": [],
   "source": [
    "df = flow.prep_wastewater_data()\n",
    "df.head()"
   ]
  },
  {
   "cell_type": "markdown",
   "id": "fefe0edf-638f-413c-914a-c28f695a61b9",
   "metadata": {},
   "source": [
    "### Wastewater Treatment Facility Discharge\n",
    "\n",
    "Wastewater treatment plant discharge location is provided in the EPA data directly. These values are binned for simplification into the following categories:\n",
    "\n",
    "* 'outfall to surface waters': 'ww_sd',\n",
    "* 'ocean discharge': 'ww_od',\n",
    "* 'deep well': 'ww_gd',\n",
    "* \"reuse: industrial\": 'ww_in',\n",
    "* 'evaporation': 'ww_evap',\n",
    "* 'spray irrigation': 'ww_ir',\n",
    "* 'overland flow no discharge': 'ww_ww',\n",
    "* 'overland flow with discharge': 'ww_sd',\n",
    "* 'discharge to another facility': 'ww_ww',\n",
    "* 'combined sewer overflow (cso) discharge': 'ww_sd',\n",
    "* 'other': 'ww_sd',\n",
    "* 'discharge to groundwater': 'ww_gd',\n",
    "* 'no discharge, unknown': 'ww_ww',\n",
    "* 'reuse: irrigation': 'ww_ir',\n",
    "* 'reuse: other non-potable': 'ww_sd',\n",
    "* 'reuse: indirect potable': 'ww_sd',\n",
    "* 'reuse: potable': 'ww_ps',\n",
    "* 'reuse: groundwater recharge': 'ww_gd'"
   ]
  },
  {
   "cell_type": "code",
   "execution_count": null,
   "id": "ca28495d-ee3e-444d-87a8-822dd2b96b59",
   "metadata": {},
   "outputs": [],
   "source": [
    "df = flow.prep_wastewater_data()\n",
    "df = df[['FIPS','ww_evap','ww_gd','ww_in','ww_ir','ww_od','ww_ps','ww_sd','ww_ww']]\n",
    "df.head()"
   ]
  },
  {
   "cell_type": "markdown",
   "id": "83f8d020-82bc-413f-9809-6b99f7d03b6d",
   "metadata": {},
   "source": [
    "## Energy in Wastewater Treatment\n",
    "\n",
    "Wastewater treatment facilities have various levels of treatment from primary to advanced. Each treatment level has an increasing level of energy intensity to process the water. Intensity value estimates for wastwater treatment were used from Pabi et al. [17]."
   ]
  },
  {
   "cell_type": "markdown",
   "id": "3e3a89c7-b15a-4ee9-9dae-650f88f8edf9",
   "metadata": {},
   "source": [
    "# Agriculture"
   ]
  },
  {
   "cell_type": "markdown",
   "id": "525afe82-e4d0-4696-be09-341e39b7daf5",
   "metadata": {},
   "source": [
    "## Water in Agriculture"
   ]
  },
  {
   "cell_type": "code",
   "execution_count": null,
   "id": "460054af-419c-4a7f-bb08-987e96dc111a",
   "metadata": {},
   "outputs": [],
   "source": []
  },
  {
   "cell_type": "markdown",
   "id": "f0222bec-066e-47c8-a200-8b3344116ee6",
   "metadata": {},
   "source": [
    "## Energy in Agriculture"
   ]
  },
  {
   "cell_type": "markdown",
   "id": "812009ea-53fa-4ae2-ab09-a1a4311b9855",
   "metadata": {},
   "source": [
    "Energy use in agriculture consists of groundwater pumping, surface water pumping, and interbasin transers. USDA's Farm and Ranch Irrigation Survey (FRIS) provides state-by-state data on irrigation groundwater depth and average irrigation pressurization levels for irrigation within a state, enabling the calculation of pump electricity consumption for both groundwater and surface water pumping [13]. The 2013 survey is the closest year available to 2015 values. It is assumed that values do not vary significantly between the two years.\n",
    "\n",
    "The methodology for calculating groundwater and surface water pumping energy is described in Tidwell et al [14]. However, where that publication uses well depth to water to calculate total differential height, the total well depth is used here as a way to offset some of the losses due to friction that would occur in the piping, as described in Lawrence Berkeley National Laboratory (LBNL) Home Energy Saver & Score: Engineering Documentation [15].\n",
    "\n",
    "Pump efficiency is assumed to be the average (46.5%) of the range (34-59%) listed in [14]. State-level intensity rates are calculated here and applied to the county level water in agriculture values. The general methodology implemented here to determine total energy in agriculture is adapted from [5], not including the additions previously mentioned."
   ]
  },
  {
   "cell_type": "markdown",
   "id": "7a294da4-41ae-4c96-83e2-b15142c0150a",
   "metadata": {},
   "source": [
    "### Groundwater & Surface Water Pumping"
   ]
  },
  {
   "cell_type": "code",
   "execution_count": null,
   "id": "b512c890-a13c-45b8-a715-c80e1ccb470a",
   "metadata": {},
   "outputs": [],
   "source": []
  },
  {
   "cell_type": "markdown",
   "id": "11bc4701-2dee-45ae-aa05-d25917208ae3",
   "metadata": {},
   "source": [
    "### Interbasin Transfers"
   ]
  },
  {
   "cell_type": "code",
   "execution_count": null,
   "id": "0c920586-466a-4ce4-9ba3-b062088056ff",
   "metadata": {},
   "outputs": [],
   "source": []
  },
  {
   "cell_type": "markdown",
   "id": "5e45f8aa-c7ca-46df-9a08-bde1c5508b77",
   "metadata": {},
   "source": [
    "# Electricity Generation"
   ]
  },
  {
   "cell_type": "markdown",
   "id": "6d831d03-40f3-4ad7-ba6b-b0985dd7916d",
   "metadata": {},
   "source": [
    "## Energy in Electricity Generation"
   ]
  },
  {
   "cell_type": "markdown",
   "id": "77c3cb84-67d9-42de-a902-2e9511bad47b",
   "metadata": {},
   "source": [
    "US Energy Information Administration (EIA) 923 data for 2015 is used to determine electricity generation by generator type within each interconnect [12]. The datafile contains information on generation at the plant-level. EIA additionally provides data on which North American Electric Reliability Corporation (NERC) balancing region each plant belongs to. By mapping each NERC region to its associated interconnect, generation within each interconnect can be determined directly.\n",
    "\n",
    "From EIA, the AER Fuel Type Code is used to determine generator type. EIA provides generator type information at a high level of detail. For this reason different generator types are grouped for simplicity using a generator key (GenType923Key.xlsx). For example, different types of natural gas generators are all grouped into \"Natural Gas\" as a type.\n",
    "\n",
    "Energy production is provided as \"Net Generation (Megawatthours)\" in the EIA dataset, \"Total Fuel Consumption (MMBTU)\" is the MMBTU equivalent of fuel going to each plant for electricity generation. The difference between these two values indicates the amount of energy generation that does not go to energy losses."
   ]
  },
  {
   "cell_type": "markdown",
   "id": "fa27311d-24ea-409e-b9cd-0655674b07e9",
   "metadata": {},
   "source": [
    "## will be filled in with calculate function"
   ]
  },
  {
   "cell_type": "code",
   "execution_count": null,
   "id": "b8de3a2e-ae73-41ba-9d7f-4ae4724a17b8",
   "metadata": {},
   "outputs": [],
   "source": []
  },
  {
   "cell_type": "markdown",
   "id": "4443c5c2-b504-42c8-ac3f-0b1087b4be19",
   "metadata": {},
   "source": [
    "## Water in Electricity Generation"
   ]
  },
  {
   "cell_type": "code",
   "execution_count": null,
   "id": "1e028afe-61e5-48d1-8390-99cde95e0b7a",
   "metadata": {},
   "outputs": [],
   "source": []
  },
  {
   "cell_type": "markdown",
   "id": "a8a1580a-826d-4b9d-afcb-5cb956f7aa69",
   "metadata": {},
   "source": [
    "# End Use Sectors"
   ]
  },
  {
   "cell_type": "markdown",
   "id": "d48d9dcc-2879-429b-bdeb-42904f646bbb",
   "metadata": {},
   "source": [
    "## Residential Sector"
   ]
  },
  {
   "cell_type": "markdown",
   "id": "4f740672-5ffc-473c-868c-064701384e1b",
   "metadata": {},
   "source": [
    "### Water in Residential Sector"
   ]
  },
  {
   "cell_type": "code",
   "execution_count": null,
   "id": "325c0a80-139b-467a-9550-663555582a8d",
   "metadata": {},
   "outputs": [],
   "source": []
  },
  {
   "cell_type": "markdown",
   "id": "50a71b4a-c4f3-4a1d-b6c7-a3ae7780aabf",
   "metadata": {},
   "source": [
    "### Energy in Residential Sector"
   ]
  },
  {
   "cell_type": "markdown",
   "id": "e6adff18-e8eb-4339-98af-682aa9b240a9",
   "metadata": {},
   "source": [
    "#### Energy (electricity) Demand in Residential Sector"
   ]
  },
  {
   "cell_type": "markdown",
   "id": "d65dd52b-d06e-4b57-9b11-087f415d0e14",
   "metadata": {},
   "source": [
    "##### weighted by population. <b> consider splitting out by usage if data is available"
   ]
  },
  {
   "cell_type": "code",
   "execution_count": null,
   "id": "61212a75-f22a-4bf6-85bb-f072eb3fad30",
   "metadata": {},
   "outputs": [],
   "source": [
    "df = flow.prep_electricity_demand_data()\n",
    "df"
   ]
  },
  {
   "cell_type": "markdown",
   "id": "bd9e8d0c-0152-4e00-bd6a-a9a3c9bb6482",
   "metadata": {},
   "source": [
    "#### Energy (fuel) Demand in Residential Sector"
   ]
  },
  {
   "cell_type": "markdown",
   "id": "230fbd0f-240a-401c-9d6e-740470bb44b7",
   "metadata": {},
   "source": [
    "## Commercial Sector"
   ]
  },
  {
   "cell_type": "markdown",
   "id": "59f26e7a-dfba-40cd-a3be-c3c8120ccb20",
   "metadata": {},
   "source": [
    "### Water in Commercial Sector"
   ]
  },
  {
   "cell_type": "markdown",
   "id": "33ff8e98-0372-4ebb-87cf-cef498e959c8",
   "metadata": {},
   "source": [
    "### Energy in Commercial Sector"
   ]
  },
  {
   "cell_type": "markdown",
   "id": "a08bb590-6c51-443f-9977-5873de7d7bde",
   "metadata": {},
   "source": [
    "## Industrial Sector"
   ]
  },
  {
   "cell_type": "markdown",
   "id": "659e7492-18d9-4eaa-b276-6164c642cccc",
   "metadata": {},
   "source": [
    "### Water in Industrial Sector"
   ]
  },
  {
   "cell_type": "markdown",
   "id": "19adc037-9619-49d3-bc13-31eb153a03ad",
   "metadata": {},
   "source": [
    "### Energy in Industrial Sector"
   ]
  },
  {
   "cell_type": "markdown",
   "id": "ecc5ca9e-76c1-41c1-b877-647c8c68742f",
   "metadata": {},
   "source": [
    "## Transportation Sector"
   ]
  },
  {
   "cell_type": "markdown",
   "id": "3ab4b15a-4655-4613-83ab-737dc153f776",
   "metadata": {},
   "source": [
    "### Energy in Energy Sector"
   ]
  },
  {
   "cell_type": "code",
   "execution_count": null,
   "id": "079c97fa-27fa-498f-b6a8-fb7dcffd8964",
   "metadata": {},
   "outputs": [],
   "source": []
  },
  {
   "cell_type": "markdown",
   "id": "4b44cc0d-27e1-4167-8aac-90b8f215b378",
   "metadata": {},
   "source": [
    "# Energy Production"
   ]
  },
  {
   "cell_type": "markdown",
   "id": "58b16ff1-f15f-44b0-8adf-4f8012ac9f33",
   "metadata": {},
   "source": [
    "## Biomass"
   ]
  },
  {
   "cell_type": "markdown",
   "id": "6490d936-cb22-4933-b697-76899f4ba876",
   "metadata": {},
   "source": [
    "### Energy in Biomass Production (Ethanol)\n",
    "\n",
    "To find the ethanol production per county, this calculation takes 2015 eia data on ethanol plant capacity which has added locational data by each plant and combines with state level biomass (ethanol) production from prep_state_fuel_production_data() to split out state total by county. Returns a dataframe of ethanol production (bbtu) by county FIPS for each county in the US for 2015.\n",
    "\n",
    "ethanol plant production filler for wyoming (in state total but not location data) ,Torrington, WY100%, https://neo.ne.gov/programs/stats/122/2015/122_201512.htm"
   ]
  },
  {
   "cell_type": "markdown",
   "id": "9f98eecc-1f77-42f4-8fda-1bbf9d6bc1bf",
   "metadata": {},
   "source": [
    "#### <b> <ul> <font color='red'> Consider looking for estimates for electricity use in biomass production to split out from industrial"
   ]
  },
  {
   "cell_type": "markdown",
   "id": "ca9ac8cb-d671-49d2-bec7-605583ace9f4",
   "metadata": {},
   "source": [
    "### Water in Biomass Production (Ethanol)"
   ]
  },
  {
   "cell_type": "markdown",
   "id": "8b68f3d0-a1f6-4d2c-9120-e6fd3e186d7c",
   "metadata": {},
   "source": [
    "#### Water used in irrigation of corn used for ethanol"
   ]
  },
  {
   "cell_type": "markdown",
   "id": "5999934b-a191-478b-a073-955bee3d348b",
   "metadata": {},
   "source": [
    "Data on water used in the irrigation of corn ultimately used for ethanol production does not exist explicitly at any level of granularity and must be calculated out from larger state-level corn growth irrigation intensity estimates.\n",
    "\n",
    "The percent of corn grown for ethanol in the US was used from US DOE Alternative Fuels Data Center [21]. Total corn production for ethanol (5.22 billion bushels) was divided by total corn producton (13.6 billion bushels) for 2015 and calculated to be 38.406%. Data on a state or county-level does not exist, therefore, this percentage is applied to all states with corn production. A state-level fraction of corn used for ethanol production could be calculated from the amount of ethanol produced in a state and applying an assumption of corn required per unit of ethanol, however, not all corn used in ethanol is produced in the state that uses it which lead to states such as CA with an ethanol fraction of corn growth of nearly 900% of their total corn production. Given that we are unable to determine which states the imported corn for ethanol would be coming from, the decision was made to apply the US total fraction to all states.\n",
    "\n",
    "Total water used in the production of corn for ethanol is therefore the assumed 38.406% multiplied by the product of the total amount of irrigated acres of corn (AC_Irr_Corn) and the calculated irrigation intensity for that state (total acres applied to all crops / total acres irrigated, all crops) provided from USDA Census of Agriculture Irrigation and Water Management Survey [22], Table 35 and Table 4, respectively. The irrigation intensity for corn is calculated from the average irrigation intensity for the state.\n",
    "\n",
    "To split the total MGY applied between fresh surface and groundwater, USDA FRIS Census of Agriculture data on the fraction of surface water (surface water + off farm water) from total water supply (including groundwater) in corn production is used from Table 37 of [22]. Off-farm sources are assumed to be surface water.\n",
    "\n",
    "Some states that grow corn do not provide data on the water source breakdown (surface vs. ground) for their irrigation. The surface to groundwater ratio for all irrigation in a state is substituted for these states. These values are calculated from the USGS 2015 water dataset."
   ]
  },
  {
   "cell_type": "code",
   "execution_count": null,
   "id": "2a1407da-7213-4f97-8488-3be10a396513",
   "metadata": {},
   "outputs": [],
   "source": [
    "df = flow.prep_county_water_corn_biomass_data()"
   ]
  },
  {
   "cell_type": "markdown",
   "id": "588a4233-3774-4ade-b348-a4ff44416ac8",
   "metadata": {},
   "source": [
    "#### Water used in the production of ethanol (fermentation)"
   ]
  },
  {
   "cell_type": "markdown",
   "id": "a779da6b-abb6-4348-8287-528a54c22474",
   "metadata": {},
   "source": [
    "#### <b> <ul> <font color='red'> Consider looking for estimates for water used in the fermentation process of ethanol production, not just corn growth."
   ]
  },
  {
   "cell_type": "markdown",
   "id": "cf5d56f8-5bc4-471a-b203-36183f4a1b89",
   "metadata": {},
   "source": [
    "## Petroleum"
   ]
  },
  {
   "cell_type": "markdown",
   "id": "290231c8-e904-412c-83bd-4562d10d1212",
   "metadata": {},
   "source": [
    "### Energy in Petroleum Production (Conventional and Unconventional Oil Drilling)"
   ]
  },
  {
   "cell_type": "markdown",
   "id": "f1dcd09b-4751-4067-90c8-41a6796cec46",
   "metadata": {},
   "source": [
    " crude oil production by county fillers\n",
    "Idaho: https://ogcc.idaho.gov/wp-content/uploads/sites/3/2017/06/2016-10-6-state-of-idaho-releases-oil-gas-production-data.pdf\n",
    "100% of Idaho petroleum and natural gas is from Payette County\n",
    "\n",
    "Alaska,\n",
    "https://www.commerce.alaska.gov/web/aogcc/Data.aspx\n",
    "almost all oil is produced along the north slope. Calculated from oil production download. The rest is on the kenai peninsula (cook inlet basin)\n",
    "\n",
    "Maryland\n",
    "https://www.eia.gov/state/analysis.php?sid=MD#34\n",
    "assumed 50/50 split between Garret and Allegany Counties\n",
    "\n",
    "Nevada\n",
    "https://gisweb.unr.edu/OilGas/\n",
    "Assumed to be in nye county with producing oil wells (only 4 btu)\n",
    "\n",
    "Oregon\n",
    "https://www.oregongeology.org/mlrr/oilgas-report.htm\n",
    "Only one county (columbia county)"
   ]
  },
  {
   "cell_type": "markdown",
   "id": "61206ecf-cfac-465d-8396-64eb8c7cf4a5",
   "metadata": {},
   "source": [
    "### Water in Petroleum Production (Conventional and Unconventional Oil Drilling)"
   ]
  },
  {
   "cell_type": "markdown",
   "id": "aabccc27-383e-4532-ad3d-b0fdd6f34b45",
   "metadata": {},
   "source": [
    "## Natural Gas"
   ]
  },
  {
   "cell_type": "markdown",
   "id": "cc3d88a8-2668-401e-bbe9-4574273136d5",
   "metadata": {},
   "source": [
    "### Energy in Natural Gas Production (Unconventional Drilling)"
   ]
  },
  {
   "cell_type": "markdown",
   "id": "39d740be-7ce4-422e-8087-a410a20306ff",
   "metadata": {},
   "source": [
    "### Water in Natural Gas Production (Unconventional Drilling)"
   ]
  },
  {
   "cell_type": "markdown",
   "id": "547622b2-a8ea-4deb-8579-ff7202cfa921",
   "metadata": {},
   "source": [
    "## Coal"
   ]
  },
  {
   "cell_type": "markdown",
   "id": "98f14885-561d-4f48-a630-ac52b4f91023",
   "metadata": {},
   "source": [
    "### Energy in Coal Production (Coal Mining)"
   ]
  },
  {
   "cell_type": "markdown",
   "id": "82728a63-8d67-4d7a-b8be-da2566f118ee",
   "metadata": {},
   "source": [
    "### Water in Coal Production (Coal Mining)"
   ]
  },
  {
   "cell_type": "code",
   "execution_count": null,
   "id": "7cdf3331-e82e-485e-baab-ef696af225f3",
   "metadata": {},
   "outputs": [],
   "source": []
  },
  {
   "cell_type": "code",
   "execution_count": null,
   "id": "f3f634f1-67dd-4922-8625-ec8fcb184969",
   "metadata": {},
   "outputs": [],
   "source": []
  },
  {
   "cell_type": "code",
   "execution_count": null,
   "id": "cb2e49b0-5309-430c-a507-1fa835c6d505",
   "metadata": {},
   "outputs": [],
   "source": []
  },
  {
   "cell_type": "markdown",
   "id": "6083ab3c-2888-45ac-8584-0d44fb1a4878",
   "metadata": {
    "tags": []
   },
   "source": [
    "# Intensities & Percentages"
   ]
  },
  {
   "cell_type": "markdown",
   "id": "a0d12353-4606-4f7f-84f0-da10416dd08e",
   "metadata": {},
   "source": [
    "#### Conveyance Losses as a Percent of Water Withdrawn for Irrigation\n",
    "Conveyance loss fraction for irrigation is calculated from the USGS 1995 water use dataset. It is calculated as the total conveyance losses (MGD) divided by the total water withdrawn (MGD) for irrigation. Looking at the fractions at the county level shows that a small subset of counties have unreliable values where conveyance losses are far greater than the amount withdrawn for irrigation. As a result, the ability to cap the loss fraction at a specified amount it provided and replace it with the average of the specified region. The default loss cap fraction is .90."
   ]
  },
  {
   "cell_type": "code",
   "execution_count": null,
   "id": "e1e70eb3-2586-4c96-9542-dc397efede04",
   "metadata": {},
   "outputs": [],
   "source": [
    "df = flow.prep_water_use_1995()\n",
    "df = flow.calc_conveyance_loss_frac(df)\n",
    "df.head()"
   ]
  },
  {
   "cell_type": "markdown",
   "id": "e6bad304-bbd2-4c42-b1ab-c2e8228469c9",
   "metadata": {},
   "source": [
    "##### Change in loss cap"
   ]
  },
  {
   "cell_type": "code",
   "execution_count": null,
   "id": "321b6479-d093-4059-80e6-629a34605b80",
   "metadata": {},
   "outputs": [],
   "source": [
    "df = flow.prep_water_use_1995()\n",
    "df = flow.calc_conveyance_loss_frac(df, loss_cap_amt=.20)\n",
    "df.head()"
   ]
  },
  {
   "cell_type": "code",
   "execution_count": null,
   "id": "26a3da74-77fe-4db6-a3df-897dcaa39d38",
   "metadata": {},
   "outputs": [],
   "source": [
    "help(flow.plot_bar)"
   ]
  },
  {
   "cell_type": "code",
   "execution_count": null,
   "id": "c771f8ba-02d8-4daf-9390-9fcac3e826d3",
   "metadata": {},
   "outputs": [],
   "source": [
    "flow.plot_bar(df, \"State\",\"IR_CLoss_Frac\", \"State\", y_axis_title = \"Irrigation Conveyance Loss Fraction\", x_axis_title=\"State\")"
   ]
  },
  {
   "cell_type": "markdown",
   "id": "18ddc662-ba7b-4e29-8e6c-dc423a529fcd",
   "metadata": {},
   "source": [
    "#### Water Use Intensity for Hydroelectric Generation"
   ]
  },
  {
   "cell_type": "code",
   "execution_count": null,
   "id": "9551b6a2-0897-47c3-90d3-51adce0ef8ea",
   "metadata": {},
   "outputs": [],
   "source": [
    "df = flow.calc_hydroelectric_water_intensity(intensity_cap=True, intensity_cap_amt=165, region_avg=False)\n",
    "\n",
    "df.head()"
   ]
  },
  {
   "cell_type": "code",
   "execution_count": null,
   "id": "f18b2c41-1e1b-4182-b6ec-0af07fca062e",
   "metadata": {},
   "outputs": [],
   "source": [
    "flow.plot_bar(df, \"State\",\"HY_IF\", \"State\")"
   ]
  },
  {
   "cell_type": "code",
   "execution_count": null,
   "id": "2567ceec-abeb-43a7-a36a-c3b28379bbc6",
   "metadata": {},
   "outputs": [],
   "source": []
  }
 ],
 "metadata": {
  "kernelspec": {
   "display_name": "flow",
   "language": "python",
   "name": "flow"
  },
  "language_info": {
   "codemirror_mode": {
    "name": "ipython",
    "version": 3
   },
   "file_extension": ".py",
   "mimetype": "text/x-python",
   "name": "python",
   "nbconvert_exporter": "python",
   "pygments_lexer": "ipython3",
   "version": "3.9.4"
  }
 },
 "nbformat": 4,
 "nbformat_minor": 5
}

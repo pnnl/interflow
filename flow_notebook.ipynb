{
 "cells": [
  {
   "cell_type": "code",
   "execution_count": 1,
   "id": "69cc54be-6a46-4bd2-8e67-65573815a90f",
   "metadata": {
    "tags": []
   },
   "outputs": [
    {
     "ename": "NameError",
     "evalue": "name 'prep_water_use_2015' is not defined",
     "output_type": "error",
     "traceback": [
      "\u001b[1;31m---------------------------------------------------------------------------\u001b[0m",
      "\u001b[1;31mNameError\u001b[0m                                 Traceback (most recent call last)",
      "\u001b[1;32m~\\AppData\\Local\\Temp/ipykernel_5632/1589462049.py\u001b[0m in \u001b[0;36m<module>\u001b[1;34m\u001b[0m\n\u001b[0;32m      5\u001b[0m \u001b[1;32mimport\u001b[0m \u001b[0mflow\u001b[0m\u001b[1;33m\u001b[0m\u001b[1;33m\u001b[0m\u001b[0m\n\u001b[0;32m      6\u001b[0m \u001b[1;33m\u001b[0m\u001b[0m\n\u001b[1;32m----> 7\u001b[1;33m \u001b[0mdf\u001b[0m \u001b[1;33m=\u001b[0m \u001b[0mflow\u001b[0m\u001b[1;33m.\u001b[0m\u001b[0mcalc_population_county_weight\u001b[0m\u001b[1;33m(\u001b[0m\u001b[1;33m)\u001b[0m\u001b[1;33m\u001b[0m\u001b[1;33m\u001b[0m\u001b[0m\n\u001b[0m\u001b[0;32m      8\u001b[0m \u001b[0mdf\u001b[0m\u001b[1;33m\u001b[0m\u001b[1;33m\u001b[0m\u001b[0m\n",
      "\u001b[1;32m~\\Local Files\\Repos\\flow\\flow\\calculate.py\u001b[0m in \u001b[0;36mcalc_population_county_weight\u001b[1;34m()\u001b[0m\n\u001b[0;32m    219\u001b[0m \u001b[1;33m\u001b[0m\u001b[0m\n\u001b[0;32m    220\u001b[0m     \"\"\"\n\u001b[1;32m--> 221\u001b[1;33m     \u001b[0mdf\u001b[0m \u001b[1;33m=\u001b[0m \u001b[0mprep_water_use_2015\u001b[0m\u001b[1;33m(\u001b[0m\u001b[1;33m)\u001b[0m\u001b[1;33m\u001b[0m\u001b[1;33m\u001b[0m\u001b[0m\n\u001b[0m\u001b[0;32m    222\u001b[0m \u001b[1;33m\u001b[0m\u001b[0m\n\u001b[0;32m    223\u001b[0m     \u001b[1;32mreturn\u001b[0m \u001b[0mdf\u001b[0m\u001b[1;33m\u001b[0m\u001b[1;33m\u001b[0m\u001b[0m\n",
      "\u001b[1;31mNameError\u001b[0m: name 'prep_water_use_2015' is not defined"
     ]
    }
   ],
   "source": [
    "import pandas as pd\n",
    "import numpy as np\n",
    "import matplotlib as plt\n",
    "\n",
    "import flow\n",
    "\n",
    "df = flow.calc_population_county_weight()\n",
    "df"
   ]
  },
  {
   "cell_type": "code",
   "execution_count": 1,
   "id": "50d94ab8-d74b-4ba4-aa9e-764f87dd326a",
   "metadata": {},
   "outputs": [
    {
     "data": {
      "text/html": [
       "<div>\n",
       "<style scoped>\n",
       "    .dataframe tbody tr th:only-of-type {\n",
       "        vertical-align: middle;\n",
       "    }\n",
       "\n",
       "    .dataframe tbody tr th {\n",
       "        vertical-align: top;\n",
       "    }\n",
       "\n",
       "    .dataframe thead th {\n",
       "        text-align: right;\n",
       "    }\n",
       "</style>\n",
       "<table border=\"1\" class=\"dataframe\">\n",
       "  <thead>\n",
       "    <tr style=\"text-align: right;\">\n",
       "      <th></th>\n",
       "      <th>State</th>\n",
       "      <th>elec_demand_res</th>\n",
       "      <th>elec_demand_co</th>\n",
       "      <th>elec_demand_in</th>\n",
       "      <th>elec_demand_tr</th>\n",
       "    </tr>\n",
       "  </thead>\n",
       "  <tbody>\n",
       "    <tr>\n",
       "      <th>0</th>\n",
       "      <td>AK</td>\n",
       "      <td>6339.967163</td>\n",
       "      <td>8320.105600</td>\n",
       "      <td>4181.034877</td>\n",
       "      <td>0.000000</td>\n",
       "    </tr>\n",
       "    <tr>\n",
       "      <th>1</th>\n",
       "      <td>AL</td>\n",
       "      <td>75482.157831</td>\n",
       "      <td>60903.610065</td>\n",
       "      <td>102615.064742</td>\n",
       "      <td>0.000000</td>\n",
       "    </tr>\n",
       "    <tr>\n",
       "      <th>2</th>\n",
       "      <td>AR</td>\n",
       "      <td>45754.591936</td>\n",
       "      <td>32576.647003</td>\n",
       "      <td>45381.774672</td>\n",
       "      <td>1.490635</td>\n",
       "    </tr>\n",
       "    <tr>\n",
       "      <th>3</th>\n",
       "      <td>AZ</td>\n",
       "      <td>106761.883742</td>\n",
       "      <td>93705.823501</td>\n",
       "      <td>46195.011600</td>\n",
       "      <td>21.208992</td>\n",
       "    </tr>\n",
       "    <tr>\n",
       "      <th>4</th>\n",
       "      <td>CA</td>\n",
       "      <td>279799.566806</td>\n",
       "      <td>324441.418059</td>\n",
       "      <td>124424.663391</td>\n",
       "      <td>1691.381081</td>\n",
       "    </tr>\n",
       "    <tr>\n",
       "      <th>5</th>\n",
       "      <td>CO</td>\n",
       "      <td>48888.226475</td>\n",
       "      <td>58205.107101</td>\n",
       "      <td>39300.580754</td>\n",
       "      <td>219.268768</td>\n",
       "    </tr>\n",
       "    <tr>\n",
       "      <th>6</th>\n",
       "      <td>CT</td>\n",
       "      <td>27725.815372</td>\n",
       "      <td>9862.301962</td>\n",
       "      <td>2069.160110</td>\n",
       "      <td>0.000000</td>\n",
       "    </tr>\n",
       "    <tr>\n",
       "      <th>7</th>\n",
       "      <td>DC</td>\n",
       "      <td>6551.629798</td>\n",
       "      <td>4501.906317</td>\n",
       "      <td>0.000000</td>\n",
       "      <td>0.000000</td>\n",
       "    </tr>\n",
       "    <tr>\n",
       "      <th>8</th>\n",
       "      <td>DE</td>\n",
       "      <td>14346.417395</td>\n",
       "      <td>5246.088937</td>\n",
       "      <td>1879.204038</td>\n",
       "      <td>0.000000</td>\n",
       "    </tr>\n",
       "    <tr>\n",
       "      <th>9</th>\n",
       "      <td>FL</td>\n",
       "      <td>337702.831840</td>\n",
       "      <td>272367.628213</td>\n",
       "      <td>43815.273439</td>\n",
       "      <td>325.559460</td>\n",
       "    </tr>\n",
       "    <tr>\n",
       "      <th>10</th>\n",
       "      <td>GA</td>\n",
       "      <td>110150.503797</td>\n",
       "      <td>122716.846740</td>\n",
       "      <td>84494.123814</td>\n",
       "      <td>582.951971</td>\n",
       "    </tr>\n",
       "    <tr>\n",
       "      <th>11</th>\n",
       "      <td>HI</td>\n",
       "      <td>8728.867772</td>\n",
       "      <td>10722.390461</td>\n",
       "      <td>12582.565195</td>\n",
       "      <td>0.000000</td>\n",
       "    </tr>\n",
       "    <tr>\n",
       "      <th>12</th>\n",
       "      <td>IA</td>\n",
       "      <td>31249.066498</td>\n",
       "      <td>29813.690814</td>\n",
       "      <td>59794.206556</td>\n",
       "      <td>0.000000</td>\n",
       "    </tr>\n",
       "    <tr>\n",
       "      <th>13</th>\n",
       "      <td>ID</td>\n",
       "      <td>24640.170920</td>\n",
       "      <td>19981.388076</td>\n",
       "      <td>28734.340201</td>\n",
       "      <td>0.000000</td>\n",
       "    </tr>\n",
       "    <tr>\n",
       "      <th>14</th>\n",
       "      <td>IL</td>\n",
       "      <td>58957.027591</td>\n",
       "      <td>39033.239909</td>\n",
       "      <td>11041.272773</td>\n",
       "      <td>0.000000</td>\n",
       "    </tr>\n",
       "    <tr>\n",
       "      <th>15</th>\n",
       "      <td>IN</td>\n",
       "      <td>78535.829625</td>\n",
       "      <td>67354.961218</td>\n",
       "      <td>138179.081795</td>\n",
       "      <td>71.704033</td>\n",
       "    </tr>\n",
       "    <tr>\n",
       "      <th>16</th>\n",
       "      <td>KS</td>\n",
       "      <td>34523.432833</td>\n",
       "      <td>42187.817338</td>\n",
       "      <td>26969.245384</td>\n",
       "      <td>0.000000</td>\n",
       "    </tr>\n",
       "    <tr>\n",
       "      <th>17</th>\n",
       "      <td>KY</td>\n",
       "      <td>56953.020850</td>\n",
       "      <td>51049.727520</td>\n",
       "      <td>85170.318001</td>\n",
       "      <td>0.000000</td>\n",
       "    </tr>\n",
       "    <tr>\n",
       "      <th>18</th>\n",
       "      <td>LA</td>\n",
       "      <td>79577.284552</td>\n",
       "      <td>71026.521884</td>\n",
       "      <td>106252.710436</td>\n",
       "      <td>40.359456</td>\n",
       "    </tr>\n",
       "    <tr>\n",
       "      <th>19</th>\n",
       "      <td>MA</td>\n",
       "      <td>43348.956116</td>\n",
       "      <td>19247.198591</td>\n",
       "      <td>3259.386187</td>\n",
       "      <td>0.112596</td>\n",
       "    </tr>\n",
       "    <tr>\n",
       "      <th>20</th>\n",
       "      <td>MD</td>\n",
       "      <td>62273.155645</td>\n",
       "      <td>17823.372526</td>\n",
       "      <td>1041.187359</td>\n",
       "      <td>0.000000</td>\n",
       "    </tr>\n",
       "    <tr>\n",
       "      <th>21</th>\n",
       "      <td>ME</td>\n",
       "      <td>12485.001341</td>\n",
       "      <td>5833.654853</td>\n",
       "      <td>753.214866</td>\n",
       "      <td>0.000000</td>\n",
       "    </tr>\n",
       "    <tr>\n",
       "      <th>22</th>\n",
       "      <td>MI</td>\n",
       "      <td>102891.214860</td>\n",
       "      <td>108909.140915</td>\n",
       "      <td>75378.382021</td>\n",
       "      <td>14.643417</td>\n",
       "    </tr>\n",
       "    <tr>\n",
       "      <th>23</th>\n",
       "      <td>MN</td>\n",
       "      <td>46841.644900</td>\n",
       "      <td>64629.589163</td>\n",
       "      <td>53879.285608</td>\n",
       "      <td>82.601859</td>\n",
       "    </tr>\n",
       "    <tr>\n",
       "      <th>24</th>\n",
       "      <td>MO</td>\n",
       "      <td>78381.247190</td>\n",
       "      <td>88649.700087</td>\n",
       "      <td>43499.165663</td>\n",
       "      <td>70.369532</td>\n",
       "    </tr>\n",
       "    <tr>\n",
       "      <th>25</th>\n",
       "      <td>MS</td>\n",
       "      <td>38730.519865</td>\n",
       "      <td>34012.667999</td>\n",
       "      <td>42751.072584</td>\n",
       "      <td>0.000000</td>\n",
       "    </tr>\n",
       "    <tr>\n",
       "      <th>26</th>\n",
       "      <td>MT</td>\n",
       "      <td>12951.631272</td>\n",
       "      <td>14085.317064</td>\n",
       "      <td>4759.244134</td>\n",
       "      <td>0.000000</td>\n",
       "    </tr>\n",
       "    <tr>\n",
       "      <th>27</th>\n",
       "      <td>NC</td>\n",
       "      <td>143592.014392</td>\n",
       "      <td>134561.470273</td>\n",
       "      <td>80486.265373</td>\n",
       "      <td>29.518713</td>\n",
       "    </tr>\n",
       "    <tr>\n",
       "      <th>28</th>\n",
       "      <td>ND</td>\n",
       "      <td>14450.618886</td>\n",
       "      <td>19337.793810</td>\n",
       "      <td>18445.659467</td>\n",
       "      <td>0.000000</td>\n",
       "    </tr>\n",
       "    <tr>\n",
       "      <th>29</th>\n",
       "      <td>NE</td>\n",
       "      <td>23840.565172</td>\n",
       "      <td>24884.095005</td>\n",
       "      <td>27940.241864</td>\n",
       "      <td>0.000000</td>\n",
       "    </tr>\n",
       "    <tr>\n",
       "      <th>30</th>\n",
       "      <td>NH</td>\n",
       "      <td>12519.064088</td>\n",
       "      <td>6224.758083</td>\n",
       "      <td>1022.027921</td>\n",
       "      <td>0.000000</td>\n",
       "    </tr>\n",
       "    <tr>\n",
       "      <th>31</th>\n",
       "      <td>NJ</td>\n",
       "      <td>83709.763325</td>\n",
       "      <td>41755.326719</td>\n",
       "      <td>3665.256041</td>\n",
       "      <td>39.156112</td>\n",
       "    </tr>\n",
       "    <tr>\n",
       "      <th>32</th>\n",
       "      <td>NM</td>\n",
       "      <td>18700.504408</td>\n",
       "      <td>25257.899429</td>\n",
       "      <td>19628.326395</td>\n",
       "      <td>0.000000</td>\n",
       "    </tr>\n",
       "    <tr>\n",
       "      <th>33</th>\n",
       "      <td>NV</td>\n",
       "      <td>41129.143718</td>\n",
       "      <td>28317.381483</td>\n",
       "      <td>42933.447840</td>\n",
       "      <td>28.469728</td>\n",
       "    </tr>\n",
       "    <tr>\n",
       "      <th>34</th>\n",
       "      <td>NY</td>\n",
       "      <td>134121.779481</td>\n",
       "      <td>82347.110770</td>\n",
       "      <td>4993.314636</td>\n",
       "      <td>1259.212316</td>\n",
       "    </tr>\n",
       "    <tr>\n",
       "      <th>35</th>\n",
       "      <td>OH</td>\n",
       "      <td>72493.790795</td>\n",
       "      <td>23070.606530</td>\n",
       "      <td>18793.025190</td>\n",
       "      <td>12.092128</td>\n",
       "    </tr>\n",
       "    <tr>\n",
       "      <th>36</th>\n",
       "      <td>OK</td>\n",
       "      <td>55805.143049</td>\n",
       "      <td>56224.331952</td>\n",
       "      <td>45192.989019</td>\n",
       "      <td>0.000000</td>\n",
       "    </tr>\n",
       "    <tr>\n",
       "      <th>37</th>\n",
       "      <td>OR</td>\n",
       "      <td>47910.477341</td>\n",
       "      <td>44834.118783</td>\n",
       "      <td>26762.024457</td>\n",
       "      <td>82.313374</td>\n",
       "    </tr>\n",
       "    <tr>\n",
       "      <th>38</th>\n",
       "      <td>PA</td>\n",
       "      <td>110929.835100</td>\n",
       "      <td>31748.654438</td>\n",
       "      <td>6829.058051</td>\n",
       "      <td>0.000000</td>\n",
       "    </tr>\n",
       "    <tr>\n",
       "      <th>39</th>\n",
       "      <td>PR</td>\n",
       "      <td>21548.395957</td>\n",
       "      <td>29257.436002</td>\n",
       "      <td>8037.424436</td>\n",
       "      <td>0.000000</td>\n",
       "    </tr>\n",
       "    <tr>\n",
       "      <th>40</th>\n",
       "      <td>RI</td>\n",
       "      <td>9813.237027</td>\n",
       "      <td>5101.871783</td>\n",
       "      <td>646.097685</td>\n",
       "      <td>0.000000</td>\n",
       "    </tr>\n",
       "    <tr>\n",
       "      <th>41</th>\n",
       "      <td>SC</td>\n",
       "      <td>70271.553182</td>\n",
       "      <td>62702.556391</td>\n",
       "      <td>88360.768652</td>\n",
       "      <td>0.000000</td>\n",
       "    </tr>\n",
       "    <tr>\n",
       "      <th>42</th>\n",
       "      <td>SD</td>\n",
       "      <td>11610.890171</td>\n",
       "      <td>13093.084910</td>\n",
       "      <td>8135.407693</td>\n",
       "      <td>0.000000</td>\n",
       "    </tr>\n",
       "    <tr>\n",
       "      <th>43</th>\n",
       "      <td>TN</td>\n",
       "      <td>99357.834427</td>\n",
       "      <td>84947.921725</td>\n",
       "      <td>55239.210645</td>\n",
       "      <td>0.000000</td>\n",
       "    </tr>\n",
       "    <tr>\n",
       "      <th>44</th>\n",
       "      <td>TX</td>\n",
       "      <td>75671.324194</td>\n",
       "      <td>84601.299238</td>\n",
       "      <td>67900.328030</td>\n",
       "      <td>0.000000</td>\n",
       "    </tr>\n",
       "    <tr>\n",
       "      <th>45</th>\n",
       "      <td>UT</td>\n",
       "      <td>26425.889605</td>\n",
       "      <td>35421.349117</td>\n",
       "      <td>30874.963320</td>\n",
       "      <td>189.777146</td>\n",
       "    </tr>\n",
       "    <tr>\n",
       "      <th>46</th>\n",
       "      <td>VA</td>\n",
       "      <td>134937.150990</td>\n",
       "      <td>153750.726655</td>\n",
       "      <td>51739.960994</td>\n",
       "      <td>670.229976</td>\n",
       "    </tr>\n",
       "    <tr>\n",
       "      <th>47</th>\n",
       "      <td>VT</td>\n",
       "      <td>6229.226882</td>\n",
       "      <td>6328.469713</td>\n",
       "      <td>4569.875473</td>\n",
       "      <td>0.000000</td>\n",
       "    </tr>\n",
       "    <tr>\n",
       "      <th>48</th>\n",
       "      <td>WA</td>\n",
       "      <td>86080.333783</td>\n",
       "      <td>79380.147074</td>\n",
       "      <td>57950.189143</td>\n",
       "      <td>18.044260</td>\n",
       "    </tr>\n",
       "    <tr>\n",
       "      <th>49</th>\n",
       "      <td>WI</td>\n",
       "      <td>56899.423584</td>\n",
       "      <td>70084.479296</td>\n",
       "      <td>67171.744017</td>\n",
       "      <td>0.651692</td>\n",
       "    </tr>\n",
       "    <tr>\n",
       "      <th>50</th>\n",
       "      <td>WV</td>\n",
       "      <td>38688.969484</td>\n",
       "      <td>26408.801626</td>\n",
       "      <td>44523.603445</td>\n",
       "      <td>0.000000</td>\n",
       "    </tr>\n",
       "    <tr>\n",
       "      <th>51</th>\n",
       "      <td>WY</td>\n",
       "      <td>7989.927451</td>\n",
       "      <td>12088.394487</td>\n",
       "      <td>33942.989603</td>\n",
       "      <td>0.000000</td>\n",
       "    </tr>\n",
       "  </tbody>\n",
       "</table>\n",
       "</div>"
      ],
      "text/plain": [
       "   State  elec_demand_res  elec_demand_co  elec_demand_in  elec_demand_tr\n",
       "0     AK      6339.967163     8320.105600     4181.034877        0.000000\n",
       "1     AL     75482.157831    60903.610065   102615.064742        0.000000\n",
       "2     AR     45754.591936    32576.647003    45381.774672        1.490635\n",
       "3     AZ    106761.883742    93705.823501    46195.011600       21.208992\n",
       "4     CA    279799.566806   324441.418059   124424.663391     1691.381081\n",
       "5     CO     48888.226475    58205.107101    39300.580754      219.268768\n",
       "6     CT     27725.815372     9862.301962     2069.160110        0.000000\n",
       "7     DC      6551.629798     4501.906317        0.000000        0.000000\n",
       "8     DE     14346.417395     5246.088937     1879.204038        0.000000\n",
       "9     FL    337702.831840   272367.628213    43815.273439      325.559460\n",
       "10    GA    110150.503797   122716.846740    84494.123814      582.951971\n",
       "11    HI      8728.867772    10722.390461    12582.565195        0.000000\n",
       "12    IA     31249.066498    29813.690814    59794.206556        0.000000\n",
       "13    ID     24640.170920    19981.388076    28734.340201        0.000000\n",
       "14    IL     58957.027591    39033.239909    11041.272773        0.000000\n",
       "15    IN     78535.829625    67354.961218   138179.081795       71.704033\n",
       "16    KS     34523.432833    42187.817338    26969.245384        0.000000\n",
       "17    KY     56953.020850    51049.727520    85170.318001        0.000000\n",
       "18    LA     79577.284552    71026.521884   106252.710436       40.359456\n",
       "19    MA     43348.956116    19247.198591     3259.386187        0.112596\n",
       "20    MD     62273.155645    17823.372526     1041.187359        0.000000\n",
       "21    ME     12485.001341     5833.654853      753.214866        0.000000\n",
       "22    MI    102891.214860   108909.140915    75378.382021       14.643417\n",
       "23    MN     46841.644900    64629.589163    53879.285608       82.601859\n",
       "24    MO     78381.247190    88649.700087    43499.165663       70.369532\n",
       "25    MS     38730.519865    34012.667999    42751.072584        0.000000\n",
       "26    MT     12951.631272    14085.317064     4759.244134        0.000000\n",
       "27    NC    143592.014392   134561.470273    80486.265373       29.518713\n",
       "28    ND     14450.618886    19337.793810    18445.659467        0.000000\n",
       "29    NE     23840.565172    24884.095005    27940.241864        0.000000\n",
       "30    NH     12519.064088     6224.758083     1022.027921        0.000000\n",
       "31    NJ     83709.763325    41755.326719     3665.256041       39.156112\n",
       "32    NM     18700.504408    25257.899429    19628.326395        0.000000\n",
       "33    NV     41129.143718    28317.381483    42933.447840       28.469728\n",
       "34    NY    134121.779481    82347.110770     4993.314636     1259.212316\n",
       "35    OH     72493.790795    23070.606530    18793.025190       12.092128\n",
       "36    OK     55805.143049    56224.331952    45192.989019        0.000000\n",
       "37    OR     47910.477341    44834.118783    26762.024457       82.313374\n",
       "38    PA    110929.835100    31748.654438     6829.058051        0.000000\n",
       "39    PR     21548.395957    29257.436002     8037.424436        0.000000\n",
       "40    RI      9813.237027     5101.871783      646.097685        0.000000\n",
       "41    SC     70271.553182    62702.556391    88360.768652        0.000000\n",
       "42    SD     11610.890171    13093.084910     8135.407693        0.000000\n",
       "43    TN     99357.834427    84947.921725    55239.210645        0.000000\n",
       "44    TX     75671.324194    84601.299238    67900.328030        0.000000\n",
       "45    UT     26425.889605    35421.349117    30874.963320      189.777146\n",
       "46    VA    134937.150990   153750.726655    51739.960994      670.229976\n",
       "47    VT      6229.226882     6328.469713     4569.875473        0.000000\n",
       "48    WA     86080.333783    79380.147074    57950.189143       18.044260\n",
       "49    WI     56899.423584    70084.479296    67171.744017        0.651692\n",
       "50    WV     38688.969484    26408.801626    44523.603445        0.000000\n",
       "51    WY      7989.927451    12088.394487    33942.989603        0.000000"
      ]
     },
     "execution_count": 1,
     "metadata": {},
     "output_type": "execute_result"
    }
   ],
   "source": [
    "import pandas as pd\n",
    "import numpy as np\n",
    "import matplotlib as plt\n",
    "\n",
    "import flow\n",
    "\n",
    "df = flow.prep_electricity_demand_data()\n",
    "df"
   ]
  },
  {
   "cell_type": "code",
   "execution_count": 1,
   "id": "09b7d1f3-1108-440b-bb4a-116e550d6359",
   "metadata": {},
   "outputs": [
    {
     "ename": "NameError",
     "evalue": "name 'flow' is not defined",
     "output_type": "error",
     "traceback": [
      "\u001b[1;31m---------------------------------------------------------------------------\u001b[0m",
      "\u001b[1;31mNameError\u001b[0m                                 Traceback (most recent call last)",
      "\u001b[1;32m~\\AppData\\Local\\Temp/ipykernel_14892/212329443.py\u001b[0m in \u001b[0;36m<module>\u001b[1;34m\u001b[0m\n\u001b[1;32m----> 1\u001b[1;33m \u001b[0mdf\u001b[0m \u001b[1;33m=\u001b[0m \u001b[0mflow\u001b[0m\u001b[1;33m.\u001b[0m\u001b[0mprep_electricity_demand_data\u001b[0m\u001b[1;33m(\u001b[0m\u001b[1;33m)\u001b[0m\u001b[1;33m\u001b[0m\u001b[1;33m\u001b[0m\u001b[0m\n\u001b[0m\u001b[0;32m      2\u001b[0m \u001b[0mdf\u001b[0m\u001b[1;33m\u001b[0m\u001b[1;33m\u001b[0m\u001b[0m\n",
      "\u001b[1;31mNameError\u001b[0m: name 'flow' is not defined"
     ]
    }
   ],
   "source": []
  },
  {
   "cell_type": "code",
   "execution_count": 4,
   "id": "d579efc4-97a9-4486-8156-d64cb5983008",
   "metadata": {},
   "outputs": [
    {
     "ename": "AttributeError",
     "evalue": "'NoneType' object has no attribute 'head'",
     "output_type": "error",
     "traceback": [
      "\u001b[1;31m---------------------------------------------------------------------------\u001b[0m",
      "\u001b[1;31mAttributeError\u001b[0m                            Traceback (most recent call last)",
      "\u001b[1;32m~\\AppData\\Local\\Temp/ipykernel_25908/964094849.py\u001b[0m in \u001b[0;36m<module>\u001b[1;34m\u001b[0m\n\u001b[1;32m----> 1\u001b[1;33m \u001b[0mdf\u001b[0m\u001b[1;33m.\u001b[0m\u001b[0mhead\u001b[0m\u001b[1;33m(\u001b[0m\u001b[1;33m)\u001b[0m\u001b[1;33m\u001b[0m\u001b[1;33m\u001b[0m\u001b[0m\n\u001b[0m",
      "\u001b[1;31mAttributeError\u001b[0m: 'NoneType' object has no attribute 'head'"
     ]
    }
   ],
   "source": [
    "df.head()"
   ]
  },
  {
   "cell_type": "code",
   "execution_count": 9,
   "id": "2049bdae-cfc7-4032-8530-22f2d8d9430b",
   "metadata": {},
   "outputs": [
    {
     "data": {
      "text/plain": [
       "0.003412"
      ]
     },
     "execution_count": 9,
     "metadata": {},
     "output_type": "execute_result"
    }
   ],
   "source": [
    "#MWh_BBTU = 3412000/1000000000\n",
    "MWh_BBTU = 3412000/(10**9)\n",
    "MWh_BBTU"
   ]
  },
  {
   "cell_type": "code",
   "execution_count": 3,
   "id": "d64abba6-fac3-40c0-9fb7-c6fdcc63b0b8",
   "metadata": {},
   "outputs": [
    {
     "data": {
      "text/html": [
       "<div>\n",
       "<style scoped>\n",
       "    .dataframe tbody tr th:only-of-type {\n",
       "        vertical-align: middle;\n",
       "    }\n",
       "\n",
       "    .dataframe tbody tr th {\n",
       "        vertical-align: top;\n",
       "    }\n",
       "\n",
       "    .dataframe thead th {\n",
       "        text-align: right;\n",
       "    }\n",
       "</style>\n",
       "<table border=\"1\" class=\"dataframe\">\n",
       "  <thead>\n",
       "    <tr style=\"text-align: right;\">\n",
       "      <th></th>\n",
       "      <th>FIPS</th>\n",
       "      <th>State</th>\n",
       "      <th>County</th>\n",
       "      <th>interbasin_bbtu</th>\n",
       "    </tr>\n",
       "  </thead>\n",
       "  <tbody>\n",
       "  </tbody>\n",
       "</table>\n",
       "</div>"
      ],
      "text/plain": [
       "Empty DataFrame\n",
       "Columns: [FIPS, State, County, interbasin_bbtu]\n",
       "Index: []"
      ]
     },
     "execution_count": 3,
     "metadata": {},
     "output_type": "execute_result"
    }
   ],
   "source": [
    "is_NaN = df.isnull()\n",
    "row_has_NaN = is_NaN.any(axis=1)\n",
    "rows_with_NaN = df[row_has_NaN]\n",
    "rows_with_NaN"
   ]
  },
  {
   "cell_type": "code",
   "execution_count": null,
   "id": "3a9b833c-825b-435f-b2a3-014188b70440",
   "metadata": {},
   "outputs": [],
   "source": []
  },
  {
   "cell_type": "code",
   "execution_count": null,
   "id": "7a7d66f3-42c7-48cc-9e15-c2465aaba0db",
   "metadata": {},
   "outputs": [],
   "source": []
  },
  {
   "cell_type": "code",
   "execution_count": 2,
   "id": "7570c60a-310c-41d4-af37-1e5366195c67",
   "metadata": {},
   "outputs": [],
   "source": [
    "df = flow.prep_electricity_generation()\n",
    "df.isnull().values.sum()\n",
    "df2 = flow.prep_county_identifier()\n"
   ]
  },
  {
   "cell_type": "code",
   "execution_count": 5,
   "id": "aff4de41-5d2a-4690-887f-94b2f78a9734",
   "metadata": {},
   "outputs": [],
   "source": [
    "df2.to_csv(r'C:\\Users\\mong275\\Local Files\\Sankey_Notebook_Development\\SankeyFiles\\run2.csv')"
   ]
  },
  {
   "cell_type": "code",
   "execution_count": 3,
   "id": "41a0e312-a31b-4f2f-8590-e111459ec4f9",
   "metadata": {},
   "outputs": [
    {
     "data": {
      "text/html": [
       "<div>\n",
       "<style scoped>\n",
       "    .dataframe tbody tr th:only-of-type {\n",
       "        vertical-align: middle;\n",
       "    }\n",
       "\n",
       "    .dataframe tbody tr th {\n",
       "        vertical-align: top;\n",
       "    }\n",
       "\n",
       "    .dataframe thead th {\n",
       "        text-align: right;\n",
       "    }\n",
       "</style>\n",
       "<table border=\"1\" class=\"dataframe\">\n",
       "  <thead>\n",
       "    <tr style=\"text-align: right;\">\n",
       "      <th></th>\n",
       "      <th>Plant Code</th>\n",
       "      <th>State</th>\n",
       "      <th>County</th>\n",
       "      <th>identifier</th>\n",
       "      <th>FIPS</th>\n",
       "    </tr>\n",
       "  </thead>\n",
       "  <tbody>\n",
       "  </tbody>\n",
       "</table>\n",
       "</div>"
      ],
      "text/plain": [
       "Empty DataFrame\n",
       "Columns: [Plant Code, State, County, identifier, FIPS]\n",
       "Index: []"
      ]
     },
     "execution_count": 3,
     "metadata": {},
     "output_type": "execute_result"
    }
   ],
   "source": [
    "is_NaN = df.isnull()\n",
    "row_has_NaN = is_NaN.any(axis=1)\n",
    "rows_with_NaN = df[row_has_NaN]\n",
    "rows_with_NaN"
   ]
  },
  {
   "cell_type": "code",
   "execution_count": null,
   "id": "d256b12f-6d66-45e5-b650-cbefb1d63963",
   "metadata": {},
   "outputs": [],
   "source": [
    "city_list = ['VAchesapeakecity','VAportsmouthcity','VAhopewellcity','VAalexandriacity',\n",
    "           'VAcovingtoncity','VAsuffolkcity','VAharrisonburgcity','VAsalemcity',\n",
    "           'VAlynchburgcity','VAdanvillecity','VAmanassascity','VAhamptoncity',\n",
    "           'VAvirginiabeachcity','VAbristolcity', 'MOstlouiscity']\n",
    "\n",
    "for i in city_list:\n",
    "    df_plant[\"identifier\"] = np.where(df_plant[\"identifier\"] == i, df_plant[\"identifier\"].str.replace('city', '', regex=True), df_plant[\"identifier\"])\n",
    "\n"
   ]
  },
  {
   "cell_type": "markdown",
   "id": "aec10fed-bb63-424d-ad3e-9c8b264730da",
   "metadata": {},
   "source": [
    "<h1> Public Water Supply </h1>"
   ]
  },
  {
   "cell_type": "markdown",
   "id": "172c6b7e-078b-464f-a5f1-036549096658",
   "metadata": {},
   "source": [
    "## Water in Public Water Supply"
   ]
  },
  {
   "cell_type": "markdown",
   "id": "6b445803-fdd9-47b1-b804-d4a2302c8bee",
   "metadata": {},
   "source": [
    "### Public Water Supply Withdrawals\n",
    "\n",
    "The USGS 2015 dataset provides public water supply withdrawals directly under data codes 'PS-WGWFr', 'PS-WSWFr','PS-WGWSa', 'PS-WSWSa' for each county."
   ]
  },
  {
   "cell_type": "code",
   "execution_count": null,
   "id": "cb2a4933-645a-4eee-9fed-1061fa1983b7",
   "metadata": {},
   "outputs": [],
   "source": [
    "df = flow.prep_water_use_2015(variables=['State','County','PS-WGWFr', 'PS-WSWFr','PS-WGWSa', 'PS-WSWSa'])\n",
    "df.head()               "
   ]
  },
  {
   "cell_type": "markdown",
   "id": "b0d4fe24-cd10-48f3-bcd9-e1bfbdc56d4b",
   "metadata": {},
   "source": [
    "### Public Water Supply Deliveries, Exports, and Imports\n",
    "\n",
    "The USGS 2015 dataset provide public water supply data in three categories: (1) total public water supply withdrawals, (2) public water supply deliveries to domestic end users, and (3) public water supply deliveries to thermoelectric cooling.\n",
    "\n",
    "The 1995 USGS dataset provides public water supply deliveries to domestic, industrial, commercial, thermoelectric cooling, and losses/exports separately. To estimate the deliveries to commercial and industrial customers in 2015, the ratio of each to the sum of deliveries to residential and thermoelectric cooling is calculated from the 1995 data. These ratios are applied to the 2015 residential and thermoelectric cooling public water supply delivery values. \n",
    "\n",
    "Additionally, public water suppy exports and imports are calculated. When the sum of water deliveries is greater than the water withdrawn for public water supply, the difference is considered to be imported. When water withdrawn is greater, excess water after deliveries is considered to be exported.\n",
    "\n",
    "Caveats and assumptions:\n",
    "* This methodology assumes that if no public water supply was delivered to residential or thermoelectric cooling in 1995, then deliveries to industrial and commercial sectors would likewise be zero."
   ]
  },
  {
   "cell_type": "markdown",
   "id": "7114162c-ec51-4cdd-a1d8-edfefa993c57",
   "metadata": {},
   "source": [
    "Potential mods\n",
    " for import pws counties, take 15% of withdrawals and imports as losses and add it on to the top of imports\n",
    " for export pws counties, take 15% of withdrawals as losses, take it out of exports, any remaining put as imports"
   ]
  },
  {
   "cell_type": "code",
   "execution_count": null,
   "id": "9fddacb3-69a0-4baf-9bda-19e9c214e949",
   "metadata": {},
   "outputs": [],
   "source": [
    "df = flow.calc_pws_discharge()\n",
    "df.head()"
   ]
  },
  {
   "cell_type": "markdown",
   "id": "8bceb769-cd65-4b51-bbc9-cac988d2b99e",
   "metadata": {},
   "source": [
    "## Energy in Public Water Supply"
   ]
  },
  {
   "cell_type": "markdown",
   "id": "0c74b0e6-e705-4fc3-9fb5-bea65083abe7",
   "metadata": {
    "tags": []
   },
   "source": [
    "# Wastewater Treatment\n",
    "Wastewater treatment facility data is provided by EPA for the year 2012. These values are assumed for 2015. Values are provided on a treatment plant level with data on the following variables: \n",
    "Flow:\n",
    "    * Total water flows (MGD) treated by the facility\n",
    "    * Total infiltration flows treated by the facility (leaks into pipes and conduits)\n",
    "Treatment:\n",
    "    * Treatment type of each treatment plant (primary, secondary, advanced)\n",
    "Discharge:\n",
    "    * discharge location of each plant, broken down by percent of flow to each discharge location (e.g., ocean discharge, suface discharge, irrigation reuse)\n",
    "Location:\n",
    "    * county information is included for each power plant\n",
    "    \n",
    "This data allows us to determine total water flows processed and discharged by wastewater facilities at a county level by treatment type. The treatment type allows us to calculate the electricity use by county for wastewater treatment,"
   ]
  },
  {
   "cell_type": "markdown",
   "id": "8cba44f3-f3e3-494f-ae27-1d9054b7bbe0",
   "metadata": {},
   "source": [
    "## Water in Wastewater Treatment"
   ]
  },
  {
   "cell_type": "markdown",
   "id": "5926230b-d7ee-4afe-83fe-b8c6711fc07f",
   "metadata": {},
   "source": [
    "### Water Inflows to Wastewater Treatment Facilities\n",
    "Total flows processed by wastewater treatment facilities are provided in the EPA dataset directly. However, this data will have discrepencies from the water data delivered to various sectors. To estimate water flows from residential, commercial, and industrial sectors to wastewater treatment facilities, an assumption is made that all water delivered from public water supply to these sectors is sent to wastewater treatment facilities."
   ]
  },
  {
   "cell_type": "markdown",
   "id": "7598d9da-f8fd-4b96-8d52-42a88bcb4480",
   "metadata": {},
   "source": [
    "### Quantity of Wastewater Processed by Treatment Type\n",
    "Wastewater treatment plant treatment type is provided in the EPA data directly. These values are binned for simplification into no treatment, primary, secondary, and advanced treatment. When no treatment type was provided for a facility, it was assumed that they were secondary treatment facilities.\n",
    "\n",
    "To see the amount of water (MGD) processed within each county by treatment type, run the cell below."
   ]
  },
  {
   "cell_type": "code",
   "execution_count": null,
   "id": "1216fa88-6561-42a7-a8ce-80034ba58003",
   "metadata": {},
   "outputs": [],
   "source": [
    "df = flow.prep_wastewater_data()\n",
    "df = df[['FIPS','no_treatment','ww_adv','ww_prim','ww_sec']]\n",
    "df.head()"
   ]
  },
  {
   "cell_type": "markdown",
   "id": "fefe0edf-638f-413c-914a-c28f695a61b9",
   "metadata": {},
   "source": [
    "### Wastewater Treatment Facility Discharge\n",
    "\n",
    "Wastewater treatment plant discharge location is provided in the EPA data directly. These values are binned for simplification into the following categories:\n",
    "\n",
    "* 'outfall to surface waters': 'ww_sd',\n",
    "* 'ocean discharge': 'ww_od',\n",
    "* 'deep well': 'ww_gd',\n",
    "* \"reuse: industrial\": 'ww_in',\n",
    "* 'evaporation': 'ww_evap',\n",
    "* 'spray irrigation': 'ww_ir',\n",
    "* 'overland flow no discharge': 'ww_ww',\n",
    "* 'overland flow with discharge': 'ww_sd',\n",
    "* 'discharge to another facility': 'ww_ww',\n",
    "* 'combined sewer overflow (cso) discharge': 'ww_sd',\n",
    "* 'other': 'ww_sd',\n",
    "* 'discharge to groundwater': 'ww_gd',\n",
    "* 'no discharge, unknown': 'ww_ww',\n",
    "* 'reuse: irrigation': 'ww_ir',\n",
    "* 'reuse: other non-potable': 'ww_sd',\n",
    "* 'reuse: indirect potable': 'ww_sd',\n",
    "* 'reuse: potable': 'ww_ps',\n",
    "* 'reuse: groundwater recharge': 'ww_gd'"
   ]
  },
  {
   "cell_type": "code",
   "execution_count": 17,
   "id": "ca28495d-ee3e-444d-87a8-822dd2b96b59",
   "metadata": {},
   "outputs": [
    {
     "data": {
      "text/html": [
       "<div>\n",
       "<style scoped>\n",
       "    .dataframe tbody tr th:only-of-type {\n",
       "        vertical-align: middle;\n",
       "    }\n",
       "\n",
       "    .dataframe tbody tr th {\n",
       "        vertical-align: top;\n",
       "    }\n",
       "\n",
       "    .dataframe thead th {\n",
       "        text-align: right;\n",
       "    }\n",
       "</style>\n",
       "<table border=\"1\" class=\"dataframe\">\n",
       "  <thead>\n",
       "    <tr style=\"text-align: right;\">\n",
       "      <th></th>\n",
       "      <th>FIPS</th>\n",
       "      <th>ww_evap</th>\n",
       "      <th>ww_gd</th>\n",
       "      <th>ww_in</th>\n",
       "      <th>ww_ir</th>\n",
       "      <th>ww_od</th>\n",
       "      <th>ww_ps</th>\n",
       "      <th>ww_sd</th>\n",
       "      <th>ww_ww</th>\n",
       "    </tr>\n",
       "  </thead>\n",
       "  <tbody>\n",
       "    <tr>\n",
       "      <th>0</th>\n",
       "      <td>01001</td>\n",
       "      <td>0.0</td>\n",
       "      <td>0.0</td>\n",
       "      <td>0.0</td>\n",
       "      <td>0.0</td>\n",
       "      <td>0.0</td>\n",
       "      <td>0.0</td>\n",
       "      <td>2.866</td>\n",
       "      <td>0.00</td>\n",
       "    </tr>\n",
       "    <tr>\n",
       "      <th>1</th>\n",
       "      <td>01003</td>\n",
       "      <td>0.0</td>\n",
       "      <td>0.0</td>\n",
       "      <td>0.0</td>\n",
       "      <td>0.0</td>\n",
       "      <td>0.0</td>\n",
       "      <td>0.0</td>\n",
       "      <td>13.956</td>\n",
       "      <td>0.25</td>\n",
       "    </tr>\n",
       "    <tr>\n",
       "      <th>2</th>\n",
       "      <td>01005</td>\n",
       "      <td>0.0</td>\n",
       "      <td>0.0</td>\n",
       "      <td>0.0</td>\n",
       "      <td>0.0</td>\n",
       "      <td>0.0</td>\n",
       "      <td>0.0</td>\n",
       "      <td>2.138</td>\n",
       "      <td>0.00</td>\n",
       "    </tr>\n",
       "    <tr>\n",
       "      <th>3</th>\n",
       "      <td>01007</td>\n",
       "      <td>0.0</td>\n",
       "      <td>0.0</td>\n",
       "      <td>0.0</td>\n",
       "      <td>0.0</td>\n",
       "      <td>0.0</td>\n",
       "      <td>0.0</td>\n",
       "      <td>0.734</td>\n",
       "      <td>0.00</td>\n",
       "    </tr>\n",
       "    <tr>\n",
       "      <th>4</th>\n",
       "      <td>01009</td>\n",
       "      <td>0.0</td>\n",
       "      <td>0.0</td>\n",
       "      <td>0.0</td>\n",
       "      <td>0.0</td>\n",
       "      <td>0.0</td>\n",
       "      <td>0.0</td>\n",
       "      <td>1.133</td>\n",
       "      <td>0.00</td>\n",
       "    </tr>\n",
       "  </tbody>\n",
       "</table>\n",
       "</div>"
      ],
      "text/plain": [
       "    FIPS  ww_evap  ww_gd  ww_in  ww_ir  ww_od  ww_ps   ww_sd  ww_ww\n",
       "0  01001      0.0    0.0    0.0    0.0    0.0    0.0   2.866   0.00\n",
       "1  01003      0.0    0.0    0.0    0.0    0.0    0.0  13.956   0.25\n",
       "2  01005      0.0    0.0    0.0    0.0    0.0    0.0   2.138   0.00\n",
       "3  01007      0.0    0.0    0.0    0.0    0.0    0.0   0.734   0.00\n",
       "4  01009      0.0    0.0    0.0    0.0    0.0    0.0   1.133   0.00"
      ]
     },
     "execution_count": 17,
     "metadata": {},
     "output_type": "execute_result"
    }
   ],
   "source": [
    "df = flow.prep_wastewater_data()\n",
    "df = df[['FIPS','ww_evap','ww_gd','ww_in','ww_ir','ww_od','ww_ps','ww_sd','ww_ww']]\n",
    "df.head()"
   ]
  },
  {
   "cell_type": "markdown",
   "id": "83f8d020-82bc-413f-9809-6b99f7d03b6d",
   "metadata": {},
   "source": [
    "## Energy in Wastewater Treatment\n",
    "\n",
    "Wastewater treatment facilities have various levels of treatment from primary to advanced. Each treatment level has an increasing level of energy intensity to process the water. Intensity value estimates for wastwater treatment were used from Pabi et al. [17]."
   ]
  },
  {
   "cell_type": "markdown",
   "id": "3e3a89c7-b15a-4ee9-9dae-650f88f8edf9",
   "metadata": {},
   "source": [
    "# Agriculture"
   ]
  },
  {
   "cell_type": "markdown",
   "id": "525afe82-e4d0-4696-be09-341e39b7daf5",
   "metadata": {},
   "source": [
    "## Water in Agriculture"
   ]
  },
  {
   "cell_type": "code",
   "execution_count": null,
   "id": "460054af-419c-4a7f-bb08-987e96dc111a",
   "metadata": {},
   "outputs": [],
   "source": []
  },
  {
   "cell_type": "markdown",
   "id": "f0222bec-066e-47c8-a200-8b3344116ee6",
   "metadata": {},
   "source": [
    "## Energy in Agriculture"
   ]
  },
  {
   "cell_type": "markdown",
   "id": "812009ea-53fa-4ae2-ab09-a1a4311b9855",
   "metadata": {},
   "source": [
    "Energy use in agriculture consists of groundwater pumping, surface water pumping, and interbasin transers. USDA's Farm and Ranch Irrigation Survey (FRIS) provides state-by-state data on irrigation groundwater depth and average irrigation pressurization levels for irrigation within a state, enabling the calculation of pump electricity consumption for both groundwater and surface water pumping [13]. The 2013 survey is the closest year available to 2015 values. It is assumed that values do not vary significantly between the two years.\n",
    "\n",
    "The methodology for calculating groundwater and surface water pumping energy is described in Tidwell et al [14]. However, where that publication uses well depth to water to calculate total differential height, the total well depth is used here as a way to offset some of the losses due to friction that would occur in the piping, as described in Lawrence Berkeley National Laboratory (LBNL) Home Energy Saver & Score: Engineering Documentation [15].\n",
    "\n",
    "Pump efficiency is assumed to be the average (46.5%) of the range (34-59%) listed in [14]. State-level intensity rates are calculated here and applied to the county level water in agriculture values. The general methodology implemented here to determine total energy in agriculture is adapted from [5], not including the additions previously mentioned."
   ]
  },
  {
   "cell_type": "markdown",
   "id": "7a294da4-41ae-4c96-83e2-b15142c0150a",
   "metadata": {},
   "source": [
    "### Groundwater & Surface Water Pumping"
   ]
  },
  {
   "cell_type": "code",
   "execution_count": null,
   "id": "b512c890-a13c-45b8-a715-c80e1ccb470a",
   "metadata": {},
   "outputs": [],
   "source": []
  },
  {
   "cell_type": "markdown",
   "id": "11bc4701-2dee-45ae-aa05-d25917208ae3",
   "metadata": {},
   "source": [
    "### Interbasin Transfers"
   ]
  },
  {
   "cell_type": "code",
   "execution_count": null,
   "id": "0c920586-466a-4ce4-9ba3-b062088056ff",
   "metadata": {},
   "outputs": [],
   "source": []
  },
  {
   "cell_type": "markdown",
   "id": "5e45f8aa-c7ca-46df-9a08-bde1c5508b77",
   "metadata": {},
   "source": [
    "# Electricity Generation"
   ]
  },
  {
   "cell_type": "markdown",
   "id": "6d831d03-40f3-4ad7-ba6b-b0985dd7916d",
   "metadata": {},
   "source": [
    "## Energy in Electricity Generation"
   ]
  },
  {
   "cell_type": "markdown",
   "id": "77c3cb84-67d9-42de-a902-2e9511bad47b",
   "metadata": {},
   "source": [
    "US Energy Information Administration (EIA) 923 data for 2015 is used to determine electricity generation by generator type within each interconnect [12]. The datafile contains information on generation at the plant-level. EIA additionally provides data on which North American Electric Reliability Corporation (NERC) balancing region each plant belongs to. By mapping each NERC region to its associated interconnect, generation within each interconnect can be determined directly.\n",
    "\n",
    "From EIA, the AER Fuel Type Code is used to determine generator type. EIA provides generator type information at a high level of detail. For this reason different generator types are grouped for simplicity using a generator key (GenType923Key.xlsx). For example, different types of natural gas generators are all grouped into \"Natural Gas\" as a type.\n",
    "\n",
    "Energy production is provided as \"Net Generation (Megawatthours)\" in the EIA dataset, \"Total Fuel Consumption (MMBTU)\" is the MMBTU equivalent of fuel going to each plant for electricity generation. The difference between these two values indicates the amount of energy generation that does not go to energy losses."
   ]
  },
  {
   "cell_type": "markdown",
   "id": "fa27311d-24ea-409e-b9cd-0655674b07e9",
   "metadata": {},
   "source": [
    "## will be filled in with calculate function"
   ]
  },
  {
   "cell_type": "code",
   "execution_count": null,
   "id": "b8de3a2e-ae73-41ba-9d7f-4ae4724a17b8",
   "metadata": {},
   "outputs": [],
   "source": []
  },
  {
   "cell_type": "markdown",
   "id": "4443c5c2-b504-42c8-ac3f-0b1087b4be19",
   "metadata": {},
   "source": [
    "## Water in Electricity Generation"
   ]
  },
  {
   "cell_type": "code",
   "execution_count": null,
   "id": "1e028afe-61e5-48d1-8390-99cde95e0b7a",
   "metadata": {},
   "outputs": [],
   "source": []
  },
  {
   "cell_type": "markdown",
   "id": "6083ab3c-2888-45ac-8584-0d44fb1a4878",
   "metadata": {
    "tags": []
   },
   "source": [
    "# Intensities & Percentages"
   ]
  },
  {
   "cell_type": "markdown",
   "id": "a0d12353-4606-4f7f-84f0-da10416dd08e",
   "metadata": {},
   "source": [
    "#### Conveyance Losses as a Percent of Water Withdrawn for Irrigation\n",
    "Conveyance loss fraction for irrigation is calculated from the USGS 1995 water use dataset. It is calculated as the total conveyance losses (MGD) divided by the total water withdrawn (MGD) for irrigation. Looking at the fractions at the county level shows that a small subset of counties have unreliable values where conveyance losses are far greater than the amount withdrawn for irrigation. As a result, the ability to cap the loss fraction at a specified amount it provided and replace it with the average of the specified region. The default loss cap fraction is .90."
   ]
  },
  {
   "cell_type": "code",
   "execution_count": null,
   "id": "e1e70eb3-2586-4c96-9542-dc397efede04",
   "metadata": {},
   "outputs": [],
   "source": [
    "df = flow.prep_water_use_1995()\n",
    "df = flow.calc_conveyance_loss_frac(df)\n",
    "df.head()"
   ]
  },
  {
   "cell_type": "markdown",
   "id": "e6bad304-bbd2-4c42-b1ab-c2e8228469c9",
   "metadata": {},
   "source": [
    "##### Change in loss cap"
   ]
  },
  {
   "cell_type": "code",
   "execution_count": null,
   "id": "321b6479-d093-4059-80e6-629a34605b80",
   "metadata": {},
   "outputs": [],
   "source": [
    "df = flow.prep_water_use_1995()\n",
    "df = flow.calc_conveyance_loss_frac(df, loss_cap_amt=.20)\n",
    "df.head()"
   ]
  },
  {
   "cell_type": "code",
   "execution_count": null,
   "id": "26a3da74-77fe-4db6-a3df-897dcaa39d38",
   "metadata": {},
   "outputs": [],
   "source": [
    "help(flow.plot_bar)"
   ]
  },
  {
   "cell_type": "code",
   "execution_count": null,
   "id": "c771f8ba-02d8-4daf-9390-9fcac3e826d3",
   "metadata": {},
   "outputs": [],
   "source": [
    "flow.plot_bar(df, \"State\",\"IR_CLoss_Frac\", \"State\", y_axis_title = \"Irrigation Conveyance Loss Fraction\", x_axis_title=\"State\")"
   ]
  },
  {
   "cell_type": "markdown",
   "id": "18ddc662-ba7b-4e29-8e6c-dc423a529fcd",
   "metadata": {},
   "source": [
    "#### Water Use Intensity for Hydroelectric Generation"
   ]
  },
  {
   "cell_type": "code",
   "execution_count": null,
   "id": "9551b6a2-0897-47c3-90d3-51adce0ef8ea",
   "metadata": {},
   "outputs": [],
   "source": [
    "df = flow.calc_hydroelectric_water_intensity(intensity_cap=True, intensity_cap_amt=165, region_avg=False)\n",
    "\n",
    "df.head()"
   ]
  },
  {
   "cell_type": "code",
   "execution_count": null,
   "id": "f18b2c41-1e1b-4182-b6ec-0af07fca062e",
   "metadata": {},
   "outputs": [],
   "source": [
    "flow.plot_bar(df, \"State\",\"HY_IF\", \"State\")"
   ]
  },
  {
   "cell_type": "code",
   "execution_count": null,
   "id": "2567ceec-abeb-43a7-a36a-c3b28379bbc6",
   "metadata": {},
   "outputs": [],
   "source": []
  }
 ],
 "metadata": {
  "kernelspec": {
   "display_name": "flow",
   "language": "python",
   "name": "flow"
  },
  "language_info": {
   "codemirror_mode": {
    "name": "ipython",
    "version": 3
   },
   "file_extension": ".py",
   "mimetype": "text/x-python",
   "name": "python",
   "nbconvert_exporter": "python",
   "pygments_lexer": "ipython3",
   "version": "3.9.4"
  }
 },
 "nbformat": 4,
 "nbformat_minor": 5
}

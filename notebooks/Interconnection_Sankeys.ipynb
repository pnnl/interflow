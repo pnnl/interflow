{
 "cells": [
  {
   "cell_type": "markdown",
   "metadata": {},
   "source": [
    "# U.S. Energy-Water Sankey Diagrams\n",
    "### Kendall Mongird, PNNL, 2021"
   ]
  },
  {
   "cell_type": "markdown",
   "metadata": {},
   "source": [
    "This jupyter notebook walks through calculations for water-energy flows across the three interconnects: ERCOT, Western Interconnection, and Eastern Interconnection. Data for areas outside of the three interconnects are included in initial calculations but disregarded for final analysis."
   ]
  },
  {
   "cell_type": "markdown",
   "metadata": {},
   "source": [
    "---"
   ]
  },
  {
   "cell_type": "markdown",
   "metadata": {},
   "source": [
    "<h2> Imports"
   ]
  },
  {
   "cell_type": "code",
   "execution_count": 1,
   "metadata": {},
   "outputs": [],
   "source": [
    "import pandas as pd\n",
    "import numpy as np"
   ]
  },
  {
   "cell_type": "markdown",
   "metadata": {},
   "source": [
    "<h1> 2015 USGS Water Data\n",
    "<a id=\"Water-Supply\"></a>"
   ]
  },
  {
   "cell_type": "markdown",
   "metadata": {},
   "source": [
    "<h3> Read in 2015 Water Data and Interconnect-county data </h3> \n",
    "The majority of water use estimates are from the USGS 2015 datafile"
   ]
  },
  {
   "cell_type": "code",
   "execution_count": 2,
   "metadata": {},
   "outputs": [],
   "source": [
    "'''\n",
    "Read in 2015 USGS Water Use Data by county (FIPS code). \n",
    "FIPS code must be imported as a string to keep \"0\" values in identifier. \n",
    "For example some counties have FIPS codes of 010.\n",
    "'''\n",
    "\n",
    "#USGS 2015 water data\n",
    "df = pd.read_excel(\"usco2015v2.0.xlsx\", skiprows=1, dtype={'FIPS':str})\n",
    "\n",
    "#Interconnect by county data file\n",
    "interconnect = pd.read_excel(\"County_Interconnect_List.xlsx\", dtype={'FIPS':str}, usecols = [\"FIPS\", \"Interconnect\"])"
   ]
  },
  {
   "cell_type": "markdown",
   "metadata": {},
   "source": [
    "<h3> Merge water data with Interconnect file"
   ]
  },
  {
   "cell_type": "markdown",
   "metadata": {},
   "source": [
    "The 2015 USGS Water Data is merged with the interconnect by county file to link the 2015 water data to each interconnect.\n",
    "This gives us a dataframe of a number of water values for 2015 at the county level."
   ]
  },
  {
   "cell_type": "code",
   "execution_count": 3,
   "metadata": {},
   "outputs": [],
   "source": [
    "df = pd.merge(df, interconnect, how=\"left\", on=[\"FIPS\"]) #merging datafiles\n",
    "df.replace(\"--\", 0, inplace=True) #replacing characters for missing data with value of zero"
   ]
  },
  {
   "cell_type": "markdown",
   "metadata": {},
   "source": [
    "***"
   ]
  },
  {
   "cell_type": "markdown",
   "metadata": {},
   "source": [
    "<h1> 1995 USGS Water Data </h1> <br>\n",
    "The USGS 2015 water dataset does not provide values for all required flows. Missing flows include public water supply to sectors other than residential end-users or thermoelectric cooling, consumptive use of nearly all sectors, and water use in hydroelectric generation. The most recent estimates for these values are found in the 1995 USGS water use dataset. To obtain 2015 values, coefficients and intensity rates are calculated from the 1995 dataset and applied to the 2015 water data."
   ]
  },
  {
   "cell_type": "code",
   "execution_count": 4,
   "metadata": {},
   "outputs": [],
   "source": [
    "#Read in 1995 USGS Water Dataset\n",
    "df_1995 = pd.read_excel(\"usco1995.xlsx\", dtype={'StateCode':str,'CountyCode':str})"
   ]
  },
  {
   "cell_type": "markdown",
   "metadata": {},
   "source": [
    " <h2>Water Consumption Fraction Calculations"
   ]
  },
  {
   "cell_type": "markdown",
   "metadata": {},
   "source": [
    "Consumption fractions are the percent of total water delivered that is consumed or evaporated. \n",
    "\n",
    "* For residential end-users consumption is equal to the ratio of water consumed to all water delivered\n",
    "* For industrial end users and mining, different consumption values exist for saline and fresh water. Each of these ratios are calculated separately.\n",
    "* Water in agriculture consists of water withdrawals for irrigation, livestock, and aquaculture. Each of these subsectors have different consumption rates and are separately calculated here\n",
    "\n",
    "Note: For simplification, industrial, commercial, and mining are ultimately combined into a single end-use category. However, given that their consumptive use patterns are different, they are calculated separately and ultimately combined. This also provides the opportunity to analyze them separately if desired."
   ]
  },
  {
   "cell_type": "code",
   "execution_count": 5,
   "metadata": {},
   "outputs": [],
   "source": [
    "'''Calculate 1995 consumption fractions for each sector as necessary to apply to 2015 USGS water values'''\n",
    "\n",
    "#1995 Residential consumption fraction\n",
    "df_1995[\"DO_CF\"] = df_1995[\"DO-CUTot\"] / df_1995[\"DO-WDelv\"]\n",
    "\n",
    "#1995 industrial & commercial consumption fractions combined\n",
    "#commercial only consumes fresh water so all consumptive use is used here instead of separating out\n",
    "df_1995[\"INCO_CF_Fr\"] = ((df_1995[\"CO-CUTot\"] + \n",
    "                          df_1995[\"IN-CUsFr\"]))/(df_1995[\"CO-WDelv\"] +(df_1995[\"IN-WFrTo\"] + df_1995[\"IN-PSDel\"]))\n",
    "df_1995[\"INCO_CF_Sa\"] = (df_1995[\"IN-CUsSa\"])/ (df_1995[\"IN-WSaTo\"])\n",
    "\n",
    "#1995 mining consumption fractions\n",
    "df_1995[\"MI_CF\"] = df_1995[\"MI-CUTot\"] / df_1995[\"MI-WTotl\"]         #total consumption fraction\n",
    "df_1995[\"MI_CF_Fr\"] = df_1995[\"MI-CUsFr\"] / df_1995[\"MI-WFrTo\"]      #fresh water consumption fraction\n",
    "df_1995[\"MI_CF_Sa\"] = df_1995[\"MI-CUsSa\"] / df_1995[\"MI-WSaTo\"]      #saline water consumption fraction\n",
    "\n",
    "#1995 livestock, auquaculture, and irrigation consumption fractions\n",
    "df_1995[\"LV_CF\"] = df_1995[\"LV-CUTot\"] / df_1995[\"LV-WTotl\"]\n",
    "df_1995[\"LA_CF\"] = df_1995[\"LA-CUTot\"] / df_1995[\"LA-WTotl\"]\n",
    "df_1995[\"IR_CF\"] = df_1995[\"IR-CUTot\"] / df_1995[\"IR-WTotl\"]"
   ]
  },
  {
   "cell_type": "code",
   "execution_count": 6,
   "metadata": {},
   "outputs": [],
   "source": [
    "#Creating a single FIPS code from hte state and county codes to be able to merge with other dataframes\n",
    "df_1995[\"FIPS\"] = df_1995[\"StateCode\"] + df_1995[\"CountyCode\"]\n",
    "\n",
    "# Replacing infinite (from divide by zero) with nan and filling with 0\n",
    "df_1995.replace([np.inf, -np.inf],  np.nan, inplace=True)\n",
    "df_1995.fillna(0, inplace=True)"
   ]
  },
  {
   "cell_type": "markdown",
   "metadata": {},
   "source": [
    "<h2>Hydroelectric Generation Water Intensity Calculations </h2> <br>\n",
    "The amount of water (MGY) use per GWh of electricity produced can be calculated from the 1995 dataset for conventional hydro. \n",
    "In 1995, the total amount of water use in the US for hydroelectric generation was over 1.3 million MGD\n",
    "\n",
    "https://pubs.usgs.gov/circ/1441/circ1441.pdf"
   ]
  },
  {
   "cell_type": "code",
   "execution_count": 7,
   "metadata": {},
   "outputs": [],
   "source": [
    "#Water intensity variables to be applied to later calculations.\n",
    "#takes the total amount of water use in conventional hydro generation (MGD), divides it by the total power generated (GWH)\n",
    "#and converts it to MGY/GWh\n",
    "HY_Intensity = ((df_1995[\"HY-InUse\"].sum())/(df_1995[\"HY-InPow\"].sum()))*365"
   ]
  },
  {
   "cell_type": "code",
   "execution_count": 8,
   "metadata": {},
   "outputs": [],
   "source": [
    "#calculation for off-stream, not considered in sankey diagrams\n",
    "#HY_off_Intensity = ((df2[\"HY-OffTo\"].sum())/(df2[\"HY-OfPow\"].sum()))*365"
   ]
  },
  {
   "cell_type": "markdown",
   "metadata": {},
   "source": [
    "## Simplifying 1995 dataframe and merging with 2015 dataset"
   ]
  },
  {
   "cell_type": "markdown",
   "metadata": {},
   "source": [
    "Reducing the consumption fraction calculations by county to just include the variables of interest and merging to the 2015 water dataframe based on county. This will allow us to calculate out the missing flow values from the 2015 dataset."
   ]
  },
  {
   "cell_type": "code",
   "execution_count": 9,
   "metadata": {},
   "outputs": [],
   "source": [
    "#Keeping only variables of interest in the 1995 dataset\n",
    "df_1995 = df_1995[[\"State\",\"CountyName\",\"FIPS\",\"DO_CF\",\n",
    "           \"INCO_CF_Fr\", \"INCO_CF_Sa\", \"MI_CF\", \"MI_CF_Fr\", \"MI_CF_Sa\",\n",
    "           \"LV_CF\",\"LA_CF\", \"IR_CF\"\n",
    "           ]].copy()"
   ]
  },
  {
   "cell_type": "code",
   "execution_count": 10,
   "metadata": {},
   "outputs": [],
   "source": [
    "#bring 1995 calculated fractions into 2015 dataset\n",
    "df = pd.merge(df, df_1995, how=\"left\", on=[\"FIPS\"])"
   ]
  },
  {
   "cell_type": "markdown",
   "metadata": {},
   "source": [
    "***"
   ]
  },
  {
   "cell_type": "markdown",
   "metadata": {},
   "source": [
    "***"
   ]
  },
  {
   "cell_type": "markdown",
   "metadata": {},
   "source": [
    "<h1>2015 Water Withdrawals, Deliveries, Consumption, and Discharge"
   ]
  },
  {
   "cell_type": "markdown",
   "metadata": {},
   "source": [
    "<h2> Public Water Supply"
   ]
  },
  {
   "cell_type": "markdown",
   "metadata": {},
   "source": [
    "<h3> Public Water Supply to Residential </h3> <br>\n",
    "No calculation required. Used directly from 2015 USGS dataset under code DO-PSdel"
   ]
  },
  {
   "cell_type": "markdown",
   "metadata": {},
   "source": [
    "<h3> Public Water Supply to Thermoelectric Cooling </h3> <br>\n",
    "No calculation required for simplified thermoelectric cooling value. Code PT-PSdel can be used from the 2015 USGS water dataset to get a total approximation for all generation and cooling types. More detailed cooling data is calculated in a separate notebook based on USGS thermoelectric cooling water data and imported into this notebook separately."
   ]
  },
  {
   "cell_type": "markdown",
   "metadata": {},
   "source": [
    "<h3> Public Water Supply to Industrial, Commercial, & Mining </h3>\n",
    "\n",
    "There is no 2015 data on public water supply deliveries to industrial or commercial customers. The 2015 USGS water dataset includes public water supply deliveries to residential end-users, thermeoelectric cooling, and total water withdrawals for public water supply in a county. It is assumed, therefore, that the difference between the total public water supply and the sum of deliveries to residential and thermoelectric cooling is an adequate approximation for deliveries to industrial and commercial end-users combined.\n",
    "\n",
    "Note that this calculation is done on a county level and in some counties this results in a negative value for industrial and commercial deliveries from public water supply. This occurs if the total public water supply in that county is less than the amount of public water supply consumed by residential end users and thermoelectric cooling in that county. This situation can be interpreted as public water supply imports from other counties.\n",
    "\n",
    "There is no 2015 data on total PWS delivered to a county, only the \"production\" of it (i.e. withdrawals) in that county, making it difficult to correct for negatives values on the county level. The assumption, however, is that when counties are aggregated to the interconnect level, imports and exports across counties are balanced.\n",
    "\n",
    "Note that the negative values mentioned above track all the way through to water deliveries to wastewater treatment calculations based on calculation dependencies. Therefore, some wastewater treatment values at the county level are negative as a result."
   ]
  },
  {
   "cell_type": "code",
   "execution_count": 11,
   "metadata": {},
   "outputs": [],
   "source": [
    "#fills blank values with zeros\n",
    "df.fillna(0, inplace=True)"
   ]
  },
  {
   "cell_type": "code",
   "execution_count": 12,
   "metadata": {},
   "outputs": [],
   "source": [
    "#calculates the difference between total withdrawals for public water supply and deliveries to residential\n",
    "#end users and thermoelectric cooling.\n",
    "\n",
    "#public water supply to industrial, commercial, & mining in aggregate.\n",
    "df[\"INCO_PSDel\"] = df[\"PS-Wtotl\"] - df[\"DO-PSDel\"] - df['PT-PSDel']"
   ]
  },
  {
   "cell_type": "markdown",
   "metadata": {},
   "source": [
    "## Water Withdrawals (Self-Supply)"
   ]
  },
  {
   "cell_type": "markdown",
   "metadata": {},
   "source": [
    "<h3> Water Withdrawals by Residential Sector (Self-Supply) </h3> <br>\n",
    "No calculation required. Used directly from 2015 USGS dataset under codes DO-WGWFr, DO-WSWFr, DO-WGWSa, DO-WSWSa"
   ]
  },
  {
   "cell_type": "markdown",
   "metadata": {},
   "source": [
    "<h3> Water Withdrawals by Industrial, Commercial, & Mining (Self-supply) </h3> <br>"
   ]
  },
  {
   "cell_type": "code",
   "execution_count": 13,
   "metadata": {},
   "outputs": [],
   "source": [
    "#Creating new columns for both industrial and commercial for variable naming consistency.\n",
    "\n",
    "#since commercial does not have any self-supply withdrawals this is equal to industrial\n",
    "df[\"INCO-WGWFr\"] = df['IN-WGWFr']\n",
    "df[\"INCO-WSWFr\"] = df['IN-WSWFr']\n",
    "df[\"INCO-WGWSa\"] = df['IN-WGWSa']\n",
    "df[\"INCO-WSWSa\"] = df['IN-WSWSa']\n",
    "\n",
    "#adding in mining withdrawals to get self supply for industrial, commercial, & mining in total\n",
    "df[\"INCOM-WGWFr\"] = df[\"INCO-WGWFr\"] + df['MI-WGWFr']\n",
    "df[\"INCOM-WSWFr\"] = df[\"INCO-WSWFr\"] + df[\"MI-WSWFr\"]\n",
    "df[\"INCOM-WGWSa\"] = df[\"INCO-WGWSa\"] + df[\"MI-WGWSa\"]\n",
    "df[\"INCOM-WSWSa\"] = df[\"INCO-WSWSa\"] + df[\"MI-WSWSa\"]"
   ]
  },
  {
   "cell_type": "markdown",
   "metadata": {},
   "source": [
    "<h3> Water Withdrawals by Agriculture (Self-Supply)"
   ]
  },
  {
   "cell_type": "markdown",
   "metadata": {},
   "source": [
    "Water in agriculture is the sum of water withdrawls for irrigation, livestock, and aquaculture. Only fresh water is delivered to agriculture."
   ]
  },
  {
   "cell_type": "code",
   "execution_count": 14,
   "metadata": {},
   "outputs": [],
   "source": [
    "#Combining irrigation, livestock, and aquaculture into single agriculture component\n",
    "df[\"AG-WGWFr\"] = df['IR-WGWFr'] + df['LI-WGWFr'] + df['AQ-WGWFr']\n",
    "df[\"AG-WSWFr\"] = df['IR-WSWFr'] + df['LI-WSWFr'] + df['AQ-WSWFr']"
   ]
  },
  {
   "cell_type": "markdown",
   "metadata": {},
   "source": [
    "<h2> Sectoral Use to Consumption/Evaporation"
   ]
  },
  {
   "cell_type": "markdown",
   "metadata": {},
   "source": [
    "As mentioned previously, no 2015 consumption data exists for a majority of the sectors. Consumption fraction assumptions were calculated from 1995 (see earlier section) and are applied here to 2015 water delivery values to fill this data gap. This gives water flows from end-use nodes to consumption/evaporation."
   ]
  },
  {
   "cell_type": "code",
   "execution_count": 15,
   "metadata": {},
   "outputs": [],
   "source": [
    "#Residential consumptive use\n",
    "df[\"DO_CU\"] = df[\"DO_CF\"] * (df['DO-PSDel'] + df['DO-WGWFr'] + df['DO-WSWFr'])\n",
    "\n",
    "#Industrial & Commercial consumptive use\n",
    "df[\"INCO_CUFr\"] = df[\"INCO_CF_Fr\"] * (df['INCO_PSDel'] + df[\"INCO-WGWFr\"] + df[\"INCO-WSWFr\"])\n",
    "df[\"INCO_CUSa\"] = df[\"INCO_CF_Sa\"] * (df[\"INCO-WGWSa\"] + df[\"INCO-WSWSa\"])\n",
    "df[\"INCO_CU\"] = df[\"INCO_CUFr\"] + df[\"INCO_CUSa\"]\n",
    "\n",
    "#Mining consumptive use\n",
    "df[\"MI_CU\"] = (df[\"MI_CF\"] * (df['MI-WGWFr'] + df[\"MI-WSWFr\"] + df[\"MI-WGWSa\"] + df[\"MI-WSWSa\"])) #non-separated\n",
    "df[\"MI_CUFr\"] = df[\"MI_CF_Fr\"] * (df['MI-WGWFr'] + df[\"MI-WSWFr\"])\n",
    "df[\"MI_CUSa\"] = df[\"MI_CF_Sa\"] * (df[\"MI-WGWSa\"] + df[\"MI-WSWSa\"])\n",
    "\n",
    "#Industrial, Commercial, & Mining Combined\n",
    "df[\"INCOM_CU\"] = df[\"INCO_CU\"] + df[\"MI_CUFr\"] + df[\"MI_CUSa\"]\n",
    "\n",
    "#Livestock, Aquaculture, and Irrigation consumptive use\n",
    "df[\"LV_CU\"] = df[\"LV_CF\"] * (df['LI-WGWFr'] + df['LI-WSWFr'])\n",
    "df[\"LA_CU\"] = df[\"LA_CF\"] * (df['AQ-WGWFr'] + df['AQ-WSWFr'])\n",
    "df[\"IR_CU\"] = df[\"IR_CF\"] * (df['IR-WGWFr'] + df['IR-WSWFr'])\n",
    "\n",
    "#Agriculture Combined\n",
    "df[\"AG_CU\"] = df[\"LV_CU\"] + df[\"LA_CU\"] + df[\"IR_CU\"]"
   ]
  },
  {
   "cell_type": "markdown",
   "metadata": {},
   "source": [
    "<h2> Thermoelectric Cooling to Consumption/Evaporation </h2> <br>\n",
    "\n",
    "When considering the simplified single data point form of thermoelectric cooling water, 2015 consumptive use data in the USGS dataset can be used directly under datacode PT-CUtot. More detailed, technology specific cooling to consumption is calculated separately by plant in the thermoelectric cooling notebook."
   ]
  },
  {
   "cell_type": "markdown",
   "metadata": {},
   "source": [
    "<h2> End-User Water Deliveries to Wastewater Treatment </h2> <br>\n",
    "It is assumed that only water that is delivered to end-users from public water supply is sent to wastewater treatment. Self-supplied water is not sent to wastewater treatment.\n",
    "\n",
    "Total water sent to wastewater treatment therefore, is the difference between total public water supply delivered to an end-user and the amount of that delivery that is consumed."
   ]
  },
  {
   "cell_type": "code",
   "execution_count": 16,
   "metadata": {},
   "outputs": [],
   "source": [
    "#Deliveries to wastewater from end users are assumed to be all PWS not consumed\n",
    "\n",
    "#residential\n",
    "df[\"DO_WW\"] = (1 - df[\"DO_CF\"]) * df['DO-PSDel']\n",
    "\n",
    "#industrial & commercial\n",
    "df[\"INCO_WW\"] = df['INCO_PSDel'] - (df[\"INCO_CF_Fr\"] * df['INCO_PSDel'])"
   ]
  },
  {
   "cell_type": "markdown",
   "metadata": {},
   "source": [
    "<h2> End-Users to Surface Discharge & Ocean Discharge </h2> <br>\n",
    "Water discharged to either surface or ocean is assumed to be equal to self-supply by end users that is not consumed. No water delivered to end-users from public water supply is assumed to be discharged to the surface or ocean.\n",
    "\n",
    "It is assumed that all saline water is discharged to the ocean and all fresh water is discharged to the surface. All agriculture water not consumed is assumed to be discharged to the surface."
   ]
  },
  {
   "cell_type": "code",
   "execution_count": 17,
   "metadata": {},
   "outputs": [],
   "source": [
    "\n",
    "#residential to surface discharge is all fresh ground and surface water (Self-supply) that is not consumed.\n",
    "df[\"DO_SD\"] = (1 - df[\"DO_CF\"])* (df['DO-WGWFr'] + df['DO-WSWFr'])\n",
    "\n",
    "\n",
    "#Industrial & Commercial water discharged to ocean is the amount of saline water withdrawn that is not consumed\n",
    "df[\"INCO_OD\"] = (df[\"INCO-WGWSa\"] + df[\"INCO-WSWSa\"]) - df[\"INCO_CUSa\"]\n",
    "\n",
    "# Industrial & Commercial water discharged to surface is the fraction of fresh water withdrawn that is not consumed\n",
    "df[\"INCO_SD\"] = (df['INCO-WGWFr'] + df[\"INCO-WSWFr\"]) - (df[\"INCO_CF_Fr\"]*(df['INCO-WGWFr'] + df[\"INCO-WSWFr\"]))\n",
    "\n",
    "#Mining water discharged to the ocean is the amount of saline water withdrawn that is not consumed\n",
    "df[\"MI_OD\"] = (df[\"MI-WGWSa\"] + df[\"MI-WSWSa\"]) - df[\"MI_CUSa\"]\n",
    "\n",
    "#Mining water discharged to the surface is the amount of fresh water withdrawn that is not consumed\n",
    "df[\"MI_SD\"] = (df['MI-WGWFr'] + df[\"MI-WSWFr\"]) - df[\"MI_CUFr\"]\n",
    "\n",
    "#Combining together to obtain discharge for industrial, commercial, & mining in total\n",
    "df[\"INCOM_OD\"] = df[\"INCO_OD\"] + df[\"MI_OD\"]    #ocean discharge\n",
    "\n",
    "df[\"INCOM_SD\"] = df[\"INCO_SD\"] + df[\"MI_SD\"]    #surface discharge\n",
    "\n",
    "#agriculture to surface discharge\n",
    "df[\"AG-SD\"] = (df[\"AG-WGWFr\"] + df[\"AG-WSWFr\"]) - df[\"AG_CU\"] "
   ]
  },
  {
   "cell_type": "markdown",
   "metadata": {},
   "source": [
    "<H2> Thermoelectric Cooling to Surface Discharge & Ocean Discharge </h2>\n",
    "\n",
    "For the simplified, single datapoint process, water not consumed by thermoelectric cooling is assumed to be discharged to either the surface or ocean. It is assumed that saline water deliveries not consumed are discharged to the ocean and fresh water deliveries not consumed are discharged to the surface. \n",
    "\n",
    "Water deliveries to thermoelectric cooling from wastewater and public water supply are assumed to be discharged at the ratio of surface to ocean discharge from other sources. For example, if 1/3 of thermoelectric cooling water was from saline water sources, meaning 1/3 of self-supply withdrawals are dischared to the ocean, then 1/3 of public water supply and wastewater delivered to thermoelectric cooling is also assumed to be dischared to the ocean."
   ]
  },
  {
   "cell_type": "code",
   "execution_count": 18,
   "metadata": {},
   "outputs": [],
   "source": [
    "#TEC water discharged to the ocean is all non-consumed saline water withdrawn\n",
    "df[\"PT_OD\"] = df[\"PT-WSaTo\"] - df[\"PT-CUsSa\"]\n",
    "\n",
    "#TEC water discharged to the surface is all non-consumed freshwater water withdrawn\n",
    "df[\"PT_SD\"] = (df[\"PT-WFrTo\"] + df[\"PT-PSDel\"] + df[\"PT-RecWW\"]) - df[\"PT-CUsFr\"]\n",
    "\n",
    "\n",
    "df[\"PT_OD_Fr\"] = df[\"PT_OD\"] / (df[\"PT_OD\"] + df[\"PT_SD\"])\n",
    "df[\"PT_SD_Fr\"] = df[\"PT_SD\"] / (df[\"PT_OD\"] + df[\"PT_SD\"])\n",
    "\n",
    "#Assumes recycled wastewater and pws deliveries are discharged as same fraction as other withdrawals\n",
    "df[\"PT_OD\"] = df[\"PT_OD\"] + df[\"PT_OD_Fr\"]*(df['PT-RecWW'] + df['PT-PSDel'])\n",
    "df[\"PT_SD\"] = df[\"PT_SD\"] + df[\"PT_SD_Fr\"]*(df['PT-RecWW'] + df['PT-PSDel'])"
   ]
  },
  {
   "cell_type": "markdown",
   "metadata": {},
   "source": [
    "## Aggregating county-level values by interconnect"
   ]
  },
  {
   "cell_type": "code",
   "execution_count": 19,
   "metadata": {},
   "outputs": [],
   "source": [
    "#grouping county-level data to sum across associated interconnect\n",
    "df = df.groupby([\"Interconnect\"], as_index=False).sum()"
   ]
  },
  {
   "cell_type": "markdown",
   "metadata": {},
   "source": [
    "<h3> Reduce to Needed Variables </h3> <br>\n",
    "There are many variables in the 2015 USGS water dataset, we are only interested in keeping a subset of them"
   ]
  },
  {
   "cell_type": "code",
   "execution_count": 20,
   "metadata": {
    "scrolled": true
   },
   "outputs": [],
   "source": [
    "#create a new dataframe from the original with variables of interest\n",
    "county_df = df[['Interconnect', 'TO-WSWFr', 'TO-WGWFr','TO-WSWSa','TO-WGWSa',\n",
    "         'PS-WGWFr', 'PS-WSWFr','PS-WGWSa', 'PS-WSWSa',\n",
    "          'DO-PSDel','INCO_PSDel',\n",
    "          'DO-WGWFr','DO-WSWFr', \n",
    "          'INCOM-WGWFr', \"INCOM-WSWFr\", \"INCOM-WGWSa\", \"INCOM-WSWSa\",\n",
    "          'AG-WGWFr', 'AG-WSWFr',\n",
    "          'PT-WGWFr', 'PT-WGWSa','PT-WSWFr', 'PT-WSWSa','PT-RecWW','PT-PSDel', 'PT-CUTot','PT_OD','PT_SD',\n",
    "          \"DO_CU\", \"INCOM_CU\", \"AG_CU\",\n",
    "          \"DO_WW\", \"INCO_WW\",\n",
    "          \"DO_SD\", \"INCOM_SD\", \"INCOM_OD\", \"AG-SD\"\n",
    "         ]].copy()"
   ]
  },
  {
   "cell_type": "markdown",
   "metadata": {},
   "source": [
    "<H3> Convert to MGY </h3> <br>\n",
    "The USGS 2015 data is provided in million gallons per day (MGD). To show the data on the same timescale as the annual energy data (calculated later), this needs to be converted to million gallons per year (MGY)."
   ]
  },
  {
   "cell_type": "code",
   "execution_count": 21,
   "metadata": {},
   "outputs": [],
   "source": [
    "county_df[[ 'TO-WSWFr', 'TO-WGWFr','TO-WSWSa','TO-WGWSa',\n",
    "         'PS-WGWFr', 'PS-WSWFr','PS-WGWSa', 'PS-WSWSa',\n",
    "          'DO-PSDel','INCO_PSDel',\n",
    "          'DO-WGWFr','DO-WSWFr', \n",
    "          'INCOM-WGWFr', \"INCOM-WSWFr\", \"INCOM-WGWSa\", \"INCOM-WSWSa\",\n",
    "          'AG-WGWFr', 'AG-WSWFr',\n",
    "          'PT-WGWFr', 'PT-WGWSa','PT-WSWFr', 'PT-WSWSa','PT-RecWW','PT-PSDel', 'PT-CUTot','PT_OD','PT_SD',\n",
    "          \"DO_CU\", \"INCOM_CU\", \"AG_CU\",\n",
    "          \"DO_WW\", \"INCO_WW\",\n",
    "          \"DO_SD\", \"INCOM_SD\", \"INCOM_OD\", \"AG-SD\"]] =  county_df[['TO-WSWFr', 'TO-WGWFr','TO-WSWSa','TO-WGWSa',\n",
    "         'PS-WGWFr', 'PS-WSWFr','PS-WGWSa', 'PS-WSWSa',\n",
    "          'DO-PSDel','INCO_PSDel',\n",
    "          'DO-WGWFr','DO-WSWFr', \n",
    "          'INCOM-WGWFr', \"INCOM-WSWFr\", \"INCOM-WGWSa\", \"INCOM-WSWSa\",\n",
    "          'AG-WGWFr', 'AG-WSWFr',\n",
    "          'PT-WGWFr', 'PT-WGWSa','PT-WSWFr', 'PT-WSWSa','PT-RecWW','PT-PSDel', 'PT-CUTot','PT_OD','PT_SD',\n",
    "          \"DO_CU\", \"INCOM_CU\", \"AG_CU\",\n",
    "          \"DO_WW\", \"INCO_WW\",\n",
    "          \"DO_SD\", \"INCOM_SD\", \"INCOM_OD\", \"AG-SD\"]]*365"
   ]
  },
  {
   "cell_type": "markdown",
   "metadata": {},
   "source": [
    "<h2> End of county-level data processing </h2>\n",
    "\n",
    "Data processed from this point onward is predominantly state-level"
   ]
  },
  {
   "cell_type": "markdown",
   "metadata": {},
   "source": [
    "***"
   ]
  },
  {
   "cell_type": "markdown",
   "metadata": {},
   "source": [
    "<h1> State-Level Analysis"
   ]
  },
  {
   "cell_type": "markdown",
   "metadata": {},
   "source": [
    "Not all water data is available on a county-level but instead on a state-level. In order to fit state-level data to each interconnect, weighting must be applied to the state-level data to \"fit\" it to each interconnect.\n",
    "\n",
    "Population by county is assumed to be an adequate method to determine weighting. Following this assumption, by mapping each county to an interconnect and knowing which state that county belongs to, we can determine the percentage of each state that is within each interconnect based on population. \n",
    "\n",
    "For most states this will be 100% in a single interconnect. For example, California as a state is entirely within WECC, therefore California has a values of 100% for WECC and a value of 0% for East, ERCOT, and None.\n",
    "\n",
    "There are four states that belong to multiple interconnects: Texas, New Mexico, Montana, and South Dakota. For each of these states, their % of population in each interconnect will be somewhere between 0 and 100%. \n",
    "\n",
    "The table of % of each state in each interconnect is used to split up state level data. "
   ]
  },
  {
   "cell_type": "markdown",
   "metadata": {},
   "source": [
    "<h3> Calculating proportion of each state in each interconnect </h3>\n",
    "Note that this population dataset does not include data for US Virgin Islands, Puerto Rico, and other territories."
   ]
  },
  {
   "cell_type": "code",
   "execution_count": 45,
   "metadata": {},
   "outputs": [],
   "source": [
    "#Read in 2015 county population dataset\n",
    "pop = pd.read_excel(\"EPA-county-population.xlsx\", dtype={'STATE FIPS':str,'COUNTY FIPS':str})\n",
    "\n",
    "#creating a single FIPS columns to be able to merge dataframes\n",
    "pop[\"FIPS\"] = pop[\"STATE FIPS\"] + pop[\"COUNTY FIPS\"]                                                                "
   ]
  },
  {
   "cell_type": "code",
   "execution_count": 46,
   "metadata": {},
   "outputs": [],
   "source": [
    "#Combine dataframe with county-interconnect list based on FIPS code\n",
    "pop_FIPS = pd.merge(pop, interconnect, how=\"left\", on=[\"FIPS\"])\n",
    "\n",
    "#Creating a new dataframe keeping only variables of interest (State name, FIPS code, population, and interconnect)\n",
    "pop_FIPS = pop_FIPS[[\"STATE/TERRITORY NAME\",\"FIPS\",\"2015 POPULATION\",\"Interconnect\"]].copy()"
   ]
  },
  {
   "cell_type": "code",
   "execution_count": 47,
   "metadata": {},
   "outputs": [],
   "source": [
    "#Grouping county-level data by state and additionally by interconnect\n",
    "pop_FIPS = pop_FIPS.groupby([\"STATE/TERRITORY NAME\",\"Interconnect\"], as_index=False).sum()"
   ]
  },
  {
   "cell_type": "code",
   "execution_count": 48,
   "metadata": {},
   "outputs": [],
   "source": [
    "#Pivoting dataframe to have the interconnect be separate columns\n",
    "pop_table = pd.pivot_table(pop_FIPS, values='2015 POPULATION', index=['STATE/TERRITORY NAME'],\n",
    "                    columns=['Interconnect'], aggfunc=np.sum)"
   ]
  },
  {
   "cell_type": "code",
   "execution_count": 49,
   "metadata": {},
   "outputs": [],
   "source": [
    "#calculating state population total\n",
    "popsum = pop.groupby([\"STATE/TERRITORY NAME\"], as_index=False).sum()  \n",
    "\n",
    "#saving it as a separate dataframe\n",
    "popsum = popsum[[\"STATE/TERRITORY NAME\",\"2015 POPULATION\"]].copy()\n",
    "\n",
    "#renaming the state population total column \n",
    "popsum = popsum.rename(columns={\"2015 POPULATION\": \"2015 STATE POP\"})"
   ]
  },
  {
   "cell_type": "code",
   "execution_count": 50,
   "metadata": {},
   "outputs": [],
   "source": [
    "#merge the state total dataframe back into state population by interconnect\n",
    "pop_table = pd.merge(pop_table, popsum, how=\"left\", on=[\"STATE/TERRITORY NAME\"])\n",
    "\n",
    "#create new columns calculating the percent of each state's percent of total population in each interconnect\n",
    "pop_table[\"ERCOT_frac\"] = pop_table[\"ERCOT\"] / pop_table[\"2015 STATE POP\"]\n",
    "pop_table[\"East_frac\"] = pop_table[\"East\"] / pop_table[\"2015 STATE POP\"]\n",
    "pop_table[\"None_frac\"] = pop_table[\"None\"] / pop_table[\"2015 STATE POP\"]\n",
    "pop_table[\"WECC_frac\"] = pop_table[\"WECC\"] / pop_table[\"2015 STATE POP\"]"
   ]
  },
  {
   "cell_type": "code",
   "execution_count": 51,
   "metadata": {},
   "outputs": [],
   "source": [
    "#reduces table to variables of interest only \n",
    "pop_table = pop_table[[\"STATE/TERRITORY NAME\",\"ERCOT_frac\", \"East_frac\", \"None_frac\", \"WECC_frac\"]].copy()\n",
    "\n",
    "#rename state column\n",
    "pop_table = pop_table.rename(columns={\"STATE/TERRITORY NAME\": \"STATE\"})"
   ]
  },
  {
   "cell_type": "code",
   "execution_count": 52,
   "metadata": {},
   "outputs": [],
   "source": [
    "#read in state name abbreviation key and merge to population dataset\n",
    "#population spells out full name and need the acronym to merge with other datasets\n",
    "\n",
    "state = pd.read_excel(\"State_Abbrev_key.xlsx\")\n",
    "pop_table = pd.merge(pop_table, state, how=\"left\", on=[\"STATE\"])"
   ]
  },
  {
   "cell_type": "code",
   "execution_count": 53,
   "metadata": {},
   "outputs": [],
   "source": [
    "#Renaming the acronym column to be able to merge with other data on same column\n",
    "pop_table = pop_table.drop([\"STATE\"], axis = 1)\n",
    "pop_table = pop_table.rename(columns={\"Abbrev\": \"STATE\"})"
   ]
  },
  {
   "cell_type": "code",
   "execution_count": 54,
   "metadata": {},
   "outputs": [],
   "source": [
    "pop_table = pop_table.fillna(0)"
   ]
  },
  {
   "cell_type": "markdown",
   "metadata": {},
   "source": [
    "Note that some locations in the USGS file are lost in this table. That is, we don't currently account for population by county in non-state areas including Puerto Rico, US Virgin Islands, etc. Data on these can be gathered and appended separately if desired."
   ]
  },
  {
   "cell_type": "markdown",
   "metadata": {},
   "source": [
    "<h3> Result: Table showing percent of each state in each Interconnect"
   ]
  },
  {
   "cell_type": "code",
   "execution_count": 55,
   "metadata": {},
   "outputs": [
    {
     "name": "stdout",
     "output_type": "stream",
     "text": [
      "    ERCOT_frac  East_frac  None_frac  WECC_frac STATE\n",
      "0      0.00000   1.000000        0.0   0.000000    AL\n",
      "1      0.00000   0.000000        1.0   0.000000    AK\n",
      "2      0.00000   0.000000        0.0   1.000000    AZ\n",
      "3      0.00000   1.000000        0.0   0.000000    AR\n",
      "4      0.00000   0.000000        0.0   1.000000    CA\n",
      "5      0.00000   0.000000        0.0   1.000000    CO\n",
      "6      0.00000   1.000000        0.0   0.000000    CT\n",
      "7      0.00000   1.000000        0.0   0.000000    DE\n",
      "8      0.00000   1.000000        0.0   0.000000    DC\n",
      "9      0.00000   1.000000        0.0   0.000000    FL\n",
      "10     0.00000   1.000000        0.0   0.000000    GA\n",
      "11     0.00000   0.000000        1.0   0.000000    HI\n",
      "12     0.00000   0.000000        0.0   1.000000    ID\n",
      "13     0.00000   1.000000        0.0   0.000000    IL\n",
      "14     0.00000   1.000000        0.0   0.000000    IN\n",
      "15     0.00000   1.000000        0.0   0.000000    IA\n",
      "16     0.00000   1.000000        0.0   0.000000    KS\n",
      "17     0.00000   1.000000        0.0   0.000000    KY\n",
      "18     0.00000   1.000000        0.0   0.000000    LA\n",
      "19     0.00000   1.000000        0.0   0.000000    ME\n",
      "20     0.00000   1.000000        0.0   0.000000    MD\n",
      "21     0.00000   1.000000        0.0   0.000000    MA\n",
      "22     0.00000   1.000000        0.0   0.000000    MI\n",
      "23     0.00000   1.000000        0.0   0.000000    MN\n",
      "24     0.00000   1.000000        0.0   0.000000    MS\n",
      "25     0.00000   1.000000        0.0   0.000000    MO\n",
      "26     0.00000   0.044214        0.0   0.955786    MT\n",
      "27     0.00000   1.000000        0.0   0.000000    NE\n",
      "28     0.00000   0.000000        0.0   1.000000    NV\n",
      "29     0.00000   1.000000        0.0   0.000000    NH\n",
      "30     0.00000   1.000000        0.0   0.000000    NJ\n",
      "31     0.00000   0.131563        0.0   0.868437    NM\n",
      "32     0.00000   1.000000        0.0   0.000000    NY\n",
      "33     0.00000   1.000000        0.0   0.000000    NC\n",
      "34     0.00000   1.000000        0.0   0.000000    ND\n",
      "35     0.00000   1.000000        0.0   0.000000    OH\n",
      "36     0.00000   1.000000        0.0   0.000000    OK\n",
      "37     0.00000   0.000000        0.0   1.000000    OR\n",
      "38     0.00000   1.000000        0.0   0.000000    PA\n",
      "39     0.00000   0.000000        1.0   0.000000    PR\n",
      "40     0.00000   1.000000        0.0   0.000000    RI\n",
      "41     0.00000   1.000000        0.0   0.000000    SC\n",
      "42     0.00000   0.803495        0.0   0.196505    SD\n",
      "43     0.00000   1.000000        0.0   0.000000    TN\n",
      "44     0.90634   0.063117        0.0   0.030542    TX\n",
      "45     0.00000   0.000000        0.0   1.000000    UT\n",
      "46     0.00000   1.000000        0.0   0.000000    VT\n",
      "47     0.00000   0.000000        0.0   0.000000    VI\n",
      "48     0.00000   1.000000        0.0   0.000000    VA\n",
      "49     0.00000   0.000000        0.0   1.000000    WA\n",
      "50     0.00000   1.000000        0.0   0.000000    WV\n",
      "51     0.00000   1.000000        0.0   0.000000    WI\n",
      "52     0.00000   0.000000        0.0   1.000000    WY\n"
     ]
    }
   ],
   "source": [
    "print(pop_table)"
   ]
  },
  {
   "cell_type": "markdown",
   "metadata": {},
   "source": [
    "<h2> Wastewater Treatment to Surface and Ocean Discharge"
   ]
  },
  {
   "cell_type": "markdown",
   "metadata": {},
   "source": [
    "To determine discharges from wastewater treatment, EPA's data on wastewater treatment facilities was used. The dataset includes separate files including information on facility location, facility type (primary, secondary, or advanced treatment), facility flows (amount of water processed), and where the water is discharged.\n",
    "\n",
    "Note that flows handled by wastewater treatment facilities in this dataset includes stormwater runoff and other water sources other than residencial, commercial, and industrial end-users. For this reason, the total water discharged from wastewater treatment facilities calculated here will be greater than the amount flowing in calculated previously using the 2015 USGS data."
   ]
  },
  {
   "cell_type": "code",
   "execution_count": 34,
   "metadata": {},
   "outputs": [],
   "source": [
    "#read in EPA wastewater data\n",
    "WW = pd.read_excel(\"WW_Facility_Flow.xlsx\")\n",
    "WW_type = pd.read_excel(\"WW_Facility_Type.xlsx\")\n",
    "WW_loc = pd.read_excel(\"WW_Facility_Loc.xlsx\")\n",
    "WW_dis = pd.read_excel(\"WW_Discharge.xlsx\")"
   ]
  },
  {
   "cell_type": "code",
   "execution_count": 35,
   "metadata": {},
   "outputs": [],
   "source": [
    "#combine wastewater facility flow data with facility type by facility ID\n",
    "WW = pd.merge(WW, WW_type, how=\"inner\", on=[\"CWNS_NUMBER\"])"
   ]
  },
  {
   "cell_type": "code",
   "execution_count": 36,
   "metadata": {},
   "outputs": [],
   "source": [
    "#add in facility location\n",
    "WW = pd.merge(WW, WW_loc, how=\"inner\", on=[\"CWNS_NUMBER\"])"
   ]
  },
  {
   "cell_type": "code",
   "execution_count": 37,
   "metadata": {},
   "outputs": [],
   "source": [
    "#add in facility discharge data. Keeping only first values.\n",
    "WW = pd.merge(WW, WW_dis.drop_duplicates(subset=['CWNS_NUMBER'], keep='first'), how=\"inner\", on=[\"CWNS_NUMBER\"])"
   ]
  },
  {
   "cell_type": "code",
   "execution_count": 38,
   "metadata": {},
   "outputs": [],
   "source": [
    "#creating a wastewater dataframe copy keeping only variables of interest\n",
    "WW = WW[[\"STATE\",\"PRES_EFFLUENT_TREATMENT_LEVEL\",\"PROJ_EFFLUENT_TREATMENT_LEVEL\",\"PROJ_MUNICIPAL\",\"DISCHARGE_METHOD\"]].copy()"
   ]
  },
  {
   "cell_type": "markdown",
   "metadata": {},
   "source": [
    "<h3> Facility treatment type and discharge type characterization.</h3> <br>\n",
    "The EPA dataset includes a long list of facility types. These have been grouped into primary, secondary, and advanced treatment for simplicity. Facility type is ultimately used to determine energy use in wastewater treatment based on these treatment types.\n",
    "\n",
    "Similarly, EPA provides a range of discharge types for facilities including groundwater injection, reuse in agriculture, ocean, and other. These have also been grouped for simplicity.\n",
    "\n",
    "Note that there are a handful of blanks in the treatment type data that should be handled at some point. Do we assume primary?"
   ]
  },
  {
   "cell_type": "markdown",
   "metadata": {},
   "source": [
    "<h4> Prepping data to get to amount of water flows for each treatment type and water flows discharged to various locations by state"
   ]
  },
  {
   "cell_type": "code",
   "execution_count": 39,
   "metadata": {},
   "outputs": [],
   "source": [
    "#read in dataset with key to group each treatment type into a simplified grouping\n",
    "Treat_key = pd.read_excel(\"WW_Treat_Key.xlsx\")\n",
    "\n",
    "#merge treatment key to wastewater dataframe\n",
    "WW = pd.merge(WW, Treat_key, how=\"left\", on=[\"PROJ_EFFLUENT_TREATMENT_LEVEL\"])"
   ]
  },
  {
   "cell_type": "code",
   "execution_count": 40,
   "metadata": {},
   "outputs": [],
   "source": [
    "#read in discharge data key to group each discharge type into a simplified grouping\n",
    "Dis_key = pd.read_excel(\"WW_Discharge_Key.xlsx\")\n",
    "\n",
    "#merge discharge key to wastewater dataframe\n",
    "WW = pd.merge(WW, Dis_key, how=\"left\", on=[\"DISCHARGE_METHOD\"])"
   ]
  },
  {
   "cell_type": "code",
   "execution_count": 41,
   "metadata": {},
   "outputs": [],
   "source": [
    "#drop facilities that have flows of zero\n",
    "WW.replace('', np.nan, inplace=True)\n",
    "WW.dropna(subset=['PROJ_MUNICIPAL'], inplace=True)"
   ]
  },
  {
   "cell_type": "markdown",
   "metadata": {},
   "source": [
    "Note that the water flows by treatment type information is only used for energy usage calculations later. The data is prepped here for convenience."
   ]
  },
  {
   "cell_type": "code",
   "execution_count": 42,
   "metadata": {},
   "outputs": [],
   "source": [
    "#Separating out the treatment type information\n",
    "WW_treat = WW[[\"STATE\",\"PROJ_MUNICIPAL\",\"Treatment\",\"Discharge\"]].copy()\n",
    "\n",
    "#group by state\n",
    "WW_treat = WW.groupby([\"STATE\",\"Treatment\"], as_index=False).sum()\n",
    "\n",
    "#creating a pivot table of water flows by type in each state\n",
    "Treat_table = pd.pivot_table(WW_treat, values='PROJ_MUNICIPAL', index=['STATE'],\n",
    "                    columns=['Treatment'], aggfunc=np.sum, fill_value=0)\n"
   ]
  },
  {
   "cell_type": "code",
   "execution_count": 43,
   "metadata": {},
   "outputs": [],
   "source": [
    "#Separating out the discharge information\n",
    "WW_Dis = WW[[\"STATE\",\"PROJ_MUNICIPAL\",\"Discharge\"]].copy()\n",
    "\n",
    "#group by state\n",
    "WW_Dis = WW.groupby([\"STATE\",\"Discharge\"], as_index=False).sum()\n",
    "\n",
    "#creating a pivot table of water flows by discharge type in each state\n",
    "Dis_table = pd.pivot_table(WW_Dis, values='PROJ_MUNICIPAL', index=['STATE'],\n",
    "                    columns=['Discharge'], aggfunc=np.sum)"
   ]
  },
  {
   "cell_type": "code",
   "execution_count": 44,
   "metadata": {},
   "outputs": [],
   "source": [
    "#bringing both treatment and discharge into a single dataframe listed by state\n",
    "WW_Treat_Dis = pd.merge(Treat_table, Dis_table, how=\"left\", on=[\"STATE\"], left_index=False)"
   ]
  },
  {
   "cell_type": "code",
   "execution_count": 45,
   "metadata": {},
   "outputs": [],
   "source": [
    "#Convert to MGY from MGD for all numeric columns\n",
    "WW_Treat_Dis[WW_Treat_Dis.select_dtypes(include=['number']).columns] *= 365"
   ]
  },
  {
   "cell_type": "markdown",
   "metadata": {},
   "source": [
    "Reducing to just sectors of interest."
   ]
  },
  {
   "cell_type": "code",
   "execution_count": 46,
   "metadata": {},
   "outputs": [],
   "source": [
    "#reducing to columns of interest\n",
    "WW_Treat_Dis = WW_Treat_Dis[[\"Advanced\", \"Primary\", \"Secondary\", \"Agriculture\", \"Ground\",\"Ocean\", \"Surface\"]].copy()"
   ]
  },
  {
   "cell_type": "markdown",
   "metadata": {},
   "source": [
    "<h2> Adjusting State-level Wastewater Values to the Interconnect-Level </h2>\n",
    "    Scaling state-level wastewater treatment data to each interconnect by population-interconnect weighting table\n",
    "    \n",
    "    Note that discharge to agriculture (irrigation reuse) and groundwater are included below but are not currently included in the sankey diagram as of this moment for simplification purposes."
   ]
  },
  {
   "cell_type": "code",
   "execution_count": 47,
   "metadata": {},
   "outputs": [],
   "source": [
    "#merge wastewater treatment dataframe with percent by interconnect table\n",
    "WW_Treat_Dis = pd.merge(WW_Treat_Dis, pop_table, on=[\"STATE\"])"
   ]
  },
  {
   "cell_type": "code",
   "execution_count": 48,
   "metadata": {},
   "outputs": [],
   "source": [
    "#Separating out just discharge information and percent in interconnect\n",
    "WW_Discharge = WW_Treat_Dis[[\"STATE\",\"Agriculture\",\"Ground\", \"Ocean\", \"Surface\", \n",
    "                             \"ERCOT_frac\", \"East_frac\", \"None_frac\",\"WECC_frac\" ]].copy()\n",
    "\n",
    "#Creating columns calculating wastewater discharge to agriculature, groundwater, ocean, and surface in each interconnect\n",
    "\n",
    "#ERCOT\n",
    "WW_Discharge[\"AG_ERCOT\"] = WW_Discharge[\"Agriculture\"]*WW_Discharge[\"ERCOT_frac\"]\n",
    "WW_Discharge[\"GW_ERCOT\"] = WW_Discharge[\"Ground\"]*WW_Discharge[\"ERCOT_frac\"]\n",
    "WW_Discharge[\"OD_ERCOT\"] = WW_Discharge[\"Ocean\"]*WW_Discharge[\"ERCOT_frac\"]\n",
    "WW_Discharge[\"SD_ERCOT\"] = WW_Discharge[\"Surface\"]*WW_Discharge[\"ERCOT_frac\"]\n",
    "\n",
    "#East\n",
    "WW_Discharge[\"AG_East\"] = WW_Discharge[\"Agriculture\"]*WW_Discharge[\"East_frac\"]\n",
    "WW_Discharge[\"GW_East\"] = WW_Discharge[\"Ground\"]*WW_Discharge[\"East_frac\"]\n",
    "WW_Discharge[\"OD_East\"] = WW_Discharge[\"Ocean\"]*WW_Discharge[\"East_frac\"]\n",
    "WW_Discharge[\"SD_East\"] = WW_Discharge[\"Surface\"]*WW_Discharge[\"East_frac\"]\n",
    "\n",
    "#None\n",
    "WW_Discharge[\"AG_None\"] = WW_Discharge[\"Agriculture\"]*WW_Discharge[\"None_frac\"]\n",
    "WW_Discharge[\"GW_None\"] = WW_Discharge[\"Ground\"]*WW_Discharge[\"None_frac\"]\n",
    "WW_Discharge[\"OD_None\"] = WW_Discharge[\"Ocean\"]*WW_Discharge[\"None_frac\"]\n",
    "WW_Discharge[\"SD_None\"] = WW_Discharge[\"Surface\"]*WW_Discharge[\"None_frac\"]\n",
    "\n",
    "#WECC\n",
    "WW_Discharge[\"AG_WECC\"] = WW_Discharge[\"Agriculture\"]*WW_Discharge[\"WECC_frac\"]\n",
    "WW_Discharge[\"GW_WECC\"] = WW_Discharge[\"Ground\"]*WW_Discharge[\"WECC_frac\"]\n",
    "WW_Discharge[\"OD_WECC\"] = WW_Discharge[\"Ocean\"]*WW_Discharge[\"WECC_frac\"]\n",
    "WW_Discharge[\"SD_WECC\"] = WW_Discharge[\"Surface\"]*WW_Discharge[\"WECC_frac\"]"
   ]
  },
  {
   "cell_type": "markdown",
   "metadata": {},
   "source": [
    "Separating out each interconnect so that data can be restructured before being joined back together."
   ]
  },
  {
   "cell_type": "code",
   "execution_count": 49,
   "metadata": {},
   "outputs": [],
   "source": [
    "#Creating a dataframe of discharge values for ERCOT only\n",
    "\n",
    "#setting up empty dataframe\n",
    "ERCOT_Discharge = pd.DataFrame()\n",
    "\n",
    "#summing each column of discharge values that occur within ERCOT\n",
    "AG_ERCOT = WW_Discharge['AG_ERCOT'].sum()\n",
    "GW_ERCOT = WW_Discharge['GW_ERCOT'].sum()\n",
    "OD_ERCOT = WW_Discharge['OD_ERCOT'].sum()\n",
    "SD_ERCOT = WW_Discharge['SD_ERCOT'].sum()\n",
    "\n",
    "#adding these values to the ERCOT dataframe\n",
    "ERCOT_Discharge['WW_SD'] = [SD_ERCOT]\n",
    "ERCOT_Discharge['WW_OD'] = [OD_ERCOT]\n",
    "ERCOT_Discharge['WW_AG'] = [AG_ERCOT]\n",
    "ERCOT_Discharge['WW_GW'] = [GW_ERCOT]\n",
    "\n",
    "#adding a column for interconnect label and assigning ERCOT to each row\n",
    "ERCOT_Discharge[\"Interconnect\"] = \"ERCOT\""
   ]
  },
  {
   "cell_type": "code",
   "execution_count": 50,
   "metadata": {},
   "outputs": [],
   "source": [
    "#Creating a dataframe of discharge values for East only\n",
    "\n",
    "#setting up empty dataframe\n",
    "East_Discharge = pd.DataFrame()\n",
    "\n",
    "#summing each column of discharge values that occur within East\n",
    "AG_East = WW_Discharge['AG_East'].sum()\n",
    "GW_East = WW_Discharge['GW_East'].sum()\n",
    "OD_East = WW_Discharge['OD_East'].sum()\n",
    "SD_East = WW_Discharge['SD_East'].sum()\n",
    "\n",
    "#adding these values to the East dataframe\n",
    "East_Discharge['WW_SD'] = [SD_East]\n",
    "East_Discharge['WW_OD'] = [OD_East]\n",
    "East_Discharge['WW_AG'] = [AG_East]\n",
    "East_Discharge['WW_GW'] = [GW_East]\n",
    "\n",
    "#adding a column for interconnect label and assigning East to each row\n",
    "East_Discharge[\"Interconnect\"] = \"East\""
   ]
  },
  {
   "cell_type": "code",
   "execution_count": 51,
   "metadata": {},
   "outputs": [],
   "source": [
    "#same process as above for None interconnect\n",
    "\n",
    "None_Discharge = pd.DataFrame()\n",
    "\n",
    "AG_None = WW_Discharge['AG_None'].sum()\n",
    "GW_None = WW_Discharge['GW_None'].sum()\n",
    "OD_None = WW_Discharge['OD_None'].sum()\n",
    "SD_None = WW_Discharge['SD_None'].sum()\n",
    "\n",
    "None_Discharge['WW_SD'] = [SD_None]\n",
    "None_Discharge['WW_OD'] = [OD_None]\n",
    "None_Discharge['WW_AG'] = [AG_None]\n",
    "None_Discharge['WW_GW'] = [GW_None]\n",
    "None_Discharge[\"Interconnect\"] = \"None\""
   ]
  },
  {
   "cell_type": "code",
   "execution_count": 52,
   "metadata": {},
   "outputs": [],
   "source": [
    "#same process as above for WECC interconnect\n",
    "\n",
    "WECC_Discharge = pd.DataFrame()\n",
    "\n",
    "AG_WECC = WW_Discharge['AG_WECC'].sum()\n",
    "GW_WECC = WW_Discharge['GW_WECC'].sum()\n",
    "OD_WECC = WW_Discharge['OD_WECC'].sum()\n",
    "SD_WECC = WW_Discharge['SD_WECC'].sum()\n",
    "\n",
    "WECC_Discharge['WW_SD'] = [SD_WECC]\n",
    "WECC_Discharge['WW_OD'] = [OD_WECC]\n",
    "WECC_Discharge['WW_AG'] = [AG_WECC]\n",
    "WECC_Discharge['WW_GW'] = [GW_WECC]\n",
    "WECC_Discharge[\"Interconnect\"] = \"WECC\""
   ]
  },
  {
   "cell_type": "code",
   "execution_count": 53,
   "metadata": {},
   "outputs": [],
   "source": [
    "#bring the separate interconnect dataframes back together into one wastewater discharge dataframe by interconnect\n",
    "frames = [ERCOT_Discharge, East_Discharge, None_Discharge, WECC_Discharge]\n",
    "frames = pd.concat(frames)"
   ]
  },
  {
   "cell_type": "markdown",
   "metadata": {},
   "source": [
    "<h3> Append the wastewater discharge values by interconnect to the main water dataframe"
   ]
  },
  {
   "cell_type": "code",
   "execution_count": 54,
   "metadata": {},
   "outputs": [],
   "source": [
    "Interconnection_Complete = pd.merge(county_df, frames, how=\"left\", on=[\"Interconnect\"])"
   ]
  },
  {
   "cell_type": "markdown",
   "metadata": {},
   "source": [
    "<h2> End of water calculations* </h2>\n",
    "\n",
    "*Not including water in hydroelectric generation or water in energy which are calculated later."
   ]
  },
  {
   "cell_type": "markdown",
   "metadata": {},
   "source": [
    "***"
   ]
  },
  {
   "cell_type": "markdown",
   "metadata": {},
   "source": [
    "<h1> Energy"
   ]
  },
  {
   "cell_type": "markdown",
   "metadata": {},
   "source": [
    "<h2> Electricity Generation"
   ]
  },
  {
   "cell_type": "markdown",
   "metadata": {},
   "source": [
    "EIA 923 data is used to determine electricity generation by generator type within each interconnect. The datafile contains information on generation at the plant-level. EIA additionally provides data on which NERC balancing region each plant belongs to. By mapping each NERC region to its associated interconnect, generation within each interconnect can be determined.\n",
    "\n",
    "From EIA, the AER Fuel Type Code is used to determine generator type."
   ]
  },
  {
   "cell_type": "code",
   "execution_count": 55,
   "metadata": {},
   "outputs": [],
   "source": [
    "#read in EIA 923 plant level data\n",
    "gendf = pd.read_excel(\"EIA923_Schedules_2_3_4_5_M_12_2015_Final_Revision.xlsx\", skiprows=5)"
   ]
  },
  {
   "cell_type": "markdown",
   "metadata": {},
   "source": [
    "EIA provides generator type information in higher detail than desired. For this reason different generator types are grouped for simplicity using a generator key. For example, different types of natural gas generators are all grouped into \"Natural Gas\" as a type"
   ]
  },
  {
   "cell_type": "markdown",
   "metadata": {},
   "source": [
    "<h3> Fuel Consumption for the Production of Electricity Generation by Generator Type"
   ]
  },
  {
   "cell_type": "code",
   "execution_count": 56,
   "metadata": {},
   "outputs": [],
   "source": [
    "#read in dataset matching NERC regions to Interconnect\n",
    "NERC= pd.read_excel(\"NERC_Interconnect_List.xlsx\")\n",
    "\n",
    "#read in generator type simplification key\n",
    "genkey = pd.read_excel(\"GenType923Key.xlsx\")"
   ]
  },
  {
   "cell_type": "code",
   "execution_count": 57,
   "metadata": {},
   "outputs": [],
   "source": [
    "#merge EIA data and interconnect data\n",
    "gendf = pd.merge(gendf, NERC, how=\"left\", on=[\"NERC Region\"])"
   ]
  },
  {
   "cell_type": "code",
   "execution_count": 58,
   "metadata": {},
   "outputs": [],
   "source": [
    "#keeping only variables of interest including interconnect, generator type, fuel consumption and net generation\n",
    "gendf = gendf[[\"Interconnect\",\"AER\\nFuel Type Code\",\"Total Fuel Consumption\\nMMBtu\",\"Net Generation\\n(Megawatthours)\"]]"
   ]
  },
  {
   "cell_type": "code",
   "execution_count": 59,
   "metadata": {},
   "outputs": [],
   "source": [
    "#merging generator type and key\n",
    "gendf = pd.merge(gendf, genkey, how=\"left\", on=[\"AER\\nFuel Type Code\"])\n",
    "\n",
    "#dropping uneeded variables\n",
    "gendf = gendf.drop([\"Description\", \"AER\\nFuel Type Code\"],axis=1)"
   ]
  },
  {
   "cell_type": "code",
   "execution_count": 60,
   "metadata": {},
   "outputs": [],
   "source": [
    "#grouping plant level data by interconnect and generation type \n",
    "gendf = gendf.groupby([\"Interconnect\",\"Type\"], as_index=False).sum()"
   ]
  },
  {
   "cell_type": "markdown",
   "metadata": {},
   "source": [
    "The above data is reformatted in the next section before being added to the main dataframe"
   ]
  },
  {
   "cell_type": "markdown",
   "metadata": {},
   "source": [
    "<h3> Electricity Generation to Rejected Energy </h3> <br>\n",
    "Rejected energy is assummed to be the difference between the amount of fuel consumed by each generator in the production of electricity generation and the actual electricity generation produced in bbtu"
   ]
  },
  {
   "cell_type": "code",
   "execution_count": 61,
   "metadata": {},
   "outputs": [],
   "source": [
    "#Converting net generation from MWh to bbtu\n",
    "gendf[\"NetGen_bbtu\"] = (gendf[\"Net Generation\\n(Megawatthours)\"])*(3411999.99990575/1000000000)\n",
    "\n",
    "#Converting net fuel consumption to bbtu from mbtu\n",
    "gendf[\"NetFuelCons_bbtu\"] = gendf[\"Total Fuel Consumption\\nMMBtu\"]/1000\n",
    "\n",
    "#calculating rejected energy by generator type in each interconnect\n",
    "gendf[\"Rejected Energy\"] = gendf[\"NetFuelCons_bbtu\"] - gendf[\"NetGen_bbtu\"]\n",
    "\n",
    "#dropping unneeded variables\n",
    "gendf = gendf.drop([\"Total Fuel Consumption\\nMMBtu\"], axis=1)"
   ]
  },
  {
   "cell_type": "code",
   "execution_count": 62,
   "metadata": {},
   "outputs": [],
   "source": [
    "#replacing blanks with zero\n",
    "gendf.replace([np.inf, -np.inf],  np.nan, inplace=True)\n",
    "gendf.fillna(0, inplace=True)"
   ]
  },
  {
   "cell_type": "code",
   "execution_count": 63,
   "metadata": {},
   "outputs": [],
   "source": [
    "#creating a separate dataframe that groups generation and rejected energy from each generator type by interconnect\n",
    "AggGen = gendf.groupby([\"Interconnect\"], as_index=False).sum()"
   ]
  },
  {
   "cell_type": "code",
   "execution_count": 64,
   "metadata": {},
   "outputs": [],
   "source": [
    "#creating a pivot table of fuel consumption so that each generator type is a separate column\n",
    "import numpy as np\n",
    "table = pd.pivot_table(gendf, values='NetFuelCons_bbtu', index=['Interconnect'],\n",
    "                    columns=['Type'], aggfunc=np.sum)"
   ]
  },
  {
   "cell_type": "code",
   "execution_count": 65,
   "metadata": {},
   "outputs": [],
   "source": [
    "#merging the dataframe of fuel consumption by each generator type to the dataframe of total rejected energy by interconnect\n",
    "Generation = pd.merge(AggGen, table, how=\"left\", on=[\"Interconnect\"])"
   ]
  },
  {
   "cell_type": "code",
   "execution_count": 66,
   "metadata": {},
   "outputs": [],
   "source": [
    "#Appending electricity generation and rejected energy values to main dataframe\n",
    "Interconnection_Complete = pd.merge(Interconnection_Complete, Generation, how=\"left\", on=[\"Interconnect\"])"
   ]
  },
  {
   "cell_type": "markdown",
   "metadata": {},
   "source": [
    "<h4> At this stage we have calculated all electricity generation by generator type and the associated rejected energy for each interconnect"
   ]
  },
  {
   "cell_type": "markdown",
   "metadata": {},
   "source": [
    "<h2> Water in Hydroelectric Generation"
   ]
  },
  {
   "cell_type": "markdown",
   "metadata": {},
   "source": [
    "<h4> Electricity generation from Hydro </h4> <br>\n",
    "Water used in hydroelectric generation data is not available for 2015. The most recent year of water use by this sector was from 1995. In a previous section, the water intensity of hydroelectric generation was calculated based on the 1995 values.  These intensity values are applied below to total hydroelectric generation in each interconnect to determine the respective water use.\n",
    "\n",
    "Note that the intensity coefficient is in MGY/GWh\n",
    "\n",
    "The calculation below is for on-stream (conventional) hydro. The EIA 923 dataset only includes fuel consumption for conventional hydroelectric generation, not for pumped storage hydro which could be considered off-stream."
   ]
  },
  {
   "cell_type": "code",
   "execution_count": 67,
   "metadata": {},
   "outputs": [],
   "source": [
    "#creates a separate table of net MWH generated by generator type and interconnect\n",
    "table_hydro = pd.pivot_table(gendf, values='Net Generation\\n(Megawatthours)', index=['Interconnect'],\n",
    "                    columns=['Type'], aggfunc=np.sum)"
   ]
  },
  {
   "cell_type": "code",
   "execution_count": 68,
   "metadata": {},
   "outputs": [],
   "source": [
    "#resetting the index\n",
    "table_hydro = table_hydro.reset_index()"
   ]
  },
  {
   "cell_type": "code",
   "execution_count": 69,
   "metadata": {},
   "outputs": [],
   "source": [
    "#renaming the hydro column title to differentiate from hydro fuel consumption\n",
    "table_hydro = table_hydro.rename(columns={\"Hydro\": \"Hydro_gen\"})\n",
    "\n",
    "#dropping other generator types\n",
    "table_hydro = table_hydro.drop([\"Biomass\",\"Coal\",\"Geothermal\",\"Natural Gas\",\"Nuclear\",\"Other\",\"PSH\",\"Petroleum\",\"Solar\",\"Wind\"],axis=1)"
   ]
  },
  {
   "cell_type": "code",
   "execution_count": 70,
   "metadata": {},
   "outputs": [],
   "source": [
    "#resetting index to interconnect\n",
    "table_hydro = table_hydro.set_index(\"Interconnect\")"
   ]
  },
  {
   "cell_type": "code",
   "execution_count": 71,
   "metadata": {},
   "outputs": [],
   "source": [
    "#Convert generation to GWh from MWh\n",
    "table_hydro[\"Hydro_gen\"] = table_hydro[\"Hydro_gen\"]/1000\n",
    "\n",
    "#Multiply by intensity rate (MGY/GWh)\n",
    "table_hydro[\"Hydro_WSWFr\"] = table_hydro[\"Hydro_gen\"] * HY_Intensity"
   ]
  },
  {
   "cell_type": "code",
   "execution_count": 72,
   "metadata": {},
   "outputs": [],
   "source": [
    "#Append to main dataframe\n",
    "Interconnection_Complete = pd.merge(Interconnection_Complete, table_hydro, how=\"left\", on=[\"Interconnect\"])"
   ]
  },
  {
   "cell_type": "markdown",
   "metadata": {},
   "source": [
    "<h2> Surface Discharge & Consumption/Evaporation from Hydroelectric Generation"
   ]
  },
  {
   "cell_type": "markdown",
   "metadata": {},
   "source": [
    "Water used in hydroelectric generation passes through and \"discharged\" to the surface. No values have been calculated yet for consumption/evaporation. For the moment, all water used in hydroelectric generation is discharged to the surface."
   ]
  },
  {
   "cell_type": "code",
   "execution_count": 74,
   "metadata": {},
   "outputs": [],
   "source": [
    "#equating hydro discharge to the surface to all water used by hydro\n",
    "Interconnection_Complete[\"Hydro_SD\"] = Interconnection_Complete[\"Hydro_WSWFr\"]"
   ]
  },
  {
   "cell_type": "markdown",
   "metadata": {},
   "source": [
    "<h1> Energy in Agriculture"
   ]
  },
  {
   "cell_type": "markdown",
   "metadata": {},
   "source": [
    "Energy use in agriculture is determined by coefficients for energy intensity in surface water intensity, groundwater intensity, and surface water withdrawal.\n",
    "\n",
    "Each of these are multiplied by the associated quantities (MGY) of surface and/or groundwater used in agriculture previously calculated."
   ]
  },
  {
   "cell_type": "markdown",
   "metadata": {},
   "source": [
    "<h2> Energy in Agriculture"
   ]
  },
  {
   "cell_type": "markdown",
   "metadata": {},
   "source": [
    "The coefficients are adjusted to bbtu/MGY. Intensity values are used from LLNL report."
   ]
  },
  {
   "cell_type": "code",
   "execution_count": 75,
   "metadata": {},
   "outputs": [],
   "source": [
    "#surface water intensity\n",
    "AG_SW_Int = ((2397.98607648894 * (Interconnection_Complete[\"AG-WSWFr\"]/365)/1000000))\n",
    "\n",
    "#groundwater intensity\n",
    "AG_GW_Int = ((455.8628363 * Interconnection_Complete[\"AG-WGWFr\"]/365)/1000000)\n",
    "\n",
    "#surface water withdrawal\n",
    "AG_SW_With = ((455.8628363 * Interconnection_Complete[\"AG-WSWFr\"]/365)/1000000)\n",
    "\n",
    "#convert to bbtu\n",
    "AG_SW_Int_bbtu = (AG_SW_Int*3412141632.81)/1000000000\n",
    "AG_GW_Int_bbtu = (AG_GW_Int*3412141632.81)/1000000000\n",
    "AG_SW_With_bbtu = (AG_SW_With*3412141632.81)/1000000000\n",
    "\n",
    "#convert to bbtu per year\n",
    "AG_SW_Int_bbtu_yr = AG_SW_Int_bbtu*365\n",
    "AG_GW_Int_bbtu_yr = AG_GW_Int_bbtu*365\n",
    "AG_SW_With_bbtu_yr = AG_SW_With_bbtu*365\n",
    "\n",
    "#sum to obtain total energy in agriculture by interconnect\n",
    "AG_bbtu_total = AG_GW_Int_bbtu_yr + AG_SW_Int_bbtu_yr + AG_SW_With_bbtu_yr\n",
    "\n",
    "#add to main dataframe\n",
    "Interconnection_Complete[\"Ag_bbtu\"] = AG_bbtu_total "
   ]
  },
  {
   "cell_type": "markdown",
   "metadata": {},
   "source": [
    "<h2> Rejected Energy & Energy Services from Agriculture"
   ]
  },
  {
   "cell_type": "markdown",
   "metadata": {},
   "source": [
    "Agriculture is assumed to have an efficiency rate of 65%. Therefore, 65% of all energy used in agriculture is used in energy services while 35% is lost as rejected energy."
   ]
  },
  {
   "cell_type": "code",
   "execution_count": 76,
   "metadata": {},
   "outputs": [],
   "source": [
    "#Rejected Energy Calculation (65% efficiency)\n",
    "Interconnection_Complete[\"Ag_RE\"] = .35* Interconnection_Complete[\"Ag_bbtu\"]\n",
    "\n",
    "#Energy Services Calculation (65% efficiency)\n",
    "Interconnection_Complete[\"Ag_ES\"] = Interconnection_Complete[\"Ag_bbtu\"] - Interconnection_Complete[\"Ag_RE\"]"
   ]
  },
  {
   "cell_type": "markdown",
   "metadata": {},
   "source": [
    "<h2> Energy in Public Water Supply"
   ]
  },
  {
   "cell_type": "markdown",
   "metadata": {},
   "source": [
    "Energy use in public water supply is determined by coefficients for energy intensity in surface water intensity, groundwater intensity, surface water treatment, groundwater treatment, and distribution to end-users.\n",
    "\n",
    "Each of these are multiplied by the associated quantities (MGY) of surface and/or groundwater used in public water supply previously calculated."
   ]
  },
  {
   "cell_type": "markdown",
   "metadata": {},
   "source": [
    "<h4> Energy used in Public Water Supply, not including inter-basin transfers"
   ]
  },
  {
   "cell_type": "code",
   "execution_count": 77,
   "metadata": {},
   "outputs": [],
   "source": [
    "#Gives intensity rates in GWh/MG\n",
    "\n",
    "SW_int_rate = 145/1000000\n",
    "GW_int_rate = 920/1000000\n",
    "SW_Treat_rate = 405/1000000\n",
    "GW_Treat_rate = 205/1000000\n",
    "PS_Dist_rate = 1040/1000000"
   ]
  },
  {
   "cell_type": "code",
   "execution_count": 78,
   "metadata": {},
   "outputs": [],
   "source": [
    "#calculates bbtu/year for each portion of public water supply\n",
    "\n",
    "PS_SW_Int = (SW_int_rate*(Interconnection_Complete[\"PS-WSWFr\"]))*3412141632.81/1000000000\n",
    "PS_GW_Int = (GW_int_rate * (Interconnection_Complete[\"PS-WGWFr\"]))*3412141632.81/1000000000\n",
    "PS_SW_Treat = (SW_Treat_rate * (Interconnection_Complete[\"PS-WSWFr\"]))*3412141632.81/1000000000\n",
    "PS_GW_Treat =(GW_Treat_rate * (Interconnection_Complete[\"PS-WGWFr\"]))*3412141632.81/1000000000\n",
    "PS_Dist_Int = (PS_Dist_rate * (Interconnection_Complete[\"PS-WGWFr\"] + Interconnection_Complete[\"PS-WSWFr\"]))*3412141632.81/1000000000"
   ]
  },
  {
   "cell_type": "code",
   "execution_count": 79,
   "metadata": {},
   "outputs": [],
   "source": [
    "#sums across all items\n",
    "PS_bbtu_total = PS_SW_Int+ PS_GW_Int + PS_SW_Treat + PS_GW_Treat + PS_Dist_Int\n",
    "\n",
    "#adding to main dataframe\n",
    "Interconnection_Complete[\"PS_nonIBT_bbtu\"] = PS_bbtu_total"
   ]
  },
  {
   "cell_type": "markdown",
   "metadata": {},
   "source": [
    "<h4> Energy in Public Water Supply, inter-basin transfers "
   ]
  },
  {
   "cell_type": "code",
   "execution_count": 80,
   "metadata": {},
   "outputs": [],
   "source": [
    "#Read in IBT data\n",
    "IBT = pd.read_excel(\"InterbasinTransfer.xlsx\")\n",
    "\n",
    "#fill blanks\n",
    "IBT.replace([np.inf, -np.inf],  np.nan, inplace=True)\n",
    "IBT.fillna(0, inplace=True)\n",
    "\n",
    "#add to main dataframe based on interconnect\n",
    "Interconnection_Complete = pd.merge(Interconnection_Complete, IBT, how=\"left\", on=[\"Interconnect\"])"
   ]
  },
  {
   "cell_type": "markdown",
   "metadata": {},
   "source": [
    "<h4> Total Energy Use in Public Water Supply"
   ]
  },
  {
   "cell_type": "code",
   "execution_count": 81,
   "metadata": {},
   "outputs": [],
   "source": [
    "#calculate total energy in public water supply \n",
    "Interconnection_Complete[\"PS_bbtu\"] = Interconnection_Complete[\"PS_nonIBT_bbtu\"] + Interconnection_Complete[\"IBT\"]"
   ]
  },
  {
   "cell_type": "markdown",
   "metadata": {},
   "source": [
    "<h2> Rejected Energy & Energy Services in Public Water Supply"
   ]
  },
  {
   "cell_type": "code",
   "execution_count": 82,
   "metadata": {},
   "outputs": [],
   "source": [
    "#Rejected Energy Calculation (65% efficiency)\n",
    "Interconnection_Complete[\"PS_RE\"] = .35* Interconnection_Complete[\"PS_bbtu\"]\n",
    "\n",
    "#Energy Services Calculation (65% efficiency)\n",
    "Interconnection_Complete[\"PS_ES\"] = Interconnection_Complete[\"PS_bbtu\"] - Interconnection_Complete[\"PS_RE\"]"
   ]
  },
  {
   "cell_type": "markdown",
   "metadata": {},
   "source": [
    "<h2> Energy in Wastewater Treatment"
   ]
  },
  {
   "cell_type": "code",
   "execution_count": 83,
   "metadata": {},
   "outputs": [],
   "source": [
    "#Gives wastewater treatment intensity rates in GWH/MG\n",
    "\n",
    "Primary_Int = 750/1000000\n",
    "Secondary_Int = 2080/1000000\n",
    "Advanced_Int = 2690/1000000\n",
    "\n",
    "#Gives the GWh per treatment type from EPA data\n",
    "Treat_table[\"Primary_GWh\"] = Primary_Int *Treat_table[\"Primary\"]\n",
    "Treat_table[\"Secondary_GWh\"] = Secondary_Int*Treat_table[\"Secondary\"]\n",
    "Treat_table[\"Advanced_GWh\"] = Advanced_Int*Treat_table[\"Advanced\"]"
   ]
  },
  {
   "cell_type": "code",
   "execution_count": 84,
   "metadata": {},
   "outputs": [],
   "source": [
    "#fills blanks and combines all three treatment types together for total\n",
    "Treatment = Treat_table.copy()\n",
    "Treatment = Treatment.reset_index()\n",
    "Treatment.fillna(0)\n",
    "Treatment[\"WW_bbtu\"] = Treatment[\"Primary_GWh\"] + Treatment[\"Secondary_GWh\"]+Treatment[\"Advanced_GWh\"]"
   ]
  },
  {
   "cell_type": "code",
   "execution_count": 85,
   "metadata": {},
   "outputs": [],
   "source": [
    "#converts from MWh to bbtu\n",
    "Treatment[\"WW_bbtu\"] = ((Treatment[\"WW_bbtu\"]*3412141632.81)/1000000000)*365"
   ]
  },
  {
   "cell_type": "code",
   "execution_count": 86,
   "metadata": {},
   "outputs": [],
   "source": [
    "#brings it together with the state population table\n",
    "Treatment = pd.merge(Treatment, pop_table, on=[\"STATE\"])"
   ]
  },
  {
   "cell_type": "markdown",
   "metadata": {},
   "source": [
    "Below calculates out the total bbtu in each interconnect by state."
   ]
  },
  {
   "cell_type": "code",
   "execution_count": 87,
   "metadata": {},
   "outputs": [],
   "source": [
    "#calculate amount in each interconnect\n",
    "\n",
    "#ERCOT\n",
    "Treatment[\"WW_bbtu_ERCOT\"] = Treatment[\"WW_bbtu\"]*Treatment[\"ERCOT_frac\"]\n",
    "#East\n",
    "Treatment[\"WW_bbtu_East\"] = Treatment[\"WW_bbtu\"]*Treatment[\"East_frac\"]\n",
    "#None\n",
    "Treatment[\"WW_bbtu_None\"] = Treatment[\"WW_bbtu\"]*Treatment[\"None_frac\"]\n",
    "#WECC\n",
    "Treatment[\"WW_bbtu_WECC\"] = Treatment[\"WW_bbtu\"]*Treatment[\"WECC_frac\"]"
   ]
  },
  {
   "cell_type": "code",
   "execution_count": 88,
   "metadata": {},
   "outputs": [],
   "source": [
    "#ERCOT\n",
    "ERCOT_WW_btu = pd.DataFrame()\n",
    "bbtu_ERCOT = Treatment['WW_bbtu_ERCOT'].sum()\n",
    "ERCOT_WW_btu['WW_bbtu'] = [bbtu_ERCOT]\n",
    "ERCOT_WW_btu[\"Interconnect\"] = \"ERCOT\""
   ]
  },
  {
   "cell_type": "code",
   "execution_count": 89,
   "metadata": {},
   "outputs": [],
   "source": [
    "#East\n",
    "East_WW_btu = pd.DataFrame()\n",
    "bbtu_East = Treatment['WW_bbtu_East'].sum()\n",
    "East_WW_btu['WW_bbtu'] = [bbtu_East]\n",
    "East_WW_btu[\"Interconnect\"] = \"East\""
   ]
  },
  {
   "cell_type": "code",
   "execution_count": 90,
   "metadata": {},
   "outputs": [],
   "source": [
    "#WECC\n",
    "WECC_WW_btu = pd.DataFrame()\n",
    "bbtu_WECC = Treatment['WW_bbtu_WECC'].sum()\n",
    "WECC_WW_btu['WW_bbtu'] = [bbtu_WECC]\n",
    "WECC_WW_btu[\"Interconnect\"] = \"WECC\""
   ]
  },
  {
   "cell_type": "code",
   "execution_count": 91,
   "metadata": {},
   "outputs": [],
   "source": [
    "#None\n",
    "None_WW_btu = pd.DataFrame()\n",
    "bbtu_None = Treatment['WW_bbtu_None'].sum()\n",
    "None_WW_btu['WW_bbtu'] = [bbtu_None]\n",
    "None_WW_btu[\"Interconnect\"] = \"None\""
   ]
  },
  {
   "cell_type": "code",
   "execution_count": 92,
   "metadata": {},
   "outputs": [],
   "source": [
    "#bring all values back together to one dataframe by interconnect\n",
    "inter = [East_WW_btu, WECC_WW_btu, None_WW_btu, ERCOT_WW_btu]\n",
    "inter = pd.concat(inter)"
   ]
  },
  {
   "cell_type": "code",
   "execution_count": 93,
   "metadata": {},
   "outputs": [],
   "source": [
    "Interconnection_Complete = pd.merge(Interconnection_Complete, inter, how=\"left\", on=[\"Interconnect\"])"
   ]
  },
  {
   "cell_type": "markdown",
   "metadata": {},
   "source": [
    "<h2> Energy Services and Rejected Energy from Wastewater Treatment"
   ]
  },
  {
   "cell_type": "code",
   "execution_count": 94,
   "metadata": {},
   "outputs": [],
   "source": [
    "Interconnection_Complete[\"WW_RE\"] = .35 * Interconnection_Complete[\"WW_bbtu\"]\n",
    "Interconnection_Complete[\"WW_ES\"] = (1-.35) * Interconnection_Complete[\"WW_bbtu\"]"
   ]
  },
  {
   "cell_type": "markdown",
   "metadata": {},
   "source": [
    "### End of wastewater energy"
   ]
  },
  {
   "cell_type": "markdown",
   "metadata": {},
   "source": [
    "<h1> Electricity Delivery"
   ]
  },
  {
   "cell_type": "markdown",
   "metadata": {},
   "source": [
    "Electricity delivery values are used from EIA electricity consumption tables for residential, commercial, industrial, and transportation sectors"
   ]
  },
  {
   "cell_type": "code",
   "execution_count": 95,
   "metadata": {},
   "outputs": [],
   "source": [
    "Res = pd.read_excel(\"EIA_table6_Res.xlsx\", skiprows=2)\n",
    "Com = pd.read_excel(\"EIA_table7_Com.xlsx\", skiprows=2)\n",
    "Ind = pd.read_excel(\"EIA_table8_Ind.xlsx\", skiprows=2)\n",
    "Trans = pd.read_excel(\"EIA_table9_Trans.xlsx\", skiprows=2)"
   ]
  },
  {
   "cell_type": "code",
   "execution_count": 96,
   "metadata": {},
   "outputs": [],
   "source": [
    "#grab relevant columns\n",
    "Res = Res[[\"State\",\"Sales (Megawatthours)\"]].copy()\n",
    "Res = Res.rename(columns={\"Sales (Megawatthours)\": \"Res\"})\n",
    "Res = Res.groupby([\"State\"], as_index=False).sum()\n",
    "\n",
    "Com = Com[[\"State\",\"Sales (Megawatthours)\"]].copy()\n",
    "Com = Com.rename(columns={\"Sales (Megawatthours)\": \"Com\"})\n",
    "Com = Com.groupby([\"State\"], as_index=False).sum()\n",
    "\n",
    "Ind = Ind[[\"State\",\"Sales (Megawatthours)\"]].copy()\n",
    "Ind = Ind.rename(columns={\"Sales (Megawatthours)\": \"Ind\"})\n",
    "Ind = Ind.groupby([\"State\"], as_index=False).sum()\n",
    "\n",
    "Trans = Trans[[\"State\",\"Sales (Megawatthours)\"]].copy()\n",
    "Trans = Trans.rename(columns={\"Sales (Megawatthours)\": \"Trans\"})\n",
    "Trans = Trans.groupby([\"State\"], as_index=False).sum()"
   ]
  },
  {
   "cell_type": "code",
   "execution_count": 97,
   "metadata": {},
   "outputs": [],
   "source": [
    "#merge residential and commercial into single table\n",
    "Elec = pd.merge(Res, Com, how=\"left\", on=[\"State\"])"
   ]
  },
  {
   "cell_type": "code",
   "execution_count": 98,
   "metadata": {},
   "outputs": [],
   "source": [
    "#add in industrial\n",
    "Elec = pd.merge(Elec, Ind, how=\"left\", on=[\"State\"])"
   ]
  },
  {
   "cell_type": "code",
   "execution_count": 99,
   "metadata": {},
   "outputs": [],
   "source": [
    "#add in transportation and fill blanks\n",
    "Elec = pd.merge(Elec, Trans, how=\"left\", on=[\"State\"])\n",
    "Elec = Elec.fillna(0)"
   ]
  },
  {
   "cell_type": "code",
   "execution_count": 100,
   "metadata": {},
   "outputs": [],
   "source": [
    "#convert to GWh\n",
    "Elec[Elec.select_dtypes(include=['number']).columns] /= 1000 \n",
    "#convert to btu\n",
    "Elec[Elec.select_dtypes(include=['number']).columns] *= 3412141632.81\n",
    "#convert to bbtu\n",
    "Elec[Elec.select_dtypes(include=['number']).columns] /= 1000000000"
   ]
  },
  {
   "cell_type": "code",
   "execution_count": 101,
   "metadata": {},
   "outputs": [],
   "source": [
    "#merge with % of state in each interconnect file\n",
    "Elec = Elec.rename(columns={\"State\": \"STATE\"})\n",
    "Elec = pd.merge(Elec, pop_table, on=[\"STATE\"])"
   ]
  },
  {
   "cell_type": "markdown",
   "metadata": {},
   "source": [
    "The below calculates the amount of electricity demand in each interconnect by state"
   ]
  },
  {
   "cell_type": "code",
   "execution_count": 102,
   "metadata": {},
   "outputs": [],
   "source": [
    "#Calculate the amount in each interconnect\n",
    "\n",
    "#ERCOT\n",
    "Elec[\"Res_ERCOT\"] = Elec[\"Res\"]*Elec[\"ERCOT_frac\"]\n",
    "Elec[\"Com_ERCOT\"] = Elec[\"Com\"]*Elec[\"ERCOT_frac\"]\n",
    "Elec[\"Ind_ERCOT\"] = Elec[\"Ind\"]*Elec[\"ERCOT_frac\"]\n",
    "Elec[\"Trans_ERCOT\"] = Elec[\"Trans\"]*Elec[\"ERCOT_frac\"]\n",
    "#East\n",
    "Elec[\"Res_East\"] = Elec[\"Res\"]*Elec[\"East_frac\"]\n",
    "Elec[\"Com_East\"] = Elec[\"Com\"]*Elec[\"East_frac\"]\n",
    "Elec[\"Ind_East\"] = Elec[\"Ind\"]*Elec[\"East_frac\"]\n",
    "Elec[\"Trans_East\"] = Elec[\"Trans\"]*Elec[\"East_frac\"]\n",
    "#None\n",
    "Elec[\"Res_None\"] = Elec[\"Res\"]*Elec[\"None_frac\"]\n",
    "Elec[\"Com_None\"] = Elec[\"Com\"]*Elec[\"None_frac\"]\n",
    "Elec[\"Ind_None\"] = Elec[\"Ind\"]*Elec[\"None_frac\"]\n",
    "Elec[\"Trans_None\"] = Elec[\"Trans\"]*Elec[\"None_frac\"]\n",
    "#WECC\n",
    "Elec[\"Res_WECC\"] = Elec[\"Res\"]*Elec[\"WECC_frac\"]\n",
    "Elec[\"Com_WECC\"] = Elec[\"Com\"]*Elec[\"WECC_frac\"]\n",
    "Elec[\"Ind_WECC\"] = Elec[\"Ind\"]*Elec[\"WECC_frac\"]\n",
    "Elec[\"Trans_WECC\"] = Elec[\"Trans\"]*Elec[\"WECC_frac\"]"
   ]
  },
  {
   "cell_type": "code",
   "execution_count": 103,
   "metadata": {},
   "outputs": [],
   "source": [
    "#ERCOT\n",
    "ERCOT_Elec = pd.DataFrame()\n",
    "\n",
    "R_ERCOT = Elec['Res_ERCOT'].sum()\n",
    "C_ERCOT = Elec['Com_ERCOT'].sum()\n",
    "I_ERCOT = Elec['Ind_ERCOT'].sum()\n",
    "T_ERCOT = Elec['Trans_ERCOT'].sum()\n",
    "\n",
    "ERCOT_Elec['DO_bbtu'] = [R_ERCOT]\n",
    "ERCOT_Elec['CO_bbtu'] = [C_ERCOT]\n",
    "ERCOT_Elec['IN_bbtu'] = [I_ERCOT]\n",
    "ERCOT_Elec['TR_bbtu'] = [T_ERCOT]\n",
    "\n",
    "ERCOT_Elec[\"Interconnect\"] = \"ERCOT\""
   ]
  },
  {
   "cell_type": "code",
   "execution_count": 104,
   "metadata": {},
   "outputs": [],
   "source": [
    "#East\n",
    "East_Elec = pd.DataFrame()\n",
    "\n",
    "R_East = Elec['Res_East'].sum()\n",
    "C_East = Elec['Com_East'].sum()\n",
    "I_East = Elec['Ind_East'].sum()\n",
    "T_East = Elec['Trans_East'].sum()\n",
    "\n",
    "East_Elec['DO_bbtu'] = [R_East]\n",
    "East_Elec['CO_bbtu'] = [C_East]\n",
    "East_Elec['IN_bbtu'] = [I_East]\n",
    "East_Elec['TR_bbtu'] = [T_East]\n",
    "\n",
    "East_Elec[\"Interconnect\"] = \"East\""
   ]
  },
  {
   "cell_type": "code",
   "execution_count": 105,
   "metadata": {},
   "outputs": [],
   "source": [
    "#None\n",
    "None_Elec = pd.DataFrame()\n",
    "\n",
    "R_None = Elec['Res_None'].sum()\n",
    "C_None = Elec['Com_None'].sum()\n",
    "I_None = Elec['Ind_None'].sum()\n",
    "T_None = Elec['Trans_None'].sum()\n",
    "\n",
    "None_Elec['DO_bbtu'] = [R_None]\n",
    "None_Elec['CO_bbtu'] = [C_None]\n",
    "None_Elec['IN_bbtu'] = [I_None]\n",
    "None_Elec['TR_bbtu'] = [T_None]\n",
    "\n",
    "None_Elec[\"Interconnect\"] = \"None\""
   ]
  },
  {
   "cell_type": "code",
   "execution_count": 106,
   "metadata": {},
   "outputs": [],
   "source": [
    "#WECC\n",
    "WECC_Elec = pd.DataFrame()\n",
    "\n",
    "R_WECC = Elec['Res_WECC'].sum()\n",
    "C_WECC = Elec['Com_WECC'].sum()\n",
    "I_WECC = Elec['Ind_WECC'].sum()\n",
    "T_WECC = Elec['Trans_WECC'].sum()\n",
    "\n",
    "WECC_Elec['DO_bbtu'] = [R_WECC]\n",
    "WECC_Elec['CO_bbtu'] = [C_WECC]\n",
    "WECC_Elec['IN_bbtu'] = [I_WECC]\n",
    "WECC_Elec['TR_bbtu'] = [T_WECC]\n",
    "\n",
    "WECC_Elec[\"Interconnect\"] = \"WECC\""
   ]
  },
  {
   "cell_type": "code",
   "execution_count": 107,
   "metadata": {},
   "outputs": [],
   "source": [
    "#bring all values back together to one dataframe by interconnect\n",
    "Elec_del = [WECC_Elec, East_Elec, None_Elec, ERCOT_Elec]\n",
    "deliver = pd.concat(Elec_del)\n",
    "\n",
    "#combining industrial and commercial into a single category.\n",
    "deliver[\"INCO_bbtu\"] = deliver[\"CO_bbtu\"] + deliver[\"IN_bbtu\"]"
   ]
  },
  {
   "cell_type": "code",
   "execution_count": 108,
   "metadata": {},
   "outputs": [],
   "source": [
    "deliver = deliver.reset_index()"
   ]
  },
  {
   "cell_type": "code",
   "execution_count": 109,
   "metadata": {},
   "outputs": [],
   "source": [
    "#connects it with main dataframe\n",
    "Interconnection_Complete = pd.merge(Interconnection_Complete, deliver, how=\"left\", on=[\"Interconnect\"])"
   ]
  },
  {
   "cell_type": "markdown",
   "metadata": {},
   "source": [
    "<h1> Energy Supply"
   ]
  },
  {
   "cell_type": "markdown",
   "metadata": {},
   "source": [
    "Calculations below give energy supply to end-users on a state-level. This information must be split out by percent in interconnect similar to other sections."
   ]
  },
  {
   "cell_type": "code",
   "execution_count": 110,
   "metadata": {},
   "outputs": [],
   "source": [
    "#read in energy production data\n",
    "energy = pd.read_csv(\"use_all_btu.csv\", usecols = ['State','MSN', \"2015\"])"
   ]
  },
  {
   "cell_type": "code",
   "execution_count": 111,
   "metadata": {},
   "outputs": [],
   "source": [
    "#pivot to obtain information in correct format\n",
    "energy_pivot = pd.pivot_table(energy, values='2015',index=['State'],\n",
    "                    columns=['MSN'], aggfunc=np.sum).reset_index()"
   ]
  },
  {
   "cell_type": "code",
   "execution_count": 112,
   "metadata": {},
   "outputs": [],
   "source": [
    "#reduce to necessary variables\n",
    "energy_pivot = energy_pivot[[\"State\",\n",
    "\"NGRCB\",\n",
    "\"PARCB\",\n",
    "\"WDRCB\",\n",
    "\"GERCB\",\n",
    "\"SORCB\",\n",
    "\"NGCCB\",\n",
    "\"PACCB\",\n",
    "\"WWCCB\",\n",
    "\"CLCCB\",\n",
    "\"GECCB\",\n",
    "\"SOCCB\",\n",
    "\"WYCCB\",\n",
    "\"NGACB\",\n",
    "\"PAACB\",\n",
    "\"EMACB\",\n",
    "\"PAICB\",\n",
    "\"WWICB\",\n",
    "\"NGICB\",\n",
    "\"CLICB\"]]"
   ]
  },
  {
   "cell_type": "code",
   "execution_count": 113,
   "metadata": {},
   "outputs": [],
   "source": [
    "#merge with % in each interconnect file\n",
    "energy_pivot = energy_pivot.rename(columns={\"State\": \"STATE\"})\n",
    "energy_pivot = pd.merge(energy_pivot, pop_table, on=[\"STATE\"])"
   ]
  },
  {
   "cell_type": "markdown",
   "metadata": {},
   "source": [
    "The below calculates the amount of energy supply for each type (e.g. petroleum, solar) in each interconnect"
   ]
  },
  {
   "cell_type": "code",
   "execution_count": 114,
   "metadata": {},
   "outputs": [],
   "source": [
    "\n",
    "#ERCOT\n",
    "energy_pivot[\"NGRCB_ERCOT\"] = energy_pivot[\"NGRCB\"]*energy_pivot[\"ERCOT_frac\"]\n",
    "energy_pivot[\"PARCB_ERCOT\"] = energy_pivot[\"PARCB\"]*energy_pivot[\"ERCOT_frac\"]\n",
    "energy_pivot[\"WDRCB_ERCOT\"] = energy_pivot[\"WDRCB\"]*energy_pivot[\"ERCOT_frac\"]\n",
    "energy_pivot[\"GERCB_ERCOT\"] = energy_pivot[\"GERCB\"]*energy_pivot[\"ERCOT_frac\"]\n",
    "energy_pivot[\"SORCB_ERCOT\"] = energy_pivot[\"SORCB\"]*energy_pivot[\"ERCOT_frac\"]\n",
    "energy_pivot[\"NGCCB_ERCOT\"] = energy_pivot[\"NGCCB\"]*energy_pivot[\"ERCOT_frac\"]\n",
    "energy_pivot[\"PACCB_ERCOT\"] = energy_pivot[\"PACCB\"]*energy_pivot[\"ERCOT_frac\"]\n",
    "energy_pivot[\"WWCCB_ERCOT\"] = energy_pivot[\"WWCCB\"]*energy_pivot[\"ERCOT_frac\"]\n",
    "energy_pivot[\"CLCCB_ERCOT\"] = energy_pivot[\"CLCCB\"]*energy_pivot[\"ERCOT_frac\"]\n",
    "energy_pivot[\"GECCB_ERCOT\"] = energy_pivot[\"GECCB\"]*energy_pivot[\"ERCOT_frac\"]\n",
    "energy_pivot[\"SOCCB_ERCOT\"] = energy_pivot[\"SOCCB\"]*energy_pivot[\"ERCOT_frac\"]\n",
    "energy_pivot[\"WYCCB_ERCOT\"] = energy_pivot[\"WYCCB\"]*energy_pivot[\"ERCOT_frac\"]\n",
    "energy_pivot[\"NGACB_ERCOT\"] = energy_pivot[\"NGACB\"]*energy_pivot[\"ERCOT_frac\"]\n",
    "energy_pivot[\"PAACB_ERCOT\"] = energy_pivot[\"PAACB\"]*energy_pivot[\"ERCOT_frac\"]\n",
    "energy_pivot[\"EMACB_ERCOT\"] = energy_pivot[\"EMACB\"]*energy_pivot[\"ERCOT_frac\"]\n",
    "energy_pivot[\"NGICB_ERCOT\"] = energy_pivot[\"NGICB\"]*energy_pivot[\"ERCOT_frac\"]\n",
    "energy_pivot[\"PAICB_ERCOT\"] = energy_pivot[\"PAICB\"]*energy_pivot[\"ERCOT_frac\"]\n",
    "energy_pivot[\"WWICB_ERCOT\"] = energy_pivot[\"WWICB\"]*energy_pivot[\"ERCOT_frac\"]\n",
    "energy_pivot[\"CLICB_ERCOT\"] = energy_pivot[\"CLICB\"]*energy_pivot[\"ERCOT_frac\"]\n",
    "\n",
    "\n",
    "#East\n",
    "energy_pivot[\"NGRCB_East\"] = energy_pivot[\"NGRCB\"]*energy_pivot[\"East_frac\"]\n",
    "energy_pivot[\"PARCB_East\"] = energy_pivot[\"PARCB\"]*energy_pivot[\"East_frac\"]\n",
    "energy_pivot[\"WDRCB_East\"] = energy_pivot[\"WDRCB\"]*energy_pivot[\"East_frac\"]\n",
    "energy_pivot[\"GERCB_East\"] = energy_pivot[\"GERCB\"]*energy_pivot[\"East_frac\"]\n",
    "energy_pivot[\"SORCB_East\"] = energy_pivot[\"SORCB\"]*energy_pivot[\"East_frac\"]\n",
    "energy_pivot[\"NGCCB_East\"] = energy_pivot[\"NGCCB\"]*energy_pivot[\"East_frac\"]\n",
    "energy_pivot[\"PACCB_East\"] = energy_pivot[\"PACCB\"]*energy_pivot[\"East_frac\"]\n",
    "energy_pivot[\"WWCCB_East\"] = energy_pivot[\"WWCCB\"]*energy_pivot[\"East_frac\"]\n",
    "energy_pivot[\"CLCCB_East\"] = energy_pivot[\"CLCCB\"]*energy_pivot[\"East_frac\"]\n",
    "energy_pivot[\"GECCB_East\"] = energy_pivot[\"GECCB\"]*energy_pivot[\"East_frac\"]\n",
    "energy_pivot[\"SOCCB_East\"] = energy_pivot[\"SOCCB\"]*energy_pivot[\"East_frac\"]\n",
    "energy_pivot[\"WYCCB_East\"] = energy_pivot[\"WYCCB\"]*energy_pivot[\"East_frac\"]\n",
    "energy_pivot[\"NGACB_East\"] = energy_pivot[\"NGACB\"]*energy_pivot[\"East_frac\"]\n",
    "energy_pivot[\"PAACB_East\"] = energy_pivot[\"PAACB\"]*energy_pivot[\"East_frac\"]\n",
    "energy_pivot[\"EMACB_East\"] = energy_pivot[\"EMACB\"]*energy_pivot[\"East_frac\"]\n",
    "energy_pivot[\"NGICB_East\"] = energy_pivot[\"NGICB\"]*energy_pivot[\"East_frac\"]\n",
    "energy_pivot[\"PAICB_East\"] = energy_pivot[\"PAICB\"]*energy_pivot[\"East_frac\"]\n",
    "energy_pivot[\"WWICB_East\"] = energy_pivot[\"WWICB\"]*energy_pivot[\"East_frac\"]\n",
    "energy_pivot[\"CLICB_East\"] = energy_pivot[\"CLICB\"]*energy_pivot[\"East_frac\"]\n",
    "\n",
    "#None\n",
    "energy_pivot[\"NGRCB_None\"] = energy_pivot[\"NGRCB\"]*energy_pivot[\"None_frac\"]\n",
    "energy_pivot[\"PARCB_None\"] = energy_pivot[\"PARCB\"]*energy_pivot[\"None_frac\"]\n",
    "energy_pivot[\"WDRCB_None\"] = energy_pivot[\"WDRCB\"]*energy_pivot[\"None_frac\"]\n",
    "energy_pivot[\"GERCB_None\"] = energy_pivot[\"GERCB\"]*energy_pivot[\"None_frac\"]\n",
    "energy_pivot[\"SORCB_None\"] = energy_pivot[\"SORCB\"]*energy_pivot[\"None_frac\"]\n",
    "energy_pivot[\"NGCCB_None\"] = energy_pivot[\"NGCCB\"]*energy_pivot[\"None_frac\"]\n",
    "energy_pivot[\"PACCB_None\"] = energy_pivot[\"PACCB\"]*energy_pivot[\"None_frac\"]\n",
    "energy_pivot[\"WWCCB_None\"] = energy_pivot[\"WWCCB\"]*energy_pivot[\"None_frac\"]\n",
    "energy_pivot[\"CLCCB_None\"] = energy_pivot[\"CLCCB\"]*energy_pivot[\"None_frac\"]\n",
    "energy_pivot[\"GECCB_None\"] = energy_pivot[\"GECCB\"]*energy_pivot[\"None_frac\"]\n",
    "energy_pivot[\"SOCCB_None\"] = energy_pivot[\"SOCCB\"]*energy_pivot[\"None_frac\"]\n",
    "energy_pivot[\"WYCCB_None\"] = energy_pivot[\"WYCCB\"]*energy_pivot[\"None_frac\"]\n",
    "energy_pivot[\"NGACB_None\"] = energy_pivot[\"NGACB\"]*energy_pivot[\"None_frac\"]\n",
    "energy_pivot[\"PAACB_None\"] = energy_pivot[\"PAACB\"]*energy_pivot[\"None_frac\"]\n",
    "energy_pivot[\"NGICB_None\"] = energy_pivot[\"NGICB\"]*energy_pivot[\"None_frac\"]\n",
    "energy_pivot[\"EMACB_None\"] = energy_pivot[\"EMACB\"]*energy_pivot[\"None_frac\"]\n",
    "energy_pivot[\"PAICB_None\"] = energy_pivot[\"PAICB\"]*energy_pivot[\"None_frac\"]\n",
    "energy_pivot[\"WWICB_None\"] = energy_pivot[\"WWICB\"]*energy_pivot[\"None_frac\"]\n",
    "energy_pivot[\"CLICB_None\"] = energy_pivot[\"CLICB\"]*energy_pivot[\"None_frac\"]\n",
    "\n",
    "#WECC\n",
    "energy_pivot[\"NGRCB_WECC\"] = energy_pivot[\"NGRCB\"]*energy_pivot[\"WECC_frac\"]\n",
    "energy_pivot[\"PARCB_WECC\"] = energy_pivot[\"PARCB\"]*energy_pivot[\"WECC_frac\"]\n",
    "energy_pivot[\"WDRCB_WECC\"] = energy_pivot[\"WDRCB\"]*energy_pivot[\"WECC_frac\"]\n",
    "energy_pivot[\"GERCB_WECC\"] = energy_pivot[\"GERCB\"]*energy_pivot[\"WECC_frac\"]\n",
    "energy_pivot[\"SORCB_WECC\"] = energy_pivot[\"SORCB\"]*energy_pivot[\"WECC_frac\"]\n",
    "energy_pivot[\"NGCCB_WECC\"] = energy_pivot[\"NGCCB\"]*energy_pivot[\"WECC_frac\"]\n",
    "energy_pivot[\"PACCB_WECC\"] = energy_pivot[\"PACCB\"]*energy_pivot[\"WECC_frac\"]\n",
    "energy_pivot[\"WWCCB_WECC\"] = energy_pivot[\"WWCCB\"]*energy_pivot[\"WECC_frac\"]\n",
    "energy_pivot[\"CLCCB_WECC\"] = energy_pivot[\"CLCCB\"]*energy_pivot[\"WECC_frac\"]\n",
    "energy_pivot[\"GECCB_WECC\"] = energy_pivot[\"GECCB\"]*energy_pivot[\"WECC_frac\"]\n",
    "energy_pivot[\"SOCCB_WECC\"] = energy_pivot[\"SOCCB\"]*energy_pivot[\"WECC_frac\"]\n",
    "energy_pivot[\"WYCCB_WECC\"] = energy_pivot[\"WYCCB\"]*energy_pivot[\"WECC_frac\"]\n",
    "energy_pivot[\"NGACB_WECC\"] = energy_pivot[\"NGACB\"]*energy_pivot[\"WECC_frac\"]\n",
    "energy_pivot[\"PAACB_WECC\"] = energy_pivot[\"PAACB\"]*energy_pivot[\"WECC_frac\"]\n",
    "energy_pivot[\"NGICB_WECC\"] = energy_pivot[\"NGICB\"]*energy_pivot[\"WECC_frac\"]\n",
    "energy_pivot[\"EMACB_WECC\"] = energy_pivot[\"EMACB\"]*energy_pivot[\"WECC_frac\"]\n",
    "energy_pivot[\"PAICB_WECC\"] = energy_pivot[\"PAICB\"]*energy_pivot[\"WECC_frac\"]\n",
    "energy_pivot[\"WWICB_WECC\"] = energy_pivot[\"WWICB\"]*energy_pivot[\"WECC_frac\"]\n",
    "energy_pivot[\"CLICB_WECC\"] = energy_pivot[\"CLICB\"]*energy_pivot[\"WECC_frac\"]"
   ]
  },
  {
   "cell_type": "code",
   "execution_count": 115,
   "metadata": {},
   "outputs": [],
   "source": [
    "#ERCOT\n",
    "ERCOT_energy = pd.DataFrame()\n",
    "\n",
    "NGR_E = energy_pivot[\"NGRCB_ERCOT\"].sum()\n",
    "PAR_E = energy_pivot[\"PARCB_ERCOT\"].sum()\n",
    "WDR_E = energy_pivot[\"WDRCB_ERCOT\"].sum()\n",
    "GER_E = energy_pivot[\"GERCB_ERCOT\"].sum()\n",
    "SOR_E = energy_pivot[\"SORCB_ERCOT\"].sum()\n",
    "NGC_E = energy_pivot[\"NGCCB_ERCOT\"].sum()\n",
    "PAC_E = energy_pivot[\"PACCB_ERCOT\"].sum()\n",
    "WWC_E = energy_pivot[\"WWCCB_ERCOT\"].sum()\n",
    "CLC_E = energy_pivot[\"CLCCB_ERCOT\"].sum()\n",
    "GEC_E = energy_pivot[\"GECCB_ERCOT\"].sum()\n",
    "SOC_E = energy_pivot[\"SOCCB_ERCOT\"].sum()\n",
    "WYC_E = energy_pivot[\"WYCCB_ERCOT\"].sum()\n",
    "NGA_E = energy_pivot[\"NGACB_ERCOT\"].sum()\n",
    "PAA_E = energy_pivot[\"PAACB_ERCOT\"].sum()\n",
    "EMA_A = energy_pivot[\"EMACB_ERCOT\"].sum()\n",
    "PAI_E = energy_pivot[\"PAICB_ERCOT\"].sum()\n",
    "NGI_E = energy_pivot[\"NGICB_ERCOT\"].sum()\n",
    "WWI_E = energy_pivot[\"WWICB_ERCOT\"].sum()\n",
    "CLI_E = energy_pivot[\"CLICB_ERCOT\"].sum()\n",
    "\n",
    "ERCOT_energy['NGR'] = [NGR_E]\n",
    "ERCOT_energy['PAR'] = [PAR_E]\n",
    "ERCOT_energy['WDR'] = [WDR_E]\n",
    "ERCOT_energy['GER'] = [GER_E]\n",
    "ERCOT_energy['SOR'] = [SOR_E]\n",
    "ERCOT_energy['NGC'] = [NGC_E]\n",
    "ERCOT_energy['PAC'] = [PAC_E]\n",
    "ERCOT_energy['WWC'] = [WWC_E]\n",
    "ERCOT_energy['CLC'] = [CLC_E]\n",
    "ERCOT_energy['GEC'] = [GEC_E]\n",
    "ERCOT_energy['SOC'] = [SOC_E]\n",
    "ERCOT_energy['WYC'] = [WYC_E]\n",
    "ERCOT_energy['NGA'] = [NGA_E]\n",
    "ERCOT_energy['PAA'] = [PAA_E]\n",
    "ERCOT_energy['NGI'] = [NGI_E]\n",
    "ERCOT_energy['EMA'] = [EMA_A]\n",
    "ERCOT_energy['PAI'] = [PAI_E]\n",
    "ERCOT_energy['WWI'] = [WWI_E]\n",
    "ERCOT_energy['CLI'] = [CLI_E]\n",
    "\n",
    "ERCOT_energy[\"Interconnect\"] = \"ERCOT\""
   ]
  },
  {
   "cell_type": "code",
   "execution_count": 116,
   "metadata": {},
   "outputs": [],
   "source": [
    "#East\n",
    "East_energy = pd.DataFrame()\n",
    "\n",
    "NGR_Ea = energy_pivot[\"NGRCB_East\"].sum()\n",
    "PAR_Ea = energy_pivot[\"PARCB_East\"].sum()\n",
    "WDR_Ea = energy_pivot[\"WDRCB_East\"].sum()\n",
    "GER_Ea = energy_pivot[\"GERCB_East\"].sum()\n",
    "SOR_Ea = energy_pivot[\"SORCB_East\"].sum()\n",
    "NGC_Ea = energy_pivot[\"NGCCB_East\"].sum()\n",
    "PAC_Ea = energy_pivot[\"PACCB_East\"].sum()\n",
    "WWC_Ea = energy_pivot[\"WWCCB_East\"].sum()\n",
    "CLC_Ea = energy_pivot[\"CLCCB_East\"].sum()\n",
    "GEC_Ea = energy_pivot[\"GECCB_East\"].sum()\n",
    "SOC_Ea = energy_pivot[\"SOCCB_East\"].sum()\n",
    "WYC_Ea = energy_pivot[\"WYCCB_East\"].sum()\n",
    "NGA_Ea = energy_pivot[\"NGACB_East\"].sum()\n",
    "PAA_Ea = energy_pivot[\"PAACB_East\"].sum()\n",
    "NGI_Ea = energy_pivot[\"NGICB_East\"].sum()\n",
    "EMA_Ea = energy_pivot[\"EMACB_East\"].sum()\n",
    "PAI_Ea = energy_pivot[\"PAICB_East\"].sum()\n",
    "WWI_Ea = energy_pivot[\"WWICB_East\"].sum()\n",
    "CLI_Ea = energy_pivot[\"CLICB_East\"].sum()\n",
    "\n",
    "East_energy['NGR'] = [NGR_Ea]\n",
    "East_energy['PAR'] = [PAR_Ea]\n",
    "East_energy['WDR'] = [WDR_Ea]\n",
    "East_energy['GER'] = [GER_Ea]\n",
    "East_energy['SOR'] = [SOR_Ea]\n",
    "East_energy['NGC'] = [NGC_Ea]\n",
    "East_energy['PAC'] = [PAC_Ea]\n",
    "East_energy['WWC'] = [WWC_Ea]\n",
    "East_energy['CLC'] = [CLC_Ea]\n",
    "East_energy['GEC'] = [GEC_Ea]\n",
    "East_energy['SOC'] = [SOC_Ea]\n",
    "East_energy['WYC'] = [WYC_Ea]\n",
    "East_energy['NGA'] = [NGA_Ea]\n",
    "East_energy['PAA'] = [PAA_Ea]\n",
    "East_energy['NGI'] = [NGI_Ea]\n",
    "East_energy['EMA'] = [EMA_Ea]\n",
    "East_energy['PAI'] = [PAI_Ea]\n",
    "East_energy['WWI'] = [WWI_Ea]\n",
    "East_energy['CLI'] = [CLI_Ea]\n",
    "\n",
    "East_energy[\"Interconnect\"] = \"East\""
   ]
  },
  {
   "cell_type": "code",
   "execution_count": 117,
   "metadata": {},
   "outputs": [],
   "source": [
    "#None\n",
    "None_energy = pd.DataFrame()\n",
    "\n",
    "NGR_N = energy_pivot[\"NGRCB_None\"].sum()\n",
    "PAR_N = energy_pivot[\"PARCB_None\"].sum()\n",
    "WDR_N = energy_pivot[\"WDRCB_None\"].sum()\n",
    "GER_N = energy_pivot[\"GERCB_None\"].sum()\n",
    "SOR_N = energy_pivot[\"SORCB_None\"].sum()\n",
    "NGC_N = energy_pivot[\"NGCCB_None\"].sum()\n",
    "PAC_N = energy_pivot[\"PACCB_None\"].sum()\n",
    "WWC_N = energy_pivot[\"WWCCB_None\"].sum()\n",
    "CLC_N = energy_pivot[\"CLCCB_None\"].sum()\n",
    "GEC_N = energy_pivot[\"GECCB_None\"].sum()\n",
    "SOC_N = energy_pivot[\"SOCCB_None\"].sum()\n",
    "WYC_N = energy_pivot[\"WYCCB_None\"].sum()\n",
    "NGA_N = energy_pivot[\"NGACB_None\"].sum()\n",
    "PAA_N = energy_pivot[\"PAACB_None\"].sum()\n",
    "NGI_N = energy_pivot[\"NGICB_None\"].sum()\n",
    "EMA_N = energy_pivot[\"EMACB_None\"].sum()\n",
    "PAI_N = energy_pivot[\"PAICB_None\"].sum()\n",
    "WWI_N = energy_pivot[\"WWICB_None\"].sum()\n",
    "CLI_N = energy_pivot[\"CLICB_None\"].sum()\n",
    "\n",
    "None_energy['NGR'] = [NGR_N]\n",
    "None_energy['PAR'] = [PAR_N]\n",
    "None_energy['WDR'] = [WDR_N]\n",
    "None_energy['GER'] = [GER_N]\n",
    "None_energy['SOR'] = [SOR_N]\n",
    "None_energy['NGC'] = [NGC_N]\n",
    "None_energy['PAC'] = [PAC_N]\n",
    "None_energy['WWC'] = [WWC_N]\n",
    "None_energy['CLC'] = [CLC_N]\n",
    "None_energy['GEC'] = [GEC_N]\n",
    "None_energy['SOC'] = [SOC_N]\n",
    "None_energy['WYC'] = [WYC_N]\n",
    "None_energy['NGA'] = [NGA_N]\n",
    "None_energy['PAA'] = [PAA_N]\n",
    "None_energy['NGI'] = [NGI_N]\n",
    "None_energy['EMA'] = [EMA_N]\n",
    "None_energy['PAI'] = [PAI_N]\n",
    "None_energy['WWI'] = [WWI_N]\n",
    "None_energy['CLI'] = [CLI_N]\n",
    "\n",
    "None_energy[\"Interconnect\"] = \"None\""
   ]
  },
  {
   "cell_type": "code",
   "execution_count": 118,
   "metadata": {},
   "outputs": [],
   "source": [
    "#WECC\n",
    "WECC_energy = pd.DataFrame()\n",
    "\n",
    "NGR_W = energy_pivot[\"NGRCB_WECC\"].sum()\n",
    "PAR_W = energy_pivot[\"PARCB_WECC\"].sum()\n",
    "WDR_W = energy_pivot[\"WDRCB_WECC\"].sum()\n",
    "GER_W = energy_pivot[\"GERCB_WECC\"].sum()\n",
    "SOR_W = energy_pivot[\"SORCB_WECC\"].sum()\n",
    "NGC_W = energy_pivot[\"NGCCB_WECC\"].sum()\n",
    "PAC_W = energy_pivot[\"PACCB_WECC\"].sum()\n",
    "WWC_W = energy_pivot[\"WWCCB_WECC\"].sum()\n",
    "CLC_W = energy_pivot[\"CLCCB_WECC\"].sum()\n",
    "GEC_W = energy_pivot[\"GECCB_WECC\"].sum()\n",
    "SOC_W = energy_pivot[\"SOCCB_WECC\"].sum()\n",
    "WYC_W = energy_pivot[\"WYCCB_WECC\"].sum()\n",
    "NGA_W = energy_pivot[\"NGACB_WECC\"].sum()\n",
    "PAA_W = energy_pivot[\"PAACB_WECC\"].sum()\n",
    "NGI_W = energy_pivot[\"NGICB_WECC\"].sum()\n",
    "EMA_W = energy_pivot[\"EMACB_WECC\"].sum()\n",
    "PAI_W = energy_pivot[\"PAICB_WECC\"].sum()\n",
    "WWI_W = energy_pivot[\"WWICB_WECC\"].sum()\n",
    "CLI_W = energy_pivot[\"CLICB_WECC\"].sum()\n",
    "\n",
    "WECC_energy['NGR'] = [NGR_W]\n",
    "WECC_energy['PAR'] = [PAR_W]\n",
    "WECC_energy['WDR'] = [WDR_W]\n",
    "WECC_energy['GER'] = [GER_W]\n",
    "WECC_energy['SOR'] = [SOR_W]\n",
    "WECC_energy['NGC'] = [NGC_W]\n",
    "WECC_energy['PAC'] = [PAC_W]\n",
    "WECC_energy['WWC'] = [WWC_W]\n",
    "WECC_energy['CLC'] = [CLC_W]\n",
    "WECC_energy['GEC'] = [GEC_W]\n",
    "WECC_energy['SOC'] = [SOC_W]\n",
    "WECC_energy['WYC'] = [WYC_W]\n",
    "WECC_energy['NGA'] = [NGA_W]\n",
    "WECC_energy['PAA'] = [PAA_W]\n",
    "WECC_energy['NGI'] = [NGI_W]\n",
    "WECC_energy['EMA'] = [EMA_W]\n",
    "WECC_energy['PAI'] = [PAI_W]\n",
    "WECC_energy['WWI'] = [WWI_W]\n",
    "WECC_energy['CLI'] = [CLI_W]\n",
    "\n",
    "WECC_energy[\"Interconnect\"] = \"WECC\""
   ]
  },
  {
   "cell_type": "code",
   "execution_count": 119,
   "metadata": {},
   "outputs": [],
   "source": [
    "#bring all values back together to one dataframe by interconnect\n",
    "Energy = [WECC_energy, East_energy, None_energy, ERCOT_energy]\n",
    "Eng_del = pd.concat(Energy)\n",
    "\n",
    "Eng_del[\"Com_Eng\"] = Eng_del['NGC'] + Eng_del['PAC'] + Eng_del['WWC'] + Eng_del['CLC'] + Eng_del['GEC'] + Eng_del['SOC'] + Eng_del['WYC']\n",
    "Eng_del[\"Ind_Eng\"] = Eng_del['NGI'] + Eng_del['PAI'] + Eng_del['WWI'] + Eng_del['CLI']\n",
    "\n",
    "#combining industrial and commercial here. Can be undone\n",
    "Eng_del[\"NG_INCO\"] = Eng_del[\"NGC\"] + Eng_del[\"NGI\"]\n",
    "Eng_del[\"PA_INCO\"] = Eng_del[\"PAC\"] + Eng_del[\"PAI\"]\n",
    "Eng_del[\"WW_INCO\"] = Eng_del[\"WWC\"] + Eng_del[\"WWI\"]\n",
    "Eng_del[\"CL_INCO\"] = Eng_del[\"CLC\"] + Eng_del[\"CLI\"]\n",
    "\n",
    "#drop unnecessary values\n",
    "Eng_del = Eng_del.drop([\"NGC\", \"NGI\",\"PAC\", \"PAI\", \"WWC\",\"WWI\", \"CLC\", \"CLI\"], axis=1)"
   ]
  },
  {
   "cell_type": "code",
   "execution_count": 120,
   "metadata": {},
   "outputs": [],
   "source": [
    "#merge with main dataset\n",
    "Interconnection_Complete = pd.merge(Interconnection_Complete, Eng_del, how=\"left\", on=[\"Interconnect\"])"
   ]
  },
  {
   "cell_type": "markdown",
   "metadata": {},
   "source": [
    "<h2> Rejected Energy and Energy Services from End-users (electricity & energy deliveries)"
   ]
  },
  {
   "cell_type": "markdown",
   "metadata": {},
   "source": [
    "Below calculates the amount of rejected energy and energy services by end-users. This amount includes electricity deliveries to each sector."
   ]
  },
  {
   "cell_type": "code",
   "execution_count": 121,
   "metadata": {
    "scrolled": true
   },
   "outputs": [],
   "source": [
    "Interconnection_Complete[\"CO_RE\"] = 0.35*(Interconnection_Complete[\"Com_Eng\"] + Interconnection_Complete[\"CO_bbtu\"])\n",
    "Interconnection_Complete[\"IN_RE\"] = 0.51*(Interconnection_Complete[\"Ind_Eng\"] + Interconnection_Complete[\"IN_bbtu\"])\n",
    "Interconnection_Complete[\"INCO_RE\"] = Interconnection_Complete[\"CO_RE\"] + Interconnection_Complete[\"IN_RE\"]\n",
    "\n",
    "\n",
    "#Using separate efficiency values for industrial and commercial and combining their values together\n",
    "Interconnection_Complete[\"CO_ES\"] = (1-0.35)*(Interconnection_Complete[\"Com_Eng\"] + Interconnection_Complete[\"CO_bbtu\"])\n",
    "Interconnection_Complete[\"IN_ES\"] = (1-0.51)*(Interconnection_Complete[\"Ind_Eng\"] + Interconnection_Complete[\"IN_bbtu\"])\n",
    "Interconnection_Complete[\"INCO_ES\"] = Interconnection_Complete[\"CO_ES\"] + Interconnection_Complete[\"IN_ES\"]\n",
    "\n",
    "#residential\n",
    "Interconnection_Complete[\"DO_RE\"] = 0.35*(Interconnection_Complete[\"DO_bbtu\"] + Interconnection_Complete[\"NGR\"]+ \n",
    "                                          Interconnection_Complete[\"PAR\"]+ Interconnection_Complete[\"WDR\"] + \n",
    "                                          Interconnection_Complete[\"GER\"] + Interconnection_Complete[\"SOR\"])\n",
    "\n",
    "Interconnection_Complete[\"DO_ES\"] = (1-0.35)*(Interconnection_Complete[\"DO_bbtu\"] + Interconnection_Complete[\"NGR\"]+\n",
    "                                          Interconnection_Complete[\"PAR\"]+ Interconnection_Complete[\"WDR\"] +\n",
    "                                          Interconnection_Complete[\"GER\"] + Interconnection_Complete[\"SOR\"])\n",
    "#transportation                                          \n",
    "Interconnection_Complete[\"TR_RE\"] = 0.79*(Interconnection_Complete[\"TR_bbtu\"] + Interconnection_Complete['NGA'] + \n",
    "                                          Interconnection_Complete['PAA'] + Interconnection_Complete['EMA'])\n",
    "Interconnection_Complete[\"TR_ES\"] = (1-0.79)*(Interconnection_Complete[\"TR_bbtu\"] + Interconnection_Complete['NGA'] + \n",
    "                                          Interconnection_Complete['PAA'] + Interconnection_Complete['EMA'])"
   ]
  },
  {
   "cell_type": "markdown",
   "metadata": {},
   "source": [
    "## Energy Production"
   ]
  },
  {
   "cell_type": "markdown",
   "metadata": {},
   "source": [
    "Energy production data is taken from SEDS state-level data for 2015 under the following codes. Data is in bbtu/yr.\n",
    "EIA SEDS data under codes: \n",
    "* Petroleum - PAPRB\n",
    "* Biomass - EMFDB\n",
    "* Natural Gas - NGMPB\n",
    "* Coal - CLPRB\n",
    "* Nuclear - NUETB\n",
    "* Geothermal - GETCB\n",
    "* Hydro - HYTCB\n",
    "* Wind - WYTCB\n",
    "* Solar - SOTCB\n",
    "\n",
    "Note: LLNL notes a code for Nuclear that doesn't exist (NUEGB). Actual SEDS code is NUETB"
   ]
  },
  {
   "cell_type": "code",
   "execution_count": 122,
   "metadata": {},
   "outputs": [],
   "source": [
    "SEDS = pd.read_excel(r'./eia_SEDS_Prod_dataset.xlsx', sheet_name='Data',skiprows=1) #read in SEDS data\n",
    "SEDS[\"Values\"] = SEDS[2015] #change column 2015 to values\n",
    "SEDS = SEDS[[\"StateCode\", \"MSN\", \"Values\"]] #reduce to needed variables\n",
    "\n",
    "MSN = ['PAPRB', 'EMFDB','NGMPB','CLPRB','NUETB','GETCB','HYTCB','WYTCB','SOTCB'] #list of MSN codes to include\n",
    "SEDS = SEDS[SEDS['MSN'].isin(MSN)] #reduce rows to only MSN codes of interest\n",
    "\n",
    "SEDS = SEDS.rename(columns={\"StateCode\": \"STATE\"}) #rename to prep for merge"
   ]
  },
  {
   "cell_type": "code",
   "execution_count": 123,
   "metadata": {},
   "outputs": [
    {
     "data": {
      "text/html": [
       "<div>\n",
       "<style scoped>\n",
       "    .dataframe tbody tr th:only-of-type {\n",
       "        vertical-align: middle;\n",
       "    }\n",
       "\n",
       "    .dataframe tbody tr th {\n",
       "        vertical-align: top;\n",
       "    }\n",
       "\n",
       "    .dataframe thead th {\n",
       "        text-align: right;\n",
       "    }\n",
       "</style>\n",
       "<table border=\"1\" class=\"dataframe\">\n",
       "  <thead>\n",
       "    <tr style=\"text-align: right;\">\n",
       "      <th></th>\n",
       "      <th>Values</th>\n",
       "    </tr>\n",
       "    <tr>\n",
       "      <th>MSN</th>\n",
       "      <th></th>\n",
       "    </tr>\n",
       "  </thead>\n",
       "  <tbody>\n",
       "    <tr>\n",
       "      <th>CLPRB</th>\n",
       "      <td>35862041.0</td>\n",
       "    </tr>\n",
       "    <tr>\n",
       "      <th>EMFDB</th>\n",
       "      <td>3996033.0</td>\n",
       "    </tr>\n",
       "    <tr>\n",
       "      <th>GETCB</th>\n",
       "      <td>423672.0</td>\n",
       "    </tr>\n",
       "    <tr>\n",
       "      <th>HYTCB</th>\n",
       "      <td>4642355.0</td>\n",
       "    </tr>\n",
       "    <tr>\n",
       "      <th>NGMPB</th>\n",
       "      <td>65434409.0</td>\n",
       "    </tr>\n",
       "  </tbody>\n",
       "</table>\n",
       "</div>"
      ],
      "text/plain": [
       "           Values\n",
       "MSN              \n",
       "CLPRB  35862041.0\n",
       "EMFDB   3996033.0\n",
       "GETCB    423672.0\n",
       "HYTCB   4642355.0\n",
       "NGMPB  65434409.0"
      ]
     },
     "execution_count": 123,
     "metadata": {},
     "output_type": "execute_result"
    }
   ],
   "source": [
    "SEDS_copy = SEDS.groupby([\"MSN\"]).sum()\n",
    "SEDS_copy.head()"
   ]
  },
  {
   "cell_type": "code",
   "execution_count": 125,
   "metadata": {},
   "outputs": [],
   "source": [
    "#merge with population interconnect table to split out values\n",
    "SEDS = pd.merge(SEDS, pop_table, on=\"STATE\", how='left')\n",
    "SEDS[\"ERCOT\"] = SEDS[\"Values\"]*SEDS[\"ERCOT_frac\"]\n",
    "SEDS[\"East\"] = SEDS[\"Values\"]*SEDS[\"East_frac\"]\n",
    "SEDS[\"None\"] = SEDS[\"Values\"]*SEDS[\"None_frac\"]\n",
    "SEDS[\"WECC\"] = SEDS[\"Values\"]*SEDS[\"WECC_frac\"]"
   ]
  },
  {
   "cell_type": "code",
   "execution_count": 126,
   "metadata": {},
   "outputs": [
    {
     "data": {
      "text/html": [
       "<div>\n",
       "<style scoped>\n",
       "    .dataframe tbody tr th:only-of-type {\n",
       "        vertical-align: middle;\n",
       "    }\n",
       "\n",
       "    .dataframe tbody tr th {\n",
       "        vertical-align: top;\n",
       "    }\n",
       "\n",
       "    .dataframe thead th {\n",
       "        text-align: right;\n",
       "    }\n",
       "</style>\n",
       "<table border=\"1\" class=\"dataframe\">\n",
       "  <thead>\n",
       "    <tr style=\"text-align: right;\">\n",
       "      <th>MSN</th>\n",
       "      <th>Interconnect</th>\n",
       "      <th>CLPRB</th>\n",
       "      <th>EMFDB</th>\n",
       "      <th>GETCB</th>\n",
       "      <th>HYTCB</th>\n",
       "      <th>NGMPB</th>\n",
       "      <th>NUETB</th>\n",
       "      <th>PAPRB</th>\n",
       "      <th>SOTCB</th>\n",
       "      <th>WYTCB</th>\n",
       "    </tr>\n",
       "  </thead>\n",
       "  <tbody>\n",
       "    <tr>\n",
       "      <th>0</th>\n",
       "      <td>ERCOT</td>\n",
       "      <td>427119.0</td>\n",
       "      <td>46165.0</td>\n",
       "      <td>2246.0</td>\n",
       "      <td>8078.0</td>\n",
       "      <td>8512634.0</td>\n",
       "      <td>373023.0</td>\n",
       "      <td>6521689.0</td>\n",
       "      <td>5799.0</td>\n",
       "      <td>378671.0</td>\n",
       "    </tr>\n",
       "    <tr>\n",
       "      <th>1</th>\n",
       "      <td>East</td>\n",
       "      <td>9034534.0</td>\n",
       "      <td>1855643.0</td>\n",
       "      <td>49833.0</td>\n",
       "      <td>901363.0</td>\n",
       "      <td>16097668.0</td>\n",
       "      <td>7332265.0</td>\n",
       "      <td>5263170.0</td>\n",
       "      <td>117040.0</td>\n",
       "      <td>959228.0</td>\n",
       "    </tr>\n",
       "    <tr>\n",
       "      <th>2</th>\n",
       "      <td>None</td>\n",
       "      <td>17747.0</td>\n",
       "      <td>0.0</td>\n",
       "      <td>2340.0</td>\n",
       "      <td>15750.0</td>\n",
       "      <td>380887.0</td>\n",
       "      <td>0.0</td>\n",
       "      <td>1007501.0</td>\n",
       "      <td>8367.0</td>\n",
       "      <td>7198.0</td>\n",
       "    </tr>\n",
       "    <tr>\n",
       "      <th>3</th>\n",
       "      <td>WECC</td>\n",
       "      <td>8451621.0</td>\n",
       "      <td>96208.0</td>\n",
       "      <td>157395.0</td>\n",
       "      <td>1395987.0</td>\n",
       "      <td>6285787.0</td>\n",
       "      <td>631599.0</td>\n",
       "      <td>3677067.0</td>\n",
       "      <td>295354.0</td>\n",
       "      <td>432209.0</td>\n",
       "    </tr>\n",
       "  </tbody>\n",
       "</table>\n",
       "</div>"
      ],
      "text/plain": [
       "MSN Interconnect      CLPRB      EMFDB     GETCB      HYTCB       NGMPB  \\\n",
       "0          ERCOT   427119.0    46165.0    2246.0     8078.0   8512634.0   \n",
       "1           East  9034534.0  1855643.0   49833.0   901363.0  16097668.0   \n",
       "2           None    17747.0        0.0    2340.0    15750.0    380887.0   \n",
       "3           WECC  8451621.0    96208.0  157395.0  1395987.0   6285787.0   \n",
       "\n",
       "MSN      NUETB      PAPRB     SOTCB     WYTCB  \n",
       "0     373023.0  6521689.0    5799.0  378671.0  \n",
       "1    7332265.0  5263170.0  117040.0  959228.0  \n",
       "2          0.0  1007501.0    8367.0    7198.0  \n",
       "3     631599.0  3677067.0  295354.0  432209.0  "
      ]
     },
     "execution_count": 126,
     "metadata": {},
     "output_type": "execute_result"
    }
   ],
   "source": [
    "#reduce down to necessary variables\n",
    "SEDS = SEDS[[\"MSN\", 'ERCOT','East', \"None\",'WECC']]\n",
    "SEDS = SEDS.groupby([\"MSN\"], as_index=False).sum() #group by MSN\n",
    "SEDS = SEDS.set_index(\"MSN\") #set index to prep for transpose\n",
    "\n",
    "SEDS = SEDS.T #transpose to get interconnect as rows\n",
    "SEDS = SEDS.reset_index() #reset the index\n",
    "SEDS = SEDS.round() #round the values\n",
    "SEDS = SEDS.rename(columns={\"index\": \"Interconnect\"}) #rename to prep to merge with main dataframe\n",
    "SEDS.head()"
   ]
  },
  {
   "cell_type": "code",
   "execution_count": 127,
   "metadata": {},
   "outputs": [],
   "source": [
    "#merge with main dataset\n",
    "Interconnection_Complete = pd.merge(Interconnection_Complete, SEDS, how=\"left\", on=[\"Interconnect\"])"
   ]
  },
  {
   "cell_type": "markdown",
   "metadata": {},
   "source": [
    "## Water in Energy Production"
   ]
  },
  {
   "cell_type": "markdown",
   "metadata": {},
   "source": [
    "### Water in Biomass (Ethanol production)"
   ]
  },
  {
   "cell_type": "markdown",
   "metadata": {},
   "source": [
    "Data on water used in corn growth for ethanol production does not exist explicitly at any level of granularity and must be calculated out from larger state-level totals. \n",
    "\n",
    "The percent of corn grown for ethanol in the US was used from US DOE Alternative Fuels Data Center (https://afdc.energy.gov/data/10339). Total corn production for ethanol was divided by total corn produciton for 2015 and calculated to be 38.406%. Data on a state or county level does not exist, therefore, this percentage is applied to all states with corn production.\n",
    "\n",
    "Frac_ethanol = 0.38406\n",
    "\n",
    "\n",
    "Total water used in the production of corn for ethanol is therefore the Frac_ethanol multiplied by the product of the total amount of irrigated acres of corn AC_Irr_Corn (USDA FRIS) and the irrigation intensity of corn (IRR_Intensity).\n",
    "\n",
    "Total_Ethanol = Frac_ethanol * AC_Irr_Corn * Irr_Intensity\n",
    "\n",
    "\n",
    "The irrigation intensity of corn (IRR_Intensity) is calculated as the fraction of applied acre-feet of water and the total number of acres irrigated of corn (USDA FRIS).\n",
    "\n",
    "To split the values between Surface and groundwater, FRIS Census of Ag. data on the fraction of surface water (Surface water + off farm water) from total water supply (including groundwater) in corn production is used \n",
    "\n",
    "Lastly, crosschecking the total USGS irrigation water data for 2015 (Dieter et al. 2019) for split states in total vs. counties revealed a large difference (81% of TX surface water and only 28% of TX groundwater is in ERCOT counties, for example). These ratios, therefore, were applied to the total groundwater and surface water calculated for ethanol production (FGW_Bio and FSW_Bio). This is effectively a top-down approach to reach ERCOT boundaries as opposed to building up from the county level.\n",
    "\n",
    "To calculate the consumptive use of water in biomass energy supply, the consumptive fraction for irrigation from 2015 is applied (USGS 2015 data). Given that all irrigation/agriculture water is assumed to be discharged to the surface, all water that is not consumed is assumed to be discharged to the surface, giving us the total surface discharge as well.\n"
   ]
  },
  {
   "cell_type": "code",
   "execution_count": 128,
   "metadata": {},
   "outputs": [],
   "source": [
    "bio_df = pd.read_excel(r\"C:\\Users\\mong275\\Local Files\\Sankey_Notebook_Development\\SankeyFiles\\USDA_FRIS.xlsx\")\n",
    "\n",
    "#replaces NAN with 0\n",
    "bio_df.fillna(0, inplace=True)"
   ]
  },
  {
   "cell_type": "code",
   "execution_count": 129,
   "metadata": {},
   "outputs": [],
   "source": [
    "#corn production fraction\n",
    "Frac_ethanol = 0.38406\n",
    "#gallons in an acre-ft\n",
    "gal_acre_ft = 325851\n",
    "\n",
    "#amount of corn produced for ethanol in each state\n",
    "bio_df[\"Ethanol_Corn_Production\"] = Frac_ethanol * bio_df[\"Acres_Corn_Harvested\"]\n",
    "\n",
    "#changing acre-ft of irrigation to MGY for all irrigation\n",
    "bio_df[\"MGY_Applied\"] = ((gal_acre_ft * bio_df[\"Acre-feet-Applied_All\"])/1000000)\n",
    "\n",
    "#calculating the irrigation intensity by state MGY/acre\n",
    "bio_df[\"Irrigation_intensity\"] = bio_df[\"MGY_Applied\"]/bio_df[\"Total_Acres_Irrigated_All\"]\n",
    "\n",
    "#corn for ethanol irrigation by state\n",
    "bio_df[\"ethanol_irr\"] = bio_df[\"Irrigation_intensity\"]*bio_df[\"Ethanol_Corn_Production\"]"
   ]
  },
  {
   "cell_type": "code",
   "execution_count": 130,
   "metadata": {},
   "outputs": [],
   "source": [
    "#adds off-farm and surface together for surface\n",
    "bio_df[\"Total_Surface\"] = bio_df[\"Off\"] + bio_df[\"Surface\"]\n",
    "#combines surface and ground for total\n",
    "bio_df[\"Total\"] = bio_df[\"Total_Surface\"] + bio_df[\"Ground\"]\n",
    "\n",
    "#computes the fraction of surface to gound water\n",
    "bio_df[\"Total_Surface\"] = bio_df[\"Total_Surface\"]/bio_df[\"Total\"]\n",
    "bio_df[\"Total_Ground\"] = bio_df[\"Ground\"]/bio_df[\"Total\"]\n",
    "\n",
    "#multiplies the fractions by the total amount of water used in ethanol irrigation to split it out\n",
    "bio_df[\"Ethanol_Surface\"] = bio_df[\"Total_Surface\"]*bio_df[\"ethanol_irr\"]\n",
    "bio_df[\"Ethanol_Ground\"] = bio_df[\"Total_Ground\"]*bio_df[\"ethanol_irr\"]\n",
    "\n",
    "#replaces NAN with 0\n",
    "bio_df.fillna(0, inplace=True)\n",
    "\n",
    "#simplifies df\n",
    "bio_df = bio_df[[\"STATE\", \"Ethanol_Surface\",\"Ethanol_Ground\"]]"
   ]
  },
  {
   "cell_type": "markdown",
   "metadata": {},
   "source": [
    "Water applied (acre-ft) is only at the state level for 2018 \n",
    "https://www.nass.usda.gov/Publications/AgCensus/2017/Online_Resources/Farm_and_Ranch_Irrigation_Survey/index.php\n",
    "\n",
    "Source: 2018 Census of Agriculture Irrigation and Water Management Survey (2018): Released November 13, 2019, by the National Agricultural Statistics Service (NASS), Agricultural Statistics Board, U.S. Department of Agriculture."
   ]
  },
  {
   "cell_type": "code",
   "execution_count": 131,
   "metadata": {},
   "outputs": [],
   "source": [
    "#USGS 2015 water data\n",
    "USGS = pd.read_excel(\"usco2015v2.0.xlsx\", skiprows=1, dtype={'FIPS':str})\n",
    "\n",
    "#Interconnect by county data file\n",
    "interconnect = pd.read_excel(\"County_Interconnect_List.xlsx\", dtype={'FIPS':str})\n",
    "#Dropping unnecessary columns\n",
    "interconnect = interconnect.drop([\"STATE\",\"STATEFIPS\",\"COUNTY\",\"COUNTYFIPS\",\"YEAR\",\"Unnamed: 8\"], axis =1)\n",
    "\n",
    "USGS = pd.merge(USGS, interconnect, how=\"left\", on=[\"FIPS\"]) #merging datafiles\n",
    "USGS.replace(\"--\", 0, inplace=True) #replacing characters for missing data with value of zero"
   ]
  },
  {
   "cell_type": "code",
   "execution_count": 132,
   "metadata": {},
   "outputs": [],
   "source": [
    "#grabbing just crop irrigation and consumption (for later)\n",
    "USGS = USGS[[\"STATE\",\"Interconnect\",\"FIPS\",\"IR-WFrTo\",\"IR-CUsFr\"]]\n",
    "\n",
    "#creates a separate copy\n",
    "USGS2 = USGS.groupby([\"STATE\",\"Interconnect\"], as_index=False).sum()  \n",
    "\n",
    "#calculates the total irrigation in each state to get the fraction by interconnect\n",
    "USGS_sum = USGS2.groupby([\"STATE\"], as_index=False).sum()  \n",
    "USGS_sum = USGS_sum.rename(columns={\"IR-WFrTo\": \"Total\"})\n",
    "\n",
    "#merges the two together\n",
    "USGS2 = pd.merge(USGS2, USGS_sum, how=\"left\", on=[\"STATE\"]) #merging datafiles\n",
    "\n",
    "#brings the information together with the df of ethanol values\n",
    "ethanol = pd.merge(USGS2, bio_df, how=\"left\", on=[\"STATE\"]) #merging datafiles"
   ]
  },
  {
   "cell_type": "code",
   "execution_count": 133,
   "metadata": {},
   "outputs": [],
   "source": [
    "#calculating consumption at the state level\n",
    "USGS[\"Irr_CF\"] = np.where(USGS[\"IR-WFrTo\"] == 0,0, USGS[\"IR-CUsFr\"]/USGS[\"IR-WFrTo\"])\n",
    "USGS = USGS.groupby([\"STATE\"], as_index=False).mean()\n",
    "USGS = USGS[[\"STATE\",\"Irr_CF\"]]\n",
    "\n",
    "#brings the consumption information into the ethanol dataframe\n",
    "ethanol = pd.merge(ethanol, USGS, how=\"left\", on=\"STATE\")\n",
    "\n",
    "#creates a new column of the consumption value at the state level\n",
    "ethanol[\"Ethanol_Con\"] = ethanol[\"Irr_CF\"]*(ethanol[\"Ethanol_Surface\"]+ethanol[\"Ethanol_Ground\"])"
   ]
  },
  {
   "cell_type": "code",
   "execution_count": 134,
   "metadata": {},
   "outputs": [],
   "source": [
    "#split values out into the various interconnects by state\n",
    "ethanol[\"Ethanol_Surface_MGY\"] = (ethanol[\"IR-WFrTo\"]/ethanol[\"Total\"])* ethanol[\"Ethanol_Surface\"]\n",
    "ethanol[\"Ethanol_Ground_MGY\"] = (ethanol[\"IR-WFrTo\"]/ethanol[\"Total\"])* ethanol[\"Ethanol_Ground\"]\n",
    "ethanol['Ethanol_Con_MGY'] = np.where(ethanol['Total'] == 0,0, (ethanol[\"IR-WFrTo\"]/ethanol[\"Total\"])* ethanol[\"Ethanol_Con\"])"
   ]
  },
  {
   "cell_type": "code",
   "execution_count": 135,
   "metadata": {},
   "outputs": [],
   "source": [
    "#simplify dataset\n",
    "ethanol = ethanol[[\"Interconnect\",\"Ethanol_Surface_MGY\",\"Ethanol_Ground_MGY\",\"Ethanol_Con_MGY\"]]\n",
    "ethanol = ethanol.groupby([\"Interconnect\"], as_index=False).sum() #group by interconnect\n",
    "#calculate surface discharge\n",
    "ethanol[\"Ethanol_SD_MGY\"] = (ethanol[\"Ethanol_Surface_MGY\"] + \n",
    "                             ethanol[\"Ethanol_Ground_MGY\"]) - ethanol[\"Ethanol_Con_MGY\"]\n",
    "#round out the values\n",
    "ethanol = ethanol.round()"
   ]
  },
  {
   "cell_type": "code",
   "execution_count": 136,
   "metadata": {},
   "outputs": [
    {
     "data": {
      "text/html": [
       "<div>\n",
       "<style scoped>\n",
       "    .dataframe tbody tr th:only-of-type {\n",
       "        vertical-align: middle;\n",
       "    }\n",
       "\n",
       "    .dataframe tbody tr th {\n",
       "        vertical-align: top;\n",
       "    }\n",
       "\n",
       "    .dataframe thead th {\n",
       "        text-align: right;\n",
       "    }\n",
       "</style>\n",
       "<table border=\"1\" class=\"dataframe\">\n",
       "  <thead>\n",
       "    <tr style=\"text-align: right;\">\n",
       "      <th></th>\n",
       "      <th>Interconnect</th>\n",
       "      <th>Ethanol_Surface_MGY</th>\n",
       "      <th>Ethanol_Ground_MGY</th>\n",
       "      <th>Ethanol_Con_MGY</th>\n",
       "      <th>Ethanol_SD_MGY</th>\n",
       "    </tr>\n",
       "  </thead>\n",
       "  <tbody>\n",
       "    <tr>\n",
       "      <th>0</th>\n",
       "      <td>ERCOT</td>\n",
       "      <td>1138.0</td>\n",
       "      <td>9374.0</td>\n",
       "      <td>7861.0</td>\n",
       "      <td>2652.0</td>\n",
       "    </tr>\n",
       "    <tr>\n",
       "      <th>1</th>\n",
       "      <td>East</td>\n",
       "      <td>10333.0</td>\n",
       "      <td>64936.0</td>\n",
       "      <td>62651.0</td>\n",
       "      <td>12618.0</td>\n",
       "    </tr>\n",
       "    <tr>\n",
       "      <th>2</th>\n",
       "      <td>None</td>\n",
       "      <td>622.0</td>\n",
       "      <td>0.0</td>\n",
       "      <td>416.0</td>\n",
       "      <td>206.0</td>\n",
       "    </tr>\n",
       "    <tr>\n",
       "      <th>3</th>\n",
       "      <td>WECC</td>\n",
       "      <td>71105.0</td>\n",
       "      <td>78159.0</td>\n",
       "      <td>86660.0</td>\n",
       "      <td>62603.0</td>\n",
       "    </tr>\n",
       "  </tbody>\n",
       "</table>\n",
       "</div>"
      ],
      "text/plain": [
       "  Interconnect  Ethanol_Surface_MGY  Ethanol_Ground_MGY  Ethanol_Con_MGY  \\\n",
       "0        ERCOT               1138.0              9374.0           7861.0   \n",
       "1         East              10333.0             64936.0          62651.0   \n",
       "2         None                622.0                 0.0            416.0   \n",
       "3         WECC              71105.0             78159.0          86660.0   \n",
       "\n",
       "   Ethanol_SD_MGY  \n",
       "0          2652.0  \n",
       "1         12618.0  \n",
       "2           206.0  \n",
       "3         62603.0  "
      ]
     },
     "execution_count": 136,
     "metadata": {},
     "output_type": "execute_result"
    }
   ],
   "source": [
    "#finished ethanol/biomass table\n",
    "ethanol.head()"
   ]
  },
  {
   "cell_type": "code",
   "execution_count": 137,
   "metadata": {},
   "outputs": [],
   "source": [
    "#merge with main dataset\n",
    "Interconnection_Complete = pd.merge(Interconnection_Complete, ethanol, how=\"left\", on=[\"Interconnect\"])"
   ]
  },
  {
   "cell_type": "markdown",
   "metadata": {},
   "source": [
    "### Update agriculture values to subtract out ethanol water in the final output"
   ]
  },
  {
   "cell_type": "code",
   "execution_count": 138,
   "metadata": {},
   "outputs": [],
   "source": [
    "#separating out the water to ethanol from the irrigation water total to avoid double counting\n",
    "Interconnection_Complete[\"AG-WGWFr\"] = Interconnection_Complete[\"AG-WGWFr\"] - Interconnection_Complete[\"Ethanol_Ground_MGY\"]\n",
    "Interconnection_Complete[\"AG-WSWFr\"] = Interconnection_Complete[\"AG-WSWFr\"] - Interconnection_Complete[\"Ethanol_Surface_MGY\"]\n",
    "\n",
    "#subtracting out the consumed portion from the ethanol water from the total irrigation consumptive use\n",
    "Interconnection_Complete[\"AG_CU\"] = Interconnection_Complete[\"AG_CU\"] - Interconnection_Complete[\"Ethanol_Con_MGY\"]\n",
    "\n",
    "#subtracting out the surface discharge from ethanol from the agriculture surface discharge\n",
    "Interconnection_Complete[\"AG-SD\"] = Interconnection_Complete[\"AG-SD\"] - Interconnection_Complete[\"Ethanol_SD_MGY\"]"
   ]
  },
  {
   "cell_type": "markdown",
   "metadata": {},
   "source": [
    "### Water in Petroleum & Natural Gas (Fracking & Conventional)"
   ]
  },
  {
   "cell_type": "markdown",
   "metadata": {},
   "source": [
    "#### Unconventional Oil & Gas Extraction (Fracking)\n",
    "\n",
    "There is no complete dataset for water use in petroleum extraction, this analysis relies on values from the LLNL report which relied on NETL values. \n",
    "\n",
    "Petroleum extraction consists of both conventional and unconventional (“Tight”) oil extraction.\n",
    "\n",
    "Only state-level LLNL values for unconventional petroleum and NG extraction are available. These values are assumed to be for 2010. This data therefore needs to be configured both to each interconnect region only and to 2015 values. To determine the amount of oil and gas production in total in each interconnect, 2011 data (the most recent year) on oil and gas production on a county level from USDA was analyzed to find the percentage of oil and gas production within each state that belongs to each interconnect. https://www.ers.usda.gov/data-products/county-level-oil-and-gas-production-in-the-us.aspx\n",
    "\n",
    "To estimate growth of production from 2010 to 2015, EIA data on petroleum and natural gas (separately) was analyzed to calculate growth. The LLNL water use in unconventional oil and natural gas extraction values for states were adjusted to conform to interconnect area and then inflated to represent 2015 values. These represent total water use in unconventional petroleum and natural gas extraction for 2015."
   ]
  },
  {
   "cell_type": "code",
   "execution_count": 57,
   "metadata": {},
   "outputs": [],
   "source": [
    "#to determine how much petroleum and natural gas production occurs in each interconnect in each state (weighting)\n",
    "\n",
    "#import 2011 county level levels https://www.ers.usda.gov/data-products/county-level-oil-and-gas-production-in-the-us.aspx\n",
    "oil_gas_2011 = pd.read_excel(r\"C:\\Users\\mong275\\Local Files\\Sankey_Notebook_Development\\SankeyFiles\\oilgascounty.xlsx\", dtype={'geoid':str})\n",
    "oil_gas_2011 = oil_gas_2011[[\"geoid\",\"Stabr\", \"oil2011\", \"gas2011\"]]\n",
    "oil_gas_2011 = oil_gas_2011.rename(columns={\"geoid\": \"FIPS\"})\n",
    "\n",
    "interconnect = pd.read_excel(\"County_Interconnect_List.xlsx\", dtype={'FIPS':str})\n",
    "#Dropping unnecessary columns\n",
    "interconnect = interconnect.drop([\"STATE\",\"STATEFIPS\",\"COUNTY\",\"COUNTYFIPS\",\"YEAR\",\"Coastal\"], axis =1)\n",
    "\n",
    "oil_gas_2011 = pd.merge(oil_gas_2011, interconnect, how=\"left\", on=[\"FIPS\"]) #merging datafiles\n",
    "oil_gas_2011 = oil_gas_2011.groupby([\"Stabr\",\"Interconnect\"], as_index=False).sum()  \n",
    "\n",
    "oil_gas_sum = oil_gas_2011.groupby([\"Stabr\"], as_index=False).sum()  \n",
    "oil_gas_sum = oil_gas_sum.rename(columns={\"oil2011\": \"Oil_state\"})\n",
    "oil_gas_sum = oil_gas_sum.rename(columns={\"gas2011\": \"Gas_state\"})\n",
    "\n",
    "#for how much is in each interconnect in each state\n",
    "oil_gas_2011 = pd.merge(oil_gas_2011, oil_gas_sum, how=\"left\", on=[\"Stabr\"]) #merging datafiles\n",
    "\n",
    "oil_gas_2011 = oil_gas_2011.rename(columns={\"Stabr\": \"State\"})"
   ]
  },
  {
   "cell_type": "code",
   "execution_count": 140,
   "metadata": {},
   "outputs": [],
   "source": [
    "#reading in LLNL/NETL uconventional oil and gas water use (MGD)\n",
    "values = pd.read_excel(r\"C:\\Users\\mong275\\Local Files\\Sankey_Notebook_Development\\SankeyFiles\\Unconventional_Oil_NG_State.xlsx\")\n",
    "#Convert to MGY from MGD for all numeric columns\n",
    "values[values.select_dtypes(include=['number']).columns] *= 365"
   ]
  },
  {
   "cell_type": "markdown",
   "metadata": {},
   "source": [
    "Natural Gas Production (EIA)\n",
    "\n",
    "Excel File Name:\tng_prod_sum_a_epg0_fgw_mmcf_a.xls\n",
    "Available from Web Page:\thttp://www.eia.gov/dnav/ng/ng_prod_sum_a_epg0_fgw_mmcf_a.htm\n",
    "\n",
    "Oil Production Source\n",
    "Excel File Name:\tpet_crd_crpdn_adc_mbbl_a.xls\n",
    "Available from Web Page:\thttp://www.eia.gov/dnav/pet/pet_crd_crpdn_adc_mbbl_a.htm\n",
    "Source:\tEnergy Information Administration\n",
    "\n",
    "Note that to calculate a % change for idaho (0 for 2010), the value was changed to 0.000001\n"
   ]
  },
  {
   "cell_type": "code",
   "execution_count": 141,
   "metadata": {},
   "outputs": [],
   "source": [
    "eia_oil = pd.read_excel(r\"C:\\Users\\mong275\\Local Files\\Sankey_Notebook_Development\\SankeyFiles\\gas_petrol_eia.xlsx\", skiprows=4, sheet_name='Crude Oil Prod')\n",
    "eia_oil[\"Pet_growth\"] = (eia_oil[\"2015_Pet\"]-eia_oil[\"2010_Pet\"])/eia_oil[\"2010_Pet\"]\n",
    "eia_oil[\"Pet_growth\"] = eia_oil[\"Pet_growth\"].round(2)\n",
    "\n",
    "eia_ng = pd.read_excel(r\"C:\\Users\\mong275\\Local Files\\Sankey_Notebook_Development\\SankeyFiles\\gas_petrol_eia.xlsx\", skiprows=4, sheet_name='Natural Gas Prod')\n",
    "eia_ng[\"NG_growth\"] = (eia_ng[\"2015_NG\"]-eia_ng[\"2010_NG\"])/eia_ng[\"2010_NG\"]\n",
    "eia_ng[\"NG_growth\"] = eia_ng[\"NG_growth\"].round(2)"
   ]
  },
  {
   "cell_type": "code",
   "execution_count": 142,
   "metadata": {},
   "outputs": [],
   "source": [
    "eia_ng_oil = pd.merge(eia_oil, eia_ng, how=\"left\", on=[\"State\"]) #merging datafiles\n",
    "eia_ng_oil = eia_ng_oil[[\"State\", \"Pet_growth\",\"NG_growth\"]]"
   ]
  },
  {
   "cell_type": "code",
   "execution_count": 143,
   "metadata": {},
   "outputs": [],
   "source": [
    "values = pd.merge(values, eia_ng_oil, how=\"left\", on=[\"State\"]) #merging datafiles"
   ]
  },
  {
   "cell_type": "code",
   "execution_count": 144,
   "metadata": {},
   "outputs": [],
   "source": [
    "#adjusting LLNL values to 2015 production levels\n",
    "values[\"FSW_UO\"] = values[\"FSW_Unconventional_Oil (MGD) \"]*(1+ values[\"Pet_growth\"])\n",
    "values[\"FGW_UO\"] = values[\"FGW_Unconventional_Oil (MGD) \"]*(1+ values[\"Pet_growth\"])\n",
    "values[\"FSW_UNG\"] = values[\"FSW_Unconventional_NG (MGD) \"]*(1+ values[\"NG_growth\"])\n",
    "values[\"FGW_UNG\"] = values[\"FGW_Unconventional_NG (MGD) \"]*(1+ values[\"NG_growth\"])\n",
    "\n",
    "values = values[[\"State\",\"FSW_UO\",\"FGW_UO\",\"FSW_UNG\",\"FGW_UNG\"]]"
   ]
  },
  {
   "cell_type": "code",
   "execution_count": 145,
   "metadata": {},
   "outputs": [],
   "source": [
    "values = pd.merge(values, oil_gas_2011, how=\"left\", on=[\"State\"]) #merging datafiles"
   ]
  },
  {
   "cell_type": "code",
   "execution_count": 146,
   "metadata": {},
   "outputs": [],
   "source": [
    "values['FSW_UO_Final'] =  values[\"FSW_UO\"]*(values[\"oil2011\"]/values[\"Oil_state\"])\n",
    "values['FGW_UO_Final'] =  values[\"FGW_UO\"]*(values[\"oil2011\"]/values[\"Oil_state\"])\n",
    "values['FSW_UNG_Final'] =  values[\"FSW_UNG\"]*(values[\"gas2011\"]/values[\"Gas_state\"])\n",
    "values['FGW_UNG_Final'] =  values[\"FGW_UNG\"]*(values[\"gas2011\"]/values[\"Gas_state\"])\n",
    "values.fillna(0, inplace=True)\n",
    "values = values.groupby([\"Interconnect\"], as_index=False).sum()  \n",
    "\n",
    "#complete unconventional values (MGY)\n",
    "values = values[[\"Interconnect\",\"FSW_UO_Final\",\"FGW_UO_Final\",\"FSW_UNG_Final\",\"FGW_UNG_Final\"]]"
   ]
  },
  {
   "cell_type": "code",
   "execution_count": 147,
   "metadata": {},
   "outputs": [
    {
     "data": {
      "text/html": [
       "<div>\n",
       "<style scoped>\n",
       "    .dataframe tbody tr th:only-of-type {\n",
       "        vertical-align: middle;\n",
       "    }\n",
       "\n",
       "    .dataframe tbody tr th {\n",
       "        vertical-align: top;\n",
       "    }\n",
       "\n",
       "    .dataframe thead th {\n",
       "        text-align: right;\n",
       "    }\n",
       "</style>\n",
       "<table border=\"1\" class=\"dataframe\">\n",
       "  <thead>\n",
       "    <tr style=\"text-align: right;\">\n",
       "      <th></th>\n",
       "      <th>Interconnect</th>\n",
       "      <th>FSW_UO_Final</th>\n",
       "      <th>FGW_UO_Final</th>\n",
       "      <th>FSW_UNG_Final</th>\n",
       "      <th>FGW_UNG_Final</th>\n",
       "    </tr>\n",
       "  </thead>\n",
       "  <tbody>\n",
       "    <tr>\n",
       "      <th>0</th>\n",
       "      <td>ERCOT</td>\n",
       "      <td>2932.333065</td>\n",
       "      <td>25840.125770</td>\n",
       "      <td>513.886313</td>\n",
       "      <td>4524.958671</td>\n",
       "    </tr>\n",
       "    <tr>\n",
       "      <th>1</th>\n",
       "      <td>East</td>\n",
       "      <td>7551.635859</td>\n",
       "      <td>8773.332467</td>\n",
       "      <td>48902.379183</td>\n",
       "      <td>7745.937276</td>\n",
       "    </tr>\n",
       "    <tr>\n",
       "      <th>2</th>\n",
       "      <td>WECC</td>\n",
       "      <td>6772.537575</td>\n",
       "      <td>1698.384263</td>\n",
       "      <td>4948.586504</td>\n",
       "      <td>1136.101553</td>\n",
       "    </tr>\n",
       "  </tbody>\n",
       "</table>\n",
       "</div>"
      ],
      "text/plain": [
       "  Interconnect  FSW_UO_Final  FGW_UO_Final  FSW_UNG_Final  FGW_UNG_Final\n",
       "0        ERCOT   2932.333065  25840.125770     513.886313    4524.958671\n",
       "1         East   7551.635859   8773.332467   48902.379183    7745.937276\n",
       "2         WECC   6772.537575   1698.384263    4948.586504    1136.101553"
      ]
     },
     "execution_count": 147,
     "metadata": {},
     "output_type": "execute_result"
    }
   ],
   "source": [
    "values.head()"
   ]
  },
  {
   "cell_type": "markdown",
   "metadata": {},
   "source": [
    "#### Conventional Oil Production (Water Injection)\n",
    "\n",
    "For conventional oil, PADD region water-to-oil values were provided to LLNL from NETL. Texas is located within PADD III. Total oil production for 2015 was found from EIA. Using an EIA assumption of unconventional to conventional oil ratio, the amount of conventional oil production for TX in 2015 can be found. This value is reduced to ERCOT area using the same method as unconventional. Using this value with the PADD coefficients, the total water use in conventional oil extraction is found. This is combined with unconventional oil extraction water use to find total water use in petroleum extraction."
   ]
  },
  {
   "cell_type": "markdown",
   "metadata": {},
   "source": [
    "#States vs PADD region list\n",
    "#assign gal/gal assumption to each state\n",
    "#apply 63%\n",
    "Apply 80% surface to ground\n",
    "#apply coefficient to state levels of conventional oil production\n",
    "calculate amount per interconnect per state\n",
    "\n",
    "42 gallons in a barrel of oil\n",
    "63% of all oil is shale (unconventional)\n",
    "Source: EIA. FAQ. \"How Much Shale (Tight) oil is produced in the united states?\" September 2020. https://www.eia.gov/tools/faqs/faq.php?id=847&t=6\n",
    "\n",
    "combine with unconventional\n",
    "\n",
    "Discharge/produced water of water needed"
   ]
  },
  {
   "cell_type": "code",
   "execution_count": 148,
   "metadata": {},
   "outputs": [],
   "source": [
    "PADD = pd.read_excel(r\"C:\\Users\\mong275\\Local Files\\Sankey_Notebook_Development\\SankeyFiles\\PADD_intensity.xlsx\")\n",
    "\n",
    "#EIA oil data for 2015 is in thousands of barrels of oil\n",
    "#converting to gallons of oil\n",
    "eia_COil_2015 = eia_oil[[\"State\",\"2015_Pet\"]].copy()\n",
    "\n",
    "#changing to gallons from thousands of barrels of oil\n",
    "eia_COil_2015[eia_COil_2015.select_dtypes(include=['number']).columns] *= 42000\n",
    "\n",
    "#obtaining conventional portion of all oil production based on eia assumption\n",
    "eia_COil_2015[\"2015_Pet\"] = eia_COil_2015[\"2015_Pet\"]*(1-.63)\n",
    "\n",
    "#merge with PADD water intensity file\n",
    "eia_COil_2015 = pd.merge(eia_COil_2015, PADD, how=\"left\") #merging datafiles\n",
    "\n",
    "#multiply conventional oil amounts (Gallons) by water intensity coefficient\n",
    "eia_COil_2015[\"CO_Oil_Water\"] = eia_COil_2015[\"GalWater_GalOil\"]*eia_COil_2015[\"2015_Pet\"]\n",
    "\n",
    "#changing to MGY\n",
    "eia_COil_2015[\"CO_Oil_Water\"] = eia_COil_2015[\"CO_Oil_Water\"]/1000000\n",
    "\n",
    "\n",
    "eia_COil_2015[\"FSW_COil\"] = .8*eia_COil_2015[\"CO_Oil_Water\"]\n",
    "eia_COil_2015[\"FGW_COil\"] = .2*eia_COil_2015[\"CO_Oil_Water\"]"
   ]
  },
  {
   "cell_type": "code",
   "execution_count": 149,
   "metadata": {},
   "outputs": [],
   "source": [
    "#using the 2011 values to split out each state into the respective interconnects\n",
    "eia_COil_2015 = pd.merge(eia_COil_2015, oil_gas_2011, how=\"left\", on=[\"State\"]) #merging datafiles"
   ]
  },
  {
   "cell_type": "code",
   "execution_count": 150,
   "metadata": {},
   "outputs": [],
   "source": [
    "#Multiply out the FSW_COIL, FGW_COIL values by the fraction of oil in oil state to get each by interconnect\n",
    "\n",
    "eia_COil_2015[\"FSW_Conventional\"] = eia_COil_2015[\"FSW_COil\"]*(eia_COil_2015[\"oil2011\"]/eia_COil_2015[\"Oil_state\"])\n",
    "eia_COil_2015[\"FGW_Conventional\"] = eia_COil_2015[\"FGW_COil\"]*(eia_COil_2015[\"oil2011\"]/eia_COil_2015[\"Oil_state\"])\n",
    "\n",
    "eia_COil_2015 = eia_COil_2015.groupby([\"Interconnect\"], as_index=False).sum()  \n",
    "eia_COil_2015 = eia_COil_2015[[\"Interconnect\", \"FSW_Conventional\",\"FGW_Conventional\"]]\n",
    "\n",
    "Oil_NG_2015 = pd.merge(values, eia_COil_2015, on=\"Interconnect\")"
   ]
  },
  {
   "cell_type": "code",
   "execution_count": 151,
   "metadata": {},
   "outputs": [],
   "source": [
    "#combining conventional and unconventional oil to get one item\n",
    "Oil_NG_2015[\"Oil_FSW\"] = Oil_NG_2015[\"FSW_UO_Final\"] + Oil_NG_2015[\"FSW_Conventional\"]\n",
    "Oil_NG_2015[\"Oil_FGW\"] = Oil_NG_2015[\"FGW_UO_Final\"] + Oil_NG_2015[\"FGW_Conventional\"]\n",
    "\n",
    "#complete water in energy production of oil and natural gas by interconnect\n",
    "Oil_NG_2015 = Oil_NG_2015[[\"Interconnect\",\"Oil_FSW\",\"Oil_FGW\", \"FSW_UNG_Final\", \"FGW_UNG_Final\"]]"
   ]
  },
  {
   "cell_type": "code",
   "execution_count": 152,
   "metadata": {},
   "outputs": [],
   "source": [
    "Oil_NG_2015 = Oil_NG_2015.round()\n",
    "Oil_NG_2015 = Oil_NG_2015.rename(columns={\"FSW_UNG_Final\": \"NG_FSW\"})\n",
    "Oil_NG_2015 = Oil_NG_2015.rename(columns={\"FGW_UNG_Final\": \"NG_FGW\"})"
   ]
  },
  {
   "cell_type": "code",
   "execution_count": 153,
   "metadata": {},
   "outputs": [],
   "source": [
    "#merge with main dataset\n",
    "Interconnection_Complete = pd.merge(Interconnection_Complete, Oil_NG_2015, how=\"left\", on=[\"Interconnect\"])"
   ]
  },
  {
   "cell_type": "markdown",
   "metadata": {},
   "source": [
    "### Injection, Surface Discharge, Evaporation of Oil & Natural Gas\n",
    "\n",
    "\"Produced water is water from underground formations that is brought to the surface during oil and gas production. Given that it is \"\"produced\"\" the amount discharged from oil and NG production will be greater than the amount that is brought into these processes. No exact values exist for texas regarding produced water for oil and natural gas individually. Veil et al. (2019) provided an analysis for 2017 on produced water by state. For Texas, they were unable to procure water-to-oil ratios or water-to-gas ratios, however, LLNL estimated WOR and and WGR for Texas for their analysis. \n",
    "\n",
    "The WOR and WGR were applied to 2015 data on oil and gas production to estimate total produced water. This produced water was split out into injection, surface discharge, and consumption/evaporation based on percentage breakdowns by state from Veil (2019). Note that offsite disposal of water is assumed to be injected.\n",
    "\n",
    "The injection, surface discharge, and evaporation values for oil and NG were then adjusted to 2015 values as previously described. Lastly, these values were then multiplied by the % of oil production in texas that is within ERCOT counties and the % of NG production that is from ERCOT counties calculated in the Oil & Nat. Gas Calculation tab previously.\"\t\t\n",
    "\n",
    "Veil (2019) http://www.veilenvironmental.com/publications/pw/pw_report_2017_final.pdf\n",
    "\"U.S. Produced Water Volumes and Management Practices in 2017\", Feb 2020"
   ]
  },
  {
   "cell_type": "code",
   "execution_count": 154,
   "metadata": {},
   "outputs": [],
   "source": [
    "#note: WOR and WGR for idaho was assumed to be the average of MT and WY"
   ]
  },
  {
   "cell_type": "code",
   "execution_count": 155,
   "metadata": {},
   "outputs": [],
   "source": [
    "discharge = pd.read_excel(r\"C:\\Users\\mong275\\Local Files\\Sankey_Notebook_Development\\SankeyFiles\\Water_injection.xlsx\")\n",
    "\n",
    "oil_gas_prod = eia_oil.copy()\n",
    "#changing it from thousand barrels to barrels\n",
    "oil_gas_prod[\"2015_Pet\"] = oil_gas_prod[\"2015_Pet\"]*1000\n",
    "\n",
    "oil_gas_prod = oil_gas_prod[[\"State\", \"2015_Pet\"]]\n",
    "\n",
    "discharge = pd.merge(discharge, oil_gas_prod, how = \"right\", on=\"State\")"
   ]
  },
  {
   "cell_type": "code",
   "execution_count": 156,
   "metadata": {},
   "outputs": [],
   "source": [
    "eia_ng_copy = eia_ng[[\"State\", \"2015_NG\"]]\n",
    "discharge = pd.merge(discharge, eia_ng_copy, how=\"left\",on=\"State\")\n",
    "#replaces NAN with 0\n",
    "discharge.fillna(0, inplace=True)"
   ]
  },
  {
   "cell_type": "code",
   "execution_count": 157,
   "metadata": {},
   "outputs": [],
   "source": [
    "#calculating total bbl for NG and Oil for 2015\n",
    "discharge[\"NG_Water\"] = discharge[\"WGR_LLNL (bbl/Mmcf)\"]*discharge[\"2015_NG\"]\n",
    "discharge[\"Oil_Water\"] = discharge[\"WOR_LLNL (bbl/bbl)\"]*discharge[\"2015_Pet\"]\n",
    "\n",
    "#changing to MGY from bbl\n",
    "discharge[\"NG_Water\"] = (discharge[\"NG_Water\"]*42)/1000000\n",
    "discharge[\"Oil_Water\"] = (discharge[\"Oil_Water\"]*42)/1000000\n",
    "\n",
    "#multiplying out by the appropriate discharge percentage ratios from Veil (2019)\n",
    "discharge[\"NG_SD\"] = discharge[\"Surface Discharge (%)\"]*discharge[\"NG_Water\"]\n",
    "discharge[\"NG_Inj\"]= discharge[\"Total injected (%)\"]*discharge[\"NG_Water\"]\n",
    "discharge[\"NG_Con\"]= discharge[\"Evaporation/ Consumption (%)\"]*discharge[\"NG_Water\"]\n",
    "\n",
    "discharge[\"Oil_SD\"] = discharge[\"Surface Discharge (%)\"]*discharge[\"Oil_Water\"]\n",
    "discharge[\"Oil_Inj\"]= discharge[\"Total injected (%)\"]*discharge[\"Oil_Water\"]\n",
    "discharge[\"Oil_Con\"]= discharge[\"Evaporation/ Consumption (%)\"]*discharge[\"Oil_Water\"]"
   ]
  },
  {
   "cell_type": "code",
   "execution_count": 158,
   "metadata": {},
   "outputs": [],
   "source": [
    "discharge = pd.merge(discharge, oil_gas_2011, on=\"State\", how=\"right\")"
   ]
  },
  {
   "cell_type": "code",
   "execution_count": 159,
   "metadata": {},
   "outputs": [],
   "source": [
    "#drop rows where both oil water and ng water are zero\n",
    "discharge = discharge.dropna(subset=[\"NG_Water\", \"Oil_Water\"], how='all')"
   ]
  },
  {
   "cell_type": "code",
   "execution_count": 160,
   "metadata": {},
   "outputs": [],
   "source": [
    "discharge[\"NG_SD_Final\"] = discharge[\"NG_SD\"]*(discharge[\"gas2011\"]/discharge[\"Gas_state\"])\n",
    "discharge[\"NG_Inj_Final\"] = discharge[\"NG_Inj\"]*(discharge[\"gas2011\"]/discharge[\"Gas_state\"])\n",
    "discharge[\"NG_Con_Final\"] = discharge[\"NG_Con\"]*(discharge[\"gas2011\"]/discharge[\"Gas_state\"])\n",
    "\n",
    "discharge[\"Oil_SD_Final\"] = discharge[\"Oil_SD\"]*(discharge[\"oil2011\"]/discharge[\"Oil_state\"])\n",
    "discharge[\"Oil_Inj_Final\"] = discharge[\"Oil_Inj\"]*(discharge[\"oil2011\"]/discharge[\"Oil_state\"])\n",
    "discharge[\"Oil_Con_Final\"] = discharge[\"Oil_Con\"]*(discharge[\"oil2011\"]/discharge[\"Oil_state\"])"
   ]
  },
  {
   "cell_type": "code",
   "execution_count": 161,
   "metadata": {},
   "outputs": [],
   "source": [
    "#fixing for states where there was no value in the 2011 dataset from eia. These are single interconnect states.\n",
    "discharge.loc[discharge.gas2011 & discharge.Gas_state == 0, \"NG_SD_Final\"] = discharge[\"NG_SD\"]\n",
    "discharge.loc[discharge.gas2011 & discharge.Gas_state == 0, \"NG_Inj_Final\"] = discharge[\"NG_Inj\"]\n",
    "discharge.loc[discharge.gas2011 & discharge.Gas_state == 0, \"NG_Con_Final\"] = discharge[\"NG_Con\"]\n",
    "\n",
    "discharge.loc[discharge.oil2011 & discharge.Oil_state == 0, \"Oil_SD_Final\"] = discharge[\"Oil_SD\"]\n",
    "discharge.loc[discharge.oil2011 & discharge.Oil_state == 0, \"Oil_Inj_Final\"] = discharge[\"Oil_Inj\"]\n",
    "discharge.loc[discharge.oil2011 & discharge.Oil_state == 0, \"Oil_Con_Final\"] = discharge[\"Oil_Con\"]"
   ]
  },
  {
   "cell_type": "code",
   "execution_count": 162,
   "metadata": {},
   "outputs": [],
   "source": [
    "discharge = discharge[[\"Interconnect\", 'NG_SD_Final',\n",
    "                       'NG_Inj_Final','NG_Con_Final',\n",
    "                       'Oil_SD_Final','Oil_Inj_Final','Oil_Con_Final']]"
   ]
  },
  {
   "cell_type": "code",
   "execution_count": 163,
   "metadata": {},
   "outputs": [],
   "source": [
    "#final grouping by interconnect\n",
    "discharge = discharge.groupby([\"Interconnect\"], as_index=False).sum()\n",
    "discharge = discharge.round()"
   ]
  },
  {
   "cell_type": "code",
   "execution_count": 164,
   "metadata": {},
   "outputs": [],
   "source": [
    "#merge with main dataset\n",
    "Interconnection_Complete = pd.merge(Interconnection_Complete, discharge, how=\"left\", on=[\"Interconnect\"])"
   ]
  },
  {
   "cell_type": "code",
   "execution_count": 165,
   "metadata": {},
   "outputs": [
    {
     "data": {
      "text/html": [
       "<div>\n",
       "<style scoped>\n",
       "    .dataframe tbody tr th:only-of-type {\n",
       "        vertical-align: middle;\n",
       "    }\n",
       "\n",
       "    .dataframe tbody tr th {\n",
       "        vertical-align: top;\n",
       "    }\n",
       "\n",
       "    .dataframe thead th {\n",
       "        text-align: right;\n",
       "    }\n",
       "</style>\n",
       "<table border=\"1\" class=\"dataframe\">\n",
       "  <thead>\n",
       "    <tr style=\"text-align: right;\">\n",
       "      <th></th>\n",
       "      <th>Interconnect</th>\n",
       "      <th>TO-WSWFr</th>\n",
       "      <th>TO-WGWFr</th>\n",
       "      <th>TO-WSWSa</th>\n",
       "      <th>TO-WGWSa</th>\n",
       "      <th>PS-WGWFr</th>\n",
       "      <th>PS-WSWFr</th>\n",
       "      <th>PS-WGWSa</th>\n",
       "      <th>PS-WSWSa</th>\n",
       "      <th>DO-PSDel</th>\n",
       "      <th>...</th>\n",
       "      <th>Oil_FSW</th>\n",
       "      <th>Oil_FGW</th>\n",
       "      <th>NG_FSW</th>\n",
       "      <th>NG_FGW</th>\n",
       "      <th>NG_SD_Final</th>\n",
       "      <th>NG_Inj_Final</th>\n",
       "      <th>NG_Con_Final</th>\n",
       "      <th>Oil_SD_Final</th>\n",
       "      <th>Oil_Inj_Final</th>\n",
       "      <th>Oil_Con_Final</th>\n",
       "    </tr>\n",
       "  </thead>\n",
       "  <tbody>\n",
       "    <tr>\n",
       "      <th>0</th>\n",
       "      <td>ERCOT</td>\n",
       "      <td>4266236.80</td>\n",
       "      <td>1167207.95</td>\n",
       "      <td>358743.90</td>\n",
       "      <td>294533.10</td>\n",
       "      <td>360101.70</td>\n",
       "      <td>390436.85</td>\n",
       "      <td>3536.85</td>\n",
       "      <td>770.15</td>\n",
       "      <td>702391.40</td>\n",
       "      <td>...</td>\n",
       "      <td>31306.0</td>\n",
       "      <td>32934.0</td>\n",
       "      <td>514.0</td>\n",
       "      <td>4525.0</td>\n",
       "      <td>10411.0</td>\n",
       "      <td>34566.0</td>\n",
       "      <td>0.0</td>\n",
       "      <td>141249.0</td>\n",
       "      <td>468948.0</td>\n",
       "      <td>0.0</td>\n",
       "    </tr>\n",
       "    <tr>\n",
       "      <th>1</th>\n",
       "      <td>East</td>\n",
       "      <td>44686833.20</td>\n",
       "      <td>16312488.75</td>\n",
       "      <td>11825857.65</td>\n",
       "      <td>270249.65</td>\n",
       "      <td>3232640.75</td>\n",
       "      <td>5945061.60</td>\n",
       "      <td>68532.40</td>\n",
       "      <td>635.10</td>\n",
       "      <td>4939023.05</td>\n",
       "      <td>...</td>\n",
       "      <td>40530.0</td>\n",
       "      <td>17018.0</td>\n",
       "      <td>48902.0</td>\n",
       "      <td>7746.0</td>\n",
       "      <td>2409.0</td>\n",
       "      <td>18999.0</td>\n",
       "      <td>1.0</td>\n",
       "      <td>39289.0</td>\n",
       "      <td>484487.0</td>\n",
       "      <td>207.0</td>\n",
       "    </tr>\n",
       "    <tr>\n",
       "      <th>2</th>\n",
       "      <td>None</td>\n",
       "      <td>475890.65</td>\n",
       "      <td>250824.35</td>\n",
       "      <td>803521.95</td>\n",
       "      <td>39941.95</td>\n",
       "      <td>130549.55</td>\n",
       "      <td>213776.85</td>\n",
       "      <td>0.00</td>\n",
       "      <td>1226.40</td>\n",
       "      <td>219277.40</td>\n",
       "      <td>...</td>\n",
       "      <td>NaN</td>\n",
       "      <td>NaN</td>\n",
       "      <td>NaN</td>\n",
       "      <td>NaN</td>\n",
       "      <td>NaN</td>\n",
       "      <td>NaN</td>\n",
       "      <td>NaN</td>\n",
       "      <td>NaN</td>\n",
       "      <td>NaN</td>\n",
       "      <td>NaN</td>\n",
       "    </tr>\n",
       "    <tr>\n",
       "      <th>3</th>\n",
       "      <td>WECC</td>\n",
       "      <td>22978137.00</td>\n",
       "      <td>12313815.20</td>\n",
       "      <td>1117206.60</td>\n",
       "      <td>248816.85</td>\n",
       "      <td>1735334.10</td>\n",
       "      <td>2128205.50</td>\n",
       "      <td>23976.85</td>\n",
       "      <td>0.00</td>\n",
       "      <td>2641578.00</td>\n",
       "      <td>...</td>\n",
       "      <td>20759.0</td>\n",
       "      <td>5195.0</td>\n",
       "      <td>4949.0</td>\n",
       "      <td>1136.0</td>\n",
       "      <td>17527.0</td>\n",
       "      <td>60491.0</td>\n",
       "      <td>759.0</td>\n",
       "      <td>207732.0</td>\n",
       "      <td>798685.0</td>\n",
       "      <td>4497.0</td>\n",
       "    </tr>\n",
       "  </tbody>\n",
       "</table>\n",
       "<p>4 rows × 126 columns</p>\n",
       "</div>"
      ],
      "text/plain": [
       "  Interconnect     TO-WSWFr     TO-WGWFr     TO-WSWSa   TO-WGWSa    PS-WGWFr  \\\n",
       "0        ERCOT   4266236.80   1167207.95    358743.90  294533.10   360101.70   \n",
       "1         East  44686833.20  16312488.75  11825857.65  270249.65  3232640.75   \n",
       "2         None    475890.65    250824.35    803521.95   39941.95   130549.55   \n",
       "3         WECC  22978137.00  12313815.20   1117206.60  248816.85  1735334.10   \n",
       "\n",
       "     PS-WSWFr  PS-WGWSa  PS-WSWSa    DO-PSDel  ...  Oil_FSW  Oil_FGW   NG_FSW  \\\n",
       "0   390436.85   3536.85    770.15   702391.40  ...  31306.0  32934.0    514.0   \n",
       "1  5945061.60  68532.40    635.10  4939023.05  ...  40530.0  17018.0  48902.0   \n",
       "2   213776.85      0.00   1226.40   219277.40  ...      NaN      NaN      NaN   \n",
       "3  2128205.50  23976.85      0.00  2641578.00  ...  20759.0   5195.0   4949.0   \n",
       "\n",
       "   NG_FGW  NG_SD_Final  NG_Inj_Final  NG_Con_Final  Oil_SD_Final  \\\n",
       "0  4525.0      10411.0       34566.0           0.0      141249.0   \n",
       "1  7746.0       2409.0       18999.0           1.0       39289.0   \n",
       "2     NaN          NaN           NaN           NaN           NaN   \n",
       "3  1136.0      17527.0       60491.0         759.0      207732.0   \n",
       "\n",
       "   Oil_Inj_Final  Oil_Con_Final  \n",
       "0       468948.0            0.0  \n",
       "1       484487.0          207.0  \n",
       "2            NaN            NaN  \n",
       "3       798685.0         4497.0  \n",
       "\n",
       "[4 rows x 126 columns]"
      ]
     },
     "execution_count": 165,
     "metadata": {},
     "output_type": "execute_result"
    }
   ],
   "source": [
    "Interconnection_Complete.head()"
   ]
  },
  {
   "attachments": {
    "image.png": {
     "image/png": "[encoded data removed]"
    }
   },
   "cell_type": "markdown",
   "metadata": {},
   "source": [
    "LLNL TX Sankey shows water to petroleum at much smaller quantities 53 MGD vs. 176 MGD in our analysis, more than triple for ERCOT. This caused some initial concern, however, after looking at crude oil production in texas between 2010 and 2015 (https://www.eia.gov/dnav/pet/hist/LeafHandler.ashx?n=PET&s=MCRFPTX1&f=M), the increase is reasonable. 34k barrels to 106k barrels = 3.12x increase in production.\n",
    "\n",
    "![image.png](attachment:image.png)"
   ]
  },
  {
   "cell_type": "markdown",
   "metadata": {},
   "source": [
    "### Water in Coal (Mining dust control)\n",
    "\n",
    "Data on the location of coal mines, the type of mine (underground vs. surface), and the coal production (tons) is provided in EIA E-7 data for 2015 (https://www.eia.gov/coal/data.php)\n",
    "The LLNL/NETL assumption is applied that surface mines withdraw 7 gallons of water per ton of coal and underground mines withdraw 29 gallons per ton.\n",
    "Plants are aggregated by interconnect.\n",
    "To determine water source/type for mining, the LLNL assumption that the withdrawal follows the distribution of water use for other types of mining in that county."
   ]
  },
  {
   "cell_type": "code",
   "execution_count": 166,
   "metadata": {},
   "outputs": [],
   "source": [
    "#USGS 2015 water data\n",
    "coal_df = pd.read_excel(\"usco2015v2.0.xlsx\", skiprows=1, dtype={'FIPS':str})\n",
    "\n",
    "#Interconnect by county data file\n",
    "interconnect = pd.read_excel(\"County_Interconnect_List.xlsx\", dtype={'FIPS':str})\n",
    "#Dropping unnecessary columns\n",
    "interconnect = interconnect.drop([\"STATE\",\"STATEFIPS\",\"COUNTY\",\"COUNTYFIPS\",\"YEAR\",\"Unnamed: 8\"], axis =1)\n",
    "\n",
    "coal_df = pd.merge(coal_df, interconnect, how=\"left\", on=[\"FIPS\"]) #merging datafiles\n",
    "coal_df.replace(\"--\", 0, inplace=True) #replacing characters for missing data with value of zero\n",
    "coal_df = coal_df[[\"STATE\",\"COUNTY\", \"Interconnect\",\"MI-WGWFr\",\"MI-WSWFr\",\"MI-WGWSa\",\"MI-WSWSa\"]]"
   ]
  },
  {
   "cell_type": "code",
   "execution_count": 167,
   "metadata": {},
   "outputs": [],
   "source": [
    "#bring in mining data\n",
    "mining = pd.read_excel(\"coalpublic2015.xlsx\", skiprows=3)\n",
    "mining = mining.rename(columns={\"Mine State\": \"STATE\"})\n",
    "\n",
    "#cleaning file for state names with regional attributes\n",
    "mining['STATE'] = np.where(mining['STATE'] == \"Kentucky (East)\",\"Kentucky\", mining[\"STATE\"])\n",
    "mining['STATE'] = np.where(mining['STATE'] == \"Kentucky (West)\",\"Kentucky\", mining[\"STATE\"])\n",
    "mining['STATE'] = np.where(mining['STATE'] == \"Pennsylvania (Bituminous)\",\"Pennsylvania\", mining[\"STATE\"])\n",
    "mining['STATE'] = np.where(mining['STATE'] == \"Pennsylvania (Anthracite)\",\"Pennsylvania\", mining[\"STATE\"])\n",
    "mining['STATE'] = np.where(mining['STATE'] == \"West Virginia (Northern)\",\"West Virginia\", mining[\"STATE\"])\n",
    "mining['STATE'] = np.where(mining['STATE'] == \"West Virginia (Southern)\",\"West Virginia\", mining[\"STATE\"])\n",
    "\n",
    "#dropping refuse recovery rows\n",
    "mining = mining[(mining[['STATE']] != \"Refuse Recovery\").all(axis=1)]\n",
    "\n",
    "codes = pd.read_excel(\"State_Abbrev_key.xlsx\") #bring in state codes\n",
    "mining = pd.merge(mining, codes, how=\"left\") #merging datafiles\n",
    "mining = mining[[\"STATE\",\"Abbrev\",\"Mine County\", \"Mine Type\",\"Production (short tons)\"]]\n",
    "\n",
    "#fixing the way the county is written from just name to name +County\n",
    "mining[\"add\"] = \"County\"\n",
    "mining['add'] = np.where(mining['Abbrev'] == \"LA\",\"Parish\", mining[\"add\"]) #LA doesn't have counties, just parishes\n",
    "mining['add'] = np.where(mining['Abbrev'] == \"AK\",\"Borough\", mining[\"add\"]) #The one AK county is a borough\n",
    "\n",
    "#creating a renamed county column for merging with USGS dataset\n",
    "mining[\"COUNTY\"] = mining[\"Mine County\"] +\" \" + mining[\"add\"]\n"
   ]
  },
  {
   "cell_type": "code",
   "execution_count": 168,
   "metadata": {},
   "outputs": [],
   "source": [
    "mining_clean = mining[[\"Abbrev\",\"COUNTY\",\"Mine Type\",\"Production (short tons)\"]] #grabbing items of interest\n",
    "mining_clean = mining_clean.rename(columns={\"Abbrev\": \"STATE\"}) #rename to prep for merge\n",
    "\n",
    "#making both county columns uppercase to avoid capitalization differences in merge\n",
    "mining_clean['COUNTY'] = mining_clean['COUNTY'].str.upper()\n",
    "coal_df[\"COUNTY\"] = coal_df['COUNTY'].str.upper()\n",
    "\n",
    "#fixing single case with St. vs St\n",
    "coal_df['COUNTY'] = np.where(coal_df['COUNTY'] == \"ST. CLAIR COUNTY\",\"ST CLAIR COUNTY\", coal_df[\"COUNTY\"])"
   ]
  },
  {
   "cell_type": "code",
   "execution_count": 169,
   "metadata": {},
   "outputs": [],
   "source": [
    "mining_clean = pd.merge(mining_clean, coal_df, how=\"left\") #merging datafiles"
   ]
  },
  {
   "cell_type": "code",
   "execution_count": 170,
   "metadata": {},
   "outputs": [],
   "source": [
    "#calculating water usage in gallons/ton for each type of mine\n",
    "mining_clean[\"MI_Water\"]= np.where(mining['Mine Type'] == \"Surface\", \n",
    "                                   mining_clean[\"Production (short tons)\"]*7, \n",
    "                                   mining_clean[\"Production (short tons)\"]*29)"
   ]
  },
  {
   "cell_type": "code",
   "execution_count": 171,
   "metadata": {},
   "outputs": [],
   "source": [
    "#summing the total amount of water going to all mining types from the USGS data\n",
    "mining_clean[\"sum\"] = mining_clean[\"MI-WGWFr\"] + mining_clean[\"MI-WSWFr\"] + mining_clean[\"MI-WGWSa\"] +mining_clean[\"MI-WSWSa\"] \n",
    "\n",
    "#splitting up the coal mining water sources based on proportion of each type sent to all mining\n",
    "mining_clean['MI_FGW'] = np.where(mining_clean['sum'] != 0, ((mining_clean[\"MI-WGWFr\"]/mining_clean[\"sum\"])*mining_clean[\"MI_Water\"]), 0)\n",
    "mining_clean['MI_FSW'] = np.where(mining_clean['sum'] != 0, ((mining_clean[\"MI-WSWFr\"]/mining_clean[\"sum\"])*mining_clean[\"MI_Water\"]), 0)\n",
    "mining_clean['MI_SGW'] = np.where(mining_clean['sum'] != 0, ((mining_clean[\"MI-WGWSa\"]/mining_clean[\"sum\"])*mining_clean[\"MI_Water\"]), 0)\n",
    "mining_clean['MI_SSW'] = np.where(mining_clean['sum'] != 0, ((mining_clean[\"MI-WSWSa\"]/mining_clean[\"sum\"])*mining_clean[\"MI_Water\"]), 0)"
   ]
  },
  {
   "cell_type": "markdown",
   "metadata": {},
   "source": [
    "The consumption fraction for all mining is assumed to be consistent for coal mining. No consumption values for 2015 exist in the 2015 dataset. Therefore, 1995 consumptive use for mining is used to calculated the consumption fraction for mining. This fraction is applied to water used in mining for 2015.\n",
    "\n",
    "Consumption is calculated at a county level using 1995 MI_CF collected earlier. Surface discharge is all water not consumed."
   ]
  },
  {
   "cell_type": "code",
   "execution_count": 172,
   "metadata": {},
   "outputs": [],
   "source": [
    "#grabs the mining consumption fraction from the 1995 dataframe\n",
    "df3 = df2[[\"State\",\"CountyName\",\"MI_CF\"]]\n",
    "df3 = df3.rename(columns={\"County\": \"COUNTY\"})\n",
    "\n",
    "#fixing the way the county is written from just name to name +County\n",
    "df3[\"add\"] = \"County\"\n",
    "df3['add'] = np.where(df3['State'] == \"LA\",\"Parish\", df3[\"add\"]) #LA doesn't have counties, just parishes\n",
    "df3['add'] = np.where(df3['State'] == \"AK\",\"Borough\", df3[\"add\"]) #The one AK county is a borough\n",
    "\n",
    "#creating a renamed county column for merging with USGS dataset\n",
    "df3[\"COUNTY\"] = df3[\"CountyName\"] +\" \" + df3[\"add\"]\n",
    "df3['COUNTY'] = df3['COUNTY'].str.upper()\n",
    "\n",
    "#reducing down to necessary variables\n",
    "df3 = df3[[\"COUNTY\", \"MI_CF\"]]"
   ]
  },
  {
   "cell_type": "code",
   "execution_count": 173,
   "metadata": {},
   "outputs": [],
   "source": [
    "#bringing county consumption fraction data into the mining water use dataframe\n",
    "mining_clean = pd.merge(mining_clean, df3, how=\"left\")"
   ]
  },
  {
   "cell_type": "code",
   "execution_count": 174,
   "metadata": {},
   "outputs": [],
   "source": [
    "#calculating consumption and Surface discharge\n",
    "mining_clean[\"Coal_CU\"] = mining_clean[\"MI_CF\"]*mining_clean[\"MI_Water\"]\n",
    "mining_clean[\"Coal_SD\"] = (1-mining_clean[\"MI_CF\"])*mining_clean[\"MI_Water\"]"
   ]
  },
  {
   "cell_type": "code",
   "execution_count": 175,
   "metadata": {},
   "outputs": [],
   "source": [
    "#changing to MGY instead of gallons per year\n",
    "mining_clean[[\"MI_FGW\",\"MI_FSW\", \"MI_SGW\",\"MI_SSW\",\"Coal_CU\",\"Coal_SD\"]] = mining_clean[[\"MI_FGW\",\"MI_FSW\", \"MI_SGW\",\"MI_SSW\",\"Coal_CU\",\"Coal_SD\"]]/1000000\n",
    "#reducing columns\n",
    "mining_clean = mining_clean[[\"Interconnect\",\"MI_FGW\",\"MI_FSW\", \"MI_SGW\",\"MI_SSW\",\"Coal_CU\",\"Coal_SD\"]]"
   ]
  },
  {
   "cell_type": "code",
   "execution_count": 176,
   "metadata": {},
   "outputs": [],
   "source": [
    "mining_output = mining_clean\n",
    "mining_output.to_excel(\"output.xlsx\")"
   ]
  },
  {
   "cell_type": "code",
   "execution_count": 177,
   "metadata": {},
   "outputs": [],
   "source": [
    "#group by interconnect\n",
    "mining_clean = mining_clean.groupby([\"Interconnect\"], as_index=False).sum()  \n",
    "mining_clean = mining_clean.round()"
   ]
  },
  {
   "cell_type": "code",
   "execution_count": 178,
   "metadata": {},
   "outputs": [],
   "source": [
    "#merge with main dataset\n",
    "Interconnection_Complete = pd.merge(Interconnection_Complete, mining_clean, how=\"left\", on=[\"Interconnect\"])"
   ]
  },
  {
   "cell_type": "code",
   "execution_count": 179,
   "metadata": {},
   "outputs": [],
   "source": [
    "#separating out the water to mining from industrial water total to avoid double counting. There is no SSW to coal mining\n",
    "Interconnection_Complete[\"INCOM-WGWFr\"] = Interconnection_Complete[\"INCOM-WGWFr\"] - Interconnection_Complete[\"MI_FGW\"]\n",
    "Interconnection_Complete[\"INCOM-WSWFr\"] = Interconnection_Complete[\"INCOM-WSWFr\"] - Interconnection_Complete[\"MI_FSW\"]\n",
    "Interconnection_Complete[\"INCOM-WGWSa\"] = Interconnection_Complete[\"INCOM-WGWSa\"] - Interconnection_Complete[\"MI_SGW\"]\n",
    "\n",
    "\n",
    "#subtracting out the consumed portion from the coal mining water from the total consumptive use in industrial/commercial/mining\n",
    "Interconnection_Complete[\"INCOM_CU\"] = Interconnection_Complete[\"INCOM_CU\"] - Interconnection_Complete[\"Coal_CU\"]\n",
    "\n",
    "#subtracting out the surface discharge\n",
    "Interconnection_Complete[\"INCOM_SD\"] = Interconnection_Complete[\"INCOM_SD\"] - Interconnection_Complete[\"Coal_SD\"]"
   ]
  },
  {
   "cell_type": "markdown",
   "metadata": {},
   "source": [
    "## Bringing in Thermoelectric cooling dataset from other notebook"
   ]
  },
  {
   "cell_type": "code",
   "execution_count": 180,
   "metadata": {},
   "outputs": [],
   "source": [
    "Thermo_cooling = pd.read_excel(r\"C:\\Users\\mong275\\Local Files\\Sankey_Notebook_Development\\Thermo_output.xlsx\")"
   ]
  },
  {
   "cell_type": "code",
   "execution_count": 181,
   "metadata": {},
   "outputs": [],
   "source": [
    "#merge with main dataset\n",
    "Interconnection_Complete = pd.merge(Interconnection_Complete, Thermo_cooling, how=\"left\", on=[\"Interconnect\"])"
   ]
  },
  {
   "cell_type": "code",
   "execution_count": 182,
   "metadata": {},
   "outputs": [
    {
     "data": {
      "text/html": [
       "<div>\n",
       "<style scoped>\n",
       "    .dataframe tbody tr th:only-of-type {\n",
       "        vertical-align: middle;\n",
       "    }\n",
       "\n",
       "    .dataframe tbody tr th {\n",
       "        vertical-align: top;\n",
       "    }\n",
       "\n",
       "    .dataframe thead th {\n",
       "        text-align: right;\n",
       "    }\n",
       "</style>\n",
       "<table border=\"1\" class=\"dataframe\">\n",
       "  <thead>\n",
       "    <tr style=\"text-align: right;\">\n",
       "      <th></th>\n",
       "      <th>Unnamed: 0</th>\n",
       "      <th>Interconnect</th>\n",
       "      <th>BIOMASS_Con</th>\n",
       "      <th>COAL_Con</th>\n",
       "      <th>NG_Con</th>\n",
       "      <th>NUCLEAR_Con</th>\n",
       "      <th>OIL_Con</th>\n",
       "      <th>BIOMASS_SD</th>\n",
       "      <th>COAL_SD</th>\n",
       "      <th>NG_SD</th>\n",
       "      <th>...</th>\n",
       "      <th>FR_UM_OIL</th>\n",
       "      <th>OT_OT_BIOMASS</th>\n",
       "      <th>OT_OT_COAL</th>\n",
       "      <th>OT_OT_NG</th>\n",
       "      <th>SA_GW_NG</th>\n",
       "      <th>SA_SW_BIOMASS</th>\n",
       "      <th>SA_SW_COAL</th>\n",
       "      <th>SA_SW_NG</th>\n",
       "      <th>SA_SW_NUCLEAR</th>\n",
       "      <th>SA_SW_OIL</th>\n",
       "    </tr>\n",
       "  </thead>\n",
       "  <tbody>\n",
       "    <tr>\n",
       "      <th>0</th>\n",
       "      <td>0</td>\n",
       "      <td>ERCOT</td>\n",
       "      <td>58.0</td>\n",
       "      <td>154199</td>\n",
       "      <td>41683</td>\n",
       "      <td>18798.0</td>\n",
       "      <td>NaN</td>\n",
       "      <td>22.0</td>\n",
       "      <td>1726317</td>\n",
       "      <td>212648</td>\n",
       "      <td>...</td>\n",
       "      <td>NaN</td>\n",
       "      <td>NaN</td>\n",
       "      <td>NaN</td>\n",
       "      <td>4825.0</td>\n",
       "      <td>NaN</td>\n",
       "      <td>NaN</td>\n",
       "      <td>NaN</td>\n",
       "      <td>136081.0</td>\n",
       "      <td>NaN</td>\n",
       "      <td>NaN</td>\n",
       "    </tr>\n",
       "    <tr>\n",
       "      <th>1</th>\n",
       "      <td>1</td>\n",
       "      <td>East</td>\n",
       "      <td>20494.0</td>\n",
       "      <td>1753478</td>\n",
       "      <td>430337</td>\n",
       "      <td>2426191.0</td>\n",
       "      <td>12396.0</td>\n",
       "      <td>206613.0</td>\n",
       "      <td>12385009</td>\n",
       "      <td>972808</td>\n",
       "      <td>...</td>\n",
       "      <td>276.0</td>\n",
       "      <td>708.0</td>\n",
       "      <td>1883.0</td>\n",
       "      <td>1358.0</td>\n",
       "      <td>986.0</td>\n",
       "      <td>20914.0</td>\n",
       "      <td>671208.0</td>\n",
       "      <td>1525538.0</td>\n",
       "      <td>5192986.0</td>\n",
       "      <td>123757.0</td>\n",
       "    </tr>\n",
       "    <tr>\n",
       "      <th>2</th>\n",
       "      <td>2</td>\n",
       "      <td>None</td>\n",
       "      <td>NaN</td>\n",
       "      <td>712</td>\n",
       "      <td>266</td>\n",
       "      <td>NaN</td>\n",
       "      <td>829.0</td>\n",
       "      <td>NaN</td>\n",
       "      <td>23612</td>\n",
       "      <td>102</td>\n",
       "      <td>...</td>\n",
       "      <td>219.0</td>\n",
       "      <td>NaN</td>\n",
       "      <td>NaN</td>\n",
       "      <td>NaN</td>\n",
       "      <td>NaN</td>\n",
       "      <td>NaN</td>\n",
       "      <td>NaN</td>\n",
       "      <td>NaN</td>\n",
       "      <td>NaN</td>\n",
       "      <td>136269.0</td>\n",
       "    </tr>\n",
       "    <tr>\n",
       "      <th>3</th>\n",
       "      <td>3</td>\n",
       "      <td>WECC</td>\n",
       "      <td>2667.0</td>\n",
       "      <td>70427</td>\n",
       "      <td>44966</td>\n",
       "      <td>17808.0</td>\n",
       "      <td>0.0</td>\n",
       "      <td>1054.0</td>\n",
       "      <td>27982</td>\n",
       "      <td>11022</td>\n",
       "      <td>...</td>\n",
       "      <td>NaN</td>\n",
       "      <td>NaN</td>\n",
       "      <td>NaN</td>\n",
       "      <td>NaN</td>\n",
       "      <td>NaN</td>\n",
       "      <td>NaN</td>\n",
       "      <td>NaN</td>\n",
       "      <td>307668.0</td>\n",
       "      <td>726350.0</td>\n",
       "      <td>NaN</td>\n",
       "    </tr>\n",
       "  </tbody>\n",
       "</table>\n",
       "<p>4 rows × 52 columns</p>\n",
       "</div>"
      ],
      "text/plain": [
       "   Unnamed: 0 Interconnect  BIOMASS_Con  COAL_Con  NG_Con  NUCLEAR_Con  \\\n",
       "0           0        ERCOT         58.0    154199   41683      18798.0   \n",
       "1           1         East      20494.0   1753478  430337    2426191.0   \n",
       "2           2         None          NaN       712     266          NaN   \n",
       "3           3         WECC       2667.0     70427   44966      17808.0   \n",
       "\n",
       "   OIL_Con  BIOMASS_SD   COAL_SD   NG_SD  ...  FR_UM_OIL  OT_OT_BIOMASS  \\\n",
       "0      NaN        22.0   1726317  212648  ...        NaN            NaN   \n",
       "1  12396.0    206613.0  12385009  972808  ...      276.0          708.0   \n",
       "2    829.0         NaN     23612     102  ...      219.0            NaN   \n",
       "3      0.0      1054.0     27982   11022  ...        NaN            NaN   \n",
       "\n",
       "   OT_OT_COAL  OT_OT_NG  SA_GW_NG  SA_SW_BIOMASS  SA_SW_COAL   SA_SW_NG  \\\n",
       "0         NaN    4825.0       NaN            NaN         NaN   136081.0   \n",
       "1      1883.0    1358.0     986.0        20914.0    671208.0  1525538.0   \n",
       "2         NaN       NaN       NaN            NaN         NaN        NaN   \n",
       "3         NaN       NaN       NaN            NaN         NaN   307668.0   \n",
       "\n",
       "   SA_SW_NUCLEAR  SA_SW_OIL  \n",
       "0            NaN        NaN  \n",
       "1      5192986.0   123757.0  \n",
       "2            NaN   136269.0  \n",
       "3       726350.0        NaN  \n",
       "\n",
       "[4 rows x 52 columns]"
      ]
     },
     "execution_count": 182,
     "metadata": {},
     "output_type": "execute_result"
    }
   ],
   "source": [
    "Thermo_cooling.head()"
   ]
  },
  {
   "cell_type": "markdown",
   "metadata": {},
   "source": [
    "<h1> Save to Excel </h1>\n",
    "Code below prints the main dataframe with all required values for sankey diagram into a single excel xlsx spreadsheet"
   ]
  },
  {
   "cell_type": "code",
   "execution_count": 183,
   "metadata": {},
   "outputs": [],
   "source": [
    "Interconnection_Complete.to_excel(\"Interconnection_Complete.xlsx\")"
   ]
  }
 ],
 "metadata": {
  "kernelspec": {
   "display_name": "Python 3 (ipykernel)",
   "language": "python",
   "name": "python3"
  },
  "language_info": {
   "codemirror_mode": {
    "name": "ipython",
    "version": 3
   },
   "file_extension": ".py",
   "mimetype": "text/x-python",
   "name": "python",
   "nbconvert_exporter": "python",
   "pygments_lexer": "ipython3",
   "version": "3.9.4"
  }
 },
 "nbformat": 4,
 "nbformat_minor": 4
}

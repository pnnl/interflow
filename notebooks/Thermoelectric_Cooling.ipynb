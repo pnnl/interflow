{
 "cells": [
  {
   "cell_type": "markdown",
   "metadata": {},
   "source": [
    "# Water & Power Interconnection Sankey Flows (WPISF)\n",
    "## Thermoelectric Cooling Detailed Analysis\n",
    "\n",
    "#### USGS thermoelectric cooling data\n",
    "\n",
    "USGS provides thermoelectric cooling water data on a plant-level for 2015. This data includes water type, water source, withdrawal amount (MGD), and consumption amount (MGD)\n",
    "\n",
    "For plants that have multiple types of generators (e.g. Natural Gas and Coal) these plants have simply been labeled as \"COMPLEX\"\n",
    "\n",
    "In order to split out complex plant types into their respective generators, the USGS file is combined with EIA data that lists the generators, their MWH output, size, and other information for each plant. \n",
    "\n",
    "In order to determine how much of the total withdrawal for complex plants belongs to each of it's sub-generators, the water intensities of each technology types are calculated for the USGS data that is not listed as complex and then applied to the now known generator types. That is, if the average water intensity of NGCC Once-through plants in the USGS dataset is equal to X MGD per MWh, the calculated intensity of X is multiplied by the MWH provided by that generator. The latter of this information is provided in the EIA 923 dataset. \n",
    "\n",
    "Performing this analysis allows for greater accounting of specific technology types in the dataset as a whole. Many power plants are complex, without separating these out into their respective types, it would be unclear to what kind of technology the total amount of water is going.\n",
    "\n",
    "In addition to technology type, the water source and type are filled in following sets of assumptions such as: all generators with a river listed as it's source and unknown quality is assumed to be fresh surface water. Similarly, wells are assumed to be fresh groundwater if information is not provided.\n",
    "\n",
    "Water data in this notebook was obtained from USGS [1] and energy production data was obtained from EIA [2].\n",
    "\n",
    "References:\n",
    "1.  Dieter, C. A., Maupin, M. A., Caldwell, R. R., Harris, M. A., Ivahnenko, T. I., Lovelace, J. K., Barber, N. L., & Linsey, K. S. (2018). Estimated use of water in the United States in 2015.\n",
    "\n",
    "2. U.S. Energy Information Administration (EIA). (2016). Form EIA-923 detailed data with previous form data (EIA-906/920). U.S. EIA. Retrieved January 15 from https://www.eia.gov/electricity/data/eia923/"
   ]
  },
  {
   "cell_type": "code",
   "execution_count": 1,
   "metadata": {},
   "outputs": [],
   "source": [
    "#imports\n",
    "import numpy as np\n",
    "import pandas as pd"
   ]
  },
  {
   "cell_type": "code",
   "execution_count": 2,
   "metadata": {},
   "outputs": [
    {
     "ename": "SyntaxError",
     "evalue": "EOL while scanning string literal (<ipython-input-2-0061693be6df>, line 12)",
     "output_type": "error",
     "traceback": [
      "\u001b[1;36m  File \u001b[1;32m\"<ipython-input-2-0061693be6df>\"\u001b[1;36m, line \u001b[1;32m12\u001b[0m\n\u001b[1;33m    Inter_NERC = pd.read_excel('data/NERC_Interconnect_List.xlsx\")\u001b[0m\n\u001b[1;37m                                                                  ^\u001b[0m\n\u001b[1;31mSyntaxError\u001b[0m\u001b[1;31m:\u001b[0m EOL while scanning string literal\n"
     ]
    }
   ],
   "source": [
    "#read in USGS thermoelectric water data\n",
    "USGS_TEC = pd.read_excel(\"data/2015_TE_Model_Estimates_USGS.xlsx\")\n",
    "#drop plants where withdrawal = 0\n",
    "USGS_TEC = USGS_TEC[(USGS_TEC[['WITHDRAWAL']] > 0).all(axis=1)]\n",
    "\n",
    "#selecting columns of interest\n",
    "USGS_TEC = USGS_TEC[[\"EIA_PLANT_ID\", \"NAME_OF_WATER_SOURCE\",\"WATER_SOURCE_CODE\", \n",
    "                     \"WATER_TYPE_CODE\",\"WITHDRAWAL\", \"CONSUMPTION\",\"GENERATION_TYPE\",\"COOLING_TYPE\",\"NET_GENERATION\"]]\n",
    "USGS_TEC = USGS_TEC.rename(columns={\"EIA_PLANT_ID\": \"Plant Code\"})\n",
    "\n",
    "#read in and merge NERC_Interconnect datafile\n",
    "Inter_NERC = pd.read_excel('data/NERC_Interconnect_List.xlsx\")\n",
    "\n",
    "#Read in NERC_Plant Code file\n",
    "NERC = pd.read_excel(\"data/Plant_BalancingAuthority_NERC_List.xlsx\")\n",
    "Plant_inter = pd.merge(NERC, Inter_NERC, how=\"left\", on=[\"NERC Region\"]) #merge\n",
    "\n",
    "Plant_inter = Plant_inter[[\"Plant Code\", \"Interconnect\"]] #reduce to variables of interest\n",
    "\n",
    "USGS_TEC = pd.merge(USGS_TEC, Plant_inter, how=\"left\", on=[\"Plant Code\"]) #bring it together with the TEC data"
   ]
  },
  {
   "cell_type": "markdown",
   "metadata": {},
   "source": [
    "#### Corrections for water type and source\n",
    "Code below simplifies some of the water source groupings and assigns water source codes."
   ]
  },
  {
   "cell_type": "code",
   "execution_count": null,
   "metadata": {},
   "outputs": [],
   "source": [
    "#some general cleaning for municipality and city water \n",
    "USGS_TEC['WATER_SOURCE_CODE'] = np.where(USGS_TEC['NAME_OF_WATER_SOURCE'] != \"Municipality\", \n",
    "                                                  USGS_TEC['WATER_SOURCE_CODE'], \n",
    "                                                  \"UM\")\n",
    "\n",
    "USGS_TEC['WATER_TYPE_CODE'] = np.where(USGS_TEC['NAME_OF_WATER_SOURCE'] != \"Municipality\", \n",
    "                                                  USGS_TEC['WATER_TYPE_CODE'], \n",
    "                                                  \"FR\")\n",
    "\n",
    "USGS_TEC['WATER_SOURCE_CODE'] = np.where(USGS_TEC['NAME_OF_WATER_SOURCE'] != \"City Water\", \n",
    "                                                  USGS_TEC['WATER_SOURCE_CODE'], \n",
    "                                                  \"UM\")\n",
    "\n",
    "USGS_TEC['WATER_TYPE_CODE'] = np.where(USGS_TEC['NAME_OF_WATER_SOURCE'] != \"City Water\", \n",
    "                                                  USGS_TEC['WATER_TYPE_CODE'], \n",
    "                                                  \"FR\")\n",
    "#cleaning for wells\n",
    "USGS_TEC['WATER_SOURCE_CODE'] = np.where(USGS_TEC['NAME_OF_WATER_SOURCE'] != \"Wells\", \n",
    "                                                  USGS_TEC['WATER_SOURCE_CODE'], \n",
    "                                                  \"GW\")\n",
    "\n",
    "USGS_TEC['WATER_TYPE_CODE'] = np.where(USGS_TEC['NAME_OF_WATER_SOURCE'] != \"Wells\", \n",
    "                                                  USGS_TEC['WATER_TYPE_CODE'], \n",
    "                                                  \"FR\")\n",
    "USGS_TEC['WATER_SOURCE_CODE'] = np.where(USGS_TEC['NAME_OF_WATER_SOURCE'] != \"Well\", \n",
    "                                                  USGS_TEC['WATER_SOURCE_CODE'], \n",
    "                                                  \"GW\")\n",
    "\n",
    "USGS_TEC['WATER_TYPE_CODE'] = np.where(USGS_TEC['NAME_OF_WATER_SOURCE'] != \"Well\", \n",
    "                                                  USGS_TEC['WATER_TYPE_CODE'], \n",
    "                                                  \"FR\")"
   ]
  },
  {
   "cell_type": "markdown",
   "metadata": {},
   "source": [
    "Note that some plants in the USGS dataset had blank values for source and type. Values were filled in based on assumptions regarding the name of the water source. For example, if the water source name was a lake, it was assumed that the water type was fresh and the water source was surface water. These corrections can be found in the TEC_corrections.xlsx spreadsheet in the data folder."
   ]
  },
  {
   "cell_type": "code",
   "execution_count": null,
   "metadata": {},
   "outputs": [],
   "source": [
    "#import file of manual fixes based on plant code\n",
    "manual_fix = pd.read_excel(\"data\\TEC_corrections.xlsx\")\n",
    "manual_fix[\"Manual Fix?\"] = \"Yes\"\n",
    "USGS_TEC = pd.merge(USGS_TEC, manual_fix, how=\"left\", on=[\"Plant Code\"]) #merge\n",
    "\n",
    "\n",
    "USGS_TEC['SOURCE'] = np.where(USGS_TEC['Manual Fix?'] == \"Yes\",\n",
    "                              USGS_TEC[\"Source\"],\n",
    "                              USGS_TEC['WATER_SOURCE_CODE'])\n",
    "\n",
    "USGS_TEC['TYPE'] = np.where(USGS_TEC['Manual Fix?'] == \"Yes\", \n",
    "                                                  USGS_TEC[\"Type\"], \n",
    "                                                  USGS_TEC['WATER_TYPE_CODE'])\n",
    "\n",
    "#removes multiple source and types and replaces them with assumed singular\n",
    "USGS_TEC.loc[USGS_TEC['SOURCE'] == \"GW & SW\", 'SOURCE'] = \"GW\"\n",
    "USGS_TEC.loc[USGS_TEC['SOURCE'] == \"GW & PD\", 'SOURCE'] = \"GW\"\n",
    "USGS_TEC.loc[USGS_TEC['TYPE'] == \"FR & BE\", 'TYPE'] = \"FR\"\n",
    "\n",
    "#removing extra type identifier in cooling type information\n",
    "USGS_TEC.loc[USGS_TEC['COOLING_TYPE'] == \"ONCE-THROUGH FRESH\", 'COOLING_TYPE'] = \"ONCE-THROUGH\"\n",
    "USGS_TEC.loc[USGS_TEC['COOLING_TYPE'] == \"ONCE-THROUGH SALINE\", 'COOLING_TYPE'] = \"ONCE-THROUGH\"\n",
    "\n",
    "#drop variables no longer needed\n",
    "USGS_TEC = USGS_TEC.drop([\"Source\", \"Type\", \"WATER_SOURCE_CODE\", \"WATER_TYPE_CODE\",\"Manual Fix?\"], axis=1)"
   ]
  },
  {
   "cell_type": "markdown",
   "metadata": {},
   "source": [
    "#### Filling out COMPLEX Generator Types\n",
    "Code below creates a copy of the USGS dataset that does not include COMPLEX generation sources. This is to calculate the water intensity rates to be able to apply to the revealed generator types later. We only want to use the totally informed USGS data for water intensity calculations."
   ]
  },
  {
   "cell_type": "code",
   "execution_count": null,
   "metadata": {},
   "outputs": [],
   "source": [
    "USGS_NC_gen = USGS_TEC[(USGS_TEC[['GENERATION_TYPE']] != \"COMPLEX\").all(axis=1)]"
   ]
  },
  {
   "cell_type": "markdown",
   "metadata": {},
   "source": [
    "#### Withdrawal and Consumption Intensity Value Calculations:"
   ]
  },
  {
   "cell_type": "markdown",
   "metadata": {},
   "source": [
    "Steps to calculate the withdrawn and consumption intensity by generator/cooling-type combination:\n",
    "* Calculate the water/MWh intensity for each USGS generation & cooling technology combo for COMPLEX generator types\n",
    "* Calculate the water/MWh intensity for each USGS generation across all cooling types for COMPLEX cooling types"
   ]
  },
  {
   "cell_type": "code",
   "execution_count": null,
   "metadata": {},
   "outputs": [],
   "source": [
    "#group the non-complex USGS datafile by generator and cooling type\n",
    "USGS_Int = USGS_NC_gen.groupby([\"GENERATION_TYPE\",\"COOLING_TYPE\"], as_index=False).sum()\n",
    "\n",
    "#calculate the MGD/MWH\n",
    "USGS_Int[\"With Intensity\"] = USGS_Int[\"WITHDRAWAL\"]/USGS_Int[\"NET_GENERATION\"]\n",
    "USGS_Int[\"Con Intensity\"] = USGS_Int[\"CONSUMPTION\"]/USGS_Int[\"NET_GENERATION\"]\n",
    "\n",
    "#separate out to just the ones that don't have complex cooling types\n",
    "USGS_Int = USGS_Int[(USGS_Int[['COOLING_TYPE']] != \"COMPLEX\").all(axis=1)]\n",
    "\n",
    "#Calculating the average intensity across each generation type as a fill-in for the complex cooling systems\n",
    "USGS_Int_avg = USGS_Int.groupby([\"GENERATION_TYPE\"], as_index=False).mean()\n",
    "\n",
    "#creating identifier row\n",
    "USGS_Int_avg[\"COOLING_TYPE\"] = \"COMPLEX\"\n",
    "\n",
    "#subselecting columns\n",
    "USGS_Int_avg = USGS_Int_avg[[\"GENERATION_TYPE\", \"COOLING_TYPE\", \"With Intensity\", \"Con Intensity\"]]\n",
    "\n",
    "#creates a table of intensity rates for generation/cooling-type combinations\n",
    "frames = [USGS_Int, USGS_Int_avg]\n",
    "intensity = pd.concat(frames)\n",
    "\n",
    "#variables of interest from intensity dataframe\n",
    "intensity = intensity[[\"GENERATION_TYPE\",\"COOLING_TYPE\",\"With Intensity\", \"Con Intensity\"]]\n",
    "#rename\n",
    "intensity = intensity.rename(columns={\"GENERATION_TYPE\": \"Class\"})"
   ]
  },
  {
   "cell_type": "markdown",
   "metadata": {},
   "source": [
    "#### Use EIA data to split out complex plants into their actual generator types\n",
    "\n",
    "* Use EIA 923 plant level data to split out each COMPLEX plant in the USGS dataset into it's sub-generator types and mover types\n",
    "* Calculate the percent of total generation by each generator in a plant for EIA data as a proxy for percent of total water withdrawal.\n",
    "* Conform the EIA data to the USGS data labeling for generators"
   ]
  },
  {
   "cell_type": "code",
   "execution_count": null,
   "metadata": {},
   "outputs": [],
   "source": [
    "#read in EIA data\n",
    "EIA = pd.read_excel(\"data/EIA923_Schedules_2_3_4_5_M_12_2015_Final_Revision.xlsx\",skiprows=5)\n",
    "\n",
    "#grabbing relevant columns\n",
    "EIA = EIA[[\"Plant Id\", \"AER\\nFuel Type Code\", \"Reported\\nPrime Mover\", \"Net Generation\\n(Megawatthours)\"] ]\n",
    "\n",
    "#combining EIA information by plant code to get the total withdrawal and consumption by plant\n",
    "EIA_sum = EIA.groupby([\"Plant Id\"], as_index=False).sum()\n",
    "\n",
    "#renaming the summed values to be able to merge back\n",
    "EIA_sum = EIA_sum.rename(columns={\"Net Generation\\n(Megawatthours)\": \"Plant Total MWh\"})\n",
    "\n",
    "#merging the total generator values to the generator level data\n",
    "EIA = pd.merge(EIA, EIA_sum, how=\"left\", on=[\"Plant Id\"])\n",
    "\n",
    "#calculating the percent of total generation each generator contributes to the overall plant number\n",
    "EIA[\"Percent_Gen\"] = EIA[\"Net Generation\\n(Megawatthours)\"] / EIA[\"Plant Total MWh\"]\n",
    "\n",
    "#replaces NAN with 0\n",
    "EIA.fillna(0, inplace=True)\n",
    "\n",
    "#rename plant id to prep for merging\n",
    "EIA = EIA.rename(columns={\"Plant Id\": \"Plant Code\"})"
   ]
  },
  {
   "cell_type": "code",
   "execution_count": null,
   "metadata": {},
   "outputs": [],
   "source": [
    "#renames the EIA data to match the generator naming from USGS\n",
    "\n",
    "AER_Key = pd.read_excel(\"data/AERFuel-Key.xlsx\")\n",
    "Mover_Key = pd.read_excel(\"data/AERFuel-Key.xlsx\",\"Sheet2\")\n",
    "\n",
    "EIA = pd.merge(EIA, AER_Key, how=\"left\", on=[\"AER\\nFuel Type Code\"])\n",
    "EIA = pd.merge(EIA, Mover_Key, how=\"left\", on=[\"Reported\\nPrime Mover\"])\n",
    "EIA = EIA[[\"Plant Code\", \"Technology\", \"key\", \"Percent_Gen\"]]"
   ]
  },
  {
   "cell_type": "markdown",
   "metadata": {},
   "source": [
    "#### Preps the USGS file and separates out the COMPLEX generation"
   ]
  },
  {
   "cell_type": "code",
   "execution_count": null,
   "metadata": {},
   "outputs": [],
   "source": [
    "#splits out just the complex generators\n",
    "USGS_Complex_gen = USGS_TEC[USGS_TEC['GENERATION_TYPE'] == \"COMPLEX\"]\n",
    "\n",
    "#merge USGS full dataset with the new information from EIA on generator type\n",
    "USGS_Complex_gen = pd.merge(USGS_Complex_gen, EIA, how=\"left\", on=[\"Plant Code\"])"
   ]
  },
  {
   "cell_type": "code",
   "execution_count": null,
   "metadata": {},
   "outputs": [],
   "source": [
    "#data cleaning\n",
    "def conditions(s):\n",
    "    if (s['Technology'] == \"NG\") and (s['key'] == \"CC\"):\n",
    "        return \"NGCC\"\n",
    "    if (s['Technology'] == \"NG\") and (s['key'] == \"CT\"):\n",
    "        return \"NGCC\"\n",
    "    if (s['Technology'] == \"NG\") and (s['key'] == \"CA\"):\n",
    "        return \"NGCC\"\n",
    "    if (s['Technology'] == \"NG\") and (s['key'] == \"CS\"):\n",
    "        return \"NGCC\"\n",
    "    if (s['Technology'] == \"NG\") and (s['key'] == \"IC\"):\n",
    "        return \"NGCC\"\n",
    "    if (s['Technology'] == \"NG\") and (s['key'] == \"GT\"):\n",
    "        return \"NGCC\"\n",
    "    if (s['Technology'] == \"NG\") and (s['key'] == \"ST\"):\n",
    "        return \"GAS STEAM\"\n",
    "    if (s['Technology'] == \"Oil\") and (s['key'] == \"CC\"):\n",
    "        return \"OIL CC\"\n",
    "    else:\n",
    "        return \".\"\n",
    "    \n",
    "USGS_Complex_gen['Class'] = USGS_Complex_gen.apply(conditions, axis=1)\n",
    "\n",
    "#if not one of the above conditions, fill in with previous value\n",
    "USGS_Complex_gen['Class'] = np.where(USGS_Complex_gen['Class'] == \".\", \n",
    "                                                  USGS_Complex_gen['Technology'], \n",
    "                                                  USGS_Complex_gen['Class'])\n",
    "\n",
    "#Calculates the generation per generator of complex systems using USGS generation values based on percentages from eia\n",
    "USGS_Complex_gen[\"Gen_MWh\"] = USGS_Complex_gen[\"Percent_Gen\"]* USGS_Complex_gen['NET_GENERATION']\n",
    "\n",
    "#drops rows with no output. Assumes no water withdrawal if no output\n",
    "#USGS_Complex_gen = USGS_Complex_gen[(USGS_Complex_gen[['Gen_MWh']] != 0).all(axis=1)]\n",
    "\n",
    "#reduces USGS dataframe to only incldue plants that have water withdrawal\n",
    "USGS_Complex_gen = USGS_Complex_gen[(USGS_Complex_gen[['WITHDRAWAL']] > 0).all(axis=1)]\n",
    "\n",
    "#Drops generation types that do not apply\n",
    "USGS_Complex_gen = USGS_Complex_gen[(USGS_Complex_gen[['Class']] != \"OTHER\").all(axis=1)]\n",
    "USGS_Complex_gen = USGS_Complex_gen[(USGS_Complex_gen[['Class']] != \"WIND\").all(axis=1)]\n",
    "USGS_Complex_gen = USGS_Complex_gen[(USGS_Complex_gen[['Class']] != \"SOLAR\").all(axis=1)]\n",
    "USGS_Complex_gen = USGS_Complex_gen[(USGS_Complex_gen[['Class']] != \"HYDRO\").all(axis=1)]\n",
    "\n",
    "#variables of interest from USGS file\n",
    "USGS_Complex_gen = USGS_Complex_gen[[\"Plant Code\",\"Interconnect\", \"SOURCE\", \"TYPE\",\"NAME_OF_WATER_SOURCE\", \n",
    "                     \"WITHDRAWAL\", \"CONSUMPTION\", \"Class\", \"COOLING_TYPE\", \"Gen_MWh\"]]"
   ]
  },
  {
   "cell_type": "markdown",
   "metadata": {},
   "source": [
    "#### Apply Intensity Rates to Complex Generator Types\n",
    "This measures their percent of estimated withdrawals and applies that percent to actual total plant withdrawals. Note that this is a simplification and that percent of water withdrawals by a generator will not be a 1:1 ratio with their percent of plant energy generation.\n",
    "\n",
    "* Multiply the intensity rate for each gen type and cooling combo by the generation per generator MWh\n",
    "\n",
    "* Calculate the percent of calculated water withdrawals for each generator in a plant\n",
    "* Multiply these percentages by the total USGS withdrawals per plant\n",
    "* Repeat for Consumption Intensity\n",
    "* Stack on non COMPLEX table"
   ]
  },
  {
   "cell_type": "code",
   "execution_count": null,
   "metadata": {},
   "outputs": [],
   "source": [
    "#merge USGS complex cooling data with intensity dataframe\n",
    "USGS_Complex_gen = pd.merge(USGS_Complex_gen, intensity, how=\"left\", on=[\"Class\", \"COOLING_TYPE\"])\n",
    "\n",
    "#multiplies intensity values by generator and cooling type in USGS dataset\n",
    "USGS_Complex_gen[\"Withdrawal\"] = USGS_Complex_gen[\"With Intensity\"]*USGS_Complex_gen[\"Gen_MWh\"]\n",
    "USGS_Complex_gen[\"Consumption\"] = USGS_Complex_gen[\"Con Intensity\"]*USGS_Complex_gen[\"Gen_MWh\"]"
   ]
  },
  {
   "cell_type": "code",
   "execution_count": null,
   "metadata": {},
   "outputs": [],
   "source": [
    "USGS_Complex_total = USGS_Complex_gen.groupby(\"Plant Code\", as_index = False).sum()\n",
    "\n",
    "USGS_Complex_total = USGS_Complex_total.rename(columns={\"Withdrawal\": \"Total Estimated With\"})\n",
    "USGS_Complex_total = USGS_Complex_total.rename(columns={\"Consumption\": \"Total Estimated Con\"})\n",
    "\n",
    "USGS_Complex_total = USGS_Complex_total[[\"Plant Code\", \"Total Estimated With\",\"Total Estimated Con\"]]\n",
    "USGS_Complex_gen = pd.merge(USGS_Complex_gen, USGS_Complex_total, how=\"left\", on= \"Plant Code\")"
   ]
  },
  {
   "cell_type": "code",
   "execution_count": null,
   "metadata": {},
   "outputs": [],
   "source": [
    "#takes the calculated withdrawal from the intensity rates and gets the fraction (PW) of total USGS estimated withdrawal\n",
    "USGS_Complex_gen[\"PW\"] = USGS_Complex_gen[\"Withdrawal\"]/USGS_Complex_gen[\"Total Estimated With\"]\n",
    "#repeats for consumption\n",
    "USGS_Complex_gen[\"PC\"] = USGS_Complex_gen[\"Consumption\"]/USGS_Complex_gen[\"Total Estimated Con\"]\n",
    "\n",
    "#replace USGS total plant withdrawal & consumption values with the generator-level contribution to total\n",
    "USGS_Complex_gen[\"WITHDRAWAL\"] = USGS_Complex_gen[\"PW\"]*USGS_Complex_gen[\"WITHDRAWAL\"]\n",
    "USGS_Complex_gen[\"CONSUMPTION\"] = USGS_Complex_gen[\"PC\"]*USGS_Complex_gen[\"CONSUMPTION\"]\n",
    "\n",
    "#replace infinate values with 0\n",
    "USGS_Complex_gen.replace([np.inf, -np.inf],  np.nan, inplace=True)\n",
    "USGS_Complex_gen.fillna(0, inplace=True)"
   ]
  },
  {
   "cell_type": "markdown",
   "metadata": {},
   "source": [
    "#### Combine the filled in complex dataframe to the non-complex dataframe"
   ]
  },
  {
   "cell_type": "code",
   "execution_count": null,
   "metadata": {},
   "outputs": [],
   "source": [
    "USGS_Complex_gen = USGS_Complex_gen.rename(columns={\"Class\": \"GENERATION_TYPE\"})\n",
    "\n",
    "stack = [USGS_Complex_gen, USGS_NC_gen]\n",
    "Thermo_df = pd.concat(stack)"
   ]
  },
  {
   "cell_type": "markdown",
   "metadata": {},
   "source": [
    "#### Filling out COMPLEX Cooling Types\n",
    "Now that complex generation is dealt with, the complex cooling has to be dealt with. The distribution of generation + cooling type in an interconnect will be applied to complex cooling type rows to fill out this information. This effectively assumes that the type of cooling for complex cooling types follows the distribution of all similar generator types within a particular interconnect. That is, if 50% of coal plants have once-through cooling in ERCOT, it is assumed that this percentage applies to the ERCOT coal plants with complex cooling.<br>\n",
    "Steps:\n",
    "* Separate out the non-complex cooling plants from the Thermo dataframe\n",
    "* Group by Generation type and cooling type and count the number of each\n",
    "* Count the total number of plants by generation type\n",
    "* Calculate the percentage of each cooling type for each generation type\n",
    "* Apply the percentages to the generator + complex cooling separated out from the Thermo dataframe\n",
    "* Recombine"
   ]
  },
  {
   "cell_type": "markdown",
   "metadata": {},
   "source": [
    "#### Determine the percent of plants with a particular cooling type for each interconnect and generator type"
   ]
  },
  {
   "cell_type": "code",
   "execution_count": null,
   "metadata": {},
   "outputs": [],
   "source": [
    "#create a separate dataframe from the filled out one that does not have complex cooling type\n",
    "Thermo_NC = Thermo_df[(Thermo_df[['COOLING_TYPE']] != \"COMPLEX\").all(axis=1)]\n",
    "\n",
    "#including interconnect because different regions may have cooling requirements\n",
    "Thermo_NC = Thermo_NC.groupby([\"Interconnect\",\"GENERATION_TYPE\",\"COOLING_TYPE\"], as_index=False).count()\n",
    "\n",
    "#rename the column\n",
    "Thermo_NC = Thermo_NC.rename(columns={\"TYPE\": \"Count\"})\n",
    "\n",
    "#Calculate the total number of instances with a particular interconnect + generator + cooling type\n",
    "Thermo_NC_sum = Thermo_NC.groupby([\"Interconnect\",\"GENERATION_TYPE\"], as_index=False).sum()\n",
    "Thermo_NC_sum = Thermo_NC_sum.rename(columns={\"Count\": \"Sum\"})\n",
    "\n",
    "#reduce to variables of interest\n",
    "Thermo_NC_sum = Thermo_NC_sum[[\"Interconnect\", \"GENERATION_TYPE\",\"Sum\"]]\n",
    "\n",
    "#merge totals back to full thermo_NC dataframe\n",
    "Thermo_NC = pd.merge(Thermo_NC, Thermo_NC_sum, how=\"left\", on=[\"Interconnect\", \"GENERATION_TYPE\"])"
   ]
  },
  {
   "cell_type": "code",
   "execution_count": null,
   "metadata": {},
   "outputs": [],
   "source": [
    "#calculate the percentages of each cooling type within each generator type\n",
    "Thermo_NC[\"Cool_percent\"] = Thermo_NC[\"Count\"] / Thermo_NC[\"Sum\"]\n",
    "Thermo_NC = Thermo_NC[[\"Interconnect\", \"GENERATION_TYPE\", \"COOLING_TYPE\", \"Cool_percent\"]]\n",
    "\n",
    "#create a pivot table of the percentages\n",
    "Thermo_NC = pd.pivot_table(Thermo_NC, values='Cool_percent', index=['Interconnect', 'GENERATION_TYPE'],\n",
    "                    columns=['COOLING_TYPE'], aggfunc=np.sum)\n",
    "#fill blanks with zero\n",
    "Thermo_NC.fillna(0, inplace=True)\n",
    "#reset index\n",
    "Thermo_NC = Thermo_NC.reset_index()\n",
    "Thermo_NC = Thermo_NC.rename_axis(None, axis=1)                           #drop index name"
   ]
  },
  {
   "cell_type": "markdown",
   "metadata": {},
   "source": [
    "#### Bring percentage table together with complex cooling dataframe"
   ]
  },
  {
   "cell_type": "code",
   "execution_count": null,
   "metadata": {},
   "outputs": [],
   "source": [
    "Thermo_complex = Thermo_df[(Thermo_df[['COOLING_TYPE']] == \"COMPLEX\").all(axis=1)]\n",
    "Thermo_complex = pd.merge(Thermo_complex, Thermo_NC, how=\"left\", on=[\"Interconnect\", \"GENERATION_TYPE\"])"
   ]
  },
  {
   "cell_type": "markdown",
   "metadata": {},
   "source": [
    "#### Calculate out Complex cooling types by percentages determined previously"
   ]
  },
  {
   "cell_type": "code",
   "execution_count": null,
   "metadata": {},
   "outputs": [],
   "source": [
    "Thermo_complex[\"ONCE-THROUGH_W\"] = Thermo_complex[\"WITHDRAWAL\"]*Thermo_complex[\"ONCE-THROUGH\"]\n",
    "Thermo_complex[\"ONCE-THROUGH_C\"] = Thermo_complex[\"CONSUMPTION\"]*Thermo_complex[\"ONCE-THROUGH\"]\n",
    "\n",
    "Thermo_complex[\"RECIRCULATING POND_W\"] = Thermo_complex[\"WITHDRAWAL\"]*Thermo_complex[\"RECIRCULATING POND\"]\n",
    "Thermo_complex[\"RECIRCULATING POND_C\"] = Thermo_complex[\"WITHDRAWAL\"]*Thermo_complex[\"RECIRCULATING POND\"]\n",
    "\n",
    "Thermo_complex[\"RECIRCULATING TOWER_W\"] = Thermo_complex[\"WITHDRAWAL\"]*Thermo_complex[\"RECIRCULATING TOWER\"]\n",
    "Thermo_complex[\"RECIRCULATING TOWER_C\"] = Thermo_complex[\"WITHDRAWAL\"]*Thermo_complex[\"RECIRCULATING TOWER\"]"
   ]
  },
  {
   "cell_type": "code",
   "execution_count": null,
   "metadata": {},
   "outputs": [],
   "source": [
    "#split out once-through as a separate dataframe\n",
    "Thermo_Complex_OT = Thermo_complex[[\"Plant Code\", \"Interconnect\",\"GENERATION_TYPE\", \"SOURCE\", \"TYPE\", \n",
    "                                    \"NAME_OF_WATER_SOURCE\", \"ONCE-THROUGH_W\", \"ONCE-THROUGH_C\"]].copy()\n",
    "Thermo_Complex_OT[\"COOLING_TYPE\"] = \"ONCE-THROUGH\"\n",
    "Thermo_Complex_OT[\"Cool_Type\"] = \"OT\"\n",
    "\n",
    "#split out recirculating tower as a separate dataframe\n",
    "Thermo_Complex_RT = Thermo_complex[[\"Plant Code\", \"Interconnect\",\"GENERATION_TYPE\", \"SOURCE\", \"TYPE\", \n",
    "                                    \"NAME_OF_WATER_SOURCE\", \"RECIRCULATING TOWER_W\", \"RECIRCULATING TOWER_C\"]].copy()\n",
    "Thermo_Complex_RT[\"COOLING_TYPE\"] = \"RECIRCULATING TOWER\"\n",
    "Thermo_Complex_RT[\"Cool_Type\"] = \"RT\"\n",
    "\n",
    "#split out recirculating pond as a separate dataframe\n",
    "Thermo_Complex_RP = Thermo_complex[[\"Plant Code\", \"Interconnect\", \"GENERATION_TYPE\",\"SOURCE\", \n",
    "                                    \"TYPE\", \"NAME_OF_WATER_SOURCE\", \n",
    "                                    \"RECIRCULATING POND_W\", \"RECIRCULATING POND_C\"]].copy()\n",
    "Thermo_Complex_RP[\"COOLING_TYPE\"] = \"RECIRCULATING POND\"\n",
    "Thermo_Complex_RP[\"Cool_Type\"] = \"RP\""
   ]
  },
  {
   "cell_type": "code",
   "execution_count": null,
   "metadata": {},
   "outputs": [],
   "source": [
    "#bring the three separate cooling type dataframes together\n",
    "join = [Thermo_Complex_OT, Thermo_Complex_RT,Thermo_Complex_RP]\n",
    "Complex_df = pd.concat(join)\n",
    "#Thermo_complex_con = pd.concat(join)\n",
    "\n",
    "Complex_df.fillna(0, inplace=True)"
   ]
  },
  {
   "cell_type": "code",
   "execution_count": null,
   "metadata": {},
   "outputs": [],
   "source": [
    "Complex_df[\"WITHDRAWAL\"] = Complex_df[['ONCE-THROUGH_W','RECIRCULATING TOWER_W','RECIRCULATING POND_W']].max(axis=1)\n",
    "Complex_df[\"CONSUMPTION\"] = Complex_df[['ONCE-THROUGH_C','RECIRCULATING TOWER_C','RECIRCULATING POND_C']].max(axis=1)"
   ]
  },
  {
   "cell_type": "code",
   "execution_count": null,
   "metadata": {},
   "outputs": [],
   "source": [
    "Complex_df = Complex_df[['Plant Code','Interconnect','GENERATION_TYPE','SOURCE',\n",
    "                         'TYPE','NAME_OF_WATER_SOURCE','COOLING_TYPE','WITHDRAWAL','CONSUMPTION']]"
   ]
  },
  {
   "cell_type": "markdown",
   "metadata": {},
   "source": [
    "#### Combine back with non-complex cooling dataframe"
   ]
  },
  {
   "cell_type": "code",
   "execution_count": null,
   "metadata": {},
   "outputs": [],
   "source": [
    "#copy of dataframe without complex cooling type\n",
    "Not_complex_df = Thermo_df[(Thermo_df[['COOLING_TYPE']] != \"COMPLEX\").all(axis=1)]\n",
    "Not_complex_df = Not_complex_df[['Plant Code','Interconnect','GENERATION_TYPE','SOURCE',\n",
    "                         'TYPE','NAME_OF_WATER_SOURCE','COOLING_TYPE','WITHDRAWAL','CONSUMPTION']]\n",
    "\n",
    "frame = [Not_complex_df, Complex_df]"
   ]
  },
  {
   "cell_type": "markdown",
   "metadata": {},
   "source": [
    "#### Plant-level complete withdrawal and consumption dataset"
   ]
  },
  {
   "cell_type": "code",
   "execution_count": null,
   "metadata": {},
   "outputs": [],
   "source": [
    "#final dataframe with all complex split out into various types\n",
    "Thermoelectric_df = pd.concat(frame)\n",
    "\n",
    "#changing to MGY from MGD\n",
    "Thermoelectric_df[Thermoelectric_df.select_dtypes(include=['number']).columns] *= 365"
   ]
  },
  {
   "cell_type": "markdown",
   "metadata": {},
   "source": [
    "### Discharge Calculations\n",
    "\n",
    "#### Calculating discharge to ocean and surface\n",
    "\n",
    "The information on name of source water is used to determine discharge. It is assumed that all plants that receive their cooling water from the Pacific Ocean, the Atlantic Ocean, the Gulf of Mexico, or various harbors, channels, or sounds return it to the ocean."
   ]
  },
  {
   "cell_type": "code",
   "execution_count": null,
   "metadata": {},
   "outputs": [],
   "source": [
    "#ocean discharge\n",
    "Thermoelectric_df['TEC_OD'] = np.where(Thermoelectric_df['NAME_OF_WATER_SOURCE'].str.contains('Ocean', regex=False),\n",
    "                                       Thermoelectric_df['WITHDRAWAL'] - Thermoelectric_df['CONSUMPTION'], \n",
    "                                       0)\n",
    "#gulf of mexico\n",
    "Thermoelectric_df['TEC_OD'] = np.where(Thermoelectric_df['NAME_OF_WATER_SOURCE'].str.contains('Gulf', regex=False),\n",
    "                                       Thermoelectric_df['WITHDRAWAL'] - Thermoelectric_df['CONSUMPTION'],\n",
    "                                       Thermoelectric_df['TEC_OD'])\n",
    "\n",
    "#only bays with saline water are ocean discharge (some bays are on lakes (e.g. Green Bay))\n",
    "Thermoelectric_df['TEC_OD'] = np.where(Thermoelectric_df['NAME_OF_WATER_SOURCE'].str.contains('Gulf', regex=False) & \n",
    "                                       Thermoelectric_df['TYPE'] == \"SA\",\n",
    "                                       Thermoelectric_df['WITHDRAWAL'] - Thermoelectric_df['CONSUMPTION'],\n",
    "                                       Thermoelectric_df['TEC_OD'])\n",
    "#harbors\n",
    "Thermoelectric_df['TEC_OD'] = np.where(Thermoelectric_df['NAME_OF_WATER_SOURCE'].str.contains('Harbor', regex=False) & \n",
    "                                       Thermoelectric_df['TYPE'] == \"SA\",\n",
    "                                       Thermoelectric_df['WITHDRAWAL'] - Thermoelectric_df['CONSUMPTION'],\n",
    "                                       Thermoelectric_df['TEC_OD'])\n",
    "#channels\n",
    "Thermoelectric_df['TEC_OD'] = np.where(Thermoelectric_df['NAME_OF_WATER_SOURCE'].str.contains('Channel', regex=False) & \n",
    "                                       Thermoelectric_df['TYPE'] == \"SA\",\n",
    "                                       Thermoelectric_df['WITHDRAWAL'] - Thermoelectric_df['CONSUMPTION'],\n",
    "                                       Thermoelectric_df['TEC_OD'])\n",
    "#sounds\n",
    "Thermoelectric_df['TEC_OD'] = np.where(Thermoelectric_df['NAME_OF_WATER_SOURCE'].str.contains('Sound', regex=False) & \n",
    "                                       Thermoelectric_df['TYPE'] == \"SA\",\n",
    "                                       Thermoelectric_df['WITHDRAWAL'] - Thermoelectric_df['CONSUMPTION'],\n",
    "                                       Thermoelectric_df['TEC_OD'])"
   ]
  },
  {
   "cell_type": "code",
   "execution_count": null,
   "metadata": {},
   "outputs": [],
   "source": [
    "Thermoelectric_df['TEC_SD'] = np.where(Thermoelectric_df['TEC_OD'] == 0, \n",
    "                                                  Thermoelectric_df['WITHDRAWAL'] - Thermoelectric_df['CONSUMPTION'], \n",
    "                                                  0)"
   ]
  },
  {
   "cell_type": "markdown",
   "metadata": {},
   "source": [
    "### Grouping Generator Sub-types for Simplification"
   ]
  },
  {
   "cell_type": "code",
   "execution_count": null,
   "metadata": {},
   "outputs": [],
   "source": [
    "Thermoelectric_df[\"GENERATION_TYPE\"] = np.where(Thermoelectric_df[\"GENERATION_TYPE\"]==\"NGCC\",\n",
    "                                                      \"NG\",\n",
    "                                                      Thermoelectric_df[\"GENERATION_TYPE\"])\n",
    "\n",
    "Thermoelectric_df[\"GENERATION_TYPE\"]= np.where(Thermoelectric_df[\"GENERATION_TYPE\"]==\"GAS STEAM\",\n",
    "                                                      \"NG\",\n",
    "                                                      Thermoelectric_df[\"GENERATION_TYPE\"])\n",
    "\n",
    "Thermoelectric_df[\"GENERATION_TYPE\"]= np.where(Thermoelectric_df[\"GENERATION_TYPE\"]==\"OIL\",\n",
    "                                                      \"PET\",\n",
    "                                                      Thermoelectric_df[\"GENERATION_TYPE\"])\n",
    "\n",
    "Thermoelectric_df[\"GENERATION_TYPE\"] = np.where(Thermoelectric_df[\"GENERATION_TYPE\"]==\"OIL CC\",\n",
    "                                                      \"PET\",\n",
    "                                                      Thermoelectric_df[\"GENERATION_TYPE\"])\n",
    "#dropping row where generation type was blank in dataset\n",
    "Thermoelectric_df = Thermoelectric_df[Thermoelectric_df.GENERATION_TYPE != 0]"
   ]
  },
  {
   "cell_type": "code",
   "execution_count": null,
   "metadata": {},
   "outputs": [],
   "source": [
    "Thermoelectric_df[\"SOURCE\"] = np.where(Thermoelectric_df[\"SOURCE\"] == \"UM\", \"OT\",Thermoelectric_df[\"SOURCE\"])\n",
    "\n",
    "Thermoelectric_df[\"SOURCE\"] = np.where(Thermoelectric_df[\"TYPE\"] == \"BE\", \"OT\",Thermoelectric_df[\"SOURCE\"])"
   ]
  },
  {
   "cell_type": "code",
   "execution_count": null,
   "metadata": {},
   "outputs": [],
   "source": [
    "Thermoelectric_df[\"GENERATION_TYPE\"] = Thermoelectric_df[\"GENERATION_TYPE\"].astype(str)\n",
    "\n",
    "Thermoelectric_df[\"In_Flow\"] = Thermoelectric_df[\"TYPE\"] + Thermoelectric_df[\"SOURCE\"] + \"_\" + Thermoelectric_df[\"GENERATION_TYPE\"] + \"_\" + \"PT\""
   ]
  },
  {
   "cell_type": "markdown",
   "metadata": {},
   "source": [
    "### Aggregating Values by Interconnect"
   ]
  },
  {
   "cell_type": "code",
   "execution_count": null,
   "metadata": {},
   "outputs": [],
   "source": [
    "Thermoelectric_Interconnect = Thermoelectric_df.drop([\"Plant Code\"], axis=1)\n",
    "Thermoelectric_Interconnect = Thermoelectric_Interconnect.groupby([\"Interconnect\",\n",
    "                                                                   \"In_Flow\"], as_index=False).sum()"
   ]
  },
  {
   "cell_type": "code",
   "execution_count": null,
   "metadata": {},
   "outputs": [],
   "source": [
    "#Pivoting withdrawal dataframe\n",
    "Thermoelectric_Interconnect_With = Thermoelectric_Interconnect[Thermoelectric_Interconnect.WITHDRAWAL > 0]\n",
    "Thermoelectric_Interconnect_With = pd.pivot_table(Thermoelectric_Interconnect, \n",
    "                                                  values='WITHDRAWAL', index=['Interconnect'],\n",
    "                    columns=['In_Flow'], aggfunc=np.sum)\n",
    "\n",
    "Thermoelectric_Interconnect_With = Thermoelectric_Interconnect_With.reset_index()\n",
    "Thermoelectric_Interconnect_With = Thermoelectric_Interconnect_With.rename_axis(None, axis=1)"
   ]
  },
  {
   "cell_type": "code",
   "execution_count": null,
   "metadata": {},
   "outputs": [],
   "source": [
    "#reorganizing surface discharge\n",
    "PT_SD = Thermoelectric_df.groupby([\"Interconnect\",'GENERATION_TYPE'], as_index=False).sum()\n",
    "PT_SD = PT_SD[[\"Interconnect\", 'GENERATION_TYPE', \"TEC_SD\"]]\n",
    "PT_SD[\"Identifier\"] = PT_SD['GENERATION_TYPE'] + \"_\" + \"SD\" + \"_\"+  \"PT\"\n",
    "PT_SD = PT_SD[PT_SD.TEC_SD > 0]\n",
    "\n",
    "PT_SD = pd.pivot_table(PT_SD, values='TEC_SD', index=['Interconnect'],\n",
    "                    columns=['Identifier'], aggfunc=np.sum)\n",
    "PT_SD = PT_SD.reset_index()\n",
    "PT_SD = PT_SD.rename_axis(None, axis=1)\n",
    "\n",
    "#reorganizing ocean discharge\n",
    "\n",
    "PT_OD = Thermoelectric_df.groupby([\"Interconnect\",'GENERATION_TYPE'], as_index=False).sum()\n",
    "PT_OD = PT_OD[[\"Interconnect\", 'GENERATION_TYPE', \"TEC_OD\"]]\n",
    "PT_OD[\"Identifier\"] = PT_OD['GENERATION_TYPE'] + \"_\" + \"OD\" + \"_\"+  \"PT\"\n",
    "PT_OD = PT_OD[PT_OD.TEC_OD > 0]\n",
    "\n",
    "PT_OD = pd.pivot_table(PT_OD, values='TEC_OD', index=['Interconnect'],\n",
    "                    columns=['Identifier'], aggfunc=np.sum)\n",
    "PT_OD = PT_OD.reset_index()\n",
    "PT_OD = PT_OD.rename_axis(None, axis=1)\n",
    "\n",
    "#reorganizing consumptive use\n",
    "\n",
    "PT_CU = Thermoelectric_df.groupby([\"Interconnect\",'GENERATION_TYPE'], as_index=False).sum()\n",
    "PT_CU = PT_CU[[\"Interconnect\", 'GENERATION_TYPE', \"CONSUMPTION\"]]\n",
    "PT_CU[\"Identifier\"] = PT_CU['GENERATION_TYPE'] + \"_\" + \"CU\" + \"_\"+  \"PT\"\n",
    "PT_CU = PT_CU[PT_CU.CONSUMPTION > 0]\n",
    "\n",
    "PT_CU = pd.pivot_table(PT_CU, values=\"CONSUMPTION\", index=['Interconnect'],\n",
    "                    columns=['Identifier'], aggfunc=np.sum)\n",
    "PT_CU = PT_CU.reset_index()\n",
    "PT_CU = PT_CU.rename_axis(None, axis=1)"
   ]
  },
  {
   "cell_type": "code",
   "execution_count": null,
   "metadata": {},
   "outputs": [],
   "source": [
    "Thermoelectric_discharge = pd.merge(PT_SD, PT_OD, how=\"left\", on = \"Interconnect\")\n",
    "Thermoelectric_discharge = pd.merge(Thermoelectric_discharge, PT_CU, how=\"left\", on = \"Interconnect\")"
   ]
  },
  {
   "cell_type": "markdown",
   "metadata": {},
   "source": [
    "#### Bringing together both the withdrawals by interconnect to each generator type and the discharge from each generator type"
   ]
  },
  {
   "cell_type": "code",
   "execution_count": null,
   "metadata": {},
   "outputs": [],
   "source": [
    "Thermoelectric_cooling = pd.merge(Thermoelectric_Interconnect_With, Thermoelectric_discharge, \n",
    "                                  how=\"left\", on= \"Interconnect\")\n",
    "Thermoelectric_cooling.fillna(0, inplace=True)"
   ]
  },
  {
   "cell_type": "markdown",
   "metadata": {},
   "source": [
    "### Save to an excel file that can be brought in to the main notebook if desired"
   ]
  },
  {
   "cell_type": "code",
   "execution_count": null,
   "metadata": {},
   "outputs": [],
   "source": [
    "Thermoelectric_cooling.to_excel(\"data/Thermoelectric_Cooling_Detail.xlsx\", index=False)"
   ]
  }
 ],
 "metadata": {
  "kernelspec": {
   "display_name": "Python 3",
   "language": "python",
   "name": "python3"
  },
  "language_info": {
   "codemirror_mode": {
    "name": "ipython",
    "version": 3
   },
   "file_extension": ".py",
   "mimetype": "text/x-python",
   "name": "python",
   "nbconvert_exporter": "python",
   "pygments_lexer": "ipython3",
   "version": "3.8.5"
  }
 },
 "nbformat": 4,
 "nbformat_minor": 4
}

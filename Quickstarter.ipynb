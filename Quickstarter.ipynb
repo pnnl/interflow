{
 "cells": [
  {
   "cell_type": "markdown",
   "id": "b9ba29ae",
   "metadata": {},
   "source": [
    "# Welcome to the interflow Quickstarter!\n",
    "\n",
    "**interflow** is an open-source python package for collecting, calculating, organizing, and visualizing cross-sectoral resource interdependencies and flows.\n",
    "\n",
    "This Jupyter Notebook serves a ready-to-go introduction to the package using sample water and energy data for United States counties for the year 2015.\n",
    "\n",
    "For more information on the package, including the user guide, the methodology behind the sample data, and other information, please visit [the interflow documentation](https://pnnl.github.io/interflow/index.html)\n",
    "\n",
    "To visit the GitHub repository where interflow is stored, [go here](https://github.com/pnnl/interflow)"
   ]
  },
  {
   "cell_type": "markdown",
   "id": "60e81930",
   "metadata": {},
   "source": [
    "## Importing the package\n",
    "\n",
    "Click on the cell below and hit ctrl-enter to import the interflow package and its modules."
   ]
  },
  {
   "cell_type": "code",
   "execution_count": 1,
   "id": "a0623a87",
   "metadata": {},
   "outputs": [],
   "source": [
    "# import the package\n",
    "import interflow"
   ]
  },
  {
   "cell_type": "markdown",
   "id": "550a007a",
   "metadata": {},
   "source": [
    "## Loading sample data\n",
    "The interflow package comes with sample data for all counties in the United States for the year 2015. To load the sample input data, run the cell below."
   ]
  },
  {
   "cell_type": "code",
   "execution_count": null,
   "id": "107aa4e4",
   "metadata": {},
   "outputs": [],
   "source": [
    "# read in the sample data\n",
    "data_input = interflow.read_sample_data()"
   ]
  },
  {
   "cell_type": "markdown",
   "id": "82d117bf",
   "metadata": {},
   "source": [
    "## Running the model\n",
    "Now that our input data is prepared, we can run some or all of it through the model to start collecting, computing, and organizing our water and energy flows.\n",
    "\n",
    "#### Selecting an Region\n",
    "The US sample data comes with data for analyzing over 3,000 different US counties. The interflow package is capable of running an individual county at a time or the entire dataset of counties. The cell below selects a single county to run through the model. The counties are presented here under their Federal Information Processing Standards (FIPS) code rather than a name. The cell below sets the region for analysis equal to the FIPS code for New York County, NY (36061). \n",
    "\n",
    "To select other counties from this dataset, any FIPS code can be chosen from the input dataset or retrieved from the list presented here: [County FIPS List](https://pnnl.github.io/interflow/county_list.html)"
   ]
  },
  {
   "cell_type": "markdown",
   "id": "99efb6e1",
   "metadata": {},
   "source": [
    "#### Running the model for a single region\n",
    "Run the cell below to run the model for the select region"
   ]
  },
  {
   "cell_type": "code",
   "execution_count": null,
   "id": "1b44db61",
   "metadata": {},
   "outputs": [],
   "source": [
    "# set the region equal to the FIPS code for New York County, NY\n",
    "region = '36057'"
   ]
  },
  {
   "cell_type": "code",
   "execution_count": null,
   "id": "16bb3a02",
   "metadata": {},
   "outputs": [],
   "source": [
    "# run the model for the select region\n",
    "output = interflow.calculate(data=data_input, region_name=region)"
   ]
  },
  {
   "cell_type": "markdown",
   "id": "d321d3d4",
   "metadata": {},
   "source": [
    "## Observing the output dataset\n",
    "The output dataset is a Pandas DataFrame of flow values between the source sector node (Columns S1 through S5) to the target sector node (Columns T1 through T5) in indicated units. The number after S or T indicates the level of sector granularity where S1 is the major source sector name, S2 is the subsector/application under that sector for that row.\n",
    "\n",
    "The cell below shows the first five rows of the output. We can read the first row of output as the bbtu flow value between the EPD (Energy Production Demand), Biomass Node to the COM, Biomass Demand node for county number 36061."
   ]
  },
  {
   "cell_type": "code",
   "execution_count": null,
   "id": "c3f74fec",
   "metadata": {},
   "outputs": [],
   "source": [
    "output.head()"
   ]
  },
  {
   "cell_type": "markdown",
   "id": "d4615c63",
   "metadata": {},
   "source": [
    "## Visualizing the flows between sectors\n",
    "The output dataset itself provides the values between nodes for both water and energy, however, it is not very intuitive on its own for understanding the relationships between nodes and how resources pass from one to the next. The various visualization tools integrated into the model can help with this."
   ]
  },
  {
   "cell_type": "markdown",
   "id": "c3e9fa1d",
   "metadata": {},
   "source": [
    "### Sankey Diagrams\n",
    "Sankey diagrams show flows between nodes and are able to represent how resources are passed along in a network. The cell below will produce two sankey diagrams with the sample data run output, one for water flows (given in million gallons per day) and one for energy flows (given in billion british thermal units per day)."
   ]
  },
  {
   "cell_type": "code",
   "execution_count": null,
   "id": "3f29d305",
   "metadata": {},
   "outputs": [],
   "source": [
    "# plot sankey diagrams for water and energy\n",
    "viz = interflow.plot_sankey(data=output, region_name= region, \n",
    "                       unit_type1 = 'mgd', unit_type2='bbtu', output_level=1, strip='total')"
   ]
  },
  {
   "cell_type": "markdown",
   "id": "0b178060",
   "metadata": {},
   "source": [
    "### Stacked Sector Bar Charts\n",
    "In addition to sankey diagrams which show the flows from sector to sector, it's useful to see the breakdown within each sector.\n",
    "\n",
    "#### Inflow bar charts\n",
    "The bar chart option allows us to see the breakdown of inflows or outflows to a sector broken up by its subsectors/applications. Setting inflow equal to True will display the values by subsector for each sector in the specified unit."
   ]
  },
  {
   "cell_type": "code",
   "execution_count": null,
   "id": "ae4901f2",
   "metadata": {},
   "outputs": [],
   "source": [
    "# create a list of sectors that you want to see a barchart of\n",
    "sectors = ['WWD', 'EGS', 'PWD']"
   ]
  },
  {
   "cell_type": "code",
   "execution_count": null,
   "id": "b8a2491c",
   "metadata": {},
   "outputs": [],
   "source": [
    "# plot a stacked barchart of inflows to the specified sectors\n",
    "interflow.plot_sector_bar(data=output, unit_type='bbtu', region_name =region, \n",
    "                     sector_list=sectors, inflow=True, strip='total')"
   ]
  },
  {
   "cell_type": "markdown",
   "id": "e262a91e",
   "metadata": {},
   "source": [
    "#### Outflow barcharts\n",
    "To observe where outflows from a sector end up you can set the inflow parameter to False, as shown below."
   ]
  },
  {
   "cell_type": "code",
   "execution_count": null,
   "id": "b05547fc",
   "metadata": {},
   "outputs": [],
   "source": [
    "# plot a stacked barchart of inflows to the specified sectors\n",
    "interflow.plot_sector_bar(data=output, unit_type='bbtu', region_name =region, \n",
    "                     sector_list=sectors, inflow=False, strip='total')"
   ]
  },
  {
   "cell_type": "markdown",
   "id": "0236e778",
   "metadata": {},
   "source": [
    "### Regional Shaded Maps\n",
    "Now that we've looked at the values across all sectors within a specific region, the values within a specific sectors in a specific region, we can additionally look at all values for all regions. This can help us see how values compare from one area to another.\n",
    "\n",
    "The interflow.plot_map() function will shade regions for all values available. In the above example we've only run the model for one of the 3,000+ regions available. Running the map with our current output, therefore, will only show one region shaded. To shade all counties in the US, the full run output needs to be supplied.\n",
    "\n",
    "The model can be run to compute all counties simultaneously simply by not specificing a county in the region parameter. To avoid the computation time required, the full output of the sample data can instead be loaded below."
   ]
  },
  {
   "cell_type": "markdown",
   "id": "a3d88f48",
   "metadata": {},
   "source": [
    "#### Load map data"
   ]
  },
  {
   "cell_type": "code",
   "execution_count": null,
   "id": "68dd1ca1",
   "metadata": {},
   "outputs": [],
   "source": [
    "# load full sample data output for all counties\n",
    "full_output = interflow.load_sample_data_output()\n",
    "\n",
    "# load GeoJSON file of counties\n",
    "geo = interflow.load_sample_geojson_data()"
   ]
  },
  {
   "cell_type": "markdown",
   "id": "59948d8c",
   "metadata": {},
   "source": [
    "#### Generate Cloropleth Map\n",
    "The cloropleth map comes with a dropdown menu of flow values from node to node. Selecting a new value will update the map. Additionally, the map can be generated for various levels of data granularity which will update the dropdown menu to reflect this."
   ]
  },
  {
   "cell_type": "code",
   "execution_count": null,
   "id": "75dd9198",
   "metadata": {
    "scrolled": false
   },
   "outputs": [],
   "source": [
    "# plot flow values in a cloropleth map at level 2 granularity\n",
    "interflow.plot_map(data=full_output, jsonfile = geo, level=2)"
   ]
  }
 ],
 "metadata": {
  "kernelspec": {
   "display_name": "flow",
   "language": "python",
   "name": "flow"
  },
  "language_info": {
   "codemirror_mode": {
    "name": "ipython",
    "version": 3
   },
   "file_extension": ".py",
   "mimetype": "text/x-python",
   "name": "python",
   "nbconvert_exporter": "python",
   "pygments_lexer": "ipython3",
   "version": "3.9.4"
  }
 },
 "nbformat": 4,
 "nbformat_minor": 5
}

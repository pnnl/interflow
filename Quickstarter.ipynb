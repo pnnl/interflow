{
 "cells": [
  {
   "cell_type": "markdown",
   "id": "b9ba29ae",
   "metadata": {},
   "source": [
    "---\n",
    "# Welcome to the interflow Quickstarter!\n",
    "---\n",
    "## Introduction\n",
    "**interflow** is an open-source python package for collecting, calculating, organizing, and visualizing cross-sectoral resource interdependencies and flows.\n",
    "\n",
    "This Jupyter Notebook serves a ready-to-go introduction to the package by walking through two examples:\n",
    "1. Using sample water and energy data for United States counties for the year 2015 included in the package.\n",
    "2. Building input data from scratch and running the model with the created data.\n",
    "\n",
    "For more information on the package, including the user guide, the methodology behind the sample data, and other information, please visit [the interflow documentation](https://pnnl.github.io/interflow/index.html)\n",
    "\n",
    "To visit the interflow GitHub repository, [go here](https://github.com/pnnl/interflow)"
   ]
  },
  {
   "cell_type": "markdown",
   "id": "60e81930",
   "metadata": {},
   "source": [
    "## Importing the package <a class=\"anchor\" id=\"chapter1\"></a>\n",
    "\n",
    "Click on the cell below and hit ctrl-enter to import the interflow package and its modules."
   ]
  },
  {
   "cell_type": "code",
   "execution_count": null,
   "id": "a0623a87",
   "metadata": {},
   "outputs": [],
   "source": [
    "# import the package\n",
    "import interflow"
   ]
  },
  {
   "cell_type": "markdown",
   "id": "deee0af3",
   "metadata": {},
   "source": [
    "# Example 1: Using the US Sample Data\n",
    "This section shows how to load and use the sample input data provided in the package. For a walkthrough on how to build the a dataset from scratch, see [Example 2](#Example2)."
   ]
  },
  {
   "cell_type": "markdown",
   "id": "550a007a",
   "metadata": {},
   "source": [
    "## 1.1 Loading sample data\n",
    "The interflow package comes with sample data for all counties in the United States for the year 2015. To load the sample input data, run the cell below."
   ]
  },
  {
   "cell_type": "code",
   "execution_count": null,
   "id": "107aa4e4",
   "metadata": {},
   "outputs": [],
   "source": [
    "# read in the sample data\n",
    "data_input = interflow.read_sample_data()"
   ]
  },
  {
   "cell_type": "markdown",
   "id": "82d117bf",
   "metadata": {},
   "source": [
    "## 1.2 Running the model\n",
    "Now that our input data is prepared, we can run some or all of it through the model to start collecting, computing, and organizing our water and energy flows.\n",
    "\n",
    "#### Selecting a Region\n",
    "The US sample data comes with data for analyzing over 3,000 different US counties. The interflow package is capable of running an individual county at a time or the entire dataset of counties. The cell below selects a single county to run through the model. The counties are presented here under their Federal Information Processing Standards (FIPS) code rather than a name. The cell below sets the region for analysis equal to the FIPS code for New York County, NY (36061). \n",
    "\n",
    "To select other counties from this dataset, any FIPS code can be chosen from the input dataset or retrieved from the list presented here: [County FIPS List](https://pnnl.github.io/interflow/county_list.html)\n",
    "\n",
    "#### Running the model for a single region\n",
    "Run the cell below to run the model for the select region"
   ]
  },
  {
   "cell_type": "code",
   "execution_count": null,
   "id": "1b44db61",
   "metadata": {},
   "outputs": [],
   "source": [
    "# set the region equal to the FIPS code for New York County, NY\n",
    "region = '36061'"
   ]
  },
  {
   "cell_type": "code",
   "execution_count": null,
   "id": "16bb3a02",
   "metadata": {},
   "outputs": [],
   "source": [
    "# run the model for the select region\n",
    "output = interflow.calculate(data=data_input, region_name=region)"
   ]
  },
  {
   "cell_type": "markdown",
   "id": "d321d3d4",
   "metadata": {},
   "source": [
    "## 1.3 Observing the output dataset\n",
    "The output dataset is a Pandas DataFrame of flow values between the source sector node (Columns S1 through S5) to the target sector node (Columns T1 through T5) in indicated units. The number after S or T indicates the level of sector granularity where S1 is the major source sector name, S2 is the subsector/application under that sector for that row.\n",
    "\n",
    "The cell below shows the first five rows of the output. We can read the first row of output as the flow value between the S (source) node to the T (target) node for the county specified."
   ]
  },
  {
   "cell_type": "code",
   "execution_count": null,
   "id": "c3f74fec",
   "metadata": {},
   "outputs": [],
   "source": [
    "output.head()"
   ]
  },
  {
   "cell_type": "markdown",
   "id": "f526d760",
   "metadata": {},
   "source": [
    "The US sample data uses acronyms for the major sector names. The table in the appendix of this quickstarter shows the definition of each of these abbreviations."
   ]
  },
  {
   "cell_type": "markdown",
   "id": "d4615c63",
   "metadata": {},
   "source": [
    "## 1.4 Visualizing the flows between sectors\n",
    "The output dataset itself provides the values between nodes for both water and energy, however, it is not very intuitive on its own for understanding the relationships between nodes and how resources pass from one to the next. The various visualization tools integrated into the model can help with this."
   ]
  },
  {
   "cell_type": "markdown",
   "id": "c3e9fa1d",
   "metadata": {},
   "source": [
    "### 1.4.1 Sankey Diagrams\n",
    "Sankey diagrams show flows between nodes and are able to represent how resources are passed along in a network. The cell below will produce two sankey diagrams with the sample data run output for the indicated region, one for water flows (given in million gallons per day) and one for energy flows (given in billion british thermal units per day).\n",
    "\n",
    "Only one region can be shown at a time. To see the sankey diagrams for an alternative county, change the county code  up above and re-rerun the .calculate() function cell to update the output that is fed into the cell below.\n",
    "\n",
    "The sankey diagrams are capable of being produced at different levels of granularity. The 'output_level' parameter in the '.plot_sankey()' function adjusts this. The output_level has been set to level 1 below to start to show the lowest level of granularity available. Changing this value to an integer between 1 and 5 inclusive will change the diagram to split out flows to that level of granularity.\n",
    "\n",
    "For more information on this output, see the [key outputs documentation](https://pnnl.github.io/interflow/user_guide.html#single-unit-sankey-diagrams)"
   ]
  },
  {
   "cell_type": "code",
   "execution_count": null,
   "id": "3f29d305",
   "metadata": {},
   "outputs": [],
   "source": [
    "# plot sankey diagrams for water and energy\n",
    "viz = interflow.plot_sankey(data=output, region_name= region, \n",
    "                       unit_type1 = 'mgd', unit_type2='bbtu', output_level=1, strip='total')"
   ]
  },
  {
   "cell_type": "markdown",
   "id": "0b178060",
   "metadata": {},
   "source": [
    "### 1.4.2 Stacked Sector Bar Charts\n",
    "In addition to sankey diagrams which show the flows from sector to sector, it's useful to see the flow breakdown within each sector. For more information on this output, see the [key outputs documentation](https://pnnl.github.io/interflow/user_guide.html#single-region-stacked-barcharts-of-sectors)\n",
    "\n",
    "#### Inflow bar charts\n",
    "The plot_sector_bar() function allows us to see the breakdown of inflows or outflows to a sector broken up by its subsectors/applications. Setting inflow equal to True will display the values by subsector for each sector in the specified unit. Additionally, the chosen units can be adjusted. The code below is currently set to display energy (bbtu) flows for the given county. Changing the 'unit_type' parameter to 'mgd' for the sample data will show the water flow values instead for the indicated sectors.\n",
    "\n",
    "The sectors shown below include the electricity generation sector (EGS) and the residential sector (RES). To adjust the list of sector included for the chosen county, see the acronym list at the end of this notebook."
   ]
  },
  {
   "cell_type": "code",
   "execution_count": null,
   "id": "ae4901f2",
   "metadata": {},
   "outputs": [],
   "source": [
    "# create a list of sectors that you want to see a barchart of\n",
    "sectors = ['EGS', 'RES']"
   ]
  },
  {
   "cell_type": "code",
   "execution_count": null,
   "id": "b8a2491c",
   "metadata": {},
   "outputs": [],
   "source": [
    "# plot a stacked barchart of inflows to the specified sectors\n",
    "interflow.plot_sector_bar(data=output, unit_type='bbtu', region_name =region, \n",
    "                     sector_list=sectors, inflow=True, strip='total')"
   ]
  },
  {
   "cell_type": "markdown",
   "id": "e262a91e",
   "metadata": {},
   "source": [
    "#### Outflow barcharts\n",
    "To observe where outflows from the sector as a whole end up you can set the inflow parameter to False, as shown below."
   ]
  },
  {
   "cell_type": "code",
   "execution_count": null,
   "id": "b05547fc",
   "metadata": {},
   "outputs": [],
   "source": [
    "# plot a stacked barchart of inflows to the specified sectors\n",
    "interflow.plot_sector_bar(data=output, unit_type='bbtu', region_name =region, \n",
    "                     sector_list=sectors, inflow=False, strip='total')"
   ]
  },
  {
   "cell_type": "markdown",
   "id": "0236e778",
   "metadata": {},
   "source": [
    "### 1.4.3 Regional Shaded Maps\n",
    "Now that we've looked at the values across all sectors within a specific region and the values within specific sectors in a  region, we can additionally look at how values compare across all regions.\n",
    "\n",
    "The .plot_map() function generates a choropleth map where the included regions are shaded according to the value of the chosen flow. In the above visualization examples we've only run the model for one of the 3,000+ regions available. The .plot_map() function will only display regions you give it. Therefore, running the map with our current output would only show one region shaded. To shade all counties in the US, the full run output for all counties needs to be supplied.\n",
    "\n",
    "To avoid the computation time required to run the model for all 3,000+ counties here, the full output for all counties has been created and stored in the repository files and can be loaded below.\n",
    "\n",
    "Note that this function additionally requires a geoJSON datafile which is also included in the package datafiles for US counties. \n",
    "\n",
    "For more information on this visualization, visit the [key output documentation](https://pnnl.github.io/interflow/user_guide.html#choropleth-map-displaying-single-flow-values-across-regions)"
   ]
  },
  {
   "cell_type": "markdown",
   "id": "a3d88f48",
   "metadata": {},
   "source": [
    "#### Load map data"
   ]
  },
  {
   "cell_type": "code",
   "execution_count": null,
   "id": "68dd1ca1",
   "metadata": {},
   "outputs": [],
   "source": [
    "# load full sample data output for all counties\n",
    "full_output = interflow.load_sample_data_output()\n",
    "\n",
    "# load GeoJSON file of counties\n",
    "geo = interflow.load_sample_geojson_data()"
   ]
  },
  {
   "cell_type": "markdown",
   "id": "59948d8c",
   "metadata": {},
   "source": [
    "#### Generate Choropleth Map\n",
    "The choropleth map comes with a dropdown menu of flow values from node to node. Selecting a new value will update the map. Additionally, the map can be generated for various levels of data granularity which will update the dropdown menu to reflect this. The map is currently configured to display flow values at level 2 granularity."
   ]
  },
  {
   "cell_type": "code",
   "execution_count": null,
   "id": "75dd9198",
   "metadata": {
    "scrolled": false
   },
   "outputs": [],
   "source": [
    "# plot flow values in a choropleth map at level 2 granularity\n",
    "interflow.plot_map(data=full_output, jsonfile = geo, level=2)"
   ]
  },
  {
   "cell_type": "markdown",
   "id": "02958e9a",
   "metadata": {},
   "source": [
    "----------------\n",
    "<a id=\"Example2\"></a>\n",
    "# Example 2: Building and Using Datasets from Scratch\n",
    "This section will show you how to configure your input data from the ground up to use interflow for your own analysis. This walkthrough gives similar information to the details provided in the [Generalizability Section](https://pnnl.github.io/interflow/user_guide.html#generalizability) of the interflow documentation. For additional details, refer to the documentation."
   ]
  },
  {
   "cell_type": "markdown",
   "id": "32cb156a",
   "metadata": {},
   "source": [
    "## 2.1 Creating input data\n",
    "\n",
    "At its most basic level interflow collects input values connecting two sectors in specified units (e.g., water delivered to the agriculture sector), calculates additional sector flows in alternative units based on intensity factors (e.g., energy demand based on water delivered to the agriculture sector), and builds connections to and from additional sectors to carry those values (e.g., electricity sector connected to agriculture sector to deliver the energy)\n",
    "\n",
    "The steps below walk through how to create the necessary input data to conduct the above calculations."
   ]
  },
  {
   "cell_type": "markdown",
   "id": "c9d51ccd",
   "metadata": {},
   "source": [
    "### 2.1.1 Creating known flow value input data"
   ]
  },
  {
   "cell_type": "markdown",
   "id": "6e31c9d0",
   "metadata": {},
   "source": [
    "We can start by creating a very simple input DataFrame of a single known flow value. The list of lists (inputs) created below will be used to create the DataFrame where each list in the list will be a row of input data. Note that, since this first example is for a known pre-existing flow value, the calculation type is set to 'A_collect'. \n",
    "\n",
    "The example below is creating input data for a region called 'Example1'. The region name must be the first data item, followed by the calculation type. The third through seventh data items are the level 1 through level 5 granularity naming for the primary node. Primary node in this context means the **recieving** node/sector. The eight data item is the unit type associated with the Primary node, in this case \"gal\". Data items nine through fourteen give information for the Secondary node. In this context this is the **sending** node/sector. \n",
    "\n",
    "The code below will tell the model to collect and store a known flow value in gal going from water supply to agriculture. More specifically, it will store the amount of water going from the fresh surface water supply from glacial lakes to the fresh surface water that's used in the crop irrigation of rice in agriculture.\n",
    "\n",
    "A few things to keep  in mind:\n",
    "* The list containing the flow information must match the order and formatting below and value must be provided for each data position or an error will be raised.\n",
    "* Sector and region names should not include the underscore character \"_\" . This will cause the model treat them as separate items and raise an error.\n",
    "* The column headers used below must remain as shown."
   ]
  },
  {
   "cell_type": "code",
   "execution_count": null,
   "id": "858608d6",
   "metadata": {},
   "outputs": [],
   "source": [
    "# import pandas to create the Pandas DataFrame\n",
    "import pandas as pd"
   ]
  },
  {
   "cell_type": "code",
   "execution_count": null,
   "id": "9b9556ec",
   "metadata": {},
   "outputs": [],
   "source": [
    "# create an example known flow value from the secondary to the primary node\n",
    "inputs = [\n",
    "    ['Example1',                                                              # Region name information\n",
    "     'A_collect',                                                             # Calculation type\n",
    "     'Agriculture', 'Fresh', 'Surface', 'Crop', 'Rice', 'gal',                # Primary Node information\n",
    "     'WaterSupply', 'Fresh', 'Surface', 'Lake', 'Glacial', 'gal',             # Secondary Node information\n",
    "     'flow_value', 1000]]                                                     # value of known flow               \n",
    "\n",
    "# convert list to dataframe with the required column names\n",
    "column_names = ['region', 'type', 't1', 't2', 't3', 't4', 't5', 'T_unit', \n",
    "                's1', 's2', 's3', 's4', 's5', 'S_unit', 'parameter', 'value']\n",
    "data = pd.DataFrame(inputs, columns=column_names)\n",
    "\n",
    "# show dataframe\n",
    "data.head()"
   ]
  },
  {
   "cell_type": "markdown",
   "id": "1791a5f7",
   "metadata": {},
   "source": [
    "### 2.1.2 Adding intensity values to do cross-unit calculations\n",
    "\n",
    "Let's build on the dataset we've created above by adding some intensity values to do cross-unit calculations.\n",
    "\n",
    "Let's say we wanted to have the model calculate the amount of energy it takes to pump the 1000 gal of water in the agriculture sector and we know the energy intensity (energy required per unit of water) of pumping the water in this region is 5. To provide this information and tell the model to do this calculation, we need another row of data in our input data file provided below.\n",
    "\n",
    "For these data rows, the primary node information is not an existing target node but a **new** node you're creating. In this case we want to create a new energy node for agriculture irrigation pumping for rice crop. \n",
    "\n",
    "The secondary node information in these data rows is the name of the node with the water value that we want the model to calculate the energy off of. In the case below we are telling the model to calculate the energy associated with the fresh surface water used in the crop irrigation of rice. The intensity parameter indicates that for every gal of fresh surface water used in the rice crop agriculture sector, 5 MWh of energy is required for pumping.\n",
    "\n",
    "Notice when we recreate the input DataFrame with the added information we now have two rows of data, one for the known flow value and one for the energy intensity value."
   ]
  },
  {
   "cell_type": "code",
   "execution_count": null,
   "id": "a4205b36",
   "metadata": {},
   "outputs": [],
   "source": [
    "# create a new list with intensity calculation information\n",
    "intensity_data =['Example1',                                                  # Region name information\n",
    "     'B_calculate',                                                           # Calculation type\n",
    "     'Agriculture', 'Irrigation', 'Pumping', 'Crop', 'Rice', 'MWh',           # Primary Node information\n",
    "     'Agriculture', 'Fresh', 'Surface', 'Crop', 'Rice', 'gal',                # Secondary Node information\n",
    "     'intensity', 5]                                                          # intensity value               \n",
    "\n",
    "# append the new data list to the existing input data list\n",
    "inputs.append(intensity_data)\n",
    "\n",
    "# rebuild the input list to a dataframe with the appropriate column names\n",
    "data = pd.DataFrame(inputs, columns=column_names)\n",
    "data.head()"
   ]
  },
  {
   "cell_type": "markdown",
   "id": "28a19d53",
   "metadata": {},
   "source": [
    "### 2.1.3 Adding source and discharge fraction data\n",
    "Now that we have our known flow value and we have the intensity value to calculate a cross-sector energy flow, we need to tell the model where it should bring the calculated flow from and where we want to discharge it to (if desired).\n",
    "\n",
    "Adding on to the example above, we can create three new data lists to accomplish this. The first two data lists created below (source_data1 and source_data2) are telling the model where we want the calculated total energy in pumping for rice crop irrigation to be coming from. In this case, we want 30% to come from the electricity node and 70% from the natural gas node. A new data row will need to be added for each source the energy comes from.\n",
    "\n",
    "Notice that we don't have to have sub-levels of granularity for nodes and we can fill these in with a placeholder. Here, \"total\" has been used.\n",
    "\n",
    "The same process is used for telling the model to discharge the energy (i.e., send to a downstream node). We can add as many downstream nodes to discharge to as desired. Here, for simplicity, just one has been given with 100% of the energy used in rice crop irrigation being discharged to EnergyServices."
   ]
  },
  {
   "cell_type": "code",
   "execution_count": null,
   "id": "2481ecb7",
   "metadata": {},
   "outputs": [],
   "source": [
    "# create a new list with source fraction from electricity\n",
    "source_data1 =['Example1',                                                    # Region name information\n",
    "     'C_source',                                                              # Calculation type\n",
    "     'Agriculture', 'Irrigation', 'Pumping', 'Crop', 'Rice', 'MWh',           # Primary Node information\n",
    "     'Electricity', 'total', 'total', 'total', 'total', 'MWh',                # Secondary Node information\n",
    "     'fraction', .30]                                                         # source fraction\n",
    "\n",
    "# create a new list with source fraction from natural gas\n",
    "source_data2 =['Example1',                                                    # Region name information\n",
    "     'C_source',                                                              # Calculation type\n",
    "     'Agriculture', 'Irrigation', 'Pumping', 'Crop', 'Rice', 'MWh',           # Primary Node information\n",
    "     'NaturalGas', 'total', 'total', 'total', 'total', 'MWh',                 # Secondary Node information\n",
    "     'fraction', .70]                                                         # source fraction            \n",
    "\n",
    "# create a new list with discharge fraction information to energy services\n",
    "discharge_data =['Example1',                                                  # Region name information\n",
    "     'D_discharge',                                                           # Calculation type\n",
    "     'Agriculture', 'Irrigation', 'Pumping', 'Crop', 'Rice', 'MWh',           # Primary Node information\n",
    "     'EnergyServices', 'total', 'total', 'total', 'total', 'MWh',             # Secondary Node information\n",
    "     'fraction', 1]                                                           # discharge fraction       "
   ]
  },
  {
   "cell_type": "code",
   "execution_count": null,
   "id": "eb070cd5",
   "metadata": {},
   "outputs": [],
   "source": [
    "# append the new data source and discharge fraction data to the existing input data list\n",
    "inputs.append(source_data1)\n",
    "inputs.append(source_data2)\n",
    "inputs.append(discharge_data)\n",
    "\n",
    "# convert input list to dataframe with the appropriate column names\n",
    "data = pd.DataFrame(inputs, columns=column_names)\n",
    "\n",
    "# show the full input dataframe\n",
    "data.head()"
   ]
  },
  {
   "cell_type": "markdown",
   "id": "a83b13b1",
   "metadata": {},
   "source": [
    "## 2.2 Run calculations with created input data file\n",
    "\n",
    "Now that we have an input data file with some known flow data, an intensity value, and source and discharge fractions, we can run the model to calculate the resulting flows."
   ]
  },
  {
   "cell_type": "code",
   "execution_count": null,
   "id": "bb128cc7",
   "metadata": {},
   "outputs": [],
   "source": [
    "# run the model\n",
    "output = interflow.calculate(data=data)\n",
    "\n",
    "# display the output dataframe\n",
    "output.head()"
   ]
  },
  {
   "cell_type": "markdown",
   "id": "5257020a",
   "metadata": {},
   "source": [
    "As expected, given the 1000 gallons of water and 5 MWh/gallon intensity value, the total energy for irrigation pumping for rice crop in agriculture is 5000 MWh. We've told the model that 30% of this energy should come from electricity and 70% from natural gas, which gives us the 1500 MWh and 3500 MWh shown in the output, respectively. We've told the model that 100% of the energy used in rice crop irrigation pumping should be discharged to the Energy Services node, giving us the 5000 to Energy Services."
   ]
  },
  {
   "cell_type": "markdown",
   "id": "f9faadc9",
   "metadata": {},
   "source": [
    "## 2.3 Visualizing the output\n",
    "\n",
    "Running the cell below will show a sankey diagram of the calculated flows between nodes"
   ]
  },
  {
   "cell_type": "code",
   "execution_count": null,
   "id": "495ffc01",
   "metadata": {},
   "outputs": [],
   "source": [
    "interflow.plot_sankey(data=output, unit_type1 = 'gal', unit_type2 = 'MWh', \n",
    "                      region_name = 'Example1', output_level=5, strip='total')"
   ]
  },
  {
   "cell_type": "markdown",
   "id": "0b2c9fae",
   "metadata": {},
   "source": [
    "## Note:\n",
    "The example walked through above was done step by step for each type of data row creation. In reality, these can be created in one step and obtain the same result, as shown below:"
   ]
  },
  {
   "cell_type": "code",
   "execution_count": null,
   "id": "b45efc6a",
   "metadata": {},
   "outputs": [],
   "source": [
    "inputs = [\n",
    "    ['Example1','A_collect','Agriculture', 'Fresh', 'Surface', 'Crop', 'Rice', 'gal',\n",
    "     'WaterSupply', 'Fresh', 'Surface', 'Lake', 'Glacial', 'gal','flow_value', 1000],\n",
    "    ['Example1','B_calculate','Agriculture', 'Irrigation', 'Pumping', 'Crop', 'Rice', 'MWh',\n",
    "     'Agriculture', 'Fresh', 'Surface', 'Crop', 'Rice', 'gal', 'intensity', 5],\n",
    "    ['Example1','C_source', 'Agriculture', 'Irrigation', 'Pumping', 'Crop', 'Rice', 'MWh',\n",
    "     'Electricity', 'total', 'total', 'total', 'total', 'MWh','fraction', .30],\n",
    "    ['Example1','C_source','Agriculture', 'Irrigation', 'Pumping', 'Crop', 'Rice', 'MWh',\n",
    "     'NaturalGas', 'total', 'total', 'total', 'total', 'MWh', 'fraction', .70],\n",
    "    ['Example1','D_discharge','Agriculture', 'Irrigation', 'Pumping', 'Crop', 'Rice', 'MWh', \n",
    "     'EnergyServices', 'total', 'total', 'total', 'total', 'MWh','fraction', 1]]\n",
    "\n",
    "# convert input list to dataframe with the appropriate column names\n",
    "data = pd.DataFrame(inputs, columns=column_names)\n",
    "\n",
    "# run the model\n",
    "output = interflow.calculate(data=data)\n",
    "\n",
    "# display the output dataframe\n",
    "output.head()"
   ]
  },
  {
   "cell_type": "markdown",
   "id": "13f66575",
   "metadata": {},
   "source": [
    "---\n",
    "## Appendix\n",
    "\n",
    "### 1. Useful Links\n",
    "\n",
    "#### [Interflow GitHub Repository](https://github.com/pnnl/interflow)\n",
    "\n",
    "#### [Interflow Documentation](https://pnnl.github.io/interflow/)\n",
    "\n",
    "#### [Sample Data Methodology and References](https://pnnl.github.io/interflow/sample_data.html)\n",
    "\n",
    "\n",
    "### 2. Sample Data Acronym Guide\n",
    "\n",
    "| Acronym | Description|\n",
    "| --- | --- |\n",
    "| AGR | Agriculture Sector|\n",
    "| CVL | Conveyance Losses |\n",
    "| COM | Commercial Sector |\n",
    "| CMP | Consumption/Evaporation |\n",
    "| EGS | Electricity Generation Supply |\n",
    "| EPD | Energy Production Demand |\n",
    "| ESV | Energy Services |\n",
    "| GWD | Ground Discharge |\n",
    "| IND | Industrial Sector |\n",
    "| INX | Discharge to Industrial Sector |\n",
    "| IRX | Discharge to Irrigation |\n",
    "| MIN | Mining Sector |\n",
    "| OCD | Ocean Discharge |\n",
    "| PRD | Produced Water |\n",
    "| PWD | Public Water Demand |\n",
    "| PWI | Public Water Imports |\n",
    "| PWS | Public Water Supply |\n",
    "| PWX | Public Water Exports |\n",
    "| REJ | Rejected Energy |\n",
    "| RES | Residential Sector |\n",
    "| SRD | Surface Discharge |\n",
    "| TRA | Transportation Sector |\n",
    "| WSW | Water Supply Withdrawals |\n",
    "| WWD | Wastewater Treatment |\n",
    "| WWI | Wastewater Imports |\n",
    "| WWS | Wastewater Supply |\n"
   ]
  }
 ],
 "metadata": {
  "kernelspec": {
   "display_name": "flow",
   "language": "python",
   "name": "flow"
  },
  "language_info": {
   "codemirror_mode": {
    "name": "ipython",
    "version": 3
   },
   "file_extension": ".py",
   "mimetype": "text/x-python",
   "name": "python",
   "nbconvert_exporter": "python",
   "pygments_lexer": "ipython3",
   "version": "3.9.4"
  }
 },
 "nbformat": 4,
 "nbformat_minor": 5
}

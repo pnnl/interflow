{
 "cells": [
  {
   "cell_type": "markdown",
   "id": "b9ba29ae",
   "metadata": {},
   "source": [
    "---\n",
    "# Welcome to the interflow Quickstarter!\n",
    "---\n",
    "### Introduction\n",
    "**interflow** is an open-source python package for collecting, calculating, organizing, and visualizing cross-sectoral resource interdependencies and flows.\n",
    "\n",
    "This Jupyter Notebook serves a ready-to-go introduction to the package using sample water and energy data for United States counties for the year 2015.\n",
    "\n",
    "For more information on the package, including the user guide, the methodology behind the sample data, and other information, please visit [the interflow documentation](https://pnnl.github.io/interflow/index.html)\n",
    "\n",
    "To visit the GitHub repository where interflow is stored, [go here](https://github.com/pnnl/interflow)"
   ]
  },
  {
   "cell_type": "markdown",
   "id": "60e81930",
   "metadata": {},
   "source": [
    "## Importing the package\n",
    "\n",
    "Click on the cell below and hit ctrl-enter to import the interflow package and its modules."
   ]
  },
  {
   "cell_type": "code",
   "execution_count": null,
   "id": "a0623a87",
   "metadata": {},
   "outputs": [],
   "source": [
    "# import the package\n",
    "import interflow"
   ]
  },
  {
   "cell_type": "markdown",
   "id": "550a007a",
   "metadata": {},
   "source": [
    "## Loading sample data\n",
    "The interflow package comes with sample data for all counties in the United States for the year 2015. To load the sample input data, run the cell below."
   ]
  },
  {
   "cell_type": "code",
   "execution_count": null,
   "id": "107aa4e4",
   "metadata": {},
   "outputs": [],
   "source": [
    "# read in the sample data\n",
    "data_input = interflow.read_sample_data()"
   ]
  },
  {
   "cell_type": "markdown",
   "id": "82d117bf",
   "metadata": {},
   "source": [
    "## Running the model\n",
    "Now that our input data is prepared, we can run some or all of it through the model to start collecting, computing, and organizing our water and energy flows.\n",
    "\n",
    "#### Selecting a Region\n",
    "The US sample data comes with data for analyzing over 3,000 different US counties. The interflow package is capable of running an individual county at a time or the entire dataset of counties. The cell below selects a single county to run through the model. The counties are presented here under their Federal Information Processing Standards (FIPS) code rather than a name. The cell below sets the region for analysis equal to the FIPS code for New York County, NY (36061). \n",
    "\n",
    "To select other counties from this dataset, any FIPS code can be chosen from the input dataset or retrieved from the list presented here: [County FIPS List](https://pnnl.github.io/interflow/county_list.html)"
   ]
  },
  {
   "cell_type": "markdown",
   "id": "99efb6e1",
   "metadata": {},
   "source": [
    "#### Running the model for a single region\n",
    "Run the cell below to run the model for the select region"
   ]
  },
  {
   "cell_type": "code",
   "execution_count": null,
   "id": "1b44db61",
   "metadata": {},
   "outputs": [],
   "source": [
    "# set the region equal to the FIPS code for New York County, NY\n",
    "region = '36061'"
   ]
  },
  {
   "cell_type": "code",
   "execution_count": null,
   "id": "16bb3a02",
   "metadata": {},
   "outputs": [],
   "source": [
    "# run the model for the select region\n",
    "output = interflow.calculate(data=data_input, region_name=region)"
   ]
  },
  {
   "cell_type": "markdown",
   "id": "d321d3d4",
   "metadata": {},
   "source": [
    "## Observing the output dataset\n",
    "The output dataset is a Pandas DataFrame of flow values between the source sector node (Columns S1 through S5) to the target sector node (Columns T1 through T5) in indicated units. The number after S or T indicates the level of sector granularity where S1 is the major source sector name, S2 is the subsector/application under that sector for that row.\n",
    "\n",
    "The cell below shows the first five rows of the output. We can read the first row of output as the flow value between the S (source) node to the T (target) node for the county specified."
   ]
  },
  {
   "cell_type": "code",
   "execution_count": null,
   "id": "c3f74fec",
   "metadata": {},
   "outputs": [],
   "source": [
    "output.head()"
   ]
  },
  {
   "cell_type": "markdown",
   "id": "f526d760",
   "metadata": {},
   "source": [
    "The US sample data uses acronyms for the major sector names. The table in the appendix of this quickstarter shows the definition of each of these abbreviations."
   ]
  },
  {
   "cell_type": "markdown",
   "id": "d4615c63",
   "metadata": {},
   "source": [
    "## Visualizing the flows between sectors\n",
    "The output dataset itself provides the values between nodes for both water and energy, however, it is not very intuitive on its own for understanding the relationships between nodes and how resources pass from one to the next. The various visualization tools integrated into the model can help with this."
   ]
  },
  {
   "cell_type": "markdown",
   "id": "c3e9fa1d",
   "metadata": {},
   "source": [
    "### Sankey Diagrams\n",
    "Sankey diagrams show flows between nodes and are able to represent how resources are passed along in a network. The cell below will produce two sankey diagrams with the sample data run output for the indicated region, one for water flows (given in million gallons per day) and one for energy flows (given in billion british thermal units per day).\n",
    "\n",
    "Only one region can be shown at a time. To see the sankey diagrams for an alternative county, change the county code  up above and re-rerun the .calculate() function cell to update the output that is fed into the cell below.\n",
    "\n",
    "The sankey diagrams are capable of being produced at different levels of granularity. The 'output_level' parameter in the '.plot_sankey() function adjusts. The output_level has been set to level 1 below to start to show the lowest level of granularity available. Changing this value to an integer between 1 and 5 inclusive will change the diagram to split out flows to that level of granularity.\n",
    "\n",
    "For more information on this output, see the [key outputs documentation](https://pnnl.github.io/interflow/user_guide.html#single-unit-sankey-diagrams)"
   ]
  },
  {
   "cell_type": "code",
   "execution_count": null,
   "id": "3f29d305",
   "metadata": {},
   "outputs": [],
   "source": [
    "# plot sankey diagrams for water and energy\n",
    "viz = interflow.plot_sankey(data=output, region_name= region, \n",
    "                       unit_type1 = 'mgd', unit_type2='bbtu', output_level=1, strip='total')"
   ]
  },
  {
   "cell_type": "markdown",
   "id": "0b178060",
   "metadata": {},
   "source": [
    "### Stacked Sector Bar Charts\n",
    "In addition to sankey diagrams which show the flows from sector to sector, it's useful to see the flow breakdown within each sector. For more information on this output, see the [key outputs documentation](https://pnnl.github.io/interflow/user_guide.html#single-region-stacked-barcharts-of-sectors)\n",
    "\n",
    "#### Inflow bar charts\n",
    "The plot_sector_bar() function allows us to see the breakdown of inflows or outflows to a sector broken up by its subsectors/applications. Setting inflow equal to True will display the values by subsector for each sector in the specified unit. Additionally, the chosen units can be adjusted. The code below is currently set to display energy (bbtu) flows for the given county. Changing the 'unit_type' parameter to 'mgd' for the sample data will show the water flow values instead for the indicated sectors.\n",
    "\n",
    "The sectors shown below include the electricity generation sector (EGS) and the residential sector (RES). To adjust the list of sector included for the chosen county, see the acronym list at the end of this notebook."
   ]
  },
  {
   "cell_type": "code",
   "execution_count": null,
   "id": "ae4901f2",
   "metadata": {},
   "outputs": [],
   "source": [
    "# create a list of sectors that you want to see a barchart of\n",
    "sectors = ['EGS', 'RES']"
   ]
  },
  {
   "cell_type": "code",
   "execution_count": null,
   "id": "b8a2491c",
   "metadata": {},
   "outputs": [],
   "source": [
    "# plot a stacked barchart of inflows to the specified sectors\n",
    "interflow.plot_sector_bar(data=output, unit_type='bbtu', region_name =region, \n",
    "                     sector_list=sectors, inflow=True, strip='total')"
   ]
  },
  {
   "cell_type": "markdown",
   "id": "e262a91e",
   "metadata": {},
   "source": [
    "#### Outflow barcharts\n",
    "To observe where outflows from the sector as a whole end up you can set the inflow parameter to False, as shown below."
   ]
  },
  {
   "cell_type": "code",
   "execution_count": null,
   "id": "b05547fc",
   "metadata": {},
   "outputs": [],
   "source": [
    "# plot a stacked barchart of inflows to the specified sectors\n",
    "interflow.plot_sector_bar(data=output, unit_type='bbtu', region_name =region, \n",
    "                     sector_list=sectors, inflow=False, strip='total')"
   ]
  },
  {
   "cell_type": "markdown",
   "id": "0236e778",
   "metadata": {},
   "source": [
    "### Regional Shaded Maps\n",
    "Now that we've looked at the values across all sectors within a specific region and the values within specific sectors in a  region, we can additionally look at how values compare across all regions.\n",
    "\n",
    "The .plot_map() function generates a choropleth map where the included regions are shaded according to the value of the chosen flow. In the above visualization examples we've only run the model for one of the 3,000+ regions available. The .plot_map() function will only display regions you give it. Therefore, running the map with our current output would only show one region shaded. To shade all counties in the US, the full run output for all counties needs to be supplied.\n",
    "\n",
    "To avoid the computation time required to run the model for all 3,000+ counties here, the full output for all counties has been created and stored in the repository files and can be loaded below.\n",
    "\n",
    "Note that this function additionally requires a geoJSON datafile which is also included in the package datafiles for US counties. \n",
    "\n",
    "For more information on this visualization, visit the [key output documentation](https://pnnl.github.io/interflow/user_guide.html#choropleth-map-displaying-single-flow-values-across-regions)"
   ]
  },
  {
   "cell_type": "markdown",
   "id": "a3d88f48",
   "metadata": {},
   "source": [
    "#### Load map data"
   ]
  },
  {
   "cell_type": "code",
   "execution_count": null,
   "id": "68dd1ca1",
   "metadata": {},
   "outputs": [],
   "source": [
    "# load full sample data output for all counties\n",
    "full_output = interflow.load_sample_data_output()\n",
    "\n",
    "# load GeoJSON file of counties\n",
    "geo = interflow.load_sample_geojson_data()"
   ]
  },
  {
   "cell_type": "markdown",
   "id": "59948d8c",
   "metadata": {},
   "source": [
    "#### Generate Choropleth Map\n",
    "The choropleth map comes with a dropdown menu of flow values from node to node. Selecting a new value will update the map. Additionally, the map can be generated for various levels of data granularity which will update the dropdown menu to reflect this. The map is currently configured to display flow values at level 2 granularity."
   ]
  },
  {
   "cell_type": "code",
   "execution_count": null,
   "id": "75dd9198",
   "metadata": {
    "scrolled": false
   },
   "outputs": [],
   "source": [
    "# plot flow values in a choropleth map at level 2 granularity\n",
    "interflow.plot_map(data=full_output, jsonfile = geo, level=2)"
   ]
  },
  {
   "cell_type": "markdown",
   "id": "13f66575",
   "metadata": {},
   "source": [
    "---\n",
    "## Appendix\n",
    "\n",
    "### 1. Useful Links\n",
    "\n",
    "#### [Interflow GitHub Repository](https://github.com/pnnl/interflow)\n",
    "\n",
    "#### [Interflow Documentation](https://pnnl.github.io/interflow/)\n",
    "\n",
    "#### [Sample Data Methodology and References](https://pnnl.github.io/interflow/sample_data.html)\n",
    "\n",
    "\n",
    "### 2. Sample Data Acronym Guide\n",
    "\n",
    "| Acronym | Description|\n",
    "| --- | --- |\n",
    "| AGR | Agriculture Sector|\n",
    "| CVL | Conveyance Losses |\n",
    "| COM | Commercial Sector |\n",
    "| CMP | Consumption/Evaporation |\n",
    "| EGS | Electricity Generation Supply |\n",
    "| EPD | Energy Production Demand |\n",
    "| ESV | Energy Services |\n",
    "| GWD | Ground Discharge |\n",
    "| IND | Industrial Sector |\n",
    "| INX | Discharge to Industrial Sector |\n",
    "| IRX | Discharge to Irrigation |\n",
    "| MIN | Mining Sector |\n",
    "| OCD | Ocean Discharge |\n",
    "| PRD | Produced Water |\n",
    "| PWD | Public Water Demand |\n",
    "| PWI | Public Water Imports |\n",
    "| PWS | Public Water Supply |\n",
    "| PWX | Public Water Exports |\n",
    "| REJ | Rejected Energy |\n",
    "| RES | Residential Sector |\n",
    "| SRD | Surface Discharge |\n",
    "| TRA | Transportation Sector |\n",
    "| WSW | Water Supply Withdrawals |\n",
    "| WWD | Wastewater Treatment |\n",
    "| WWI | Wastewater Imports |\n",
    "| WWS | Wastewater Supply |\n"
   ]
  }
 ],
 "metadata": {
  "kernelspec": {
   "display_name": "flow",
   "language": "python",
   "name": "flow"
  },
  "language_info": {
   "codemirror_mode": {
    "name": "ipython",
    "version": 3
   },
   "file_extension": ".py",
   "mimetype": "text/x-python",
   "name": "python",
   "nbconvert_exporter": "python",
   "pygments_lexer": "ipython3",
   "version": "3.9.4"
  }
 },
 "nbformat": 4,
 "nbformat_minor": 5
}
